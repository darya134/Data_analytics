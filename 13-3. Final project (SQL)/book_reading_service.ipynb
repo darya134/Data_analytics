{
 "cells": [
  {
   "cell_type": "markdown",
   "metadata": {},
   "source": [
    "# An analysis of the subscription-based book-reading service's database"
   ]
  },
  {
   "cell_type": "markdown",
   "metadata": {},
   "source": [
    "## Data overview"
   ]
  },
  {
   "cell_type": "code",
   "execution_count": 1,
   "metadata": {},
   "outputs": [],
   "source": [
    "# suppressing warnings\n",
    "import warnings\n",
    "warnings.filterwarnings('ignore')"
   ]
  },
  {
   "cell_type": "code",
   "execution_count": 2,
   "metadata": {},
   "outputs": [],
   "source": [
    "# importing libraries\n",
    "import pandas as pd\n",
    "from sqlalchemy import create_engine"
   ]
  },
  {
   "cell_type": "code",
   "execution_count": 4,
   "metadata": {},
   "outputs": [],
   "source": [
    "# setting parameters\n",
    "db_config = {'user': 'praktikum_student',\n",
    "             'pwd': 'Sdf4$2;d-d30pp', \n",
    "             'host': 'rc1b-wcoijxj3yxfsf3fs.mdb.yandexcloud.net',\n",
    "             'port': 6432, \n",
    "             'db': 'data-analyst-final-project-db'} \n",
    "\n",
    "connection_string = 'postgresql://{}:{}@{}:{}/{}'.format(db_config['user'],\n",
    "                                                         db_config['pwd'],\n",
    "                                                         db_config['host'],\n",
    "                                                         db_config['port'],\n",
    "                                                         db_config['db'])"
   ]
  },
  {
   "cell_type": "code",
   "execution_count": 5,
   "metadata": {},
   "outputs": [],
   "source": [
    "# saving the connector\n",
    "engine = create_engine(connection_string, connect_args={'sslmode':'require'}) "
   ]
  },
  {
   "cell_type": "code",
   "execution_count": 6,
   "metadata": {
    "scrolled": true
   },
   "outputs": [
    {
     "name": "stdout",
     "output_type": "stream",
     "text": [
      "\n",
      "Table - books\n"
     ]
    },
    {
     "data": {
      "text/html": [
       "<div>\n",
       "<style scoped>\n",
       "    .dataframe tbody tr th:only-of-type {\n",
       "        vertical-align: middle;\n",
       "    }\n",
       "\n",
       "    .dataframe tbody tr th {\n",
       "        vertical-align: top;\n",
       "    }\n",
       "\n",
       "    .dataframe thead th {\n",
       "        text-align: right;\n",
       "    }\n",
       "</style>\n",
       "<table border=\"1\" class=\"dataframe\">\n",
       "  <thead>\n",
       "    <tr style=\"text-align: right;\">\n",
       "      <th></th>\n",
       "      <th>book_id</th>\n",
       "      <th>author_id</th>\n",
       "      <th>title</th>\n",
       "      <th>num_pages</th>\n",
       "      <th>publication_date</th>\n",
       "      <th>publisher_id</th>\n",
       "    </tr>\n",
       "  </thead>\n",
       "  <tbody>\n",
       "    <tr>\n",
       "      <th>0</th>\n",
       "      <td>1</td>\n",
       "      <td>546</td>\n",
       "      <td>'Salem's Lot</td>\n",
       "      <td>594</td>\n",
       "      <td>2005-11-01</td>\n",
       "      <td>93</td>\n",
       "    </tr>\n",
       "    <tr>\n",
       "      <th>1</th>\n",
       "      <td>2</td>\n",
       "      <td>465</td>\n",
       "      <td>1 000 Places to See Before You Die</td>\n",
       "      <td>992</td>\n",
       "      <td>2003-05-22</td>\n",
       "      <td>336</td>\n",
       "    </tr>\n",
       "    <tr>\n",
       "      <th>2</th>\n",
       "      <td>3</td>\n",
       "      <td>407</td>\n",
       "      <td>13 Little Blue Envelopes (Little Blue Envelope...</td>\n",
       "      <td>322</td>\n",
       "      <td>2010-12-21</td>\n",
       "      <td>135</td>\n",
       "    </tr>\n",
       "    <tr>\n",
       "      <th>3</th>\n",
       "      <td>4</td>\n",
       "      <td>82</td>\n",
       "      <td>1491: New Revelations of the Americas Before C...</td>\n",
       "      <td>541</td>\n",
       "      <td>2006-10-10</td>\n",
       "      <td>309</td>\n",
       "    </tr>\n",
       "    <tr>\n",
       "      <th>4</th>\n",
       "      <td>5</td>\n",
       "      <td>125</td>\n",
       "      <td>1776</td>\n",
       "      <td>386</td>\n",
       "      <td>2006-07-04</td>\n",
       "      <td>268</td>\n",
       "    </tr>\n",
       "  </tbody>\n",
       "</table>\n",
       "</div>"
      ],
      "text/plain": [
       "   book_id  author_id                                              title  \\\n",
       "0        1        546                                       'Salem's Lot   \n",
       "1        2        465                 1 000 Places to See Before You Die   \n",
       "2        3        407  13 Little Blue Envelopes (Little Blue Envelope...   \n",
       "3        4         82  1491: New Revelations of the Americas Before C...   \n",
       "4        5        125                                               1776   \n",
       "\n",
       "   num_pages publication_date  publisher_id  \n",
       "0        594       2005-11-01            93  \n",
       "1        992       2003-05-22           336  \n",
       "2        322       2010-12-21           135  \n",
       "3        541       2006-10-10           309  \n",
       "4        386       2006-07-04           268  "
      ]
     },
     "metadata": {},
     "output_type": "display_data"
    },
    {
     "name": "stdout",
     "output_type": "stream",
     "text": [
      "<class 'pandas.core.frame.DataFrame'>\n",
      "RangeIndex: 1000 entries, 0 to 999\n",
      "Data columns (total 6 columns):\n",
      "book_id             1000 non-null int64\n",
      "author_id           1000 non-null int64\n",
      "title               1000 non-null object\n",
      "num_pages           1000 non-null int64\n",
      "publication_date    1000 non-null object\n",
      "publisher_id        1000 non-null int64\n",
      "dtypes: int64(4), object(2)\n",
      "memory usage: 47.0+ KB\n",
      "None\n",
      "\n",
      "Table - authors\n"
     ]
    },
    {
     "data": {
      "text/html": [
       "<div>\n",
       "<style scoped>\n",
       "    .dataframe tbody tr th:only-of-type {\n",
       "        vertical-align: middle;\n",
       "    }\n",
       "\n",
       "    .dataframe tbody tr th {\n",
       "        vertical-align: top;\n",
       "    }\n",
       "\n",
       "    .dataframe thead th {\n",
       "        text-align: right;\n",
       "    }\n",
       "</style>\n",
       "<table border=\"1\" class=\"dataframe\">\n",
       "  <thead>\n",
       "    <tr style=\"text-align: right;\">\n",
       "      <th></th>\n",
       "      <th>author_id</th>\n",
       "      <th>author</th>\n",
       "    </tr>\n",
       "  </thead>\n",
       "  <tbody>\n",
       "    <tr>\n",
       "      <th>0</th>\n",
       "      <td>1</td>\n",
       "      <td>A.S. Byatt</td>\n",
       "    </tr>\n",
       "    <tr>\n",
       "      <th>1</th>\n",
       "      <td>2</td>\n",
       "      <td>Aesop/Laura Harris/Laura Gibbs</td>\n",
       "    </tr>\n",
       "    <tr>\n",
       "      <th>2</th>\n",
       "      <td>3</td>\n",
       "      <td>Agatha Christie</td>\n",
       "    </tr>\n",
       "    <tr>\n",
       "      <th>3</th>\n",
       "      <td>4</td>\n",
       "      <td>Alan Brennert</td>\n",
       "    </tr>\n",
       "    <tr>\n",
       "      <th>4</th>\n",
       "      <td>5</td>\n",
       "      <td>Alan Moore/David   Lloyd</td>\n",
       "    </tr>\n",
       "  </tbody>\n",
       "</table>\n",
       "</div>"
      ],
      "text/plain": [
       "   author_id                          author\n",
       "0          1                      A.S. Byatt\n",
       "1          2  Aesop/Laura Harris/Laura Gibbs\n",
       "2          3                 Agatha Christie\n",
       "3          4                   Alan Brennert\n",
       "4          5        Alan Moore/David   Lloyd"
      ]
     },
     "metadata": {},
     "output_type": "display_data"
    },
    {
     "name": "stdout",
     "output_type": "stream",
     "text": [
      "<class 'pandas.core.frame.DataFrame'>\n",
      "RangeIndex: 636 entries, 0 to 635\n",
      "Data columns (total 2 columns):\n",
      "author_id    636 non-null int64\n",
      "author       636 non-null object\n",
      "dtypes: int64(1), object(1)\n",
      "memory usage: 10.0+ KB\n",
      "None\n",
      "\n",
      "Table - publishers\n"
     ]
    },
    {
     "data": {
      "text/html": [
       "<div>\n",
       "<style scoped>\n",
       "    .dataframe tbody tr th:only-of-type {\n",
       "        vertical-align: middle;\n",
       "    }\n",
       "\n",
       "    .dataframe tbody tr th {\n",
       "        vertical-align: top;\n",
       "    }\n",
       "\n",
       "    .dataframe thead th {\n",
       "        text-align: right;\n",
       "    }\n",
       "</style>\n",
       "<table border=\"1\" class=\"dataframe\">\n",
       "  <thead>\n",
       "    <tr style=\"text-align: right;\">\n",
       "      <th></th>\n",
       "      <th>publisher_id</th>\n",
       "      <th>publisher</th>\n",
       "    </tr>\n",
       "  </thead>\n",
       "  <tbody>\n",
       "    <tr>\n",
       "      <th>0</th>\n",
       "      <td>1</td>\n",
       "      <td>Ace</td>\n",
       "    </tr>\n",
       "    <tr>\n",
       "      <th>1</th>\n",
       "      <td>2</td>\n",
       "      <td>Ace Book</td>\n",
       "    </tr>\n",
       "    <tr>\n",
       "      <th>2</th>\n",
       "      <td>3</td>\n",
       "      <td>Ace Books</td>\n",
       "    </tr>\n",
       "    <tr>\n",
       "      <th>3</th>\n",
       "      <td>4</td>\n",
       "      <td>Ace Hardcover</td>\n",
       "    </tr>\n",
       "    <tr>\n",
       "      <th>4</th>\n",
       "      <td>5</td>\n",
       "      <td>Addison Wesley Publishing Company</td>\n",
       "    </tr>\n",
       "  </tbody>\n",
       "</table>\n",
       "</div>"
      ],
      "text/plain": [
       "   publisher_id                          publisher\n",
       "0             1                                Ace\n",
       "1             2                           Ace Book\n",
       "2             3                          Ace Books\n",
       "3             4                      Ace Hardcover\n",
       "4             5  Addison Wesley Publishing Company"
      ]
     },
     "metadata": {},
     "output_type": "display_data"
    },
    {
     "name": "stdout",
     "output_type": "stream",
     "text": [
      "<class 'pandas.core.frame.DataFrame'>\n",
      "RangeIndex: 340 entries, 0 to 339\n",
      "Data columns (total 2 columns):\n",
      "publisher_id    340 non-null int64\n",
      "publisher       340 non-null object\n",
      "dtypes: int64(1), object(1)\n",
      "memory usage: 5.4+ KB\n",
      "None\n",
      "\n",
      "Table - ratings\n"
     ]
    },
    {
     "data": {
      "text/html": [
       "<div>\n",
       "<style scoped>\n",
       "    .dataframe tbody tr th:only-of-type {\n",
       "        vertical-align: middle;\n",
       "    }\n",
       "\n",
       "    .dataframe tbody tr th {\n",
       "        vertical-align: top;\n",
       "    }\n",
       "\n",
       "    .dataframe thead th {\n",
       "        text-align: right;\n",
       "    }\n",
       "</style>\n",
       "<table border=\"1\" class=\"dataframe\">\n",
       "  <thead>\n",
       "    <tr style=\"text-align: right;\">\n",
       "      <th></th>\n",
       "      <th>rating_id</th>\n",
       "      <th>book_id</th>\n",
       "      <th>username</th>\n",
       "      <th>rating</th>\n",
       "    </tr>\n",
       "  </thead>\n",
       "  <tbody>\n",
       "    <tr>\n",
       "      <th>0</th>\n",
       "      <td>1</td>\n",
       "      <td>1</td>\n",
       "      <td>ryanfranco</td>\n",
       "      <td>4</td>\n",
       "    </tr>\n",
       "    <tr>\n",
       "      <th>1</th>\n",
       "      <td>2</td>\n",
       "      <td>1</td>\n",
       "      <td>grantpatricia</td>\n",
       "      <td>2</td>\n",
       "    </tr>\n",
       "    <tr>\n",
       "      <th>2</th>\n",
       "      <td>3</td>\n",
       "      <td>1</td>\n",
       "      <td>brandtandrea</td>\n",
       "      <td>5</td>\n",
       "    </tr>\n",
       "    <tr>\n",
       "      <th>3</th>\n",
       "      <td>4</td>\n",
       "      <td>2</td>\n",
       "      <td>lorichen</td>\n",
       "      <td>3</td>\n",
       "    </tr>\n",
       "    <tr>\n",
       "      <th>4</th>\n",
       "      <td>5</td>\n",
       "      <td>2</td>\n",
       "      <td>mariokeller</td>\n",
       "      <td>2</td>\n",
       "    </tr>\n",
       "  </tbody>\n",
       "</table>\n",
       "</div>"
      ],
      "text/plain": [
       "   rating_id  book_id       username  rating\n",
       "0          1        1     ryanfranco       4\n",
       "1          2        1  grantpatricia       2\n",
       "2          3        1   brandtandrea       5\n",
       "3          4        2       lorichen       3\n",
       "4          5        2    mariokeller       2"
      ]
     },
     "metadata": {},
     "output_type": "display_data"
    },
    {
     "name": "stdout",
     "output_type": "stream",
     "text": [
      "<class 'pandas.core.frame.DataFrame'>\n",
      "RangeIndex: 6456 entries, 0 to 6455\n",
      "Data columns (total 4 columns):\n",
      "rating_id    6456 non-null int64\n",
      "book_id      6456 non-null int64\n",
      "username     6456 non-null object\n",
      "rating       6456 non-null int64\n",
      "dtypes: int64(3), object(1)\n",
      "memory usage: 201.8+ KB\n",
      "None\n",
      "\n",
      "Table - reviews\n"
     ]
    },
    {
     "data": {
      "text/html": [
       "<div>\n",
       "<style scoped>\n",
       "    .dataframe tbody tr th:only-of-type {\n",
       "        vertical-align: middle;\n",
       "    }\n",
       "\n",
       "    .dataframe tbody tr th {\n",
       "        vertical-align: top;\n",
       "    }\n",
       "\n",
       "    .dataframe thead th {\n",
       "        text-align: right;\n",
       "    }\n",
       "</style>\n",
       "<table border=\"1\" class=\"dataframe\">\n",
       "  <thead>\n",
       "    <tr style=\"text-align: right;\">\n",
       "      <th></th>\n",
       "      <th>review_id</th>\n",
       "      <th>book_id</th>\n",
       "      <th>username</th>\n",
       "      <th>text</th>\n",
       "    </tr>\n",
       "  </thead>\n",
       "  <tbody>\n",
       "    <tr>\n",
       "      <th>0</th>\n",
       "      <td>1</td>\n",
       "      <td>1</td>\n",
       "      <td>brandtandrea</td>\n",
       "      <td>Mention society tell send professor analysis. ...</td>\n",
       "    </tr>\n",
       "    <tr>\n",
       "      <th>1</th>\n",
       "      <td>2</td>\n",
       "      <td>1</td>\n",
       "      <td>ryanfranco</td>\n",
       "      <td>Foot glass pretty audience hit themselves. Amo...</td>\n",
       "    </tr>\n",
       "    <tr>\n",
       "      <th>2</th>\n",
       "      <td>3</td>\n",
       "      <td>2</td>\n",
       "      <td>lorichen</td>\n",
       "      <td>Listen treat keep worry. Miss husband tax but ...</td>\n",
       "    </tr>\n",
       "    <tr>\n",
       "      <th>3</th>\n",
       "      <td>4</td>\n",
       "      <td>3</td>\n",
       "      <td>johnsonamanda</td>\n",
       "      <td>Finally month interesting blue could nature cu...</td>\n",
       "    </tr>\n",
       "    <tr>\n",
       "      <th>4</th>\n",
       "      <td>5</td>\n",
       "      <td>3</td>\n",
       "      <td>scotttamara</td>\n",
       "      <td>Nation purpose heavy give wait song will. List...</td>\n",
       "    </tr>\n",
       "  </tbody>\n",
       "</table>\n",
       "</div>"
      ],
      "text/plain": [
       "   review_id  book_id       username  \\\n",
       "0          1        1   brandtandrea   \n",
       "1          2        1     ryanfranco   \n",
       "2          3        2       lorichen   \n",
       "3          4        3  johnsonamanda   \n",
       "4          5        3    scotttamara   \n",
       "\n",
       "                                                text  \n",
       "0  Mention society tell send professor analysis. ...  \n",
       "1  Foot glass pretty audience hit themselves. Amo...  \n",
       "2  Listen treat keep worry. Miss husband tax but ...  \n",
       "3  Finally month interesting blue could nature cu...  \n",
       "4  Nation purpose heavy give wait song will. List...  "
      ]
     },
     "metadata": {},
     "output_type": "display_data"
    },
    {
     "name": "stdout",
     "output_type": "stream",
     "text": [
      "<class 'pandas.core.frame.DataFrame'>\n",
      "RangeIndex: 2793 entries, 0 to 2792\n",
      "Data columns (total 4 columns):\n",
      "review_id    2793 non-null int64\n",
      "book_id      2793 non-null int64\n",
      "username     2793 non-null object\n",
      "text         2793 non-null object\n",
      "dtypes: int64(2), object(2)\n",
      "memory usage: 87.4+ KB\n",
      "None\n"
     ]
    }
   ],
   "source": [
    "# creating a function to generate a query, store the result in a DataFrame, display tables and info about them\n",
    "for table in ['books', 'authors', 'publishers', 'ratings', 'reviews']:\n",
    "    query = ''' SELECT *\n",
    "                FROM {}\n",
    "            '''.format(table)\n",
    "    request = pd.io.sql.read_sql(query, con = engine)\n",
    "    print()\n",
    "    print(f'Table - {table}')\n",
    "    display(request.head())\n",
    "    print(request.info())\n",
    "    "
   ]
  },
  {
   "cell_type": "markdown",
   "metadata": {},
   "source": [
    "Successfully displayed all tables. There are no gaps in the data. There are no errors in the data types."
   ]
  },
  {
   "cell_type": "markdown",
   "metadata": {},
   "source": [
    "## Counting how many books have been published since January 1, 2000"
   ]
  },
  {
   "cell_type": "code",
   "execution_count": 8,
   "metadata": {},
   "outputs": [
    {
     "data": {
      "text/html": [
       "<div>\n",
       "<style scoped>\n",
       "    .dataframe tbody tr th:only-of-type {\n",
       "        vertical-align: middle;\n",
       "    }\n",
       "\n",
       "    .dataframe tbody tr th {\n",
       "        vertical-align: top;\n",
       "    }\n",
       "\n",
       "    .dataframe thead th {\n",
       "        text-align: right;\n",
       "    }\n",
       "</style>\n",
       "<table border=\"1\" class=\"dataframe\">\n",
       "  <thead>\n",
       "    <tr style=\"text-align: right;\">\n",
       "      <th></th>\n",
       "      <th>book_count</th>\n",
       "    </tr>\n",
       "  </thead>\n",
       "  <tbody>\n",
       "    <tr>\n",
       "      <th>0</th>\n",
       "      <td>819</td>\n",
       "    </tr>\n",
       "  </tbody>\n",
       "</table>\n",
       "</div>"
      ],
      "text/plain": [
       "   book_count\n",
       "0         819"
      ]
     },
     "execution_count": 8,
     "metadata": {},
     "output_type": "execute_result"
    }
   ],
   "source": [
    "query = ''' SELECT COUNT(book_id) as book_count\n",
    "                   FROM books\n",
    "                   WHERE publication_date > '2000-01-01'\n",
    "        '''\n",
    "books_2000 = pd.io.sql.read_sql(query, con = engine)\n",
    "books_2000"
   ]
  },
  {
   "cell_type": "code",
   "execution_count": 13,
   "metadata": {},
   "outputs": [
    {
     "name": "stdout",
     "output_type": "stream",
     "text": [
      "Since January 1, 2000, 819 books have been published.\n"
     ]
    }
   ],
   "source": [
    "print(f'Since January 1, 2000, {books_2000.iloc[0,0]} books have been published.')"
   ]
  },
  {
   "cell_type": "markdown",
   "metadata": {},
   "source": [
    "## Calculating the average rating and number of reviews for each book"
   ]
  },
  {
   "cell_type": "code",
   "execution_count": 15,
   "metadata": {
    "scrolled": true
   },
   "outputs": [
    {
     "data": {
      "text/html": [
       "<div>\n",
       "<style scoped>\n",
       "    .dataframe tbody tr th:only-of-type {\n",
       "        vertical-align: middle;\n",
       "    }\n",
       "\n",
       "    .dataframe tbody tr th {\n",
       "        vertical-align: top;\n",
       "    }\n",
       "\n",
       "    .dataframe thead th {\n",
       "        text-align: right;\n",
       "    }\n",
       "</style>\n",
       "<table border=\"1\" class=\"dataframe\">\n",
       "  <thead>\n",
       "    <tr style=\"text-align: right;\">\n",
       "      <th></th>\n",
       "      <th>book_title</th>\n",
       "      <th>book_id</th>\n",
       "      <th>review_count</th>\n",
       "      <th>ratings_avg</th>\n",
       "    </tr>\n",
       "  </thead>\n",
       "  <tbody>\n",
       "    <tr>\n",
       "      <th>0</th>\n",
       "      <td>Twilight (Twilight  #1)</td>\n",
       "      <td>948</td>\n",
       "      <td>7</td>\n",
       "      <td>3.7</td>\n",
       "    </tr>\n",
       "    <tr>\n",
       "      <th>1</th>\n",
       "      <td>Harry Potter and the Prisoner of Azkaban (Harr...</td>\n",
       "      <td>302</td>\n",
       "      <td>6</td>\n",
       "      <td>4.4</td>\n",
       "    </tr>\n",
       "    <tr>\n",
       "      <th>2</th>\n",
       "      <td>Harry Potter and the Chamber of Secrets (Harry...</td>\n",
       "      <td>299</td>\n",
       "      <td>6</td>\n",
       "      <td>4.3</td>\n",
       "    </tr>\n",
       "    <tr>\n",
       "      <th>3</th>\n",
       "      <td>The Book Thief</td>\n",
       "      <td>656</td>\n",
       "      <td>6</td>\n",
       "      <td>4.3</td>\n",
       "    </tr>\n",
       "    <tr>\n",
       "      <th>4</th>\n",
       "      <td>The Glass Castle</td>\n",
       "      <td>734</td>\n",
       "      <td>6</td>\n",
       "      <td>4.2</td>\n",
       "    </tr>\n",
       "    <tr>\n",
       "      <th>5</th>\n",
       "      <td>Outlander (Outlander  #1)</td>\n",
       "      <td>497</td>\n",
       "      <td>6</td>\n",
       "      <td>4.1</td>\n",
       "    </tr>\n",
       "    <tr>\n",
       "      <th>6</th>\n",
       "      <td>The Curious Incident of the Dog in the Night-Time</td>\n",
       "      <td>695</td>\n",
       "      <td>6</td>\n",
       "      <td>4.1</td>\n",
       "    </tr>\n",
       "    <tr>\n",
       "      <th>7</th>\n",
       "      <td>The Hobbit  or There and Back Again</td>\n",
       "      <td>750</td>\n",
       "      <td>6</td>\n",
       "      <td>4.1</td>\n",
       "    </tr>\n",
       "    <tr>\n",
       "      <th>8</th>\n",
       "      <td>The Lightning Thief (Percy Jackson and the Oly...</td>\n",
       "      <td>779</td>\n",
       "      <td>6</td>\n",
       "      <td>4.1</td>\n",
       "    </tr>\n",
       "    <tr>\n",
       "      <th>9</th>\n",
       "      <td>Water for Elephants</td>\n",
       "      <td>963</td>\n",
       "      <td>6</td>\n",
       "      <td>4.0</td>\n",
       "    </tr>\n",
       "    <tr>\n",
       "      <th>10</th>\n",
       "      <td>The Alchemist</td>\n",
       "      <td>627</td>\n",
       "      <td>6</td>\n",
       "      <td>3.8</td>\n",
       "    </tr>\n",
       "    <tr>\n",
       "      <th>11</th>\n",
       "      <td>The Catcher in the Rye</td>\n",
       "      <td>673</td>\n",
       "      <td>6</td>\n",
       "      <td>3.8</td>\n",
       "    </tr>\n",
       "    <tr>\n",
       "      <th>12</th>\n",
       "      <td>The Da Vinci Code (Robert Langdon  #2)</td>\n",
       "      <td>696</td>\n",
       "      <td>6</td>\n",
       "      <td>3.8</td>\n",
       "    </tr>\n",
       "    <tr>\n",
       "      <th>13</th>\n",
       "      <td>The Giver (The Giver  #1)</td>\n",
       "      <td>733</td>\n",
       "      <td>6</td>\n",
       "      <td>3.8</td>\n",
       "    </tr>\n",
       "    <tr>\n",
       "      <th>14</th>\n",
       "      <td>The Road</td>\n",
       "      <td>854</td>\n",
       "      <td>6</td>\n",
       "      <td>3.8</td>\n",
       "    </tr>\n",
       "    <tr>\n",
       "      <th>15</th>\n",
       "      <td>Eat  Pray  Love</td>\n",
       "      <td>207</td>\n",
       "      <td>6</td>\n",
       "      <td>3.4</td>\n",
       "    </tr>\n",
       "    <tr>\n",
       "      <th>16</th>\n",
       "      <td>Snow Flower and the Secret Fan</td>\n",
       "      <td>581</td>\n",
       "      <td>5</td>\n",
       "      <td>4.6</td>\n",
       "    </tr>\n",
       "    <tr>\n",
       "      <th>17</th>\n",
       "      <td>And Then There Were None</td>\n",
       "      <td>74</td>\n",
       "      <td>5</td>\n",
       "      <td>4.5</td>\n",
       "    </tr>\n",
       "    <tr>\n",
       "      <th>18</th>\n",
       "      <td>A Clash of Kings  (A Song of Ice and Fire  #2)</td>\n",
       "      <td>15</td>\n",
       "      <td>5</td>\n",
       "      <td>4.4</td>\n",
       "    </tr>\n",
       "    <tr>\n",
       "      <th>19</th>\n",
       "      <td>Gone with the Wind</td>\n",
       "      <td>284</td>\n",
       "      <td>5</td>\n",
       "      <td>4.4</td>\n",
       "    </tr>\n",
       "    <tr>\n",
       "      <th>20</th>\n",
       "      <td>The Fellowship of the Ring (The Lord of the Ri...</td>\n",
       "      <td>722</td>\n",
       "      <td>5</td>\n",
       "      <td>4.4</td>\n",
       "    </tr>\n",
       "    <tr>\n",
       "      <th>21</th>\n",
       "      <td>The Poisonwood Bible</td>\n",
       "      <td>830</td>\n",
       "      <td>5</td>\n",
       "      <td>4.4</td>\n",
       "    </tr>\n",
       "    <tr>\n",
       "      <th>22</th>\n",
       "      <td>The Thirteenth Tale</td>\n",
       "      <td>884</td>\n",
       "      <td>5</td>\n",
       "      <td>4.4</td>\n",
       "    </tr>\n",
       "    <tr>\n",
       "      <th>23</th>\n",
       "      <td>A Tree Grows in Brooklyn</td>\n",
       "      <td>51</td>\n",
       "      <td>5</td>\n",
       "      <td>4.3</td>\n",
       "    </tr>\n",
       "    <tr>\n",
       "      <th>24</th>\n",
       "      <td>The Sea of Monsters (Percy Jackson and the Oly...</td>\n",
       "      <td>862</td>\n",
       "      <td>5</td>\n",
       "      <td>4.3</td>\n",
       "    </tr>\n",
       "    <tr>\n",
       "      <th>25</th>\n",
       "      <td>Harry Potter and the Half-Blood Prince (Harry ...</td>\n",
       "      <td>300</td>\n",
       "      <td>5</td>\n",
       "      <td>4.2</td>\n",
       "    </tr>\n",
       "    <tr>\n",
       "      <th>26</th>\n",
       "      <td>Harry Potter and the Order of the Phoenix (Har...</td>\n",
       "      <td>301</td>\n",
       "      <td>5</td>\n",
       "      <td>4.2</td>\n",
       "    </tr>\n",
       "    <tr>\n",
       "      <th>27</th>\n",
       "      <td>Hatchet (Brian's Saga  #1)</td>\n",
       "      <td>304</td>\n",
       "      <td>5</td>\n",
       "      <td>4.2</td>\n",
       "    </tr>\n",
       "    <tr>\n",
       "      <th>28</th>\n",
       "      <td>Little Women</td>\n",
       "      <td>399</td>\n",
       "      <td>5</td>\n",
       "      <td>4.2</td>\n",
       "    </tr>\n",
       "    <tr>\n",
       "      <th>29</th>\n",
       "      <td>Memoirs of a Geisha</td>\n",
       "      <td>426</td>\n",
       "      <td>5</td>\n",
       "      <td>4.2</td>\n",
       "    </tr>\n",
       "    <tr>\n",
       "      <th>...</th>\n",
       "      <td>...</td>\n",
       "      <td>...</td>\n",
       "      <td>...</td>\n",
       "      <td>...</td>\n",
       "    </tr>\n",
       "    <tr>\n",
       "      <th>970</th>\n",
       "      <td>Hideaway</td>\n",
       "      <td>314</td>\n",
       "      <td>1</td>\n",
       "      <td>4.0</td>\n",
       "    </tr>\n",
       "    <tr>\n",
       "      <th>971</th>\n",
       "      <td>Lysistrata</td>\n",
       "      <td>413</td>\n",
       "      <td>1</td>\n",
       "      <td>4.0</td>\n",
       "    </tr>\n",
       "    <tr>\n",
       "      <th>972</th>\n",
       "      <td>Merrick (The Vampire Chronicles #7)</td>\n",
       "      <td>431</td>\n",
       "      <td>1</td>\n",
       "      <td>4.0</td>\n",
       "    </tr>\n",
       "    <tr>\n",
       "      <th>973</th>\n",
       "      <td>Ranma ½  Vol. 1 (Ranma ½ (US 2nd)  #1)</td>\n",
       "      <td>535</td>\n",
       "      <td>1</td>\n",
       "      <td>4.0</td>\n",
       "    </tr>\n",
       "    <tr>\n",
       "      <th>974</th>\n",
       "      <td>Ten Apples Up On Top!</td>\n",
       "      <td>617</td>\n",
       "      <td>1</td>\n",
       "      <td>4.0</td>\n",
       "    </tr>\n",
       "    <tr>\n",
       "      <th>975</th>\n",
       "      <td>The Iliad/The Odyssey</td>\n",
       "      <td>760</td>\n",
       "      <td>1</td>\n",
       "      <td>4.0</td>\n",
       "    </tr>\n",
       "    <tr>\n",
       "      <th>976</th>\n",
       "      <td>Babyville</td>\n",
       "      <td>92</td>\n",
       "      <td>1</td>\n",
       "      <td>3.5</td>\n",
       "    </tr>\n",
       "    <tr>\n",
       "      <th>977</th>\n",
       "      <td>Everyday Italian: 125 Simple and Delicious Rec...</td>\n",
       "      <td>226</td>\n",
       "      <td>1</td>\n",
       "      <td>3.5</td>\n",
       "    </tr>\n",
       "    <tr>\n",
       "      <th>978</th>\n",
       "      <td>Executive Orders (Jack Ryan  #8)</td>\n",
       "      <td>230</td>\n",
       "      <td>1</td>\n",
       "      <td>3.5</td>\n",
       "    </tr>\n",
       "    <tr>\n",
       "      <th>979</th>\n",
       "      <td>Naked Empire (Sword of Truth  #8)</td>\n",
       "      <td>465</td>\n",
       "      <td>1</td>\n",
       "      <td>3.5</td>\n",
       "    </tr>\n",
       "    <tr>\n",
       "      <th>980</th>\n",
       "      <td>Phantom (Sword of Truth  #10)</td>\n",
       "      <td>510</td>\n",
       "      <td>1</td>\n",
       "      <td>3.5</td>\n",
       "    </tr>\n",
       "    <tr>\n",
       "      <th>981</th>\n",
       "      <td>The Bad Place</td>\n",
       "      <td>639</td>\n",
       "      <td>1</td>\n",
       "      <td>3.5</td>\n",
       "    </tr>\n",
       "    <tr>\n",
       "      <th>982</th>\n",
       "      <td>The Burden of Proof (Kindle County Legal Thril...</td>\n",
       "      <td>666</td>\n",
       "      <td>1</td>\n",
       "      <td>3.5</td>\n",
       "    </tr>\n",
       "    <tr>\n",
       "      <th>983</th>\n",
       "      <td>The Calvin and Hobbes Tenth Anniversary Book</td>\n",
       "      <td>669</td>\n",
       "      <td>1</td>\n",
       "      <td>3.5</td>\n",
       "    </tr>\n",
       "    <tr>\n",
       "      <th>984</th>\n",
       "      <td>The Road Not Taken and Other Poems</td>\n",
       "      <td>855</td>\n",
       "      <td>1</td>\n",
       "      <td>3.5</td>\n",
       "    </tr>\n",
       "    <tr>\n",
       "      <th>985</th>\n",
       "      <td>The Social Contract</td>\n",
       "      <td>872</td>\n",
       "      <td>1</td>\n",
       "      <td>3.5</td>\n",
       "    </tr>\n",
       "    <tr>\n",
       "      <th>986</th>\n",
       "      <td>Wicked: The Grimmerie</td>\n",
       "      <td>980</td>\n",
       "      <td>1</td>\n",
       "      <td>3.5</td>\n",
       "    </tr>\n",
       "    <tr>\n",
       "      <th>987</th>\n",
       "      <td>The Bachman Books</td>\n",
       "      <td>638</td>\n",
       "      <td>1</td>\n",
       "      <td>3.3</td>\n",
       "    </tr>\n",
       "    <tr>\n",
       "      <th>988</th>\n",
       "      <td>Death: The High Cost of Living</td>\n",
       "      <td>186</td>\n",
       "      <td>1</td>\n",
       "      <td>3.0</td>\n",
       "    </tr>\n",
       "    <tr>\n",
       "      <th>989</th>\n",
       "      <td>Debt of Honor (Jack Ryan  #7)</td>\n",
       "      <td>187</td>\n",
       "      <td>1</td>\n",
       "      <td>3.0</td>\n",
       "    </tr>\n",
       "    <tr>\n",
       "      <th>990</th>\n",
       "      <td>Moo  Baa  La La La!</td>\n",
       "      <td>446</td>\n",
       "      <td>1</td>\n",
       "      <td>3.0</td>\n",
       "    </tr>\n",
       "    <tr>\n",
       "      <th>991</th>\n",
       "      <td>1 000 Places to See Before You Die</td>\n",
       "      <td>2</td>\n",
       "      <td>1</td>\n",
       "      <td>2.5</td>\n",
       "    </tr>\n",
       "    <tr>\n",
       "      <th>992</th>\n",
       "      <td>History of Beauty</td>\n",
       "      <td>318</td>\n",
       "      <td>1</td>\n",
       "      <td>2.5</td>\n",
       "    </tr>\n",
       "    <tr>\n",
       "      <th>993</th>\n",
       "      <td>Tsubasa: RESERVoir CHRoNiCLE  Vol. 1</td>\n",
       "      <td>943</td>\n",
       "      <td>1</td>\n",
       "      <td>2.5</td>\n",
       "    </tr>\n",
       "    <tr>\n",
       "      <th>994</th>\n",
       "      <td>The Cat in the Hat and Other Dr. Seuss Favorites</td>\n",
       "      <td>672</td>\n",
       "      <td>0</td>\n",
       "      <td>5.0</td>\n",
       "    </tr>\n",
       "    <tr>\n",
       "      <th>995</th>\n",
       "      <td>Disney's Beauty and the Beast (A Little Golden...</td>\n",
       "      <td>191</td>\n",
       "      <td>0</td>\n",
       "      <td>4.0</td>\n",
       "    </tr>\n",
       "    <tr>\n",
       "      <th>996</th>\n",
       "      <td>Essential Tales and Poems</td>\n",
       "      <td>221</td>\n",
       "      <td>0</td>\n",
       "      <td>4.0</td>\n",
       "    </tr>\n",
       "    <tr>\n",
       "      <th>997</th>\n",
       "      <td>Leonardo's Notebooks</td>\n",
       "      <td>387</td>\n",
       "      <td>0</td>\n",
       "      <td>4.0</td>\n",
       "    </tr>\n",
       "    <tr>\n",
       "      <th>998</th>\n",
       "      <td>Anne Rice's The Vampire Lestat: A Graphic Novel</td>\n",
       "      <td>83</td>\n",
       "      <td>0</td>\n",
       "      <td>3.7</td>\n",
       "    </tr>\n",
       "    <tr>\n",
       "      <th>999</th>\n",
       "      <td>The Natural Way to Draw</td>\n",
       "      <td>808</td>\n",
       "      <td>0</td>\n",
       "      <td>3.0</td>\n",
       "    </tr>\n",
       "  </tbody>\n",
       "</table>\n",
       "<p>1000 rows × 4 columns</p>\n",
       "</div>"
      ],
      "text/plain": [
       "                                            book_title  book_id  review_count  \\\n",
       "0                              Twilight (Twilight  #1)      948             7   \n",
       "1    Harry Potter and the Prisoner of Azkaban (Harr...      302             6   \n",
       "2    Harry Potter and the Chamber of Secrets (Harry...      299             6   \n",
       "3                                       The Book Thief      656             6   \n",
       "4                                     The Glass Castle      734             6   \n",
       "5                            Outlander (Outlander  #1)      497             6   \n",
       "6    The Curious Incident of the Dog in the Night-Time      695             6   \n",
       "7                  The Hobbit  or There and Back Again      750             6   \n",
       "8    The Lightning Thief (Percy Jackson and the Oly...      779             6   \n",
       "9                                  Water for Elephants      963             6   \n",
       "10                                       The Alchemist      627             6   \n",
       "11                              The Catcher in the Rye      673             6   \n",
       "12              The Da Vinci Code (Robert Langdon  #2)      696             6   \n",
       "13                           The Giver (The Giver  #1)      733             6   \n",
       "14                                            The Road      854             6   \n",
       "15                                     Eat  Pray  Love      207             6   \n",
       "16                      Snow Flower and the Secret Fan      581             5   \n",
       "17                            And Then There Were None       74             5   \n",
       "18      A Clash of Kings  (A Song of Ice and Fire  #2)       15             5   \n",
       "19                                  Gone with the Wind      284             5   \n",
       "20   The Fellowship of the Ring (The Lord of the Ri...      722             5   \n",
       "21                                The Poisonwood Bible      830             5   \n",
       "22                                 The Thirteenth Tale      884             5   \n",
       "23                            A Tree Grows in Brooklyn       51             5   \n",
       "24   The Sea of Monsters (Percy Jackson and the Oly...      862             5   \n",
       "25   Harry Potter and the Half-Blood Prince (Harry ...      300             5   \n",
       "26   Harry Potter and the Order of the Phoenix (Har...      301             5   \n",
       "27                          Hatchet (Brian's Saga  #1)      304             5   \n",
       "28                                        Little Women      399             5   \n",
       "29                                 Memoirs of a Geisha      426             5   \n",
       "..                                                 ...      ...           ...   \n",
       "970                                           Hideaway      314             1   \n",
       "971                                         Lysistrata      413             1   \n",
       "972                Merrick (The Vampire Chronicles #7)      431             1   \n",
       "973             Ranma ½  Vol. 1 (Ranma ½ (US 2nd)  #1)      535             1   \n",
       "974                              Ten Apples Up On Top!      617             1   \n",
       "975                              The Iliad/The Odyssey      760             1   \n",
       "976                                          Babyville       92             1   \n",
       "977  Everyday Italian: 125 Simple and Delicious Rec...      226             1   \n",
       "978                   Executive Orders (Jack Ryan  #8)      230             1   \n",
       "979                  Naked Empire (Sword of Truth  #8)      465             1   \n",
       "980                      Phantom (Sword of Truth  #10)      510             1   \n",
       "981                                      The Bad Place      639             1   \n",
       "982  The Burden of Proof (Kindle County Legal Thril...      666             1   \n",
       "983       The Calvin and Hobbes Tenth Anniversary Book      669             1   \n",
       "984                 The Road Not Taken and Other Poems      855             1   \n",
       "985                                The Social Contract      872             1   \n",
       "986                              Wicked: The Grimmerie      980             1   \n",
       "987                                  The Bachman Books      638             1   \n",
       "988                     Death: The High Cost of Living      186             1   \n",
       "989                      Debt of Honor (Jack Ryan  #7)      187             1   \n",
       "990                                Moo  Baa  La La La!      446             1   \n",
       "991                 1 000 Places to See Before You Die        2             1   \n",
       "992                                  History of Beauty      318             1   \n",
       "993               Tsubasa: RESERVoir CHRoNiCLE  Vol. 1      943             1   \n",
       "994   The Cat in the Hat and Other Dr. Seuss Favorites      672             0   \n",
       "995  Disney's Beauty and the Beast (A Little Golden...      191             0   \n",
       "996                          Essential Tales and Poems      221             0   \n",
       "997                               Leonardo's Notebooks      387             0   \n",
       "998    Anne Rice's The Vampire Lestat: A Graphic Novel       83             0   \n",
       "999                            The Natural Way to Draw      808             0   \n",
       "\n",
       "     ratings_avg  \n",
       "0            3.7  \n",
       "1            4.4  \n",
       "2            4.3  \n",
       "3            4.3  \n",
       "4            4.2  \n",
       "5            4.1  \n",
       "6            4.1  \n",
       "7            4.1  \n",
       "8            4.1  \n",
       "9            4.0  \n",
       "10           3.8  \n",
       "11           3.8  \n",
       "12           3.8  \n",
       "13           3.8  \n",
       "14           3.8  \n",
       "15           3.4  \n",
       "16           4.6  \n",
       "17           4.5  \n",
       "18           4.4  \n",
       "19           4.4  \n",
       "20           4.4  \n",
       "21           4.4  \n",
       "22           4.4  \n",
       "23           4.3  \n",
       "24           4.3  \n",
       "25           4.2  \n",
       "26           4.2  \n",
       "27           4.2  \n",
       "28           4.2  \n",
       "29           4.2  \n",
       "..           ...  \n",
       "970          4.0  \n",
       "971          4.0  \n",
       "972          4.0  \n",
       "973          4.0  \n",
       "974          4.0  \n",
       "975          4.0  \n",
       "976          3.5  \n",
       "977          3.5  \n",
       "978          3.5  \n",
       "979          3.5  \n",
       "980          3.5  \n",
       "981          3.5  \n",
       "982          3.5  \n",
       "983          3.5  \n",
       "984          3.5  \n",
       "985          3.5  \n",
       "986          3.5  \n",
       "987          3.3  \n",
       "988          3.0  \n",
       "989          3.0  \n",
       "990          3.0  \n",
       "991          2.5  \n",
       "992          2.5  \n",
       "993          2.5  \n",
       "994          5.0  \n",
       "995          4.0  \n",
       "996          4.0  \n",
       "997          4.0  \n",
       "998          3.7  \n",
       "999          3.0  \n",
       "\n",
       "[1000 rows x 4 columns]"
      ]
     },
     "execution_count": 15,
     "metadata": {},
     "output_type": "execute_result"
    }
   ],
   "source": [
    "query = ''' SELECT DISTINCT b.title as book_title,\n",
    "                   b.book_id,\n",
    "                   COUNT(DISTINCT rv.review_id) as review_count,\n",
    "                   ROUND(AVG(rt.rating), 1) as ratings_avg\n",
    "            FROM books b\n",
    "            LEFT JOIN reviews rv on b.book_id = rv.book_id\n",
    "            LEFT JOIN ratings rt on b.book_id = rt.book_id\n",
    "            GROUP BY b.title,\n",
    "                     b.book_id\n",
    "            ORDER BY review_count DESC, ratings_avg DESC\n",
    "            \n",
    "        '''\n",
    "\n",
    "reviews_cnt = pd.io.sql.read_sql(query, con = engine)\n",
    "reviews_cnt"
   ]
  },
  {
   "cell_type": "code",
   "execution_count": 16,
   "metadata": {},
   "outputs": [
    {
     "name": "stdout",
     "output_type": "stream",
     "text": [
      "Most book reviews - 7, average rating - 3.7.\n"
     ]
    }
   ],
   "source": [
    "print(f'Most book reviews - {reviews_cnt.iloc[0,2]}, average rating - {reviews_cnt.iloc[0,3]}.')"
   ]
  },
  {
   "cell_type": "markdown",
   "metadata": {},
   "source": [
    "## Identifying the publisher that has released the most books over 50 pages - so we won't analyze brochures"
   ]
  },
  {
   "cell_type": "code",
   "execution_count": 18,
   "metadata": {},
   "outputs": [
    {
     "data": {
      "text/html": [
       "<div>\n",
       "<style scoped>\n",
       "    .dataframe tbody tr th:only-of-type {\n",
       "        vertical-align: middle;\n",
       "    }\n",
       "\n",
       "    .dataframe tbody tr th {\n",
       "        vertical-align: top;\n",
       "    }\n",
       "\n",
       "    .dataframe thead th {\n",
       "        text-align: right;\n",
       "    }\n",
       "</style>\n",
       "<table border=\"1\" class=\"dataframe\">\n",
       "  <thead>\n",
       "    <tr style=\"text-align: right;\">\n",
       "      <th></th>\n",
       "      <th>publisher_id</th>\n",
       "      <th>publisher</th>\n",
       "      <th>book_count</th>\n",
       "    </tr>\n",
       "  </thead>\n",
       "  <tbody>\n",
       "    <tr>\n",
       "      <th>0</th>\n",
       "      <td>212</td>\n",
       "      <td>Penguin Books</td>\n",
       "      <td>42</td>\n",
       "    </tr>\n",
       "  </tbody>\n",
       "</table>\n",
       "</div>"
      ],
      "text/plain": [
       "   publisher_id      publisher  book_count\n",
       "0           212  Penguin Books          42"
      ]
     },
     "execution_count": 18,
     "metadata": {},
     "output_type": "execute_result"
    }
   ],
   "source": [
    "query = ''' SELECT DISTINCT p.publisher_id,\n",
    "                   p.publisher,\n",
    "                   COUNT(b.book_id) as book_count\n",
    "            FROM publishers p\n",
    "            LEFT JOIN books b on p.publisher_id = b.publisher_id\n",
    "            WHERE b.num_pages > 50\n",
    "            GROUP BY p.publisher_id\n",
    "            ORDER BY book_count DESC\n",
    "            LIMIT 1\n",
    "        '''\n",
    "publishers_50 = pd.io.sql.read_sql(query, con = engine)\n",
    "publishers_50"
   ]
  },
  {
   "cell_type": "code",
   "execution_count": 20,
   "metadata": {},
   "outputs": [
    {
     "name": "stdout",
     "output_type": "stream",
     "text": [
      "The publisher that has released the most books over 50 pages is Penguin Books. Number of books - 42.\n"
     ]
    }
   ],
   "source": [
    "print(f'The publisher that has released the most books over 50 pages is {publishers_50.iloc[0,1]}. Number of books - {publishers_50.iloc[0,2]}.')"
   ]
  },
  {
   "cell_type": "markdown",
   "metadata": {},
   "source": [
    "## Identifying the author with the highest average rating of books - only take into account books with 50 or more ratings"
   ]
  },
  {
   "cell_type": "code",
   "execution_count": 21,
   "metadata": {},
   "outputs": [
    {
     "data": {
      "text/html": [
       "<div>\n",
       "<style scoped>\n",
       "    .dataframe tbody tr th:only-of-type {\n",
       "        vertical-align: middle;\n",
       "    }\n",
       "\n",
       "    .dataframe tbody tr th {\n",
       "        vertical-align: top;\n",
       "    }\n",
       "\n",
       "    .dataframe thead th {\n",
       "        text-align: right;\n",
       "    }\n",
       "</style>\n",
       "<table border=\"1\" class=\"dataframe\">\n",
       "  <thead>\n",
       "    <tr style=\"text-align: right;\">\n",
       "      <th></th>\n",
       "      <th>author_id</th>\n",
       "      <th>author</th>\n",
       "      <th>rating_avg</th>\n",
       "    </tr>\n",
       "  </thead>\n",
       "  <tbody>\n",
       "    <tr>\n",
       "      <th>0</th>\n",
       "      <td>236</td>\n",
       "      <td>J.K. Rowling/Mary GrandPré</td>\n",
       "      <td>4.3</td>\n",
       "    </tr>\n",
       "    <tr>\n",
       "      <th>1</th>\n",
       "      <td>402</td>\n",
       "      <td>Markus Zusak/Cao Xuân Việt Khương</td>\n",
       "      <td>4.3</td>\n",
       "    </tr>\n",
       "    <tr>\n",
       "      <th>2</th>\n",
       "      <td>376</td>\n",
       "      <td>Louisa May Alcott</td>\n",
       "      <td>4.2</td>\n",
       "    </tr>\n",
       "    <tr>\n",
       "      <th>3</th>\n",
       "      <td>240</td>\n",
       "      <td>J.R.R. Tolkien</td>\n",
       "      <td>4.2</td>\n",
       "    </tr>\n",
       "    <tr>\n",
       "      <th>4</th>\n",
       "      <td>498</td>\n",
       "      <td>Rick Riordan</td>\n",
       "      <td>4.1</td>\n",
       "    </tr>\n",
       "    <tr>\n",
       "      <th>5</th>\n",
       "      <td>621</td>\n",
       "      <td>William Golding</td>\n",
       "      <td>3.9</td>\n",
       "    </tr>\n",
       "    <tr>\n",
       "      <th>6</th>\n",
       "      <td>469</td>\n",
       "      <td>Paulo Coelho/Alan R. Clarke/Özdemir İnce</td>\n",
       "      <td>3.8</td>\n",
       "    </tr>\n",
       "    <tr>\n",
       "      <th>7</th>\n",
       "      <td>630</td>\n",
       "      <td>William Shakespeare/Paul Werstine/Barbara A. M...</td>\n",
       "      <td>3.8</td>\n",
       "    </tr>\n",
       "    <tr>\n",
       "      <th>8</th>\n",
       "      <td>372</td>\n",
       "      <td>Lois Lowry</td>\n",
       "      <td>3.8</td>\n",
       "    </tr>\n",
       "    <tr>\n",
       "      <th>9</th>\n",
       "      <td>235</td>\n",
       "      <td>J.D. Salinger</td>\n",
       "      <td>3.8</td>\n",
       "    </tr>\n",
       "    <tr>\n",
       "      <th>10</th>\n",
       "      <td>554</td>\n",
       "      <td>Stephenie Meyer</td>\n",
       "      <td>3.7</td>\n",
       "    </tr>\n",
       "    <tr>\n",
       "      <th>11</th>\n",
       "      <td>106</td>\n",
       "      <td>Dan Brown</td>\n",
       "      <td>3.7</td>\n",
       "    </tr>\n",
       "    <tr>\n",
       "      <th>12</th>\n",
       "      <td>195</td>\n",
       "      <td>George Orwell/Boris Grabnar/Peter Škerl</td>\n",
       "      <td>3.7</td>\n",
       "    </tr>\n",
       "    <tr>\n",
       "      <th>13</th>\n",
       "      <td>311</td>\n",
       "      <td>John Steinbeck</td>\n",
       "      <td>3.6</td>\n",
       "    </tr>\n",
       "  </tbody>\n",
       "</table>\n",
       "</div>"
      ],
      "text/plain": [
       "    author_id                                             author  rating_avg\n",
       "0         236                         J.K. Rowling/Mary GrandPré         4.3\n",
       "1         402                  Markus Zusak/Cao Xuân Việt Khương         4.3\n",
       "2         376                                  Louisa May Alcott         4.2\n",
       "3         240                                     J.R.R. Tolkien         4.2\n",
       "4         498                                       Rick Riordan         4.1\n",
       "5         621                                    William Golding         3.9\n",
       "6         469           Paulo Coelho/Alan R. Clarke/Özdemir İnce         3.8\n",
       "7         630  William Shakespeare/Paul Werstine/Barbara A. M...         3.8\n",
       "8         372                                         Lois Lowry         3.8\n",
       "9         235                                      J.D. Salinger         3.8\n",
       "10        554                                    Stephenie Meyer         3.7\n",
       "11        106                                          Dan Brown         3.7\n",
       "12        195            George Orwell/Boris Grabnar/Peter Škerl         3.7\n",
       "13        311                                     John Steinbeck         3.6"
      ]
     },
     "execution_count": 21,
     "metadata": {},
     "output_type": "execute_result"
    }
   ],
   "source": [
    "query = ''' SELECT a.author_id,\n",
    "                   a.author,\n",
    "                   ROUND(AVG(rt.rating), 1) as rating_avg\n",
    "            FROM authors a\n",
    "            LEFT JOIN books b on a.author_id = b.author_id\n",
    "            LEFT JOIN ratings rt on b.book_id = rt.book_id\n",
    "            WHERE b.book_id IN (SELECT rt.book_id\n",
    "                                FROM ratings rt\n",
    "                                GROUP BY rt.book_id\n",
    "                                HAVING COUNT(rt.rating) >= 50)\n",
    "            GROUP BY a.author_id\n",
    "            ORDER BY rating_avg DESC\n",
    "            \n",
    "        '''\n",
    "ratings_max = pd.io.sql.read_sql(query, con = engine)\n",
    "ratings_max"
   ]
  },
  {
   "cell_type": "code",
   "execution_count": 24,
   "metadata": {},
   "outputs": [
    {
     "name": "stdout",
     "output_type": "stream",
     "text": [
      "The author whose books have received the highest average rating (only take into account books with 50 or more ratings) is J.K. Rowling/Mary GrandPré, average rating - 4.3.\n"
     ]
    }
   ],
   "source": [
    "print(f'The author whose books have received the highest average rating (only take into account books with 50 or more ratings) is {ratings_max.iloc[0,1]}, average rating - {ratings_max.iloc[0,2]}.')"
   ]
  },
  {
   "cell_type": "markdown",
   "metadata": {},
   "source": [
    "## Calculating the average number of reviews from users who have given more than 50 ratings"
   ]
  },
  {
   "cell_type": "code",
   "execution_count": 26,
   "metadata": {},
   "outputs": [
    {
     "data": {
      "text/html": [
       "<div>\n",
       "<style scoped>\n",
       "    .dataframe tbody tr th:only-of-type {\n",
       "        vertical-align: middle;\n",
       "    }\n",
       "\n",
       "    .dataframe tbody tr th {\n",
       "        vertical-align: top;\n",
       "    }\n",
       "\n",
       "    .dataframe thead th {\n",
       "        text-align: right;\n",
       "    }\n",
       "</style>\n",
       "<table border=\"1\" class=\"dataframe\">\n",
       "  <thead>\n",
       "    <tr style=\"text-align: right;\">\n",
       "      <th></th>\n",
       "      <th>review_count_avg</th>\n",
       "    </tr>\n",
       "  </thead>\n",
       "  <tbody>\n",
       "    <tr>\n",
       "      <th>0</th>\n",
       "      <td>24.3</td>\n",
       "    </tr>\n",
       "  </tbody>\n",
       "</table>\n",
       "</div>"
      ],
      "text/plain": [
       "   review_count_avg\n",
       "0              24.3"
      ]
     },
     "execution_count": 26,
     "metadata": {},
     "output_type": "execute_result"
    }
   ],
   "source": [
    "query = ''' SELECT ROUND(AVG(rv.review_count), 1) as review_count_avg\n",
    "            FROM \n",
    "                 (SELECT DISTINCT username,\n",
    "                         COUNT(DISTINCT review_id) as review_count\n",
    "                         FROM reviews\n",
    "                         WHERE username IN \n",
    "                                           (SELECT DISTINCT username\n",
    "                                                   FROM ratings\n",
    "                                                   GROUP BY username\n",
    "                                                   HAVING COUNT(DISTINCT rating_id) > 50)\n",
    "                         GROUP BY username) as rv     \n",
    "        '''\n",
    "review_count_avg = pd.io.sql.read_sql(query, con = engine)\n",
    "review_count_avg"
   ]
  },
  {
   "cell_type": "code",
   "execution_count": 28,
   "metadata": {},
   "outputs": [
    {
     "name": "stdout",
     "output_type": "stream",
     "text": [
      "The average number of reviews from users who have given more than 50 ratings is 24.3.\n"
     ]
    }
   ],
   "source": [
    "print(f'The average number of reviews from users who have given more than 50 ratings is {review_count_avg.iloc[0,0]}.')"
   ]
  },
  {
   "cell_type": "markdown",
   "metadata": {},
   "source": [
    "## Conclusion"
   ]
  },
  {
   "cell_type": "markdown",
   "metadata": {},
   "source": [
    "1. Since January 1, 2000, 819 books have been published.\n",
    "2. Most book reviews - 7, average rating - 3.7.\n",
    "3. The publisher that has released the most books over 50 pages is Penguin Books. Number of books - 42.\n",
    "4. The author whose books have received the highest average rating (only take into account books with 50 or more ratings) is J.K. Rowling/Mary GrandPré, average rating - 4.3.\n",
    "5. The average number of reviews from users who have given more than 50 ratings is 24.3.\n",
    "\n",
    "**Recomendations**\n",
    "\n",
    "In the reviews_cnt table there are the titles of the most popular books, the number of reviews, and the average rating of each of the books. In the publishers_50 table, there are publishers that have released books over 50 pages. In the ratings_max table, there are authors with the highest average book rating. Consider these tables when drafting startup proposals. Only books with 50 or more ratings were taken into account. In addition, it was calculated that the average number of reviews from users who have given more than 50 ratings is 24.3. As a result, we were able to make more accurate ratings."
   ]
  },
  {
   "cell_type": "code",
   "execution_count": null,
   "metadata": {},
   "outputs": [],
   "source": []
  }
 ],
 "metadata": {
  "ExecuteTimeLog": [
   {
    "duration": 98,
    "start_time": "2022-08-19T14:50:51.383Z"
   },
   {
    "duration": 3,
    "start_time": "2022-08-19T14:50:51.483Z"
   },
   {
    "duration": 11107,
    "start_time": "2022-08-19T14:50:51.488Z"
   },
   {
    "duration": 215,
    "start_time": "2022-08-19T14:51:02.596Z"
   },
   {
    "duration": 4,
    "start_time": "2022-08-19T14:51:02.813Z"
   },
   {
    "duration": 33,
    "start_time": "2022-08-19T14:51:02.818Z"
   },
   {
    "duration": 6,
    "start_time": "2022-08-19T14:51:02.853Z"
   },
   {
    "duration": 16,
    "start_time": "2022-08-19T14:51:02.861Z"
   },
   {
    "duration": 44,
    "start_time": "2022-08-19T14:51:02.879Z"
   },
   {
    "duration": 5,
    "start_time": "2022-08-19T14:51:02.925Z"
   },
   {
    "duration": 36,
    "start_time": "2022-08-19T14:51:02.932Z"
   },
   {
    "duration": 4,
    "start_time": "2022-08-19T14:51:02.971Z"
   },
   {
    "duration": 31,
    "start_time": "2022-08-19T14:51:02.977Z"
   },
   {
    "duration": 4,
    "start_time": "2022-08-19T14:51:03.012Z"
   },
   {
    "duration": 29,
    "start_time": "2022-08-19T14:51:03.019Z"
   },
   {
    "duration": 5,
    "start_time": "2022-08-19T14:51:03.050Z"
   },
   {
    "duration": 96,
    "start_time": "2022-08-19T14:52:48.263Z"
   },
   {
    "duration": 2,
    "start_time": "2022-08-19T14:52:55.223Z"
   },
   {
    "duration": 3,
    "start_time": "2022-08-19T16:03:40.273Z"
   },
   {
    "duration": 18,
    "start_time": "2022-08-19T16:03:40.278Z"
   },
   {
    "duration": 15654,
    "start_time": "2022-08-19T16:03:40.298Z"
   },
   {
    "duration": 235,
    "start_time": "2022-08-19T16:03:55.954Z"
   },
   {
    "duration": 3,
    "start_time": "2022-08-19T16:03:56.190Z"
   },
   {
    "duration": 50,
    "start_time": "2022-08-19T16:03:56.195Z"
   },
   {
    "duration": 6,
    "start_time": "2022-08-19T16:03:56.247Z"
   },
   {
    "duration": 7,
    "start_time": "2022-08-19T16:03:56.254Z"
   },
   {
    "duration": 33,
    "start_time": "2022-08-19T16:03:56.263Z"
   },
   {
    "duration": 3,
    "start_time": "2022-08-19T16:03:56.297Z"
   },
   {
    "duration": 40,
    "start_time": "2022-08-19T16:03:56.302Z"
   },
   {
    "duration": 3,
    "start_time": "2022-08-19T16:03:56.343Z"
   },
   {
    "duration": 16,
    "start_time": "2022-08-19T16:03:56.348Z"
   },
   {
    "duration": 3,
    "start_time": "2022-08-19T16:03:56.366Z"
   },
   {
    "duration": 16,
    "start_time": "2022-08-19T16:03:56.370Z"
   },
   {
    "duration": 3,
    "start_time": "2022-08-19T16:03:56.388Z"
   },
   {
    "duration": 20,
    "start_time": "2022-08-19T16:06:54.537Z"
   },
   {
    "duration": 15,
    "start_time": "2022-08-19T16:07:06.350Z"
   },
   {
    "duration": 4,
    "start_time": "2022-08-19T16:13:20.659Z"
   },
   {
    "duration": 11,
    "start_time": "2022-08-19T16:13:20.665Z"
   },
   {
    "duration": 564,
    "start_time": "2022-08-19T16:13:20.678Z"
   },
   {
    "duration": 4,
    "start_time": "2022-08-19T16:13:21.245Z"
   },
   {
    "duration": 8906,
    "start_time": "2022-08-19T16:13:21.250Z"
   },
   {
    "duration": 187,
    "start_time": "2022-08-19T16:13:30.158Z"
   },
   {
    "duration": 3,
    "start_time": "2022-08-19T16:13:30.347Z"
   },
   {
    "duration": 46,
    "start_time": "2022-08-19T16:13:30.352Z"
   },
   {
    "duration": 31,
    "start_time": "2022-08-19T16:13:30.400Z"
   },
   {
    "duration": 18,
    "start_time": "2022-08-19T16:13:30.432Z"
   },
   {
    "duration": 50,
    "start_time": "2022-08-19T16:13:30.452Z"
   },
   {
    "duration": 4,
    "start_time": "2022-08-19T16:13:30.503Z"
   },
   {
    "duration": 35,
    "start_time": "2022-08-19T16:13:30.509Z"
   },
   {
    "duration": 11,
    "start_time": "2022-08-19T16:13:30.546Z"
   },
   {
    "duration": 42,
    "start_time": "2022-08-19T16:13:30.559Z"
   },
   {
    "duration": 5,
    "start_time": "2022-08-19T16:13:30.603Z"
   },
   {
    "duration": 44,
    "start_time": "2022-08-19T16:13:30.609Z"
   },
   {
    "duration": 16,
    "start_time": "2022-08-19T16:13:30.655Z"
   },
   {
    "duration": 13,
    "start_time": "2022-08-19T16:15:21.243Z"
   },
   {
    "duration": 25,
    "start_time": "2022-08-19T16:18:36.533Z"
   },
   {
    "duration": 56,
    "start_time": "2022-08-19T16:25:35.322Z"
   },
   {
    "duration": 10,
    "start_time": "2022-08-19T16:25:55.984Z"
   },
   {
    "duration": 13,
    "start_time": "2022-08-19T16:26:01.126Z"
   },
   {
    "duration": 14,
    "start_time": "2022-08-19T16:26:42.131Z"
   },
   {
    "duration": 12,
    "start_time": "2022-08-19T16:31:21.161Z"
   },
   {
    "duration": 14,
    "start_time": "2022-08-19T16:31:28.241Z"
   },
   {
    "duration": 14,
    "start_time": "2022-08-19T16:33:08.234Z"
   },
   {
    "duration": 11,
    "start_time": "2022-08-19T16:33:31.278Z"
   },
   {
    "duration": 186,
    "start_time": "2022-08-19T16:42:11.022Z"
   },
   {
    "duration": 99,
    "start_time": "2022-08-19T16:42:20.074Z"
   },
   {
    "duration": 19,
    "start_time": "2022-08-19T16:42:31.201Z"
   },
   {
    "duration": 18,
    "start_time": "2022-08-19T16:44:45.555Z"
   },
   {
    "duration": 18,
    "start_time": "2022-08-19T16:46:37.547Z"
   },
   {
    "duration": 15,
    "start_time": "2022-08-19T16:46:56.824Z"
   },
   {
    "duration": 17,
    "start_time": "2022-08-19T16:47:10.443Z"
   },
   {
    "duration": 3,
    "start_time": "2022-08-19T16:47:20.156Z"
   },
   {
    "duration": 4,
    "start_time": "2022-08-19T16:48:42.023Z"
   },
   {
    "duration": 10,
    "start_time": "2022-08-19T16:48:42.030Z"
   },
   {
    "duration": 587,
    "start_time": "2022-08-19T16:48:42.043Z"
   },
   {
    "duration": 4,
    "start_time": "2022-08-19T16:48:42.632Z"
   },
   {
    "duration": 8786,
    "start_time": "2022-08-19T16:48:42.637Z"
   },
   {
    "duration": 203,
    "start_time": "2022-08-19T16:48:51.426Z"
   },
   {
    "duration": 4,
    "start_time": "2022-08-19T16:48:51.631Z"
   },
   {
    "duration": 14,
    "start_time": "2022-08-19T16:48:51.645Z"
   },
   {
    "duration": 5,
    "start_time": "2022-08-19T16:48:51.662Z"
   },
   {
    "duration": 8,
    "start_time": "2022-08-19T16:48:51.669Z"
   },
   {
    "duration": 40,
    "start_time": "2022-08-19T16:48:51.679Z"
   },
   {
    "duration": 4,
    "start_time": "2022-08-19T16:48:51.722Z"
   },
   {
    "duration": 29,
    "start_time": "2022-08-19T16:48:51.728Z"
   },
   {
    "duration": 5,
    "start_time": "2022-08-19T16:48:51.759Z"
   },
   {
    "duration": 27,
    "start_time": "2022-08-19T16:48:51.766Z"
   },
   {
    "duration": 4,
    "start_time": "2022-08-19T16:48:51.795Z"
   },
   {
    "duration": 24,
    "start_time": "2022-08-19T16:48:51.801Z"
   },
   {
    "duration": 4,
    "start_time": "2022-08-19T16:48:51.828Z"
   },
   {
    "duration": 17,
    "start_time": "2022-08-19T16:49:12.378Z"
   },
   {
    "duration": 58,
    "start_time": "2022-08-20T05:50:39.114Z"
   },
   {
    "duration": 4,
    "start_time": "2022-08-20T05:50:45.582Z"
   },
   {
    "duration": 11,
    "start_time": "2022-08-20T05:50:45.589Z"
   },
   {
    "duration": 554,
    "start_time": "2022-08-20T05:50:45.602Z"
   },
   {
    "duration": 3,
    "start_time": "2022-08-20T05:50:46.158Z"
   },
   {
    "duration": 8496,
    "start_time": "2022-08-20T05:50:46.162Z"
   },
   {
    "duration": 607,
    "start_time": "2022-08-20T05:50:54.660Z"
   },
   {
    "duration": 3,
    "start_time": "2022-08-20T05:50:55.269Z"
   },
   {
    "duration": 75,
    "start_time": "2022-08-20T05:50:55.273Z"
   },
   {
    "duration": 3,
    "start_time": "2022-08-20T05:50:55.350Z"
   },
   {
    "duration": 12,
    "start_time": "2022-08-20T05:50:55.356Z"
   },
   {
    "duration": 96,
    "start_time": "2022-08-20T05:50:55.369Z"
   },
   {
    "duration": 3,
    "start_time": "2022-08-20T05:50:55.467Z"
   },
   {
    "duration": 74,
    "start_time": "2022-08-20T05:50:55.471Z"
   },
   {
    "duration": 4,
    "start_time": "2022-08-20T05:50:55.547Z"
   },
   {
    "duration": 78,
    "start_time": "2022-08-20T05:50:55.553Z"
   },
   {
    "duration": 4,
    "start_time": "2022-08-20T05:50:55.633Z"
   },
   {
    "duration": 79,
    "start_time": "2022-08-20T05:50:55.639Z"
   },
   {
    "duration": 3,
    "start_time": "2022-08-20T05:50:55.721Z"
   }
  ],
  "kernelspec": {
   "display_name": "Python 3",
   "language": "python",
   "name": "python3"
  },
  "language_info": {
   "codemirror_mode": {
    "name": "ipython",
    "version": 3
   },
   "file_extension": ".py",
   "mimetype": "text/x-python",
   "name": "python",
   "nbconvert_exporter": "python",
   "pygments_lexer": "ipython3",
   "version": "3.7.3"
  },
  "toc": {
   "base_numbering": 1,
   "nav_menu": {},
   "number_sections": true,
   "sideBar": true,
   "skip_h1_title": true,
   "title_cell": "Table of Contents",
   "title_sidebar": "Contents",
   "toc_cell": false,
   "toc_position": {},
   "toc_section_display": true,
   "toc_window_display": false
  }
 },
 "nbformat": 4,
 "nbformat_minor": 2
}
