{
 "cells": [
  {
   "cell_type": "markdown",
   "metadata": {},
   "source": [
    "# Testing hypotheses to increase revenue in an online store"
   ]
  },
  {
   "cell_type": "markdown",
   "metadata": {},
   "source": [
    "## Data overview"
   ]
  },
  {
   "cell_type": "code",
   "execution_count": 1,
   "metadata": {},
   "outputs": [],
   "source": [
    "# importing libraries\n",
    "import pandas as pd\n",
    "import numpy as np\n",
    "import matplotlib.pyplot as plt\n",
    "import seaborn as sns\n",
    "import scipy.stats as stats\n",
    "\n",
    "from pandas.plotting import register_matplotlib_converters"
   ]
  },
  {
   "cell_type": "code",
   "execution_count": 2,
   "metadata": {},
   "outputs": [],
   "source": [
    "# setting the maximum width of columns\n",
    "pd.options.display.max_colwidth = 100"
   ]
  },
  {
   "cell_type": "code",
   "execution_count": 3,
   "metadata": {},
   "outputs": [],
   "source": [
    "# suppressing warnings\n",
    "import warnings\n",
    "warnings.filterwarnings('ignore')"
   ]
  },
  {
   "cell_type": "code",
   "execution_count": 4,
   "metadata": {},
   "outputs": [],
   "source": [
    "# reading csv files and assigning the results to variables\n",
    "hypothesis = pd.read_csv('https://code.s3.yandex.net/datasets/hypothesis.csv')\n",
    "orders = pd.read_csv('https://code.s3.yandex.net/datasets/orders.csv')\n",
    "visitors = pd.read_csv('https://code.s3.yandex.net/datasets/visitors.csv')"
   ]
  },
  {
   "cell_type": "markdown",
   "metadata": {},
   "source": [
    "**Hypothesis**"
   ]
  },
  {
   "cell_type": "code",
   "execution_count": 5,
   "metadata": {
    "scrolled": false
   },
   "outputs": [
    {
     "data": {
      "text/html": [
       "<div>\n",
       "<style scoped>\n",
       "    .dataframe tbody tr th:only-of-type {\n",
       "        vertical-align: middle;\n",
       "    }\n",
       "\n",
       "    .dataframe tbody tr th {\n",
       "        vertical-align: top;\n",
       "    }\n",
       "\n",
       "    .dataframe thead th {\n",
       "        text-align: right;\n",
       "    }\n",
       "</style>\n",
       "<table border=\"1\" class=\"dataframe\">\n",
       "  <thead>\n",
       "    <tr style=\"text-align: right;\">\n",
       "      <th></th>\n",
       "      <th>Hypothesis</th>\n",
       "      <th>Reach</th>\n",
       "      <th>Impact</th>\n",
       "      <th>Confidence</th>\n",
       "      <th>Efforts</th>\n",
       "    </tr>\n",
       "  </thead>\n",
       "  <tbody>\n",
       "    <tr>\n",
       "      <th>0</th>\n",
       "      <td>Добавить два новых канала привлечения трафика, что позволит привлекать на 30% больше пользователей</td>\n",
       "      <td>3</td>\n",
       "      <td>10</td>\n",
       "      <td>8</td>\n",
       "      <td>6</td>\n",
       "    </tr>\n",
       "    <tr>\n",
       "      <th>1</th>\n",
       "      <td>Запустить собственную службу доставки, что сократит срок доставки заказов</td>\n",
       "      <td>2</td>\n",
       "      <td>5</td>\n",
       "      <td>4</td>\n",
       "      <td>10</td>\n",
       "    </tr>\n",
       "    <tr>\n",
       "      <th>2</th>\n",
       "      <td>Добавить блоки рекомендаций товаров на сайт интернет магазина, чтобы повысить конверсию и средни...</td>\n",
       "      <td>8</td>\n",
       "      <td>3</td>\n",
       "      <td>7</td>\n",
       "      <td>3</td>\n",
       "    </tr>\n",
       "    <tr>\n",
       "      <th>3</th>\n",
       "      <td>Изменить структура категорий, что увеличит конверсию, т.к. пользователи быстрее найдут нужный товар</td>\n",
       "      <td>8</td>\n",
       "      <td>3</td>\n",
       "      <td>3</td>\n",
       "      <td>8</td>\n",
       "    </tr>\n",
       "    <tr>\n",
       "      <th>4</th>\n",
       "      <td>Изменить цвет фона главной страницы, чтобы увеличить вовлеченность пользователей</td>\n",
       "      <td>3</td>\n",
       "      <td>1</td>\n",
       "      <td>1</td>\n",
       "      <td>1</td>\n",
       "    </tr>\n",
       "    <tr>\n",
       "      <th>5</th>\n",
       "      <td>Добавить страницу отзывов клиентов о магазине, что позволит увеличить количество заказов</td>\n",
       "      <td>3</td>\n",
       "      <td>2</td>\n",
       "      <td>2</td>\n",
       "      <td>3</td>\n",
       "    </tr>\n",
       "    <tr>\n",
       "      <th>6</th>\n",
       "      <td>Показать на главной странице баннеры с актуальными акциями и распродажами, чтобы увеличить конве...</td>\n",
       "      <td>5</td>\n",
       "      <td>3</td>\n",
       "      <td>8</td>\n",
       "      <td>3</td>\n",
       "    </tr>\n",
       "    <tr>\n",
       "      <th>7</th>\n",
       "      <td>Добавить форму подписки на все основные страницы, чтобы собрать базу клиентов для email-рассылок</td>\n",
       "      <td>10</td>\n",
       "      <td>7</td>\n",
       "      <td>8</td>\n",
       "      <td>5</td>\n",
       "    </tr>\n",
       "    <tr>\n",
       "      <th>8</th>\n",
       "      <td>Запустить акцию, дающую скидку на товар в день рождения</td>\n",
       "      <td>1</td>\n",
       "      <td>9</td>\n",
       "      <td>9</td>\n",
       "      <td>5</td>\n",
       "    </tr>\n",
       "  </tbody>\n",
       "</table>\n",
       "</div>"
      ],
      "text/plain": [
       "                                                                                            Hypothesis  \\\n",
       "0   Добавить два новых канала привлечения трафика, что позволит привлекать на 30% больше пользователей   \n",
       "1                            Запустить собственную службу доставки, что сократит срок доставки заказов   \n",
       "2  Добавить блоки рекомендаций товаров на сайт интернет магазина, чтобы повысить конверсию и средни...   \n",
       "3  Изменить структура категорий, что увеличит конверсию, т.к. пользователи быстрее найдут нужный товар   \n",
       "4                     Изменить цвет фона главной страницы, чтобы увеличить вовлеченность пользователей   \n",
       "5             Добавить страницу отзывов клиентов о магазине, что позволит увеличить количество заказов   \n",
       "6  Показать на главной странице баннеры с актуальными акциями и распродажами, чтобы увеличить конве...   \n",
       "7     Добавить форму подписки на все основные страницы, чтобы собрать базу клиентов для email-рассылок   \n",
       "8                                              Запустить акцию, дающую скидку на товар в день рождения   \n",
       "\n",
       "   Reach  Impact  Confidence  Efforts  \n",
       "0      3      10           8        6  \n",
       "1      2       5           4       10  \n",
       "2      8       3           7        3  \n",
       "3      8       3           3        8  \n",
       "4      3       1           1        1  \n",
       "5      3       2           2        3  \n",
       "6      5       3           8        3  \n",
       "7     10       7           8        5  \n",
       "8      1       9           9        5  "
      ]
     },
     "execution_count": 5,
     "metadata": {},
     "output_type": "execute_result"
    }
   ],
   "source": [
    "# printing the head of the DataFrame\n",
    "hypothesis.head(10)"
   ]
  },
  {
   "cell_type": "markdown",
   "metadata": {},
   "source": [
    "- Change the column names to lowercase."
   ]
  },
  {
   "cell_type": "code",
   "execution_count": 6,
   "metadata": {
    "scrolled": true
   },
   "outputs": [
    {
     "name": "stdout",
     "output_type": "stream",
     "text": [
      "<class 'pandas.core.frame.DataFrame'>\n",
      "RangeIndex: 9 entries, 0 to 8\n",
      "Data columns (total 5 columns):\n",
      "Hypothesis    9 non-null object\n",
      "Reach         9 non-null int64\n",
      "Impact        9 non-null int64\n",
      "Confidence    9 non-null int64\n",
      "Efforts       9 non-null int64\n",
      "dtypes: int64(4), object(1)\n",
      "memory usage: 440.0+ bytes\n"
     ]
    },
    {
     "data": {
      "text/html": [
       "<div>\n",
       "<style scoped>\n",
       "    .dataframe tbody tr th:only-of-type {\n",
       "        vertical-align: middle;\n",
       "    }\n",
       "\n",
       "    .dataframe tbody tr th {\n",
       "        vertical-align: top;\n",
       "    }\n",
       "\n",
       "    .dataframe thead th {\n",
       "        text-align: right;\n",
       "    }\n",
       "</style>\n",
       "<table border=\"1\" class=\"dataframe\">\n",
       "  <thead>\n",
       "    <tr style=\"text-align: right;\">\n",
       "      <th></th>\n",
       "      <th>Reach</th>\n",
       "      <th>Impact</th>\n",
       "      <th>Confidence</th>\n",
       "      <th>Efforts</th>\n",
       "    </tr>\n",
       "  </thead>\n",
       "  <tbody>\n",
       "    <tr>\n",
       "      <th>count</th>\n",
       "      <td>9.000000</td>\n",
       "      <td>9.000000</td>\n",
       "      <td>9.000000</td>\n",
       "      <td>9.000000</td>\n",
       "    </tr>\n",
       "    <tr>\n",
       "      <th>mean</th>\n",
       "      <td>4.777778</td>\n",
       "      <td>4.777778</td>\n",
       "      <td>5.555556</td>\n",
       "      <td>4.888889</td>\n",
       "    </tr>\n",
       "    <tr>\n",
       "      <th>std</th>\n",
       "      <td>3.153481</td>\n",
       "      <td>3.192874</td>\n",
       "      <td>3.045944</td>\n",
       "      <td>2.803767</td>\n",
       "    </tr>\n",
       "    <tr>\n",
       "      <th>min</th>\n",
       "      <td>1.000000</td>\n",
       "      <td>1.000000</td>\n",
       "      <td>1.000000</td>\n",
       "      <td>1.000000</td>\n",
       "    </tr>\n",
       "    <tr>\n",
       "      <th>25%</th>\n",
       "      <td>3.000000</td>\n",
       "      <td>3.000000</td>\n",
       "      <td>3.000000</td>\n",
       "      <td>3.000000</td>\n",
       "    </tr>\n",
       "    <tr>\n",
       "      <th>50%</th>\n",
       "      <td>3.000000</td>\n",
       "      <td>3.000000</td>\n",
       "      <td>7.000000</td>\n",
       "      <td>5.000000</td>\n",
       "    </tr>\n",
       "    <tr>\n",
       "      <th>75%</th>\n",
       "      <td>8.000000</td>\n",
       "      <td>7.000000</td>\n",
       "      <td>8.000000</td>\n",
       "      <td>6.000000</td>\n",
       "    </tr>\n",
       "    <tr>\n",
       "      <th>max</th>\n",
       "      <td>10.000000</td>\n",
       "      <td>10.000000</td>\n",
       "      <td>9.000000</td>\n",
       "      <td>10.000000</td>\n",
       "    </tr>\n",
       "  </tbody>\n",
       "</table>\n",
       "</div>"
      ],
      "text/plain": [
       "           Reach     Impact  Confidence    Efforts\n",
       "count   9.000000   9.000000    9.000000   9.000000\n",
       "mean    4.777778   4.777778    5.555556   4.888889\n",
       "std     3.153481   3.192874    3.045944   2.803767\n",
       "min     1.000000   1.000000    1.000000   1.000000\n",
       "25%     3.000000   3.000000    3.000000   3.000000\n",
       "50%     3.000000   3.000000    7.000000   5.000000\n",
       "75%     8.000000   7.000000    8.000000   6.000000\n",
       "max    10.000000  10.000000    9.000000  10.000000"
      ]
     },
     "execution_count": 6,
     "metadata": {},
     "output_type": "execute_result"
    }
   ],
   "source": [
    "# printing information about the DataFrame\n",
    "hypothesis.info()\n",
    "\n",
    "# computing a summary of statistics\n",
    "hypothesis.describe()"
   ]
  },
  {
   "cell_type": "code",
   "execution_count": 7,
   "metadata": {},
   "outputs": [
    {
     "data": {
      "text/plain": [
       "0"
      ]
     },
     "execution_count": 7,
     "metadata": {},
     "output_type": "execute_result"
    }
   ],
   "source": [
    "# checking for duplicates\n",
    "hypothesis.duplicated().sum()"
   ]
  },
  {
   "cell_type": "markdown",
   "metadata": {},
   "source": [
    "**Orders**"
   ]
  },
  {
   "cell_type": "code",
   "execution_count": 8,
   "metadata": {
    "scrolled": true
   },
   "outputs": [
    {
     "data": {
      "text/html": [
       "<div>\n",
       "<style scoped>\n",
       "    .dataframe tbody tr th:only-of-type {\n",
       "        vertical-align: middle;\n",
       "    }\n",
       "\n",
       "    .dataframe tbody tr th {\n",
       "        vertical-align: top;\n",
       "    }\n",
       "\n",
       "    .dataframe thead th {\n",
       "        text-align: right;\n",
       "    }\n",
       "</style>\n",
       "<table border=\"1\" class=\"dataframe\">\n",
       "  <thead>\n",
       "    <tr style=\"text-align: right;\">\n",
       "      <th></th>\n",
       "      <th>transactionId</th>\n",
       "      <th>visitorId</th>\n",
       "      <th>date</th>\n",
       "      <th>revenue</th>\n",
       "      <th>group</th>\n",
       "    </tr>\n",
       "  </thead>\n",
       "  <tbody>\n",
       "    <tr>\n",
       "      <th>0</th>\n",
       "      <td>3667963787</td>\n",
       "      <td>3312258926</td>\n",
       "      <td>2019-08-15</td>\n",
       "      <td>1650</td>\n",
       "      <td>B</td>\n",
       "    </tr>\n",
       "    <tr>\n",
       "      <th>1</th>\n",
       "      <td>2804400009</td>\n",
       "      <td>3642806036</td>\n",
       "      <td>2019-08-15</td>\n",
       "      <td>730</td>\n",
       "      <td>B</td>\n",
       "    </tr>\n",
       "    <tr>\n",
       "      <th>2</th>\n",
       "      <td>2961555356</td>\n",
       "      <td>4069496402</td>\n",
       "      <td>2019-08-15</td>\n",
       "      <td>400</td>\n",
       "      <td>A</td>\n",
       "    </tr>\n",
       "    <tr>\n",
       "      <th>3</th>\n",
       "      <td>3797467345</td>\n",
       "      <td>1196621759</td>\n",
       "      <td>2019-08-15</td>\n",
       "      <td>9759</td>\n",
       "      <td>B</td>\n",
       "    </tr>\n",
       "    <tr>\n",
       "      <th>4</th>\n",
       "      <td>2282983706</td>\n",
       "      <td>2322279887</td>\n",
       "      <td>2019-08-15</td>\n",
       "      <td>2308</td>\n",
       "      <td>B</td>\n",
       "    </tr>\n",
       "    <tr>\n",
       "      <th>5</th>\n",
       "      <td>182168103</td>\n",
       "      <td>935554773</td>\n",
       "      <td>2019-08-15</td>\n",
       "      <td>2210</td>\n",
       "      <td>B</td>\n",
       "    </tr>\n",
       "    <tr>\n",
       "      <th>6</th>\n",
       "      <td>398296753</td>\n",
       "      <td>2900797465</td>\n",
       "      <td>2019-08-15</td>\n",
       "      <td>1860</td>\n",
       "      <td>B</td>\n",
       "    </tr>\n",
       "    <tr>\n",
       "      <th>7</th>\n",
       "      <td>2626614568</td>\n",
       "      <td>78758296</td>\n",
       "      <td>2019-08-15</td>\n",
       "      <td>1044</td>\n",
       "      <td>A</td>\n",
       "    </tr>\n",
       "    <tr>\n",
       "      <th>8</th>\n",
       "      <td>1576988021</td>\n",
       "      <td>295230930</td>\n",
       "      <td>2019-08-15</td>\n",
       "      <td>13710</td>\n",
       "      <td>A</td>\n",
       "    </tr>\n",
       "    <tr>\n",
       "      <th>9</th>\n",
       "      <td>1506739906</td>\n",
       "      <td>1882260405</td>\n",
       "      <td>2019-08-15</td>\n",
       "      <td>1855</td>\n",
       "      <td>B</td>\n",
       "    </tr>\n",
       "  </tbody>\n",
       "</table>\n",
       "</div>"
      ],
      "text/plain": [
       "   transactionId   visitorId        date  revenue group\n",
       "0     3667963787  3312258926  2019-08-15     1650     B\n",
       "1     2804400009  3642806036  2019-08-15      730     B\n",
       "2     2961555356  4069496402  2019-08-15      400     A\n",
       "3     3797467345  1196621759  2019-08-15     9759     B\n",
       "4     2282983706  2322279887  2019-08-15     2308     B\n",
       "5      182168103   935554773  2019-08-15     2210     B\n",
       "6      398296753  2900797465  2019-08-15     1860     B\n",
       "7     2626614568    78758296  2019-08-15     1044     A\n",
       "8     1576988021   295230930  2019-08-15    13710     A\n",
       "9     1506739906  1882260405  2019-08-15     1855     B"
      ]
     },
     "execution_count": 8,
     "metadata": {},
     "output_type": "execute_result"
    }
   ],
   "source": [
    "# printing the head of the DataFrame\n",
    "orders.head(10)"
   ]
  },
  {
   "cell_type": "markdown",
   "metadata": {},
   "source": [
    "- Change column names to snake case."
   ]
  },
  {
   "cell_type": "code",
   "execution_count": 9,
   "metadata": {
    "scrolled": false
   },
   "outputs": [
    {
     "name": "stdout",
     "output_type": "stream",
     "text": [
      "<class 'pandas.core.frame.DataFrame'>\n",
      "RangeIndex: 1197 entries, 0 to 1196\n",
      "Data columns (total 5 columns):\n",
      "transactionId    1197 non-null int64\n",
      "visitorId        1197 non-null int64\n",
      "date             1197 non-null object\n",
      "revenue          1197 non-null int64\n",
      "group            1197 non-null object\n",
      "dtypes: int64(3), object(2)\n",
      "memory usage: 46.8+ KB\n"
     ]
    },
    {
     "data": {
      "text/html": [
       "<div>\n",
       "<style scoped>\n",
       "    .dataframe tbody tr th:only-of-type {\n",
       "        vertical-align: middle;\n",
       "    }\n",
       "\n",
       "    .dataframe tbody tr th {\n",
       "        vertical-align: top;\n",
       "    }\n",
       "\n",
       "    .dataframe thead th {\n",
       "        text-align: right;\n",
       "    }\n",
       "</style>\n",
       "<table border=\"1\" class=\"dataframe\">\n",
       "  <thead>\n",
       "    <tr style=\"text-align: right;\">\n",
       "      <th></th>\n",
       "      <th>transactionId</th>\n",
       "      <th>visitorId</th>\n",
       "      <th>revenue</th>\n",
       "    </tr>\n",
       "  </thead>\n",
       "  <tbody>\n",
       "    <tr>\n",
       "      <th>count</th>\n",
       "      <td>1.197000e+03</td>\n",
       "      <td>1.197000e+03</td>\n",
       "      <td>1.197000e+03</td>\n",
       "    </tr>\n",
       "    <tr>\n",
       "      <th>mean</th>\n",
       "      <td>2.155621e+09</td>\n",
       "      <td>2.165960e+09</td>\n",
       "      <td>8.348006e+03</td>\n",
       "    </tr>\n",
       "    <tr>\n",
       "      <th>std</th>\n",
       "      <td>1.229085e+09</td>\n",
       "      <td>1.236014e+09</td>\n",
       "      <td>3.919113e+04</td>\n",
       "    </tr>\n",
       "    <tr>\n",
       "      <th>min</th>\n",
       "      <td>1.062393e+06</td>\n",
       "      <td>5.114589e+06</td>\n",
       "      <td>5.000000e+01</td>\n",
       "    </tr>\n",
       "    <tr>\n",
       "      <th>25%</th>\n",
       "      <td>1.166776e+09</td>\n",
       "      <td>1.111826e+09</td>\n",
       "      <td>1.220000e+03</td>\n",
       "    </tr>\n",
       "    <tr>\n",
       "      <th>50%</th>\n",
       "      <td>2.145194e+09</td>\n",
       "      <td>2.217985e+09</td>\n",
       "      <td>2.978000e+03</td>\n",
       "    </tr>\n",
       "    <tr>\n",
       "      <th>75%</th>\n",
       "      <td>3.237740e+09</td>\n",
       "      <td>3.177606e+09</td>\n",
       "      <td>8.290000e+03</td>\n",
       "    </tr>\n",
       "    <tr>\n",
       "      <th>max</th>\n",
       "      <td>4.293856e+09</td>\n",
       "      <td>4.283872e+09</td>\n",
       "      <td>1.294500e+06</td>\n",
       "    </tr>\n",
       "  </tbody>\n",
       "</table>\n",
       "</div>"
      ],
      "text/plain": [
       "       transactionId     visitorId       revenue\n",
       "count   1.197000e+03  1.197000e+03  1.197000e+03\n",
       "mean    2.155621e+09  2.165960e+09  8.348006e+03\n",
       "std     1.229085e+09  1.236014e+09  3.919113e+04\n",
       "min     1.062393e+06  5.114589e+06  5.000000e+01\n",
       "25%     1.166776e+09  1.111826e+09  1.220000e+03\n",
       "50%     2.145194e+09  2.217985e+09  2.978000e+03\n",
       "75%     3.237740e+09  3.177606e+09  8.290000e+03\n",
       "max     4.293856e+09  4.283872e+09  1.294500e+06"
      ]
     },
     "execution_count": 9,
     "metadata": {},
     "output_type": "execute_result"
    }
   ],
   "source": [
    "# printing information about the DataFrame\n",
    "orders.info()\n",
    "\n",
    "# computing a summary of statistics\n",
    "orders.describe()"
   ]
  },
  {
   "cell_type": "markdown",
   "metadata": {},
   "source": [
    "- Convert the date column type to datetime."
   ]
  },
  {
   "cell_type": "code",
   "execution_count": 10,
   "metadata": {},
   "outputs": [
    {
     "data": {
      "text/plain": [
       "0"
      ]
     },
     "execution_count": 10,
     "metadata": {},
     "output_type": "execute_result"
    }
   ],
   "source": [
    "# checking for duplicates\n",
    "orders.duplicated().sum()"
   ]
  },
  {
   "cell_type": "markdown",
   "metadata": {},
   "source": [
    "**Visitors**"
   ]
  },
  {
   "cell_type": "code",
   "execution_count": 11,
   "metadata": {
    "scrolled": false
   },
   "outputs": [
    {
     "data": {
      "text/html": [
       "<div>\n",
       "<style scoped>\n",
       "    .dataframe tbody tr th:only-of-type {\n",
       "        vertical-align: middle;\n",
       "    }\n",
       "\n",
       "    .dataframe tbody tr th {\n",
       "        vertical-align: top;\n",
       "    }\n",
       "\n",
       "    .dataframe thead th {\n",
       "        text-align: right;\n",
       "    }\n",
       "</style>\n",
       "<table border=\"1\" class=\"dataframe\">\n",
       "  <thead>\n",
       "    <tr style=\"text-align: right;\">\n",
       "      <th></th>\n",
       "      <th>date</th>\n",
       "      <th>group</th>\n",
       "      <th>visitors</th>\n",
       "    </tr>\n",
       "  </thead>\n",
       "  <tbody>\n",
       "    <tr>\n",
       "      <th>0</th>\n",
       "      <td>2019-08-01</td>\n",
       "      <td>A</td>\n",
       "      <td>719</td>\n",
       "    </tr>\n",
       "    <tr>\n",
       "      <th>1</th>\n",
       "      <td>2019-08-02</td>\n",
       "      <td>A</td>\n",
       "      <td>619</td>\n",
       "    </tr>\n",
       "    <tr>\n",
       "      <th>2</th>\n",
       "      <td>2019-08-03</td>\n",
       "      <td>A</td>\n",
       "      <td>507</td>\n",
       "    </tr>\n",
       "    <tr>\n",
       "      <th>3</th>\n",
       "      <td>2019-08-04</td>\n",
       "      <td>A</td>\n",
       "      <td>717</td>\n",
       "    </tr>\n",
       "    <tr>\n",
       "      <th>4</th>\n",
       "      <td>2019-08-05</td>\n",
       "      <td>A</td>\n",
       "      <td>756</td>\n",
       "    </tr>\n",
       "    <tr>\n",
       "      <th>5</th>\n",
       "      <td>2019-08-06</td>\n",
       "      <td>A</td>\n",
       "      <td>667</td>\n",
       "    </tr>\n",
       "    <tr>\n",
       "      <th>6</th>\n",
       "      <td>2019-08-07</td>\n",
       "      <td>A</td>\n",
       "      <td>644</td>\n",
       "    </tr>\n",
       "    <tr>\n",
       "      <th>7</th>\n",
       "      <td>2019-08-08</td>\n",
       "      <td>A</td>\n",
       "      <td>610</td>\n",
       "    </tr>\n",
       "    <tr>\n",
       "      <th>8</th>\n",
       "      <td>2019-08-09</td>\n",
       "      <td>A</td>\n",
       "      <td>617</td>\n",
       "    </tr>\n",
       "    <tr>\n",
       "      <th>9</th>\n",
       "      <td>2019-08-10</td>\n",
       "      <td>A</td>\n",
       "      <td>406</td>\n",
       "    </tr>\n",
       "  </tbody>\n",
       "</table>\n",
       "</div>"
      ],
      "text/plain": [
       "         date group  visitors\n",
       "0  2019-08-01     A       719\n",
       "1  2019-08-02     A       619\n",
       "2  2019-08-03     A       507\n",
       "3  2019-08-04     A       717\n",
       "4  2019-08-05     A       756\n",
       "5  2019-08-06     A       667\n",
       "6  2019-08-07     A       644\n",
       "7  2019-08-08     A       610\n",
       "8  2019-08-09     A       617\n",
       "9  2019-08-10     A       406"
      ]
     },
     "execution_count": 11,
     "metadata": {},
     "output_type": "execute_result"
    }
   ],
   "source": [
    "# printing the head of the DataFrame\n",
    "visitors.head(10)"
   ]
  },
  {
   "cell_type": "code",
   "execution_count": 12,
   "metadata": {
    "scrolled": true
   },
   "outputs": [
    {
     "name": "stdout",
     "output_type": "stream",
     "text": [
      "<class 'pandas.core.frame.DataFrame'>\n",
      "RangeIndex: 62 entries, 0 to 61\n",
      "Data columns (total 3 columns):\n",
      "date        62 non-null object\n",
      "group       62 non-null object\n",
      "visitors    62 non-null int64\n",
      "dtypes: int64(1), object(2)\n",
      "memory usage: 1.5+ KB\n"
     ]
    },
    {
     "data": {
      "text/html": [
       "<div>\n",
       "<style scoped>\n",
       "    .dataframe tbody tr th:only-of-type {\n",
       "        vertical-align: middle;\n",
       "    }\n",
       "\n",
       "    .dataframe tbody tr th {\n",
       "        vertical-align: top;\n",
       "    }\n",
       "\n",
       "    .dataframe thead th {\n",
       "        text-align: right;\n",
       "    }\n",
       "</style>\n",
       "<table border=\"1\" class=\"dataframe\">\n",
       "  <thead>\n",
       "    <tr style=\"text-align: right;\">\n",
       "      <th></th>\n",
       "      <th>visitors</th>\n",
       "    </tr>\n",
       "  </thead>\n",
       "  <tbody>\n",
       "    <tr>\n",
       "      <th>count</th>\n",
       "      <td>62.000000</td>\n",
       "    </tr>\n",
       "    <tr>\n",
       "      <th>mean</th>\n",
       "      <td>607.290323</td>\n",
       "    </tr>\n",
       "    <tr>\n",
       "      <th>std</th>\n",
       "      <td>114.400560</td>\n",
       "    </tr>\n",
       "    <tr>\n",
       "      <th>min</th>\n",
       "      <td>361.000000</td>\n",
       "    </tr>\n",
       "    <tr>\n",
       "      <th>25%</th>\n",
       "      <td>534.000000</td>\n",
       "    </tr>\n",
       "    <tr>\n",
       "      <th>50%</th>\n",
       "      <td>624.500000</td>\n",
       "    </tr>\n",
       "    <tr>\n",
       "      <th>75%</th>\n",
       "      <td>710.500000</td>\n",
       "    </tr>\n",
       "    <tr>\n",
       "      <th>max</th>\n",
       "      <td>770.000000</td>\n",
       "    </tr>\n",
       "  </tbody>\n",
       "</table>\n",
       "</div>"
      ],
      "text/plain": [
       "         visitors\n",
       "count   62.000000\n",
       "mean   607.290323\n",
       "std    114.400560\n",
       "min    361.000000\n",
       "25%    534.000000\n",
       "50%    624.500000\n",
       "75%    710.500000\n",
       "max    770.000000"
      ]
     },
     "execution_count": 12,
     "metadata": {},
     "output_type": "execute_result"
    }
   ],
   "source": [
    "# printing information about the DataFrame\n",
    "visitors.info()\n",
    "\n",
    "# computing a summary of statistics\n",
    "visitors.describe()"
   ]
  },
  {
   "cell_type": "markdown",
   "metadata": {},
   "source": [
    "- Convert the date column type to datetime."
   ]
  },
  {
   "cell_type": "code",
   "execution_count": 13,
   "metadata": {},
   "outputs": [
    {
     "data": {
      "text/plain": [
       "0"
      ]
     },
     "execution_count": 13,
     "metadata": {},
     "output_type": "execute_result"
    }
   ],
   "source": [
    "# checking for duplicates\n",
    "visitors.duplicated().sum()"
   ]
  },
  {
   "cell_type": "markdown",
   "metadata": {},
   "source": [
    "**Conclusion**\n",
    "\n",
    "Hypothesis:\n",
    "- Change the column names to lowercase.\n",
    "\n",
    "Orders:\n",
    "- Change column names to snake case;\n",
    "- Convert the date column type to datetime.\n",
    "\n",
    "Visitors:\n",
    "- Convert the date column type to datetime. "
   ]
  },
  {
   "cell_type": "markdown",
   "metadata": {},
   "source": [
    "## Data preprocessing"
   ]
  },
  {
   "cell_type": "code",
   "execution_count": 14,
   "metadata": {},
   "outputs": [],
   "source": [
    "# renaming the columns\n",
    "hypothesis.columns = ['hypothesis', 'reach', 'impact', 'confidence', 'efforts']\n",
    "orders.columns = ['transaction_id', 'visitor_id', 'date', 'revenue', 'group']"
   ]
  },
  {
   "cell_type": "code",
   "execution_count": 15,
   "metadata": {},
   "outputs": [],
   "source": [
    "# converting the 'date' column type to datetime.\n",
    "orders['date'] = pd.to_datetime(orders['date'], format = '%Y-%m-%d')\n",
    "visitors['date'] = pd.to_datetime(visitors['date'], format = '%Y-%m-%d')"
   ]
  },
  {
   "cell_type": "code",
   "execution_count": 16,
   "metadata": {
    "scrolled": true
   },
   "outputs": [
    {
     "data": {
      "text/plain": [
       "B    640\n",
       "A    557\n",
       "Name: group, dtype: int64"
      ]
     },
     "execution_count": 16,
     "metadata": {},
     "output_type": "execute_result"
    }
   ],
   "source": [
    "# checking for groups in the orders table\n",
    "orders['group'].value_counts()"
   ]
  },
  {
   "cell_type": "code",
   "execution_count": 17,
   "metadata": {
    "scrolled": true
   },
   "outputs": [
    {
     "data": {
      "text/plain": [
       "B    31\n",
       "A    31\n",
       "Name: group, dtype: int64"
      ]
     },
     "execution_count": 17,
     "metadata": {},
     "output_type": "execute_result"
    }
   ],
   "source": [
    "# checking for groups in the visitors table\n",
    "visitors['group'].value_counts()"
   ]
  },
  {
   "cell_type": "code",
   "execution_count": 18,
   "metadata": {},
   "outputs": [
    {
     "data": {
      "text/plain": [
       "'First date of A/B test:'"
      ]
     },
     "metadata": {},
     "output_type": "display_data"
    },
    {
     "data": {
      "text/plain": [
       "Timestamp('2019-08-01 00:00:00')"
      ]
     },
     "metadata": {},
     "output_type": "display_data"
    },
    {
     "data": {
      "text/plain": [
       "'Last date of A/B test:'"
      ]
     },
     "metadata": {},
     "output_type": "display_data"
    },
    {
     "data": {
      "text/plain": [
       "Timestamp('2019-08-31 00:00:00')"
      ]
     },
     "metadata": {},
     "output_type": "display_data"
    }
   ],
   "source": [
    "# identifying the minimum and maximum date in table orders\n",
    "min_date_orders = orders['date'].min()\n",
    "max_date_orders = orders['date'].max()\n",
    "\n",
    "display('First date of A/B test:', min_date_orders)\n",
    "display('Last date of A/B test:', max_date_orders)"
   ]
  },
  {
   "cell_type": "code",
   "execution_count": 19,
   "metadata": {
    "scrolled": true
   },
   "outputs": [
    {
     "data": {
      "text/plain": [
       "'First date of A/B test:'"
      ]
     },
     "metadata": {},
     "output_type": "display_data"
    },
    {
     "data": {
      "text/plain": [
       "Timestamp('2019-08-01 00:00:00')"
      ]
     },
     "metadata": {},
     "output_type": "display_data"
    },
    {
     "data": {
      "text/plain": [
       "'Last date of A/B test:'"
      ]
     },
     "metadata": {},
     "output_type": "display_data"
    },
    {
     "data": {
      "text/plain": [
       "Timestamp('2019-08-31 00:00:00')"
      ]
     },
     "metadata": {},
     "output_type": "display_data"
    }
   ],
   "source": [
    "# identifying the minimum and maximum date in table visitors\n",
    "min_date_visitors = visitors['date'].min()\n",
    "max_date_visitors = visitors['date'].max()\n",
    "\n",
    "display('First date of A/B test:', min_date_visitors)\n",
    "display('Last date of A/B test:', max_date_visitors)"
   ]
  },
  {
   "cell_type": "markdown",
   "metadata": {},
   "source": [
    "- First and last dates of A/B test are the same in tables orders and visitors."
   ]
  },
  {
   "cell_type": "markdown",
   "metadata": {},
   "source": [
    "**Conclusion**\n",
    "\n",
    "- Changed the column names of the hypothesis and orders tables;\n",
    "- Converted the 'date' columns type to datetime in the orders and visitors tables;\n",
    "- There are groups A and B in A/B test;\n",
    "- First date of A/B test: 2019-08-01\n",
    "- Last date of A/B test: 2019-08-31"
   ]
  },
  {
   "cell_type": "markdown",
   "metadata": {},
   "source": [
    "## Prioritization of hypotheses"
   ]
  },
  {
   "cell_type": "markdown",
   "metadata": {},
   "source": [
    "- Apply the ICE framework to prioritize hypotheses;\n",
    "- Apply the RICE framework to prioritize hypotheses;\n",
    "- Explain how the priority of hypotheses changed when RICE was used instead of ICE. "
   ]
  },
  {
   "cell_type": "markdown",
   "metadata": {},
   "source": [
    "### Applying the ICE framework to prioritize hypotheses"
   ]
  },
  {
   "cell_type": "code",
   "execution_count": 20,
   "metadata": {},
   "outputs": [],
   "source": [
    "# calculating ICE using the (impact * confidence / efforts) formula and saving it in the hypothesis table\n",
    "hypothesis['ICE'] = hypothesis['impact'] * hypothesis['confidence'] / hypothesis['efforts']"
   ]
  },
  {
   "cell_type": "code",
   "execution_count": 21,
   "metadata": {
    "scrolled": false
   },
   "outputs": [
    {
     "data": {
      "text/html": [
       "<div>\n",
       "<style scoped>\n",
       "    .dataframe tbody tr th:only-of-type {\n",
       "        vertical-align: middle;\n",
       "    }\n",
       "\n",
       "    .dataframe tbody tr th {\n",
       "        vertical-align: top;\n",
       "    }\n",
       "\n",
       "    .dataframe thead th {\n",
       "        text-align: right;\n",
       "    }\n",
       "</style>\n",
       "<table border=\"1\" class=\"dataframe\">\n",
       "  <thead>\n",
       "    <tr style=\"text-align: right;\">\n",
       "      <th></th>\n",
       "      <th>hypothesis</th>\n",
       "      <th>ICE</th>\n",
       "    </tr>\n",
       "  </thead>\n",
       "  <tbody>\n",
       "    <tr>\n",
       "      <th>8</th>\n",
       "      <td>Запустить акцию, дающую скидку на товар в день рождения</td>\n",
       "      <td>16.20</td>\n",
       "    </tr>\n",
       "    <tr>\n",
       "      <th>0</th>\n",
       "      <td>Добавить два новых канала привлечения трафика, что позволит привлекать на 30% больше пользователей</td>\n",
       "      <td>13.33</td>\n",
       "    </tr>\n",
       "    <tr>\n",
       "      <th>7</th>\n",
       "      <td>Добавить форму подписки на все основные страницы, чтобы собрать базу клиентов для email-рассылок</td>\n",
       "      <td>11.20</td>\n",
       "    </tr>\n",
       "    <tr>\n",
       "      <th>6</th>\n",
       "      <td>Показать на главной странице баннеры с актуальными акциями и распродажами, чтобы увеличить конве...</td>\n",
       "      <td>8.00</td>\n",
       "    </tr>\n",
       "    <tr>\n",
       "      <th>2</th>\n",
       "      <td>Добавить блоки рекомендаций товаров на сайт интернет магазина, чтобы повысить конверсию и средни...</td>\n",
       "      <td>7.00</td>\n",
       "    </tr>\n",
       "    <tr>\n",
       "      <th>1</th>\n",
       "      <td>Запустить собственную службу доставки, что сократит срок доставки заказов</td>\n",
       "      <td>2.00</td>\n",
       "    </tr>\n",
       "    <tr>\n",
       "      <th>5</th>\n",
       "      <td>Добавить страницу отзывов клиентов о магазине, что позволит увеличить количество заказов</td>\n",
       "      <td>1.33</td>\n",
       "    </tr>\n",
       "    <tr>\n",
       "      <th>3</th>\n",
       "      <td>Изменить структура категорий, что увеличит конверсию, т.к. пользователи быстрее найдут нужный товар</td>\n",
       "      <td>1.12</td>\n",
       "    </tr>\n",
       "    <tr>\n",
       "      <th>4</th>\n",
       "      <td>Изменить цвет фона главной страницы, чтобы увеличить вовлеченность пользователей</td>\n",
       "      <td>1.00</td>\n",
       "    </tr>\n",
       "  </tbody>\n",
       "</table>\n",
       "</div>"
      ],
      "text/plain": [
       "                                                                                            hypothesis  \\\n",
       "8                                              Запустить акцию, дающую скидку на товар в день рождения   \n",
       "0   Добавить два новых канала привлечения трафика, что позволит привлекать на 30% больше пользователей   \n",
       "7     Добавить форму подписки на все основные страницы, чтобы собрать базу клиентов для email-рассылок   \n",
       "6  Показать на главной странице баннеры с актуальными акциями и распродажами, чтобы увеличить конве...   \n",
       "2  Добавить блоки рекомендаций товаров на сайт интернет магазина, чтобы повысить конверсию и средни...   \n",
       "1                            Запустить собственную службу доставки, что сократит срок доставки заказов   \n",
       "5             Добавить страницу отзывов клиентов о магазине, что позволит увеличить количество заказов   \n",
       "3  Изменить структура категорий, что увеличит конверсию, т.к. пользователи быстрее найдут нужный товар   \n",
       "4                     Изменить цвет фона главной страницы, чтобы увеличить вовлеченность пользователей   \n",
       "\n",
       "     ICE  \n",
       "8  16.20  \n",
       "0  13.33  \n",
       "7  11.20  \n",
       "6   8.00  \n",
       "2   7.00  \n",
       "1   2.00  \n",
       "5   1.33  \n",
       "3   1.12  \n",
       "4   1.00  "
      ]
     },
     "execution_count": 21,
     "metadata": {},
     "output_type": "execute_result"
    }
   ],
   "source": [
    "# sorting in the descending order and displaying\n",
    "hypothesis_ice = hypothesis[['hypothesis', 'ICE']].sort_values(by='ICE', ascending = False).round(2)\n",
    "hypothesis_ice"
   ]
  },
  {
   "cell_type": "markdown",
   "metadata": {},
   "source": [
    "Hypotheses number 8 has the highest priority in the ICE framework."
   ]
  },
  {
   "cell_type": "markdown",
   "metadata": {},
   "source": [
    "### Applying the RICE framework to prioritize hypotheses"
   ]
  },
  {
   "cell_type": "code",
   "execution_count": 22,
   "metadata": {},
   "outputs": [],
   "source": [
    "# calculating RICE using the (reach * impact * confidence / efforts) formula and saving it in the hypothesis table\n",
    "hypothesis['RICE'] = hypothesis['reach'] * hypothesis['impact'] * hypothesis['confidence'] / hypothesis['efforts']"
   ]
  },
  {
   "cell_type": "code",
   "execution_count": 23,
   "metadata": {
    "scrolled": true
   },
   "outputs": [
    {
     "data": {
      "text/html": [
       "<div>\n",
       "<style scoped>\n",
       "    .dataframe tbody tr th:only-of-type {\n",
       "        vertical-align: middle;\n",
       "    }\n",
       "\n",
       "    .dataframe tbody tr th {\n",
       "        vertical-align: top;\n",
       "    }\n",
       "\n",
       "    .dataframe thead th {\n",
       "        text-align: right;\n",
       "    }\n",
       "</style>\n",
       "<table border=\"1\" class=\"dataframe\">\n",
       "  <thead>\n",
       "    <tr style=\"text-align: right;\">\n",
       "      <th></th>\n",
       "      <th>hypothesis</th>\n",
       "      <th>RICE</th>\n",
       "    </tr>\n",
       "  </thead>\n",
       "  <tbody>\n",
       "    <tr>\n",
       "      <th>7</th>\n",
       "      <td>Добавить форму подписки на все основные страницы, чтобы собрать базу клиентов для email-рассылок</td>\n",
       "      <td>112.0</td>\n",
       "    </tr>\n",
       "    <tr>\n",
       "      <th>2</th>\n",
       "      <td>Добавить блоки рекомендаций товаров на сайт интернет магазина, чтобы повысить конверсию и средни...</td>\n",
       "      <td>56.0</td>\n",
       "    </tr>\n",
       "    <tr>\n",
       "      <th>0</th>\n",
       "      <td>Добавить два новых канала привлечения трафика, что позволит привлекать на 30% больше пользователей</td>\n",
       "      <td>40.0</td>\n",
       "    </tr>\n",
       "    <tr>\n",
       "      <th>6</th>\n",
       "      <td>Показать на главной странице баннеры с актуальными акциями и распродажами, чтобы увеличить конве...</td>\n",
       "      <td>40.0</td>\n",
       "    </tr>\n",
       "    <tr>\n",
       "      <th>8</th>\n",
       "      <td>Запустить акцию, дающую скидку на товар в день рождения</td>\n",
       "      <td>16.2</td>\n",
       "    </tr>\n",
       "    <tr>\n",
       "      <th>3</th>\n",
       "      <td>Изменить структура категорий, что увеличит конверсию, т.к. пользователи быстрее найдут нужный товар</td>\n",
       "      <td>9.0</td>\n",
       "    </tr>\n",
       "    <tr>\n",
       "      <th>1</th>\n",
       "      <td>Запустить собственную службу доставки, что сократит срок доставки заказов</td>\n",
       "      <td>4.0</td>\n",
       "    </tr>\n",
       "    <tr>\n",
       "      <th>5</th>\n",
       "      <td>Добавить страницу отзывов клиентов о магазине, что позволит увеличить количество заказов</td>\n",
       "      <td>4.0</td>\n",
       "    </tr>\n",
       "    <tr>\n",
       "      <th>4</th>\n",
       "      <td>Изменить цвет фона главной страницы, чтобы увеличить вовлеченность пользователей</td>\n",
       "      <td>3.0</td>\n",
       "    </tr>\n",
       "  </tbody>\n",
       "</table>\n",
       "</div>"
      ],
      "text/plain": [
       "                                                                                            hypothesis  \\\n",
       "7     Добавить форму подписки на все основные страницы, чтобы собрать базу клиентов для email-рассылок   \n",
       "2  Добавить блоки рекомендаций товаров на сайт интернет магазина, чтобы повысить конверсию и средни...   \n",
       "0   Добавить два новых канала привлечения трафика, что позволит привлекать на 30% больше пользователей   \n",
       "6  Показать на главной странице баннеры с актуальными акциями и распродажами, чтобы увеличить конве...   \n",
       "8                                              Запустить акцию, дающую скидку на товар в день рождения   \n",
       "3  Изменить структура категорий, что увеличит конверсию, т.к. пользователи быстрее найдут нужный товар   \n",
       "1                            Запустить собственную службу доставки, что сократит срок доставки заказов   \n",
       "5             Добавить страницу отзывов клиентов о магазине, что позволит увеличить количество заказов   \n",
       "4                     Изменить цвет фона главной страницы, чтобы увеличить вовлеченность пользователей   \n",
       "\n",
       "    RICE  \n",
       "7  112.0  \n",
       "2   56.0  \n",
       "0   40.0  \n",
       "6   40.0  \n",
       "8   16.2  \n",
       "3    9.0  \n",
       "1    4.0  \n",
       "5    4.0  \n",
       "4    3.0  "
      ]
     },
     "execution_count": 23,
     "metadata": {},
     "output_type": "execute_result"
    }
   ],
   "source": [
    "# sorting in descending order and displaying\n",
    "hypothesis_rice = hypothesis[['hypothesis', 'RICE']].sort_values(by='RICE', ascending = False)\n",
    "hypothesis_rice"
   ]
  },
  {
   "cell_type": "markdown",
   "metadata": {},
   "source": [
    "Hypotheses number 7 has the highest priority in the RICE framework."
   ]
  },
  {
   "cell_type": "code",
   "execution_count": 24,
   "metadata": {},
   "outputs": [
    {
     "data": {
      "image/png": "[encoded data removed]",
      "text/plain": [
       "<Figure size 720x720 with 1 Axes>"
      ]
     },
     "metadata": {
      "needs_background": "light"
     },
     "output_type": "display_data"
    }
   ],
   "source": [
    "# visualizing ICE and RICE hypotheses\n",
    "y = hypothesis['ICE'] \n",
    "z = hypothesis['RICE'] \n",
    "n = hypothesis.index \n",
    "\n",
    "fig, ax = plt.subplots()\n",
    "ax.scatter(z, y)\n",
    "\n",
    "for i, txt in enumerate(n):\n",
    "    ax.annotate(txt, (z[i], y[i]))\n",
    "\n",
    "plt.title(\"ICE and RICE hypotheses\") \n",
    "plt.xlabel(\"RICE\") \n",
    "plt.ylabel(\"ICE\")\n",
    "\n",
    "fig.set_figheight(10)\n",
    "fig.set_figwidth(10) \n",
    "plt.show()    "
   ]
  },
  {
   "cell_type": "markdown",
   "metadata": {},
   "source": [
    "### Explaining how the priority of hypotheses changed when RICE was used instead of ICE. "
   ]
  },
  {
   "cell_type": "code",
   "execution_count": 25,
   "metadata": {
    "scrolled": true
   },
   "outputs": [
    {
     "data": {
      "text/html": [
       "<div>\n",
       "<style scoped>\n",
       "    .dataframe tbody tr th:only-of-type {\n",
       "        vertical-align: middle;\n",
       "    }\n",
       "\n",
       "    .dataframe tbody tr th {\n",
       "        vertical-align: top;\n",
       "    }\n",
       "\n",
       "    .dataframe thead th {\n",
       "        text-align: right;\n",
       "    }\n",
       "</style>\n",
       "<table border=\"1\" class=\"dataframe\">\n",
       "  <thead>\n",
       "    <tr style=\"text-align: right;\">\n",
       "      <th></th>\n",
       "      <th>hypothesis</th>\n",
       "      <th>ICE</th>\n",
       "      <th>RICE</th>\n",
       "    </tr>\n",
       "  </thead>\n",
       "  <tbody>\n",
       "    <tr>\n",
       "      <th>0</th>\n",
       "      <td>Запустить акцию, дающую скидку на товар в день рождения</td>\n",
       "      <td>16.20</td>\n",
       "      <td>16.2</td>\n",
       "    </tr>\n",
       "    <tr>\n",
       "      <th>1</th>\n",
       "      <td>Добавить два новых канала привлечения трафика, что позволит привлекать на 30% больше пользователей</td>\n",
       "      <td>13.33</td>\n",
       "      <td>40.0</td>\n",
       "    </tr>\n",
       "    <tr>\n",
       "      <th>2</th>\n",
       "      <td>Добавить форму подписки на все основные страницы, чтобы собрать базу клиентов для email-рассылок</td>\n",
       "      <td>11.20</td>\n",
       "      <td>112.0</td>\n",
       "    </tr>\n",
       "    <tr>\n",
       "      <th>3</th>\n",
       "      <td>Показать на главной странице баннеры с актуальными акциями и распродажами, чтобы увеличить конве...</td>\n",
       "      <td>8.00</td>\n",
       "      <td>40.0</td>\n",
       "    </tr>\n",
       "    <tr>\n",
       "      <th>4</th>\n",
       "      <td>Добавить блоки рекомендаций товаров на сайт интернет магазина, чтобы повысить конверсию и средни...</td>\n",
       "      <td>7.00</td>\n",
       "      <td>56.0</td>\n",
       "    </tr>\n",
       "    <tr>\n",
       "      <th>5</th>\n",
       "      <td>Запустить собственную службу доставки, что сократит срок доставки заказов</td>\n",
       "      <td>2.00</td>\n",
       "      <td>4.0</td>\n",
       "    </tr>\n",
       "    <tr>\n",
       "      <th>6</th>\n",
       "      <td>Добавить страницу отзывов клиентов о магазине, что позволит увеличить количество заказов</td>\n",
       "      <td>1.33</td>\n",
       "      <td>4.0</td>\n",
       "    </tr>\n",
       "    <tr>\n",
       "      <th>7</th>\n",
       "      <td>Изменить структура категорий, что увеличит конверсию, т.к. пользователи быстрее найдут нужный товар</td>\n",
       "      <td>1.12</td>\n",
       "      <td>9.0</td>\n",
       "    </tr>\n",
       "    <tr>\n",
       "      <th>8</th>\n",
       "      <td>Изменить цвет фона главной страницы, чтобы увеличить вовлеченность пользователей</td>\n",
       "      <td>1.00</td>\n",
       "      <td>3.0</td>\n",
       "    </tr>\n",
       "  </tbody>\n",
       "</table>\n",
       "</div>"
      ],
      "text/plain": [
       "                                                                                            hypothesis  \\\n",
       "0                                              Запустить акцию, дающую скидку на товар в день рождения   \n",
       "1   Добавить два новых канала привлечения трафика, что позволит привлекать на 30% больше пользователей   \n",
       "2     Добавить форму подписки на все основные страницы, чтобы собрать базу клиентов для email-рассылок   \n",
       "3  Показать на главной странице баннеры с актуальными акциями и распродажами, чтобы увеличить конве...   \n",
       "4  Добавить блоки рекомендаций товаров на сайт интернет магазина, чтобы повысить конверсию и средни...   \n",
       "5                            Запустить собственную службу доставки, что сократит срок доставки заказов   \n",
       "6             Добавить страницу отзывов клиентов о магазине, что позволит увеличить количество заказов   \n",
       "7  Изменить структура категорий, что увеличит конверсию, т.к. пользователи быстрее найдут нужный товар   \n",
       "8                     Изменить цвет фона главной страницы, чтобы увеличить вовлеченность пользователей   \n",
       "\n",
       "     ICE   RICE  \n",
       "0  16.20   16.2  \n",
       "1  13.33   40.0  \n",
       "2  11.20  112.0  \n",
       "3   8.00   40.0  \n",
       "4   7.00   56.0  \n",
       "5   2.00    4.0  \n",
       "6   1.33    4.0  \n",
       "7   1.12    9.0  \n",
       "8   1.00    3.0  "
      ]
     },
     "execution_count": 25,
     "metadata": {},
     "output_type": "execute_result"
    }
   ],
   "source": [
    "# merging ICE and RICE on the hypothesis column\n",
    "hypothesis_priority = hypothesis_ice.merge(hypothesis_rice, on = 'hypothesis')\n",
    "hypothesis_priority"
   ]
  },
  {
   "cell_type": "markdown",
   "metadata": {},
   "source": [
    "The parameter (Reach) used in the RICE framework changed the entire priority obtained by the ICE framework, only 6 and 4 hypotheses remained in the same places."
   ]
  },
  {
   "cell_type": "markdown",
   "metadata": {},
   "source": [
    "**Conclusion**\n",
    "\n",
    "- Applied the ICE framework to prioritize hypotheses. Hypotheses number 8 has the highest priority in the ICE framework.\n",
    "- Applied the RICE framework to prioritize hypotheses. Hypotheses number 7 has the highest priority in the ICE framework.\n",
    "- The parameter (Reach) used in the RICE framework changed the entire priority obtained by the ICE framework, only 6 and 4 hypotheses remained in the same places."
   ]
  },
  {
   "cell_type": "markdown",
   "metadata": {},
   "source": [
    "## A/B test analysis"
   ]
  },
  {
   "cell_type": "markdown",
   "metadata": {},
   "source": [
    "- Plot on a graph the cumulative revenue by groups;\n",
    "- Plot on a graph the cumulative average check by group;\n",
    "- Plot on a graph the relative change in the cumulative average check of group B to group A;\n",
    "- Plot on a graph the cumulative conversion by group;\n",
    "- Plot on a graph the relative change in the cumulative conversion of group B to group A;\n",
    "- Plot a scatter plot of the number of orders by users;\n",
    "- Calculate the 95th and 99th percentiles of orders per user. Set a boundary for identifying anomalous users;\n",
    "- Plot a scatter plot of order revenue;\n",
    "- Calculate the 95th and 99th percentiles of order revenue. Set a boundary for identifying anomalous orders;\n",
    "- Calculate the statistical significance of differences in conversions between groups using \"raw\" data (without removing anomalous users);\n",
    "- Calculate the statistical significance of the differences in the average order check between the groups using \"raw\" data (without removing anomalous users);\n",
    "- Calculate the statistical significance of differences in conversion between the groups using \"clean\" data (with removing anomalous users);\n",
    "- Calculate the statistical significance of the differences in the average order check between the groups using \"clean\" data (without removing anomalous users);\n",
    "- Making a decision based on the results of the test."
   ]
  },
  {
   "cell_type": "markdown",
   "metadata": {},
   "source": [
    "### Plotting on a graph the cumulative revenue by groups"
   ]
  },
  {
   "cell_type": "code",
   "execution_count": 26,
   "metadata": {},
   "outputs": [],
   "source": [
    "# creating an array of unique pairs of date and group values\n",
    "datesGroups = orders[['date','group']].drop_duplicates() "
   ]
  },
  {
   "cell_type": "markdown",
   "metadata": {},
   "source": [
    "Let's aggregate daily order data:\n",
    "\n",
    "- Get the rows of the orders table where the date is less than or equal to the date from datesGroups, and the group is equal to the group from datesGroups: orders[np.logical_and(orders['date'] <= x['date'], orders['group'] == x['group'])].\n",
    "\n",
    "- Aggregate values. Calculate the maximum date, the maximum group, the number of unique IDs of orders and users, and the sum of average checks: .agg({'date' : 'max', 'group' : 'max', 'transaction_id' : 'nunique', 'visitor_id' : 'nunique', 'revenue' : 'sum'}). \n",
    "\n",
    "- Apply to each row of the dataframe: apply(axis=1) \n",
    "- Sort values by the 'date' and 'group' columns"
   ]
  },
  {
   "cell_type": "code",
   "execution_count": 27,
   "metadata": {},
   "outputs": [],
   "source": [
    "# aggregating cumulative data on orders by day\n",
    "ordersAggregated = datesGroups.apply(\n",
    "    lambda x: orders[np.logical_and(orders['date'] <= x['date'], orders['group'] == x['group'])]\n",
    "    .agg({\n",
    "        'date' : 'max', \n",
    "        'group' : 'max', \n",
    "        'transaction_id' : 'nunique', \n",
    "        'visitor_id' : 'nunique', \n",
    "        'revenue' : 'sum'}), axis=1).sort_values(\n",
    "    by=['date','group']) "
   ]
  },
  {
   "cell_type": "markdown",
   "metadata": {},
   "source": [
    "Similarly aggregate cumulative data on visitors by day."
   ]
  },
  {
   "cell_type": "code",
   "execution_count": 28,
   "metadata": {},
   "outputs": [],
   "source": [
    "# aggregating cumulative data on visitors by day \n",
    "visitorsAggregated = datesGroups.apply(\n",
    "    lambda x: visitors[np.logical_and(visitors['date'] <= x['date'], visitors['group'] == x['group'])]\n",
    "    .agg({\n",
    "        'date' : 'max', \n",
    "        'group' : 'max', \n",
    "        'visitors' : 'sum'}), axis=1).sort_values(\n",
    "    by=['date','group'])"
   ]
  },
  {
   "cell_type": "code",
   "execution_count": 29,
   "metadata": {
    "scrolled": true
   },
   "outputs": [
    {
     "data": {
      "text/html": [
       "<div>\n",
       "<style scoped>\n",
       "    .dataframe tbody tr th:only-of-type {\n",
       "        vertical-align: middle;\n",
       "    }\n",
       "\n",
       "    .dataframe tbody tr th {\n",
       "        vertical-align: top;\n",
       "    }\n",
       "\n",
       "    .dataframe thead th {\n",
       "        text-align: right;\n",
       "    }\n",
       "</style>\n",
       "<table border=\"1\" class=\"dataframe\">\n",
       "  <thead>\n",
       "    <tr style=\"text-align: right;\">\n",
       "      <th></th>\n",
       "      <th>date</th>\n",
       "      <th>group</th>\n",
       "      <th>orders</th>\n",
       "      <th>buyers</th>\n",
       "      <th>revenue</th>\n",
       "      <th>visitors</th>\n",
       "    </tr>\n",
       "  </thead>\n",
       "  <tbody>\n",
       "    <tr>\n",
       "      <th>0</th>\n",
       "      <td>2019-08-01</td>\n",
       "      <td>A</td>\n",
       "      <td>24</td>\n",
       "      <td>20</td>\n",
       "      <td>148579</td>\n",
       "      <td>719</td>\n",
       "    </tr>\n",
       "    <tr>\n",
       "      <th>1</th>\n",
       "      <td>2019-08-01</td>\n",
       "      <td>B</td>\n",
       "      <td>21</td>\n",
       "      <td>20</td>\n",
       "      <td>101217</td>\n",
       "      <td>713</td>\n",
       "    </tr>\n",
       "    <tr>\n",
       "      <th>2</th>\n",
       "      <td>2019-08-02</td>\n",
       "      <td>A</td>\n",
       "      <td>44</td>\n",
       "      <td>38</td>\n",
       "      <td>242401</td>\n",
       "      <td>1338</td>\n",
       "    </tr>\n",
       "    <tr>\n",
       "      <th>3</th>\n",
       "      <td>2019-08-02</td>\n",
       "      <td>B</td>\n",
       "      <td>45</td>\n",
       "      <td>43</td>\n",
       "      <td>266748</td>\n",
       "      <td>1294</td>\n",
       "    </tr>\n",
       "    <tr>\n",
       "      <th>4</th>\n",
       "      <td>2019-08-03</td>\n",
       "      <td>A</td>\n",
       "      <td>68</td>\n",
       "      <td>62</td>\n",
       "      <td>354874</td>\n",
       "      <td>1845</td>\n",
       "    </tr>\n",
       "  </tbody>\n",
       "</table>\n",
       "</div>"
      ],
      "text/plain": [
       "        date group  orders  buyers  revenue  visitors\n",
       "0 2019-08-01     A      24      20   148579       719\n",
       "1 2019-08-01     B      21      20   101217       713\n",
       "2 2019-08-02     A      44      38   242401      1338\n",
       "3 2019-08-02     B      45      43   266748      1294\n",
       "4 2019-08-03     A      68      62   354874      1845"
      ]
     },
     "execution_count": 29,
     "metadata": {},
     "output_type": "execute_result"
    }
   ],
   "source": [
    "# merging both tables\n",
    "cumulativeData = ordersAggregated.merge(visitorsAggregated, left_on=['date', 'group'], right_on=['date', 'group'])\n",
    "cumulativeData.columns = ['date', 'group', 'orders', 'buyers', 'revenue', 'visitors']\n",
    "cumulativeData.head()"
   ]
  },
  {
   "cell_type": "markdown",
   "metadata": {},
   "source": [
    "Let's check whether the cummulativeData dataframe was created correctly."
   ]
  },
  {
   "cell_type": "code",
   "execution_count": 30,
   "metadata": {
    "scrolled": true
   },
   "outputs": [
    {
     "data": {
      "text/plain": [
       "'First date of A/B test:'"
      ]
     },
     "metadata": {},
     "output_type": "display_data"
    },
    {
     "data": {
      "text/plain": [
       "Timestamp('2019-08-01 00:00:00')"
      ]
     },
     "metadata": {},
     "output_type": "display_data"
    },
    {
     "data": {
      "text/plain": [
       "'Last date of A/B test:'"
      ]
     },
     "metadata": {},
     "output_type": "display_data"
    },
    {
     "data": {
      "text/plain": [
       "Timestamp('2019-08-31 00:00:00')"
      ]
     },
     "metadata": {},
     "output_type": "display_data"
    }
   ],
   "source": [
    "# checking whether the minimum and maximum dates in the cumulativeData dataframe \n",
    "# match the minimum and maximum dates in the original dataframes\n",
    "min_date_cumulativeData = cumulativeData['date'].min()\n",
    "max_date_cumulativeData = cumulativeData['date'].max()\n",
    "\n",
    "display('First date of A/B test:', min_date_cumulativeData)\n",
    "display('Last date of A/B test:', max_date_cumulativeData)"
   ]
  },
  {
   "cell_type": "markdown",
   "metadata": {},
   "source": [
    "The minimum and maximum dates match dates in the original dataframes."
   ]
  },
  {
   "cell_type": "markdown",
   "metadata": {},
   "source": [
    "Next, plot graphs of cumulative revenue by days and groups of A/B testing."
   ]
  },
  {
   "cell_type": "code",
   "execution_count": 31,
   "metadata": {},
   "outputs": [
    {
     "data": {
      "text/plain": [
       "<matplotlib.legend.Legend at 0x1a20c82438>"
      ]
     },
     "execution_count": 31,
     "metadata": {},
     "output_type": "execute_result"
    },
    {
     "data": {
      "image/png": "[encoded data removed]",
      "text/plain": [
       "<Figure size 1080x360 with 1 Axes>"
      ]
     },
     "metadata": {
      "needs_background": "light"
     },
     "output_type": "display_data"
    }
   ],
   "source": [
    "# creating a dataframe with group A cumulative revenue\n",
    "cumulativeRevenueA = cumulativeData[cumulativeData['group']=='A'][['date','revenue', 'orders']]\n",
    "\n",
    "# creating a dataframe with group B cumulative revenue\n",
    "cumulativeRevenueB = cumulativeData[cumulativeData['group']=='B'][['date','revenue', 'orders']]\n",
    "\n",
    "# plotting a graph with group A cumulative revenue\n",
    "plt.figure(figsize=(15,5))\n",
    "plt.plot(cumulativeRevenueA['date'], cumulativeRevenueA['revenue'], label='A')\n",
    "\n",
    "# plotting a graph with group B cumulative revenue\n",
    "plt.plot(cumulativeRevenueB['date'], cumulativeRevenueB['revenue'], label='B')\n",
    "\n",
    "plt.title('Cumulative revenue by days and A/B testing groups')\n",
    "plt.legend() "
   ]
  },
  {
   "cell_type": "markdown",
   "metadata": {},
   "source": [
    "- Early in August, revenue in group B is growing slightly faster than in group A.\n",
    "- On August 13 revenue is about the same.\n",
    "- Group B's revenue shows a sharp increase on August 19. This may indicate a spike in order volume, or expensive orders.\n",
    "\n",
    "Let's take a look at what orders were placed between August 17 and August 21."
   ]
  },
  {
   "cell_type": "code",
   "execution_count": 32,
   "metadata": {},
   "outputs": [
    {
     "data": {
      "text/html": [
       "<div>\n",
       "<style scoped>\n",
       "    .dataframe tbody tr th:only-of-type {\n",
       "        vertical-align: middle;\n",
       "    }\n",
       "\n",
       "    .dataframe tbody tr th {\n",
       "        vertical-align: top;\n",
       "    }\n",
       "\n",
       "    .dataframe thead th {\n",
       "        text-align: right;\n",
       "    }\n",
       "</style>\n",
       "<table border=\"1\" class=\"dataframe\">\n",
       "  <thead>\n",
       "    <tr style=\"text-align: right;\">\n",
       "      <th></th>\n",
       "      <th>date</th>\n",
       "      <th>revenue</th>\n",
       "      <th>orders</th>\n",
       "    </tr>\n",
       "  </thead>\n",
       "  <tbody>\n",
       "    <tr>\n",
       "      <th>33</th>\n",
       "      <td>2019-08-17</td>\n",
       "      <td>2620790</td>\n",
       "      <td>373</td>\n",
       "    </tr>\n",
       "    <tr>\n",
       "      <th>35</th>\n",
       "      <td>2019-08-18</td>\n",
       "      <td>2686621</td>\n",
       "      <td>382</td>\n",
       "    </tr>\n",
       "    <tr>\n",
       "      <th>37</th>\n",
       "      <td>2019-08-19</td>\n",
       "      <td>4116541</td>\n",
       "      <td>403</td>\n",
       "    </tr>\n",
       "    <tr>\n",
       "      <th>39</th>\n",
       "      <td>2019-08-20</td>\n",
       "      <td>4263815</td>\n",
       "      <td>423</td>\n",
       "    </tr>\n",
       "    <tr>\n",
       "      <th>41</th>\n",
       "      <td>2019-08-21</td>\n",
       "      <td>4426892</td>\n",
       "      <td>437</td>\n",
       "    </tr>\n",
       "  </tbody>\n",
       "</table>\n",
       "</div>"
      ],
      "text/plain": [
       "         date  revenue  orders\n",
       "33 2019-08-17  2620790     373\n",
       "35 2019-08-18  2686621     382\n",
       "37 2019-08-19  4116541     403\n",
       "39 2019-08-20  4263815     423\n",
       "41 2019-08-21  4426892     437"
      ]
     },
     "execution_count": 32,
     "metadata": {},
     "output_type": "execute_result"
    }
   ],
   "source": [
    "# checking group B orders between August 17 and 21\n",
    "cumulativeRevenueB.query('\"2019-08-17\" <= date <= \"2019-08-21\"')"
   ]
  },
  {
   "cell_type": "markdown",
   "metadata": {},
   "source": [
    "The order volume on August 19 is similar to that on August 17 and 21."
   ]
  },
  {
   "cell_type": "code",
   "execution_count": 33,
   "metadata": {},
   "outputs": [
    {
     "name": "stdout",
     "output_type": "stream",
     "text": [
      "Median revenue on August 19 = 2630.0\n"
     ]
    },
    {
     "data": {
      "text/html": [
       "<div>\n",
       "<style scoped>\n",
       "    .dataframe tbody tr th:only-of-type {\n",
       "        vertical-align: middle;\n",
       "    }\n",
       "\n",
       "    .dataframe tbody tr th {\n",
       "        vertical-align: top;\n",
       "    }\n",
       "\n",
       "    .dataframe thead th {\n",
       "        text-align: right;\n",
       "    }\n",
       "</style>\n",
       "<table border=\"1\" class=\"dataframe\">\n",
       "  <thead>\n",
       "    <tr style=\"text-align: right;\">\n",
       "      <th></th>\n",
       "      <th>transaction_id</th>\n",
       "      <th>visitor_id</th>\n",
       "      <th>date</th>\n",
       "      <th>revenue</th>\n",
       "      <th>group</th>\n",
       "    </tr>\n",
       "  </thead>\n",
       "  <tbody>\n",
       "    <tr>\n",
       "      <th>425</th>\n",
       "      <td>590470918</td>\n",
       "      <td>1920142716</td>\n",
       "      <td>2019-08-19</td>\n",
       "      <td>1294500</td>\n",
       "      <td>B</td>\n",
       "    </tr>\n",
       "    <tr>\n",
       "      <th>530</th>\n",
       "      <td>3970235543</td>\n",
       "      <td>2912540959</td>\n",
       "      <td>2019-08-19</td>\n",
       "      <td>43990</td>\n",
       "      <td>A</td>\n",
       "    </tr>\n",
       "    <tr>\n",
       "      <th>527</th>\n",
       "      <td>1570513684</td>\n",
       "      <td>2837914161</td>\n",
       "      <td>2019-08-19</td>\n",
       "      <td>33405</td>\n",
       "      <td>B</td>\n",
       "    </tr>\n",
       "    <tr>\n",
       "      <th>421</th>\n",
       "      <td>3765974140</td>\n",
       "      <td>1357170471</td>\n",
       "      <td>2019-08-19</td>\n",
       "      <td>31680</td>\n",
       "      <td>A</td>\n",
       "    </tr>\n",
       "    <tr>\n",
       "      <th>461</th>\n",
       "      <td>2683113224</td>\n",
       "      <td>154576532</td>\n",
       "      <td>2019-08-19</td>\n",
       "      <td>26550</td>\n",
       "      <td>B</td>\n",
       "    </tr>\n",
       "    <tr>\n",
       "      <th>525</th>\n",
       "      <td>3031564664</td>\n",
       "      <td>393266494</td>\n",
       "      <td>2019-08-19</td>\n",
       "      <td>21550</td>\n",
       "      <td>A</td>\n",
       "    </tr>\n",
       "    <tr>\n",
       "      <th>368</th>\n",
       "      <td>3268879337</td>\n",
       "      <td>2536252163</td>\n",
       "      <td>2019-08-19</td>\n",
       "      <td>20026</td>\n",
       "      <td>B</td>\n",
       "    </tr>\n",
       "    <tr>\n",
       "      <th>366</th>\n",
       "      <td>2037051350</td>\n",
       "      <td>1957949546</td>\n",
       "      <td>2019-08-19</td>\n",
       "      <td>16770</td>\n",
       "      <td>A</td>\n",
       "    </tr>\n",
       "    <tr>\n",
       "      <th>463</th>\n",
       "      <td>4170537404</td>\n",
       "      <td>290022471</td>\n",
       "      <td>2019-08-19</td>\n",
       "      <td>16480</td>\n",
       "      <td>B</td>\n",
       "    </tr>\n",
       "    <tr>\n",
       "      <th>531</th>\n",
       "      <td>4016435970</td>\n",
       "      <td>4017075195</td>\n",
       "      <td>2019-08-19</td>\n",
       "      <td>13390</td>\n",
       "      <td>A</td>\n",
       "    </tr>\n",
       "  </tbody>\n",
       "</table>\n",
       "</div>"
      ],
      "text/plain": [
       "     transaction_id  visitor_id       date  revenue group\n",
       "425       590470918  1920142716 2019-08-19  1294500     B\n",
       "530      3970235543  2912540959 2019-08-19    43990     A\n",
       "527      1570513684  2837914161 2019-08-19    33405     B\n",
       "421      3765974140  1357170471 2019-08-19    31680     A\n",
       "461      2683113224   154576532 2019-08-19    26550     B\n",
       "525      3031564664   393266494 2019-08-19    21550     A\n",
       "368      3268879337  2536252163 2019-08-19    20026     B\n",
       "366      2037051350  1957949546 2019-08-19    16770     A\n",
       "463      4170537404   290022471 2019-08-19    16480     B\n",
       "531      4016435970  4017075195 2019-08-19    13390     A"
      ]
     },
     "execution_count": 33,
     "metadata": {},
     "output_type": "execute_result"
    }
   ],
   "source": [
    "# checking median revenue on August 19\n",
    "print('Median revenue on August 19 =',orders.query('date == \"2019-08-19\"')['revenue'].median())\n",
    "orders.query('date == \"2019-08-19\"').sort_values(by='revenue', ascending=False).head(10)"
   ]
  },
  {
   "cell_type": "markdown",
   "metadata": {},
   "source": [
    "A single order #425 of 1.3 million was placed on August 19 in group B. The remaining orders did not exceed 44,000. This is an outlier that should be considered in further analysis."
   ]
  },
  {
   "cell_type": "markdown",
   "metadata": {},
   "source": [
    "### Plotting on a graph the cumulative average check by group"
   ]
  },
  {
   "cell_type": "markdown",
   "metadata": {},
   "source": [
    "Divide the cumulative revenue by the cumulative order volume to plot on a graph the cumulative average check by group, "
   ]
  },
  {
   "cell_type": "code",
   "execution_count": 34,
   "metadata": {},
   "outputs": [
    {
     "data": {
      "text/plain": [
       "<matplotlib.legend.Legend at 0x1a20cdb320>"
      ]
     },
     "execution_count": 34,
     "metadata": {},
     "output_type": "execute_result"
    },
    {
     "data": {
      "image/png": "[encoded data removed]",
      "text/plain": [
       "<Figure size 1080x360 with 1 Axes>"
      ]
     },
     "metadata": {
      "needs_background": "light"
     },
     "output_type": "display_data"
    }
   ],
   "source": [
    "# plotting on a graph the cumulative average check by group\n",
    "plt.figure(figsize=(15,5))\n",
    "plt.plot(cumulativeRevenueA['date'], cumulativeRevenueA['revenue']/cumulativeRevenueA['orders'], label='A')\n",
    "plt.plot(cumulativeRevenueB['date'], cumulativeRevenueB['revenue']/cumulativeRevenueB['orders'], label='B')\n",
    "plt.title('Cumulative average check by group')\n",
    "plt.legend() "
   ]
  },
  {
   "cell_type": "markdown",
   "metadata": {},
   "source": [
    "- The average check of group B is higher in the first half of August. However, there are two dates where the check is larger in A - August 1 and August 13. \n",
    "- The graph also shows a strong impact on the average check of order No. 425 on August 19.\n",
    "- B gradually decreased its average check after August 19, while A gradually increased it after August 18."
   ]
  },
  {
   "cell_type": "markdown",
   "metadata": {},
   "source": [
    "### Plotting on a graph the relative change in the cumulative average check of group B to group A"
   ]
  },
  {
   "cell_type": "markdown",
   "metadata": {},
   "source": [
    "Add a horizontal line across the axis using the axhline() method to plot on a graph the relative change in the cumulative average check of group B to group A."
   ]
  },
  {
   "cell_type": "code",
   "execution_count": 35,
   "metadata": {},
   "outputs": [
    {
     "data": {
      "text/plain": [
       "<matplotlib.lines.Line2D at 0x1a20d6f320>"
      ]
     },
     "execution_count": 35,
     "metadata": {},
     "output_type": "execute_result"
    },
    {
     "data": {
      "image/png": "[encoded data removed]",
      "text/plain": [
       "<Figure size 1080x360 with 1 Axes>"
      ]
     },
     "metadata": {
      "needs_background": "light"
     },
     "output_type": "display_data"
    }
   ],
   "source": [
    "# merging cumulativeRevenueA and cumulativeRevenueB\n",
    "mergedCumulativeRevenue = cumulativeRevenueA.merge(cumulativeRevenueB, left_on='date', right_on='date', how='left', suffixes=['A', 'B'])\n",
    "\n",
    "# plotting ratio of cumulative average invoice\n",
    "plt.figure(figsize=(15,5))\n",
    "plt.plot(mergedCumulativeRevenue['date'], (mergedCumulativeRevenue['revenueB']/mergedCumulativeRevenue['ordersB'])/(mergedCumulativeRevenue['revenueA']/mergedCumulativeRevenue['ordersA'])-1)\n",
    "plt.title('Relative change in the cumulative average check of group B to group A')\n",
    "\n",
    "# add x axis\n",
    "plt.axhline(y=0, color='black', linestyle='--') "
   ]
  },
  {
   "cell_type": "markdown",
   "metadata": {},
   "source": [
    "- In this graph, the conclusions are mostly the same as in the previous step.\n",
    "- On August 2, group B's average check had already exceeded that of group A, and it continued to grow through August 7. From August 7 to August 13, the average check decreased, and from August 12 the average check A was greater than B on three days. A turning point came on August 15 when check B grew again and became larger than A until the end of the month. \n",
    "- A strong growth was seen on August 19 due to order No. 425, and the average check B gradually decreased over the following days. "
   ]
  },
  {
   "cell_type": "markdown",
   "metadata": {},
   "source": [
    "### Plotting on a graph the cumulative conversion by group"
   ]
  },
  {
   "cell_type": "code",
   "execution_count": 36,
   "metadata": {},
   "outputs": [
    {
     "data": {
      "text/plain": [
       "<matplotlib.legend.Legend at 0x1a20f12eb8>"
      ]
     },
     "execution_count": 36,
     "metadata": {},
     "output_type": "execute_result"
    },
    {
     "data": {
      "image/png": "[encoded data removed]",
      "text/plain": [
       "<Figure size 1080x360 with 1 Axes>"
      ]
     },
     "metadata": {
      "needs_background": "light"
     },
     "output_type": "display_data"
    }
   ],
   "source": [
    "# calculating cumulative conversion\n",
    "cumulativeData['conversion'] = cumulativeData['orders']/cumulativeData['visitors']\n",
    "\n",
    "# creating a dataframe with group A\n",
    "cumulativeDataA = cumulativeData[cumulativeData['group']=='A']\n",
    "\n",
    "# creating a dataframe with group B\n",
    "cumulativeDataB = cumulativeData[cumulativeData['group']=='B']\n",
    "\n",
    "# plotting on a graph\n",
    "plt.figure(figsize=(15,5))\n",
    "plt.plot(cumulativeDataA['date'], cumulativeDataA['conversion'], label='A')\n",
    "plt.plot(cumulativeDataB['date'], cumulativeDataB['conversion'], label='B')\n",
    "plt.title('Cumulative conversion')\n",
    "plt.grid()\n",
    "plt.legend()"
   ]
  },
  {
   "cell_type": "markdown",
   "metadata": {},
   "source": [
    "- The conversion rate A was significantly higher from August 1st to 5th. By August 3, it had peaked for the whole observation period, but after that, it started falling sharply and by August 9, it had stabilized at 0.029-0.031.\n",
    "- The conversion B began growing on August 4 and already exceeded the conversion of A on August 6 (the maximum value exceeded 0.036). Following that, conversion growth declined gradually. On August 15-17, it surged to just below 0.036. \n",
    "- Since August 6, the conversion of group B has consistently been higher than A."
   ]
  },
  {
   "cell_type": "markdown",
   "metadata": {},
   "source": [
    "### Plotting on a graph the relative change in the cumulative conversion of group B to group A"
   ]
  },
  {
   "cell_type": "code",
   "execution_count": 37,
   "metadata": {},
   "outputs": [
    {
     "data": {
      "image/png": "[encoded data removed]",
      "text/plain": [
       "<Figure size 1080x360 with 1 Axes>"
      ]
     },
     "metadata": {
      "needs_background": "light"
     },
     "output_type": "display_data"
    }
   ],
   "source": [
    "# plotting the relative change in the cumulative conversion of group B to group A\n",
    "\n",
    "# merging conversion A with conversion B \n",
    "mergedCumulativeConversions = cumulativeDataA[['date','conversion']].merge(cumulativeDataB[['date','conversion']], left_on='date', right_on='date', how='left', suffixes=['A', 'B'])\n",
    "\n",
    "# plotting on a graph\n",
    "plt.figure(figsize=(15,5))\n",
    "plt.plot(mergedCumulativeConversions['date'], mergedCumulativeConversions['conversionB']/mergedCumulativeConversions['conversionA']-1, label=\"Относительный прирост конверсии группы B относительно группы A\")\n",
    "plt.legend()\n",
    "plt.grid()\n",
    "plt.title('Relative change in the cumulative conversion of group B to group A')\n",
    "\n",
    "plt.axhline(y=0, color='black', linestyle='--')\n",
    "plt.axhline(y=-0.1, color='grey', linestyle='--')\n",
    "plt.axhline(y=0.21, color='grey', linestyle='--')\n",
    "plt.axhline(y=0.1, color='grey', linestyle='-.')\n",
    "plt.axhline(y=0.057, color='grey', linestyle='--');\n"
   ]
  },
  {
   "cell_type": "markdown",
   "metadata": {},
   "source": [
    "- In this graph, the conclusions are mostly the same as in the previous step.\n",
    "- During the period August 1 to 5, the conversion rate for group A was 5-10% higher. On August 2, however, conversion for group B were 5% higher than for group A. \n",
    "- There was a strong increase in conversions on August 2. It may have been a promotion or discount.\n",
    "- After August 6, Group B had the lead. Its conversion increased until August 15 and the maximum difference from A was 21%, then it gradually decreased to 10% -14%."
   ]
  },
  {
   "cell_type": "markdown",
   "metadata": {},
   "source": [
    "### Plotting a scatter plot of the number of orders by users"
   ]
  },
  {
   "cell_type": "code",
   "execution_count": 38,
   "metadata": {},
   "outputs": [
    {
     "name": "stdout",
     "output_type": "stream",
     "text": [
      "         user_id  orders\n",
      "1023  4256040402      11\n",
      "591   2458001652      11\n",
      "569   2378935119       9\n",
      "487   2038680547       8\n",
      "44     199603092       5\n",
      "744   3062433592       5\n",
      "55     237748145       5\n",
      "917   3803269165       5\n",
      "299   1230306981       5\n",
      "897   3717692402       5\n"
     ]
    }
   ],
   "source": [
    "# counting the number of orders by users\n",
    "ordersByUsers = (\n",
    "    orders.groupby('visitor_id', as_index=False)\n",
    "    .agg({'transaction_id': 'nunique'})\n",
    ")\n",
    "\n",
    "ordersByUsers.columns = ['user_id','orders']\n",
    "\n",
    "print(ordersByUsers.sort_values(by='orders', ascending=False).head(10)) "
   ]
  },
  {
   "cell_type": "code",
   "execution_count": 39,
   "metadata": {},
   "outputs": [
    {
     "data": {
      "image/png": "[encoded data removed]",
      "text/plain": [
       "<Figure size 432x288 with 1 Axes>"
      ]
     },
     "metadata": {
      "needs_background": "light"
     },
     "output_type": "display_data"
    }
   ],
   "source": [
    "# plotting a histogram of orders distribution per user\n",
    "plt.hist(ordersByUsers['orders']) \n",
    "plt.title('Orders distribution per user')\n",
    "plt.ylabel('Users')\n",
    "plt.xlabel('Orders')\n",
    "plt.show()"
   ]
  },
  {
   "cell_type": "markdown",
   "metadata": {},
   "source": [
    "The majority of users ordered only once. However, there are users with 2-4 orders. "
   ]
  },
  {
   "cell_type": "code",
   "execution_count": 40,
   "metadata": {},
   "outputs": [
    {
     "data": {
      "image/png": "[encoded data removed]",
      "text/plain": [
       "<Figure size 1080x360 with 1 Axes>"
      ]
     },
     "metadata": {
      "needs_background": "light"
     },
     "output_type": "display_data"
    }
   ],
   "source": [
    "# plotting a scatter plot of orders distribution per user\n",
    "x_values = pd.Series(range(0,len(ordersByUsers)))\n",
    "\n",
    "plt.figure(figsize=(15,5))\n",
    "plt.grid()\n",
    "plt.title('Orders distribution')\n",
    "plt.ylabel('Orders')\n",
    "plt.xlabel('Users')\n",
    "plt.scatter(x_values, ordersByUsers['orders'], alpha=0.5) ;"
   ]
  },
  {
   "cell_type": "markdown",
   "metadata": {},
   "source": [
    "- The majority of users ordered once."
   ]
  },
  {
   "cell_type": "markdown",
   "metadata": {},
   "source": [
    "### Calculating the 95th and 99th percentiles of orders per user. Setting a boundary for identifying anomalous users. "
   ]
  },
  {
   "cell_type": "code",
   "execution_count": 41,
   "metadata": {
    "scrolled": true
   },
   "outputs": [
    {
     "name": "stdout",
     "output_type": "stream",
     "text": [
      "95th and 99th percentiles of orders per user:  [2. 4.]\n"
     ]
    }
   ],
   "source": [
    "# calculating the 95th and 99th percentiles of orders per user\n",
    "print('95th and 99th percentiles of orders per user: ', np.percentile(ordersByUsers['orders'], [95, 99])) "
   ]
  },
  {
   "cell_type": "markdown",
   "metadata": {},
   "source": [
    "- No more than 5% of users placed more than two orders.\n",
    "- No more than 1% of users placed more than four orders.\n",
    "- The lower limit of 2 orders per user is reasonable for weeding out anomalous users. "
   ]
  },
  {
   "cell_type": "markdown",
   "metadata": {},
   "source": [
    "### Plotting a scatter plot of order revenue"
   ]
  },
  {
   "cell_type": "code",
   "execution_count": 42,
   "metadata": {},
   "outputs": [
    {
     "data": {
      "image/png": "[encoded data removed]",
      "text/plain": [
       "<Figure size 1080x360 with 1 Axes>"
      ]
     },
     "metadata": {
      "needs_background": "light"
     },
     "output_type": "display_data"
    }
   ],
   "source": [
    "# plotting a scatter plot of order revenue\n",
    "x_values = pd.Series(range(0,len(orders['revenue'])))\n",
    "plt.figure(figsize=(15,5))\n",
    "plt.grid()\n",
    "plt.title('Order revenue')\n",
    "plt.ylabel('Revenue')\n",
    "plt.xlabel('Order')\n",
    "plt.scatter(x_values, orders['revenue'], alpha=0.5);"
   ]
  },
  {
   "cell_type": "markdown",
   "metadata": {},
   "source": [
    "Let's remove orders with 'revenue' larger than 199000."
   ]
  },
  {
   "cell_type": "code",
   "execution_count": 43,
   "metadata": {},
   "outputs": [
    {
     "data": {
      "image/png": "[encoded data removed]",
      "text/plain": [
       "<Figure size 1080x360 with 1 Axes>"
      ]
     },
     "metadata": {
      "needs_background": "light"
     },
     "output_type": "display_data"
    }
   ],
   "source": [
    "# plotting a scatter plot of order revenue with 'revenue' less than 199000\n",
    "orders2 = orders[orders['revenue']<=195000]['revenue']\n",
    "x_values2 = pd.Series(range(0,len(orders2)))\n",
    "plt.figure(figsize=(15,5))\n",
    "plt.grid()\n",
    "plt.title('Order revenue')\n",
    "plt.scatter(x_values2, orders2, alpha=0.5);"
   ]
  },
  {
   "cell_type": "markdown",
   "metadata": {},
   "source": [
    "- Anomaly order No. 425 is shown on the first chart for 1.3 million and another one for 200 thousand. There are no more than 100 thousand orders remaining. "
   ]
  },
  {
   "cell_type": "markdown",
   "metadata": {},
   "source": [
    "### Calculating the 95th and 99th percentiles of order revenue. Setting a boundary for identifying anomalous orders."
   ]
  },
  {
   "cell_type": "code",
   "execution_count": 44,
   "metadata": {},
   "outputs": [
    {
     "name": "stdout",
     "output_type": "stream",
     "text": [
      "95th and 99th percentiles of order revenue:  [28000.  58233.2]\n"
     ]
    }
   ],
   "source": [
    "# calculating the 95th and 99th percentiles of the order revenue\n",
    "print('95th and 99th percentiles of order revenue: ', np.percentile(orders['revenue'], [95, 99])) "
   ]
  },
  {
   "cell_type": "markdown",
   "metadata": {},
   "source": [
    "- No more than 5% of orders have  28000 in revenue.\n",
    "- No more than 1% of orders have  58233.2 in revenue.\n",
    "- The limit of 58233.2 is reasonable for weeding out anomalous orders."
   ]
  },
  {
   "cell_type": "markdown",
   "metadata": {},
   "source": [
    "### Calculating the statistical significance of differences in conversions between groups using \"raw\" data (without removing anomalous users)"
   ]
  },
  {
   "cell_type": "markdown",
   "metadata": {},
   "source": [
    "Let's formulate the null and alternative hypotheses:\n",
    "- H0: there are no statistically significant differences in conversion between groups A and B; \n",
    "- H1: there are statistically significant differences in conversion between groups A and B."
   ]
  },
  {
   "cell_type": "code",
   "execution_count": 45,
   "metadata": {},
   "outputs": [],
   "source": [
    "# creating tables with daily visitors by group\n",
    "visitorsADaily = visitors[visitors['group'] == 'A'][['date', 'visitors']]\n",
    "visitorsADaily.columns = ['date', 'visitorsPerDateA']\n",
    "\n",
    "visitorsBDaily = visitors[visitors['group'] == 'B'][['date', 'visitors']]\n",
    "visitorsBDaily.columns = ['date', 'visitorsPerDateB']\n"
   ]
  },
  {
   "cell_type": "code",
   "execution_count": 46,
   "metadata": {
    "scrolled": true
   },
   "outputs": [
    {
     "data": {
      "text/html": [
       "<div>\n",
       "<style scoped>\n",
       "    .dataframe tbody tr th:only-of-type {\n",
       "        vertical-align: middle;\n",
       "    }\n",
       "\n",
       "    .dataframe tbody tr th {\n",
       "        vertical-align: top;\n",
       "    }\n",
       "\n",
       "    .dataframe thead th {\n",
       "        text-align: right;\n",
       "    }\n",
       "</style>\n",
       "<table border=\"1\" class=\"dataframe\">\n",
       "  <thead>\n",
       "    <tr style=\"text-align: right;\">\n",
       "      <th></th>\n",
       "      <th>date</th>\n",
       "      <th>visitorsPerDateA</th>\n",
       "      <th>visitorsPerDateB</th>\n",
       "    </tr>\n",
       "  </thead>\n",
       "  <tbody>\n",
       "    <tr>\n",
       "      <th>0</th>\n",
       "      <td>2019-08-01</td>\n",
       "      <td>719</td>\n",
       "      <td>713</td>\n",
       "    </tr>\n",
       "    <tr>\n",
       "      <th>1</th>\n",
       "      <td>2019-08-02</td>\n",
       "      <td>619</td>\n",
       "      <td>581</td>\n",
       "    </tr>\n",
       "    <tr>\n",
       "      <th>2</th>\n",
       "      <td>2019-08-03</td>\n",
       "      <td>507</td>\n",
       "      <td>509</td>\n",
       "    </tr>\n",
       "    <tr>\n",
       "      <th>3</th>\n",
       "      <td>2019-08-04</td>\n",
       "      <td>717</td>\n",
       "      <td>770</td>\n",
       "    </tr>\n",
       "    <tr>\n",
       "      <th>4</th>\n",
       "      <td>2019-08-05</td>\n",
       "      <td>756</td>\n",
       "      <td>707</td>\n",
       "    </tr>\n",
       "  </tbody>\n",
       "</table>\n",
       "</div>"
      ],
      "text/plain": [
       "        date  visitorsPerDateA  visitorsPerDateB\n",
       "0 2019-08-01               719               713\n",
       "1 2019-08-02               619               581\n",
       "2 2019-08-03               507               509\n",
       "3 2019-08-04               717               770\n",
       "4 2019-08-05               756               707"
      ]
     },
     "execution_count": 46,
     "metadata": {},
     "output_type": "execute_result"
    }
   ],
   "source": [
    "# merging into one table\n",
    "data = visitorsADaily.merge(visitorsBDaily, left_on='date', right_on='date', how='left')\n",
    "data.head()"
   ]
  },
  {
   "cell_type": "code",
   "execution_count": 47,
   "metadata": {},
   "outputs": [],
   "source": [
    "# creating variables ordersByUsersA and ordersByUsersB with columns ['visitor_id', 'orders']\n",
    "# where for users who ordered at least once indicate the number of completed orders\n",
    "\n",
    "ordersByUsersA = (\n",
    "    orders[orders['group'] == 'A']\n",
    "    .groupby('visitor_id', as_index=False)\n",
    "    .agg({'transaction_id': pd.Series.nunique})\n",
    ")\n",
    "ordersByUsersA.columns = ['visitor_id', 'orders']\n",
    "\n",
    "ordersByUsersB = (\n",
    "    orders[orders['group'] == 'B']\n",
    "    .groupby('visitor_id', as_index=False)\n",
    "    .agg({'transaction_id': pd.Series.nunique})\n",
    ")\n",
    "ordersByUsersB.columns = ['visitor_id', 'orders']"
   ]
  },
  {
   "cell_type": "markdown",
   "metadata": {},
   "source": [
    "For the Mann-Whitney test, create the variables sampleA and sampleB where the number of orders corresponds to different groups. Users who didn't order anything will be matched with zeros.\n",
    "\n",
    "The variables must have two parts:\n",
    "\n",
    "1. A list with the number of orders for each user: ordersByUsersA['orders']\n",
    "2. Zeros for users who didn't order anything: the difference between the sum of visitors and the number of order records: data['visitorsPerDateA'].sum() - len(ordersByUsersA['orders'])\n",
    "    - Create a pd.Series object of the required length: pd.Series(0, index=np.arange(data['visitorsPerDateA'].sum() - len(ordersByUsersA['orders'])), name='orders')"
   ]
  },
  {
   "cell_type": "code",
   "execution_count": 48,
   "metadata": {},
   "outputs": [],
   "source": [
    "# creating variables sampleA and sampleB\n",
    "sampleA = pd.concat([ordersByUsersA['orders'],pd.Series(0, index=np.arange(data['visitorsPerDateA'].sum() - len(ordersByUsersA['orders'])), name='orders')],axis=0)\n",
    "\n",
    "sampleB = pd.concat([ordersByUsersB['orders'],pd.Series(0, index=np.arange(data['visitorsPerDateB'].sum() - len(ordersByUsersB['orders'])), name='orders')],axis=0)"
   ]
  },
  {
   "cell_type": "markdown",
   "metadata": {},
   "source": [
    "In sampleA each element is the number of orders of a user, including zero. This means that the number of elements of sampleA is the number of users, the sum of all elements is the number of orders.\n",
    "\n",
    "To get the conversion, divide the sum of orders by the number of users — find the average in the sampleA using the mean() method. Same for group B: sampleB.mean().\n",
    "\n",
    "Derive the relative growth of group B conversion: group B conversion / group A conversion - 1. "
   ]
  },
  {
   "cell_type": "code",
   "execution_count": 49,
   "metadata": {
    "scrolled": true
   },
   "outputs": [
    {
     "name": "stdout",
     "output_type": "stream",
     "text": [
      "p-value: 0.008\n",
      "We reject the null hypothesis\n",
      "relative change of 'B' over 'A' = 0.138\n"
     ]
    }
   ],
   "source": [
    "# calculating p-value and relative growth of B to A\n",
    "alpha = .05\n",
    "\n",
    "results = stats.mannwhitneyu(sampleA, sampleB)[1]\n",
    "print('p-value: {0:.3f}'.format(results))\n",
    "\n",
    "if (results < alpha):\n",
    "    print('We reject the null hypothesis')\n",
    "    print(\"relative change of 'B' over 'A' = {0:.3f}\".format(sampleB.mean() / sampleA.mean() - 1))\n",
    "else:\n",
    "    print('We do not reject the null hypothesis')\n",
    "    print(\"relative change of 'B' over 'A' = {0:.3f}\".format(sampleB.mean() / sampleA.mean() - 1))"
   ]
  },
  {
   "cell_type": "markdown",
   "metadata": {},
   "source": [
    "- P-value is less than 0.05. This means that we reject the null hypothesis and there are statistically significant\n",
    "differences in conversion between groups A and B.\n",
    "- Group B's relative change over A is 13.8%. The difference of 13.8% is statistically significant."
   ]
  },
  {
   "cell_type": "markdown",
   "metadata": {},
   "source": [
    "### Calculate the statistical significance of the differences in the average order check between the groups using \"raw\" data (without removing anomalous users)"
   ]
  },
  {
   "cell_type": "markdown",
   "metadata": {},
   "source": [
    "Let's formulate the null and alternative hypotheses:\n",
    "- H0: there are no statistically significant differences in the average check between groups;\n",
    "- H1: there are statistically significant differences in the average check between groups.\n",
    "\n",
    "To calculate the statistical significance of the differences in the average order check, we use data on revenue from orders."
   ]
  },
  {
   "cell_type": "code",
   "execution_count": 50,
   "metadata": {},
   "outputs": [
    {
     "name": "stdout",
     "output_type": "stream",
     "text": [
      "p-value: 0.365\n",
      "We do not reject the null hypothesis\n",
      "relative change of 'B' over 'A' = 0.259\n"
     ]
    }
   ],
   "source": [
    "# calculating p-value and relative growth of B to A\n",
    "\n",
    "results = stats.mannwhitneyu(orders[orders['group']=='A']['revenue'], orders[orders['group']=='B']['revenue'])[1]\n",
    "print('p-value: {0:.3f}'.format(results))\n",
    "\n",
    "if (results < alpha):\n",
    "    print('We reject the null hypothesis')\n",
    "    print(\"relative change of 'B' over 'A' = {0:.3f}\".format(orders[orders['group']=='B']['revenue'].mean()/orders[orders['group']=='A']['revenue'].mean()-1))\n",
    "else:\n",
    "    print('We do not reject the null hypothesis')\n",
    "    print(\"relative change of 'B' over 'A' = {0:.3f}\".format(orders[orders['group']=='B']['revenue'].mean()/orders[orders['group']=='A']['revenue'].mean()-1))"
   ]
  },
  {
   "cell_type": "markdown",
   "metadata": {},
   "source": [
    "- P-value is significantly greater than 0.05. This means that we do not reject the null hypothesis  - there are no statistically significant differences in the average check between groups.\n",
    "- The B's relative change over A is 26%. The difference of 26% is not statistically significant."
   ]
  },
  {
   "cell_type": "markdown",
   "metadata": {},
   "source": [
    "### Calculating the statistical significance of differences in conversion between the groups using \"clean\" data (with removing anomalous users)"
   ]
  },
  {
   "cell_type": "markdown",
   "metadata": {},
   "source": [
    "Anomalous are users who have made more than two orders or orders more expensive than 58233.2. 5% of the users with the most orders and 1% of users with expensive orders will be deleted. \n",
    "\n",
    "In the abnormalUsers table, we will combine users with more than 2 orders - usersWithManyOrders - and orders more expensive than 58233.2 -  usersWithExpensiveOrders. Use shape() to find out how many anomalous users there are. \n",
    "\n",
    "Let's formulate the null and alternative hypotheses:\n",
    "- H0: there are no statistically significant differences in conversion between groups A and B; \n",
    "- H1: there are statistically significant differences in conversion between groups A and B."
   ]
  },
  {
   "cell_type": "code",
   "execution_count": 51,
   "metadata": {},
   "outputs": [
    {
     "name": "stdout",
     "output_type": "stream",
     "text": [
      "1099    148427295\n",
      "18      199603092\n",
      "23      237748145\n",
      "37      249864742\n",
      "68      457167155\n",
      "Name: visitor_id, dtype: int64\n",
      "Total anomalous users = 31\n"
     ]
    }
   ],
   "source": [
    "# creating variables usersWithManyOrders and usersWithExpensiveOrders\n",
    "# merging two variables in abnormalUsers\n",
    "\n",
    "usersWithManyOrders = pd.concat(\n",
    "    [\n",
    "        ordersByUsersA[ordersByUsersA['orders'] > np.percentile(ordersByUsers['orders'], [95, 99])[0]]['visitor_id'],\n",
    "        ordersByUsersB[ordersByUsersB['orders'] > np.percentile(ordersByUsers['orders'], [95, 99])[0]]['visitor_id'],\n",
    "    ],\n",
    "    axis=0,\n",
    ")\n",
    "\n",
    "usersWithExpensiveOrders = orders[orders['revenue'] > np.percentile(orders['revenue'], [95, 99])[1]]['visitor_id']\n",
    "\n",
    "\n",
    "abnormalUsers = (pd.concat([usersWithManyOrders, usersWithExpensiveOrders], axis=0)\n",
    "                 .drop_duplicates()\n",
    "                 .sort_values())\n",
    "\n",
    "print(abnormalUsers.head())\n",
    "print('Total anomalous users =', abnormalUsers.shape[0])"
   ]
  },
  {
   "cell_type": "code",
   "execution_count": 52,
   "metadata": {},
   "outputs": [],
   "source": [
    "# creating variables sampleAFiltered and sampleBFiltered where anomalous users are filtered out\n",
    "sampleAFiltered = pd.concat(\n",
    "    [ordersByUsersA[np.logical_not(ordersByUsersA['visitor_id'].isin(abnormalUsers))]['orders'],\n",
    "     pd.Series(0, index=np.arange(data['visitorsPerDateA'].sum() - len(ordersByUsersA['orders'])),\n",
    "               name='orders',),],axis=0,)\n",
    "\n",
    "sampleBFiltered = pd.concat(\n",
    "    [ordersByUsersB[np.logical_not(ordersByUsersB['visitor_id'].isin(abnormalUsers))]['orders'],\n",
    "     pd.Series(0, index=np.arange(data['visitorsPerDateB'].sum() - len(ordersByUsersB['orders'])),\n",
    "               name='orders',),], axis=0,)"
   ]
  },
  {
   "cell_type": "code",
   "execution_count": 53,
   "metadata": {},
   "outputs": [
    {
     "name": "stdout",
     "output_type": "stream",
     "text": [
      "p-value: 0.005\n",
      "We reject the null hypothesis\n",
      "relative change of 'B' over 'A' = 0.174\n"
     ]
    }
   ],
   "source": [
    "# calculating p-value and relative growth of B to A\n",
    "\n",
    "results = stats.mannwhitneyu(sampleAFiltered, sampleBFiltered)[1]\n",
    "print('p-value: {0:.3f}'.format(results))\n",
    "\n",
    "if (results < alpha):\n",
    "    print('We reject the null hypothesis')\n",
    "    print(\"relative change of 'B' over 'A' = {0:.3f}\".format(sampleBFiltered.mean()/sampleAFiltered.mean()-1))\n",
    "else:\n",
    "    print('We do not reject the null hypothesis')\n",
    "    print(\"relative change of 'B' over 'A' = {0:.3f}\".format(sampleBFiltered.mean()/sampleAFiltered.mean()-1))"
   ]
  },
  {
   "cell_type": "markdown",
   "metadata": {},
   "source": [
    "- P-value is less than 0.05. This means that we reject the null hypothesis and there are statistically significant differences in conversion between groups A and B.\n",
    "- The relative change of group B over A is 17.4%. The difference of 17.4% is statistically significant. This is higher than with \"raw\" data - 13.8%. "
   ]
  },
  {
   "cell_type": "markdown",
   "metadata": {},
   "source": [
    "### Calculating the statistical significance of the differences in the average order check between the groups using \"clean\" data (without removing anomalous users)"
   ]
  },
  {
   "cell_type": "markdown",
   "metadata": {},
   "source": [
    "Let's formulate the null and alternative hypotheses:\n",
    "- H0: there are no statistically significant differences in the average check between groups;\n",
    "- H1: there are statistically significant differences in the average check between groups."
   ]
  },
  {
   "cell_type": "code",
   "execution_count": 54,
   "metadata": {},
   "outputs": [
    {
     "name": "stdout",
     "output_type": "stream",
     "text": [
      "p-value: 0.399\n",
      "We do not reject the null hypothesis\n",
      "relative change of 'B' to 'A' = -0.020\n"
     ]
    }
   ],
   "source": [
    "# calculating p-value and relative growth of B to A\n",
    "\n",
    "results = stats.mannwhitneyu(\n",
    "    orders[np.logical_and(orders['group'] == 'A', np.logical_not(orders['visitor_id']\n",
    "                                                                 .isin(abnormalUsers)),)]['revenue'], \n",
    "    orders[np.logical_and(orders['group'] == 'B', np.logical_not(orders['visitor_id']\n",
    "                                                                 .isin(abnormalUsers)),)]['revenue'],)[1]\n",
    "\n",
    "print('p-value: {0:.3f}'.format(results))\n",
    "\n",
    "if (results < alpha):\n",
    "    print('We reject the null hypothesis')\n",
    "    print(\"relative change of 'B' to 'A' = {0:.3f}\".format(\n",
    "        orders[np.logical_and(orders['group'] == 'B', np.logical_not(orders['visitor_id']\n",
    "                                                                     .isin(abnormalUsers)),)]['revenue'].mean() / \n",
    "        orders[np.logical_and(orders['group'] == 'A', np.logical_not(orders['visitor_id']\n",
    "                                                                     .isin(abnormalUsers)),)]['revenue'].mean()- 1))\n",
    "else:\n",
    "    print('We do not reject the null hypothesis')\n",
    "    print(\"relative change of 'B' to 'A' = {0:.3f}\".format(\n",
    "        orders[np.logical_and(orders['group'] == 'B', np.logical_not(orders['visitor_id']\n",
    "                                                                     .isin(abnormalUsers)),)]['revenue'].mean() / \n",
    "        orders[np.logical_and(orders['group'] == 'A', np.logical_not(orders['visitor_id']\n",
    "                                                                     .isin(abnormalUsers)),)]['revenue'].mean()- 1))"
   ]
  },
  {
   "cell_type": "markdown",
   "metadata": {},
   "source": [
    "- P-value is significantly greater than 0.05. This means that we do not reject the null hypothesis that there are no statistically significant differences in the average check between groups. \n",
    "- The relative change of group B over A is -2%. Group A has a slightly larger average check than group B because the anomalous order No. 425 for 1.3 million has been filtered out. The difference of -2% is not statistically significant. This is lower than with \"raw\" data - 26%."
   ]
  },
  {
   "cell_type": "markdown",
   "metadata": {},
   "source": [
    "### Making a decision based on the results of the test "
   ]
  },
  {
   "cell_type": "markdown",
   "metadata": {},
   "source": [
    "The test results revealed:\n",
    "\n",
    "- For both \"raw\" and \"clean\" data, there were statistically significant differences in the conversion of groups A and B. For \"raw\" data, the relative change of group \"B\" was 17.4%, and for \"clean\" it was 13.8%.\n",
    "\n",
    "- Both \"raw\" and \"clean\" data showed no statistically significant difference in average check for groups A and B. For \"raw\" data, group B had a relative change of 26%, while for \"clean\", it had a relative growth of -2%. The anomalous order No. 425 for 1.3 million explains the -2% for \"clean\".\n",
    "\n",
    "- The test can therefore be stopped and group B recorded as the winner. Group B was much more effective in terms of conversion than group A,  even though the average check is about the same between the two groups. "
   ]
  },
  {
   "cell_type": "markdown",
   "metadata": {},
   "source": [
    "## Final conclusion"
   ]
  },
  {
   "cell_type": "markdown",
   "metadata": {},
   "source": [
    "**Prioritization of hypotheses:**\n",
    "- Applied the ICE framework to prioritize hypotheses. Hypotheses number 8 has the highest priority in the ICE framework.\n",
    "- Applied the RICE framework to prioritize hypotheses. Hypotheses number 7 has the highest priority in the ICE framework.\n",
    "- The parameter (Reach) used in the RICE framework changed the entire priority obtained by the ICE framework, only 6 and 4 hypotheses remained in the same places.\n",
    "\n",
    "**A/B test analysis:**\n",
    "\n",
    "1. Plot on a graph the cumulative revenue by groups:\n",
    "    - Early in August, revenue in group B is growing slightly faster than in group A.\n",
    "    - On August 13 revenue is about the same.\n",
    "    - Group B's revenue shows a sharp increase on August 19 because a single order #425 of 1.3 million was placed. This is an outlier that should be considered in further analysis. The remaining orders did not exceed 44,000. \n",
    "\n",
    "2. Plot on a graph the cumulative average check by group:\n",
    "    - The average check of group B is higher in the first half of August. However, there are two dates where the check is larger in A - August 1 and August 13. \n",
    "    - The graph also shows a strong impact on the average check of order No. 425 on August 19.\n",
    "    - B gradually decreased its average check after August 19, while A gradually increased it after August 18.\n",
    "\n",
    "3. Plote on a graph the relative change in the cumulative average check of group B to group A:\n",
    "    - In this graph, the conclusions are mostly the same as in the previous step.\n",
    "    - On August 2, group B's average check had already exceeded that of group A, and it continued to grow through August 7. From August 7 to August 13, the average check decreased, and from August 12 the average check A was greater than B on three days. A turning point came on August 15 when check B grew again and became larger than A until the end of the month. \n",
    "    - A strong growth was seen on August 19 due to order No. 425, and the average check B gradually decreased over the following days. \n",
    "\n",
    "4. Plot on a graph the cumulative conversion by group:\n",
    "    - The conversion rate A was significantly higher from August 1st to 5th. By August 3, it had peaked for the whole observation period, but after that, it started falling sharply and by August 9, it had stabilized at 0.029-0.031.\n",
    "    - The conversion B began growing on August 4 and already exceeded the conversion of A on August 6 (the maximum value exceeded 0.036). Following that, conversion growth declined gradually. On August 15-17, it surged to just below 0.036. \n",
    "    - Since August 6, the conversion of group B has consistently been higher than A.\n",
    "\n",
    "5. Plot on a graph the relative change in the cumulative conversion of group B to group A:\n",
    "    - In this graph, the conclusions are mostly the same as in the previous step.\n",
    "    - During the period August 1 to 5, the conversion rate for group A was 5-10% higher. On August 2, however, conversion for group B were 5% higher than for group A. \n",
    "    - There was a strong increase in conversions on August 2. It may have been a promotion or discount.\n",
    "    - After August 6, Group B had the lead. Its conversion increased until August 15 and the maximum difference from A was 21%, then it gradually decreased to 10% -14%.\n",
    "\n",
    "6. Plot a scatter plot of the number of orders by users:\n",
    "    - The majority of users ordered once.\n",
    "\n",
    "7. Calculate the 95th and 99th percentiles of orders per user. Set a boundary for identifying anomalous users:\n",
    "    - No more than 5% of users placed more than two orders.\n",
    "    - No more than 1% of users placed more than four orders.\n",
    "    - The lower limit of 2 orders per user is reasonable for weeding out anomalous users. \n",
    "\n",
    "8. Plot a scatter plot of order revenue:\n",
    "    - Anomaly order No. 425 is shown on the first chart for 1.3 million and another one for 200 thousand. There are no more than 100 thousand orders remaining. \n",
    "\n",
    "9. Calculate the 95th and 99th percentiles of order revenue. Set a boundary for identifying anomalous orders:\n",
    "    - No more than 5% of orders have  28000 in revenue.\n",
    "    - No more than 1% of orders have  58233.2 in revenue.\n",
    "    - The limit of 58233.2 is reasonable for weeding out anomalous orders.\n",
    "\n",
    "10. Calculate the statistical significance of differences in conversions between groups using \"raw\" data (without removing anomalous users):\n",
    "    - P-value is less than 0.05. This means that we reject the null hypothesis and there are statistically significant differences in conversion between groups A and B.\n",
    "    - Group B's relative change over A is 13.8%. The difference of 13.8% is statistically significant.\n",
    "\n",
    "11. Calculate the statistical significance of the differences in the average order check between the groups using \"raw\" data (without removing anomalous users):\n",
    "    - P-value is significantly greater than 0.05. This means that we do not reject the null hypothesis  - there are no statistically significant differences in the average check between groups.\n",
    "    - The B's relative change over A is 26%. The difference of 26% is not statistically significant.\n",
    "\n",
    "12. Calculate the statistical significance of differences in conversion between the groups using \"clean\" data (with removing anomalous users):\n",
    "    - P-value is less than 0.05. This means that we reject the null hypothesis and there are statistically significant differences in conversion between groups A and B.\n",
    "    - The relative change of group B over A is 17.4%. The difference of 17.4% is statistically significant. This is higher than with \"raw\" data - 13.8%. \n",
    "\n",
    "13. Calculate the statistical significance of the differences in the average order check between the groups using \"clean\" data (without removing anomalous users):\n",
    "    - P-value is significantly greater than 0.05. This means that we do not reject the null hypothesis that there are no statistically significant differences in the average check between groups. \n",
    "    - The relative change of group B over A is -2%. Group A has a slightly larger average check than group B because the anomalous order No. 425 for 1.3 million has been filtered out. The difference of -2% is not statistically significant. This is lower than with \"raw\" data - 26%.\n",
    "\n",
    "14. Make a decision based on the results of the test. The test results revealed:\n",
    "    - For both \"raw\" and \"clean\" data, there were statistically significant differences in the conversion of groups A and B. For \"raw\" data, the relative change of group \"B\" was 17.4%, and for \"clean\" it was 13.8%.\n",
    "\n",
    "    - Both \"raw\" and \"clean\" data showed no statistically significant difference in average check for groups A and B. For \"raw\" data, group B had a relative change of 26%, while for \"clean\", it had a relative growth of -2%. The anomalous order No. 425 for 1.3 million explains the -2% for \"clean\".\n",
    "\n",
    "    - The test can therefore be stopped and group B recorded as the winner. Group B was much more effective in terms of conversion than group A,  even though the average check is about the same between the two groups. \n",
    "\n"
   ]
  },
  {
   "cell_type": "code",
   "execution_count": null,
   "metadata": {},
   "outputs": [],
   "source": []
  }
 ],
 "metadata": {
  "ExecuteTimeLog": [
   {
    "duration": 46,
    "start_time": "2022-06-04T04:39:42.447Z"
   },
   {
    "duration": 1418,
    "start_time": "2022-06-04T04:40:16.194Z"
   },
   {
    "duration": 4,
    "start_time": "2022-06-04T04:41:03.540Z"
   },
   {
    "duration": 184,
    "start_time": "2022-06-04T04:52:51.669Z"
   },
   {
    "duration": 74,
    "start_time": "2022-06-04T04:53:04.821Z"
   },
   {
    "duration": 12,
    "start_time": "2022-06-04T04:53:48.261Z"
   },
   {
    "duration": 8,
    "start_time": "2022-06-04T04:54:21.954Z"
   },
   {
    "duration": 8,
    "start_time": "2022-06-04T04:54:41.229Z"
   },
   {
    "duration": 60,
    "start_time": "2022-06-04T07:50:46.008Z"
   },
   {
    "duration": 6,
    "start_time": "2022-06-04T07:50:52.665Z"
   },
   {
    "duration": 1356,
    "start_time": "2022-06-04T07:50:59.544Z"
   },
   {
    "duration": 215,
    "start_time": "2022-06-04T07:51:00.902Z"
   },
   {
    "duration": 15,
    "start_time": "2022-06-04T07:51:01.118Z"
   },
   {
    "duration": 22,
    "start_time": "2022-06-04T07:51:01.135Z"
   },
   {
    "duration": 16,
    "start_time": "2022-06-04T07:51:01.161Z"
   },
   {
    "duration": 32,
    "start_time": "2022-06-04T07:51:01.178Z"
   },
   {
    "duration": 16,
    "start_time": "2022-06-04T09:08:09.547Z"
   },
   {
    "duration": 22,
    "start_time": "2022-06-04T09:09:59.629Z"
   },
   {
    "duration": 10,
    "start_time": "2022-06-04T09:10:11.318Z"
   },
   {
    "duration": 10,
    "start_time": "2022-06-04T09:13:44.502Z"
   },
   {
    "duration": 56,
    "start_time": "2022-06-04T09:44:26.124Z"
   },
   {
    "duration": 28,
    "start_time": "2022-06-04T09:47:02.148Z"
   },
   {
    "duration": 47,
    "start_time": "2022-06-04T09:51:43.954Z"
   },
   {
    "duration": 28,
    "start_time": "2022-06-04T09:51:46.205Z"
   },
   {
    "duration": 25,
    "start_time": "2022-06-04T09:51:59.358Z"
   },
   {
    "duration": 21,
    "start_time": "2022-06-04T09:52:08.354Z"
   },
   {
    "duration": 30,
    "start_time": "2022-06-04T09:52:50.960Z"
   },
   {
    "duration": 145,
    "start_time": "2022-06-04T09:53:36.546Z"
   },
   {
    "duration": 5,
    "start_time": "2022-06-04T09:53:43.197Z"
   },
   {
    "duration": 36,
    "start_time": "2022-06-04T09:53:55.021Z"
   },
   {
    "duration": 7,
    "start_time": "2022-06-04T09:54:07.045Z"
   },
   {
    "duration": 7,
    "start_time": "2022-06-04T09:54:22.853Z"
   },
   {
    "duration": 6,
    "start_time": "2022-06-04T09:58:46.422Z"
   },
   {
    "duration": 11,
    "start_time": "2022-06-04T10:00:59.550Z"
   },
   {
    "duration": 52,
    "start_time": "2022-06-04T10:15:43.517Z"
   },
   {
    "duration": 8,
    "start_time": "2022-06-04T10:17:29.153Z"
   },
   {
    "duration": 8,
    "start_time": "2022-06-04T10:17:38.782Z"
   },
   {
    "duration": 15,
    "start_time": "2022-06-04T10:17:45.714Z"
   },
   {
    "duration": 7,
    "start_time": "2022-06-04T10:18:45.006Z"
   },
   {
    "duration": 11,
    "start_time": "2022-06-04T10:18:50.793Z"
   },
   {
    "duration": 4,
    "start_time": "2022-06-04T10:20:34.304Z"
   },
   {
    "duration": 8,
    "start_time": "2022-06-04T10:20:34.985Z"
   },
   {
    "duration": 8,
    "start_time": "2022-06-04T10:20:35.301Z"
   },
   {
    "duration": 245,
    "start_time": "2022-06-04T10:25:19.544Z"
   },
   {
    "duration": 3,
    "start_time": "2022-06-04T10:26:01.591Z"
   },
   {
    "duration": 8,
    "start_time": "2022-06-04T10:26:07.896Z"
   },
   {
    "duration": 145,
    "start_time": "2022-06-04T10:32:34.155Z"
   },
   {
    "duration": 5,
    "start_time": "2022-06-04T10:32:43.308Z"
   },
   {
    "duration": 7,
    "start_time": "2022-06-04T10:32:49.427Z"
   },
   {
    "duration": 9,
    "start_time": "2022-06-04T10:32:51.257Z"
   },
   {
    "duration": 4,
    "start_time": "2022-06-04T10:33:20.850Z"
   },
   {
    "duration": 5,
    "start_time": "2022-06-04T10:34:38.399Z"
   },
   {
    "duration": 18,
    "start_time": "2022-06-04T10:34:43.883Z"
   },
   {
    "duration": 13,
    "start_time": "2022-06-04T10:34:57.897Z"
   },
   {
    "duration": 83,
    "start_time": "2022-06-04T10:35:49.987Z"
   },
   {
    "duration": 4,
    "start_time": "2022-06-04T10:36:00.756Z"
   },
   {
    "duration": 19,
    "start_time": "2022-06-04T10:36:01.355Z"
   },
   {
    "duration": 78,
    "start_time": "2022-06-04T10:36:27.228Z"
   },
   {
    "duration": 18,
    "start_time": "2022-06-04T10:37:35.298Z"
   },
   {
    "duration": 35,
    "start_time": "2022-06-04T10:38:11.262Z"
   },
   {
    "duration": 18,
    "start_time": "2022-06-04T10:38:36.714Z"
   },
   {
    "duration": 8,
    "start_time": "2022-06-04T10:38:40.748Z"
   },
   {
    "duration": 22,
    "start_time": "2022-06-04T10:38:41.224Z"
   },
   {
    "duration": 27,
    "start_time": "2022-06-04T10:38:44.433Z"
   },
   {
    "duration": 18,
    "start_time": "2022-06-04T10:39:38.727Z"
   },
   {
    "duration": 17,
    "start_time": "2022-06-04T10:41:23.895Z"
   },
   {
    "duration": 11,
    "start_time": "2022-06-04T10:41:30.048Z"
   },
   {
    "duration": 70,
    "start_time": "2022-06-04T10:41:33.935Z"
   },
   {
    "duration": 6,
    "start_time": "2022-06-04T10:43:36.804Z"
   },
   {
    "duration": 19,
    "start_time": "2022-06-04T10:46:23.163Z"
   },
   {
    "duration": 1357,
    "start_time": "2022-06-06T21:53:44.268Z"
   },
   {
    "duration": 192,
    "start_time": "2022-06-06T21:53:45.628Z"
   },
   {
    "duration": 13,
    "start_time": "2022-06-06T21:53:45.822Z"
   },
   {
    "duration": 31,
    "start_time": "2022-06-06T21:53:45.838Z"
   },
   {
    "duration": 5,
    "start_time": "2022-06-06T21:53:45.871Z"
   },
   {
    "duration": 25,
    "start_time": "2022-06-06T21:53:45.877Z"
   },
   {
    "duration": 60,
    "start_time": "2022-06-06T21:53:45.904Z"
   },
   {
    "duration": 7,
    "start_time": "2022-06-06T21:53:45.966Z"
   },
   {
    "duration": 8,
    "start_time": "2022-06-06T21:53:45.975Z"
   },
   {
    "duration": 18,
    "start_time": "2022-06-06T21:53:45.986Z"
   },
   {
    "duration": 7,
    "start_time": "2022-06-06T21:53:46.030Z"
   },
   {
    "duration": 8,
    "start_time": "2022-06-06T21:53:46.039Z"
   },
   {
    "duration": 10,
    "start_time": "2022-06-06T21:53:46.049Z"
   },
   {
    "duration": 12,
    "start_time": "2022-06-06T21:53:46.061Z"
   },
   {
    "duration": 12,
    "start_time": "2022-06-06T21:53:46.075Z"
   },
   {
    "duration": 12,
    "start_time": "2022-06-06T21:53:46.089Z"
   },
   {
    "duration": 5,
    "start_time": "2022-06-06T21:53:46.103Z"
   },
   {
    "duration": 15,
    "start_time": "2022-06-06T21:53:46.130Z"
   },
   {
    "duration": 14,
    "start_time": "2022-06-06T21:53:46.147Z"
   },
   {
    "duration": 1419,
    "start_time": "2022-06-08T03:22:26.073Z"
   },
   {
    "duration": 214,
    "start_time": "2022-06-08T03:22:27.495Z"
   },
   {
    "duration": 13,
    "start_time": "2022-06-08T03:22:27.711Z"
   },
   {
    "duration": 54,
    "start_time": "2022-06-08T03:22:27.727Z"
   },
   {
    "duration": 6,
    "start_time": "2022-06-08T03:22:27.783Z"
   },
   {
    "duration": 12,
    "start_time": "2022-06-08T03:22:27.791Z"
   },
   {
    "duration": 37,
    "start_time": "2022-06-08T03:22:27.805Z"
   },
   {
    "duration": 6,
    "start_time": "2022-06-08T03:22:27.844Z"
   },
   {
    "duration": 11,
    "start_time": "2022-06-08T03:22:27.851Z"
   },
   {
    "duration": 18,
    "start_time": "2022-06-08T03:22:27.866Z"
   },
   {
    "duration": 7,
    "start_time": "2022-06-08T03:22:27.886Z"
   },
   {
    "duration": 4,
    "start_time": "2022-06-08T03:22:27.895Z"
   },
   {
    "duration": 34,
    "start_time": "2022-06-08T03:22:27.900Z"
   },
   {
    "duration": 19,
    "start_time": "2022-06-08T03:22:27.936Z"
   },
   {
    "duration": 10,
    "start_time": "2022-06-08T03:22:27.957Z"
   },
   {
    "duration": 12,
    "start_time": "2022-06-08T03:22:27.968Z"
   },
   {
    "duration": 7,
    "start_time": "2022-06-08T03:22:27.982Z"
   },
   {
    "duration": 15,
    "start_time": "2022-06-08T03:22:27.991Z"
   },
   {
    "duration": 16,
    "start_time": "2022-06-08T03:22:28.008Z"
   },
   {
    "duration": 32,
    "start_time": "2022-06-08T03:23:35.808Z"
   },
   {
    "duration": 29,
    "start_time": "2022-06-08T03:24:02.188Z"
   },
   {
    "duration": 13,
    "start_time": "2022-06-08T04:02:29.267Z"
   },
   {
    "duration": 11,
    "start_time": "2022-06-08T04:02:46.152Z"
   },
   {
    "duration": 20,
    "start_time": "2022-06-08T04:04:10.356Z"
   },
   {
    "duration": 24,
    "start_time": "2022-06-08T04:05:30.976Z"
   },
   {
    "duration": 6,
    "start_time": "2022-06-08T04:05:47.472Z"
   },
   {
    "duration": 6,
    "start_time": "2022-06-08T04:05:49.269Z"
   },
   {
    "duration": 132,
    "start_time": "2022-06-08T04:06:19.832Z"
   },
   {
    "duration": 419,
    "start_time": "2022-06-08T04:06:51.292Z"
   },
   {
    "duration": 421,
    "start_time": "2022-06-08T04:07:16.878Z"
   },
   {
    "duration": 11,
    "start_time": "2022-06-08T04:07:46.376Z"
   },
   {
    "duration": 16,
    "start_time": "2022-06-08T04:08:12.202Z"
   },
   {
    "duration": 7,
    "start_time": "2022-06-08T05:23:51.653Z"
   },
   {
    "duration": 23,
    "start_time": "2022-06-08T05:25:02.502Z"
   },
   {
    "duration": 120,
    "start_time": "2022-06-08T05:25:02.842Z"
   },
   {
    "duration": 34,
    "start_time": "2022-06-08T05:25:25.022Z"
   },
   {
    "duration": 155,
    "start_time": "2022-06-08T05:26:18.050Z"
   },
   {
    "duration": 140,
    "start_time": "2022-06-08T05:26:32.778Z"
   },
   {
    "duration": 7,
    "start_time": "2022-06-08T05:28:32.280Z"
   },
   {
    "duration": 9,
    "start_time": "2022-06-08T05:28:47.675Z"
   },
   {
    "duration": 175,
    "start_time": "2022-06-08T05:29:07.043Z"
   },
   {
    "duration": 298,
    "start_time": "2022-06-08T05:29:36.264Z"
   },
   {
    "duration": 7,
    "start_time": "2022-06-08T05:40:18.482Z"
   },
   {
    "duration": 7,
    "start_time": "2022-06-08T05:40:25.094Z"
   },
   {
    "duration": 160,
    "start_time": "2022-06-08T05:49:50.148Z"
   },
   {
    "duration": 221,
    "start_time": "2022-06-08T05:50:02.252Z"
   },
   {
    "duration": 348,
    "start_time": "2022-06-08T05:52:10.501Z"
   },
   {
    "duration": 262,
    "start_time": "2022-06-08T05:52:23.165Z"
   },
   {
    "duration": 294,
    "start_time": "2022-06-08T05:52:48.297Z"
   },
   {
    "duration": 9,
    "start_time": "2022-06-08T05:57:46.860Z"
   },
   {
    "duration": 12,
    "start_time": "2022-06-08T05:57:50.659Z"
   },
   {
    "duration": 180,
    "start_time": "2022-06-08T05:59:13.872Z"
   },
   {
    "duration": 179,
    "start_time": "2022-06-08T05:59:28.508Z"
   },
   {
    "duration": 29,
    "start_time": "2022-06-08T05:59:48.357Z"
   },
   {
    "duration": 332,
    "start_time": "2022-06-08T05:59:56.369Z"
   },
   {
    "duration": 212,
    "start_time": "2022-06-08T06:00:20.436Z"
   },
   {
    "duration": 208,
    "start_time": "2022-06-08T06:00:42.873Z"
   },
   {
    "duration": 210,
    "start_time": "2022-06-08T06:01:06.817Z"
   },
   {
    "duration": 250,
    "start_time": "2022-06-08T06:02:00.162Z"
   },
   {
    "duration": 258,
    "start_time": "2022-06-08T06:02:26.861Z"
   },
   {
    "duration": 219,
    "start_time": "2022-06-08T06:02:33.949Z"
   },
   {
    "duration": 218,
    "start_time": "2022-06-08T06:02:38.057Z"
   },
   {
    "duration": 238,
    "start_time": "2022-06-08T06:03:35.358Z"
   },
   {
    "duration": 258,
    "start_time": "2022-06-08T06:04:21.435Z"
   },
   {
    "duration": 303,
    "start_time": "2022-06-08T06:06:03.250Z"
   },
   {
    "duration": 295,
    "start_time": "2022-06-08T06:06:15.846Z"
   },
   {
    "duration": 305,
    "start_time": "2022-06-08T06:06:48.259Z"
   },
   {
    "duration": 299,
    "start_time": "2022-06-08T06:07:00.470Z"
   },
   {
    "duration": 430,
    "start_time": "2022-06-08T06:07:43.055Z"
   },
   {
    "duration": 8,
    "start_time": "2022-06-08T07:08:32.706Z"
   },
   {
    "duration": 23,
    "start_time": "2022-06-08T07:11:16.307Z"
   },
   {
    "duration": 7,
    "start_time": "2022-06-08T07:11:23.323Z"
   },
   {
    "duration": 8,
    "start_time": "2022-06-08T07:11:34.905Z"
   },
   {
    "duration": 11,
    "start_time": "2022-06-08T07:17:47.266Z"
   },
   {
    "duration": 99,
    "start_time": "2022-06-08T07:19:36.595Z"
   },
   {
    "duration": 130,
    "start_time": "2022-06-08T07:20:32.259Z"
   },
   {
    "duration": 106,
    "start_time": "2022-06-08T07:27:17.410Z"
   },
   {
    "duration": 4,
    "start_time": "2022-06-08T07:27:20.264Z"
   },
   {
    "duration": 4,
    "start_time": "2022-06-08T07:27:27.623Z"
   },
   {
    "duration": 5,
    "start_time": "2022-06-08T07:27:53.368Z"
   },
   {
    "duration": 5,
    "start_time": "2022-06-08T07:30:21.773Z"
   },
   {
    "duration": 146,
    "start_time": "2022-06-08T07:33:33.702Z"
   },
   {
    "duration": 179,
    "start_time": "2022-06-08T07:34:09.836Z"
   },
   {
    "duration": 5,
    "start_time": "2022-06-08T07:39:12.279Z"
   },
   {
    "duration": 4,
    "start_time": "2022-06-08T07:39:19.122Z"
   },
   {
    "duration": 118,
    "start_time": "2022-06-08T07:45:25.213Z"
   },
   {
    "duration": 9,
    "start_time": "2022-06-08T07:45:37.816Z"
   },
   {
    "duration": 7,
    "start_time": "2022-06-08T07:45:42.688Z"
   },
   {
    "duration": 199,
    "start_time": "2022-06-08T07:47:38.895Z"
   },
   {
    "duration": 194,
    "start_time": "2022-06-08T07:48:32.601Z"
   },
   {
    "duration": 28,
    "start_time": "2022-06-08T07:48:37.366Z"
   },
   {
    "duration": 38,
    "start_time": "2022-06-08T07:50:00.124Z"
   },
   {
    "duration": 14,
    "start_time": "2022-06-08T07:54:17.707Z"
   },
   {
    "duration": 14,
    "start_time": "2022-06-08T07:54:57.556Z"
   },
   {
    "duration": 168,
    "start_time": "2022-06-08T07:56:00.793Z"
   },
   {
    "duration": 7,
    "start_time": "2022-06-08T08:00:32.415Z"
   },
   {
    "duration": 10,
    "start_time": "2022-06-08T08:00:58.984Z"
   },
   {
    "duration": 4,
    "start_time": "2022-06-08T08:01:29.311Z"
   },
   {
    "duration": 27,
    "start_time": "2022-06-08T08:01:43.871Z"
   },
   {
    "duration": 37,
    "start_time": "2022-06-08T08:01:58.815Z"
   },
   {
    "duration": 33,
    "start_time": "2022-06-08T08:02:28.928Z"
   },
   {
    "duration": 34,
    "start_time": "2022-06-08T08:02:40.829Z"
   },
   {
    "duration": 6,
    "start_time": "2022-06-08T08:03:30.843Z"
   },
   {
    "duration": 48,
    "start_time": "2022-06-08T11:14:25.198Z"
   },
   {
    "duration": 1215,
    "start_time": "2022-06-08T11:14:35.851Z"
   },
   {
    "duration": 252,
    "start_time": "2022-06-08T11:14:37.068Z"
   },
   {
    "duration": 10,
    "start_time": "2022-06-08T11:14:37.322Z"
   },
   {
    "duration": 26,
    "start_time": "2022-06-08T11:14:37.334Z"
   },
   {
    "duration": 5,
    "start_time": "2022-06-08T11:14:37.362Z"
   },
   {
    "duration": 10,
    "start_time": "2022-06-08T11:14:37.369Z"
   },
   {
    "duration": 46,
    "start_time": "2022-06-08T11:14:37.381Z"
   },
   {
    "duration": 6,
    "start_time": "2022-06-08T11:14:37.428Z"
   },
   {
    "duration": 11,
    "start_time": "2022-06-08T11:14:37.436Z"
   },
   {
    "duration": 22,
    "start_time": "2022-06-08T11:14:37.450Z"
   },
   {
    "duration": 5,
    "start_time": "2022-06-08T11:14:37.474Z"
   },
   {
    "duration": 12,
    "start_time": "2022-06-08T11:14:37.481Z"
   },
   {
    "duration": 6,
    "start_time": "2022-06-08T11:14:37.495Z"
   },
   {
    "duration": 26,
    "start_time": "2022-06-08T11:14:37.503Z"
   },
   {
    "duration": 9,
    "start_time": "2022-06-08T11:14:37.531Z"
   },
   {
    "duration": 17,
    "start_time": "2022-06-08T11:14:37.542Z"
   },
   {
    "duration": 5,
    "start_time": "2022-06-08T11:14:37.560Z"
   },
   {
    "duration": 11,
    "start_time": "2022-06-08T11:14:37.567Z"
   },
   {
    "duration": 16,
    "start_time": "2022-06-08T11:14:37.579Z"
   },
   {
    "duration": 7,
    "start_time": "2022-06-08T11:14:37.596Z"
   },
   {
    "duration": 159,
    "start_time": "2022-06-08T11:14:37.605Z"
   },
   {
    "duration": 110,
    "start_time": "2022-06-08T11:14:37.765Z"
   },
   {
    "duration": 8,
    "start_time": "2022-06-08T11:14:37.877Z"
   },
   {
    "duration": 340,
    "start_time": "2022-06-08T11:14:37.887Z"
   },
   {
    "duration": 10,
    "start_time": "2022-06-08T11:14:38.228Z"
   },
   {
    "duration": 20,
    "start_time": "2022-06-08T11:14:38.239Z"
   },
   {
    "duration": 173,
    "start_time": "2022-06-08T11:14:38.260Z"
   },
   {
    "duration": 303,
    "start_time": "2022-06-08T11:14:38.436Z"
   },
   {
    "duration": 358,
    "start_time": "2022-06-08T11:14:38.741Z"
   },
   {
    "duration": 0,
    "start_time": "2022-06-08T11:14:39.101Z"
   },
   {
    "duration": 0,
    "start_time": "2022-06-08T11:14:39.102Z"
   },
   {
    "duration": 0,
    "start_time": "2022-06-08T11:14:39.103Z"
   },
   {
    "duration": 0,
    "start_time": "2022-06-08T11:14:39.104Z"
   },
   {
    "duration": 0,
    "start_time": "2022-06-08T11:14:39.106Z"
   },
   {
    "duration": 0,
    "start_time": "2022-06-08T11:14:39.107Z"
   },
   {
    "duration": 0,
    "start_time": "2022-06-08T11:14:39.108Z"
   },
   {
    "duration": 0,
    "start_time": "2022-06-08T11:14:39.110Z"
   },
   {
    "duration": 0,
    "start_time": "2022-06-08T11:14:39.125Z"
   },
   {
    "duration": 0,
    "start_time": "2022-06-08T11:14:39.127Z"
   },
   {
    "duration": 0,
    "start_time": "2022-06-08T11:14:39.128Z"
   },
   {
    "duration": 0,
    "start_time": "2022-06-08T11:14:39.129Z"
   },
   {
    "duration": 0,
    "start_time": "2022-06-08T11:14:39.130Z"
   },
   {
    "duration": 0,
    "start_time": "2022-06-08T11:14:39.131Z"
   },
   {
    "duration": 0,
    "start_time": "2022-06-08T11:14:39.133Z"
   },
   {
    "duration": 0,
    "start_time": "2022-06-08T11:14:39.134Z"
   },
   {
    "duration": 0,
    "start_time": "2022-06-08T11:14:39.135Z"
   },
   {
    "duration": 0,
    "start_time": "2022-06-08T11:14:39.136Z"
   },
   {
    "duration": 0,
    "start_time": "2022-06-08T11:14:39.137Z"
   },
   {
    "duration": 11,
    "start_time": "2022-06-08T11:15:09.864Z"
   },
   {
    "duration": 209,
    "start_time": "2022-06-08T11:16:10.940Z"
   },
   {
    "duration": 194,
    "start_time": "2022-06-08T11:17:45.045Z"
   },
   {
    "duration": 259,
    "start_time": "2022-06-08T11:19:09.129Z"
   },
   {
    "duration": 187,
    "start_time": "2022-06-08T11:19:30.157Z"
   },
   {
    "duration": 126,
    "start_time": "2022-06-08T11:24:35.131Z"
   },
   {
    "duration": 10,
    "start_time": "2022-06-08T11:25:32.692Z"
   },
   {
    "duration": 5,
    "start_time": "2022-06-08T11:25:42.883Z"
   },
   {
    "duration": 9,
    "start_time": "2022-06-08T11:26:11.380Z"
   },
   {
    "duration": 9,
    "start_time": "2022-06-08T11:26:19.272Z"
   },
   {
    "duration": 9,
    "start_time": "2022-06-08T11:27:18.781Z"
   },
   {
    "duration": 12,
    "start_time": "2022-06-08T11:27:46.645Z"
   },
   {
    "duration": 14,
    "start_time": "2022-06-08T11:28:56.603Z"
   },
   {
    "duration": 10,
    "start_time": "2022-06-08T11:31:35.998Z"
   },
   {
    "duration": 1037,
    "start_time": "2022-06-08T11:31:42.388Z"
   },
   {
    "duration": 77,
    "start_time": "2022-06-08T11:31:43.427Z"
   },
   {
    "duration": 12,
    "start_time": "2022-06-08T11:31:43.505Z"
   },
   {
    "duration": 41,
    "start_time": "2022-06-08T11:31:43.519Z"
   },
   {
    "duration": 9,
    "start_time": "2022-06-08T11:31:43.562Z"
   },
   {
    "duration": 16,
    "start_time": "2022-06-08T11:31:43.572Z"
   },
   {
    "duration": 40,
    "start_time": "2022-06-08T11:31:43.590Z"
   },
   {
    "duration": 18,
    "start_time": "2022-06-08T11:31:43.632Z"
   },
   {
    "duration": 29,
    "start_time": "2022-06-08T11:31:43.651Z"
   },
   {
    "duration": 27,
    "start_time": "2022-06-08T11:31:43.682Z"
   },
   {
    "duration": 19,
    "start_time": "2022-06-08T11:31:43.710Z"
   },
   {
    "duration": 23,
    "start_time": "2022-06-08T11:31:43.730Z"
   },
   {
    "duration": 25,
    "start_time": "2022-06-08T11:31:43.754Z"
   },
   {
    "duration": 20,
    "start_time": "2022-06-08T11:31:43.781Z"
   },
   {
    "duration": 23,
    "start_time": "2022-06-08T11:31:43.803Z"
   },
   {
    "duration": 18,
    "start_time": "2022-06-08T11:31:43.828Z"
   },
   {
    "duration": 21,
    "start_time": "2022-06-08T11:31:43.848Z"
   },
   {
    "duration": 23,
    "start_time": "2022-06-08T11:31:43.870Z"
   },
   {
    "duration": 49,
    "start_time": "2022-06-08T11:31:43.895Z"
   },
   {
    "duration": 22,
    "start_time": "2022-06-08T11:31:43.946Z"
   },
   {
    "duration": 208,
    "start_time": "2022-06-08T11:31:43.969Z"
   },
   {
    "duration": 124,
    "start_time": "2022-06-08T11:31:44.178Z"
   },
   {
    "duration": 8,
    "start_time": "2022-06-08T11:31:44.304Z"
   },
   {
    "duration": 356,
    "start_time": "2022-06-08T11:31:44.313Z"
   },
   {
    "duration": 9,
    "start_time": "2022-06-08T11:31:44.670Z"
   },
   {
    "duration": 46,
    "start_time": "2022-06-08T11:31:44.681Z"
   },
   {
    "duration": 181,
    "start_time": "2022-06-08T11:31:44.728Z"
   },
   {
    "duration": 301,
    "start_time": "2022-06-08T11:31:44.913Z"
   },
   {
    "duration": 209,
    "start_time": "2022-06-08T11:31:45.216Z"
   },
   {
    "duration": 316,
    "start_time": "2022-06-08T11:31:45.427Z"
   },
   {
    "duration": 7,
    "start_time": "2022-06-08T11:31:45.745Z"
   },
   {
    "duration": 11,
    "start_time": "2022-06-08T11:31:45.754Z"
   },
   {
    "duration": 110,
    "start_time": "2022-06-08T11:31:45.767Z"
   },
   {
    "duration": 137,
    "start_time": "2022-06-08T11:31:45.878Z"
   },
   {
    "duration": 12,
    "start_time": "2022-06-08T11:31:46.016Z"
   },
   {
    "duration": 142,
    "start_time": "2022-06-08T11:31:46.030Z"
   },
   {
    "duration": 164,
    "start_time": "2022-06-08T11:31:46.174Z"
   },
   {
    "duration": 4,
    "start_time": "2022-06-08T11:31:46.340Z"
   },
   {
    "duration": 12,
    "start_time": "2022-06-08T11:31:46.345Z"
   },
   {
    "duration": 9,
    "start_time": "2022-06-08T11:31:46.358Z"
   },
   {
    "duration": 199,
    "start_time": "2022-06-08T11:31:46.369Z"
   },
   {
    "duration": 33,
    "start_time": "2022-06-08T11:31:46.570Z"
   },
   {
    "duration": 206,
    "start_time": "2022-06-08T11:31:46.605Z"
   },
   {
    "duration": 5,
    "start_time": "2022-06-08T11:31:46.812Z"
   },
   {
    "duration": 24,
    "start_time": "2022-06-08T11:31:46.825Z"
   },
   {
    "duration": 5,
    "start_time": "2022-06-08T11:31:46.850Z"
   },
   {
    "duration": 9,
    "start_time": "2022-06-08T11:31:46.856Z"
   },
   {
    "duration": 10,
    "start_time": "2022-06-08T11:31:46.866Z"
   },
   {
    "duration": 26,
    "start_time": "2022-06-08T11:32:27.025Z"
   },
   {
    "duration": 7,
    "start_time": "2022-06-08T11:32:33.280Z"
   },
   {
    "duration": 41,
    "start_time": "2022-06-08T11:33:33.321Z"
   },
   {
    "duration": 25,
    "start_time": "2022-06-08T11:33:58.565Z"
   },
   {
    "duration": 34,
    "start_time": "2022-06-08T11:34:13.713Z"
   },
   {
    "duration": 51,
    "start_time": "2022-06-08T11:34:25.916Z"
   },
   {
    "duration": 41,
    "start_time": "2022-06-08T11:34:45.785Z"
   },
   {
    "duration": 25,
    "start_time": "2022-06-08T11:35:26.965Z"
   },
   {
    "duration": 2970,
    "start_time": "2022-06-08T11:40:06.207Z"
   },
   {
    "duration": 1880,
    "start_time": "2022-06-08T11:40:33.971Z"
   },
   {
    "duration": 14,
    "start_time": "2022-06-08T11:40:38.435Z"
   },
   {
    "duration": 20,
    "start_time": "2022-06-08T11:41:08.752Z"
   },
   {
    "duration": 16,
    "start_time": "2022-06-08T11:41:52.759Z"
   },
   {
    "duration": 1052,
    "start_time": "2022-06-08T11:50:57.081Z"
   },
   {
    "duration": 81,
    "start_time": "2022-06-08T11:50:58.135Z"
   },
   {
    "duration": 11,
    "start_time": "2022-06-08T11:50:58.217Z"
   },
   {
    "duration": 24,
    "start_time": "2022-06-08T11:50:58.230Z"
   },
   {
    "duration": 4,
    "start_time": "2022-06-08T11:50:58.256Z"
   },
   {
    "duration": 9,
    "start_time": "2022-06-08T11:50:58.262Z"
   },
   {
    "duration": 23,
    "start_time": "2022-06-08T11:50:58.273Z"
   },
   {
    "duration": 29,
    "start_time": "2022-06-08T11:50:58.297Z"
   },
   {
    "duration": 6,
    "start_time": "2022-06-08T11:50:58.328Z"
   },
   {
    "duration": 19,
    "start_time": "2022-06-08T11:50:58.336Z"
   },
   {
    "duration": 4,
    "start_time": "2022-06-08T11:50:58.356Z"
   },
   {
    "duration": 4,
    "start_time": "2022-06-08T11:50:58.362Z"
   },
   {
    "duration": 5,
    "start_time": "2022-06-08T11:50:58.367Z"
   },
   {
    "duration": 7,
    "start_time": "2022-06-08T11:50:58.373Z"
   },
   {
    "duration": 7,
    "start_time": "2022-06-08T11:50:58.381Z"
   },
   {
    "duration": 36,
    "start_time": "2022-06-08T11:50:58.390Z"
   },
   {
    "duration": 4,
    "start_time": "2022-06-08T11:50:58.428Z"
   },
   {
    "duration": 9,
    "start_time": "2022-06-08T11:50:58.434Z"
   },
   {
    "duration": 11,
    "start_time": "2022-06-08T11:50:58.444Z"
   },
   {
    "duration": 21,
    "start_time": "2022-06-08T11:50:58.457Z"
   },
   {
    "duration": 155,
    "start_time": "2022-06-08T11:50:58.479Z"
   },
   {
    "duration": 131,
    "start_time": "2022-06-08T11:50:58.636Z"
   },
   {
    "duration": 11,
    "start_time": "2022-06-08T11:50:58.769Z"
   },
   {
    "duration": 361,
    "start_time": "2022-06-08T11:50:58.781Z"
   },
   {
    "duration": 11,
    "start_time": "2022-06-08T11:50:59.144Z"
   },
   {
    "duration": 17,
    "start_time": "2022-06-08T11:50:59.157Z"
   },
   {
    "duration": 183,
    "start_time": "2022-06-08T11:50:59.175Z"
   },
   {
    "duration": 263,
    "start_time": "2022-06-08T11:50:59.362Z"
   },
   {
    "duration": 200,
    "start_time": "2022-06-08T11:50:59.627Z"
   },
   {
    "duration": 322,
    "start_time": "2022-06-08T11:50:59.829Z"
   },
   {
    "duration": 8,
    "start_time": "2022-06-08T11:51:00.153Z"
   },
   {
    "duration": 21,
    "start_time": "2022-06-08T11:51:00.163Z"
   },
   {
    "duration": 111,
    "start_time": "2022-06-08T11:51:00.186Z"
   },
   {
    "duration": 149,
    "start_time": "2022-06-08T11:51:00.299Z"
   },
   {
    "duration": 5,
    "start_time": "2022-06-08T11:51:00.450Z"
   },
   {
    "duration": 157,
    "start_time": "2022-06-08T11:51:00.456Z"
   },
   {
    "duration": 188,
    "start_time": "2022-06-08T11:51:00.615Z"
   },
   {
    "duration": 7,
    "start_time": "2022-06-08T11:51:00.805Z"
   },
   {
    "duration": 37,
    "start_time": "2022-06-08T11:51:00.816Z"
   },
   {
    "duration": 20,
    "start_time": "2022-06-08T11:51:00.855Z"
   },
   {
    "duration": 239,
    "start_time": "2022-06-08T11:51:00.877Z"
   },
   {
    "duration": 36,
    "start_time": "2022-06-08T11:51:01.118Z"
   },
   {
    "duration": 128,
    "start_time": "2022-06-08T11:51:01.156Z"
   },
   {
    "duration": 6,
    "start_time": "2022-06-08T11:51:01.286Z"
   },
   {
    "duration": 48,
    "start_time": "2022-06-08T11:51:01.294Z"
   },
   {
    "duration": 11,
    "start_time": "2022-06-08T11:51:01.344Z"
   },
   {
    "duration": 27,
    "start_time": "2022-06-08T11:51:01.357Z"
   },
   {
    "duration": 16,
    "start_time": "2022-06-08T11:51:01.387Z"
   },
   {
    "duration": 37,
    "start_time": "2022-06-08T11:51:01.405Z"
   },
   {
    "duration": 13,
    "start_time": "2022-06-08T11:51:01.444Z"
   },
   {
    "duration": 1363,
    "start_time": "2022-06-09T04:35:22.124Z"
   },
   {
    "duration": 210,
    "start_time": "2022-06-09T04:35:23.489Z"
   },
   {
    "duration": 12,
    "start_time": "2022-06-09T04:35:23.700Z"
   },
   {
    "duration": 27,
    "start_time": "2022-06-09T04:35:23.714Z"
   },
   {
    "duration": 5,
    "start_time": "2022-06-09T04:35:23.742Z"
   },
   {
    "duration": 12,
    "start_time": "2022-06-09T04:35:23.749Z"
   },
   {
    "duration": 37,
    "start_time": "2022-06-09T04:35:23.764Z"
   },
   {
    "duration": 7,
    "start_time": "2022-06-09T04:35:23.803Z"
   },
   {
    "duration": 12,
    "start_time": "2022-06-09T04:35:23.811Z"
   },
   {
    "duration": 45,
    "start_time": "2022-06-09T04:35:23.826Z"
   },
   {
    "duration": 7,
    "start_time": "2022-06-09T04:35:23.873Z"
   },
   {
    "duration": 8,
    "start_time": "2022-06-09T04:35:23.882Z"
   },
   {
    "duration": 7,
    "start_time": "2022-06-09T04:35:23.891Z"
   },
   {
    "duration": 8,
    "start_time": "2022-06-09T04:35:23.899Z"
   },
   {
    "duration": 8,
    "start_time": "2022-06-09T04:35:23.909Z"
   },
   {
    "duration": 12,
    "start_time": "2022-06-09T04:35:23.919Z"
   },
   {
    "duration": 32,
    "start_time": "2022-06-09T04:35:23.933Z"
   },
   {
    "duration": 14,
    "start_time": "2022-06-09T04:35:23.969Z"
   },
   {
    "duration": 25,
    "start_time": "2022-06-09T04:35:23.985Z"
   },
   {
    "duration": 9,
    "start_time": "2022-06-09T04:35:24.012Z"
   },
   {
    "duration": 187,
    "start_time": "2022-06-09T04:35:24.023Z"
   },
   {
    "duration": 130,
    "start_time": "2022-06-09T04:35:24.212Z"
   },
   {
    "duration": 9,
    "start_time": "2022-06-09T04:35:24.344Z"
   },
   {
    "duration": 341,
    "start_time": "2022-06-09T04:35:24.366Z"
   },
   {
    "duration": 15,
    "start_time": "2022-06-09T04:35:24.709Z"
   },
   {
    "duration": 40,
    "start_time": "2022-06-09T04:35:24.726Z"
   },
   {
    "duration": 353,
    "start_time": "2022-06-09T04:35:24.769Z"
   },
   {
    "duration": 384,
    "start_time": "2022-06-09T04:35:25.127Z"
   },
   {
    "duration": 243,
    "start_time": "2022-06-09T04:35:25.513Z"
   },
   {
    "duration": 368,
    "start_time": "2022-06-09T04:35:25.764Z"
   },
   {
    "duration": 9,
    "start_time": "2022-06-09T04:35:26.134Z"
   },
   {
    "duration": 25,
    "start_time": "2022-06-09T04:35:26.145Z"
   },
   {
    "duration": 122,
    "start_time": "2022-06-09T04:35:26.172Z"
   },
   {
    "duration": 153,
    "start_time": "2022-06-09T04:35:26.296Z"
   },
   {
    "duration": 14,
    "start_time": "2022-06-09T04:35:26.451Z"
   },
   {
    "duration": 284,
    "start_time": "2022-06-09T04:35:26.467Z"
   },
   {
    "duration": 202,
    "start_time": "2022-06-09T04:35:26.753Z"
   },
   {
    "duration": 6,
    "start_time": "2022-06-09T04:35:26.957Z"
   },
   {
    "duration": 13,
    "start_time": "2022-06-09T04:35:26.965Z"
   },
   {
    "duration": 11,
    "start_time": "2022-06-09T04:35:26.980Z"
   },
   {
    "duration": 220,
    "start_time": "2022-06-09T04:35:26.993Z"
   },
   {
    "duration": 28,
    "start_time": "2022-06-09T04:35:27.215Z"
   },
   {
    "duration": 196,
    "start_time": "2022-06-09T04:35:27.245Z"
   },
   {
    "duration": 11,
    "start_time": "2022-06-09T04:35:27.443Z"
   },
   {
    "duration": 28,
    "start_time": "2022-06-09T04:35:27.464Z"
   },
   {
    "duration": 9,
    "start_time": "2022-06-09T04:35:27.495Z"
   },
   {
    "duration": 15,
    "start_time": "2022-06-09T04:35:27.506Z"
   },
   {
    "duration": 12,
    "start_time": "2022-06-09T04:35:27.524Z"
   },
   {
    "duration": 54,
    "start_time": "2022-06-09T04:35:27.538Z"
   },
   {
    "duration": 15,
    "start_time": "2022-06-09T04:35:27.593Z"
   },
   {
    "duration": 218,
    "start_time": "2022-06-09T04:47:32.963Z"
   },
   {
    "duration": 225,
    "start_time": "2022-06-09T04:51:04.200Z"
   },
   {
    "duration": 13,
    "start_time": "2022-06-09T05:01:53.864Z"
   },
   {
    "duration": 15,
    "start_time": "2022-06-09T05:02:19.564Z"
   },
   {
    "duration": 10,
    "start_time": "2022-06-09T05:02:48.004Z"
   },
   {
    "duration": 10,
    "start_time": "2022-06-09T05:05:40.613Z"
   },
   {
    "duration": 15,
    "start_time": "2022-06-09T05:08:19.538Z"
   },
   {
    "duration": 15,
    "start_time": "2022-06-09T05:08:41.590Z"
   },
   {
    "duration": 17,
    "start_time": "2022-06-09T05:08:48.002Z"
   },
   {
    "duration": 218,
    "start_time": "2022-06-09T05:21:00.714Z"
   },
   {
    "duration": 316,
    "start_time": "2022-06-09T06:22:44.465Z"
   },
   {
    "duration": 336,
    "start_time": "2022-06-09T06:25:06.606Z"
   },
   {
    "duration": 255,
    "start_time": "2022-06-09T06:25:22.102Z"
   },
   {
    "duration": 226,
    "start_time": "2022-06-09T06:25:42.114Z"
   },
   {
    "duration": 249,
    "start_time": "2022-06-09T06:26:21.335Z"
   },
   {
    "duration": 251,
    "start_time": "2022-06-09T06:26:26.666Z"
   },
   {
    "duration": 391,
    "start_time": "2022-06-09T06:27:06.366Z"
   },
   {
    "duration": 338,
    "start_time": "2022-06-09T06:38:55.492Z"
   },
   {
    "duration": 393,
    "start_time": "2022-06-09T06:39:01.700Z"
   },
   {
    "duration": 359,
    "start_time": "2022-06-09T06:39:37.768Z"
   },
   {
    "duration": 112,
    "start_time": "2022-06-09T07:26:24.596Z"
   },
   {
    "duration": 5,
    "start_time": "2022-06-09T07:37:52.515Z"
   },
   {
    "duration": 142,
    "start_time": "2022-06-09T07:38:45.816Z"
   },
   {
    "duration": 155,
    "start_time": "2022-06-09T07:41:32.309Z"
   },
   {
    "duration": 5,
    "start_time": "2022-06-09T07:44:49.822Z"
   },
   {
    "duration": 4,
    "start_time": "2022-06-09T07:45:10.126Z"
   },
   {
    "duration": 222,
    "start_time": "2022-06-09T07:55:17.325Z"
   },
   {
    "duration": 209,
    "start_time": "2022-06-09T07:55:49.642Z"
   },
   {
    "duration": 150,
    "start_time": "2022-06-09T08:03:12.856Z"
   },
   {
    "duration": 34,
    "start_time": "2022-06-09T08:04:36.614Z"
   },
   {
    "duration": 149,
    "start_time": "2022-06-09T08:05:40.245Z"
   },
   {
    "duration": 7,
    "start_time": "2022-06-09T08:10:43.385Z"
   },
   {
    "duration": 30,
    "start_time": "2022-06-09T08:14:05.056Z"
   },
   {
    "duration": 7,
    "start_time": "2022-06-09T08:17:11.226Z"
   },
   {
    "duration": 31,
    "start_time": "2022-06-09T08:18:16.443Z"
   },
   {
    "duration": 11,
    "start_time": "2022-06-09T08:20:08.437Z"
   },
   {
    "duration": 11,
    "start_time": "2022-06-09T08:20:53.774Z"
   },
   {
    "duration": 1103,
    "start_time": "2022-06-09T10:52:54.873Z"
   },
   {
    "duration": 81,
    "start_time": "2022-06-09T10:52:55.978Z"
   },
   {
    "duration": 12,
    "start_time": "2022-06-09T10:52:56.060Z"
   },
   {
    "duration": 28,
    "start_time": "2022-06-09T10:52:56.075Z"
   },
   {
    "duration": 6,
    "start_time": "2022-06-09T10:52:56.104Z"
   },
   {
    "duration": 13,
    "start_time": "2022-06-09T10:52:56.111Z"
   },
   {
    "duration": 53,
    "start_time": "2022-06-09T10:52:56.125Z"
   },
   {
    "duration": 6,
    "start_time": "2022-06-09T10:52:56.179Z"
   },
   {
    "duration": 13,
    "start_time": "2022-06-09T10:52:56.186Z"
   },
   {
    "duration": 18,
    "start_time": "2022-06-09T10:52:56.202Z"
   },
   {
    "duration": 5,
    "start_time": "2022-06-09T10:52:56.221Z"
   },
   {
    "duration": 8,
    "start_time": "2022-06-09T10:52:56.227Z"
   },
   {
    "duration": 5,
    "start_time": "2022-06-09T10:52:56.236Z"
   },
   {
    "duration": 13,
    "start_time": "2022-06-09T10:52:56.265Z"
   },
   {
    "duration": 9,
    "start_time": "2022-06-09T10:52:56.280Z"
   },
   {
    "duration": 13,
    "start_time": "2022-06-09T10:52:56.290Z"
   },
   {
    "duration": 10,
    "start_time": "2022-06-09T10:52:56.304Z"
   },
   {
    "duration": 22,
    "start_time": "2022-06-09T10:52:56.316Z"
   },
   {
    "duration": 11,
    "start_time": "2022-06-09T10:52:56.340Z"
   },
   {
    "duration": 13,
    "start_time": "2022-06-09T10:52:56.353Z"
   },
   {
    "duration": 166,
    "start_time": "2022-06-09T10:52:56.368Z"
   },
   {
    "duration": 140,
    "start_time": "2022-06-09T10:52:56.536Z"
   },
   {
    "duration": 10,
    "start_time": "2022-06-09T10:52:56.677Z"
   },
   {
    "duration": 296,
    "start_time": "2022-06-09T10:52:56.689Z"
   },
   {
    "duration": 9,
    "start_time": "2022-06-09T10:52:56.987Z"
   },
   {
    "duration": 20,
    "start_time": "2022-06-09T10:52:56.998Z"
   },
   {
    "duration": 234,
    "start_time": "2022-06-09T10:52:57.020Z"
   },
   {
    "duration": 341,
    "start_time": "2022-06-09T10:52:57.258Z"
   },
   {
    "duration": 249,
    "start_time": "2022-06-09T10:52:57.601Z"
   },
   {
    "duration": 348,
    "start_time": "2022-06-09T10:52:57.852Z"
   },
   {
    "duration": 10,
    "start_time": "2022-06-09T10:52:58.203Z"
   },
   {
    "duration": 129,
    "start_time": "2022-06-09T10:52:58.215Z"
   },
   {
    "duration": 148,
    "start_time": "2022-06-09T10:52:58.346Z"
   },
   {
    "duration": 4,
    "start_time": "2022-06-09T10:52:58.496Z"
   },
   {
    "duration": 248,
    "start_time": "2022-06-09T10:52:58.503Z"
   },
   {
    "duration": 178,
    "start_time": "2022-06-09T10:52:58.754Z"
   },
   {
    "duration": 6,
    "start_time": "2022-06-09T10:52:58.934Z"
   },
   {
    "duration": 261,
    "start_time": "2022-06-09T10:52:58.942Z"
   },
   {
    "duration": 31,
    "start_time": "2022-06-09T10:52:59.206Z"
   },
   {
    "duration": 157,
    "start_time": "2022-06-09T10:52:59.239Z"
   },
   {
    "duration": 6,
    "start_time": "2022-06-09T10:52:59.397Z"
   },
   {
    "duration": 26,
    "start_time": "2022-06-09T10:52:59.404Z"
   },
   {
    "duration": 8,
    "start_time": "2022-06-09T10:52:59.431Z"
   },
   {
    "duration": 29,
    "start_time": "2022-06-09T10:52:59.442Z"
   },
   {
    "duration": 10,
    "start_time": "2022-06-09T10:52:59.473Z"
   },
   {
    "duration": 8,
    "start_time": "2022-06-09T10:52:59.485Z"
   },
   {
    "duration": 28,
    "start_time": "2022-06-09T10:52:59.495Z"
   },
   {
    "duration": 13,
    "start_time": "2022-06-09T10:52:59.525Z"
   }
  ],
  "kernelspec": {
   "display_name": "Python 3",
   "language": "python",
   "name": "python3"
  },
  "language_info": {
   "codemirror_mode": {
    "name": "ipython",
    "version": 3
   },
   "file_extension": ".py",
   "mimetype": "text/x-python",
   "name": "python",
   "nbconvert_exporter": "python",
   "pygments_lexer": "ipython3",
   "version": "3.7.3"
  },
  "toc": {
   "base_numbering": 1,
   "nav_menu": {},
   "number_sections": true,
   "sideBar": true,
   "skip_h1_title": true,
   "title_cell": "Table of Contents",
   "title_sidebar": "Contents",
   "toc_cell": false,
   "toc_position": {
    "height": "calc(100% - 180px)",
    "left": "10px",
    "top": "150px",
    "width": "302.439px"
   },
   "toc_section_display": true,
   "toc_window_display": false
  }
 },
 "nbformat": 4,
 "nbformat_minor": 2
}
