{
 "cells": [
  {
   "cell_type": "markdown",
   "metadata": {},
   "source": [
    "# Churn prediction for fitness centers"
   ]
  },
  {
   "cell_type": "markdown",
   "metadata": {},
   "source": [
    "## Data overview"
   ]
  },
  {
   "cell_type": "code",
   "execution_count": 1,
   "metadata": {},
   "outputs": [],
   "source": [
    "# importing libraries\n",
    "import pandas as pd\n",
    "import matplotlib.pyplot as plt\n",
    "import seaborn as sns\n",
    "import math as mth\n",
    "import plotly.graph_objects as go\n",
    "import numpy as np\n",
    "\n",
    "from sklearn.model_selection import train_test_split\n",
    "from sklearn.preprocessing import StandardScaler\n",
    "from sklearn.linear_model import LogisticRegression\n",
    "from sklearn.metrics import accuracy_score, precision_score, recall_score\n",
    "from sklearn.ensemble import RandomForestClassifier\n",
    "from sklearn.cluster import KMeans\n",
    "from sklearn.metrics import silhouette_score\n",
    "from scipy.cluster.hierarchy import dendrogram, linkage "
   ]
  },
  {
   "cell_type": "code",
   "execution_count": 2,
   "metadata": {},
   "outputs": [],
   "source": [
    "# suppressing warnings\n",
    "import warnings\n",
    "warnings.filterwarnings(\"ignore\")"
   ]
  },
  {
   "cell_type": "code",
   "execution_count": 3,
   "metadata": {},
   "outputs": [],
   "source": [
    "# reading csv file and assigning the result to variable\n",
    "gym = pd.read_csv('https://code.s3.yandex.net/datasets/gym_churn.csv')"
   ]
  },
  {
   "cell_type": "code",
   "execution_count": 4,
   "metadata": {
    "scrolled": true
   },
   "outputs": [
    {
     "data": {
      "text/html": [
       "<div>\n",
       "<style scoped>\n",
       "    .dataframe tbody tr th:only-of-type {\n",
       "        vertical-align: middle;\n",
       "    }\n",
       "\n",
       "    .dataframe tbody tr th {\n",
       "        vertical-align: top;\n",
       "    }\n",
       "\n",
       "    .dataframe thead th {\n",
       "        text-align: right;\n",
       "    }\n",
       "</style>\n",
       "<table border=\"1\" class=\"dataframe\">\n",
       "  <thead>\n",
       "    <tr style=\"text-align: right;\">\n",
       "      <th></th>\n",
       "      <th>gender</th>\n",
       "      <th>Near_Location</th>\n",
       "      <th>Partner</th>\n",
       "      <th>Promo_friends</th>\n",
       "      <th>Phone</th>\n",
       "      <th>Contract_period</th>\n",
       "      <th>Group_visits</th>\n",
       "      <th>Age</th>\n",
       "      <th>Avg_additional_charges_total</th>\n",
       "      <th>Month_to_end_contract</th>\n",
       "      <th>Lifetime</th>\n",
       "      <th>Avg_class_frequency_total</th>\n",
       "      <th>Avg_class_frequency_current_month</th>\n",
       "      <th>Churn</th>\n",
       "    </tr>\n",
       "  </thead>\n",
       "  <tbody>\n",
       "    <tr>\n",
       "      <th>0</th>\n",
       "      <td>1</td>\n",
       "      <td>1</td>\n",
       "      <td>1</td>\n",
       "      <td>1</td>\n",
       "      <td>0</td>\n",
       "      <td>6</td>\n",
       "      <td>1</td>\n",
       "      <td>29</td>\n",
       "      <td>14.227470</td>\n",
       "      <td>5.0</td>\n",
       "      <td>3</td>\n",
       "      <td>0.020398</td>\n",
       "      <td>0.000000</td>\n",
       "      <td>0</td>\n",
       "    </tr>\n",
       "    <tr>\n",
       "      <th>1</th>\n",
       "      <td>0</td>\n",
       "      <td>1</td>\n",
       "      <td>0</td>\n",
       "      <td>0</td>\n",
       "      <td>1</td>\n",
       "      <td>12</td>\n",
       "      <td>1</td>\n",
       "      <td>31</td>\n",
       "      <td>113.202938</td>\n",
       "      <td>12.0</td>\n",
       "      <td>7</td>\n",
       "      <td>1.922936</td>\n",
       "      <td>1.910244</td>\n",
       "      <td>0</td>\n",
       "    </tr>\n",
       "    <tr>\n",
       "      <th>2</th>\n",
       "      <td>0</td>\n",
       "      <td>1</td>\n",
       "      <td>1</td>\n",
       "      <td>0</td>\n",
       "      <td>1</td>\n",
       "      <td>1</td>\n",
       "      <td>0</td>\n",
       "      <td>28</td>\n",
       "      <td>129.448479</td>\n",
       "      <td>1.0</td>\n",
       "      <td>2</td>\n",
       "      <td>1.859098</td>\n",
       "      <td>1.736502</td>\n",
       "      <td>0</td>\n",
       "    </tr>\n",
       "    <tr>\n",
       "      <th>3</th>\n",
       "      <td>0</td>\n",
       "      <td>1</td>\n",
       "      <td>1</td>\n",
       "      <td>1</td>\n",
       "      <td>1</td>\n",
       "      <td>12</td>\n",
       "      <td>1</td>\n",
       "      <td>33</td>\n",
       "      <td>62.669863</td>\n",
       "      <td>12.0</td>\n",
       "      <td>2</td>\n",
       "      <td>3.205633</td>\n",
       "      <td>3.357215</td>\n",
       "      <td>0</td>\n",
       "    </tr>\n",
       "    <tr>\n",
       "      <th>4</th>\n",
       "      <td>1</td>\n",
       "      <td>1</td>\n",
       "      <td>1</td>\n",
       "      <td>1</td>\n",
       "      <td>1</td>\n",
       "      <td>1</td>\n",
       "      <td>0</td>\n",
       "      <td>26</td>\n",
       "      <td>198.362265</td>\n",
       "      <td>1.0</td>\n",
       "      <td>3</td>\n",
       "      <td>1.113884</td>\n",
       "      <td>1.120078</td>\n",
       "      <td>0</td>\n",
       "    </tr>\n",
       "    <tr>\n",
       "      <th>5</th>\n",
       "      <td>1</td>\n",
       "      <td>1</td>\n",
       "      <td>0</td>\n",
       "      <td>0</td>\n",
       "      <td>1</td>\n",
       "      <td>1</td>\n",
       "      <td>1</td>\n",
       "      <td>34</td>\n",
       "      <td>450.743960</td>\n",
       "      <td>1.0</td>\n",
       "      <td>3</td>\n",
       "      <td>2.623477</td>\n",
       "      <td>2.637007</td>\n",
       "      <td>0</td>\n",
       "    </tr>\n",
       "    <tr>\n",
       "      <th>6</th>\n",
       "      <td>1</td>\n",
       "      <td>1</td>\n",
       "      <td>1</td>\n",
       "      <td>1</td>\n",
       "      <td>0</td>\n",
       "      <td>6</td>\n",
       "      <td>1</td>\n",
       "      <td>32</td>\n",
       "      <td>94.266389</td>\n",
       "      <td>6.0</td>\n",
       "      <td>2</td>\n",
       "      <td>1.138941</td>\n",
       "      <td>1.277242</td>\n",
       "      <td>0</td>\n",
       "    </tr>\n",
       "    <tr>\n",
       "      <th>7</th>\n",
       "      <td>0</td>\n",
       "      <td>1</td>\n",
       "      <td>0</td>\n",
       "      <td>0</td>\n",
       "      <td>1</td>\n",
       "      <td>1</td>\n",
       "      <td>0</td>\n",
       "      <td>30</td>\n",
       "      <td>217.786641</td>\n",
       "      <td>1.0</td>\n",
       "      <td>0</td>\n",
       "      <td>1.213502</td>\n",
       "      <td>1.049387</td>\n",
       "      <td>1</td>\n",
       "    </tr>\n",
       "    <tr>\n",
       "      <th>8</th>\n",
       "      <td>1</td>\n",
       "      <td>1</td>\n",
       "      <td>1</td>\n",
       "      <td>1</td>\n",
       "      <td>1</td>\n",
       "      <td>1</td>\n",
       "      <td>1</td>\n",
       "      <td>23</td>\n",
       "      <td>45.409909</td>\n",
       "      <td>1.0</td>\n",
       "      <td>1</td>\n",
       "      <td>1.106239</td>\n",
       "      <td>1.059333</td>\n",
       "      <td>0</td>\n",
       "    </tr>\n",
       "    <tr>\n",
       "      <th>9</th>\n",
       "      <td>0</td>\n",
       "      <td>1</td>\n",
       "      <td>0</td>\n",
       "      <td>0</td>\n",
       "      <td>1</td>\n",
       "      <td>1</td>\n",
       "      <td>0</td>\n",
       "      <td>31</td>\n",
       "      <td>65.310836</td>\n",
       "      <td>1.0</td>\n",
       "      <td>11</td>\n",
       "      <td>1.810852</td>\n",
       "      <td>1.951368</td>\n",
       "      <td>0</td>\n",
       "    </tr>\n",
       "  </tbody>\n",
       "</table>\n",
       "</div>"
      ],
      "text/plain": [
       "   gender  Near_Location  Partner  Promo_friends  Phone  Contract_period  \\\n",
       "0       1              1        1              1      0                6   \n",
       "1       0              1        0              0      1               12   \n",
       "2       0              1        1              0      1                1   \n",
       "3       0              1        1              1      1               12   \n",
       "4       1              1        1              1      1                1   \n",
       "5       1              1        0              0      1                1   \n",
       "6       1              1        1              1      0                6   \n",
       "7       0              1        0              0      1                1   \n",
       "8       1              1        1              1      1                1   \n",
       "9       0              1        0              0      1                1   \n",
       "\n",
       "   Group_visits  Age  Avg_additional_charges_total  Month_to_end_contract  \\\n",
       "0             1   29                     14.227470                    5.0   \n",
       "1             1   31                    113.202938                   12.0   \n",
       "2             0   28                    129.448479                    1.0   \n",
       "3             1   33                     62.669863                   12.0   \n",
       "4             0   26                    198.362265                    1.0   \n",
       "5             1   34                    450.743960                    1.0   \n",
       "6             1   32                     94.266389                    6.0   \n",
       "7             0   30                    217.786641                    1.0   \n",
       "8             1   23                     45.409909                    1.0   \n",
       "9             0   31                     65.310836                    1.0   \n",
       "\n",
       "   Lifetime  Avg_class_frequency_total  Avg_class_frequency_current_month  \\\n",
       "0         3                   0.020398                           0.000000   \n",
       "1         7                   1.922936                           1.910244   \n",
       "2         2                   1.859098                           1.736502   \n",
       "3         2                   3.205633                           3.357215   \n",
       "4         3                   1.113884                           1.120078   \n",
       "5         3                   2.623477                           2.637007   \n",
       "6         2                   1.138941                           1.277242   \n",
       "7         0                   1.213502                           1.049387   \n",
       "8         1                   1.106239                           1.059333   \n",
       "9        11                   1.810852                           1.951368   \n",
       "\n",
       "   Churn  \n",
       "0      0  \n",
       "1      0  \n",
       "2      0  \n",
       "3      0  \n",
       "4      0  \n",
       "5      0  \n",
       "6      0  \n",
       "7      1  \n",
       "8      0  \n",
       "9      0  "
      ]
     },
     "execution_count": 4,
     "metadata": {},
     "output_type": "execute_result"
    }
   ],
   "source": [
    "# displaying the head of the DataFrame\n",
    "gym.head(10)"
   ]
  },
  {
   "cell_type": "markdown",
   "metadata": {},
   "source": [
    "- Change column names to lowercase and snake case."
   ]
  },
  {
   "cell_type": "code",
   "execution_count": 5,
   "metadata": {},
   "outputs": [],
   "source": [
    "# renaming columns\n",
    "gym.columns = ['gender',\n",
    "                'near_location',\n",
    "                'partner',\n",
    "                'promo_friends',\n",
    "                'phone',\n",
    "                'contract_period',\n",
    "                'group_visits',\n",
    "                'age',\n",
    "                'avg_additional_charges_total',\n",
    "                'month_to_end_contract',\n",
    "                'lifetime',\n",
    "                'avg_class_frequency_total',\n",
    "                'avg_class_frequency_current_month',\n",
    "                'churn']"
   ]
  },
  {
   "cell_type": "markdown",
   "metadata": {},
   "source": [
    "**Conclusion**\n",
    "\n",
    "- Change column names to lowercase and snake case."
   ]
  },
  {
   "cell_type": "markdown",
   "metadata": {},
   "source": [
    "## Exploratory data analysis"
   ]
  },
  {
   "cell_type": "markdown",
   "metadata": {},
   "source": [
    "- Check missing values, examining the means and standard deviations in the data set;\n",
    "- Analyze the mean values of features in two groups - those who left and those who stayed;\n",
    "- Plot bar graphs of feature distributions for those who left and those who stayed;\n",
    "- Build a correlation matrix."
   ]
  },
  {
   "cell_type": "markdown",
   "metadata": {},
   "source": [
    "### Checking missing values, examining the means and standard deviations in the data set"
   ]
  },
  {
   "cell_type": "code",
   "execution_count": 6,
   "metadata": {},
   "outputs": [
    {
     "name": "stdout",
     "output_type": "stream",
     "text": [
      "<class 'pandas.core.frame.DataFrame'>\n",
      "RangeIndex: 4000 entries, 0 to 3999\n",
      "Data columns (total 14 columns):\n",
      " #   Column                             Non-Null Count  Dtype  \n",
      "---  ------                             --------------  -----  \n",
      " 0   gender                             4000 non-null   int64  \n",
      " 1   near_location                      4000 non-null   int64  \n",
      " 2   partner                            4000 non-null   int64  \n",
      " 3   promo_friends                      4000 non-null   int64  \n",
      " 4   phone                              4000 non-null   int64  \n",
      " 5   contract_period                    4000 non-null   int64  \n",
      " 6   group_visits                       4000 non-null   int64  \n",
      " 7   age                                4000 non-null   int64  \n",
      " 8   avg_additional_charges_total       4000 non-null   float64\n",
      " 9   month_to_end_contract              4000 non-null   float64\n",
      " 10  lifetime                           4000 non-null   int64  \n",
      " 11  avg_class_frequency_total          4000 non-null   float64\n",
      " 12  avg_class_frequency_current_month  4000 non-null   float64\n",
      " 13  churn                              4000 non-null   int64  \n",
      "dtypes: float64(4), int64(10)\n",
      "memory usage: 437.6 KB\n"
     ]
    }
   ],
   "source": [
    "# printing information about the DataFrame\n",
    "gym.info()"
   ]
  },
  {
   "cell_type": "markdown",
   "metadata": {},
   "source": [
    "- There are no gaps in the data set."
   ]
  },
  {
   "cell_type": "code",
   "execution_count": 7,
   "metadata": {},
   "outputs": [
    {
     "name": "stdout",
     "output_type": "stream",
     "text": [
      "gender\n",
      "1    2041\n",
      "0    1959\n",
      "Name: gender, dtype: int64\n",
      "\n",
      "near_location\n",
      "1    3381\n",
      "0     619\n",
      "Name: near_location, dtype: int64\n",
      "\n",
      "partner\n",
      "0    2053\n",
      "1    1947\n",
      "Name: partner, dtype: int64\n",
      "\n",
      "promo_friends\n",
      "0    2766\n",
      "1    1234\n",
      "Name: promo_friends, dtype: int64\n",
      "\n",
      "phone\n",
      "1    3614\n",
      "0     386\n",
      "Name: phone, dtype: int64\n",
      "\n",
      "contract_period\n",
      "1     2207\n",
      "12     960\n",
      "6      833\n",
      "Name: contract_period, dtype: int64\n",
      "\n",
      "group_visits\n",
      "0    2351\n",
      "1    1649\n",
      "Name: group_visits, dtype: int64\n",
      "\n",
      "age\n",
      "29    468\n",
      "30    457\n",
      "28    447\n",
      "31    434\n",
      "27    378\n",
      "32    364\n",
      "26    300\n",
      "33    253\n",
      "25    231\n",
      "34    174\n",
      "24    148\n",
      "35     98\n",
      "23     82\n",
      "36     48\n",
      "22     33\n",
      "37     29\n",
      "21     24\n",
      "20     14\n",
      "38     10\n",
      "39      3\n",
      "18      2\n",
      "19      2\n",
      "41      1\n",
      "Name: age, dtype: int64\n",
      "\n",
      "avg_additional_charges_total\n",
      "89.952762     1\n",
      "174.658455    1\n",
      "122.765563    1\n",
      "204.444527    1\n",
      "50.813166     1\n",
      "             ..\n",
      "272.997181    1\n",
      "115.130268    1\n",
      "133.525137    1\n",
      "201.447650    1\n",
      "218.979321    1\n",
      "Name: avg_additional_charges_total, Length: 4000, dtype: int64\n",
      "\n",
      "month_to_end_contract\n",
      "1.0     2207\n",
      "6.0      645\n",
      "12.0     524\n",
      "11.0     181\n",
      "5.0      130\n",
      "10.0      82\n",
      "9.0       73\n",
      "4.0       58\n",
      "8.0       38\n",
      "7.0       25\n",
      "3.0       23\n",
      "2.0       14\n",
      "Name: month_to_end_contract, dtype: int64\n",
      "\n",
      "lifetime\n",
      "1     843\n",
      "2     610\n",
      "3     490\n",
      "0     487\n",
      "4     383\n",
      "5     273\n",
      "6     220\n",
      "7     167\n",
      "8     111\n",
      "9     100\n",
      "10     76\n",
      "12     53\n",
      "11     48\n",
      "13     28\n",
      "15     24\n",
      "14     24\n",
      "16     15\n",
      "17     11\n",
      "19      7\n",
      "18      7\n",
      "20      7\n",
      "21      5\n",
      "26      2\n",
      "24      2\n",
      "22      2\n",
      "23      2\n",
      "27      1\n",
      "29      1\n",
      "31      1\n",
      "Name: lifetime, dtype: int64\n",
      "\n",
      "avg_class_frequency_total\n",
      "0.000000    88\n",
      "0.827058     1\n",
      "2.770845     1\n",
      "1.472779     1\n",
      "3.735185     1\n",
      "            ..\n",
      "2.602823     1\n",
      "1.295159     1\n",
      "1.138963     1\n",
      "2.262743     1\n",
      "0.992312     1\n",
      "Name: avg_class_frequency_total, Length: 3913, dtype: int64\n",
      "\n",
      "avg_class_frequency_current_month\n",
      "0.000000    181\n",
      "0.379235      1\n",
      "0.054540      1\n",
      "1.877288      1\n",
      "1.058906      1\n",
      "           ... \n",
      "3.115417      1\n",
      "3.429058      1\n",
      "3.233156      1\n",
      "2.564243      1\n",
      "1.454710      1\n",
      "Name: avg_class_frequency_current_month, Length: 3820, dtype: int64\n",
      "\n",
      "churn\n",
      "0    2939\n",
      "1    1061\n",
      "Name: churn, dtype: int64\n",
      "\n"
     ]
    }
   ],
   "source": [
    "# checking for values in all columns \n",
    "for row in gym:\n",
    "    print(row)\n",
    "    print(gym[row].value_counts())\n",
    "    print()"
   ]
  },
  {
   "cell_type": "markdown",
   "metadata": {},
   "source": [
    "- Change data type to boolean in columns `gender`, `near_location`, `partner`, `promo_friends`, `phone`, `group_visits`, `churn`;\n",
    "- Change data type to int in column `month_to_end_contract`."
   ]
  },
  {
   "cell_type": "code",
   "execution_count": 8,
   "metadata": {},
   "outputs": [],
   "source": [
    "# changing data type to boolean\n",
    "gym[['gender', 'near_location', 'partner', 'promo_friends', 'phone', 'group_visits', 'churn']] = gym[['gender', 'near_location', 'partner', 'promo_friends', 'phone', 'group_visits', 'churn']].astype(bool)"
   ]
  },
  {
   "cell_type": "code",
   "execution_count": 9,
   "metadata": {},
   "outputs": [],
   "source": [
    "# changing data type to int\n",
    "gym['month_to_end_contract'] = gym['month_to_end_contract'].astype(int)"
   ]
  },
  {
   "cell_type": "code",
   "execution_count": 10,
   "metadata": {},
   "outputs": [
    {
     "data": {
      "text/plain": [
       "0"
      ]
     },
     "execution_count": 10,
     "metadata": {},
     "output_type": "execute_result"
    }
   ],
   "source": [
    "# checking for duplicates\n",
    "gym.duplicated().sum()"
   ]
  },
  {
   "cell_type": "markdown",
   "metadata": {},
   "source": [
    "There are no duplicates"
   ]
  },
  {
   "cell_type": "code",
   "execution_count": 11,
   "metadata": {},
   "outputs": [
    {
     "data": {
      "text/html": [
       "<div>\n",
       "<style scoped>\n",
       "    .dataframe tbody tr th:only-of-type {\n",
       "        vertical-align: middle;\n",
       "    }\n",
       "\n",
       "    .dataframe tbody tr th {\n",
       "        vertical-align: top;\n",
       "    }\n",
       "\n",
       "    .dataframe thead th {\n",
       "        text-align: right;\n",
       "    }\n",
       "</style>\n",
       "<table border=\"1\" class=\"dataframe\">\n",
       "  <thead>\n",
       "    <tr style=\"text-align: right;\">\n",
       "      <th></th>\n",
       "      <th>contract_period</th>\n",
       "      <th>age</th>\n",
       "      <th>avg_additional_charges_total</th>\n",
       "      <th>month_to_end_contract</th>\n",
       "      <th>lifetime</th>\n",
       "      <th>avg_class_frequency_total</th>\n",
       "      <th>avg_class_frequency_current_month</th>\n",
       "    </tr>\n",
       "  </thead>\n",
       "  <tbody>\n",
       "    <tr>\n",
       "      <th>count</th>\n",
       "      <td>4000.000000</td>\n",
       "      <td>4000.000000</td>\n",
       "      <td>4000.000000</td>\n",
       "      <td>4000.000000</td>\n",
       "      <td>4000.000000</td>\n",
       "      <td>4000.000000</td>\n",
       "      <td>4000.000000</td>\n",
       "    </tr>\n",
       "    <tr>\n",
       "      <th>mean</th>\n",
       "      <td>4.681250</td>\n",
       "      <td>29.184250</td>\n",
       "      <td>146.943728</td>\n",
       "      <td>4.322750</td>\n",
       "      <td>3.724750</td>\n",
       "      <td>1.879020</td>\n",
       "      <td>1.767052</td>\n",
       "    </tr>\n",
       "    <tr>\n",
       "      <th>std</th>\n",
       "      <td>4.549706</td>\n",
       "      <td>3.258367</td>\n",
       "      <td>96.355602</td>\n",
       "      <td>4.191297</td>\n",
       "      <td>3.749267</td>\n",
       "      <td>0.972245</td>\n",
       "      <td>1.052906</td>\n",
       "    </tr>\n",
       "    <tr>\n",
       "      <th>min</th>\n",
       "      <td>1.000000</td>\n",
       "      <td>18.000000</td>\n",
       "      <td>0.148205</td>\n",
       "      <td>1.000000</td>\n",
       "      <td>0.000000</td>\n",
       "      <td>0.000000</td>\n",
       "      <td>0.000000</td>\n",
       "    </tr>\n",
       "    <tr>\n",
       "      <th>25%</th>\n",
       "      <td>1.000000</td>\n",
       "      <td>27.000000</td>\n",
       "      <td>68.868830</td>\n",
       "      <td>1.000000</td>\n",
       "      <td>1.000000</td>\n",
       "      <td>1.180875</td>\n",
       "      <td>0.963003</td>\n",
       "    </tr>\n",
       "    <tr>\n",
       "      <th>50%</th>\n",
       "      <td>1.000000</td>\n",
       "      <td>29.000000</td>\n",
       "      <td>136.220159</td>\n",
       "      <td>1.000000</td>\n",
       "      <td>3.000000</td>\n",
       "      <td>1.832768</td>\n",
       "      <td>1.719574</td>\n",
       "    </tr>\n",
       "    <tr>\n",
       "      <th>75%</th>\n",
       "      <td>6.000000</td>\n",
       "      <td>31.000000</td>\n",
       "      <td>210.949625</td>\n",
       "      <td>6.000000</td>\n",
       "      <td>5.000000</td>\n",
       "      <td>2.536078</td>\n",
       "      <td>2.510336</td>\n",
       "    </tr>\n",
       "    <tr>\n",
       "      <th>max</th>\n",
       "      <td>12.000000</td>\n",
       "      <td>41.000000</td>\n",
       "      <td>552.590740</td>\n",
       "      <td>12.000000</td>\n",
       "      <td>31.000000</td>\n",
       "      <td>6.023668</td>\n",
       "      <td>6.146783</td>\n",
       "    </tr>\n",
       "  </tbody>\n",
       "</table>\n",
       "</div>"
      ],
      "text/plain": [
       "       contract_period          age  avg_additional_charges_total  \\\n",
       "count      4000.000000  4000.000000                   4000.000000   \n",
       "mean          4.681250    29.184250                    146.943728   \n",
       "std           4.549706     3.258367                     96.355602   \n",
       "min           1.000000    18.000000                      0.148205   \n",
       "25%           1.000000    27.000000                     68.868830   \n",
       "50%           1.000000    29.000000                    136.220159   \n",
       "75%           6.000000    31.000000                    210.949625   \n",
       "max          12.000000    41.000000                    552.590740   \n",
       "\n",
       "       month_to_end_contract     lifetime  avg_class_frequency_total  \\\n",
       "count            4000.000000  4000.000000                4000.000000   \n",
       "mean                4.322750     3.724750                   1.879020   \n",
       "std                 4.191297     3.749267                   0.972245   \n",
       "min                 1.000000     0.000000                   0.000000   \n",
       "25%                 1.000000     1.000000                   1.180875   \n",
       "50%                 1.000000     3.000000                   1.832768   \n",
       "75%                 6.000000     5.000000                   2.536078   \n",
       "max                12.000000    31.000000                   6.023668   \n",
       "\n",
       "       avg_class_frequency_current_month  \n",
       "count                        4000.000000  \n",
       "mean                            1.767052  \n",
       "std                             1.052906  \n",
       "min                             0.000000  \n",
       "25%                             0.963003  \n",
       "50%                             1.719574  \n",
       "75%                             2.510336  \n",
       "max                             6.146783  "
      ]
     },
     "execution_count": 11,
     "metadata": {},
     "output_type": "execute_result"
    }
   ],
   "source": [
    "# computing a summary of statistics\n",
    "gym.describe()"
   ]
  },
  {
   "cell_type": "markdown",
   "metadata": {},
   "source": [
    "There are no outliers in the data, the standard deviations are very close to the average, and the data is quite uniform.\n",
    "\n",
    "Portrait of a typical client:\n",
    "\n",
    "- An average client is 29 years old;\n",
    "- the current active subscription is about 5 months long;\n",
    "- 147 spent on additional services;\n",
    "- before the end of the contract, on average, about 4 months remain;\n",
    "- on average, it has been about 4 months since the first visit to the gym;\n",
    "- the gym is visited about twice a week."
   ]
  },
  {
   "cell_type": "markdown",
   "metadata": {},
   "source": [
    "### Analyzing the mean values of features in two groups - those who left and those who stayed"
   ]
  },
  {
   "cell_type": "code",
   "execution_count": 12,
   "metadata": {},
   "outputs": [
    {
     "data": {
      "text/html": [
       "<div>\n",
       "<style scoped>\n",
       "    .dataframe tbody tr th:only-of-type {\n",
       "        vertical-align: middle;\n",
       "    }\n",
       "\n",
       "    .dataframe tbody tr th {\n",
       "        vertical-align: top;\n",
       "    }\n",
       "\n",
       "    .dataframe thead th {\n",
       "        text-align: right;\n",
       "    }\n",
       "</style>\n",
       "<table border=\"1\" class=\"dataframe\">\n",
       "  <thead>\n",
       "    <tr style=\"text-align: right;\">\n",
       "      <th></th>\n",
       "      <th>gender</th>\n",
       "      <th>near_location</th>\n",
       "      <th>partner</th>\n",
       "      <th>promo_friends</th>\n",
       "      <th>phone</th>\n",
       "      <th>contract_period</th>\n",
       "      <th>group_visits</th>\n",
       "      <th>age</th>\n",
       "      <th>avg_additional_charges_total</th>\n",
       "      <th>month_to_end_contract</th>\n",
       "      <th>lifetime</th>\n",
       "      <th>avg_class_frequency_total</th>\n",
       "      <th>avg_class_frequency_current_month</th>\n",
       "    </tr>\n",
       "    <tr>\n",
       "      <th>churn</th>\n",
       "      <th></th>\n",
       "      <th></th>\n",
       "      <th></th>\n",
       "      <th></th>\n",
       "      <th></th>\n",
       "      <th></th>\n",
       "      <th></th>\n",
       "      <th></th>\n",
       "      <th></th>\n",
       "      <th></th>\n",
       "      <th></th>\n",
       "      <th></th>\n",
       "      <th></th>\n",
       "    </tr>\n",
       "  </thead>\n",
       "  <tbody>\n",
       "    <tr>\n",
       "      <th>False</th>\n",
       "      <td>0.510037</td>\n",
       "      <td>0.873086</td>\n",
       "      <td>0.534195</td>\n",
       "      <td>0.353522</td>\n",
       "      <td>0.903709</td>\n",
       "      <td>5.747193</td>\n",
       "      <td>0.464103</td>\n",
       "      <td>29.976523</td>\n",
       "      <td>158.445715</td>\n",
       "      <td>5.283089</td>\n",
       "      <td>4.711807</td>\n",
       "      <td>2.024876</td>\n",
       "      <td>2.027882</td>\n",
       "    </tr>\n",
       "    <tr>\n",
       "      <th>True</th>\n",
       "      <td>0.510839</td>\n",
       "      <td>0.768143</td>\n",
       "      <td>0.355325</td>\n",
       "      <td>0.183789</td>\n",
       "      <td>0.902922</td>\n",
       "      <td>1.728558</td>\n",
       "      <td>0.268615</td>\n",
       "      <td>26.989632</td>\n",
       "      <td>115.082899</td>\n",
       "      <td>1.662582</td>\n",
       "      <td>0.990575</td>\n",
       "      <td>1.474995</td>\n",
       "      <td>1.044546</td>\n",
       "    </tr>\n",
       "  </tbody>\n",
       "</table>\n",
       "</div>"
      ],
      "text/plain": [
       "         gender  near_location   partner  promo_friends     phone  \\\n",
       "churn                                                               \n",
       "False  0.510037       0.873086  0.534195       0.353522  0.903709   \n",
       "True   0.510839       0.768143  0.355325       0.183789  0.902922   \n",
       "\n",
       "       contract_period  group_visits        age  avg_additional_charges_total  \\\n",
       "churn                                                                           \n",
       "False         5.747193      0.464103  29.976523                    158.445715   \n",
       "True          1.728558      0.268615  26.989632                    115.082899   \n",
       "\n",
       "       month_to_end_contract  lifetime  avg_class_frequency_total  \\\n",
       "churn                                                               \n",
       "False               5.283089  4.711807                   2.024876   \n",
       "True                1.662582  0.990575                   1.474995   \n",
       "\n",
       "       avg_class_frequency_current_month  \n",
       "churn                                     \n",
       "False                           2.027882  \n",
       "True                            1.044546  "
      ]
     },
     "execution_count": 12,
     "metadata": {},
     "output_type": "execute_result"
    }
   ],
   "source": [
    "# grouping by churn and checking the mean values\n",
    "gym.groupby('churn').mean()"
   ]
  },
  {
   "cell_type": "markdown",
   "metadata": {},
   "source": [
    "We can conclude that those who stayed (churn = 0) often live nearby, work for the club's partner company, come to the club under the \"bring a friend\" promotion, have a subscription for 5.7 months, and attend group classes. Their average age is almost 30 years old. They bring in more total revenue from other services at the fitness center, and they have an average duration of 5.2 months for their current subscription. On average, the remaining clients have been using the fitness center for 4.7 months and they attend classes twice a week."
   ]
  },
  {
   "cell_type": "markdown",
   "metadata": {},
   "source": [
    "### Plotting bar graphs of feature distributions for those who left and those who stayed"
   ]
  },
  {
   "cell_type": "code",
   "execution_count": 13,
   "metadata": {},
   "outputs": [],
   "source": [
    "# breaking down the features by type \"bool\" and non \"bool\"\n",
    "bool_features = [] \n",
    "non_bool_features = []\n",
    "\n",
    "for col in (gym.columns.tolist()):\n",
    "    if gym[col].dtype == 'bool':\n",
    "        bool_features.append(col)\n",
    "    else:\n",
    "        non_bool_features.append(col)"
   ]
  },
  {
   "cell_type": "code",
   "execution_count": 14,
   "metadata": {
    "scrolled": true
   },
   "outputs": [
    {
     "name": "stdout",
     "output_type": "stream",
     "text": [
      "Bool-features: ['gender', 'near_location', 'partner', 'promo_friends', 'phone', 'group_visits', 'churn'] \n",
      "\n",
      "Numerical features: ['contract_period', 'age', 'avg_additional_charges_total', 'month_to_end_contract', 'lifetime', 'avg_class_frequency_total', 'avg_class_frequency_current_month']\n"
     ]
    }
   ],
   "source": [
    "# displaying on the screen\n",
    "print('Bool-features:', bool_features, '\\n\\nNumerical features:', non_bool_features)"
   ]
  },
  {
   "cell_type": "code",
   "execution_count": 15,
   "metadata": {
    "scrolled": true
   },
   "outputs": [
    {
     "name": "stdout",
     "output_type": "stream",
     "text": [
      "['gender', 'near_location', 'partner', 'promo_friends', 'phone', 'group_visits']\n"
     ]
    }
   ],
   "source": [
    "# removing the churn column from bool_features\n",
    "bool_features.remove('churn')\n",
    "\n",
    "# displaying on the screen\n",
    "print(bool_features)"
   ]
  },
  {
   "cell_type": "code",
   "execution_count": 16,
   "metadata": {
    "scrolled": true
   },
   "outputs": [
    {
     "data": {
      "image/png": "[encoded data removed]",
      "text/plain": [
       "<Figure size 360x360 with 1 Axes>"
      ]
     },
     "metadata": {
      "needs_background": "light"
     },
     "output_type": "display_data"
    },
    {
     "data": {
      "image/png": "[encoded data removed]",
      "text/plain": [
       "<Figure size 360x360 with 1 Axes>"
      ]
     },
     "metadata": {
      "needs_background": "light"
     },
     "output_type": "display_data"
    },
    {
     "data": {
      "image/png": "[encoded data removed]",
      "text/plain": [
       "<Figure size 360x360 with 1 Axes>"
      ]
     },
     "metadata": {
      "needs_background": "light"
     },
     "output_type": "display_data"
    },
    {
     "data": {
      "image/png": "[encoded data removed]",
      "text/plain": [
       "<Figure size 360x360 with 1 Axes>"
      ]
     },
     "metadata": {
      "needs_background": "light"
     },
     "output_type": "display_data"
    },
    {
     "data": {
      "image/png": "[encoded data removed]",
      "text/plain": [
       "<Figure size 360x360 with 1 Axes>"
      ]
     },
     "metadata": {
      "needs_background": "light"
     },
     "output_type": "display_data"
    },
    {
     "data": {
      "image/png": "[encoded data removed]",
      "text/plain": [
       "<Figure size 360x360 with 1 Axes>"
      ]
     },
     "metadata": {
      "needs_background": "light"
     },
     "output_type": "display_data"
    }
   ],
   "source": [
    "# plotting the distribution of boolean features\n",
    "for i in bool_features:\n",
    "    fig, ax = plt.subplots(figsize=(5, 5))\n",
    "    plt.title('Distribution of boolean features')\n",
    "    sns.distplot(gym.query('churn == 1')[i].astype(int), bins=4, kde=False, color='r',label='gone-1')\n",
    "    sns.distplot(gym.query('churn == 0')[i].astype(int), bins=4, kde=False, color='g',label='stayed-0')\n",
    "    plt.xlabel(f'Feature - {i}')\n",
    "    plt.ylabel('Frequency')\n",
    "    ax.set_xticks([0,1])\n",
    "    ax.legend()\n",
    "    plt.show()"
   ]
  },
  {
   "cell_type": "markdown",
   "metadata": {},
   "source": [
    "- In terms of `gender`, there are about the same number of female and male customers, and about the percentage of lost customers. As a result, a client's decision to leave has nothing to do with his/her gender. Models cannot be trained using this feature;\n",
    "\n",
    "- In terms of `near_location`, the proportion of customers who left for option 1 is less than half, and the proportion who left for option 0 is more than half. That is, the outflow is more for customers who live/work far from the gym;\n",
    "\n",
    "- In terms of `partner`, customers from partner companies and other customers have similar shares. Partners, however, have a much lower share of those who left. We must work more actively with partners, expand their networks, and attract more such customers;\n",
    "\n",
    "- In terms of `promo_friends`, while fewer people are participating in the promo action, the share of those who remain is much higher. As a result of the campaign, loyal customers were collected;\n",
    "\n",
    "- In terms of `phone`, the proportion of customers who have left their phone number is approximately the same for options 1 and 0. Therefore, a client's decision to leave has nothing to do with whether or not they left their phone number;\n",
    "\n",
    "- In terms of `group_visits`, the churn rate among those who don't attend group classes is higher than that among those who do."
   ]
  },
  {
   "cell_type": "code",
   "execution_count": 17,
   "metadata": {},
   "outputs": [
    {
     "data": {
      "image/png": "[encoded data removed]",
      "text/plain": [
       "<Figure size 360x360 with 1 Axes>"
      ]
     },
     "metadata": {
      "needs_background": "light"
     },
     "output_type": "display_data"
    },
    {
     "data": {
      "image/png": "[encoded data removed]",
      "text/plain": [
       "<Figure size 360x360 with 1 Axes>"
      ]
     },
     "metadata": {
      "needs_background": "light"
     },
     "output_type": "display_data"
    },
    {
     "data": {
      "image/png": "[encoded data removed]",
      "text/plain": [
       "<Figure size 360x360 with 1 Axes>"
      ]
     },
     "metadata": {
      "needs_background": "light"
     },
     "output_type": "display_data"
    },
    {
     "data": {
      "image/png": "[encoded data removed]",
      "text/plain": [
       "<Figure size 360x360 with 1 Axes>"
      ]
     },
     "metadata": {
      "needs_background": "light"
     },
     "output_type": "display_data"
    },
    {
     "data": {
      "image/png": "[encoded data removed]",
      "text/plain": [
       "<Figure size 360x360 with 1 Axes>"
      ]
     },
     "metadata": {
      "needs_background": "light"
     },
     "output_type": "display_data"
    },
    {
     "data": {
      "image/png": "[encoded data removed]",
      "text/plain": [
       "<Figure size 360x360 with 1 Axes>"
      ]
     },
     "metadata": {
      "needs_background": "light"
     },
     "output_type": "display_data"
    },
    {
     "data": {
      "image/png": "[encoded data removed]",
      "text/plain": [
       "<Figure size 360x360 with 1 Axes>"
      ]
     },
     "metadata": {
      "needs_background": "light"
     },
     "output_type": "display_data"
    }
   ],
   "source": [
    "# plotting the distribution of numerical features\n",
    "for i in non_bool_features:\n",
    "    fig, ax = plt.subplots(figsize=(5, 5))\n",
    "    plt.title('Distribution of numerical features')\n",
    "    sns.distplot(gym.query('churn == 1')[i].astype(int), bins=10, kde=False, color='r',label='gone-1')\n",
    "    sns.distplot(gym.query('churn == 0')[i].astype(int), bins=10, kde=False, color='g',label='left-0')\n",
    "    plt.xlabel(f'Feature - {i}')\n",
    "    plt.ylabel('Frequency')\n",
    "    ax.legend()\n",
    "    plt.show()"
   ]
  },
  {
   "cell_type": "markdown",
   "metadata": {},
   "source": [
    "- In terms of `contract_period`, most of the outflow comes from those who take a subscription for a month. The smallest outflow comes from those who take a subscription for a year. These are the most stable customers;\n",
    "\n",
    "- In terms of `age`, clients aged 24-30 are more likely to leave, but older clients are more likely to stay;\n",
    "\n",
    "- In terms of `avg_additional_charges_total`, those who spend less than 350 on additional services tend to leave;\n",
    "\n",
    "- In terms of `month_to_end_contract`, the main churn is among customers with 1 month remaining on their subscription. The more time left, the stronger the desire to continue going to gym;\n",
    "\n",
    "- In terms of `lifetime`, most outflows come from people who go to the gym for less than five months;\n",
    "\n",
    "- In terms of `avg_class_frequency_total`, the gym churn rate is higher for ciustomers who visit up to two times a week. If the client visits three times or more, the outflow is minimal, or none at all. But such customers are rare;\n",
    "\n",
    "- In terms of `avg_class_frequency_current_month`, the higher the frequency of club visits, the lower the churn rate. "
   ]
  },
  {
   "cell_type": "markdown",
   "metadata": {},
   "source": [
    "### Building a correlation matrix"
   ]
  },
  {
   "cell_type": "code",
   "execution_count": 18,
   "metadata": {},
   "outputs": [
    {
     "data": {
      "image/png": "[encoded data removed]",
      "text/plain": [
       "<Figure size 1008x576 with 2 Axes>"
      ]
     },
     "metadata": {
      "needs_background": "light"
     },
     "output_type": "display_data"
    }
   ],
   "source": [
    "# plotting a correlation matrix\n",
    "matrix = gym.corr()\n",
    "plt.figure(figsize=(14,8))\n",
    "sns.heatmap(matrix, annot = True, square=False)\n",
    "plt.title('Feature correlation matrix', fontsize = 20)\n",
    "plt.xlabel('Features', fontsize = 14) \n",
    "plt.ylabel('Features', fontsize = 14) \n",
    "plt.show()"
   ]
  },
  {
   "cell_type": "markdown",
   "metadata": {},
   "source": [
    "The feature correlation matrix suggests that all features are weakly correlated. There is an inverse correlation between `churn` and the rest of the features - the stronger the feature, the weaker the churn.\n",
    "\n",
    "There is a very strong (above 0.95) correlation of feature pairs:\n",
    "- `contract_period` and `month_to_end_contract` - the longer the subscription period, the more likely there are still months left;\n",
    "- `avg_class_frequency_current_month` and `avg_class_frequency_total` - those who have been visiting regularly for a long time is probably visiting on the same schedule for the past month."
   ]
  },
  {
   "cell_type": "code",
   "execution_count": 19,
   "metadata": {},
   "outputs": [],
   "source": [
    "# removing one feature from a pair of correlated features\n",
    "gym = gym.drop(['month_to_end_contract', 'avg_class_frequency_current_month'], axis = 1)"
   ]
  },
  {
   "cell_type": "markdown",
   "metadata": {},
   "source": [
    "**Conclusion**\n",
    "\n",
    "- There are 4000 records in the table, which is sufficient for forecasting;\n",
    "- The data is complete, without gaps or duplicates;\n",
    "- Columns gender, near_location, partner, promo_friends, phone, group_visits, churn are now bools;\n",
    "- Column month_to_end_contract column is now integer;\n",
    "- There are no strong outliers in the table, the standard deviations are reasonable, the data is quite uniform. \n",
    "\n",
    "**Exploratory data analysis:**\n",
    "\n",
    "1. We can conclude that those who stayed (churn = 0) often live nearby, work for the club's partner company, come to the club under the \"bring a friend\" promotion, have a subscription for 5.7 months, and attend group classes. Their average age is almost 30 years old. They bring in more total revenue from other services at the fitness center, and they have an average duration of 5.2 months for their current subscription. On average, the remaining clients have been using the fitness center for 4.7 months and they attend classes twice a week.\n",
    "\n",
    "2. Our analysis of the features of those who left (churn) and those who stayed shows the following:\n",
    "\n",
    "    - In terms of `gender`, there are about the same number of female and male customers, and about the percentage of lost customers. As a result, a client's decision to leave has nothing to do with his/her gender. Models cannot be trained using this feature;\n",
    "\n",
    "    - In terms of `near_location`, the proportion of customers who left for option 1 is less than half, and the proportion who left for option 0 is more than half. That is, the outflow is more for customers who live/work far from the gym;\n",
    "\n",
    "    - In terms of `partner`, customers from partner companies and other customers have similar shares. Partners, however, have a much lower share of those who left. We must work more actively with partners, expand their networks, and attract more such customers;\n",
    "\n",
    "    - In terms of `promo_friends`, while fewer people are participating in the promo action, the share of those who remain is much higher. As a result of the campaign, loyal customers were collected;\n",
    "\n",
    "    - In terms of `phone`, the proportion of customers who have left their phone number is approximately the same for options 1 and 0. Therefore, a client's decision to leave has nothing to do with whether or not they left their phone number;\n",
    "\n",
    "    - In terms of `group_visits`, the churn rate among those who don't attend group classes is higher than that among those who do.\n",
    "\n",
    "    - In terms of `contract_period`, most of the outflow comes from those who take a subscription for a month. The smallest outflow comes from those who take a subscription for a year. These are the most stable customers;\n",
    "\n",
    "    - In terms of `age`, clients aged 24-30 are more likely to leave, but older clients are more likely to stay;\n",
    "\n",
    "    - In terms of `avg_additional_charges_total`, those who spend less than 350 on additional services tend to leave;\n",
    "\n",
    "    - In terms of `month_to_end_contract`, the main churn is among customers with 1 month remaining on their subscription. The more time left, the stronger the desire to continue going to gym;\n",
    "\n",
    "    - In terms of `lifetime`, most outflows come from people who go to the gym for less than five months;\n",
    "\n",
    "    - In terms of `avg_class_frequency_total`, the gym churn rate is higher for ciustomers who visit up to two times a week. If the client visits three times or more, the outflow is minimal, or none at all. But such customers are rare;\n",
    "\n",
    "    - In terms of `avg_class_frequency_current_month`, the higher the frequency of club visits, the lower the churn rate. \n",
    "\n",
    "3. The feature correlation matrix suggests that all features are weakly correlated. There is an inverse correlation between `churn` and the rest of the features - the stronger the feature, the weaker the churn.\n",
    "\n",
    "There is a very strong (above 0.95) correlation of feature pairs:\n",
    "- `contract_period` and `month_to_end_contract` - the longer the subscription period, the more likely there are still months left;\n",
    "- `avg_class_frequency_current_month` and `avg_class_frequency_total` - those who have been visiting regularly for a long time is probably visiting on the same schedule for the past month.\n",
    "- Removed `month_to_end_contract`, `avg_class_frequency_current_month` features from pairs of correlated features as they can negatively affect model training."
   ]
  },
  {
   "cell_type": "markdown",
   "metadata": {},
   "source": [
    "## Building a customer churn forecasting model"
   ]
  },
  {
   "cell_type": "markdown",
   "metadata": {},
   "source": [
    "- Create a binary classification model of customers based on the fact that a customer is likely to churn within the next month:\n",
    "    - Split the data into training and validation samples using the train_test_split() function.\n",
    "    - Train the model on the train sample using two ways: logistic regression and random forest.\n",
    "    - Evaluate the accuracy, precision and recall metrics."
   ]
  },
  {
   "cell_type": "markdown",
   "metadata": {},
   "source": [
    "### Spliting the data into training and validation samples using the train_test_split() function"
   ]
  },
  {
   "cell_type": "code",
   "execution_count": 20,
   "metadata": {},
   "outputs": [],
   "source": [
    "# dividing the data into features (matrix X) and target variable (y)\n",
    "X = gym.drop('churn', axis=1)\n",
    "y = gym['churn']"
   ]
  },
  {
   "cell_type": "code",
   "execution_count": 21,
   "metadata": {},
   "outputs": [],
   "source": [
    "# dividing the model into training and validation sets\n",
    "X_train, X_test, y_train, y_test = train_test_split(X, y, stratify=y, test_size=0.2, random_state=0)"
   ]
  },
  {
   "cell_type": "code",
   "execution_count": 22,
   "metadata": {},
   "outputs": [
    {
     "data": {
      "text/plain": [
       "array([[ 0.98265048,  0.42368158,  1.03175391, -0.65709005,  0.32751555,\n",
       "         0.29763717,  1.19034383,  0.55025283, -0.92337193, -0.19265756,\n",
       "        -1.92902575],\n",
       "       [ 0.98265048,  0.42368158, -0.96922337, -0.65709005,  0.32751555,\n",
       "         1.62230884,  1.19034383, -1.28583586,  0.16252804, -0.46105294,\n",
       "         1.33328297],\n",
       "       [-1.01765584,  0.42368158, -0.96922337,  1.52186142,  0.32751555,\n",
       "         0.29763717,  1.19034383,  0.24423805,  0.30907146, -0.46105294,\n",
       "        -0.76508827],\n",
       "       [-1.01765584,  0.42368158,  1.03175391,  1.52186142,  0.32751555,\n",
       "         0.29763717,  1.19034383, -1.28583586, -0.99057964, -0.99784369,\n",
       "         0.51992504],\n",
       "       [-1.01765584,  0.42368158, -0.96922337,  1.52186142, -3.05329013,\n",
       "         1.62230884,  1.19034383, -0.06177673,  0.02573737, -0.46105294,\n",
       "        -0.29392092]])"
      ]
     },
     "metadata": {},
     "output_type": "display_data"
    }
   ],
   "source": [
    "# creating an object of the StandardScaler class and applying it to the training sample\n",
    "scaler = StandardScaler()\n",
    "\n",
    "# training scaler and simultaneously transforming the matrix for the training sample\n",
    "X_train_st = scaler.fit_transform(X_train)\n",
    "\n",
    "# displaying on screen\n",
    "display(X_train_st[:5])\n",
    "\n",
    "# standardizing the feature matrix for the test sample\n",
    "X_test_st = scaler.transform(X_test)"
   ]
  },
  {
   "cell_type": "markdown",
   "metadata": {},
   "source": [
    "### Training the model on the train sample using two ways: logistic regression and random forest"
   ]
  },
  {
   "cell_type": "markdown",
   "metadata": {},
   "source": [
    "#### Logistic regression"
   ]
  },
  {
   "cell_type": "code",
   "execution_count": 23,
   "metadata": {},
   "outputs": [
    {
     "name": "stdout",
     "output_type": "stream",
     "text": [
      "Prediction Model - \"Logistic Regression\"\n",
      "Accuracy: 0.90\n",
      "Precision: 0.83\n",
      "Recall: 0.80\n"
     ]
    }
   ],
   "source": [
    "# defining an algorithm for our model\n",
    "model = LogisticRegression(solver='liblinear') \n",
    "\n",
    "# training the model\n",
    "model.fit(X_train, y_train)\n",
    "\n",
    "# using an already trained model to make predictions\n",
    "predictions = model.predict(X_test)\n",
    "probabilities = model.predict_proba(X_test)[:,1]\n",
    "\n",
    "# displaying all metrics\n",
    "print('Prediction Model - \"Logistic Regression\"')\n",
    "print('Accuracy: {:.2f}'.format(accuracy_score(y_test, predictions)))\n",
    "print('Precision: {:.2f}'.format(precision_score(y_test, predictions)))\n",
    "print('Recall: {:.2f}'.format(recall_score(y_test, predictions)))"
   ]
  },
  {
   "cell_type": "markdown",
   "metadata": {},
   "source": [
    "#### Random forest"
   ]
  },
  {
   "cell_type": "code",
   "execution_count": 24,
   "metadata": {},
   "outputs": [
    {
     "name": "stdout",
     "output_type": "stream",
     "text": [
      "Prediction Model - \"Random Forest\"\n",
      "Accuracy: 0.89\n",
      "Precision: 0.81\n",
      "Recall: 0.79\n"
     ]
    }
   ],
   "source": [
    "# defining an algorithm for our model \n",
    "rf_model = RandomForestClassifier(n_estimators = 100, random_state = 0)\n",
    "\n",
    "# training a random forest model\n",
    "rf_model.fit(X_train_st, y_train)\n",
    "\n",
    "# using an already trained model to make predictions\n",
    "rf_predictions = rf_model.predict(X_test_st) # Ваш код здесь\n",
    "rf_probabilities = rf_model.predict_proba(X_test_st)[:,1]\n",
    "\n",
    "# displaying all metrics\n",
    "print('Prediction Model - \"Random Forest\"')\n",
    "print('Accuracy: {:.2f}'.format(accuracy_score(y_test, rf_predictions)))\n",
    "print('Precision: {:.2f}'.format(precision_score(y_test, rf_predictions)))\n",
    "print('Recall: {:.2f}'.format(recall_score(y_test, rf_predictions)))"
   ]
  },
  {
   "cell_type": "markdown",
   "metadata": {},
   "source": [
    "### Evaluating the accuracy, precision and recall metrics"
   ]
  },
  {
   "cell_type": "markdown",
   "metadata": {},
   "source": [
    "In all respects, \"Logistic Regression\" gives a slightly better result than \"Random Forest\":\n",
    "- the Accuracy parameter suggests that \"Logistic regression\" outperforms \"Random forest\" slightly (0.90 vs. 0.89);\n",
    "- the Precision parameter suggests that \"Logistic regression\" outperforms \"Random Forest\" slightly (0.83 vs. 0.81);\n",
    "- the Recall parameter suggests that \"Logistic regression\" outperforms \"Random Forest\" slightly (0.80 vs. 0.79).\n",
    "\n",
    "Both models have a very high Accuracy (over 0.89), Precision and Recall (in the range of 0.79 - 0.83)."
   ]
  },
  {
   "cell_type": "markdown",
   "metadata": {},
   "source": [
    "**Conclusion**\n",
    "\n",
    "While both models performed well, \"Logistic Regression\" performed slightly better:\n",
    "- the Accuracy parameter suggests that \"Logistic regression\" outperforms \"Random forest\" slightly (0.90 vs. 0.89);\n",
    "- the Precision parameter suggests that \"Logistic regression\" outperforms \"Random Forest\" slightly (0.83 vs. 0.81);\n",
    "- the Recall parameter suggests that \"Logistic regression\" outperforms \"Random Forest\" slightly (0.80 vs. 0.79)."
   ]
  },
  {
   "cell_type": "markdown",
   "metadata": {},
   "source": [
    "## Clustering"
   ]
  },
  {
   "cell_type": "markdown",
   "metadata": {},
   "source": [
    "- Standardize data;\n",
    "- Build a distance matrix using the linkage() function and draw a dendrogram. Identify how many clusters there are;\n",
    "- Train a clustering model based on the K-Means algorithm and predicting customer clusters;\n",
    "- Identify feature mean values for clusters;\n",
    "- Plot feature distributions for clusters;\n",
    "- Identify each cluster's outflow share."
   ]
  },
  {
   "cell_type": "markdown",
   "metadata": {},
   "source": [
    "### Standardizing data"
   ]
  },
  {
   "cell_type": "code",
   "execution_count": 25,
   "metadata": {},
   "outputs": [
    {
     "data": {
      "text/plain": [
       "array([[ 0.97970588,  0.42788074,  1.02686062,  1.49716101, -3.05985201,\n",
       "         0.28989014,  1.19403206, -0.0565538 , -1.37753121, -0.19332863,\n",
       "        -1.91191971],\n",
       "       [-1.0207145 ,  0.42788074, -0.973842  , -0.66793083,  0.32681319,\n",
       "         1.60882159,  1.19403206,  0.55732732, -0.35021325,  0.87368001,\n",
       "         0.04517569],\n",
       "       [-1.0207145 ,  0.42788074,  1.02686062, -0.66793083,  0.32681319,\n",
       "        -0.8092194 , -0.83749845, -0.36349436, -0.1815923 , -0.46008079,\n",
       "        -0.02049263]])"
      ]
     },
     "execution_count": 25,
     "metadata": {},
     "output_type": "execute_result"
    }
   ],
   "source": [
    "# standardizing data\n",
    "sc = StandardScaler()\n",
    "\n",
    "# training sc and simultaneously transforming the matrix for the training sample\n",
    "X_sc = sc.fit_transform(X)\n",
    "\n",
    "# displaying on the screen\n",
    "X_sc[:3]"
   ]
  },
  {
   "cell_type": "markdown",
   "metadata": {},
   "source": [
    "### Building a distance matrix using the linkage() function and drawing a dendrogram. Identifying how many clusters there are."
   ]
  },
  {
   "cell_type": "code",
   "execution_count": 26,
   "metadata": {},
   "outputs": [],
   "source": [
    "# passing the standardized table as a parameter to the linkage() function\n",
    "# to make the chart more representative, it is better to pass the value 'ward' to the method parameter\n",
    "linked = linkage(X_sc, method = 'ward')"
   ]
  },
  {
   "cell_type": "code",
   "execution_count": 27,
   "metadata": {},
   "outputs": [
    {
     "data": {
      "image/png": "[encoded data removed]",
      "text/plain": [
       "<Figure size 1080x720 with 1 Axes>"
      ]
     },
     "metadata": {
      "needs_background": "light"
     },
     "output_type": "display_data"
    }
   ],
   "source": [
    "# plotting a dendrogram\n",
    "plt.figure(figsize=(15, 10))  \n",
    "dendrogram(linked, orientation='top')\n",
    "plt.title('Hierarchial clustering for gym')\n",
    "plt.show()"
   ]
  },
  {
   "cell_type": "markdown",
   "metadata": {},
   "source": [
    "Five large clusters of clients can be identified on the dendrogram."
   ]
  },
  {
   "cell_type": "markdown",
   "metadata": {},
   "source": [
    "### Training a clustering model based on the K-Means algorithm and predicting customer clusters"
   ]
  },
  {
   "cell_type": "code",
   "execution_count": 28,
   "metadata": {},
   "outputs": [
    {
     "data": {
      "text/plain": [
       "array([4, 3, 2, ..., 1, 1, 4], dtype=int32)"
      ]
     },
     "execution_count": 28,
     "metadata": {},
     "output_type": "execute_result"
    }
   ],
   "source": [
    "# setting the model k_means with the number of clusters 5\n",
    "km = KMeans(n_clusters=5, random_state=0)\n",
    "\n",
    "# predicting clusters for observations (the algorithm assigns them numbers from 0 to 2)\n",
    "labels = km.fit_predict(X_sc)\n",
    "\n",
    "# displaying on the screen\n",
    "labels"
   ]
  },
  {
   "cell_type": "code",
   "execution_count": 29,
   "metadata": {
    "scrolled": true
   },
   "outputs": [
    {
     "data": {
      "text/html": [
       "<div>\n",
       "<style scoped>\n",
       "    .dataframe tbody tr th:only-of-type {\n",
       "        vertical-align: middle;\n",
       "    }\n",
       "\n",
       "    .dataframe tbody tr th {\n",
       "        vertical-align: top;\n",
       "    }\n",
       "\n",
       "    .dataframe thead th {\n",
       "        text-align: right;\n",
       "    }\n",
       "</style>\n",
       "<table border=\"1\" class=\"dataframe\">\n",
       "  <thead>\n",
       "    <tr style=\"text-align: right;\">\n",
       "      <th></th>\n",
       "      <th>gender</th>\n",
       "      <th>near_location</th>\n",
       "      <th>partner</th>\n",
       "      <th>promo_friends</th>\n",
       "      <th>phone</th>\n",
       "      <th>contract_period</th>\n",
       "      <th>group_visits</th>\n",
       "      <th>age</th>\n",
       "      <th>avg_additional_charges_total</th>\n",
       "      <th>lifetime</th>\n",
       "      <th>avg_class_frequency_total</th>\n",
       "      <th>churn</th>\n",
       "      <th>cluster_km</th>\n",
       "    </tr>\n",
       "  </thead>\n",
       "  <tbody>\n",
       "    <tr>\n",
       "      <th>0</th>\n",
       "      <td>True</td>\n",
       "      <td>True</td>\n",
       "      <td>True</td>\n",
       "      <td>True</td>\n",
       "      <td>False</td>\n",
       "      <td>6</td>\n",
       "      <td>True</td>\n",
       "      <td>29</td>\n",
       "      <td>14.227470</td>\n",
       "      <td>3</td>\n",
       "      <td>0.020398</td>\n",
       "      <td>False</td>\n",
       "      <td>4</td>\n",
       "    </tr>\n",
       "    <tr>\n",
       "      <th>1</th>\n",
       "      <td>False</td>\n",
       "      <td>True</td>\n",
       "      <td>False</td>\n",
       "      <td>False</td>\n",
       "      <td>True</td>\n",
       "      <td>12</td>\n",
       "      <td>True</td>\n",
       "      <td>31</td>\n",
       "      <td>113.202938</td>\n",
       "      <td>7</td>\n",
       "      <td>1.922936</td>\n",
       "      <td>False</td>\n",
       "      <td>3</td>\n",
       "    </tr>\n",
       "    <tr>\n",
       "      <th>2</th>\n",
       "      <td>False</td>\n",
       "      <td>True</td>\n",
       "      <td>True</td>\n",
       "      <td>False</td>\n",
       "      <td>True</td>\n",
       "      <td>1</td>\n",
       "      <td>False</td>\n",
       "      <td>28</td>\n",
       "      <td>129.448479</td>\n",
       "      <td>2</td>\n",
       "      <td>1.859098</td>\n",
       "      <td>False</td>\n",
       "      <td>2</td>\n",
       "    </tr>\n",
       "    <tr>\n",
       "      <th>3</th>\n",
       "      <td>False</td>\n",
       "      <td>True</td>\n",
       "      <td>True</td>\n",
       "      <td>True</td>\n",
       "      <td>True</td>\n",
       "      <td>12</td>\n",
       "      <td>True</td>\n",
       "      <td>33</td>\n",
       "      <td>62.669863</td>\n",
       "      <td>2</td>\n",
       "      <td>3.205633</td>\n",
       "      <td>False</td>\n",
       "      <td>1</td>\n",
       "    </tr>\n",
       "    <tr>\n",
       "      <th>4</th>\n",
       "      <td>True</td>\n",
       "      <td>True</td>\n",
       "      <td>True</td>\n",
       "      <td>True</td>\n",
       "      <td>True</td>\n",
       "      <td>1</td>\n",
       "      <td>False</td>\n",
       "      <td>26</td>\n",
       "      <td>198.362265</td>\n",
       "      <td>3</td>\n",
       "      <td>1.113884</td>\n",
       "      <td>False</td>\n",
       "      <td>1</td>\n",
       "    </tr>\n",
       "  </tbody>\n",
       "</table>\n",
       "</div>"
      ],
      "text/plain": [
       "   gender  near_location  partner  promo_friends  phone  contract_period  \\\n",
       "0    True           True     True           True  False                6   \n",
       "1   False           True    False          False   True               12   \n",
       "2   False           True     True          False   True                1   \n",
       "3   False           True     True           True   True               12   \n",
       "4    True           True     True           True   True                1   \n",
       "\n",
       "   group_visits  age  avg_additional_charges_total  lifetime  \\\n",
       "0          True   29                     14.227470         3   \n",
       "1          True   31                    113.202938         7   \n",
       "2         False   28                    129.448479         2   \n",
       "3          True   33                     62.669863         2   \n",
       "4         False   26                    198.362265         3   \n",
       "\n",
       "   avg_class_frequency_total  churn  cluster_km  \n",
       "0                   0.020398  False           4  \n",
       "1                   1.922936  False           3  \n",
       "2                   1.859098  False           2  \n",
       "3                   3.205633  False           1  \n",
       "4                   1.113884  False           1  "
      ]
     },
     "execution_count": 29,
     "metadata": {},
     "output_type": "execute_result"
    }
   ],
   "source": [
    "# saving the cluster labels in our dataset\n",
    "gym['cluster_km'] = labels\n",
    "\n",
    "# displaying on the screen\n",
    "gym.head()"
   ]
  },
  {
   "cell_type": "code",
   "execution_count": 30,
   "metadata": {
    "scrolled": false
   },
   "outputs": [
    {
     "data": {
      "text/plain": [
       "cluster_km\n",
       "0     561\n",
       "1    1050\n",
       "2    1132\n",
       "3     871\n",
       "4     386\n",
       "Name: gender, dtype: int64"
      ]
     },
     "execution_count": 30,
     "metadata": {},
     "output_type": "execute_result"
    }
   ],
   "source": [
    "# calculating the number of clients in each cluster\n",
    "gym.groupby('cluster_km')['gender'].count()"
   ]
  },
  {
   "cell_type": "markdown",
   "metadata": {},
   "source": [
    "There are 386 clients in the smallest group and 1132 clients in the largest group."
   ]
  },
  {
   "cell_type": "markdown",
   "metadata": {},
   "source": [
    "**Calculating silhouette metrics for clustering**"
   ]
  },
  {
   "cell_type": "code",
   "execution_count": 31,
   "metadata": {
    "scrolled": true
   },
   "outputs": [
    {
     "name": "stdout",
     "output_type": "stream",
     "text": [
      "Silhouette_score: 0.14\n"
     ]
    }
   ],
   "source": [
    "print('Silhouette_score: {:.2f}'.format(silhouette_score(X_sc, labels)))"
   ]
  },
  {
   "cell_type": "markdown",
   "metadata": {},
   "source": [
    "A silhouette score can range from -1 to 1. The closer to 1, the better the clustering. Based on the Silhouette_score = 0.14, the clustering wasn't very good."
   ]
  },
  {
   "cell_type": "markdown",
   "metadata": {},
   "source": [
    "### Identifying feature mean values for clusters"
   ]
  },
  {
   "cell_type": "code",
   "execution_count": 32,
   "metadata": {},
   "outputs": [
    {
     "data": {
      "text/html": [
       "<div>\n",
       "<style scoped>\n",
       "    .dataframe tbody tr th:only-of-type {\n",
       "        vertical-align: middle;\n",
       "    }\n",
       "\n",
       "    .dataframe tbody tr th {\n",
       "        vertical-align: top;\n",
       "    }\n",
       "\n",
       "    .dataframe thead th {\n",
       "        text-align: right;\n",
       "    }\n",
       "</style>\n",
       "<table border=\"1\" class=\"dataframe\">\n",
       "  <thead>\n",
       "    <tr style=\"text-align: right;\">\n",
       "      <th>cluster_km</th>\n",
       "      <th>0</th>\n",
       "      <th>1</th>\n",
       "      <th>2</th>\n",
       "      <th>3</th>\n",
       "      <th>4</th>\n",
       "    </tr>\n",
       "  </thead>\n",
       "  <tbody>\n",
       "    <tr>\n",
       "      <th>gender</th>\n",
       "      <td>0.499109</td>\n",
       "      <td>0.488571</td>\n",
       "      <td>0.505300</td>\n",
       "      <td>0.544202</td>\n",
       "      <td>0.523316</td>\n",
       "    </tr>\n",
       "    <tr>\n",
       "      <th>near_location</th>\n",
       "      <td>0.000000</td>\n",
       "      <td>0.995238</td>\n",
       "      <td>1.000000</td>\n",
       "      <td>1.000000</td>\n",
       "      <td>0.862694</td>\n",
       "    </tr>\n",
       "    <tr>\n",
       "      <th>partner</th>\n",
       "      <td>0.488414</td>\n",
       "      <td>0.955238</td>\n",
       "      <td>0.238516</td>\n",
       "      <td>0.250287</td>\n",
       "      <td>0.471503</td>\n",
       "    </tr>\n",
       "    <tr>\n",
       "      <th>promo_friends</th>\n",
       "      <td>0.076649</td>\n",
       "      <td>0.892381</td>\n",
       "      <td>0.059187</td>\n",
       "      <td>0.079219</td>\n",
       "      <td>0.305699</td>\n",
       "    </tr>\n",
       "    <tr>\n",
       "      <th>phone</th>\n",
       "      <td>1.000000</td>\n",
       "      <td>1.000000</td>\n",
       "      <td>1.000000</td>\n",
       "      <td>1.000000</td>\n",
       "      <td>0.000000</td>\n",
       "    </tr>\n",
       "    <tr>\n",
       "      <th>contract_period</th>\n",
       "      <td>3.032086</td>\n",
       "      <td>7.660952</td>\n",
       "      <td>2.819788</td>\n",
       "      <td>4.528129</td>\n",
       "      <td>4.777202</td>\n",
       "    </tr>\n",
       "    <tr>\n",
       "      <th>group_visits</th>\n",
       "      <td>0.235294</td>\n",
       "      <td>0.458095</td>\n",
       "      <td>0.000000</td>\n",
       "      <td>1.000000</td>\n",
       "      <td>0.427461</td>\n",
       "    </tr>\n",
       "    <tr>\n",
       "      <th>age</th>\n",
       "      <td>28.721925</td>\n",
       "      <td>29.543810</td>\n",
       "      <td>28.770318</td>\n",
       "      <td>29.536165</td>\n",
       "      <td>29.297927</td>\n",
       "    </tr>\n",
       "    <tr>\n",
       "      <th>avg_additional_charges_total</th>\n",
       "      <td>137.540009</td>\n",
       "      <td>155.861428</td>\n",
       "      <td>143.383993</td>\n",
       "      <td>148.088897</td>\n",
       "      <td>144.208179</td>\n",
       "    </tr>\n",
       "    <tr>\n",
       "      <th>lifetime</th>\n",
       "      <td>3.060606</td>\n",
       "      <td>4.380952</td>\n",
       "      <td>3.343640</td>\n",
       "      <td>3.761194</td>\n",
       "      <td>3.940415</td>\n",
       "    </tr>\n",
       "    <tr>\n",
       "      <th>avg_class_frequency_total</th>\n",
       "      <td>1.770413</td>\n",
       "      <td>1.978963</td>\n",
       "      <td>1.800647</td>\n",
       "      <td>1.941342</td>\n",
       "      <td>1.854211</td>\n",
       "    </tr>\n",
       "  </tbody>\n",
       "</table>\n",
       "</div>"
      ],
      "text/plain": [
       "cluster_km                             0           1           2           3  \\\n",
       "gender                          0.499109    0.488571    0.505300    0.544202   \n",
       "near_location                   0.000000    0.995238    1.000000    1.000000   \n",
       "partner                         0.488414    0.955238    0.238516    0.250287   \n",
       "promo_friends                   0.076649    0.892381    0.059187    0.079219   \n",
       "phone                           1.000000    1.000000    1.000000    1.000000   \n",
       "contract_period                 3.032086    7.660952    2.819788    4.528129   \n",
       "group_visits                    0.235294    0.458095    0.000000    1.000000   \n",
       "age                            28.721925   29.543810   28.770318   29.536165   \n",
       "avg_additional_charges_total  137.540009  155.861428  143.383993  148.088897   \n",
       "lifetime                        3.060606    4.380952    3.343640    3.761194   \n",
       "avg_class_frequency_total       1.770413    1.978963    1.800647    1.941342   \n",
       "\n",
       "cluster_km                             4  \n",
       "gender                          0.523316  \n",
       "near_location                   0.862694  \n",
       "partner                         0.471503  \n",
       "promo_friends                   0.305699  \n",
       "phone                           0.000000  \n",
       "contract_period                 4.777202  \n",
       "group_visits                    0.427461  \n",
       "age                            29.297927  \n",
       "avg_additional_charges_total  144.208179  \n",
       "lifetime                        3.940415  \n",
       "avg_class_frequency_total       1.854211  "
      ]
     },
     "execution_count": 32,
     "metadata": {},
     "output_type": "execute_result"
    }
   ],
   "source": [
    "# displaying feature mean values for each cluster\n",
    "gym.drop('churn', axis=1).groupby('cluster_km').mean().T"
   ]
  },
  {
   "cell_type": "code",
   "execution_count": 33,
   "metadata": {},
   "outputs": [
    {
     "data": {
      "text/plain": [
       "gender                            0.510250\n",
       "near_location                     0.845250\n",
       "partner                           0.486750\n",
       "promo_friends                     0.308500\n",
       "phone                             0.903500\n",
       "contract_period                   4.681250\n",
       "group_visits                      0.412250\n",
       "age                              29.184250\n",
       "avg_additional_charges_total    146.943728\n",
       "lifetime                          3.724750\n",
       "avg_class_frequency_total         1.879020\n",
       "dtype: float64"
      ]
     },
     "execution_count": 33,
     "metadata": {},
     "output_type": "execute_result"
    }
   ],
   "source": [
    "# calculating mean values for each feature\n",
    "gym.drop(['cluster_km', 'churn'], axis = 1).mean()"
   ]
  },
  {
   "cell_type": "markdown",
   "metadata": {},
   "source": [
    "Clusters have the following characteristics:\n",
    "\n",
    "Cluster 0:\n",
    "- `near_location` - 100% live far away;\n",
    "- `partner` - 49% of customers come from partner companies;\n",
    "- `group_visits` - low level of group visits 23%;\n",
    "- `lifetime` - almost 3 months since the first visit.\n",
    "\n",
    "All of these clients live far away, almost half came through an affiliate program and visit only 3 months. Group classes are rare. The outflow will likely be large among these customers.\n",
    "\n",
    "Cluster 1:\n",
    "- `near_location` - live nearby to 99%;\n",
    "- `partner` - partnership share 95%;\n",
    "- `promo_friends` - recomended by a friend 89%;\n",
    "- `contract_period` - almost 8 months;\n",
    "- `group_visits` - the average level of attending group classes is 46%;\n",
    "- `lifetime` - almost 5 months (the highest rate) since the first visit;\n",
    "- `avg_class_frequency_total` is the highest 1.98%.\n",
    "\n",
    "These clients live nearby, came through an affiliate program or promotion, have an 8-month contract, attend group classes, almost 5 months since first visit, attend twice a week. Most likely, the outflow of such customers will be minimal.\n",
    "\n",
    "Cluster 2:\n",
    "- `near_location` - 100% live nearby;\n",
    "- `contract_period` - almost 3 months;\n",
    "- `group_visits` - do not attend group classes 0%.\n",
    " \n",
    "These clients live nearby, have a 3-month contract and do not attend group classes at all. Most likely, the outflow of such customers will be large.\n",
    "\n",
    "Cluster 3:\n",
    "- `near_location` - 100% live nearby;\n",
    "- `group_visits` - group classes attendance 100%;\n",
    "- `avg_class_frequency_total` - visit almost 2 times a week 1.94%.\n",
    "\n",
    "These clients live nearby, visit twice a week and attend group classes. Most likely, the outflow of such customers will be average.\n",
    "\n",
    "Cluster 4:\n",
    "- `near_location` - 86% live nearby;\n",
    "- `partner` - the average level of partnership 47%;\n",
    "- `contract_period` - almost 5 months;\n",
    "- `phone` - left phone number 0%;\n",
    "- `avg_class_frequency_total` - go almost 2 times a week 1.85%.\n",
    "\n",
    "These clients live mostly nearby, visit about twice a week, have a 5-month contract, almost half came through an affiliate program. Most likely, the outflow of such customers will be average."
   ]
  },
  {
   "cell_type": "markdown",
   "metadata": {},
   "source": [
    "### Plotting feature distributions for clusters"
   ]
  },
  {
   "cell_type": "code",
   "execution_count": 34,
   "metadata": {
    "scrolled": true
   },
   "outputs": [
    {
     "data": {
      "image/png": "[encoded data removed]",
      "text/plain": [
       "<Figure size 864x288 with 1 Axes>"
      ]
     },
     "metadata": {
      "needs_background": "light"
     },
     "output_type": "display_data"
    },
    {
     "data": {
      "image/png": "[encoded data removed]",
      "text/plain": [
       "<Figure size 864x288 with 1 Axes>"
      ]
     },
     "metadata": {
      "needs_background": "light"
     },
     "output_type": "display_data"
    },
    {
     "data": {
      "image/png": "[encoded data removed]",
      "text/plain": [
       "<Figure size 864x288 with 1 Axes>"
      ]
     },
     "metadata": {
      "needs_background": "light"
     },
     "output_type": "display_data"
    },
    {
     "data": {
      "image/png": "[encoded data removed]",
      "text/plain": [
       "<Figure size 864x288 with 1 Axes>"
      ]
     },
     "metadata": {
      "needs_background": "light"
     },
     "output_type": "display_data"
    },
    {
     "data": {
      "image/png": "[encoded data removed]",
      "text/plain": [
       "<Figure size 864x288 with 1 Axes>"
      ]
     },
     "metadata": {
      "needs_background": "light"
     },
     "output_type": "display_data"
    },
    {
     "data": {
      "image/png": "[encoded data removed]",
      "text/plain": [
       "<Figure size 864x288 with 1 Axes>"
      ]
     },
     "metadata": {
      "needs_background": "light"
     },
     "output_type": "display_data"
    }
   ],
   "source": [
    "# plotting distributions of boolean features for clusters\n",
    "for column in bool_features:\n",
    "    plt.figure(figsize=(12, 4))\n",
    "    sns.countplot(x=gym[column].astype(int), hue='cluster_km', data=gym)\n",
    "    plt.title(column)\n",
    "    plt.legend()\n",
    "    plt.show()"
   ]
  },
  {
   "cell_type": "markdown",
   "metadata": {},
   "source": [
    "The following boolean features distinguish clusters:\n",
    "- In terms of the `gender`, nothing stands out;\n",
    "- In terms of the `near_location`, cluster 0 stands out, those who live far away;\n",
    "- In terms of the `partner`, clusters 0, 2 and 3 are not partners, cluster 1 is;\n",
    "- In terms of the `promo_friends`, clusters 0, 2 and 3 came independently (they are not partners), cluster 1 came as a promotion (partners);\n",
    "- In terms of the `phone`, cluster 4 did not leave a phone number;\n",
    "- In terms of the `group_visits`, cluster 2 does not attend group classes. Cluster 3 attends group classes."
   ]
  },
  {
   "cell_type": "code",
   "execution_count": 35,
   "metadata": {
    "scrolled": true
   },
   "outputs": [
    {
     "name": "stdout",
     "output_type": "stream",
     "text": [
      "Numerical features: ['contract_period', 'age', 'avg_additional_charges_total', 'month_to_end_contract', 'lifetime', 'avg_class_frequency_total', 'avg_class_frequency_current_month']\n"
     ]
    }
   ],
   "source": [
    "# displaying on the screen\n",
    "print('Numerical features:', non_bool_features)"
   ]
  },
  {
   "cell_type": "code",
   "execution_count": 36,
   "metadata": {},
   "outputs": [
    {
     "name": "stdout",
     "output_type": "stream",
     "text": [
      "['contract_period', 'age', 'avg_additional_charges_total', 'lifetime', 'avg_class_frequency_total']\n"
     ]
    }
   ],
   "source": [
    "# removing columns\n",
    "non_bool_features.remove('month_to_end_contract')\n",
    "non_bool_features.remove('avg_class_frequency_current_month')\n",
    "\n",
    "# displaying on the screen\n",
    "print(non_bool_features)"
   ]
  },
  {
   "cell_type": "code",
   "execution_count": 37,
   "metadata": {
    "scrolled": true
   },
   "outputs": [
    {
     "data": {
      "image/png": "[encoded data removed]",
      "text/plain": [
       "<Figure size 864x288 with 1 Axes>"
      ]
     },
     "metadata": {
      "needs_background": "light"
     },
     "output_type": "display_data"
    },
    {
     "data": {
      "image/png": "[encoded data removed]",
      "text/plain": [
       "<Figure size 864x288 with 1 Axes>"
      ]
     },
     "metadata": {
      "needs_background": "light"
     },
     "output_type": "display_data"
    },
    {
     "data": {
      "image/png": "[encoded data removed]",
      "text/plain": [
       "<Figure size 864x288 with 1 Axes>"
      ]
     },
     "metadata": {
      "needs_background": "light"
     },
     "output_type": "display_data"
    },
    {
     "data": {
      "image/png": "[encoded data removed]",
      "text/plain": [
       "<Figure size 864x288 with 1 Axes>"
      ]
     },
     "metadata": {
      "needs_background": "light"
     },
     "output_type": "display_data"
    },
    {
     "data": {
      "image/png": "[encoded data removed]",
      "text/plain": [
       "<Figure size 864x288 with 1 Axes>"
      ]
     },
     "metadata": {
      "needs_background": "light"
     },
     "output_type": "display_data"
    }
   ],
   "source": [
    "# plotting distributions of numerical features for clusters\n",
    "for column in non_bool_features:\n",
    "    plt.figure(figsize=(12, 4))\n",
    "    sns.kdeplot(x=gym[column], hue='cluster_km', data=gym, palette='rainbow', legend = True)\n",
    "    plt.title(column)\n",
    "    plt.show()"
   ]
  },
  {
   "cell_type": "markdown",
   "metadata": {},
   "source": [
    "The following numerical features distinguish clusters:\n",
    "\n",
    "- In terms of the `contract_period`, subscriptions are available for 1, 6, and 12 months. Clusters 1 consists primarily of 12-month subscriptions, and cluster 2 of 1-month subscriptions.\n",
    "\n",
    "- In terms of the `age`, cluster 1 primarily consists of people over 30 years old, while cluster 2 consists of those who are 30 years old or younger.\n",
    "\n",
    "- In terms of the `avg_additional_charges_total`, cluster 1 spends over 200 (over 30 years), and cluster 2 spends up to 250 (up to 30 years).\n",
    "\n",
    "- In terms of the `lifetime`, in cluster 1, those who have been visiting for more than 5 months, and in cluster 2, those who have been visiting for less than 5 months.\n",
    "\n",
    "- In terms of the `avg_class_frequency_total`, cluster 1 includes those who visit 2-3 times per week, and cluster 2 includes those who visit on average 1-2 times per week."
   ]
  },
  {
   "cell_type": "markdown",
   "metadata": {},
   "source": [
    "### Identifying each cluster's outflow share"
   ]
  },
  {
   "cell_type": "code",
   "execution_count": 38,
   "metadata": {
    "scrolled": false
   },
   "outputs": [
    {
     "data": {
      "text/plain": [
       "cluster_km\n",
       "0    0.399287\n",
       "2    0.381625\n",
       "4    0.266839\n",
       "3    0.200918\n",
       "1    0.120952\n",
       "Name: churn, dtype: float64"
      ]
     },
     "execution_count": 38,
     "metadata": {},
     "output_type": "execute_result"
    }
   ],
   "source": [
    "# calculating the percentage of customer outflow\n",
    "outflow = gym.groupby('cluster_km')['churn'].sum() / gym.groupby('cluster_km')['churn'].count()\n",
    "outflow.sort_values(ascending = False)"
   ]
  },
  {
   "cell_type": "markdown",
   "metadata": {},
   "source": [
    "- Clusters 0 (39.9%) and 2 (38.2%) had the largest outflow, and cluster 1 (12.1%) had the smallest. Clusters 3 (20.1%) and 4 (26.7) had the average outflow."
   ]
  },
  {
   "cell_type": "markdown",
   "metadata": {},
   "source": [
    "**Conclusion**\n",
    "\n",
    "1. Five large clusters of clients can be identified on the dendrogram.\n",
    "2. There are 386 clients in the smallest group and 1132 clients in the largest group.\n",
    "3. Based on the Silhouette_score = 0.14, the clustering wasn't very good.\n",
    "4. Clusters have the following characteristics:\n",
    "    - Cluster 0:\n",
    "        - `near_location` - 100% live far away;\n",
    "        - `partner` - 49% of customers come from partner companies;\n",
    "        - `group_visits` - low level of group visits 23%;\n",
    "        - `lifetime` - almost 3 months since the first visit.\n",
    "        - All of these clients live far away, almost half came through an affiliate program and visit only 3 months. Group classes are rare. The outflow will likely be large among these customers.\n",
    "\n",
    "    - Cluster 1:\n",
    "        - `near_location` - live nearby to 99%;\n",
    "        - `partner` - partnership share 95%;\n",
    "        - `promo_friends` - recomended by a friend 89%;\n",
    "        - `contract_period` - almost 8 months;\n",
    "        - `group_visits` - the average level of attending group classes is 46%;\n",
    "        - `lifetime` - almost 5 months (the highest rate) since the first visit;\n",
    "        - `avg_class_frequency_total` is the highest 1.98%.\n",
    "        - These clients live nearby, came through an affiliate program or promotion, have an 8-month contract, attend group classes, almost 5 months since first visit, attend twice a week. Most likely, the outflow of such customers will be minimal.\n",
    "\n",
    "    - Cluster 2:\n",
    "        - `near_location` - 100% live nearby;\n",
    "        - `contract_period` - almost 3 months;\n",
    "        - `group_visits` - do not attend group classes 0%.\n",
    "        - These clients live nearby, have a 3-month contract and do not attend group classes at all. Most likely, the outflow of such customers will be large.\n",
    "\n",
    "    - Cluster 3:\n",
    "        - `near_location` - 100% live nearby;\n",
    "        - `group_visits` - group classes attendance 100%;\n",
    "        - `avg_class_frequency_total` - visit almost 2 times a week 1.94%.\n",
    "        - These clients live nearby, visit twice a week and attend group classes. Most likely, the outflow of such customers will be average.\n",
    "\n",
    "    - Cluster 4:\n",
    "        - `near_location` - 86% live nearby;\n",
    "        - `partner` - the average level of partnership 47%;\n",
    "        - `contract_period` - almost 5 months;\n",
    "        - `phone` - left phone number 0%;\n",
    "        - `avg_class_frequency_total` - go almost 2 times a week 1.85%.\n",
    "        - These clients live mostly nearby, visit about twice a week, have a 5-month contract, almost half came through an affiliate program. Most likely, the outflow of such customers will be average.\n",
    "\n",
    "5. \n",
    "    - The following boolean features distinguish clusters:\n",
    "        - In terms of the `gender`, nothing stands out;\n",
    "        - In terms of the `near_location`, cluster 0 stands out, those who live far away;\n",
    "        - In terms of the `partner`, clusters 0, 2 and 3 are not partners, cluster 1 is;\n",
    "        - In terms of the `promo_friends`, clusters 0, 2 and 3 came independently (they are not partners), cluster 1 came as a promotion (partners);\n",
    "        - In terms of the `phone`, cluster 4 did not leave a phone number;\n",
    "        - In terms of the `group_visits`, cluster 2 does not attend group classes. Cluster 3 attends group classes.\n",
    "\n",
    "    - The following numerical features distinguish clusters:\n",
    "\n",
    "        - In terms of the `contract_period`, subscriptions are available for 1, 6, and 12 months. Clusters 1 consists primarily of 12-month subscriptions, and cluster 2 of 1-month subscriptions.\n",
    "\n",
    "        - In terms of the `age`, cluster 1 primarily consists of people over 30 years old, while cluster 2 consists of those who are 30 years old or younger.\n",
    "\n",
    "        - In terms of the `avg_additional_charges_total`, cluster 1 spends over 200 (over 30 years), and cluster 2 spends up to 250 (up to 30 years).\n",
    "\n",
    "        - In terms of the `lifetime`, in cluster 1, those who have been visiting for more than 5 months, and in cluster 2, those who have been visiting for less than 5 months.\n",
    "\n",
    "        - In terms of the `avg_class_frequency_total`, cluster 1 includes those who visit 2-3 times per week, and cluster 2 includes those who visit on average 1-2 times per week.\n",
    "\n",
    "6. Clusters 0 (39.9%) and 2 (38.2%) had the largest outflow, and cluster 1 (12.1%) had the smallest. Clusters 3 (20.1%) and 4 (26.7) had the average outflow."
   ]
  },
  {
   "cell_type": "markdown",
   "metadata": {},
   "source": [
    "## Final conclusion"
   ]
  },
  {
   "cell_type": "markdown",
   "metadata": {},
   "source": [
    "**Exploratory data analysis**\n",
    "\n",
    "1. Portrait of a typical client:\n",
    "    - An average client is 29 years old;\n",
    "    - the current active subscription is about 5 months long;\n",
    "    - 147 spent on additional services;\n",
    "    - before the end of the contract, on average, about 4 months remain;\n",
    "    - on average, it has been about 4 months since the first visit to the gym;\n",
    "    - the gym is visited about twice a week.\n",
    "\n",
    "2. We can conclude that those who stayed (churn = 0) often live nearby, work for the club's partner company, come to the club under the \"bring a friend\" promotion, have a subscription for 5.7 months, and attend group classes. Their average age is almost 30 years old. They bring in more total revenue from other services at the fitness center, and they have an average duration of 5.2 months for their current subscription. On average, the remaining clients have been using the fitness center for 4.7 months and they attend classes twice a week.\n",
    "\n",
    "3. Our analysis of the features of those who left (churn) and those who stayed shows the following:\n",
    "\n",
    "    - In terms of `gender`, there are about the same number of female and male customers, and about the percentage of lost customers. As a result, a client's decision to leave has nothing to do with his/her gender. Models cannot be trained using this feature;\n",
    "\n",
    "    - In terms of `near_location`, the proportion of customers who left for option 1 is less than half, and the proportion who left for option 0 is more than half. That is, the outflow is more for customers who live/work far from the gym;\n",
    "\n",
    "    - In terms of `partner`, customers from partner companies and other customers have similar shares. Partners, however, have a much lower share of those who left. We must work more actively with partners, expand their networks, and attract more such customers;\n",
    "\n",
    "    - In terms of `promo_friends`, while fewer people are participating in the promo action, the share of those who remain is much higher. As a result of the campaign, loyal customers were collected;\n",
    "\n",
    "    - In terms of `phone`, the proportion of customers who have left their phone number is approximately the same for options 1 and 0. Therefore, a client's decision to leave has nothing to do with whether or not they left their phone number;\n",
    "\n",
    "    - In terms of `group_visits`, the churn rate among those who don't attend group classes is higher than that among those who do.\n",
    "\n",
    "    - In terms of `contract_period`, most of the outflow comes from those who take a subscription for a month. The smallest outflow comes from those who take a subscription for a year. These are the most stable customers;\n",
    "\n",
    "    - In terms of `age`, clients aged 24-30 are more likely to leave, but older clients are more likely to stay;\n",
    "\n",
    "    - In terms of `avg_additional_charges_total`, those who spend less than 350 on additional services tend to leave;\n",
    "\n",
    "    - In terms of `month_to_end_contract`, the main churn is among customers with 1 month remaining on their subscription. The more time left, the stronger the desire to continue going to gym;\n",
    "\n",
    "    - In terms of `lifetime`, most outflows come from people who go to the gym for less than five months;\n",
    "\n",
    "    - In terms of `avg_class_frequency_total`, the gym churn rate is higher for ciustomers who visit up to two times a week. If the client visits three times or more, the outflow is minimal, or none at all. But such customers are rare;\n",
    "\n",
    "    - In terms of `avg_class_frequency_current_month`, the higher the frequency of club visits, the lower the churn rate. \n",
    "\n",
    "4. The feature correlation matrix suggests that all features are weakly correlated. There is an inverse correlation between `churn` and the rest of the features - the stronger the feature, the weaker the churn.\n",
    "\n",
    "    - There is a very strong (above 0.95) correlation of feature pairs:\n",
    "        - `contract_period` and `month_to_end_contract` - the longer the subscription period, the more likely there are still months left;\n",
    "        - `avg_class_frequency_current_month` and `avg_class_frequency_total` - those who have been visiting regularly for a long time is probably visiting on the same schedule for the past month.\n",
    "        - Removed `month_to_end_contract`, `avg_class_frequency_current_month` features from pairs of correlated features as they can negatively affect model training.\n",
    "\n",
    "**Forecast**\n",
    "\n",
    "While both models performed well, \"Logistic Regression\" performed slightly better:\n",
    "- the Accuracy parameter suggests that \"Logistic regression\" outperforms \"Random forest\" slightly (0.90 vs. 0.89);\n",
    "- the Precision parameter suggests that \"Logistic regression\" outperforms \"Random Forest\" slightly (0.83 vs. 0.81);\n",
    "- the Recall parameter suggests that \"Logistic regression\" outperforms \"Random Forest\" slightly (0.80 vs. 0.79).\n",
    "\n",
    "**Clustering**\n",
    "\n",
    "As a result of the analysis, 5 clusters have been identified:\n",
    "\n",
    "- Cluster 0 - had the largest outflow of 39.9%. All of these clients live far away, almost half came through an affiliate program and visit only 3 months. Group classes are rare. The outflow will likely be large among these customers.\n",
    "\n",
    "- Cluster 1 - had the smallest outflow of 12.1%. These clients live nearby, came through an affiliate program or promotion, have an 8-month contract, attend group classes, almost 5 months since first visit, attend twice a week. Most likely, the outflow of such customers will be minimal.\n",
    "\n",
    "- Cluster 2 - had the largest outflow of 38.2%. These clients live nearby, have a 3-month contract and do not attend group classes at all. Most likely, the outflow of such customers will be large.\n",
    "\n",
    "- Cluster 3 - had the average outflow of 20.1%. These clients live nearby, visit twice a week and attend group classes. Most likely, the outflow of such customers will be average.\n",
    "\n",
    "- Cluster 4 - These clients live mostly nearby, visit about twice a week, have a 5-month contract, almost half came through an affiliate program. Most likely, the outflow of such customers will be average."
   ]
  },
  {
   "cell_type": "markdown",
   "metadata": {},
   "source": [
    "**Recommendations**\n",
    "\n",
    "Our target audience:\n",
    "- Local residents;\n",
    "- Those who are over 30.\n",
    "\n",
    "Need to attract customers:\n",
    "- more profitable affiliate programs and promotions;\n",
    "- more profitable subscriptions for 12 months;\n",
    "- a variety of group activities;\n",
    "- encouraging customers to visit the gym more than twice a week."
   ]
  },
  {
   "cell_type": "code",
   "execution_count": null,
   "metadata": {},
   "outputs": [],
   "source": []
  }
 ],
 "metadata": {
  "ExecuteTimeLog": [
   {
    "duration": 59,
    "start_time": "2022-07-18T13:14:33.418Z"
   },
   {
    "duration": 57,
    "start_time": "2022-07-18T13:15:27.886Z"
   },
   {
    "duration": 1395,
    "start_time": "2022-07-19T03:45:57.865Z"
   },
   {
    "duration": 74,
    "start_time": "2022-07-19T03:46:27.261Z"
   },
   {
    "duration": 18,
    "start_time": "2022-07-19T03:46:43.885Z"
   },
   {
    "duration": 15,
    "start_time": "2022-07-19T03:48:40.970Z"
   },
   {
    "duration": 46,
    "start_time": "2022-07-19T03:49:34.803Z"
   },
   {
    "duration": 27,
    "start_time": "2022-07-19T03:50:03.078Z"
   },
   {
    "duration": 21,
    "start_time": "2022-07-19T03:50:31.903Z"
   },
   {
    "duration": 50,
    "start_time": "2022-07-19T03:50:41.295Z"
   },
   {
    "duration": 20,
    "start_time": "2022-07-19T03:50:44.507Z"
   },
   {
    "duration": 26,
    "start_time": "2022-07-19T03:50:50.550Z"
   },
   {
    "duration": 10,
    "start_time": "2022-07-19T03:51:58.083Z"
   },
   {
    "duration": 94,
    "start_time": "2022-07-19T03:57:19.270Z"
   },
   {
    "duration": 5,
    "start_time": "2022-07-19T03:57:26.082Z"
   },
   {
    "duration": 14,
    "start_time": "2022-07-19T03:57:30.640Z"
   },
   {
    "duration": 43,
    "start_time": "2022-07-19T04:04:18.752Z"
   },
   {
    "duration": 34,
    "start_time": "2022-07-19T04:04:27.344Z"
   },
   {
    "duration": 47,
    "start_time": "2022-07-19T04:04:45.380Z"
   },
   {
    "duration": 12,
    "start_time": "2022-07-19T04:10:05.063Z"
   },
   {
    "duration": 22,
    "start_time": "2022-07-19T04:10:09.983Z"
   },
   {
    "duration": 45,
    "start_time": "2022-07-19T04:10:19.150Z"
   },
   {
    "duration": 9,
    "start_time": "2022-07-19T04:10:22.715Z"
   },
   {
    "duration": 9,
    "start_time": "2022-07-19T04:10:28.303Z"
   },
   {
    "duration": 3,
    "start_time": "2022-07-19T04:23:28.668Z"
   },
   {
    "duration": 35,
    "start_time": "2022-07-19T04:23:29.016Z"
   },
   {
    "duration": 13,
    "start_time": "2022-07-19T04:23:29.364Z"
   },
   {
    "duration": 3,
    "start_time": "2022-07-19T04:23:30.884Z"
   },
   {
    "duration": 10,
    "start_time": "2022-07-19T04:23:33.684Z"
   },
   {
    "duration": 21,
    "start_time": "2022-07-19T04:23:36.854Z"
   },
   {
    "duration": 7,
    "start_time": "2022-07-19T04:28:31.183Z"
   },
   {
    "duration": 4,
    "start_time": "2022-07-19T04:28:55.072Z"
   },
   {
    "duration": 38,
    "start_time": "2022-07-19T04:30:59.141Z"
   },
   {
    "duration": 9,
    "start_time": "2022-07-19T04:32:46.129Z"
   },
   {
    "duration": 12,
    "start_time": "2022-07-19T04:43:53.990Z"
   },
   {
    "duration": 13,
    "start_time": "2022-07-19T04:44:06.542Z"
   },
   {
    "duration": 17,
    "start_time": "2022-07-19T04:48:22.872Z"
   },
   {
    "duration": 1339,
    "start_time": "2022-07-19T06:29:34.665Z"
   },
   {
    "duration": 156,
    "start_time": "2022-07-19T06:29:36.007Z"
   },
   {
    "duration": 18,
    "start_time": "2022-07-19T06:29:36.165Z"
   },
   {
    "duration": 3,
    "start_time": "2022-07-19T06:29:36.185Z"
   },
   {
    "duration": 18,
    "start_time": "2022-07-19T06:29:36.190Z"
   },
   {
    "duration": 21,
    "start_time": "2022-07-19T06:29:36.210Z"
   },
   {
    "duration": 6,
    "start_time": "2022-07-19T06:29:36.232Z"
   },
   {
    "duration": 11,
    "start_time": "2022-07-19T06:29:36.240Z"
   },
   {
    "duration": 16,
    "start_time": "2022-07-19T06:29:36.253Z"
   },
   {
    "duration": 51,
    "start_time": "2022-07-19T06:29:36.271Z"
   },
   {
    "duration": 18,
    "start_time": "2022-07-19T06:29:36.324Z"
   },
   {
    "duration": 4,
    "start_time": "2022-07-19T06:50:11.168Z"
   },
   {
    "duration": 3,
    "start_time": "2022-07-19T06:50:19.845Z"
   },
   {
    "duration": 4,
    "start_time": "2022-07-19T06:50:30.578Z"
   },
   {
    "duration": 105,
    "start_time": "2022-07-19T06:50:33.836Z"
   },
   {
    "duration": 4,
    "start_time": "2022-07-19T06:50:37.488Z"
   },
   {
    "duration": 5,
    "start_time": "2022-07-19T06:50:37.861Z"
   },
   {
    "duration": 4,
    "start_time": "2022-07-19T06:50:38.429Z"
   },
   {
    "duration": 771,
    "start_time": "2022-07-19T06:51:39.120Z"
   },
   {
    "duration": 980,
    "start_time": "2022-07-19T06:51:52.690Z"
   },
   {
    "duration": 4432,
    "start_time": "2022-07-19T06:52:26.050Z"
   },
   {
    "duration": 1075,
    "start_time": "2022-07-19T06:52:35.616Z"
   },
   {
    "duration": 887,
    "start_time": "2022-07-19T06:53:30.555Z"
   },
   {
    "duration": 1553,
    "start_time": "2022-07-19T06:53:37.051Z"
   },
   {
    "duration": 1613,
    "start_time": "2022-07-19T06:55:21.384Z"
   },
   {
    "duration": 106,
    "start_time": "2022-07-20T06:21:31.209Z"
   },
   {
    "duration": 42,
    "start_time": "2022-07-20T06:21:32.509Z"
   },
   {
    "duration": 1269,
    "start_time": "2022-07-20T06:21:38.961Z"
   },
   {
    "duration": 171,
    "start_time": "2022-07-20T06:21:40.233Z"
   },
   {
    "duration": 18,
    "start_time": "2022-07-20T06:21:40.406Z"
   },
   {
    "duration": 3,
    "start_time": "2022-07-20T06:21:40.426Z"
   },
   {
    "duration": 13,
    "start_time": "2022-07-20T06:21:40.430Z"
   },
   {
    "duration": 20,
    "start_time": "2022-07-20T06:21:40.445Z"
   },
   {
    "duration": 7,
    "start_time": "2022-07-20T06:21:40.467Z"
   },
   {
    "duration": 16,
    "start_time": "2022-07-20T06:21:40.476Z"
   },
   {
    "duration": 13,
    "start_time": "2022-07-20T06:21:40.493Z"
   },
   {
    "duration": 39,
    "start_time": "2022-07-20T06:21:40.509Z"
   },
   {
    "duration": 16,
    "start_time": "2022-07-20T06:21:40.550Z"
   },
   {
    "duration": 10,
    "start_time": "2022-07-20T06:21:40.567Z"
   },
   {
    "duration": 17,
    "start_time": "2022-07-20T06:21:40.579Z"
   },
   {
    "duration": 21,
    "start_time": "2022-07-20T06:21:40.598Z"
   },
   {
    "duration": 82,
    "start_time": "2022-07-20T06:21:40.621Z"
   },
   {
    "duration": 0,
    "start_time": "2022-07-20T06:21:40.704Z"
   },
   {
    "duration": 0,
    "start_time": "2022-07-20T06:21:40.705Z"
   },
   {
    "duration": 0,
    "start_time": "2022-07-20T06:21:40.706Z"
   },
   {
    "duration": 3,
    "start_time": "2022-07-20T06:21:47.996Z"
   },
   {
    "duration": 939,
    "start_time": "2022-07-20T06:21:49.909Z"
   },
   {
    "duration": 3,
    "start_time": "2022-07-20T06:52:54.963Z"
   },
   {
    "duration": 4,
    "start_time": "2022-07-20T06:53:38.272Z"
   },
   {
    "duration": 882,
    "start_time": "2022-07-20T07:02:27.119Z"
   },
   {
    "duration": 1009,
    "start_time": "2022-07-20T07:03:09.702Z"
   },
   {
    "duration": 2,
    "start_time": "2022-07-20T07:03:10.714Z"
   },
   {
    "duration": 37,
    "start_time": "2022-07-20T07:03:10.718Z"
   },
   {
    "duration": 17,
    "start_time": "2022-07-20T07:03:10.757Z"
   },
   {
    "duration": 2,
    "start_time": "2022-07-20T07:03:10.776Z"
   },
   {
    "duration": 14,
    "start_time": "2022-07-20T07:03:10.780Z"
   },
   {
    "duration": 19,
    "start_time": "2022-07-20T07:03:10.795Z"
   },
   {
    "duration": 7,
    "start_time": "2022-07-20T07:03:10.815Z"
   },
   {
    "duration": 3,
    "start_time": "2022-07-20T07:03:10.852Z"
   },
   {
    "duration": 11,
    "start_time": "2022-07-20T07:03:10.857Z"
   },
   {
    "duration": 27,
    "start_time": "2022-07-20T07:03:10.869Z"
   },
   {
    "duration": 22,
    "start_time": "2022-07-20T07:03:10.898Z"
   },
   {
    "duration": 30,
    "start_time": "2022-07-20T07:03:10.922Z"
   },
   {
    "duration": 5,
    "start_time": "2022-07-20T07:03:10.954Z"
   },
   {
    "duration": 7,
    "start_time": "2022-07-20T07:03:10.960Z"
   },
   {
    "duration": 829,
    "start_time": "2022-07-20T07:03:10.969Z"
   },
   {
    "duration": 788,
    "start_time": "2022-07-20T07:03:11.800Z"
   },
   {
    "duration": 0,
    "start_time": "2022-07-20T07:03:12.590Z"
   },
   {
    "duration": 1322,
    "start_time": "2022-07-20T07:03:37.015Z"
   },
   {
    "duration": 1384,
    "start_time": "2022-07-20T07:04:06.647Z"
   },
   {
    "duration": 14,
    "start_time": "2022-07-20T07:12:52.948Z"
   },
   {
    "duration": 3,
    "start_time": "2022-07-20T07:12:56.539Z"
   },
   {
    "duration": 10,
    "start_time": "2022-07-20T07:14:14.103Z"
   },
   {
    "duration": 248,
    "start_time": "2022-07-20T07:14:36.215Z"
   },
   {
    "duration": 5,
    "start_time": "2022-07-20T07:14:42.775Z"
   },
   {
    "duration": 3,
    "start_time": "2022-07-20T07:15:08.545Z"
   },
   {
    "duration": 14,
    "start_time": "2022-07-20T07:17:45.173Z"
   },
   {
    "duration": 73,
    "start_time": "2022-07-20T07:18:10.370Z"
   },
   {
    "duration": 13,
    "start_time": "2022-07-20T07:18:20.270Z"
   },
   {
    "duration": 15,
    "start_time": "2022-07-20T07:18:37.596Z"
   },
   {
    "duration": 14,
    "start_time": "2022-07-20T07:18:59.469Z"
   },
   {
    "duration": 15,
    "start_time": "2022-07-20T07:19:21.005Z"
   },
   {
    "duration": 21,
    "start_time": "2022-07-20T07:19:47.965Z"
   },
   {
    "duration": 16,
    "start_time": "2022-07-20T07:27:16.491Z"
   },
   {
    "duration": 20,
    "start_time": "2022-07-20T07:27:46.739Z"
   },
   {
    "duration": 55,
    "start_time": "2022-07-20T07:27:55.703Z"
   },
   {
    "duration": 37,
    "start_time": "2022-07-20T07:28:08.526Z"
   },
   {
    "duration": 81,
    "start_time": "2022-07-20T07:30:31.372Z"
   },
   {
    "duration": 3,
    "start_time": "2022-07-20T07:31:24.909Z"
   },
   {
    "duration": 32,
    "start_time": "2022-07-20T07:31:38.525Z"
   },
   {
    "duration": 81,
    "start_time": "2022-07-20T07:33:01.925Z"
   },
   {
    "duration": 100,
    "start_time": "2022-07-20T07:33:04.057Z"
   },
   {
    "duration": 24,
    "start_time": "2022-07-20T07:34:04.766Z"
   },
   {
    "duration": 395,
    "start_time": "2022-07-20T07:36:49.111Z"
   },
   {
    "duration": 407,
    "start_time": "2022-07-20T07:36:55.072Z"
   },
   {
    "duration": 16,
    "start_time": "2022-07-20T07:49:27.811Z"
   },
   {
    "duration": 21,
    "start_time": "2022-07-20T07:51:26.996Z"
   },
   {
    "duration": 5,
    "start_time": "2022-07-20T07:57:18.870Z"
   },
   {
    "duration": 17,
    "start_time": "2022-07-20T08:00:34.288Z"
   },
   {
    "duration": 606,
    "start_time": "2022-07-20T08:00:38.096Z"
   },
   {
    "duration": 6,
    "start_time": "2022-07-20T08:04:16.921Z"
   },
   {
    "duration": 1429,
    "start_time": "2022-07-20T08:05:29.219Z"
   },
   {
    "duration": 2,
    "start_time": "2022-07-20T08:05:30.650Z"
   },
   {
    "duration": 58,
    "start_time": "2022-07-20T08:05:30.654Z"
   },
   {
    "duration": 18,
    "start_time": "2022-07-20T08:05:30.714Z"
   },
   {
    "duration": 14,
    "start_time": "2022-07-20T08:05:30.734Z"
   },
   {
    "duration": 25,
    "start_time": "2022-07-20T08:05:30.750Z"
   },
   {
    "duration": 35,
    "start_time": "2022-07-20T08:05:30.776Z"
   },
   {
    "duration": 8,
    "start_time": "2022-07-20T08:05:30.813Z"
   },
   {
    "duration": 6,
    "start_time": "2022-07-20T08:05:30.822Z"
   },
   {
    "duration": 10,
    "start_time": "2022-07-20T08:05:30.830Z"
   },
   {
    "duration": 34,
    "start_time": "2022-07-20T08:05:30.841Z"
   },
   {
    "duration": 15,
    "start_time": "2022-07-20T08:05:30.877Z"
   },
   {
    "duration": 3,
    "start_time": "2022-07-20T08:05:30.894Z"
   },
   {
    "duration": 6,
    "start_time": "2022-07-20T08:05:30.899Z"
   },
   {
    "duration": 7,
    "start_time": "2022-07-20T08:05:30.907Z"
   },
   {
    "duration": 860,
    "start_time": "2022-07-20T08:05:30.915Z"
   },
   {
    "duration": 1358,
    "start_time": "2022-07-20T08:05:31.777Z"
   },
   {
    "duration": 1389,
    "start_time": "2022-07-20T08:05:33.137Z"
   },
   {
    "duration": 5,
    "start_time": "2022-07-20T08:05:34.528Z"
   },
   {
    "duration": 22,
    "start_time": "2022-07-20T08:05:34.534Z"
   },
   {
    "duration": 28,
    "start_time": "2022-07-20T08:05:34.557Z"
   },
   {
    "duration": 67,
    "start_time": "2022-07-20T08:05:34.587Z"
   },
   {
    "duration": 465,
    "start_time": "2022-07-20T08:05:34.656Z"
   },
   {
    "duration": 19,
    "start_time": "2022-07-20T08:05:35.123Z"
   },
   {
    "duration": 550,
    "start_time": "2022-07-20T08:05:35.144Z"
   },
   {
    "duration": 106844,
    "start_time": "2022-07-20T08:05:35.696Z"
   },
   {
    "duration": 120,
    "start_time": "2022-07-20T08:07:22.542Z"
   },
   {
    "duration": 0,
    "start_time": "2022-07-20T08:07:22.666Z"
   },
   {
    "duration": 19,
    "start_time": "2022-07-20T08:07:52.995Z"
   },
   {
    "duration": 14,
    "start_time": "2022-07-20T08:08:09.367Z"
   },
   {
    "duration": 1277,
    "start_time": "2022-07-20T08:08:16.687Z"
   },
   {
    "duration": 20,
    "start_time": "2022-07-20T08:08:21.919Z"
   },
   {
    "duration": 15,
    "start_time": "2022-07-20T08:08:27.791Z"
   },
   {
    "duration": 18,
    "start_time": "2022-07-20T08:08:32.691Z"
   },
   {
    "duration": 8,
    "start_time": "2022-07-20T08:08:57.894Z"
   },
   {
    "duration": 6,
    "start_time": "2022-07-20T08:09:16.396Z"
   },
   {
    "duration": 7,
    "start_time": "2022-07-20T08:09:20.935Z"
   },
   {
    "duration": 13,
    "start_time": "2022-07-20T08:10:15.315Z"
   },
   {
    "duration": 17,
    "start_time": "2022-07-20T08:13:32.181Z"
   },
   {
    "duration": 19,
    "start_time": "2022-07-20T08:14:07.889Z"
   },
   {
    "duration": 21,
    "start_time": "2022-07-20T08:14:23.754Z"
   },
   {
    "duration": 18,
    "start_time": "2022-07-20T08:15:11.781Z"
   },
   {
    "duration": 8,
    "start_time": "2022-07-20T08:15:22.638Z"
   },
   {
    "duration": 1879,
    "start_time": "2022-07-21T03:43:32.152Z"
   },
   {
    "duration": 4,
    "start_time": "2022-07-21T03:43:34.034Z"
   },
   {
    "duration": 129,
    "start_time": "2022-07-21T03:43:34.040Z"
   },
   {
    "duration": 29,
    "start_time": "2022-07-21T03:43:34.172Z"
   },
   {
    "duration": 5,
    "start_time": "2022-07-21T03:43:34.203Z"
   },
   {
    "duration": 41,
    "start_time": "2022-07-21T03:43:34.211Z"
   },
   {
    "duration": 27,
    "start_time": "2022-07-21T03:43:34.254Z"
   },
   {
    "duration": 7,
    "start_time": "2022-07-21T03:43:34.283Z"
   },
   {
    "duration": 9,
    "start_time": "2022-07-21T03:43:34.292Z"
   },
   {
    "duration": 25,
    "start_time": "2022-07-21T03:43:34.304Z"
   },
   {
    "duration": 35,
    "start_time": "2022-07-21T03:43:34.331Z"
   },
   {
    "duration": 18,
    "start_time": "2022-07-21T03:43:34.368Z"
   },
   {
    "duration": 4,
    "start_time": "2022-07-21T03:43:34.388Z"
   },
   {
    "duration": 10,
    "start_time": "2022-07-21T03:43:34.394Z"
   },
   {
    "duration": 32,
    "start_time": "2022-07-21T03:43:34.412Z"
   },
   {
    "duration": 1052,
    "start_time": "2022-07-21T03:43:34.447Z"
   },
   {
    "duration": 1649,
    "start_time": "2022-07-21T03:43:35.501Z"
   },
   {
    "duration": 1582,
    "start_time": "2022-07-21T03:43:37.153Z"
   },
   {
    "duration": 7,
    "start_time": "2022-07-21T03:43:38.737Z"
   },
   {
    "duration": 32,
    "start_time": "2022-07-21T03:43:38.746Z"
   },
   {
    "duration": 43,
    "start_time": "2022-07-21T03:43:38.781Z"
   },
   {
    "duration": 218,
    "start_time": "2022-07-21T03:43:38.826Z"
   },
   {
    "duration": 566,
    "start_time": "2022-07-21T03:43:39.048Z"
   },
   {
    "duration": 23,
    "start_time": "2022-07-21T03:43:39.616Z"
   },
   {
    "duration": 701,
    "start_time": "2022-07-21T03:43:39.641Z"
   },
   {
    "duration": 124985,
    "start_time": "2022-07-21T03:43:40.344Z"
   },
   {
    "duration": 1489,
    "start_time": "2022-07-21T03:45:45.331Z"
   },
   {
    "duration": 19,
    "start_time": "2022-07-21T03:45:46.833Z"
   },
   {
    "duration": 10,
    "start_time": "2022-07-21T03:45:46.854Z"
   },
   {
    "duration": 27,
    "start_time": "2022-07-21T03:45:46.866Z"
   },
   {
    "duration": 23,
    "start_time": "2022-07-21T03:45:46.895Z"
   },
   {
    "duration": 1368,
    "start_time": "2022-07-21T03:56:20.398Z"
   },
   {
    "duration": 1655,
    "start_time": "2022-07-21T03:56:29.586Z"
   },
   {
    "duration": 1258,
    "start_time": "2022-07-21T03:56:37.442Z"
   },
   {
    "duration": 1050,
    "start_time": "2022-07-21T04:01:04.634Z"
   },
   {
    "duration": 1199,
    "start_time": "2022-07-21T04:01:10.589Z"
   },
   {
    "duration": 500,
    "start_time": "2022-07-21T04:01:45.285Z"
   },
   {
    "duration": 61,
    "start_time": "2022-07-21T04:07:48.183Z"
   },
   {
    "duration": 508,
    "start_time": "2022-07-21T04:08:15.428Z"
   },
   {
    "duration": 2969,
    "start_time": "2022-07-21T04:09:01.625Z"
   },
   {
    "duration": 2177,
    "start_time": "2022-07-21T04:09:10.909Z"
   },
   {
    "duration": 1482,
    "start_time": "2022-07-21T04:09:18.452Z"
   },
   {
    "duration": 3,
    "start_time": "2022-07-21T04:09:31.848Z"
   },
   {
    "duration": 5,
    "start_time": "2022-07-21T04:18:21.142Z"
   },
   {
    "duration": 11,
    "start_time": "2022-07-21T04:19:29.145Z"
   },
   {
    "duration": 535,
    "start_time": "2022-07-21T04:19:40.169Z"
   },
   {
    "duration": 521,
    "start_time": "2022-07-21T04:20:22.522Z"
   },
   {
    "duration": 152,
    "start_time": "2022-07-21T05:19:41.029Z"
   },
   {
    "duration": 11,
    "start_time": "2022-07-21T05:20:43.141Z"
   },
   {
    "duration": 137,
    "start_time": "2022-07-21T05:21:03.953Z"
   },
   {
    "duration": 145,
    "start_time": "2022-07-21T05:21:24.797Z"
   },
   {
    "duration": 289,
    "start_time": "2022-07-21T05:21:40.890Z"
   },
   {
    "duration": 195,
    "start_time": "2022-07-21T05:22:31.006Z"
   },
   {
    "duration": 168,
    "start_time": "2022-07-21T05:22:36.526Z"
   },
   {
    "duration": 135,
    "start_time": "2022-07-21T05:22:43.194Z"
   },
   {
    "duration": 166,
    "start_time": "2022-07-21T05:23:06.666Z"
   },
   {
    "duration": 127,
    "start_time": "2022-07-21T05:23:12.403Z"
   },
   {
    "duration": 163,
    "start_time": "2022-07-21T05:23:29.470Z"
   },
   {
    "duration": 114,
    "start_time": "2022-07-21T05:24:42.135Z"
   },
   {
    "duration": 54,
    "start_time": "2022-07-21T05:25:21.836Z"
   },
   {
    "duration": 142,
    "start_time": "2022-07-21T05:25:29.887Z"
   },
   {
    "duration": 1184,
    "start_time": "2022-07-21T05:40:16.564Z"
   },
   {
    "duration": 140,
    "start_time": "2022-07-21T05:53:10.637Z"
   },
   {
    "duration": 124,
    "start_time": "2022-07-21T05:53:29.473Z"
   },
   {
    "duration": 14,
    "start_time": "2022-07-21T05:53:44.665Z"
   },
   {
    "duration": 13,
    "start_time": "2022-07-21T05:53:51.365Z"
   },
   {
    "duration": 135,
    "start_time": "2022-07-21T05:53:57.561Z"
   },
   {
    "duration": 135,
    "start_time": "2022-07-21T05:54:51.693Z"
   },
   {
    "duration": 239,
    "start_time": "2022-07-21T05:54:55.909Z"
   },
   {
    "duration": 138,
    "start_time": "2022-07-21T05:55:23.022Z"
   },
   {
    "duration": 772,
    "start_time": "2022-07-21T05:56:20.282Z"
   },
   {
    "duration": 820,
    "start_time": "2022-07-21T05:57:14.255Z"
   },
   {
    "duration": 1084,
    "start_time": "2022-07-21T05:57:42.163Z"
   },
   {
    "duration": 1141,
    "start_time": "2022-07-21T05:57:48.882Z"
   },
   {
    "duration": 1747,
    "start_time": "2022-07-21T05:58:58.234Z"
   },
   {
    "duration": 776,
    "start_time": "2022-07-21T06:00:19.928Z"
   },
   {
    "duration": 11,
    "start_time": "2022-07-21T06:02:05.160Z"
   },
   {
    "duration": 32,
    "start_time": "2022-07-21T06:02:11.892Z"
   },
   {
    "duration": 172,
    "start_time": "2022-07-21T06:02:20.008Z"
   },
   {
    "duration": 871,
    "start_time": "2022-07-21T06:05:38.405Z"
   },
   {
    "duration": 16,
    "start_time": "2022-07-21T06:07:45.518Z"
   },
   {
    "duration": 752,
    "start_time": "2022-07-21T06:07:54.706Z"
   },
   {
    "duration": 742,
    "start_time": "2022-07-21T06:08:10.750Z"
   },
   {
    "duration": 909,
    "start_time": "2022-07-21T06:08:48.330Z"
   },
   {
    "duration": 748,
    "start_time": "2022-07-21T06:09:13.186Z"
   },
   {
    "duration": 871,
    "start_time": "2022-07-21T06:09:33.327Z"
   },
   {
    "duration": 778,
    "start_time": "2022-07-21T06:09:44.003Z"
   },
   {
    "duration": 758,
    "start_time": "2022-07-21T06:10:52.187Z"
   },
   {
    "duration": 882,
    "start_time": "2022-07-21T06:11:04.139Z"
   },
   {
    "duration": 775,
    "start_time": "2022-07-21T06:11:25.823Z"
   },
   {
    "duration": 859,
    "start_time": "2022-07-21T06:11:30.067Z"
   },
   {
    "duration": 2062,
    "start_time": "2022-07-21T06:11:52.367Z"
   },
   {
    "duration": 785,
    "start_time": "2022-07-21T06:12:16.167Z"
   },
   {
    "duration": 744,
    "start_time": "2022-07-21T06:12:28.865Z"
   },
   {
    "duration": 859,
    "start_time": "2022-07-21T06:12:37.366Z"
   },
   {
    "duration": 795,
    "start_time": "2022-07-21T06:12:40.931Z"
   },
   {
    "duration": 794,
    "start_time": "2022-07-21T06:12:46.679Z"
   },
   {
    "duration": 1116,
    "start_time": "2022-07-21T06:13:15.984Z"
   },
   {
    "duration": 798,
    "start_time": "2022-07-21T06:14:04.133Z"
   },
   {
    "duration": 951,
    "start_time": "2022-07-21T06:17:51.581Z"
   },
   {
    "duration": 1267,
    "start_time": "2022-07-21T06:19:16.582Z"
   },
   {
    "duration": 1566,
    "start_time": "2022-07-21T06:19:45.770Z"
   },
   {
    "duration": 2325,
    "start_time": "2022-07-21T06:20:00.923Z"
   },
   {
    "duration": 2320,
    "start_time": "2022-07-21T06:20:08.435Z"
   },
   {
    "duration": 63,
    "start_time": "2022-07-21T06:20:23.843Z"
   },
   {
    "duration": 1041,
    "start_time": "2022-07-21T06:20:27.111Z"
   },
   {
    "duration": 1258,
    "start_time": "2022-07-21T06:20:32.230Z"
   },
   {
    "duration": 1003,
    "start_time": "2022-07-21T06:21:19.051Z"
   },
   {
    "duration": 897,
    "start_time": "2022-07-21T06:21:24.115Z"
   },
   {
    "duration": 415,
    "start_time": "2022-07-21T06:21:33.119Z"
   },
   {
    "duration": 458,
    "start_time": "2022-07-21T06:21:43.775Z"
   },
   {
    "duration": 432,
    "start_time": "2022-07-21T06:21:51.431Z"
   },
   {
    "duration": 5,
    "start_time": "2022-07-21T06:21:57.553Z"
   },
   {
    "duration": 694,
    "start_time": "2022-07-21T06:22:37.392Z"
   },
   {
    "duration": 633,
    "start_time": "2022-07-21T06:22:59.196Z"
   },
   {
    "duration": 677,
    "start_time": "2022-07-21T06:23:17.287Z"
   },
   {
    "duration": 800,
    "start_time": "2022-07-21T06:24:15.939Z"
   },
   {
    "duration": 968,
    "start_time": "2022-07-21T06:24:24.605Z"
   },
   {
    "duration": 784,
    "start_time": "2022-07-21T06:24:33.325Z"
   },
   {
    "duration": 816,
    "start_time": "2022-07-21T06:24:46.573Z"
   },
   {
    "duration": 14,
    "start_time": "2022-07-21T06:40:56.604Z"
   },
   {
    "duration": 13,
    "start_time": "2022-07-21T06:40:59.864Z"
   },
   {
    "duration": 141,
    "start_time": "2022-07-21T06:41:11.771Z"
   },
   {
    "duration": 1008,
    "start_time": "2022-07-21T06:41:29.801Z"
   },
   {
    "duration": 1019,
    "start_time": "2022-07-21T06:41:40.132Z"
   },
   {
    "duration": 16,
    "start_time": "2022-07-21T06:41:55.037Z"
   },
   {
    "duration": 1042,
    "start_time": "2022-07-21T06:42:00.764Z"
   },
   {
    "duration": 1021,
    "start_time": "2022-07-21T06:42:47.733Z"
   },
   {
    "duration": 3,
    "start_time": "2022-07-21T06:47:57.687Z"
   },
   {
    "duration": 4,
    "start_time": "2022-07-21T06:48:04.464Z"
   },
   {
    "duration": 5,
    "start_time": "2022-07-21T06:48:08.760Z"
   },
   {
    "duration": 19,
    "start_time": "2022-07-21T06:48:35.591Z"
   },
   {
    "duration": 941,
    "start_time": "2022-07-21T06:48:53.592Z"
   },
   {
    "duration": 977,
    "start_time": "2022-07-21T06:49:08.923Z"
   },
   {
    "duration": 13,
    "start_time": "2022-07-21T06:49:20.276Z"
   },
   {
    "duration": 3,
    "start_time": "2022-07-21T06:49:26.980Z"
   },
   {
    "duration": 6,
    "start_time": "2022-07-21T06:49:28.036Z"
   },
   {
    "duration": 3,
    "start_time": "2022-07-21T06:50:10.513Z"
   },
   {
    "duration": 4,
    "start_time": "2022-07-21T06:50:11.004Z"
   },
   {
    "duration": 4,
    "start_time": "2022-07-21T06:50:12.236Z"
   },
   {
    "duration": 940,
    "start_time": "2022-07-21T06:50:24.383Z"
   },
   {
    "duration": 175,
    "start_time": "2022-07-21T06:51:44.893Z"
   },
   {
    "duration": 1060,
    "start_time": "2022-07-21T06:52:14.721Z"
   },
   {
    "duration": 1362,
    "start_time": "2022-07-21T06:53:48.225Z"
   },
   {
    "duration": 1164,
    "start_time": "2022-07-21T06:58:43.816Z"
   },
   {
    "duration": 942,
    "start_time": "2022-07-21T06:58:56.069Z"
   },
   {
    "duration": 877,
    "start_time": "2022-07-21T06:59:23.545Z"
   },
   {
    "duration": 1021,
    "start_time": "2022-07-21T06:59:44.317Z"
   },
   {
    "duration": 854,
    "start_time": "2022-07-21T07:00:23.021Z"
   },
   {
    "duration": 855,
    "start_time": "2022-07-21T07:00:32.121Z"
   },
   {
    "duration": 978,
    "start_time": "2022-07-21T07:00:40.045Z"
   },
   {
    "duration": 1227,
    "start_time": "2022-07-21T07:01:09.106Z"
   },
   {
    "duration": 833,
    "start_time": "2022-07-21T07:01:15.386Z"
   },
   {
    "duration": 26,
    "start_time": "2022-07-21T07:08:48.600Z"
   },
   {
    "duration": 22,
    "start_time": "2022-07-21T07:09:14.625Z"
   },
   {
    "duration": 973,
    "start_time": "2022-07-21T07:09:43.173Z"
   },
   {
    "duration": 441,
    "start_time": "2022-07-21T07:10:01.704Z"
   },
   {
    "duration": 417,
    "start_time": "2022-07-21T07:10:14.933Z"
   },
   {
    "duration": 838,
    "start_time": "2022-07-21T07:10:22.040Z"
   },
   {
    "duration": 1093,
    "start_time": "2022-07-21T07:11:07.802Z"
   },
   {
    "duration": 2862,
    "start_time": "2022-07-21T07:11:55.597Z"
   },
   {
    "duration": 1021,
    "start_time": "2022-07-21T07:12:13.740Z"
   },
   {
    "duration": 1346,
    "start_time": "2022-07-21T07:12:34.941Z"
   },
   {
    "duration": 3,
    "start_time": "2022-07-21T07:13:47.842Z"
   },
   {
    "duration": 1123,
    "start_time": "2022-07-21T07:14:20.647Z"
   },
   {
    "duration": 1332,
    "start_time": "2022-07-21T07:14:33.442Z"
   },
   {
    "duration": 1422,
    "start_time": "2022-07-21T07:15:15.254Z"
   },
   {
    "duration": 19,
    "start_time": "2022-07-21T07:16:19.351Z"
   },
   {
    "duration": 1654,
    "start_time": "2022-07-21T07:16:55.010Z"
   },
   {
    "duration": 3,
    "start_time": "2022-07-21T07:16:56.666Z"
   },
   {
    "duration": 37,
    "start_time": "2022-07-21T07:16:56.671Z"
   },
   {
    "duration": 18,
    "start_time": "2022-07-21T07:16:56.710Z"
   },
   {
    "duration": 4,
    "start_time": "2022-07-21T07:16:56.729Z"
   },
   {
    "duration": 15,
    "start_time": "2022-07-21T07:16:56.735Z"
   },
   {
    "duration": 20,
    "start_time": "2022-07-21T07:16:56.752Z"
   },
   {
    "duration": 7,
    "start_time": "2022-07-21T07:16:56.774Z"
   },
   {
    "duration": 28,
    "start_time": "2022-07-21T07:16:56.782Z"
   },
   {
    "duration": 17,
    "start_time": "2022-07-21T07:16:56.813Z"
   },
   {
    "duration": 33,
    "start_time": "2022-07-21T07:16:56.831Z"
   },
   {
    "duration": 23,
    "start_time": "2022-07-21T07:16:56.865Z"
   },
   {
    "duration": 14,
    "start_time": "2022-07-21T07:16:56.890Z"
   },
   {
    "duration": 10,
    "start_time": "2022-07-21T07:16:56.906Z"
   },
   {
    "duration": 21,
    "start_time": "2022-07-21T07:16:56.917Z"
   },
   {
    "duration": 18,
    "start_time": "2022-07-21T07:16:56.940Z"
   },
   {
    "duration": 902,
    "start_time": "2022-07-21T07:16:56.960Z"
   },
   {
    "duration": 2,
    "start_time": "2022-07-21T07:16:57.864Z"
   },
   {
    "duration": 1231,
    "start_time": "2022-07-21T07:16:57.868Z"
   },
   {
    "duration": 1487,
    "start_time": "2022-07-21T07:16:59.100Z"
   },
   {
    "duration": 1573,
    "start_time": "2022-07-21T07:17:00.588Z"
   },
   {
    "duration": 5,
    "start_time": "2022-07-21T07:17:02.163Z"
   },
   {
    "duration": 39,
    "start_time": "2022-07-21T07:17:02.170Z"
   },
   {
    "duration": 74,
    "start_time": "2022-07-21T07:17:02.212Z"
   },
   {
    "duration": 40,
    "start_time": "2022-07-21T07:17:02.288Z"
   },
   {
    "duration": 459,
    "start_time": "2022-07-21T07:17:02.411Z"
   },
   {
    "duration": 15,
    "start_time": "2022-07-21T07:17:02.872Z"
   },
   {
    "duration": 591,
    "start_time": "2022-07-21T07:17:02.890Z"
   },
   {
    "duration": 111911,
    "start_time": "2022-07-21T07:17:03.482Z"
   },
   {
    "duration": 1123,
    "start_time": "2022-07-21T07:18:55.395Z"
   },
   {
    "duration": 95,
    "start_time": "2022-07-21T07:18:56.523Z"
   },
   {
    "duration": 17,
    "start_time": "2022-07-21T07:18:56.620Z"
   },
   {
    "duration": 566,
    "start_time": "2022-07-21T07:18:56.639Z"
   },
   {
    "duration": 19,
    "start_time": "2022-07-21T07:18:57.207Z"
   },
   {
    "duration": 8,
    "start_time": "2022-07-21T07:18:57.228Z"
   },
   {
    "duration": 1467,
    "start_time": "2022-07-21T07:18:57.238Z"
   },
   {
    "duration": 1353,
    "start_time": "2022-07-21T07:19:08.628Z"
   },
   {
    "duration": 1375,
    "start_time": "2022-07-21T07:19:30.860Z"
   },
   {
    "duration": 14,
    "start_time": "2022-07-21T07:20:00.960Z"
   },
   {
    "duration": 2,
    "start_time": "2022-07-21T07:21:45.801Z"
   },
   {
    "duration": 4923,
    "start_time": "2022-07-21T07:44:09.937Z"
   },
   {
    "duration": 4694,
    "start_time": "2022-07-21T07:45:42.097Z"
   },
   {
    "duration": 4866,
    "start_time": "2022-07-21T07:46:08.009Z"
   },
   {
    "duration": 5050,
    "start_time": "2022-07-21T07:46:48.244Z"
   },
   {
    "duration": 4372,
    "start_time": "2022-07-21T07:47:52.428Z"
   },
   {
    "duration": 4903,
    "start_time": "2022-07-21T07:48:57.133Z"
   },
   {
    "duration": 4718,
    "start_time": "2022-07-21T07:49:36.052Z"
   },
   {
    "duration": 213,
    "start_time": "2022-07-21T07:49:42.613Z"
   },
   {
    "duration": 4597,
    "start_time": "2022-07-21T07:51:55.512Z"
   },
   {
    "duration": 4101,
    "start_time": "2022-07-21T07:52:03.352Z"
   },
   {
    "duration": 4476,
    "start_time": "2022-07-21T07:52:11.364Z"
   },
   {
    "duration": 4151,
    "start_time": "2022-07-21T07:52:23.712Z"
   },
   {
    "duration": 4056,
    "start_time": "2022-07-21T07:52:43.428Z"
   },
   {
    "duration": 4232,
    "start_time": "2022-07-21T07:52:59.068Z"
   },
   {
    "duration": 3904,
    "start_time": "2022-07-21T07:53:23.627Z"
   },
   {
    "duration": 4457,
    "start_time": "2022-07-21T07:53:47.336Z"
   },
   {
    "duration": 3865,
    "start_time": "2022-07-21T07:53:52.372Z"
   },
   {
    "duration": 6137,
    "start_time": "2022-07-21T07:54:19.613Z"
   },
   {
    "duration": 6375,
    "start_time": "2022-07-21T07:55:14.654Z"
   },
   {
    "duration": 9,
    "start_time": "2022-07-21T08:11:35.371Z"
   },
   {
    "duration": 9,
    "start_time": "2022-07-21T08:11:40.508Z"
   },
   {
    "duration": 9,
    "start_time": "2022-07-21T08:11:54.248Z"
   },
   {
    "duration": 12,
    "start_time": "2022-07-21T08:12:33.892Z"
   },
   {
    "duration": 24,
    "start_time": "2022-07-21T08:19:49.781Z"
   },
   {
    "duration": 13,
    "start_time": "2022-07-21T08:19:53.915Z"
   },
   {
    "duration": 259,
    "start_time": "2022-07-21T08:19:54.884Z"
   },
   {
    "duration": 51,
    "start_time": "2022-07-22T09:42:20.974Z"
   },
   {
    "duration": 1767,
    "start_time": "2022-07-22T09:42:26.163Z"
   },
   {
    "duration": 3,
    "start_time": "2022-07-22T09:42:27.932Z"
   },
   {
    "duration": 128,
    "start_time": "2022-07-22T09:42:27.936Z"
   },
   {
    "duration": 20,
    "start_time": "2022-07-22T09:42:28.065Z"
   },
   {
    "duration": 4,
    "start_time": "2022-07-22T09:42:28.087Z"
   },
   {
    "duration": 22,
    "start_time": "2022-07-22T09:42:28.092Z"
   },
   {
    "duration": 30,
    "start_time": "2022-07-22T09:42:28.117Z"
   },
   {
    "duration": 7,
    "start_time": "2022-07-22T09:42:28.151Z"
   },
   {
    "duration": 11,
    "start_time": "2022-07-22T09:42:28.160Z"
   },
   {
    "duration": 36,
    "start_time": "2022-07-22T09:42:28.173Z"
   },
   {
    "duration": 34,
    "start_time": "2022-07-22T09:42:28.211Z"
   },
   {
    "duration": 24,
    "start_time": "2022-07-22T09:42:28.247Z"
   },
   {
    "duration": 5,
    "start_time": "2022-07-22T09:42:28.273Z"
   },
   {
    "duration": 24,
    "start_time": "2022-07-22T09:42:28.282Z"
   },
   {
    "duration": 6,
    "start_time": "2022-07-22T09:42:28.308Z"
   },
   {
    "duration": 1021,
    "start_time": "2022-07-22T09:42:28.316Z"
   },
   {
    "duration": 4,
    "start_time": "2022-07-22T09:42:29.338Z"
   },
   {
    "duration": 1361,
    "start_time": "2022-07-22T09:42:29.343Z"
   },
   {
    "duration": 3,
    "start_time": "2022-07-22T09:42:30.705Z"
   },
   {
    "duration": 1700,
    "start_time": "2022-07-22T09:42:30.710Z"
   },
   {
    "duration": 4,
    "start_time": "2022-07-22T09:42:32.412Z"
   },
   {
    "duration": 10,
    "start_time": "2022-07-22T09:42:32.417Z"
   },
   {
    "duration": 20,
    "start_time": "2022-07-22T09:42:32.428Z"
   },
   {
    "duration": 60,
    "start_time": "2022-07-22T09:42:32.450Z"
   },
   {
    "duration": 546,
    "start_time": "2022-07-22T09:42:32.512Z"
   },
   {
    "duration": 22,
    "start_time": "2022-07-22T09:42:33.060Z"
   },
   {
    "duration": 574,
    "start_time": "2022-07-22T09:42:33.084Z"
   },
   {
    "duration": 118184,
    "start_time": "2022-07-22T09:42:33.659Z"
   },
   {
    "duration": 1264,
    "start_time": "2022-07-22T09:44:31.845Z"
   },
   {
    "duration": 104,
    "start_time": "2022-07-22T09:44:33.111Z"
   },
   {
    "duration": 24,
    "start_time": "2022-07-22T09:44:33.216Z"
   },
   {
    "duration": 492,
    "start_time": "2022-07-22T09:44:33.242Z"
   },
   {
    "duration": 18,
    "start_time": "2022-07-22T09:44:33.736Z"
   },
   {
    "duration": 7,
    "start_time": "2022-07-22T09:44:33.756Z"
   },
   {
    "duration": 4513,
    "start_time": "2022-07-22T09:44:33.765Z"
   },
   {
    "duration": 6835,
    "start_time": "2022-07-22T09:44:38.280Z"
   },
   {
    "duration": 12,
    "start_time": "2022-07-22T09:44:45.117Z"
   },
   {
    "duration": 142,
    "start_time": "2022-07-22T09:44:45.130Z"
   },
   {
    "duration": 6,
    "start_time": "2022-07-22T09:44:45.276Z"
   },
   {
    "duration": 4306,
    "start_time": "2022-07-22T10:05:07.218Z"
   },
   {
    "duration": 10,
    "start_time": "2022-07-22T10:15:28.695Z"
   },
   {
    "duration": 14,
    "start_time": "2022-07-22T10:15:44.083Z"
   },
   {
    "duration": 1721,
    "start_time": "2022-07-22T10:23:38.195Z"
   },
   {
    "duration": 1796,
    "start_time": "2022-07-22T10:24:35.527Z"
   },
   {
    "duration": 20,
    "start_time": "2022-07-22T10:27:50.639Z"
   },
   {
    "duration": 1546,
    "start_time": "2022-07-24T09:04:30.121Z"
   },
   {
    "duration": 2,
    "start_time": "2022-07-24T09:04:31.669Z"
   },
   {
    "duration": 71,
    "start_time": "2022-07-24T09:04:31.673Z"
   },
   {
    "duration": 17,
    "start_time": "2022-07-24T09:04:31.746Z"
   },
   {
    "duration": 3,
    "start_time": "2022-07-24T09:04:31.765Z"
   },
   {
    "duration": 15,
    "start_time": "2022-07-24T09:04:31.769Z"
   },
   {
    "duration": 19,
    "start_time": "2022-07-24T09:04:31.786Z"
   },
   {
    "duration": 17,
    "start_time": "2022-07-24T09:04:31.806Z"
   },
   {
    "duration": 4,
    "start_time": "2022-07-24T09:04:31.824Z"
   },
   {
    "duration": 12,
    "start_time": "2022-07-24T09:04:31.830Z"
   },
   {
    "duration": 26,
    "start_time": "2022-07-24T09:04:31.844Z"
   },
   {
    "duration": 17,
    "start_time": "2022-07-24T09:04:31.872Z"
   },
   {
    "duration": 3,
    "start_time": "2022-07-24T09:04:31.891Z"
   },
   {
    "duration": 4,
    "start_time": "2022-07-24T09:04:31.923Z"
   },
   {
    "duration": 9,
    "start_time": "2022-07-24T09:04:31.928Z"
   },
   {
    "duration": 921,
    "start_time": "2022-07-24T09:04:31.939Z"
   },
   {
    "duration": 2,
    "start_time": "2022-07-24T09:04:32.862Z"
   },
   {
    "duration": 1311,
    "start_time": "2022-07-24T09:04:32.866Z"
   },
   {
    "duration": 3,
    "start_time": "2022-07-24T09:04:34.179Z"
   },
   {
    "duration": 1690,
    "start_time": "2022-07-24T09:04:34.184Z"
   },
   {
    "duration": 4,
    "start_time": "2022-07-24T09:04:35.876Z"
   },
   {
    "duration": 8,
    "start_time": "2022-07-24T09:04:35.882Z"
   },
   {
    "duration": 20,
    "start_time": "2022-07-24T09:04:35.891Z"
   },
   {
    "duration": 36,
    "start_time": "2022-07-24T09:04:35.912Z"
   },
   {
    "duration": 469,
    "start_time": "2022-07-24T09:04:36.025Z"
   },
   {
    "duration": 14,
    "start_time": "2022-07-24T09:04:36.495Z"
   },
   {
    "duration": 543,
    "start_time": "2022-07-24T09:04:36.511Z"
   },
   {
    "duration": 113619,
    "start_time": "2022-07-24T09:04:37.057Z"
   },
   {
    "duration": 1059,
    "start_time": "2022-07-24T09:06:30.678Z"
   },
   {
    "duration": 15,
    "start_time": "2022-07-24T09:06:31.824Z"
   },
   {
    "duration": 6,
    "start_time": "2022-07-24T09:06:31.840Z"
   },
   {
    "duration": 538,
    "start_time": "2022-07-24T09:06:31.848Z"
   },
   {
    "duration": 16,
    "start_time": "2022-07-24T09:06:32.388Z"
   },
   {
    "duration": 24,
    "start_time": "2022-07-24T09:06:32.405Z"
   },
   {
    "duration": 4251,
    "start_time": "2022-07-24T09:06:32.431Z"
   },
   {
    "duration": 6514,
    "start_time": "2022-07-24T09:06:36.683Z"
   },
   {
    "duration": 11,
    "start_time": "2022-07-24T09:06:43.199Z"
   },
   {
    "duration": 123,
    "start_time": "2022-07-24T09:06:43.223Z"
   },
   {
    "duration": 1498,
    "start_time": "2022-07-25T03:11:38.564Z"
   },
   {
    "duration": 3,
    "start_time": "2022-07-25T03:11:40.065Z"
   },
   {
    "duration": 76,
    "start_time": "2022-07-25T03:11:40.070Z"
   },
   {
    "duration": 18,
    "start_time": "2022-07-25T03:11:40.148Z"
   },
   {
    "duration": 3,
    "start_time": "2022-07-25T03:11:40.168Z"
   },
   {
    "duration": 13,
    "start_time": "2022-07-25T03:11:40.172Z"
   },
   {
    "duration": 19,
    "start_time": "2022-07-25T03:11:40.187Z"
   },
   {
    "duration": 5,
    "start_time": "2022-07-25T03:11:40.208Z"
   },
   {
    "duration": 4,
    "start_time": "2022-07-25T03:11:40.214Z"
   },
   {
    "duration": 11,
    "start_time": "2022-07-25T03:11:40.219Z"
   },
   {
    "duration": 23,
    "start_time": "2022-07-25T03:11:40.232Z"
   },
   {
    "duration": 14,
    "start_time": "2022-07-25T03:11:40.257Z"
   },
   {
    "duration": 3,
    "start_time": "2022-07-25T03:11:40.272Z"
   },
   {
    "duration": 32,
    "start_time": "2022-07-25T03:11:40.278Z"
   },
   {
    "duration": 3,
    "start_time": "2022-07-25T03:11:40.311Z"
   },
   {
    "duration": 873,
    "start_time": "2022-07-25T03:11:40.315Z"
   },
   {
    "duration": 2,
    "start_time": "2022-07-25T03:11:41.190Z"
   },
   {
    "duration": 1202,
    "start_time": "2022-07-25T03:11:41.194Z"
   },
   {
    "duration": 3,
    "start_time": "2022-07-25T03:11:42.397Z"
   },
   {
    "duration": 1559,
    "start_time": "2022-07-25T03:11:42.409Z"
   },
   {
    "duration": 4,
    "start_time": "2022-07-25T03:11:43.970Z"
   },
   {
    "duration": 11,
    "start_time": "2022-07-25T03:11:43.975Z"
   },
   {
    "duration": 37,
    "start_time": "2022-07-25T03:11:43.988Z"
   },
   {
    "duration": 86,
    "start_time": "2022-07-25T03:11:44.027Z"
   },
   {
    "duration": 455,
    "start_time": "2022-07-25T03:11:44.116Z"
   },
   {
    "duration": 15,
    "start_time": "2022-07-25T03:11:44.572Z"
   },
   {
    "duration": 552,
    "start_time": "2022-07-25T03:11:44.588Z"
   },
   {
    "duration": 105096,
    "start_time": "2022-07-25T03:11:45.142Z"
   },
   {
    "duration": 1180,
    "start_time": "2022-07-25T03:13:30.240Z"
   },
   {
    "duration": 19,
    "start_time": "2022-07-25T03:13:31.511Z"
   },
   {
    "duration": 30,
    "start_time": "2022-07-25T03:13:31.532Z"
   },
   {
    "duration": 522,
    "start_time": "2022-07-25T03:13:31.563Z"
   },
   {
    "duration": 24,
    "start_time": "2022-07-25T03:13:32.088Z"
   },
   {
    "duration": 8,
    "start_time": "2022-07-25T03:13:32.114Z"
   },
   {
    "duration": 3801,
    "start_time": "2022-07-25T03:13:32.124Z"
   },
   {
    "duration": 6035,
    "start_time": "2022-07-25T03:13:35.927Z"
   },
   {
    "duration": 17,
    "start_time": "2022-07-25T03:13:41.964Z"
   },
   {
    "duration": 145,
    "start_time": "2022-07-25T03:13:41.983Z"
   },
   {
    "duration": 5,
    "start_time": "2022-07-25T03:27:27.270Z"
   },
   {
    "duration": 5,
    "start_time": "2022-07-25T03:27:54.615Z"
   },
   {
    "duration": 504,
    "start_time": "2022-07-25T03:31:34.064Z"
   },
   {
    "duration": 764,
    "start_time": "2022-07-25T03:31:46.096Z"
   },
   {
    "duration": 1321,
    "start_time": "2022-07-25T03:41:33.754Z"
   },
   {
    "duration": 8,
    "start_time": "2022-07-25T03:42:12.702Z"
   },
   {
    "duration": 1310,
    "start_time": "2022-07-25T03:42:28.738Z"
   },
   {
    "duration": 435,
    "start_time": "2022-07-25T03:57:33.718Z"
   },
   {
    "duration": 2635,
    "start_time": "2022-07-25T03:58:33.954Z"
   },
   {
    "duration": 1577,
    "start_time": "2022-07-25T03:59:12.527Z"
   },
   {
    "duration": 313,
    "start_time": "2022-07-25T03:59:43.107Z"
   },
   {
    "duration": 1186,
    "start_time": "2022-07-25T04:00:04.987Z"
   },
   {
    "duration": 1977,
    "start_time": "2022-07-25T04:00:34.695Z"
   },
   {
    "duration": 794,
    "start_time": "2022-07-25T04:16:47.034Z"
   },
   {
    "duration": 143,
    "start_time": "2022-07-25T04:17:30.082Z"
   },
   {
    "duration": 3026,
    "start_time": "2022-07-25T04:18:17.609Z"
   },
   {
    "duration": 1104,
    "start_time": "2022-07-25T04:18:36.106Z"
   },
   {
    "duration": 916,
    "start_time": "2022-07-25T04:22:12.417Z"
   },
   {
    "duration": 483,
    "start_time": "2022-07-25T04:26:17.802Z"
   },
   {
    "duration": 793,
    "start_time": "2022-07-25T04:26:48.843Z"
   },
   {
    "duration": 117,
    "start_time": "2022-07-25T04:27:03.804Z"
   },
   {
    "duration": 566,
    "start_time": "2022-07-25T04:27:32.603Z"
   },
   {
    "duration": 788,
    "start_time": "2022-07-25T04:28:15.535Z"
   },
   {
    "duration": 1316,
    "start_time": "2022-07-25T04:28:30.207Z"
   },
   {
    "duration": 4811,
    "start_time": "2022-07-25T04:31:44.113Z"
   },
   {
    "duration": 4579,
    "start_time": "2022-07-25T04:33:29.258Z"
   },
   {
    "duration": 4013,
    "start_time": "2022-07-25T04:33:51.330Z"
   },
   {
    "duration": 4179,
    "start_time": "2022-07-25T04:34:47.523Z"
   },
   {
    "duration": 4987,
    "start_time": "2022-07-25T04:35:19.359Z"
   },
   {
    "duration": 4048,
    "start_time": "2022-07-25T04:35:32.715Z"
   },
   {
    "duration": 4122,
    "start_time": "2022-07-25T04:35:49.823Z"
   },
   {
    "duration": 4153,
    "start_time": "2022-07-25T04:36:15.907Z"
   },
   {
    "duration": 86,
    "start_time": "2022-07-25T04:36:43.099Z"
   },
   {
    "duration": 847,
    "start_time": "2022-07-25T04:36:48.407Z"
   },
   {
    "duration": 1271,
    "start_time": "2022-07-25T04:37:03.520Z"
   },
   {
    "duration": 4224,
    "start_time": "2022-07-25T04:37:59.356Z"
   },
   {
    "duration": 4678,
    "start_time": "2022-07-25T04:38:10.561Z"
   },
   {
    "duration": 4411,
    "start_time": "2022-07-25T04:38:25.405Z"
   },
   {
    "duration": 3956,
    "start_time": "2022-07-25T04:38:38.577Z"
   },
   {
    "duration": 4144,
    "start_time": "2022-07-25T04:39:28.089Z"
   },
   {
    "duration": 4076,
    "start_time": "2022-07-25T04:40:32.069Z"
   },
   {
    "duration": 4116,
    "start_time": "2022-07-25T04:40:39.958Z"
   },
   {
    "duration": 4315,
    "start_time": "2022-07-25T04:41:00.486Z"
   },
   {
    "duration": 3971,
    "start_time": "2022-07-25T04:41:32.882Z"
   },
   {
    "duration": 4856,
    "start_time": "2022-07-25T04:41:57.514Z"
   },
   {
    "duration": 16,
    "start_time": "2022-07-25T04:42:10.111Z"
   },
   {
    "duration": 3981,
    "start_time": "2022-07-25T04:42:23.166Z"
   },
   {
    "duration": 3948,
    "start_time": "2022-07-25T04:42:32.198Z"
   },
   {
    "duration": 4031,
    "start_time": "2022-07-25T04:42:44.075Z"
   },
   {
    "duration": 4930,
    "start_time": "2022-07-25T04:43:09.367Z"
   },
   {
    "duration": 4037,
    "start_time": "2022-07-25T04:43:28.911Z"
   },
   {
    "duration": 6269,
    "start_time": "2022-07-25T04:45:32.424Z"
   },
   {
    "duration": 1628,
    "start_time": "2022-07-25T06:24:53.586Z"
   },
   {
    "duration": 2,
    "start_time": "2022-07-25T06:24:55.216Z"
   },
   {
    "duration": 134,
    "start_time": "2022-07-25T06:24:55.220Z"
   },
   {
    "duration": 19,
    "start_time": "2022-07-25T06:24:55.356Z"
   },
   {
    "duration": 3,
    "start_time": "2022-07-25T06:24:55.377Z"
   },
   {
    "duration": 17,
    "start_time": "2022-07-25T06:24:55.381Z"
   },
   {
    "duration": 25,
    "start_time": "2022-07-25T06:24:55.399Z"
   },
   {
    "duration": 6,
    "start_time": "2022-07-25T06:24:55.426Z"
   },
   {
    "duration": 7,
    "start_time": "2022-07-25T06:24:55.433Z"
   },
   {
    "duration": 12,
    "start_time": "2022-07-25T06:24:55.443Z"
   },
   {
    "duration": 35,
    "start_time": "2022-07-25T06:24:55.456Z"
   },
   {
    "duration": 25,
    "start_time": "2022-07-25T06:24:55.493Z"
   },
   {
    "duration": 4,
    "start_time": "2022-07-25T06:24:55.519Z"
   },
   {
    "duration": 8,
    "start_time": "2022-07-25T06:24:55.524Z"
   },
   {
    "duration": 5,
    "start_time": "2022-07-25T06:24:55.533Z"
   },
   {
    "duration": 1026,
    "start_time": "2022-07-25T06:24:55.539Z"
   },
   {
    "duration": 1392,
    "start_time": "2022-07-25T06:24:56.568Z"
   },
   {
    "duration": 1671,
    "start_time": "2022-07-25T06:24:57.962Z"
   },
   {
    "duration": 4,
    "start_time": "2022-07-25T06:24:59.635Z"
   },
   {
    "duration": 10,
    "start_time": "2022-07-25T06:24:59.641Z"
   },
   {
    "duration": 20,
    "start_time": "2022-07-25T06:24:59.653Z"
   },
   {
    "duration": 35,
    "start_time": "2022-07-25T06:24:59.674Z"
   },
   {
    "duration": 602,
    "start_time": "2022-07-25T06:24:59.711Z"
   },
   {
    "duration": 16,
    "start_time": "2022-07-25T06:25:00.315Z"
   },
   {
    "duration": 588,
    "start_time": "2022-07-25T06:25:00.333Z"
   },
   {
    "duration": 114748,
    "start_time": "2022-07-25T06:25:00.923Z"
   },
   {
    "duration": 1233,
    "start_time": "2022-07-25T06:26:55.673Z"
   },
   {
    "duration": 103,
    "start_time": "2022-07-25T06:26:56.910Z"
   },
   {
    "duration": 8,
    "start_time": "2022-07-25T06:26:57.014Z"
   },
   {
    "duration": 553,
    "start_time": "2022-07-25T06:26:57.024Z"
   },
   {
    "duration": 17,
    "start_time": "2022-07-25T06:26:57.579Z"
   },
   {
    "duration": 10,
    "start_time": "2022-07-25T06:26:57.604Z"
   },
   {
    "duration": 4270,
    "start_time": "2022-07-25T06:26:57.615Z"
   },
   {
    "duration": 6533,
    "start_time": "2022-07-25T06:27:01.887Z"
   },
   {
    "duration": 10,
    "start_time": "2022-07-25T06:27:08.422Z"
   },
   {
    "duration": 150,
    "start_time": "2022-07-25T06:27:08.434Z"
   },
   {
    "duration": 4168,
    "start_time": "2022-07-25T07:45:19.474Z"
   },
   {
    "duration": 109,
    "start_time": "2022-07-25T09:32:55.138Z"
   },
   {
    "duration": 1534,
    "start_time": "2022-07-25T09:35:58.400Z"
   },
   {
    "duration": 3,
    "start_time": "2022-07-25T09:35:59.936Z"
   },
   {
    "duration": 37,
    "start_time": "2022-07-25T09:35:59.941Z"
   },
   {
    "duration": 20,
    "start_time": "2022-07-25T09:35:59.979Z"
   },
   {
    "duration": 3,
    "start_time": "2022-07-25T09:36:00.001Z"
   },
   {
    "duration": 24,
    "start_time": "2022-07-25T09:36:00.006Z"
   },
   {
    "duration": 22,
    "start_time": "2022-07-25T09:36:00.032Z"
   },
   {
    "duration": 6,
    "start_time": "2022-07-25T09:36:00.056Z"
   },
   {
    "duration": 17,
    "start_time": "2022-07-25T09:36:00.064Z"
   },
   {
    "duration": 14,
    "start_time": "2022-07-25T09:36:00.084Z"
   },
   {
    "duration": 41,
    "start_time": "2022-07-25T09:36:00.100Z"
   },
   {
    "duration": 23,
    "start_time": "2022-07-25T09:36:00.142Z"
   },
   {
    "duration": 7,
    "start_time": "2022-07-25T09:36:00.167Z"
   },
   {
    "duration": 20,
    "start_time": "2022-07-25T09:36:00.176Z"
   },
   {
    "duration": 24,
    "start_time": "2022-07-25T09:36:00.197Z"
   },
   {
    "duration": 984,
    "start_time": "2022-07-25T09:36:00.223Z"
   },
   {
    "duration": 1287,
    "start_time": "2022-07-25T09:36:01.209Z"
   },
   {
    "duration": 1599,
    "start_time": "2022-07-25T09:36:02.498Z"
   },
   {
    "duration": 4,
    "start_time": "2022-07-25T09:36:04.099Z"
   },
   {
    "duration": 16,
    "start_time": "2022-07-25T09:36:04.105Z"
   },
   {
    "duration": 24,
    "start_time": "2022-07-25T09:36:04.123Z"
   },
   {
    "duration": 62,
    "start_time": "2022-07-25T09:36:04.149Z"
   },
   {
    "duration": 549,
    "start_time": "2022-07-25T09:36:04.213Z"
   },
   {
    "duration": 16,
    "start_time": "2022-07-25T09:36:04.763Z"
   },
   {
    "duration": 627,
    "start_time": "2022-07-25T09:36:04.781Z"
   },
   {
    "duration": 114636,
    "start_time": "2022-07-25T09:36:05.410Z"
   },
   {
    "duration": 1258,
    "start_time": "2022-07-25T09:38:00.048Z"
   },
   {
    "duration": 101,
    "start_time": "2022-07-25T09:38:01.309Z"
   },
   {
    "duration": 9,
    "start_time": "2022-07-25T09:38:01.412Z"
   },
   {
    "duration": 565,
    "start_time": "2022-07-25T09:38:01.423Z"
   },
   {
    "duration": 20,
    "start_time": "2022-07-25T09:38:01.990Z"
   },
   {
    "duration": 8,
    "start_time": "2022-07-25T09:38:02.012Z"
   },
   {
    "duration": 4447,
    "start_time": "2022-07-25T09:38:02.021Z"
   },
   {
    "duration": 6722,
    "start_time": "2022-07-25T09:38:06.470Z"
   },
   {
    "duration": 19,
    "start_time": "2022-07-25T09:38:13.194Z"
   },
   {
    "duration": 133,
    "start_time": "2022-07-25T09:38:13.214Z"
   },
   {
    "duration": 1401,
    "start_time": "2022-07-26T02:49:12.979Z"
   },
   {
    "duration": 2,
    "start_time": "2022-07-26T02:49:14.383Z"
   },
   {
    "duration": 72,
    "start_time": "2022-07-26T02:49:14.386Z"
   },
   {
    "duration": 18,
    "start_time": "2022-07-26T02:49:14.460Z"
   },
   {
    "duration": 3,
    "start_time": "2022-07-26T02:49:14.480Z"
   },
   {
    "duration": 14,
    "start_time": "2022-07-26T02:49:14.484Z"
   },
   {
    "duration": 21,
    "start_time": "2022-07-26T02:49:14.500Z"
   },
   {
    "duration": 15,
    "start_time": "2022-07-26T02:49:14.523Z"
   },
   {
    "duration": 3,
    "start_time": "2022-07-26T02:49:14.540Z"
   },
   {
    "duration": 12,
    "start_time": "2022-07-26T02:49:14.547Z"
   },
   {
    "duration": 30,
    "start_time": "2022-07-26T02:49:14.561Z"
   },
   {
    "duration": 19,
    "start_time": "2022-07-26T02:49:14.592Z"
   },
   {
    "duration": 27,
    "start_time": "2022-07-26T02:49:14.612Z"
   },
   {
    "duration": 7,
    "start_time": "2022-07-26T02:49:14.641Z"
   },
   {
    "duration": 7,
    "start_time": "2022-07-26T02:49:14.649Z"
   },
   {
    "duration": 970,
    "start_time": "2022-07-26T02:49:14.657Z"
   },
   {
    "duration": 1165,
    "start_time": "2022-07-26T02:49:15.629Z"
   },
   {
    "duration": 1551,
    "start_time": "2022-07-26T02:49:16.796Z"
   },
   {
    "duration": 5,
    "start_time": "2022-07-26T02:49:18.349Z"
   },
   {
    "duration": 7,
    "start_time": "2022-07-26T02:49:18.356Z"
   },
   {
    "duration": 19,
    "start_time": "2022-07-26T02:49:18.365Z"
   },
   {
    "duration": 59,
    "start_time": "2022-07-26T02:49:18.386Z"
   },
   {
    "duration": 568,
    "start_time": "2022-07-26T02:49:18.446Z"
   },
   {
    "duration": 21,
    "start_time": "2022-07-26T02:49:19.016Z"
   },
   {
    "duration": 576,
    "start_time": "2022-07-26T02:49:19.039Z"
   },
   {
    "duration": 106694,
    "start_time": "2022-07-26T02:49:19.616Z"
   },
   {
    "duration": 1232,
    "start_time": "2022-07-26T02:51:06.312Z"
   },
   {
    "duration": 98,
    "start_time": "2022-07-26T02:51:07.548Z"
   },
   {
    "duration": 5,
    "start_time": "2022-07-26T02:51:07.648Z"
   },
   {
    "duration": 546,
    "start_time": "2022-07-26T02:51:07.655Z"
   },
   {
    "duration": 15,
    "start_time": "2022-07-26T02:51:08.203Z"
   },
   {
    "duration": 18,
    "start_time": "2022-07-26T02:51:08.219Z"
   },
   {
    "duration": 4021,
    "start_time": "2022-07-26T02:51:08.239Z"
   },
   {
    "duration": 5988,
    "start_time": "2022-07-26T02:51:12.263Z"
   },
   {
    "duration": 11,
    "start_time": "2022-07-26T02:51:18.253Z"
   },
   {
    "duration": 168,
    "start_time": "2022-07-26T02:51:18.265Z"
   },
   {
    "duration": 59,
    "start_time": "2022-07-26T03:32:47.575Z"
   },
   {
    "duration": 1491,
    "start_time": "2022-07-26T03:32:54.455Z"
   },
   {
    "duration": 3,
    "start_time": "2022-07-26T03:32:55.947Z"
   },
   {
    "duration": 74,
    "start_time": "2022-07-26T03:32:55.951Z"
   },
   {
    "duration": 19,
    "start_time": "2022-07-26T03:32:56.027Z"
   },
   {
    "duration": 4,
    "start_time": "2022-07-26T03:32:56.047Z"
   },
   {
    "duration": 14,
    "start_time": "2022-07-26T03:32:56.052Z"
   },
   {
    "duration": 19,
    "start_time": "2022-07-26T03:32:56.068Z"
   },
   {
    "duration": 20,
    "start_time": "2022-07-26T03:32:56.089Z"
   },
   {
    "duration": 3,
    "start_time": "2022-07-26T03:32:56.111Z"
   },
   {
    "duration": 14,
    "start_time": "2022-07-26T03:32:56.117Z"
   },
   {
    "duration": 26,
    "start_time": "2022-07-26T03:32:56.132Z"
   },
   {
    "duration": 15,
    "start_time": "2022-07-26T03:32:56.160Z"
   },
   {
    "duration": 4,
    "start_time": "2022-07-26T03:32:56.176Z"
   },
   {
    "duration": 10,
    "start_time": "2022-07-26T03:32:56.181Z"
   },
   {
    "duration": 7,
    "start_time": "2022-07-26T03:32:56.210Z"
   },
   {
    "duration": 847,
    "start_time": "2022-07-26T03:32:56.219Z"
   },
   {
    "duration": 1178,
    "start_time": "2022-07-26T03:32:57.067Z"
   },
   {
    "duration": 1510,
    "start_time": "2022-07-26T03:32:58.246Z"
   },
   {
    "duration": 3,
    "start_time": "2022-07-26T03:32:59.758Z"
   },
   {
    "duration": 7,
    "start_time": "2022-07-26T03:32:59.763Z"
   },
   {
    "duration": 17,
    "start_time": "2022-07-26T03:32:59.772Z"
   },
   {
    "duration": 34,
    "start_time": "2022-07-26T03:32:59.790Z"
   },
   {
    "duration": 445,
    "start_time": "2022-07-26T03:32:59.910Z"
   },
   {
    "duration": 16,
    "start_time": "2022-07-26T03:33:00.357Z"
   },
   {
    "duration": 562,
    "start_time": "2022-07-26T03:33:00.374Z"
   },
   {
    "duration": 107103,
    "start_time": "2022-07-26T03:33:00.938Z"
   },
   {
    "duration": 1468,
    "start_time": "2022-07-26T03:34:48.042Z"
   },
   {
    "duration": 13,
    "start_time": "2022-07-26T03:34:49.514Z"
   },
   {
    "duration": 12,
    "start_time": "2022-07-26T03:34:49.528Z"
   },
   {
    "duration": 643,
    "start_time": "2022-07-26T03:34:49.541Z"
   },
   {
    "duration": 23,
    "start_time": "2022-07-26T03:34:50.186Z"
   },
   {
    "duration": 8,
    "start_time": "2022-07-26T03:34:50.211Z"
   },
   {
    "duration": 4128,
    "start_time": "2022-07-26T03:34:50.220Z"
   },
   {
    "duration": 6126,
    "start_time": "2022-07-26T03:34:54.350Z"
   },
   {
    "duration": 7,
    "start_time": "2022-07-26T03:35:00.477Z"
   },
   {
    "duration": 24,
    "start_time": "2022-07-26T03:35:00.486Z"
   },
   {
    "duration": 147,
    "start_time": "2022-07-26T03:35:00.512Z"
   },
   {
    "duration": 129,
    "start_time": "2022-07-26T03:36:08.960Z"
   },
   {
    "duration": 21,
    "start_time": "2022-07-26T03:37:09.717Z"
   },
   {
    "duration": 947,
    "start_time": "2022-07-26T03:37:49.453Z"
   },
   {
    "duration": 1139,
    "start_time": "2022-07-26T03:39:38.378Z"
   },
   {
    "duration": 3,
    "start_time": "2022-07-26T03:40:07.506Z"
   },
   {
    "duration": 11,
    "start_time": "2022-07-26T03:41:04.387Z"
   },
   {
    "duration": 1338,
    "start_time": "2022-07-26T03:42:01.819Z"
   },
   {
    "duration": 1402,
    "start_time": "2022-07-26T03:43:52.588Z"
   },
   {
    "duration": 1652,
    "start_time": "2022-07-26T03:46:20.601Z"
   },
   {
    "duration": 40,
    "start_time": "2022-07-26T03:47:21.405Z"
   },
   {
    "duration": 1657,
    "start_time": "2022-07-26T03:47:40.693Z"
   },
   {
    "duration": 2,
    "start_time": "2022-07-26T03:48:13.514Z"
   },
   {
    "duration": 7,
    "start_time": "2022-07-26T03:49:22.310Z"
   },
   {
    "duration": 7,
    "start_time": "2022-07-26T03:49:30.963Z"
   },
   {
    "duration": 1595,
    "start_time": "2022-07-26T03:49:55.522Z"
   },
   {
    "duration": 1583,
    "start_time": "2022-07-26T03:50:18.434Z"
   },
   {
    "duration": 1333,
    "start_time": "2022-07-26T03:50:23.978Z"
   },
   {
    "duration": 4,
    "start_time": "2022-07-26T03:55:10.308Z"
   },
   {
    "duration": 20,
    "start_time": "2022-07-26T03:55:21.840Z"
   },
   {
    "duration": 3,
    "start_time": "2022-07-26T03:55:44.884Z"
   },
   {
    "duration": 4,
    "start_time": "2022-07-26T03:55:49.421Z"
   },
   {
    "duration": 7,
    "start_time": "2022-07-26T04:08:25.975Z"
   },
   {
    "duration": 53,
    "start_time": "2022-07-26T04:09:57.240Z"
   },
   {
    "duration": 4,
    "start_time": "2022-07-26T04:24:52.738Z"
   },
   {
    "duration": 11,
    "start_time": "2022-07-26T04:24:59.503Z"
   },
   {
    "duration": 1396,
    "start_time": "2022-07-26T04:27:31.220Z"
   },
   {
    "duration": 2,
    "start_time": "2022-07-26T04:27:32.618Z"
   },
   {
    "duration": 38,
    "start_time": "2022-07-26T04:27:32.621Z"
   },
   {
    "duration": 17,
    "start_time": "2022-07-26T04:27:32.661Z"
   },
   {
    "duration": 5,
    "start_time": "2022-07-26T04:27:32.680Z"
   },
   {
    "duration": 14,
    "start_time": "2022-07-26T04:27:32.687Z"
   },
   {
    "duration": 23,
    "start_time": "2022-07-26T04:27:32.703Z"
   },
   {
    "duration": 6,
    "start_time": "2022-07-26T04:27:32.728Z"
   },
   {
    "duration": 16,
    "start_time": "2022-07-26T04:27:32.735Z"
   },
   {
    "duration": 13,
    "start_time": "2022-07-26T04:27:32.753Z"
   },
   {
    "duration": 28,
    "start_time": "2022-07-26T04:27:32.768Z"
   },
   {
    "duration": 15,
    "start_time": "2022-07-26T04:27:32.809Z"
   },
   {
    "duration": 3,
    "start_time": "2022-07-26T04:27:32.826Z"
   },
   {
    "duration": 15,
    "start_time": "2022-07-26T04:27:32.831Z"
   },
   {
    "duration": 15,
    "start_time": "2022-07-26T04:27:32.847Z"
   },
   {
    "duration": 872,
    "start_time": "2022-07-26T04:27:32.864Z"
   },
   {
    "duration": 1162,
    "start_time": "2022-07-26T04:27:33.737Z"
   },
   {
    "duration": 1520,
    "start_time": "2022-07-26T04:27:34.900Z"
   },
   {
    "duration": 4,
    "start_time": "2022-07-26T04:27:36.421Z"
   },
   {
    "duration": 11,
    "start_time": "2022-07-26T04:27:36.427Z"
   },
   {
    "duration": 13,
    "start_time": "2022-07-26T04:27:36.439Z"
   },
   {
    "duration": 24,
    "start_time": "2022-07-26T04:27:36.453Z"
   },
   {
    "duration": 29,
    "start_time": "2022-07-26T04:27:36.478Z"
   },
   {
    "duration": 334,
    "start_time": "2022-07-26T04:27:36.508Z"
   },
   {
    "duration": 13,
    "start_time": "2022-07-26T04:27:36.844Z"
   },
   {
    "duration": 553,
    "start_time": "2022-07-26T04:27:36.858Z"
   },
   {
    "duration": 104093,
    "start_time": "2022-07-26T04:27:37.413Z"
   },
   {
    "duration": 1398,
    "start_time": "2022-07-26T04:29:21.512Z"
   },
   {
    "duration": 12,
    "start_time": "2022-07-26T04:29:22.912Z"
   },
   {
    "duration": 11,
    "start_time": "2022-07-26T04:29:22.926Z"
   },
   {
    "duration": 542,
    "start_time": "2022-07-26T04:29:22.939Z"
   },
   {
    "duration": 28,
    "start_time": "2022-07-26T04:29:23.482Z"
   },
   {
    "duration": 8,
    "start_time": "2022-07-26T04:29:23.512Z"
   },
   {
    "duration": 925,
    "start_time": "2022-07-26T04:29:23.522Z"
   },
   {
    "duration": 3,
    "start_time": "2022-07-26T04:29:24.449Z"
   },
   {
    "duration": 1626,
    "start_time": "2022-07-26T04:29:24.454Z"
   },
   {
    "duration": 0,
    "start_time": "2022-07-26T04:29:26.082Z"
   },
   {
    "duration": 0,
    "start_time": "2022-07-26T04:29:26.083Z"
   },
   {
    "duration": 0,
    "start_time": "2022-07-26T04:29:26.083Z"
   },
   {
    "duration": 0,
    "start_time": "2022-07-26T04:29:26.084Z"
   },
   {
    "duration": 0,
    "start_time": "2022-07-26T04:29:26.085Z"
   },
   {
    "duration": 56,
    "start_time": "2022-07-26T05:21:57.609Z"
   },
   {
    "duration": 2,
    "start_time": "2022-07-26T05:22:25.941Z"
   },
   {
    "duration": 3,
    "start_time": "2022-07-26T05:24:30.234Z"
   },
   {
    "duration": 12,
    "start_time": "2022-07-26T05:25:31.578Z"
   },
   {
    "duration": 12,
    "start_time": "2022-07-26T05:25:38.994Z"
   },
   {
    "duration": 10,
    "start_time": "2022-07-26T05:25:57.647Z"
   },
   {
    "duration": 9,
    "start_time": "2022-07-26T05:26:22.415Z"
   },
   {
    "duration": 3,
    "start_time": "2022-07-26T05:26:44.014Z"
   },
   {
    "duration": 9,
    "start_time": "2022-07-26T05:27:02.519Z"
   },
   {
    "duration": 1414,
    "start_time": "2022-07-26T05:27:12.377Z"
   },
   {
    "duration": 3,
    "start_time": "2022-07-26T05:27:13.793Z"
   },
   {
    "duration": 36,
    "start_time": "2022-07-26T05:27:13.797Z"
   },
   {
    "duration": 19,
    "start_time": "2022-07-26T05:27:13.835Z"
   },
   {
    "duration": 3,
    "start_time": "2022-07-26T05:27:13.856Z"
   },
   {
    "duration": 25,
    "start_time": "2022-07-26T05:27:13.861Z"
   },
   {
    "duration": 21,
    "start_time": "2022-07-26T05:27:13.887Z"
   },
   {
    "duration": 6,
    "start_time": "2022-07-26T05:27:13.909Z"
   },
   {
    "duration": 21,
    "start_time": "2022-07-26T05:27:13.917Z"
   },
   {
    "duration": 32,
    "start_time": "2022-07-26T05:27:13.940Z"
   },
   {
    "duration": 43,
    "start_time": "2022-07-26T05:27:13.974Z"
   },
   {
    "duration": 17,
    "start_time": "2022-07-26T05:27:14.018Z"
   },
   {
    "duration": 4,
    "start_time": "2022-07-26T05:27:14.036Z"
   },
   {
    "duration": 9,
    "start_time": "2022-07-26T05:27:14.041Z"
   },
   {
    "duration": 9,
    "start_time": "2022-07-26T05:27:14.052Z"
   },
   {
    "duration": 899,
    "start_time": "2022-07-26T05:27:14.062Z"
   },
   {
    "duration": 1208,
    "start_time": "2022-07-26T05:27:14.963Z"
   },
   {
    "duration": 1559,
    "start_time": "2022-07-26T05:27:16.173Z"
   },
   {
    "duration": 5,
    "start_time": "2022-07-26T05:27:17.734Z"
   },
   {
    "duration": 7,
    "start_time": "2022-07-26T05:27:17.741Z"
   },
   {
    "duration": 10,
    "start_time": "2022-07-26T05:27:17.750Z"
   },
   {
    "duration": 19,
    "start_time": "2022-07-26T05:27:17.761Z"
   },
   {
    "duration": 31,
    "start_time": "2022-07-26T05:27:17.782Z"
   },
   {
    "duration": 346,
    "start_time": "2022-07-26T05:27:17.815Z"
   },
   {
    "duration": 16,
    "start_time": "2022-07-26T05:27:18.163Z"
   },
   {
    "duration": 601,
    "start_time": "2022-07-26T05:27:18.181Z"
   },
   {
    "duration": 107171,
    "start_time": "2022-07-26T05:27:18.784Z"
   },
   {
    "duration": 1451,
    "start_time": "2022-07-26T05:29:05.959Z"
   },
   {
    "duration": 13,
    "start_time": "2022-07-26T05:29:07.412Z"
   },
   {
    "duration": 6,
    "start_time": "2022-07-26T05:29:07.427Z"
   },
   {
    "duration": 545,
    "start_time": "2022-07-26T05:29:07.435Z"
   },
   {
    "duration": 15,
    "start_time": "2022-07-26T05:29:07.981Z"
   },
   {
    "duration": 16,
    "start_time": "2022-07-26T05:29:07.997Z"
   },
   {
    "duration": 6,
    "start_time": "2022-07-26T05:29:08.014Z"
   },
   {
    "duration": 965,
    "start_time": "2022-07-26T05:29:08.021Z"
   },
   {
    "duration": 3,
    "start_time": "2022-07-26T05:29:08.988Z"
   },
   {
    "duration": 6,
    "start_time": "2022-07-26T05:29:08.992Z"
   },
   {
    "duration": 1123,
    "start_time": "2022-07-26T05:29:09.009Z"
   },
   {
    "duration": 3,
    "start_time": "2022-07-26T05:29:10.134Z"
   },
   {
    "duration": 8,
    "start_time": "2022-07-26T05:29:10.139Z"
   },
   {
    "duration": 22,
    "start_time": "2022-07-26T05:29:10.148Z"
   },
   {
    "duration": 16,
    "start_time": "2022-07-26T05:29:10.172Z"
   },
   {
    "duration": 376,
    "start_time": "2022-07-26T05:29:10.190Z"
   },
   {
    "duration": 2,
    "start_time": "2022-07-26T05:30:53.219Z"
   },
   {
    "duration": 9,
    "start_time": "2022-07-26T05:48:49.249Z"
   },
   {
    "duration": 22,
    "start_time": "2022-07-26T05:53:50.058Z"
   },
   {
    "duration": 84,
    "start_time": "2022-07-26T05:54:02.186Z"
   },
   {
    "duration": 50,
    "start_time": "2022-07-26T05:55:09.763Z"
   },
   {
    "duration": 111,
    "start_time": "2022-07-26T05:55:18.464Z"
   },
   {
    "duration": 11,
    "start_time": "2022-07-26T05:55:26.151Z"
   },
   {
    "duration": 7,
    "start_time": "2022-07-26T05:57:15.052Z"
   },
   {
    "duration": 12,
    "start_time": "2022-07-26T05:57:25.716Z"
   },
   {
    "duration": 119,
    "start_time": "2022-07-26T06:01:55.670Z"
   },
   {
    "duration": 14,
    "start_time": "2022-07-26T06:02:21.323Z"
   },
   {
    "duration": 6,
    "start_time": "2022-07-26T06:04:28.680Z"
   },
   {
    "duration": 11,
    "start_time": "2022-07-26T06:05:48.569Z"
   },
   {
    "duration": 9,
    "start_time": "2022-07-26T06:05:53.885Z"
   },
   {
    "duration": 11,
    "start_time": "2022-07-26T06:06:11.749Z"
   },
   {
    "duration": 7,
    "start_time": "2022-07-26T06:06:25.780Z"
   },
   {
    "duration": 8,
    "start_time": "2022-07-26T06:06:34.505Z"
   },
   {
    "duration": 8,
    "start_time": "2022-07-26T06:07:08.277Z"
   },
   {
    "duration": 10,
    "start_time": "2022-07-26T06:07:11.405Z"
   },
   {
    "duration": 3,
    "start_time": "2022-07-26T06:21:23.597Z"
   },
   {
    "duration": 9,
    "start_time": "2022-07-26T06:21:23.909Z"
   },
   {
    "duration": 1435,
    "start_time": "2022-07-26T06:21:33.646Z"
   },
   {
    "duration": 3,
    "start_time": "2022-07-26T06:21:35.083Z"
   },
   {
    "duration": 61,
    "start_time": "2022-07-26T06:21:35.088Z"
   },
   {
    "duration": 19,
    "start_time": "2022-07-26T06:21:35.151Z"
   },
   {
    "duration": 16,
    "start_time": "2022-07-26T06:21:35.172Z"
   },
   {
    "duration": 50,
    "start_time": "2022-07-26T06:21:35.190Z"
   },
   {
    "duration": 27,
    "start_time": "2022-07-26T06:21:35.242Z"
   },
   {
    "duration": 16,
    "start_time": "2022-07-26T06:21:35.271Z"
   },
   {
    "duration": 39,
    "start_time": "2022-07-26T06:21:35.289Z"
   },
   {
    "duration": 18,
    "start_time": "2022-07-26T06:21:35.331Z"
   },
   {
    "duration": 36,
    "start_time": "2022-07-26T06:21:35.350Z"
   },
   {
    "duration": 28,
    "start_time": "2022-07-26T06:21:35.387Z"
   },
   {
    "duration": 5,
    "start_time": "2022-07-26T06:21:35.417Z"
   },
   {
    "duration": 27,
    "start_time": "2022-07-26T06:21:35.423Z"
   },
   {
    "duration": 33,
    "start_time": "2022-07-26T06:21:35.452Z"
   },
   {
    "duration": 992,
    "start_time": "2022-07-26T06:21:35.487Z"
   },
   {
    "duration": 1247,
    "start_time": "2022-07-26T06:21:36.481Z"
   },
   {
    "duration": 1619,
    "start_time": "2022-07-26T06:21:37.729Z"
   },
   {
    "duration": 4,
    "start_time": "2022-07-26T06:21:39.350Z"
   },
   {
    "duration": 12,
    "start_time": "2022-07-26T06:21:39.356Z"
   },
   {
    "duration": 12,
    "start_time": "2022-07-26T06:21:39.369Z"
   },
   {
    "duration": 18,
    "start_time": "2022-07-26T06:21:39.382Z"
   },
   {
    "duration": 33,
    "start_time": "2022-07-26T06:21:39.402Z"
   },
   {
    "duration": 361,
    "start_time": "2022-07-26T06:21:39.436Z"
   },
   {
    "duration": 23,
    "start_time": "2022-07-26T06:21:39.798Z"
   },
   {
    "duration": 588,
    "start_time": "2022-07-26T06:21:39.823Z"
   },
   {
    "duration": 106872,
    "start_time": "2022-07-26T06:21:40.413Z"
   },
   {
    "duration": 1331,
    "start_time": "2022-07-26T06:23:27.288Z"
   },
   {
    "duration": 20,
    "start_time": "2022-07-26T06:23:28.621Z"
   },
   {
    "duration": 23,
    "start_time": "2022-07-26T06:23:28.642Z"
   },
   {
    "duration": 625,
    "start_time": "2022-07-26T06:23:28.666Z"
   },
   {
    "duration": 24,
    "start_time": "2022-07-26T06:23:29.293Z"
   },
   {
    "duration": 10,
    "start_time": "2022-07-26T06:23:29.319Z"
   },
   {
    "duration": 31,
    "start_time": "2022-07-26T06:23:29.330Z"
   },
   {
    "duration": 966,
    "start_time": "2022-07-26T06:23:29.363Z"
   },
   {
    "duration": 3,
    "start_time": "2022-07-26T06:23:30.331Z"
   },
   {
    "duration": 25,
    "start_time": "2022-07-26T06:23:30.335Z"
   },
   {
    "duration": 38,
    "start_time": "2022-07-26T06:23:30.361Z"
   },
   {
    "duration": 1180,
    "start_time": "2022-07-26T06:23:30.401Z"
   },
   {
    "duration": 10,
    "start_time": "2022-07-26T06:23:31.583Z"
   },
   {
    "duration": 416,
    "start_time": "2022-07-26T06:23:31.596Z"
   },
   {
    "duration": 10,
    "start_time": "2022-07-26T06:26:13.936Z"
   },
   {
    "duration": 124,
    "start_time": "2022-07-26T06:28:07.244Z"
   },
   {
    "duration": 10,
    "start_time": "2022-07-26T06:28:27.045Z"
   },
   {
    "duration": 11,
    "start_time": "2022-07-26T06:29:11.073Z"
   },
   {
    "duration": 10,
    "start_time": "2022-07-26T06:29:21.861Z"
   },
   {
    "duration": 159,
    "start_time": "2022-07-26T06:30:46.390Z"
   },
   {
    "duration": 64,
    "start_time": "2022-07-26T06:31:26.866Z"
   },
   {
    "duration": 14,
    "start_time": "2022-07-26T06:31:29.847Z"
   },
   {
    "duration": 156,
    "start_time": "2022-07-26T06:33:33.597Z"
   },
   {
    "duration": 79,
    "start_time": "2022-07-26T06:34:07.391Z"
   },
   {
    "duration": 13,
    "start_time": "2022-07-26T06:34:11.747Z"
   },
   {
    "duration": 17,
    "start_time": "2022-07-26T06:34:31.420Z"
   },
   {
    "duration": 10,
    "start_time": "2022-07-26T06:34:38.870Z"
   },
   {
    "duration": 174,
    "start_time": "2022-07-26T06:35:29.471Z"
   },
   {
    "duration": 14,
    "start_time": "2022-07-26T06:37:11.247Z"
   },
   {
    "duration": 14,
    "start_time": "2022-07-26T06:37:17.184Z"
   },
   {
    "duration": 9,
    "start_time": "2022-07-26T06:37:33.105Z"
   },
   {
    "duration": 1695,
    "start_time": "2022-09-09T13:56:33.343Z"
   },
   {
    "duration": 3,
    "start_time": "2022-09-09T13:56:35.040Z"
   },
   {
    "duration": 170,
    "start_time": "2022-09-09T13:56:35.045Z"
   },
   {
    "duration": 18,
    "start_time": "2022-09-09T13:56:35.217Z"
   },
   {
    "duration": 7,
    "start_time": "2022-09-09T13:56:35.237Z"
   },
   {
    "duration": 21,
    "start_time": "2022-09-09T13:56:35.246Z"
   },
   {
    "duration": 42,
    "start_time": "2022-09-09T13:56:35.269Z"
   },
   {
    "duration": 7,
    "start_time": "2022-09-09T13:56:35.313Z"
   },
   {
    "duration": 9,
    "start_time": "2022-09-09T13:56:35.324Z"
   },
   {
    "duration": 19,
    "start_time": "2022-09-09T13:56:35.336Z"
   },
   {
    "duration": 31,
    "start_time": "2022-09-09T13:56:35.358Z"
   },
   {
    "duration": 18,
    "start_time": "2022-09-09T13:56:35.391Z"
   },
   {
    "duration": 4,
    "start_time": "2022-09-09T13:56:35.411Z"
   },
   {
    "duration": 9,
    "start_time": "2022-09-09T13:56:35.416Z"
   },
   {
    "duration": 6,
    "start_time": "2022-09-09T13:56:35.426Z"
   },
   {
    "duration": 981,
    "start_time": "2022-09-09T13:56:35.433Z"
   },
   {
    "duration": 1332,
    "start_time": "2022-09-09T13:56:36.416Z"
   },
   {
    "duration": 1728,
    "start_time": "2022-09-09T13:56:37.751Z"
   },
   {
    "duration": 4,
    "start_time": "2022-09-09T13:56:39.481Z"
   },
   {
    "duration": 9,
    "start_time": "2022-09-09T13:56:39.487Z"
   },
   {
    "duration": 12,
    "start_time": "2022-09-09T13:56:39.498Z"
   },
   {
    "duration": 18,
    "start_time": "2022-09-09T13:56:39.512Z"
   },
   {
    "duration": 33,
    "start_time": "2022-09-09T13:56:39.531Z"
   },
   {
    "duration": 387,
    "start_time": "2022-09-09T13:56:39.566Z"
   },
   {
    "duration": 16,
    "start_time": "2022-09-09T13:56:39.955Z"
   },
   {
    "duration": 666,
    "start_time": "2022-09-09T13:56:39.972Z"
   },
   {
    "duration": 117036,
    "start_time": "2022-09-09T13:56:40.640Z"
   },
   {
    "duration": 1517,
    "start_time": "2022-09-09T13:58:37.679Z"
   },
   {
    "duration": 13,
    "start_time": "2022-09-09T13:58:39.198Z"
   },
   {
    "duration": 8,
    "start_time": "2022-09-09T13:58:39.213Z"
   },
   {
    "duration": 556,
    "start_time": "2022-09-09T13:58:39.222Z"
   },
   {
    "duration": 21,
    "start_time": "2022-09-09T13:58:39.780Z"
   },
   {
    "duration": 7,
    "start_time": "2022-09-09T13:58:39.803Z"
   },
   {
    "duration": 1092,
    "start_time": "2022-09-09T13:58:39.812Z"
   },
   {
    "duration": 3,
    "start_time": "2022-09-09T13:58:40.905Z"
   },
   {
    "duration": 9,
    "start_time": "2022-09-09T13:58:40.910Z"
   },
   {
    "duration": 1285,
    "start_time": "2022-09-09T13:58:40.921Z"
   },
   {
    "duration": 10,
    "start_time": "2022-09-09T13:58:42.208Z"
   }
  ],
  "kernelspec": {
   "display_name": "Python 3 (ipykernel)",
   "language": "python",
   "name": "python3"
  },
  "language_info": {
   "codemirror_mode": {
    "name": "ipython",
    "version": 3
   },
   "file_extension": ".py",
   "mimetype": "text/x-python",
   "name": "python",
   "nbconvert_exporter": "python",
   "pygments_lexer": "ipython3",
   "version": "3.9.5"
  },
  "toc": {
   "base_numbering": 1,
   "nav_menu": {},
   "number_sections": true,
   "sideBar": true,
   "skip_h1_title": true,
   "title_cell": "Table of Contents",
   "title_sidebar": "Contents",
   "toc_cell": false,
   "toc_position": {},
   "toc_section_display": true,
   "toc_window_display": false
  }
 },
 "nbformat": 4,
 "nbformat_minor": 2
}
