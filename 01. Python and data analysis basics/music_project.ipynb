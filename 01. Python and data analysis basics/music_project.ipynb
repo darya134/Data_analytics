{
 "cells": [
  {
   "cell_type": "markdown",
   "metadata": {
    "id": "E0vqbgi9ay0H"
   },
   "source": [
    "# User comparison between two cities"
   ]
  },
  {
   "cell_type": "markdown",
   "metadata": {
    "id": "Ml1hmfXC_Zcs"
   },
   "source": [
    "## Data overview"
   ]
  },
  {
   "cell_type": "code",
   "execution_count": 3,
   "metadata": {
    "id": "AXN7PHPN_Zcs"
   },
   "outputs": [],
   "source": [
    "# importing pandas\n",
    "import pandas as pd"
   ]
  },
  {
   "cell_type": "code",
   "execution_count": 4,
   "metadata": {
    "id": "fFVu7vqh_Zct"
   },
   "outputs": [],
   "source": [
    "# reading csv file and assigning the result to variable\n",
    "df = pd.read_csv('https://code.s3.yandex.net/datasets/yandex_music_project.csv')"
   ]
  },
  {
   "cell_type": "code",
   "execution_count": 5,
   "metadata": {
    "id": "oWTVX3gW_Zct",
    "scrolled": true
   },
   "outputs": [
    {
     "data": {
      "text/html": [
       "<div>\n",
       "<style scoped>\n",
       "    .dataframe tbody tr th:only-of-type {\n",
       "        vertical-align: middle;\n",
       "    }\n",
       "\n",
       "    .dataframe tbody tr th {\n",
       "        vertical-align: top;\n",
       "    }\n",
       "\n",
       "    .dataframe thead th {\n",
       "        text-align: right;\n",
       "    }\n",
       "</style>\n",
       "<table border=\"1\" class=\"dataframe\">\n",
       "  <thead>\n",
       "    <tr style=\"text-align: right;\">\n",
       "      <th></th>\n",
       "      <th>userID</th>\n",
       "      <th>Track</th>\n",
       "      <th>artist</th>\n",
       "      <th>genre</th>\n",
       "      <th>City</th>\n",
       "      <th>time</th>\n",
       "      <th>Day</th>\n",
       "    </tr>\n",
       "  </thead>\n",
       "  <tbody>\n",
       "    <tr>\n",
       "      <th>0</th>\n",
       "      <td>FFB692EC</td>\n",
       "      <td>Kamigata To Boots</td>\n",
       "      <td>The Mass Missile</td>\n",
       "      <td>rock</td>\n",
       "      <td>Saint-Petersburg</td>\n",
       "      <td>20:28:33</td>\n",
       "      <td>Wednesday</td>\n",
       "    </tr>\n",
       "    <tr>\n",
       "      <th>1</th>\n",
       "      <td>55204538</td>\n",
       "      <td>Delayed Because of Accident</td>\n",
       "      <td>Andreas Rönnberg</td>\n",
       "      <td>rock</td>\n",
       "      <td>Moscow</td>\n",
       "      <td>14:07:09</td>\n",
       "      <td>Friday</td>\n",
       "    </tr>\n",
       "    <tr>\n",
       "      <th>2</th>\n",
       "      <td>20EC38</td>\n",
       "      <td>Funiculì funiculà</td>\n",
       "      <td>Mario Lanza</td>\n",
       "      <td>pop</td>\n",
       "      <td>Saint-Petersburg</td>\n",
       "      <td>20:58:07</td>\n",
       "      <td>Wednesday</td>\n",
       "    </tr>\n",
       "    <tr>\n",
       "      <th>3</th>\n",
       "      <td>A3DD03C9</td>\n",
       "      <td>Dragons in the Sunset</td>\n",
       "      <td>Fire + Ice</td>\n",
       "      <td>folk</td>\n",
       "      <td>Saint-Petersburg</td>\n",
       "      <td>08:37:09</td>\n",
       "      <td>Monday</td>\n",
       "    </tr>\n",
       "    <tr>\n",
       "      <th>4</th>\n",
       "      <td>E2DC1FAE</td>\n",
       "      <td>Soul People</td>\n",
       "      <td>Space Echo</td>\n",
       "      <td>dance</td>\n",
       "      <td>Moscow</td>\n",
       "      <td>08:34:34</td>\n",
       "      <td>Monday</td>\n",
       "    </tr>\n",
       "    <tr>\n",
       "      <th>5</th>\n",
       "      <td>842029A1</td>\n",
       "      <td>Преданная</td>\n",
       "      <td>IMPERVTOR</td>\n",
       "      <td>rusrap</td>\n",
       "      <td>Saint-Petersburg</td>\n",
       "      <td>13:09:41</td>\n",
       "      <td>Friday</td>\n",
       "    </tr>\n",
       "    <tr>\n",
       "      <th>6</th>\n",
       "      <td>4CB90AA5</td>\n",
       "      <td>True</td>\n",
       "      <td>Roman Messer</td>\n",
       "      <td>dance</td>\n",
       "      <td>Moscow</td>\n",
       "      <td>13:00:07</td>\n",
       "      <td>Wednesday</td>\n",
       "    </tr>\n",
       "    <tr>\n",
       "      <th>7</th>\n",
       "      <td>F03E1C1F</td>\n",
       "      <td>Feeling This Way</td>\n",
       "      <td>Polina Griffith</td>\n",
       "      <td>dance</td>\n",
       "      <td>Moscow</td>\n",
       "      <td>20:47:49</td>\n",
       "      <td>Wednesday</td>\n",
       "    </tr>\n",
       "    <tr>\n",
       "      <th>8</th>\n",
       "      <td>8FA1D3BE</td>\n",
       "      <td>И вновь продолжается бой</td>\n",
       "      <td>NaN</td>\n",
       "      <td>ruspop</td>\n",
       "      <td>Moscow</td>\n",
       "      <td>09:17:40</td>\n",
       "      <td>Friday</td>\n",
       "    </tr>\n",
       "    <tr>\n",
       "      <th>9</th>\n",
       "      <td>E772D5C0</td>\n",
       "      <td>Pessimist</td>\n",
       "      <td>NaN</td>\n",
       "      <td>dance</td>\n",
       "      <td>Saint-Petersburg</td>\n",
       "      <td>21:20:49</td>\n",
       "      <td>Wednesday</td>\n",
       "    </tr>\n",
       "  </tbody>\n",
       "</table>\n",
       "</div>"
      ],
      "text/plain": [
       "     userID                        Track            artist   genre  \\\n",
       "0  FFB692EC            Kamigata To Boots  The Mass Missile    rock   \n",
       "1  55204538  Delayed Because of Accident  Andreas Rönnberg    rock   \n",
       "2    20EC38            Funiculì funiculà       Mario Lanza     pop   \n",
       "3  A3DD03C9        Dragons in the Sunset        Fire + Ice    folk   \n",
       "4  E2DC1FAE                  Soul People        Space Echo   dance   \n",
       "5  842029A1                    Преданная         IMPERVTOR  rusrap   \n",
       "6  4CB90AA5                         True      Roman Messer   dance   \n",
       "7  F03E1C1F             Feeling This Way   Polina Griffith   dance   \n",
       "8  8FA1D3BE     И вновь продолжается бой               NaN  ruspop   \n",
       "9  E772D5C0                    Pessimist               NaN   dance   \n",
       "\n",
       "             City        time        Day  \n",
       "0  Saint-Petersburg  20:28:33  Wednesday  \n",
       "1            Moscow  14:07:09     Friday  \n",
       "2  Saint-Petersburg  20:58:07  Wednesday  \n",
       "3  Saint-Petersburg  08:37:09     Monday  \n",
       "4            Moscow  08:34:34     Monday  \n",
       "5  Saint-Petersburg  13:09:41     Friday  \n",
       "6            Moscow  13:00:07  Wednesday  \n",
       "7            Moscow  20:47:49  Wednesday  \n",
       "8            Moscow  09:17:40     Friday  \n",
       "9  Saint-Petersburg  21:20:49  Wednesday  "
      ]
     },
     "execution_count": 5,
     "metadata": {},
     "output_type": "execute_result"
    }
   ],
   "source": [
    "# displaying the head of the DataFrame\n",
    "df.head(10)"
   ]
  },
  {
   "cell_type": "markdown",
   "metadata": {},
   "source": [
    "- Column names and data use lowercase and uppercase letters;\n",
    "- Column names are not in snake case."
   ]
  },
  {
   "cell_type": "code",
   "execution_count": 6,
   "metadata": {
    "id": "DSf2kIb-_Zct",
    "scrolled": true
   },
   "outputs": [
    {
     "name": "stdout",
     "output_type": "stream",
     "text": [
      "<class 'pandas.core.frame.DataFrame'>\n",
      "RangeIndex: 65079 entries, 0 to 65078\n",
      "Data columns (total 7 columns):\n",
      "  userID    65079 non-null object\n",
      "Track       63848 non-null object\n",
      "artist      57876 non-null object\n",
      "genre       63881 non-null object\n",
      "  City      65079 non-null object\n",
      "time        65079 non-null object\n",
      "Day         65079 non-null object\n",
      "dtypes: object(7)\n",
      "memory usage: 3.5+ MB\n"
     ]
    }
   ],
   "source": [
    "# printing information about the DataFrame\n",
    "df.info()"
   ]
  },
  {
   "cell_type": "markdown",
   "metadata": {},
   "source": [
    "- All columns contain object-type data;\n",
    "- Several columns have missing data, such as track, artist, and genre;\n",
    "- In the name of City and userID columns, there are an extra space."
   ]
  },
  {
   "cell_type": "markdown",
   "metadata": {
    "id": "MCB6-dXG_Zct"
   },
   "source": [
    "**Conclusion**\n",
    "\n",
    "We have enough data for analysis and all columns contain object-type data.\n",
    "\n",
    "We need to fix these errors:\n",
    "- Column names use lowercase and uppercase letters;\n",
    "- Column names are not in snake case;\n",
    "- Several columns have missing data, such as track, artist, and genre;\n",
    "- In the name of City and userID columns, there are an extra space.\n",
    "\n"
   ]
  },
  {
   "cell_type": "markdown",
   "metadata": {
    "id": "SjYF6Ub9_Zct"
   },
   "source": [
    "## Data preprocessing"
   ]
  },
  {
   "cell_type": "markdown",
   "metadata": {
    "id": "dIaKXr29_Zct"
   },
   "source": [
    "### Heading style"
   ]
  },
  {
   "cell_type": "code",
   "execution_count": 5,
   "metadata": {
    "id": "oKOTdF_Q_Zct"
   },
   "outputs": [
    {
     "data": {
      "text/plain": [
       "Index(['  userID', 'Track', 'artist', 'genre', '  City  ', 'time', 'Day'], dtype='object')"
      ]
     },
     "execution_count": 5,
     "metadata": {},
     "output_type": "execute_result"
    }
   ],
   "source": [
    "# printing list of column names\n",
    "df.columns"
   ]
  },
  {
   "cell_type": "markdown",
   "metadata": {
    "id": "zj5534cv_Zct"
   },
   "source": [
    "Let's rename columns:\n",
    "* `'  userID'` → `'user_id'`;\n",
    "* `'Track'` → `'track'`;\n",
    "* `'  City  '` → `'city'`;\n",
    "* `'Day'` → `'day'`."
   ]
  },
  {
   "cell_type": "code",
   "execution_count": 8,
   "metadata": {
    "id": "ISlFqs5y_Zct"
   },
   "outputs": [],
   "source": [
    "# renaming columns\n",
    "df = df.rename(columns={'  userID' : 'user_id', 'Track' : 'track', '  City  ' : 'city', 'Day' : 'day'})"
   ]
  },
  {
   "cell_type": "code",
   "execution_count": 9,
   "metadata": {
    "id": "d4NOAmTW_Zct"
   },
   "outputs": [
    {
     "data": {
      "text/html": [
       "<div>\n",
       "<style scoped>\n",
       "    .dataframe tbody tr th:only-of-type {\n",
       "        vertical-align: middle;\n",
       "    }\n",
       "\n",
       "    .dataframe tbody tr th {\n",
       "        vertical-align: top;\n",
       "    }\n",
       "\n",
       "    .dataframe thead th {\n",
       "        text-align: right;\n",
       "    }\n",
       "</style>\n",
       "<table border=\"1\" class=\"dataframe\">\n",
       "  <thead>\n",
       "    <tr style=\"text-align: right;\">\n",
       "      <th></th>\n",
       "      <th>user_id</th>\n",
       "      <th>track</th>\n",
       "      <th>artist</th>\n",
       "      <th>genre</th>\n",
       "      <th>city</th>\n",
       "      <th>time</th>\n",
       "      <th>day</th>\n",
       "    </tr>\n",
       "  </thead>\n",
       "  <tbody>\n",
       "    <tr>\n",
       "      <th>0</th>\n",
       "      <td>FFB692EC</td>\n",
       "      <td>Kamigata To Boots</td>\n",
       "      <td>The Mass Missile</td>\n",
       "      <td>rock</td>\n",
       "      <td>Saint-Petersburg</td>\n",
       "      <td>20:28:33</td>\n",
       "      <td>Wednesday</td>\n",
       "    </tr>\n",
       "    <tr>\n",
       "      <th>1</th>\n",
       "      <td>55204538</td>\n",
       "      <td>Delayed Because of Accident</td>\n",
       "      <td>Andreas Rönnberg</td>\n",
       "      <td>rock</td>\n",
       "      <td>Moscow</td>\n",
       "      <td>14:07:09</td>\n",
       "      <td>Friday</td>\n",
       "    </tr>\n",
       "    <tr>\n",
       "      <th>2</th>\n",
       "      <td>20EC38</td>\n",
       "      <td>Funiculì funiculà</td>\n",
       "      <td>Mario Lanza</td>\n",
       "      <td>pop</td>\n",
       "      <td>Saint-Petersburg</td>\n",
       "      <td>20:58:07</td>\n",
       "      <td>Wednesday</td>\n",
       "    </tr>\n",
       "    <tr>\n",
       "      <th>3</th>\n",
       "      <td>A3DD03C9</td>\n",
       "      <td>Dragons in the Sunset</td>\n",
       "      <td>Fire + Ice</td>\n",
       "      <td>folk</td>\n",
       "      <td>Saint-Petersburg</td>\n",
       "      <td>08:37:09</td>\n",
       "      <td>Monday</td>\n",
       "    </tr>\n",
       "    <tr>\n",
       "      <th>4</th>\n",
       "      <td>E2DC1FAE</td>\n",
       "      <td>Soul People</td>\n",
       "      <td>Space Echo</td>\n",
       "      <td>dance</td>\n",
       "      <td>Moscow</td>\n",
       "      <td>08:34:34</td>\n",
       "      <td>Monday</td>\n",
       "    </tr>\n",
       "    <tr>\n",
       "      <th>5</th>\n",
       "      <td>842029A1</td>\n",
       "      <td>Преданная</td>\n",
       "      <td>IMPERVTOR</td>\n",
       "      <td>rusrap</td>\n",
       "      <td>Saint-Petersburg</td>\n",
       "      <td>13:09:41</td>\n",
       "      <td>Friday</td>\n",
       "    </tr>\n",
       "    <tr>\n",
       "      <th>6</th>\n",
       "      <td>4CB90AA5</td>\n",
       "      <td>True</td>\n",
       "      <td>Roman Messer</td>\n",
       "      <td>dance</td>\n",
       "      <td>Moscow</td>\n",
       "      <td>13:00:07</td>\n",
       "      <td>Wednesday</td>\n",
       "    </tr>\n",
       "    <tr>\n",
       "      <th>7</th>\n",
       "      <td>F03E1C1F</td>\n",
       "      <td>Feeling This Way</td>\n",
       "      <td>Polina Griffith</td>\n",
       "      <td>dance</td>\n",
       "      <td>Moscow</td>\n",
       "      <td>20:47:49</td>\n",
       "      <td>Wednesday</td>\n",
       "    </tr>\n",
       "    <tr>\n",
       "      <th>8</th>\n",
       "      <td>8FA1D3BE</td>\n",
       "      <td>И вновь продолжается бой</td>\n",
       "      <td>NaN</td>\n",
       "      <td>ruspop</td>\n",
       "      <td>Moscow</td>\n",
       "      <td>09:17:40</td>\n",
       "      <td>Friday</td>\n",
       "    </tr>\n",
       "    <tr>\n",
       "      <th>9</th>\n",
       "      <td>E772D5C0</td>\n",
       "      <td>Pessimist</td>\n",
       "      <td>NaN</td>\n",
       "      <td>dance</td>\n",
       "      <td>Saint-Petersburg</td>\n",
       "      <td>21:20:49</td>\n",
       "      <td>Wednesday</td>\n",
       "    </tr>\n",
       "  </tbody>\n",
       "</table>\n",
       "</div>"
      ],
      "text/plain": [
       "    user_id                        track            artist   genre  \\\n",
       "0  FFB692EC            Kamigata To Boots  The Mass Missile    rock   \n",
       "1  55204538  Delayed Because of Accident  Andreas Rönnberg    rock   \n",
       "2    20EC38            Funiculì funiculà       Mario Lanza     pop   \n",
       "3  A3DD03C9        Dragons in the Sunset        Fire + Ice    folk   \n",
       "4  E2DC1FAE                  Soul People        Space Echo   dance   \n",
       "5  842029A1                    Преданная         IMPERVTOR  rusrap   \n",
       "6  4CB90AA5                         True      Roman Messer   dance   \n",
       "7  F03E1C1F             Feeling This Way   Polina Griffith   dance   \n",
       "8  8FA1D3BE     И вновь продолжается бой               NaN  ruspop   \n",
       "9  E772D5C0                    Pessimist               NaN   dance   \n",
       "\n",
       "               city      time        day  \n",
       "0  Saint-Petersburg  20:28:33  Wednesday  \n",
       "1            Moscow  14:07:09     Friday  \n",
       "2  Saint-Petersburg  20:58:07  Wednesday  \n",
       "3  Saint-Petersburg  08:37:09     Monday  \n",
       "4            Moscow  08:34:34     Monday  \n",
       "5  Saint-Petersburg  13:09:41     Friday  \n",
       "6            Moscow  13:00:07  Wednesday  \n",
       "7            Moscow  20:47:49  Wednesday  \n",
       "8            Moscow  09:17:40     Friday  \n",
       "9  Saint-Petersburg  21:20:49  Wednesday  "
      ]
     },
     "execution_count": 9,
     "metadata": {},
     "output_type": "execute_result"
    }
   ],
   "source": [
    "# checking column names\n",
    "df.head(10)"
   ]
  },
  {
   "cell_type": "markdown",
   "metadata": {
    "id": "5ISfbcfY_Zct"
   },
   "source": [
    "### Missing values"
   ]
  },
  {
   "cell_type": "code",
   "execution_count": 11,
   "metadata": {
    "id": "RskX29qr_Zct"
   },
   "outputs": [
    {
     "data": {
      "text/plain": [
       "user_id       0\n",
       "track      1231\n",
       "artist     7203\n",
       "genre      1198\n",
       "city          0\n",
       "time          0\n",
       "day           0\n",
       "dtype: int64"
      ]
     },
     "execution_count": 11,
     "metadata": {},
     "output_type": "execute_result"
    }
   ],
   "source": [
    "# counting missing values\n",
    "df.isna().sum()"
   ]
  },
  {
   "cell_type": "markdown",
   "metadata": {
    "id": "qubhgnlO_Zct"
   },
   "source": [
    "There are some cases where missing values don't affect the study. For instance, in the case of `track` and `artist`, blank values can be replaced with an explicit notation such as 'unknown'. \n",
    "\n",
    "However, missing values in `genre` can interfere with the comparison of musical tastes in in two cities. Therefore, it would be appropriate to identify the reasons for the gaps and to restore the data. This option is not included in the curriculum. We can:\n",
    "* fill in these gaps with explicit notation,\n",
    "* estimate how much it will affect calculations."
   ]
  },
  {
   "cell_type": "markdown",
   "metadata": {
    "id": "fSv2laPA_Zct"
   },
   "source": [
    "Let's fill in gaps in `track`, `artist` and `genre` with `'unknown'`. For that I will create a list `columns_to_replace`, loop through its elements and for every column replace missing values:"
   ]
  },
  {
   "cell_type": "code",
   "execution_count": 12,
   "metadata": {
    "id": "KplB5qWs_Zct"
   },
   "outputs": [],
   "source": [
    "# creating a list, looping through its elements and replacing missing values with 'unknown'\n",
    "columns_to_replace = ['track', 'artist', 'genre']\n",
    "for column in columns_to_replace:\n",
    "    df[column] = df[column].fillna('unknown')"
   ]
  },
  {
   "cell_type": "code",
   "execution_count": 10,
   "metadata": {
    "id": "Tq4nYRX4_Zct"
   },
   "outputs": [
    {
     "data": {
      "text/plain": [
       "user_id    0\n",
       "track      0\n",
       "artist     0\n",
       "genre      0\n",
       "city       0\n",
       "time       0\n",
       "day        0\n",
       "dtype: int64"
      ]
     },
     "execution_count": 10,
     "metadata": {},
     "output_type": "execute_result"
    }
   ],
   "source": [
    "# checking for gaps\n",
    "df.isna().sum()"
   ]
  },
  {
   "cell_type": "markdown",
   "metadata": {
    "id": "BWKRtBJ3_Zct"
   },
   "source": [
    "### Duplicates"
   ]
  },
  {
   "cell_type": "code",
   "execution_count": 11,
   "metadata": {
    "id": "36eES_S0_Zct",
    "scrolled": true
   },
   "outputs": [
    {
     "data": {
      "text/plain": [
       "3826"
      ]
     },
     "execution_count": 11,
     "metadata": {},
     "output_type": "execute_result"
    }
   ],
   "source": [
    "# checking for duplicates\n",
    "df.duplicated().sum()"
   ]
  },
  {
   "cell_type": "markdown",
   "metadata": {
    "id": "Ot25h6XR_Zct"
   },
   "source": [
    "Let's remove duplicates \n",
    "Call the special `pandas` method to remove obvious duplicates:"
   ]
  },
  {
   "cell_type": "code",
   "execution_count": 13,
   "metadata": {
    "id": "exFHq6tt_Zct"
   },
   "outputs": [],
   "source": [
    "# removing duplicates\n",
    "df = df.drop_duplicates().reset_index(drop=True)"
   ]
  },
  {
   "cell_type": "code",
   "execution_count": 13,
   "metadata": {
    "id": "-8PuNWQ0_Zct"
   },
   "outputs": [
    {
     "data": {
      "text/plain": [
       "0"
      ]
     },
     "execution_count": 13,
     "metadata": {},
     "output_type": "execute_result"
    }
   ],
   "source": [
    "# checking for duplicates\n",
    "df.duplicated().sum()"
   ]
  },
  {
   "cell_type": "markdown",
   "metadata": {
    "id": "QlFBsxAr_Zct"
   },
   "source": [
    "Let's check for other duplicates when the same genre can be spelled differently. For that print out the alphabetical list of unique genres."
   ]
  },
  {
   "cell_type": "code",
   "execution_count": 17,
   "metadata": {
    "id": "JIUcqzZN_Zct"
   },
   "outputs": [
    {
     "data": {
      "text/plain": [
       "array(['acid', 'acoustic', 'action', 'adult', 'africa', 'afrikaans',\n",
       "       'alternative', 'alternativepunk', 'ambient', 'americana',\n",
       "       'animated', 'anime', 'arabesk', 'arabic', 'arena',\n",
       "       'argentinetango', 'art', 'audiobook', 'author', 'avantgarde',\n",
       "       'axé', 'baile', 'balkan', 'beats', 'bigroom', 'black', 'bluegrass',\n",
       "       'blues', 'bollywood', 'bossa', 'brazilian', 'breakbeat', 'breaks',\n",
       "       'broadway', 'cantautori', 'cantopop', 'canzone', 'caribbean',\n",
       "       'caucasian', 'celtic', 'chamber', 'chanson', 'children', 'chill',\n",
       "       'chinese', 'choral', 'christian', 'christmas', 'classical',\n",
       "       'classicmetal', 'club', 'colombian', 'comedy', 'conjazz',\n",
       "       'contemporary', 'country', 'cuban', 'dance', 'dancehall',\n",
       "       'dancepop', 'dark', 'death', 'deep', 'deutschrock', 'deutschspr',\n",
       "       'dirty', 'disco', 'dnb', 'documentary', 'downbeat', 'downtempo',\n",
       "       'drum', 'dub', 'dubstep', 'eastern', 'easy', 'electronic',\n",
       "       'electropop', 'emo', 'entehno', 'epicmetal', 'estrada', 'ethnic',\n",
       "       'eurofolk', 'european', 'experimental', 'extrememetal', 'fado',\n",
       "       'fairytail', 'film', 'fitness', 'flamenco', 'folk', 'folklore',\n",
       "       'folkmetal', 'folkrock', 'folktronica', 'forró', 'frankreich',\n",
       "       'französisch', 'french', 'funk', 'future', 'gangsta', 'garage',\n",
       "       'german', 'ghazal', 'gitarre', 'glitch', 'gospel', 'gothic',\n",
       "       'grime', 'grunge', 'gypsy', 'handsup', \"hard'n'heavy\", 'hardcore',\n",
       "       'hardstyle', 'hardtechno', 'hip', 'hip-hop', 'hiphop',\n",
       "       'historisch', 'holiday', 'hop', 'horror', 'house', 'hymn', 'idm',\n",
       "       'independent', 'indian', 'indie', 'indipop', 'industrial',\n",
       "       'inspirational', 'instrumental', 'international', 'irish', 'jam',\n",
       "       'japanese', 'jazz', 'jewish', 'jpop', 'jungle', 'k-pop',\n",
       "       'karadeniz', 'karaoke', 'kayokyoku', 'korean', 'laiko', 'latin',\n",
       "       'latino', 'leftfield', 'local', 'lounge', 'loungeelectronic',\n",
       "       'lovers', 'malaysian', 'mandopop', 'marschmusik', 'meditative',\n",
       "       'mediterranean', 'melodic', 'metal', 'metalcore', 'mexican',\n",
       "       'middle', 'minimal', 'miscellaneous', 'modern', 'mood', 'mpb',\n",
       "       'muslim', 'native', 'neoklassik', 'neue', 'new', 'newage',\n",
       "       'newwave', 'nu', 'nujazz', 'numetal', 'oceania', 'old', 'opera',\n",
       "       'orchestral', 'other', 'piano', 'podcasts', 'pop', 'popdance',\n",
       "       'popelectronic', 'popeurodance', 'poprussian', 'post',\n",
       "       'posthardcore', 'postrock', 'power', 'progmetal', 'progressive',\n",
       "       'psychedelic', 'punjabi', 'punk', 'quebecois', 'ragga', 'ram',\n",
       "       'rancheras', 'rap', 'rave', 'reggae', 'reggaeton', 'regional',\n",
       "       'relax', 'religious', 'retro', 'rhythm', 'rnb', 'rnr', 'rock',\n",
       "       'rockabilly', 'rockalternative', 'rockindie', 'rockother',\n",
       "       'romance', 'roots', 'ruspop', 'rusrap', 'rusrock', 'russian',\n",
       "       'salsa', 'samba', 'scenic', 'schlager', 'self', 'sertanejo',\n",
       "       'shanson', 'shoegazing', 'showtunes', 'singer', 'ska', 'skarock',\n",
       "       'slow', 'smooth', 'soft', 'soul', 'soulful', 'sound', 'soundtrack',\n",
       "       'southern', 'specialty', 'speech', 'spiritual', 'sport',\n",
       "       'stonerrock', 'surf', 'swing', 'synthpop', 'synthrock',\n",
       "       'sängerportrait', 'tango', 'tanzorchester', 'taraftar', 'tatar',\n",
       "       'tech', 'techno', 'teen', 'thrash', 'top', 'traditional',\n",
       "       'tradjazz', 'trance', 'tribal', 'trip', 'triphop', 'tropical',\n",
       "       'türk', 'türkçe', 'ukrrock', 'unknown', 'urban', 'uzbek',\n",
       "       'variété', 'vi', 'videogame', 'vocal', 'western', 'world',\n",
       "       'worldbeat', 'ïîï', 'электроника'], dtype=object)"
      ]
     },
     "execution_count": 17,
     "metadata": {},
     "output_type": "execute_result"
    }
   ],
   "source": [
    "# printing out the alphabetical list of unique genres\n",
    "df['genre'].sort_values().unique()"
   ]
  },
  {
   "cell_type": "markdown",
   "metadata": {
    "id": "qej-Qmuo_Zct"
   },
   "source": [
    "Hiphop is spelled:\n",
    "* *hip*,\n",
    "* *hop*,\n",
    "* *hip-hop*.\n",
    "\n",
    "Let's write a function `replace_wrong_genres()` with two parameters: \n",
    "* `wrong_genres` — list with duplicates,\n",
    "* `correct_genre` — correct spelling.\n",
    "\n",
    "The function will replace each value from the `wrong_genres` list with a value from `correct_genre`."
   ]
  },
  {
   "cell_type": "code",
   "execution_count": 18,
   "metadata": {
    "id": "ErNDkmns_Zct"
   },
   "outputs": [],
   "source": [
    "# creating a function replace_wrong_genres()\n",
    "def replace_wrong_genres(wrong_genres, correct_genre):\n",
    "    for wrong_genre in wrong_genres:\n",
    "        df['genre'] = df['genre'].replace(wrong_genre, correct_genre)\n",
    "duplicates = ['hip', 'hop', 'hip-hop']\n",
    "name = 'hiphop'"
   ]
  },
  {
   "cell_type": "code",
   "execution_count": 16,
   "metadata": {
    "id": "YN5i2hpmSo09"
   },
   "outputs": [],
   "source": [
    "# calling replace_wrong_genres() function\n",
    "replace_wrong_genres(duplicates, name)"
   ]
  },
  {
   "cell_type": "code",
   "execution_count": 17,
   "metadata": {
    "id": "wvixALnFG15m"
   },
   "outputs": [
    {
     "data": {
      "text/plain": [
       "array(['acid', 'acoustic', 'action', 'adult', 'africa', 'afrikaans',\n",
       "       'alternative', 'alternativepunk', 'ambient', 'americana',\n",
       "       'animated', 'anime', 'arabesk', 'arabic', 'arena',\n",
       "       'argentinetango', 'art', 'audiobook', 'author', 'avantgarde',\n",
       "       'axé', 'baile', 'balkan', 'beats', 'bigroom', 'black', 'bluegrass',\n",
       "       'blues', 'bollywood', 'bossa', 'brazilian', 'breakbeat', 'breaks',\n",
       "       'broadway', 'cantautori', 'cantopop', 'canzone', 'caribbean',\n",
       "       'caucasian', 'celtic', 'chamber', 'chanson', 'children', 'chill',\n",
       "       'chinese', 'choral', 'christian', 'christmas', 'classical',\n",
       "       'classicmetal', 'club', 'colombian', 'comedy', 'conjazz',\n",
       "       'contemporary', 'country', 'cuban', 'dance', 'dancehall',\n",
       "       'dancepop', 'dark', 'death', 'deep', 'deutschrock', 'deutschspr',\n",
       "       'dirty', 'disco', 'dnb', 'documentary', 'downbeat', 'downtempo',\n",
       "       'drum', 'dub', 'dubstep', 'eastern', 'easy', 'electronic',\n",
       "       'electropop', 'emo', 'entehno', 'epicmetal', 'estrada', 'ethnic',\n",
       "       'eurofolk', 'european', 'experimental', 'extrememetal', 'fado',\n",
       "       'fairytail', 'film', 'fitness', 'flamenco', 'folk', 'folklore',\n",
       "       'folkmetal', 'folkrock', 'folktronica', 'forró', 'frankreich',\n",
       "       'französisch', 'french', 'funk', 'future', 'gangsta', 'garage',\n",
       "       'german', 'ghazal', 'gitarre', 'glitch', 'gospel', 'gothic',\n",
       "       'grime', 'grunge', 'gypsy', 'handsup', \"hard'n'heavy\", 'hardcore',\n",
       "       'hardstyle', 'hardtechno', 'hiphop', 'historisch', 'holiday',\n",
       "       'horror', 'house', 'hymn', 'idm', 'independent', 'indian', 'indie',\n",
       "       'indipop', 'industrial', 'inspirational', 'instrumental',\n",
       "       'international', 'irish', 'jam', 'japanese', 'jazz', 'jewish',\n",
       "       'jpop', 'jungle', 'k-pop', 'karadeniz', 'karaoke', 'kayokyoku',\n",
       "       'korean', 'laiko', 'latin', 'latino', 'leftfield', 'local',\n",
       "       'lounge', 'loungeelectronic', 'lovers', 'malaysian', 'mandopop',\n",
       "       'marschmusik', 'meditative', 'mediterranean', 'melodic', 'metal',\n",
       "       'metalcore', 'mexican', 'middle', 'minimal', 'miscellaneous',\n",
       "       'modern', 'mood', 'mpb', 'muslim', 'native', 'neoklassik', 'neue',\n",
       "       'new', 'newage', 'newwave', 'nu', 'nujazz', 'numetal', 'oceania',\n",
       "       'old', 'opera', 'orchestral', 'other', 'piano', 'podcasts', 'pop',\n",
       "       'popdance', 'popelectronic', 'popeurodance', 'poprussian', 'post',\n",
       "       'posthardcore', 'postrock', 'power', 'progmetal', 'progressive',\n",
       "       'psychedelic', 'punjabi', 'punk', 'quebecois', 'ragga', 'ram',\n",
       "       'rancheras', 'rap', 'rave', 'reggae', 'reggaeton', 'regional',\n",
       "       'relax', 'religious', 'retro', 'rhythm', 'rnb', 'rnr', 'rock',\n",
       "       'rockabilly', 'rockalternative', 'rockindie', 'rockother',\n",
       "       'romance', 'roots', 'ruspop', 'rusrap', 'rusrock', 'russian',\n",
       "       'salsa', 'samba', 'scenic', 'schlager', 'self', 'sertanejo',\n",
       "       'shanson', 'shoegazing', 'showtunes', 'singer', 'ska', 'skarock',\n",
       "       'slow', 'smooth', 'soft', 'soul', 'soulful', 'sound', 'soundtrack',\n",
       "       'southern', 'specialty', 'speech', 'spiritual', 'sport',\n",
       "       'stonerrock', 'surf', 'swing', 'synthpop', 'synthrock',\n",
       "       'sängerportrait', 'tango', 'tanzorchester', 'taraftar', 'tatar',\n",
       "       'tech', 'techno', 'teen', 'thrash', 'top', 'traditional',\n",
       "       'tradjazz', 'trance', 'tribal', 'trip', 'triphop', 'tropical',\n",
       "       'türk', 'türkçe', 'ukrrock', 'unknown', 'urban', 'uzbek',\n",
       "       'variété', 'vi', 'videogame', 'vocal', 'western', 'world',\n",
       "       'worldbeat', 'ïîï', 'электроника'], dtype=object)"
      ]
     },
     "execution_count": 17,
     "metadata": {},
     "output_type": "execute_result"
    }
   ],
   "source": [
    "# checking for duplicates\n",
    "df['genre'].sort_values().unique()"
   ]
  },
  {
   "cell_type": "markdown",
   "metadata": {},
   "source": [
    "All duplicates have been renamed."
   ]
  },
  {
   "cell_type": "markdown",
   "metadata": {
    "id": "jz6a9-7HQUDd"
   },
   "source": [
    "**Conclusion**\n",
    "\n",
    "- Column names have been renamed;\n",
    "- Missing values have been filled in;\n",
    "- Duplicates have been removed;\n",
    "- Wrong genre names have been renamed.\n",
    "\n",
    "Now we can move on to hypothesis testing."
   ]
  },
  {
   "cell_type": "markdown",
   "metadata": {
    "id": "WttZHXH0SqKk"
   },
   "source": [
    "## Hypotheses testing"
   ]
  },
  {
   "cell_type": "markdown",
   "metadata": {
    "id": "Im936VVi_Zcu"
   },
   "source": [
    "### A comparison of the behavior of users on different days of the week in two cities"
   ]
  },
  {
   "cell_type": "markdown",
   "metadata": {},
   "source": [
    "According to the first hypothesis, users in two cities listen to music differently on different days of the week.\n",
    "\n",
    "The data for Monday, Wednesday, and Friday will be used to test this assumption. I will:\n",
    "\n",
    "* separate users in two cities;\n",
    "* compare the number of tracks each user group listened to on Monday, Wednesday and Friday."
   ]
  },
  {
   "cell_type": "code",
   "execution_count": 21,
   "metadata": {
    "id": "0_Qs96oh_Zcu"
   },
   "outputs": [
    {
     "data": {
      "text/plain": [
       "city\n",
       "Moscow              42741\n",
       "Saint-Petersburg    18512\n",
       "Name: track, dtype: int64"
      ]
     },
     "execution_count": 21,
     "metadata": {},
     "output_type": "execute_result"
    }
   ],
   "source": [
    "# separating users in two cities\n",
    "df.groupby('city')['track'].count()"
   ]
  },
  {
   "cell_type": "markdown",
   "metadata": {
    "id": "dzli3w8o_Zcu"
   },
   "source": [
    "Moscow listened to more tracks because there are more users in Moscow than in St.Petersburg."
   ]
  },
  {
   "cell_type": "code",
   "execution_count": 22,
   "metadata": {
    "id": "uZMKjiJz_Zcu"
   },
   "outputs": [
    {
     "data": {
      "text/plain": [
       "day\n",
       "Friday       21840\n",
       "Monday       21354\n",
       "Wednesday    18059\n",
       "Name: track, dtype: int64"
      ]
     },
     "execution_count": 22,
     "metadata": {},
     "output_type": "execute_result"
    }
   ],
   "source": [
    "# comparing the number of tracks listened to on Monday, Wednesday and Friday.\n",
    "df.groupby('day')['track'].count()"
   ]
  },
  {
   "cell_type": "markdown",
   "metadata": {
    "id": "cC2tNrlL_Zcu"
   },
   "source": [
    "On average, users are less active on Wednesdays. "
   ]
  },
  {
   "cell_type": "markdown",
   "metadata": {
    "id": "POzs8bGa_Zcu"
   },
   "source": [
    "Let's create a function `number_tracks()` that combines tracks listened to in two cities and on different days of the week. It needs two parameters:\n",
    "* day of the week;\n",
    "* city name."
   ]
  },
  {
   "cell_type": "code",
   "execution_count": 23,
   "metadata": {
    "id": "Nz3GdQB1_Zcu"
   },
   "outputs": [],
   "source": [
    "# creating a function number_tracks()\n",
    "def number_tracks(day, city):\n",
    "    track_list = df.loc[(df['day']==day) & (df['city']==city)]\n",
    "    track_list_count=track_list['user_id'].count()\n",
    "    return track_list_count"
   ]
  },
  {
   "cell_type": "markdown",
   "metadata": {
    "id": "ytf7xFrFJQ2r"
   },
   "source": [
    "Call `number_tracks()` six times, changing parameters to get data for each city on each of the three days."
   ]
  },
  {
   "cell_type": "code",
   "execution_count": 27,
   "metadata": {
    "id": "rJcRATNQ_Zcu"
   },
   "outputs": [
    {
     "data": {
      "text/plain": [
       "15740"
      ]
     },
     "execution_count": 27,
     "metadata": {},
     "output_type": "execute_result"
    }
   ],
   "source": [
    "# getting number of tracks listened to in Moscow on Mondays\n",
    "mon_m = number_tracks('Monday','Moscow')\n",
    "mon_m"
   ]
  },
  {
   "cell_type": "code",
   "execution_count": 28,
   "metadata": {
    "id": "hq_ncZ5T_Zcu"
   },
   "outputs": [
    {
     "data": {
      "text/plain": [
       "5614"
      ]
     },
     "execution_count": 28,
     "metadata": {},
     "output_type": "execute_result"
    }
   ],
   "source": [
    "# getting number of tracks listened to ins in St. Petersburg on Mondays\n",
    "mon_sp = number_tracks('Monday','Saint-Petersburg')\n",
    "mon_sp"
   ]
  },
  {
   "cell_type": "code",
   "execution_count": 29,
   "metadata": {
    "id": "_NTy2VPU_Zcu"
   },
   "outputs": [
    {
     "data": {
      "text/plain": [
       "11056"
      ]
     },
     "execution_count": 29,
     "metadata": {},
     "output_type": "execute_result"
    }
   ],
   "source": [
    "# getting number of tracks listened to in Moscow on Wednesdays\n",
    "wed_m = number_tracks('Wednesday','Moscow')\n",
    "wed_m"
   ]
  },
  {
   "cell_type": "code",
   "execution_count": 30,
   "metadata": {
    "id": "j2y3TAwo_Zcu"
   },
   "outputs": [
    {
     "data": {
      "text/plain": [
       "7003"
      ]
     },
     "execution_count": 30,
     "metadata": {},
     "output_type": "execute_result"
    }
   ],
   "source": [
    "# getting number of tracks listened to in St. Petersburg on Wednesdays\n",
    "wed_sp = number_tracks('Wednesday','Saint-Petersburg')\n",
    "wed_sp"
   ]
  },
  {
   "cell_type": "code",
   "execution_count": 31,
   "metadata": {
    "id": "vYDw5u_K_Zcu"
   },
   "outputs": [
    {
     "data": {
      "text/plain": [
       "15945"
      ]
     },
     "execution_count": 31,
     "metadata": {},
     "output_type": "execute_result"
    }
   ],
   "source": [
    "# getting number of tracks listened to in Moscow on Fridays\n",
    "fr_m = number_tracks('Friday','Moscow')\n",
    "fr_m"
   ]
  },
  {
   "cell_type": "code",
   "execution_count": 32,
   "metadata": {
    "id": "8_yzFtW3_Zcu"
   },
   "outputs": [
    {
     "data": {
      "text/plain": [
       "5895"
      ]
     },
     "execution_count": 32,
     "metadata": {},
     "output_type": "execute_result"
    }
   ],
   "source": [
    "# getting number of tracks listened to in St. Petersburg on Fridays\n",
    "fr_sp = number_tracks('Friday','Saint-Petersburg')\n",
    "fr_sp "
   ]
  },
  {
   "cell_type": "markdown",
   "metadata": {
    "id": "7QXffbO-_Zcu"
   },
   "source": [
    "Create a DataFrame where:\n",
    "* column names - `['city', 'monday', 'wednesday', 'friday']`;\n",
    "* values from the `number_tracks` function."
   ]
  },
  {
   "cell_type": "code",
   "execution_count": 33,
   "metadata": {
    "id": "APAcLpOr_Zcu"
   },
   "outputs": [
    {
     "data": {
      "text/html": [
       "<div>\n",
       "<style scoped>\n",
       "    .dataframe tbody tr th:only-of-type {\n",
       "        vertical-align: middle;\n",
       "    }\n",
       "\n",
       "    .dataframe tbody tr th {\n",
       "        vertical-align: top;\n",
       "    }\n",
       "\n",
       "    .dataframe thead th {\n",
       "        text-align: right;\n",
       "    }\n",
       "</style>\n",
       "<table border=\"1\" class=\"dataframe\">\n",
       "  <thead>\n",
       "    <tr style=\"text-align: right;\">\n",
       "      <th></th>\n",
       "      <th>city</th>\n",
       "      <th>monday</th>\n",
       "      <th>wednesday</th>\n",
       "      <th>friday</th>\n",
       "    </tr>\n",
       "  </thead>\n",
       "  <tbody>\n",
       "    <tr>\n",
       "      <th>0</th>\n",
       "      <td>Moscow</td>\n",
       "      <td>15740</td>\n",
       "      <td>11056</td>\n",
       "      <td>15945</td>\n",
       "    </tr>\n",
       "    <tr>\n",
       "      <th>1</th>\n",
       "      <td>Saint-Petersburg</td>\n",
       "      <td>5614</td>\n",
       "      <td>7003</td>\n",
       "      <td>5895</td>\n",
       "    </tr>\n",
       "  </tbody>\n",
       "</table>\n",
       "</div>"
      ],
      "text/plain": [
       "               city  monday  wednesday  friday\n",
       "0            Moscow   15740      11056   15945\n",
       "1  Saint-Petersburg    5614       7003    5895"
      ]
     },
     "metadata": {},
     "output_type": "display_data"
    }
   ],
   "source": [
    "# creating a DataFrame\n",
    "data=[['Moscow', mon_m, wed_m, fr_m],\n",
    "      ['Saint-Petersburg', mon_sp, wed_sp, fr_sp]]\n",
    "result_table = pd.DataFrame(data=data, columns=['city', 'monday', 'wednesday', 'friday'])\n",
    "display(result_table)"
   ]
  },
  {
   "cell_type": "markdown",
   "metadata": {
    "id": "-EgPIHYu_Zcu"
   },
   "source": [
    "**Conclusion**\n",
    "\n",
    "There is difference in user behavior:\n",
    "\n",
    "- Listening peaks in Moscow on Mondays and Fridays, and declines on Wednesdays; \n",
    "- Listening peaks in St. Petersburg on Wednesdays, and declines on Mondays and Fridays. \n",
    "\n",
    "The analysis supports the first hypothesis."
   ]
  },
  {
   "cell_type": "markdown",
   "metadata": {
    "id": "atZAxtq4_Zcu"
   },
   "source": [
    "### Musical preferences at the beginning and end of the week"
   ]
  },
  {
   "cell_type": "markdown",
   "metadata": {
    "id": "eXrQqXFH_Zcu"
   },
   "source": [
    "According to the second hypothesis, certain genres predominate in Moscow on Monday mornings, whereas others predominate in St. Petersburg. Similarly, Friday evenings vary by city in terms of genre."
   ]
  },
  {
   "cell_type": "code",
   "execution_count": 38,
   "metadata": {
    "id": "qeaFfM_P_Zcu"
   },
   "outputs": [],
   "source": [
    "# creating a table with Moscow data\n",
    "moscow_general=df[df.city=='Moscow']"
   ]
  },
  {
   "cell_type": "code",
   "execution_count": 39,
   "metadata": {
    "id": "ORaVRKto_Zcu"
   },
   "outputs": [],
   "source": [
    "# creating a table with St. Petersburg data\n",
    "spb_general=df[df.city=='Saint-Petersburg']"
   ]
  },
  {
   "cell_type": "markdown",
   "metadata": {
    "id": "MEJV-CX2_Zcu"
   },
   "source": [
    "Let's create a function `genre_weekday()` with four parameters:\n",
    "* dataframe;\n",
    "* day of the week;\n",
    "* initial timestamp in 'hh:mm' format;\n",
    "* last timestamp in 'hh:mm' format.\n",
    "\n",
    "It should return information about the top 10 genres of tracks listened to in the interval between two timestamps on the specified day."
   ]
  },
  {
   "cell_type": "code",
   "execution_count": 40,
   "metadata": {
    "id": "laJT9BYl_Zcu"
   },
   "outputs": [],
   "source": [
    "# creating a function genre_weekday() \n",
    "def genre_weekday(table, day, time1, time2):\n",
    "    genre_df = table.loc[(table.day==day) & (table.time>time1) & (table.time<time2)]\n",
    "    genre_df_count = genre_df.groupby('genre')['track'].count()\n",
    "    genre_df_sorted = genre_df_count.sort_values(ascending=False)\n",
    "    return genre_df_sorted[:10]"
   ]
  },
  {
   "cell_type": "markdown",
   "metadata": {
    "id": "la2s2_PF_Zcu"
   },
   "source": [
    "I will compare Moscow and St. Petersburg on Monday morning (from 7:00 to 11:00) and Friday evening (from 17:00 to 23:00) using `genre_weekday()`."
   ]
  },
  {
   "cell_type": "code",
   "execution_count": 41,
   "metadata": {
    "id": "yz7itPUQ_Zcu"
   },
   "outputs": [
    {
     "data": {
      "text/plain": [
       "genre\n",
       "pop            781\n",
       "dance          549\n",
       "electronic     480\n",
       "rock           474\n",
       "hip            281\n",
       "ruspop         186\n",
       "world          181\n",
       "rusrap         175\n",
       "alternative    164\n",
       "unknown        161\n",
       "Name: track, dtype: int64"
      ]
     },
     "execution_count": 41,
     "metadata": {},
     "output_type": "execute_result"
    }
   ],
   "source": [
    "# displaying top-10 genres in Moscow from 7:00 to 11:00\n",
    "genre_weekday(moscow_general, 'Monday', '07:00', '11:00')"
   ]
  },
  {
   "cell_type": "code",
   "execution_count": 42,
   "metadata": {
    "id": "kwUcHPdy_Zcu"
   },
   "outputs": [
    {
     "data": {
      "text/plain": [
       "genre\n",
       "pop            218\n",
       "dance          182\n",
       "rock           162\n",
       "electronic     147\n",
       "hip             79\n",
       "ruspop          64\n",
       "alternative     58\n",
       "rusrap          55\n",
       "jazz            44\n",
       "classical       40\n",
       "Name: track, dtype: int64"
      ]
     },
     "execution_count": 42,
     "metadata": {},
     "output_type": "execute_result"
    }
   ],
   "source": [
    "# displaying top-10 genres in St. Petersburg from 7:00 to 11:00\n",
    "genre_weekday(spb_general, 'Monday', '07:00', '11:00')"
   ]
  },
  {
   "cell_type": "code",
   "execution_count": 44,
   "metadata": {
    "id": "EzXVRE1o_Zcu"
   },
   "outputs": [
    {
     "data": {
      "text/plain": [
       "genre\n",
       "pop            713\n",
       "rock           517\n",
       "dance          495\n",
       "electronic     482\n",
       "hip            267\n",
       "world          208\n",
       "ruspop         170\n",
       "alternative    163\n",
       "classical      163\n",
       "rusrap         142\n",
       "Name: track, dtype: int64"
      ]
     },
     "execution_count": 44,
     "metadata": {},
     "output_type": "execute_result"
    }
   ],
   "source": [
    "# displaying top-10 genres in Moscow from 17:00 to 23:00\n",
    "genre_weekday(moscow_general, 'Friday', '17:00', '23:00')"
   ]
  },
  {
   "cell_type": "code",
   "execution_count": 45,
   "metadata": {
    "id": "JZaEKu5v_Zcu"
   },
   "outputs": [
    {
     "data": {
      "text/plain": [
       "genre\n",
       "pop            256\n",
       "electronic     216\n",
       "rock           216\n",
       "dance          210\n",
       "hip             94\n",
       "alternative     63\n",
       "jazz            61\n",
       "classical       60\n",
       "rusrap          59\n",
       "world           54\n",
       "Name: track, dtype: int64"
      ]
     },
     "execution_count": 45,
     "metadata": {},
     "output_type": "execute_result"
    }
   ],
   "source": [
    "# displaying top-10 genres in St. Petersburg from 17:00 to 23:00\n",
    "genre_weekday(spb_general, 'Friday', '17:00', '23:00')"
   ]
  },
  {
   "cell_type": "markdown",
   "metadata": {
    "id": "wrCe4MNX_Zcu"
   },
   "source": [
    "**Conclusion**\n",
    "\n",
    "After comparing top 10 genres on Monday morning, I can say that:\n",
    "\n",
    "1. Moscow and St. Petersburg listen to similar music. The only difference is that the Moscow rating includes world music, while the St. Petersburg rating includes jazz and classical music.\n",
    "\n",
    "2. The Moscow data has so many missing values that the value `unknown` has taken tenth place among the most popular genres, which means that missing values occupy a significant share of the data and threaten its credibility. \n",
    "\n",
    "This picture does not change on Friday night. Some genres rise a little higher, others drop, but overall the top 10 remains the same. \n",
    "\n",
    "The second hypothesis was partially supported:\n",
    "* Users listen to similar music at the beginning and at the end of the week;\n",
    "* There is not much difference between Moscow and St. Petersburg.\n",
    "\n",
    "Missing data, however, casts doubt on this result. With so many of them in Moscow, the top-10 ranking could look quite different. "
   ]
  },
  {
   "cell_type": "markdown",
   "metadata": {
    "id": "JolODAqr_Zcu"
   },
   "source": [
    "### Genre preferences in two cities"
   ]
  },
  {
   "cell_type": "markdown",
   "metadata": {},
   "source": [
    "According to the third hypothesis, rap is the most popular genre in St. Petersburg. Moscow is dominated by pop music."
   ]
  },
  {
   "cell_type": "code",
   "execution_count": 51,
   "metadata": {
    "id": "r19lIPke_Zcu"
   },
   "outputs": [
    {
     "data": {
      "text/plain": [
       "genre\n",
       "pop            5892\n",
       "dance          4435\n",
       "rock           3965\n",
       "electronic     3786\n",
       "hip            2041\n",
       "classical      1616\n",
       "world          1432\n",
       "alternative    1379\n",
       "ruspop         1372\n",
       "rusrap         1161\n",
       "Name: track, dtype: int64"
      ]
     },
     "execution_count": 51,
     "metadata": {},
     "output_type": "execute_result"
    }
   ],
   "source": [
    "# grouping the moscow_general table by genre\n",
    "# counting the number of tracks in each genre\n",
    "# sorting in the descending order\n",
    "moscow_genres = moscow_general.groupby('genre')['track'].count().sort_values(ascending=False)\n",
    "moscow_genres[:10]"
   ]
  },
  {
   "cell_type": "code",
   "execution_count": 53,
   "metadata": {
    "id": "gluLIpE7_Zcv"
   },
   "outputs": [
    {
     "data": {
      "text/plain": [
       "genre\n",
       "pop            2431\n",
       "dance          1932\n",
       "rock           1879\n",
       "electronic     1736\n",
       "hip             934\n",
       "alternative     649\n",
       "classical       646\n",
       "rusrap          564\n",
       "ruspop          538\n",
       "world           515\n",
       "Name: track, dtype: int64"
      ]
     },
     "execution_count": 53,
     "metadata": {},
     "output_type": "execute_result"
    }
   ],
   "source": [
    "# grouping the spb_general table by genre\n",
    "# counting the number of tracks in each genre\n",
    "# sorting in the descending order\n",
    "spb_genres = spb_general.groupby('genre')['track'].count().sort_values(ascending=False)\n",
    "spb_genres[:10]"
   ]
  },
  {
   "cell_type": "markdown",
   "metadata": {
    "id": "RY51YJYu_Zcv"
   },
   "source": [
    "**Conclusion**"
   ]
  },
  {
   "cell_type": "markdown",
   "metadata": {
    "id": "nVhnJEm__Zcv"
   },
   "source": [
    "The third hypothesis was partially supported:\n",
    "\n",
    "- Pop music is the most popular genre in Moscow;\n",
    "- Pop music is also the most popular genre in St."
   ]
  },
  {
   "cell_type": "markdown",
   "metadata": {
    "id": "ykKQ0N65_Zcv"
   },
   "source": [
    "## Final conclusion"
   ]
  },
  {
   "cell_type": "markdown",
   "metadata": {
    "id": "tjUwbHb3_Zcv"
   },
   "source": [
    "I tested three hypotheses and conlcuded that the day of the week has a different effect on the activity of users in Moscow and St. Petersburg.\n",
    "\n",
    "The analysis supports the first hypothesis that users in two cities listen to music differently on different days of the week:\n",
    "- Listening peaks in Moscow on Mondays and Fridays, and declines on Wednesdays;\n",
    "- Listening peaks in St. Petersburg on Wednesdays, and declines on Mondays and Fridays.\n",
    "\n",
    "The second hypothesis was partially supported. It states that certain genres predominate in Moscow on Monday mornings, whereas others predominate in St. Petersburg. Similarly, Friday evenings vary by city in terms of genre:\n",
    "\n",
    "- Users listen to similar music at the beginning and at the end of the week;\n",
    "- There is not much difference between Moscow and St. Petersburg.\n",
    "\n",
    "The third hypothesis was partially supported. It states that rap is the most popular genre in St. Petersburg. Moscow is dominated by pop music.:\n",
    "\n",
    "- Pop music is the most popular genre in Moscow;\n",
    "- Pop music is also the most popular genre in St."
   ]
  }
 ],
 "metadata": {
  "ExecuteTimeLog": [
   {
    "duration": 824,
    "start_time": "2022-02-24T22:04:37.987Z"
   },
   {
    "duration": 83,
    "start_time": "2022-02-24T22:05:06.103Z"
   },
   {
    "duration": 345,
    "start_time": "2022-02-24T22:05:20.548Z"
   },
   {
    "duration": 83,
    "start_time": "2022-02-24T22:05:25.262Z"
   },
   {
    "duration": 257,
    "start_time": "2022-02-24T22:05:31.893Z"
   },
   {
    "duration": 205,
    "start_time": "2022-02-24T22:05:46.711Z"
   },
   {
    "duration": 27,
    "start_time": "2022-02-24T22:05:55.657Z"
   },
   {
    "duration": 6,
    "start_time": "2022-02-24T22:22:49.148Z"
   },
   {
    "duration": 29,
    "start_time": "2022-02-24T22:28:29.678Z"
   },
   {
    "duration": 17,
    "start_time": "2022-02-24T22:28:37.764Z"
   },
   {
    "duration": 37,
    "start_time": "2022-02-24T22:31:50.439Z"
   },
   {
    "duration": 34,
    "start_time": "2022-02-24T22:32:51.718Z"
   },
   {
    "duration": 25,
    "start_time": "2022-02-24T22:49:40.947Z"
   },
   {
    "duration": 5,
    "start_time": "2022-02-24T22:49:49.047Z"
   },
   {
    "duration": 33,
    "start_time": "2022-02-24T22:49:59.889Z"
   },
   {
    "duration": 292,
    "start_time": "2022-02-24T22:51:07.238Z"
   },
   {
    "duration": 137,
    "start_time": "2022-02-24T22:51:17.903Z"
   },
   {
    "duration": 156,
    "start_time": "2022-02-24T22:52:11.603Z"
   },
   {
    "duration": 93,
    "start_time": "2022-02-24T22:52:23.247Z"
   },
   {
    "duration": 11,
    "start_time": "2022-02-24T22:53:35.103Z"
   },
   {
    "duration": 5,
    "start_time": "2022-02-24T23:09:00.169Z"
   },
   {
    "duration": 14,
    "start_time": "2022-02-24T23:09:02.041Z"
   },
   {
    "duration": 11,
    "start_time": "2022-02-24T23:09:04.575Z"
   },
   {
    "duration": 270,
    "start_time": "2022-02-24T23:10:57.609Z"
   },
   {
    "duration": 7,
    "start_time": "2022-02-24T23:11:59.481Z"
   },
   {
    "duration": 7,
    "start_time": "2022-02-24T23:12:07.859Z"
   },
   {
    "duration": 285,
    "start_time": "2022-02-24T23:12:54.917Z"
   },
   {
    "duration": 10,
    "start_time": "2022-02-24T23:13:00.683Z"
   },
   {
    "duration": 280,
    "start_time": "2022-02-24T23:15:02.175Z"
   },
   {
    "duration": 15,
    "start_time": "2022-02-24T23:15:33.862Z"
   },
   {
    "duration": 262,
    "start_time": "2022-02-24T23:15:44.637Z"
   },
   {
    "duration": 293,
    "start_time": "2022-02-24T23:15:54.489Z"
   },
   {
    "duration": 282,
    "start_time": "2022-02-24T23:16:21.563Z"
   },
   {
    "duration": 61,
    "start_time": "2022-02-24T23:16:33.141Z"
   },
   {
    "duration": 63,
    "start_time": "2022-02-24T23:16:43.455Z"
   },
   {
    "duration": 64,
    "start_time": "2022-02-24T23:18:26.519Z"
   },
   {
    "duration": 59,
    "start_time": "2022-02-24T23:18:57.307Z"
   },
   {
    "duration": 301,
    "start_time": "2022-02-25T02:20:42.181Z"
   },
   {
    "duration": 225,
    "start_time": "2022-02-25T02:21:40.435Z"
   },
   {
    "duration": 740,
    "start_time": "2022-02-25T02:22:08.033Z"
   },
   {
    "duration": 187,
    "start_time": "2022-02-25T02:22:08.776Z"
   },
   {
    "duration": 29,
    "start_time": "2022-02-25T02:22:08.966Z"
   },
   {
    "duration": 3,
    "start_time": "2022-02-25T02:22:08.998Z"
   },
   {
    "duration": 11,
    "start_time": "2022-02-25T02:22:09.003Z"
   },
   {
    "duration": 28,
    "start_time": "2022-02-25T02:22:09.016Z"
   },
   {
    "duration": 47,
    "start_time": "2022-02-25T02:22:09.047Z"
   },
   {
    "duration": 31,
    "start_time": "2022-02-25T02:22:09.098Z"
   },
   {
    "duration": 22,
    "start_time": "2022-02-25T02:22:09.132Z"
   },
   {
    "duration": 54,
    "start_time": "2022-02-25T02:22:09.157Z"
   },
   {
    "duration": 101,
    "start_time": "2022-02-25T02:22:09.213Z"
   },
   {
    "duration": 104,
    "start_time": "2022-02-25T02:22:09.316Z"
   },
   {
    "duration": 85,
    "start_time": "2022-02-25T02:22:09.422Z"
   },
   {
    "duration": 58,
    "start_time": "2022-02-25T02:22:09.509Z"
   },
   {
    "duration": 4,
    "start_time": "2022-02-25T02:22:09.570Z"
   },
   {
    "duration": 14,
    "start_time": "2022-02-25T02:22:09.593Z"
   },
   {
    "duration": 65,
    "start_time": "2022-02-25T02:22:09.609Z"
   },
   {
    "duration": 3,
    "start_time": "2022-02-25T02:22:09.693Z"
   },
   {
    "duration": 11,
    "start_time": "2022-02-25T02:22:09.699Z"
   },
   {
    "duration": 7,
    "start_time": "2022-02-25T02:22:09.713Z"
   },
   {
    "duration": 12,
    "start_time": "2022-02-25T02:22:09.722Z"
   },
   {
    "duration": 8,
    "start_time": "2022-02-25T02:22:09.736Z"
   },
   {
    "duration": 3,
    "start_time": "2022-02-25T02:22:09.750Z"
   },
   {
    "duration": 7,
    "start_time": "2022-02-25T02:22:09.756Z"
   },
   {
    "duration": 30,
    "start_time": "2022-02-25T02:22:09.765Z"
   },
   {
    "duration": 12,
    "start_time": "2022-02-25T02:22:09.797Z"
   },
   {
    "duration": 7,
    "start_time": "2022-02-25T02:22:09.811Z"
   },
   {
    "duration": 8,
    "start_time": "2022-02-25T02:22:09.820Z"
   },
   {
    "duration": 9,
    "start_time": "2022-02-25T02:22:09.831Z"
   },
   {
    "duration": 8,
    "start_time": "2022-02-25T02:22:09.842Z"
   },
   {
    "duration": 9,
    "start_time": "2022-02-25T02:22:09.852Z"
   },
   {
    "duration": 8,
    "start_time": "2022-02-25T02:22:09.864Z"
   },
   {
    "duration": 10,
    "start_time": "2022-02-25T02:22:09.874Z"
   },
   {
    "duration": 9,
    "start_time": "2022-02-25T02:22:09.894Z"
   },
   {
    "duration": 9,
    "start_time": "2022-02-25T02:22:09.905Z"
   },
   {
    "duration": 7,
    "start_time": "2022-02-25T02:22:09.916Z"
   },
   {
    "duration": 9,
    "start_time": "2022-02-25T02:22:09.926Z"
   },
   {
    "duration": 6,
    "start_time": "2022-02-25T02:22:09.937Z"
   },
   {
    "duration": 16,
    "start_time": "2022-02-25T02:22:34.361Z"
   },
   {
    "duration": 14,
    "start_time": "2022-02-25T02:23:37.593Z"
   },
   {
    "duration": 17,
    "start_time": "2022-02-25T02:24:14.109Z"
   },
   {
    "duration": 775,
    "start_time": "2022-02-25T20:23:04.049Z"
   },
   {
    "duration": 184,
    "start_time": "2022-02-25T20:23:04.827Z"
   },
   {
    "duration": 27,
    "start_time": "2022-02-25T20:23:05.014Z"
   },
   {
    "duration": 4,
    "start_time": "2022-02-25T20:23:05.044Z"
   },
   {
    "duration": 11,
    "start_time": "2022-02-25T20:23:05.050Z"
   },
   {
    "duration": 53,
    "start_time": "2022-02-25T20:23:05.064Z"
   },
   {
    "duration": 15,
    "start_time": "2022-02-25T20:23:05.120Z"
   },
   {
    "duration": 30,
    "start_time": "2022-02-25T20:23:05.139Z"
   },
   {
    "duration": 50,
    "start_time": "2022-02-25T20:23:05.172Z"
   },
   {
    "duration": 31,
    "start_time": "2022-02-25T20:23:05.225Z"
   },
   {
    "duration": 103,
    "start_time": "2022-02-25T20:23:05.259Z"
   },
   {
    "duration": 110,
    "start_time": "2022-02-25T20:23:05.365Z"
   },
   {
    "duration": 83,
    "start_time": "2022-02-25T20:23:05.478Z"
   },
   {
    "duration": 67,
    "start_time": "2022-02-25T20:23:05.563Z"
   },
   {
    "duration": 5,
    "start_time": "2022-02-25T20:23:05.632Z"
   },
   {
    "duration": 14,
    "start_time": "2022-02-25T20:23:05.640Z"
   },
   {
    "duration": 85,
    "start_time": "2022-02-25T20:23:05.657Z"
   },
   {
    "duration": 18,
    "start_time": "2022-02-25T20:23:05.745Z"
   },
   {
    "duration": 50,
    "start_time": "2022-02-25T20:23:05.766Z"
   },
   {
    "duration": 5,
    "start_time": "2022-02-25T20:23:05.818Z"
   },
   {
    "duration": 41,
    "start_time": "2022-02-25T20:23:05.826Z"
   },
   {
    "duration": 18,
    "start_time": "2022-02-25T20:23:05.869Z"
   },
   {
    "duration": 20,
    "start_time": "2022-02-25T20:23:05.914Z"
   },
   {
    "duration": 19,
    "start_time": "2022-02-25T20:23:05.937Z"
   },
   {
    "duration": 44,
    "start_time": "2022-02-25T20:23:05.968Z"
   },
   {
    "duration": 23,
    "start_time": "2022-02-25T20:23:06.015Z"
   },
   {
    "duration": 3,
    "start_time": "2022-02-25T20:23:06.040Z"
   },
   {
    "duration": 5,
    "start_time": "2022-02-25T20:23:06.045Z"
   },
   {
    "duration": 7,
    "start_time": "2022-02-25T20:23:06.053Z"
   },
   {
    "duration": 7,
    "start_time": "2022-02-25T20:23:06.062Z"
   },
   {
    "duration": 42,
    "start_time": "2022-02-25T20:23:06.072Z"
   },
   {
    "duration": 5,
    "start_time": "2022-02-25T20:23:06.117Z"
   },
   {
    "duration": 9,
    "start_time": "2022-02-25T20:23:06.124Z"
   },
   {
    "duration": 6,
    "start_time": "2022-02-25T20:23:06.135Z"
   },
   {
    "duration": 5,
    "start_time": "2022-02-25T20:23:06.144Z"
   },
   {
    "duration": 7,
    "start_time": "2022-02-25T20:23:06.151Z"
   },
   {
    "duration": 5,
    "start_time": "2022-02-25T20:23:06.160Z"
   },
   {
    "duration": 43,
    "start_time": "2022-02-25T20:23:06.168Z"
   },
   {
    "duration": 12,
    "start_time": "2022-02-25T20:23:30.104Z"
   },
   {
    "duration": 15,
    "start_time": "2022-02-25T20:23:44.418Z"
   },
   {
    "duration": 12,
    "start_time": "2022-02-25T20:23:51.726Z"
   },
   {
    "duration": 6,
    "start_time": "2022-02-25T20:24:10.088Z"
   },
   {
    "duration": 24,
    "start_time": "2022-02-25T20:24:21.660Z"
   },
   {
    "duration": 18,
    "start_time": "2022-02-25T20:25:13.204Z"
   },
   {
    "duration": 26,
    "start_time": "2022-02-25T20:25:13.581Z"
   },
   {
    "duration": 18,
    "start_time": "2022-02-25T20:25:15.714Z"
   },
   {
    "duration": 11,
    "start_time": "2022-02-25T20:25:31.813Z"
   },
   {
    "duration": 6,
    "start_time": "2022-02-25T20:25:44.832Z"
   },
   {
    "duration": 9,
    "start_time": "2022-02-25T20:26:07.112Z"
   },
   {
    "duration": 7,
    "start_time": "2022-02-25T20:26:08.208Z"
   },
   {
    "duration": 847,
    "start_time": "2022-02-25T20:26:23.783Z"
   },
   {
    "duration": 182,
    "start_time": "2022-02-25T20:26:24.632Z"
   },
   {
    "duration": 26,
    "start_time": "2022-02-25T20:26:24.817Z"
   },
   {
    "duration": 4,
    "start_time": "2022-02-25T20:26:24.846Z"
   },
   {
    "duration": 7,
    "start_time": "2022-02-25T20:26:24.852Z"
   },
   {
    "duration": 60,
    "start_time": "2022-02-25T20:26:24.861Z"
   },
   {
    "duration": 21,
    "start_time": "2022-02-25T20:26:24.924Z"
   },
   {
    "duration": 35,
    "start_time": "2022-02-25T20:26:24.948Z"
   },
   {
    "duration": 40,
    "start_time": "2022-02-25T20:26:24.987Z"
   },
   {
    "duration": 30,
    "start_time": "2022-02-25T20:26:25.030Z"
   },
   {
    "duration": 110,
    "start_time": "2022-02-25T20:26:25.062Z"
   },
   {
    "duration": 112,
    "start_time": "2022-02-25T20:26:25.175Z"
   },
   {
    "duration": 82,
    "start_time": "2022-02-25T20:26:25.290Z"
   },
   {
    "duration": 78,
    "start_time": "2022-02-25T20:26:25.375Z"
   },
   {
    "duration": 5,
    "start_time": "2022-02-25T20:26:25.455Z"
   },
   {
    "duration": 16,
    "start_time": "2022-02-25T20:26:25.462Z"
   },
   {
    "duration": 80,
    "start_time": "2022-02-25T20:26:25.481Z"
   },
   {
    "duration": 17,
    "start_time": "2022-02-25T20:26:25.563Z"
   },
   {
    "duration": 41,
    "start_time": "2022-02-25T20:26:25.583Z"
   },
   {
    "duration": 5,
    "start_time": "2022-02-25T20:26:25.626Z"
   },
   {
    "duration": 23,
    "start_time": "2022-02-25T20:26:25.634Z"
   },
   {
    "duration": 55,
    "start_time": "2022-02-25T20:26:25.660Z"
   },
   {
    "duration": 19,
    "start_time": "2022-02-25T20:26:25.717Z"
   },
   {
    "duration": 21,
    "start_time": "2022-02-25T20:26:25.739Z"
   },
   {
    "duration": 51,
    "start_time": "2022-02-25T20:26:25.763Z"
   },
   {
    "duration": 19,
    "start_time": "2022-02-25T20:26:25.817Z"
   },
   {
    "duration": 13,
    "start_time": "2022-02-25T20:26:25.841Z"
   },
   {
    "duration": 53,
    "start_time": "2022-02-25T20:26:25.857Z"
   },
   {
    "duration": 13,
    "start_time": "2022-02-25T20:26:25.913Z"
   },
   {
    "duration": 6,
    "start_time": "2022-02-25T20:26:25.929Z"
   },
   {
    "duration": 38,
    "start_time": "2022-02-25T20:26:25.938Z"
   },
   {
    "duration": 34,
    "start_time": "2022-02-25T20:26:25.978Z"
   },
   {
    "duration": 25,
    "start_time": "2022-02-25T20:26:26.015Z"
   },
   {
    "duration": 17,
    "start_time": "2022-02-25T20:26:26.042Z"
   },
   {
    "duration": 49,
    "start_time": "2022-02-25T20:26:26.062Z"
   },
   {
    "duration": 6,
    "start_time": "2022-02-25T20:26:26.113Z"
   },
   {
    "duration": 11,
    "start_time": "2022-02-25T20:26:26.122Z"
   },
   {
    "duration": 7,
    "start_time": "2022-02-25T20:26:26.136Z"
   },
   {
    "duration": 371,
    "start_time": "2022-03-11T09:09:40.420Z"
   },
   {
    "duration": 637,
    "start_time": "2022-03-11T09:10:03.993Z"
   },
   {
    "duration": 153,
    "start_time": "2022-03-11T09:10:08.905Z"
   },
   {
    "duration": 19,
    "start_time": "2022-03-11T09:10:10.916Z"
   },
   {
    "duration": 26,
    "start_time": "2022-03-11T09:10:16.913Z"
   },
   {
    "duration": 102,
    "start_time": "2022-03-11T09:10:55.309Z"
   },
   {
    "duration": 81,
    "start_time": "2022-03-11T09:11:11.977Z"
   },
   {
    "duration": 286,
    "start_time": "2022-03-11T09:13:35.866Z"
   },
   {
    "duration": 599,
    "start_time": "2022-03-11T09:19:44.441Z"
   },
   {
    "duration": 157,
    "start_time": "2022-03-11T09:19:45.042Z"
   },
   {
    "duration": 19,
    "start_time": "2022-03-11T09:19:45.201Z"
   },
   {
    "duration": 41,
    "start_time": "2022-03-11T09:19:45.222Z"
   },
   {
    "duration": 14,
    "start_time": "2022-03-11T09:19:45.265Z"
   },
   {
    "duration": 26,
    "start_time": "2022-03-11T09:19:45.280Z"
   },
   {
    "duration": 26,
    "start_time": "2022-03-11T09:19:45.308Z"
   },
   {
    "duration": 45,
    "start_time": "2022-03-11T09:19:45.336Z"
   },
   {
    "duration": 42,
    "start_time": "2022-03-11T09:19:45.383Z"
   },
   {
    "duration": 44,
    "start_time": "2022-03-11T09:19:45.427Z"
   },
   {
    "duration": 85,
    "start_time": "2022-03-11T09:19:45.473Z"
   },
   {
    "duration": 73,
    "start_time": "2022-03-11T09:19:45.559Z"
   },
   {
    "duration": 54,
    "start_time": "2022-03-11T09:19:45.633Z"
   },
   {
    "duration": 42,
    "start_time": "2022-03-11T09:19:45.689Z"
   },
   {
    "duration": 14,
    "start_time": "2022-03-11T09:19:45.732Z"
   },
   {
    "duration": 31,
    "start_time": "2022-03-11T09:19:45.747Z"
   },
   {
    "duration": 59,
    "start_time": "2022-03-11T09:19:45.780Z"
   },
   {
    "duration": 23,
    "start_time": "2022-03-11T09:19:45.841Z"
   },
   {
    "duration": 21,
    "start_time": "2022-03-11T09:19:45.866Z"
   },
   {
    "duration": 16,
    "start_time": "2022-03-11T09:19:45.889Z"
   },
   {
    "duration": 36,
    "start_time": "2022-03-11T09:19:45.906Z"
   },
   {
    "duration": 29,
    "start_time": "2022-03-11T09:19:45.944Z"
   },
   {
    "duration": 24,
    "start_time": "2022-03-11T09:19:45.977Z"
   },
   {
    "duration": 26,
    "start_time": "2022-03-11T09:19:46.003Z"
   },
   {
    "duration": 35,
    "start_time": "2022-03-11T09:19:46.030Z"
   },
   {
    "duration": 32,
    "start_time": "2022-03-11T09:19:46.066Z"
   },
   {
    "duration": 27,
    "start_time": "2022-03-11T09:19:46.099Z"
   },
   {
    "duration": 35,
    "start_time": "2022-03-11T09:19:46.128Z"
   },
   {
    "duration": 20,
    "start_time": "2022-03-11T09:19:46.164Z"
   },
   {
    "duration": 24,
    "start_time": "2022-03-11T09:19:46.186Z"
   },
   {
    "duration": 41,
    "start_time": "2022-03-11T09:19:46.211Z"
   },
   {
    "duration": 14,
    "start_time": "2022-03-11T09:19:46.254Z"
   },
   {
    "duration": 31,
    "start_time": "2022-03-11T09:19:46.270Z"
   },
   {
    "duration": 27,
    "start_time": "2022-03-11T09:19:46.303Z"
   },
   {
    "duration": 8,
    "start_time": "2022-03-11T09:19:46.332Z"
   },
   {
    "duration": 12,
    "start_time": "2022-03-11T09:19:46.342Z"
   },
   {
    "duration": 33,
    "start_time": "2022-03-11T09:19:46.356Z"
   },
   {
    "duration": 16,
    "start_time": "2022-03-11T09:19:46.390Z"
   }
  ],
  "colab": {
   "collapsed_sections": [
    "E0vqbgi9ay0H",
    "VUC88oWjTJw2"
   ],
   "name": "yandex_music_project_2021.2.ipynb",
   "provenance": []
  },
  "kernelspec": {
   "display_name": "Python 3",
   "language": "python",
   "name": "python3"
  },
  "language_info": {
   "codemirror_mode": {
    "name": "ipython",
    "version": 3
   },
   "file_extension": ".py",
   "mimetype": "text/x-python",
   "name": "python",
   "nbconvert_exporter": "python",
   "pygments_lexer": "ipython3",
   "version": "3.7.3"
  },
  "toc": {
   "base_numbering": 1,
   "nav_menu": {},
   "number_sections": true,
   "sideBar": true,
   "skip_h1_title": true,
   "title_cell": "Table of Contents",
   "title_sidebar": "Contents",
   "toc_cell": false,
   "toc_position": {},
   "toc_section_display": true,
   "toc_window_display": false
  }
 },
 "nbformat": 4,
 "nbformat_minor": 1
}
