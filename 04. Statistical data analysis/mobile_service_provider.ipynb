{
 "cells": [
  {
   "cell_type": "markdown",
   "metadata": {},
   "source": [
    "# An analysis of a mobile service provider's tariffs"
   ]
  },
  {
   "cell_type": "markdown",
   "metadata": {},
   "source": [
    "## Data overview"
   ]
  },
  {
   "cell_type": "code",
   "execution_count": 1,
   "metadata": {},
   "outputs": [],
   "source": [
    "# importing libraries\n",
    "import pandas as pd\n",
    "import numpy as np\n",
    "import matplotlib.pyplot as plt\n",
    "import seaborn as sns\n",
    "from scipy import stats as st\n",
    "from functools import reduce\n",
    "from scipy.stats import levene"
   ]
  },
  {
   "cell_type": "code",
   "execution_count": 2,
   "metadata": {},
   "outputs": [],
   "source": [
    "# reading csv files and assigning the results to variables\n",
    "calls = pd.read_csv('https://code.s3.yandex.net/datasets/calls.csv', sep = ',')\n",
    "internet = pd.read_csv('https://code.s3.yandex.net/datasets/internet.csv', sep = ',', index_col=0)\n",
    "messages = pd.read_csv('https://code.s3.yandex.net/datasets/messages.csv', sep = ',')\n",
    "tariffs = pd.read_csv('https://code.s3.yandex.net/datasets/tariffs.csv', sep = ',')\n",
    "users = pd.read_csv('https://code.s3.yandex.net/datasets/users.csv', sep = ',')"
   ]
  },
  {
   "cell_type": "code",
   "execution_count": 3,
   "metadata": {},
   "outputs": [
    {
     "data": {
      "text/html": [
       "<div>\n",
       "<style scoped>\n",
       "    .dataframe tbody tr th:only-of-type {\n",
       "        vertical-align: middle;\n",
       "    }\n",
       "\n",
       "    .dataframe tbody tr th {\n",
       "        vertical-align: top;\n",
       "    }\n",
       "\n",
       "    .dataframe thead th {\n",
       "        text-align: right;\n",
       "    }\n",
       "</style>\n",
       "<table border=\"1\" class=\"dataframe\">\n",
       "  <thead>\n",
       "    <tr style=\"text-align: right;\">\n",
       "      <th></th>\n",
       "      <th>id</th>\n",
       "      <th>call_date</th>\n",
       "      <th>duration</th>\n",
       "      <th>user_id</th>\n",
       "    </tr>\n",
       "  </thead>\n",
       "  <tbody>\n",
       "    <tr>\n",
       "      <th>0</th>\n",
       "      <td>1000_0</td>\n",
       "      <td>2018-07-25</td>\n",
       "      <td>0.00</td>\n",
       "      <td>1000</td>\n",
       "    </tr>\n",
       "    <tr>\n",
       "      <th>1</th>\n",
       "      <td>1000_1</td>\n",
       "      <td>2018-08-17</td>\n",
       "      <td>0.00</td>\n",
       "      <td>1000</td>\n",
       "    </tr>\n",
       "    <tr>\n",
       "      <th>2</th>\n",
       "      <td>1000_2</td>\n",
       "      <td>2018-06-11</td>\n",
       "      <td>2.85</td>\n",
       "      <td>1000</td>\n",
       "    </tr>\n",
       "    <tr>\n",
       "      <th>3</th>\n",
       "      <td>1000_3</td>\n",
       "      <td>2018-09-21</td>\n",
       "      <td>13.80</td>\n",
       "      <td>1000</td>\n",
       "    </tr>\n",
       "    <tr>\n",
       "      <th>4</th>\n",
       "      <td>1000_4</td>\n",
       "      <td>2018-12-15</td>\n",
       "      <td>5.18</td>\n",
       "      <td>1000</td>\n",
       "    </tr>\n",
       "    <tr>\n",
       "      <th>5</th>\n",
       "      <td>1000_5</td>\n",
       "      <td>2018-11-02</td>\n",
       "      <td>0.00</td>\n",
       "      <td>1000</td>\n",
       "    </tr>\n",
       "    <tr>\n",
       "      <th>6</th>\n",
       "      <td>1000_6</td>\n",
       "      <td>2018-10-18</td>\n",
       "      <td>0.00</td>\n",
       "      <td>1000</td>\n",
       "    </tr>\n",
       "    <tr>\n",
       "      <th>7</th>\n",
       "      <td>1000_7</td>\n",
       "      <td>2018-08-22</td>\n",
       "      <td>18.31</td>\n",
       "      <td>1000</td>\n",
       "    </tr>\n",
       "    <tr>\n",
       "      <th>8</th>\n",
       "      <td>1000_8</td>\n",
       "      <td>2018-09-15</td>\n",
       "      <td>18.44</td>\n",
       "      <td>1000</td>\n",
       "    </tr>\n",
       "    <tr>\n",
       "      <th>9</th>\n",
       "      <td>1000_9</td>\n",
       "      <td>2018-08-15</td>\n",
       "      <td>0.00</td>\n",
       "      <td>1000</td>\n",
       "    </tr>\n",
       "  </tbody>\n",
       "</table>\n",
       "</div>"
      ],
      "text/plain": [
       "       id   call_date  duration  user_id\n",
       "0  1000_0  2018-07-25      0.00     1000\n",
       "1  1000_1  2018-08-17      0.00     1000\n",
       "2  1000_2  2018-06-11      2.85     1000\n",
       "3  1000_3  2018-09-21     13.80     1000\n",
       "4  1000_4  2018-12-15      5.18     1000\n",
       "5  1000_5  2018-11-02      0.00     1000\n",
       "6  1000_6  2018-10-18      0.00     1000\n",
       "7  1000_7  2018-08-22     18.31     1000\n",
       "8  1000_8  2018-09-15     18.44     1000\n",
       "9  1000_9  2018-08-15      0.00     1000"
      ]
     },
     "execution_count": 3,
     "metadata": {},
     "output_type": "execute_result"
    }
   ],
   "source": [
    "# printing the head of the DataFrame\n",
    "calls.head(10)"
   ]
  },
  {
   "cell_type": "code",
   "execution_count": 4,
   "metadata": {
    "scrolled": true
   },
   "outputs": [
    {
     "name": "stdout",
     "output_type": "stream",
     "text": [
      "<class 'pandas.core.frame.DataFrame'>\n",
      "RangeIndex: 202607 entries, 0 to 202606\n",
      "Data columns (total 4 columns):\n",
      "id           202607 non-null object\n",
      "call_date    202607 non-null object\n",
      "duration     202607 non-null float64\n",
      "user_id      202607 non-null int64\n",
      "dtypes: float64(1), int64(1), object(2)\n",
      "memory usage: 6.2+ MB\n"
     ]
    },
    {
     "data": {
      "text/html": [
       "<div>\n",
       "<style scoped>\n",
       "    .dataframe tbody tr th:only-of-type {\n",
       "        vertical-align: middle;\n",
       "    }\n",
       "\n",
       "    .dataframe tbody tr th {\n",
       "        vertical-align: top;\n",
       "    }\n",
       "\n",
       "    .dataframe thead th {\n",
       "        text-align: right;\n",
       "    }\n",
       "</style>\n",
       "<table border=\"1\" class=\"dataframe\">\n",
       "  <thead>\n",
       "    <tr style=\"text-align: right;\">\n",
       "      <th></th>\n",
       "      <th>duration</th>\n",
       "      <th>user_id</th>\n",
       "    </tr>\n",
       "  </thead>\n",
       "  <tbody>\n",
       "    <tr>\n",
       "      <th>count</th>\n",
       "      <td>202607.000000</td>\n",
       "      <td>202607.000000</td>\n",
       "    </tr>\n",
       "    <tr>\n",
       "      <th>mean</th>\n",
       "      <td>6.755887</td>\n",
       "      <td>1253.940619</td>\n",
       "    </tr>\n",
       "    <tr>\n",
       "      <th>std</th>\n",
       "      <td>5.843365</td>\n",
       "      <td>144.722751</td>\n",
       "    </tr>\n",
       "    <tr>\n",
       "      <th>min</th>\n",
       "      <td>0.000000</td>\n",
       "      <td>1000.000000</td>\n",
       "    </tr>\n",
       "    <tr>\n",
       "      <th>25%</th>\n",
       "      <td>1.300000</td>\n",
       "      <td>1126.000000</td>\n",
       "    </tr>\n",
       "    <tr>\n",
       "      <th>50%</th>\n",
       "      <td>6.000000</td>\n",
       "      <td>1260.000000</td>\n",
       "    </tr>\n",
       "    <tr>\n",
       "      <th>75%</th>\n",
       "      <td>10.700000</td>\n",
       "      <td>1379.000000</td>\n",
       "    </tr>\n",
       "    <tr>\n",
       "      <th>max</th>\n",
       "      <td>38.000000</td>\n",
       "      <td>1499.000000</td>\n",
       "    </tr>\n",
       "  </tbody>\n",
       "</table>\n",
       "</div>"
      ],
      "text/plain": [
       "            duration        user_id\n",
       "count  202607.000000  202607.000000\n",
       "mean        6.755887    1253.940619\n",
       "std         5.843365     144.722751\n",
       "min         0.000000    1000.000000\n",
       "25%         1.300000    1126.000000\n",
       "50%         6.000000    1260.000000\n",
       "75%        10.700000    1379.000000\n",
       "max        38.000000    1499.000000"
      ]
     },
     "execution_count": 4,
     "metadata": {},
     "output_type": "execute_result"
    }
   ],
   "source": [
    "# printing information about the DataFrame\n",
    "calls.info()\n",
    "\n",
    "# computing a summary of statistics\n",
    "calls.describe()"
   ]
  },
  {
   "cell_type": "markdown",
   "metadata": {},
   "source": [
    "- Need to convert the call_date column type to datetime."
   ]
  },
  {
   "cell_type": "code",
   "execution_count": 5,
   "metadata": {},
   "outputs": [
    {
     "data": {
      "text/html": [
       "<div>\n",
       "<style scoped>\n",
       "    .dataframe tbody tr th:only-of-type {\n",
       "        vertical-align: middle;\n",
       "    }\n",
       "\n",
       "    .dataframe tbody tr th {\n",
       "        vertical-align: top;\n",
       "    }\n",
       "\n",
       "    .dataframe thead th {\n",
       "        text-align: right;\n",
       "    }\n",
       "</style>\n",
       "<table border=\"1\" class=\"dataframe\">\n",
       "  <thead>\n",
       "    <tr style=\"text-align: right;\">\n",
       "      <th></th>\n",
       "      <th>id</th>\n",
       "      <th>mb_used</th>\n",
       "      <th>session_date</th>\n",
       "      <th>user_id</th>\n",
       "    </tr>\n",
       "  </thead>\n",
       "  <tbody>\n",
       "    <tr>\n",
       "      <th>0</th>\n",
       "      <td>1000_0</td>\n",
       "      <td>112.95</td>\n",
       "      <td>2018-11-25</td>\n",
       "      <td>1000</td>\n",
       "    </tr>\n",
       "    <tr>\n",
       "      <th>1</th>\n",
       "      <td>1000_1</td>\n",
       "      <td>1052.81</td>\n",
       "      <td>2018-09-07</td>\n",
       "      <td>1000</td>\n",
       "    </tr>\n",
       "    <tr>\n",
       "      <th>2</th>\n",
       "      <td>1000_2</td>\n",
       "      <td>1197.26</td>\n",
       "      <td>2018-06-25</td>\n",
       "      <td>1000</td>\n",
       "    </tr>\n",
       "    <tr>\n",
       "      <th>3</th>\n",
       "      <td>1000_3</td>\n",
       "      <td>550.27</td>\n",
       "      <td>2018-08-22</td>\n",
       "      <td>1000</td>\n",
       "    </tr>\n",
       "    <tr>\n",
       "      <th>4</th>\n",
       "      <td>1000_4</td>\n",
       "      <td>302.56</td>\n",
       "      <td>2018-09-24</td>\n",
       "      <td>1000</td>\n",
       "    </tr>\n",
       "    <tr>\n",
       "      <th>5</th>\n",
       "      <td>1000_5</td>\n",
       "      <td>399.97</td>\n",
       "      <td>2018-10-02</td>\n",
       "      <td>1000</td>\n",
       "    </tr>\n",
       "    <tr>\n",
       "      <th>6</th>\n",
       "      <td>1000_6</td>\n",
       "      <td>540.08</td>\n",
       "      <td>2018-09-07</td>\n",
       "      <td>1000</td>\n",
       "    </tr>\n",
       "    <tr>\n",
       "      <th>7</th>\n",
       "      <td>1000_7</td>\n",
       "      <td>415.70</td>\n",
       "      <td>2018-07-11</td>\n",
       "      <td>1000</td>\n",
       "    </tr>\n",
       "    <tr>\n",
       "      <th>8</th>\n",
       "      <td>1000_8</td>\n",
       "      <td>505.40</td>\n",
       "      <td>2018-10-08</td>\n",
       "      <td>1000</td>\n",
       "    </tr>\n",
       "    <tr>\n",
       "      <th>9</th>\n",
       "      <td>1000_9</td>\n",
       "      <td>345.54</td>\n",
       "      <td>2018-09-03</td>\n",
       "      <td>1000</td>\n",
       "    </tr>\n",
       "  </tbody>\n",
       "</table>\n",
       "</div>"
      ],
      "text/plain": [
       "       id  mb_used session_date  user_id\n",
       "0  1000_0   112.95   2018-11-25     1000\n",
       "1  1000_1  1052.81   2018-09-07     1000\n",
       "2  1000_2  1197.26   2018-06-25     1000\n",
       "3  1000_3   550.27   2018-08-22     1000\n",
       "4  1000_4   302.56   2018-09-24     1000\n",
       "5  1000_5   399.97   2018-10-02     1000\n",
       "6  1000_6   540.08   2018-09-07     1000\n",
       "7  1000_7   415.70   2018-07-11     1000\n",
       "8  1000_8   505.40   2018-10-08     1000\n",
       "9  1000_9   345.54   2018-09-03     1000"
      ]
     },
     "execution_count": 5,
     "metadata": {},
     "output_type": "execute_result"
    }
   ],
   "source": [
    "# printing the head of the DataFrame\n",
    "internet.head(10)"
   ]
  },
  {
   "cell_type": "code",
   "execution_count": 6,
   "metadata": {
    "scrolled": true
   },
   "outputs": [
    {
     "name": "stdout",
     "output_type": "stream",
     "text": [
      "<class 'pandas.core.frame.DataFrame'>\n",
      "Int64Index: 149396 entries, 0 to 149395\n",
      "Data columns (total 4 columns):\n",
      "id              149396 non-null object\n",
      "mb_used         149396 non-null float64\n",
      "session_date    149396 non-null object\n",
      "user_id         149396 non-null int64\n",
      "dtypes: float64(1), int64(1), object(2)\n",
      "memory usage: 5.7+ MB\n"
     ]
    },
    {
     "data": {
      "text/html": [
       "<div>\n",
       "<style scoped>\n",
       "    .dataframe tbody tr th:only-of-type {\n",
       "        vertical-align: middle;\n",
       "    }\n",
       "\n",
       "    .dataframe tbody tr th {\n",
       "        vertical-align: top;\n",
       "    }\n",
       "\n",
       "    .dataframe thead th {\n",
       "        text-align: right;\n",
       "    }\n",
       "</style>\n",
       "<table border=\"1\" class=\"dataframe\">\n",
       "  <thead>\n",
       "    <tr style=\"text-align: right;\">\n",
       "      <th></th>\n",
       "      <th>mb_used</th>\n",
       "      <th>user_id</th>\n",
       "    </tr>\n",
       "  </thead>\n",
       "  <tbody>\n",
       "    <tr>\n",
       "      <th>count</th>\n",
       "      <td>149396.000000</td>\n",
       "      <td>149396.000000</td>\n",
       "    </tr>\n",
       "    <tr>\n",
       "      <th>mean</th>\n",
       "      <td>370.192426</td>\n",
       "      <td>1252.099842</td>\n",
       "    </tr>\n",
       "    <tr>\n",
       "      <th>std</th>\n",
       "      <td>278.300951</td>\n",
       "      <td>144.050823</td>\n",
       "    </tr>\n",
       "    <tr>\n",
       "      <th>min</th>\n",
       "      <td>0.000000</td>\n",
       "      <td>1000.000000</td>\n",
       "    </tr>\n",
       "    <tr>\n",
       "      <th>25%</th>\n",
       "      <td>138.187500</td>\n",
       "      <td>1130.000000</td>\n",
       "    </tr>\n",
       "    <tr>\n",
       "      <th>50%</th>\n",
       "      <td>348.015000</td>\n",
       "      <td>1251.000000</td>\n",
       "    </tr>\n",
       "    <tr>\n",
       "      <th>75%</th>\n",
       "      <td>559.552500</td>\n",
       "      <td>1380.000000</td>\n",
       "    </tr>\n",
       "    <tr>\n",
       "      <th>max</th>\n",
       "      <td>1724.830000</td>\n",
       "      <td>1499.000000</td>\n",
       "    </tr>\n",
       "  </tbody>\n",
       "</table>\n",
       "</div>"
      ],
      "text/plain": [
       "             mb_used        user_id\n",
       "count  149396.000000  149396.000000\n",
       "mean      370.192426    1252.099842\n",
       "std       278.300951     144.050823\n",
       "min         0.000000    1000.000000\n",
       "25%       138.187500    1130.000000\n",
       "50%       348.015000    1251.000000\n",
       "75%       559.552500    1380.000000\n",
       "max      1724.830000    1499.000000"
      ]
     },
     "execution_count": 6,
     "metadata": {},
     "output_type": "execute_result"
    }
   ],
   "source": [
    "# printing information about the DataFrame\n",
    "internet.info()\n",
    "\n",
    "# computing a summary of statistics\n",
    "internet.describe()"
   ]
  },
  {
   "cell_type": "markdown",
   "metadata": {},
   "source": [
    "- Need to convert the session_date column type to datetime."
   ]
  },
  {
   "cell_type": "code",
   "execution_count": 7,
   "metadata": {},
   "outputs": [
    {
     "data": {
      "text/html": [
       "<div>\n",
       "<style scoped>\n",
       "    .dataframe tbody tr th:only-of-type {\n",
       "        vertical-align: middle;\n",
       "    }\n",
       "\n",
       "    .dataframe tbody tr th {\n",
       "        vertical-align: top;\n",
       "    }\n",
       "\n",
       "    .dataframe thead th {\n",
       "        text-align: right;\n",
       "    }\n",
       "</style>\n",
       "<table border=\"1\" class=\"dataframe\">\n",
       "  <thead>\n",
       "    <tr style=\"text-align: right;\">\n",
       "      <th></th>\n",
       "      <th>id</th>\n",
       "      <th>message_date</th>\n",
       "      <th>user_id</th>\n",
       "    </tr>\n",
       "  </thead>\n",
       "  <tbody>\n",
       "    <tr>\n",
       "      <th>0</th>\n",
       "      <td>1000_0</td>\n",
       "      <td>2018-06-27</td>\n",
       "      <td>1000</td>\n",
       "    </tr>\n",
       "    <tr>\n",
       "      <th>1</th>\n",
       "      <td>1000_1</td>\n",
       "      <td>2018-10-08</td>\n",
       "      <td>1000</td>\n",
       "    </tr>\n",
       "    <tr>\n",
       "      <th>2</th>\n",
       "      <td>1000_2</td>\n",
       "      <td>2018-08-04</td>\n",
       "      <td>1000</td>\n",
       "    </tr>\n",
       "    <tr>\n",
       "      <th>3</th>\n",
       "      <td>1000_3</td>\n",
       "      <td>2018-06-16</td>\n",
       "      <td>1000</td>\n",
       "    </tr>\n",
       "    <tr>\n",
       "      <th>4</th>\n",
       "      <td>1000_4</td>\n",
       "      <td>2018-12-05</td>\n",
       "      <td>1000</td>\n",
       "    </tr>\n",
       "    <tr>\n",
       "      <th>5</th>\n",
       "      <td>1000_5</td>\n",
       "      <td>2018-06-20</td>\n",
       "      <td>1000</td>\n",
       "    </tr>\n",
       "    <tr>\n",
       "      <th>6</th>\n",
       "      <td>1000_6</td>\n",
       "      <td>2018-11-19</td>\n",
       "      <td>1000</td>\n",
       "    </tr>\n",
       "    <tr>\n",
       "      <th>7</th>\n",
       "      <td>1000_7</td>\n",
       "      <td>2018-10-29</td>\n",
       "      <td>1000</td>\n",
       "    </tr>\n",
       "    <tr>\n",
       "      <th>8</th>\n",
       "      <td>1000_8</td>\n",
       "      <td>2018-06-25</td>\n",
       "      <td>1000</td>\n",
       "    </tr>\n",
       "    <tr>\n",
       "      <th>9</th>\n",
       "      <td>1000_9</td>\n",
       "      <td>2018-12-18</td>\n",
       "      <td>1000</td>\n",
       "    </tr>\n",
       "  </tbody>\n",
       "</table>\n",
       "</div>"
      ],
      "text/plain": [
       "       id message_date  user_id\n",
       "0  1000_0   2018-06-27     1000\n",
       "1  1000_1   2018-10-08     1000\n",
       "2  1000_2   2018-08-04     1000\n",
       "3  1000_3   2018-06-16     1000\n",
       "4  1000_4   2018-12-05     1000\n",
       "5  1000_5   2018-06-20     1000\n",
       "6  1000_6   2018-11-19     1000\n",
       "7  1000_7   2018-10-29     1000\n",
       "8  1000_8   2018-06-25     1000\n",
       "9  1000_9   2018-12-18     1000"
      ]
     },
     "execution_count": 7,
     "metadata": {},
     "output_type": "execute_result"
    }
   ],
   "source": [
    "# printing the head of the DataFrame\n",
    "messages.head(10)"
   ]
  },
  {
   "cell_type": "code",
   "execution_count": 8,
   "metadata": {
    "scrolled": true
   },
   "outputs": [
    {
     "name": "stdout",
     "output_type": "stream",
     "text": [
      "<class 'pandas.core.frame.DataFrame'>\n",
      "RangeIndex: 123036 entries, 0 to 123035\n",
      "Data columns (total 3 columns):\n",
      "id              123036 non-null object\n",
      "message_date    123036 non-null object\n",
      "user_id         123036 non-null int64\n",
      "dtypes: int64(1), object(2)\n",
      "memory usage: 2.8+ MB\n"
     ]
    },
    {
     "data": {
      "text/html": [
       "<div>\n",
       "<style scoped>\n",
       "    .dataframe tbody tr th:only-of-type {\n",
       "        vertical-align: middle;\n",
       "    }\n",
       "\n",
       "    .dataframe tbody tr th {\n",
       "        vertical-align: top;\n",
       "    }\n",
       "\n",
       "    .dataframe thead th {\n",
       "        text-align: right;\n",
       "    }\n",
       "</style>\n",
       "<table border=\"1\" class=\"dataframe\">\n",
       "  <thead>\n",
       "    <tr style=\"text-align: right;\">\n",
       "      <th></th>\n",
       "      <th>user_id</th>\n",
       "    </tr>\n",
       "  </thead>\n",
       "  <tbody>\n",
       "    <tr>\n",
       "      <th>count</th>\n",
       "      <td>123036.000000</td>\n",
       "    </tr>\n",
       "    <tr>\n",
       "      <th>mean</th>\n",
       "      <td>1256.989410</td>\n",
       "    </tr>\n",
       "    <tr>\n",
       "      <th>std</th>\n",
       "      <td>143.523967</td>\n",
       "    </tr>\n",
       "    <tr>\n",
       "      <th>min</th>\n",
       "      <td>1000.000000</td>\n",
       "    </tr>\n",
       "    <tr>\n",
       "      <th>25%</th>\n",
       "      <td>1134.000000</td>\n",
       "    </tr>\n",
       "    <tr>\n",
       "      <th>50%</th>\n",
       "      <td>1271.000000</td>\n",
       "    </tr>\n",
       "    <tr>\n",
       "      <th>75%</th>\n",
       "      <td>1381.000000</td>\n",
       "    </tr>\n",
       "    <tr>\n",
       "      <th>max</th>\n",
       "      <td>1499.000000</td>\n",
       "    </tr>\n",
       "  </tbody>\n",
       "</table>\n",
       "</div>"
      ],
      "text/plain": [
       "             user_id\n",
       "count  123036.000000\n",
       "mean     1256.989410\n",
       "std       143.523967\n",
       "min      1000.000000\n",
       "25%      1134.000000\n",
       "50%      1271.000000\n",
       "75%      1381.000000\n",
       "max      1499.000000"
      ]
     },
     "execution_count": 8,
     "metadata": {},
     "output_type": "execute_result"
    }
   ],
   "source": [
    "# printing information about the DataFrame\n",
    "messages.info()\n",
    "\n",
    "# computing a summary of statistics\n",
    "messages.describe()"
   ]
  },
  {
   "cell_type": "markdown",
   "metadata": {},
   "source": [
    "- Need to convert the message_date column type to datetime."
   ]
  },
  {
   "cell_type": "code",
   "execution_count": 9,
   "metadata": {},
   "outputs": [
    {
     "data": {
      "text/html": [
       "<div>\n",
       "<style scoped>\n",
       "    .dataframe tbody tr th:only-of-type {\n",
       "        vertical-align: middle;\n",
       "    }\n",
       "\n",
       "    .dataframe tbody tr th {\n",
       "        vertical-align: top;\n",
       "    }\n",
       "\n",
       "    .dataframe thead th {\n",
       "        text-align: right;\n",
       "    }\n",
       "</style>\n",
       "<table border=\"1\" class=\"dataframe\">\n",
       "  <thead>\n",
       "    <tr style=\"text-align: right;\">\n",
       "      <th></th>\n",
       "      <th>messages_included</th>\n",
       "      <th>mb_per_month_included</th>\n",
       "      <th>minutes_included</th>\n",
       "      <th>rub_monthly_fee</th>\n",
       "      <th>rub_per_gb</th>\n",
       "      <th>rub_per_message</th>\n",
       "      <th>rub_per_minute</th>\n",
       "      <th>tariff_name</th>\n",
       "    </tr>\n",
       "  </thead>\n",
       "  <tbody>\n",
       "    <tr>\n",
       "      <th>0</th>\n",
       "      <td>50</td>\n",
       "      <td>15360</td>\n",
       "      <td>500</td>\n",
       "      <td>550</td>\n",
       "      <td>200</td>\n",
       "      <td>3</td>\n",
       "      <td>3</td>\n",
       "      <td>smart</td>\n",
       "    </tr>\n",
       "    <tr>\n",
       "      <th>1</th>\n",
       "      <td>1000</td>\n",
       "      <td>30720</td>\n",
       "      <td>3000</td>\n",
       "      <td>1950</td>\n",
       "      <td>150</td>\n",
       "      <td>1</td>\n",
       "      <td>1</td>\n",
       "      <td>ultra</td>\n",
       "    </tr>\n",
       "  </tbody>\n",
       "</table>\n",
       "</div>"
      ],
      "text/plain": [
       "   messages_included  mb_per_month_included  minutes_included  \\\n",
       "0                 50                  15360               500   \n",
       "1               1000                  30720              3000   \n",
       "\n",
       "   rub_monthly_fee  rub_per_gb  rub_per_message  rub_per_minute tariff_name  \n",
       "0              550         200                3               3       smart  \n",
       "1             1950         150                1               1       ultra  "
      ]
     },
     "execution_count": 9,
     "metadata": {},
     "output_type": "execute_result"
    }
   ],
   "source": [
    "# printing the head of the DataFrame\n",
    "tariffs.head(10)"
   ]
  },
  {
   "cell_type": "code",
   "execution_count": 10,
   "metadata": {
    "scrolled": true
   },
   "outputs": [
    {
     "name": "stdout",
     "output_type": "stream",
     "text": [
      "<class 'pandas.core.frame.DataFrame'>\n",
      "RangeIndex: 2 entries, 0 to 1\n",
      "Data columns (total 8 columns):\n",
      "messages_included        2 non-null int64\n",
      "mb_per_month_included    2 non-null int64\n",
      "minutes_included         2 non-null int64\n",
      "rub_monthly_fee          2 non-null int64\n",
      "rub_per_gb               2 non-null int64\n",
      "rub_per_message          2 non-null int64\n",
      "rub_per_minute           2 non-null int64\n",
      "tariff_name              2 non-null object\n",
      "dtypes: int64(7), object(1)\n",
      "memory usage: 208.0+ bytes\n"
     ]
    },
    {
     "data": {
      "text/html": [
       "<div>\n",
       "<style scoped>\n",
       "    .dataframe tbody tr th:only-of-type {\n",
       "        vertical-align: middle;\n",
       "    }\n",
       "\n",
       "    .dataframe tbody tr th {\n",
       "        vertical-align: top;\n",
       "    }\n",
       "\n",
       "    .dataframe thead th {\n",
       "        text-align: right;\n",
       "    }\n",
       "</style>\n",
       "<table border=\"1\" class=\"dataframe\">\n",
       "  <thead>\n",
       "    <tr style=\"text-align: right;\">\n",
       "      <th></th>\n",
       "      <th>messages_included</th>\n",
       "      <th>mb_per_month_included</th>\n",
       "      <th>minutes_included</th>\n",
       "      <th>rub_monthly_fee</th>\n",
       "      <th>rub_per_gb</th>\n",
       "      <th>rub_per_message</th>\n",
       "      <th>rub_per_minute</th>\n",
       "    </tr>\n",
       "  </thead>\n",
       "  <tbody>\n",
       "    <tr>\n",
       "      <th>count</th>\n",
       "      <td>2.000000</td>\n",
       "      <td>2.000000</td>\n",
       "      <td>2.000000</td>\n",
       "      <td>2.000000</td>\n",
       "      <td>2.000000</td>\n",
       "      <td>2.000000</td>\n",
       "      <td>2.000000</td>\n",
       "    </tr>\n",
       "    <tr>\n",
       "      <th>mean</th>\n",
       "      <td>525.000000</td>\n",
       "      <td>23040.000000</td>\n",
       "      <td>1750.000000</td>\n",
       "      <td>1250.000000</td>\n",
       "      <td>175.000000</td>\n",
       "      <td>2.000000</td>\n",
       "      <td>2.000000</td>\n",
       "    </tr>\n",
       "    <tr>\n",
       "      <th>std</th>\n",
       "      <td>671.751442</td>\n",
       "      <td>10861.160159</td>\n",
       "      <td>1767.766953</td>\n",
       "      <td>989.949494</td>\n",
       "      <td>35.355339</td>\n",
       "      <td>1.414214</td>\n",
       "      <td>1.414214</td>\n",
       "    </tr>\n",
       "    <tr>\n",
       "      <th>min</th>\n",
       "      <td>50.000000</td>\n",
       "      <td>15360.000000</td>\n",
       "      <td>500.000000</td>\n",
       "      <td>550.000000</td>\n",
       "      <td>150.000000</td>\n",
       "      <td>1.000000</td>\n",
       "      <td>1.000000</td>\n",
       "    </tr>\n",
       "    <tr>\n",
       "      <th>25%</th>\n",
       "      <td>287.500000</td>\n",
       "      <td>19200.000000</td>\n",
       "      <td>1125.000000</td>\n",
       "      <td>900.000000</td>\n",
       "      <td>162.500000</td>\n",
       "      <td>1.500000</td>\n",
       "      <td>1.500000</td>\n",
       "    </tr>\n",
       "    <tr>\n",
       "      <th>50%</th>\n",
       "      <td>525.000000</td>\n",
       "      <td>23040.000000</td>\n",
       "      <td>1750.000000</td>\n",
       "      <td>1250.000000</td>\n",
       "      <td>175.000000</td>\n",
       "      <td>2.000000</td>\n",
       "      <td>2.000000</td>\n",
       "    </tr>\n",
       "    <tr>\n",
       "      <th>75%</th>\n",
       "      <td>762.500000</td>\n",
       "      <td>26880.000000</td>\n",
       "      <td>2375.000000</td>\n",
       "      <td>1600.000000</td>\n",
       "      <td>187.500000</td>\n",
       "      <td>2.500000</td>\n",
       "      <td>2.500000</td>\n",
       "    </tr>\n",
       "    <tr>\n",
       "      <th>max</th>\n",
       "      <td>1000.000000</td>\n",
       "      <td>30720.000000</td>\n",
       "      <td>3000.000000</td>\n",
       "      <td>1950.000000</td>\n",
       "      <td>200.000000</td>\n",
       "      <td>3.000000</td>\n",
       "      <td>3.000000</td>\n",
       "    </tr>\n",
       "  </tbody>\n",
       "</table>\n",
       "</div>"
      ],
      "text/plain": [
       "       messages_included  mb_per_month_included  minutes_included  \\\n",
       "count           2.000000               2.000000          2.000000   \n",
       "mean          525.000000           23040.000000       1750.000000   \n",
       "std           671.751442           10861.160159       1767.766953   \n",
       "min            50.000000           15360.000000        500.000000   \n",
       "25%           287.500000           19200.000000       1125.000000   \n",
       "50%           525.000000           23040.000000       1750.000000   \n",
       "75%           762.500000           26880.000000       2375.000000   \n",
       "max          1000.000000           30720.000000       3000.000000   \n",
       "\n",
       "       rub_monthly_fee  rub_per_gb  rub_per_message  rub_per_minute  \n",
       "count         2.000000    2.000000         2.000000        2.000000  \n",
       "mean       1250.000000  175.000000         2.000000        2.000000  \n",
       "std         989.949494   35.355339         1.414214        1.414214  \n",
       "min         550.000000  150.000000         1.000000        1.000000  \n",
       "25%         900.000000  162.500000         1.500000        1.500000  \n",
       "50%        1250.000000  175.000000         2.000000        2.000000  \n",
       "75%        1600.000000  187.500000         2.500000        2.500000  \n",
       "max        1950.000000  200.000000         3.000000        3.000000  "
      ]
     },
     "execution_count": 10,
     "metadata": {},
     "output_type": "execute_result"
    }
   ],
   "source": [
    "# printing information about the DataFrame\n",
    "tariffs.info()\n",
    "\n",
    "# computing a summary of statistics\n",
    "tariffs.describe()"
   ]
  },
  {
   "cell_type": "markdown",
   "metadata": {},
   "source": [
    "- Looks good."
   ]
  },
  {
   "cell_type": "code",
   "execution_count": 11,
   "metadata": {},
   "outputs": [
    {
     "data": {
      "text/html": [
       "<div>\n",
       "<style scoped>\n",
       "    .dataframe tbody tr th:only-of-type {\n",
       "        vertical-align: middle;\n",
       "    }\n",
       "\n",
       "    .dataframe tbody tr th {\n",
       "        vertical-align: top;\n",
       "    }\n",
       "\n",
       "    .dataframe thead th {\n",
       "        text-align: right;\n",
       "    }\n",
       "</style>\n",
       "<table border=\"1\" class=\"dataframe\">\n",
       "  <thead>\n",
       "    <tr style=\"text-align: right;\">\n",
       "      <th></th>\n",
       "      <th>user_id</th>\n",
       "      <th>age</th>\n",
       "      <th>churn_date</th>\n",
       "      <th>city</th>\n",
       "      <th>first_name</th>\n",
       "      <th>last_name</th>\n",
       "      <th>reg_date</th>\n",
       "      <th>tariff</th>\n",
       "    </tr>\n",
       "  </thead>\n",
       "  <tbody>\n",
       "    <tr>\n",
       "      <th>0</th>\n",
       "      <td>1000</td>\n",
       "      <td>52</td>\n",
       "      <td>NaN</td>\n",
       "      <td>Краснодар</td>\n",
       "      <td>Рафаил</td>\n",
       "      <td>Верещагин</td>\n",
       "      <td>2018-05-25</td>\n",
       "      <td>ultra</td>\n",
       "    </tr>\n",
       "    <tr>\n",
       "      <th>1</th>\n",
       "      <td>1001</td>\n",
       "      <td>41</td>\n",
       "      <td>NaN</td>\n",
       "      <td>Москва</td>\n",
       "      <td>Иван</td>\n",
       "      <td>Ежов</td>\n",
       "      <td>2018-11-01</td>\n",
       "      <td>smart</td>\n",
       "    </tr>\n",
       "    <tr>\n",
       "      <th>2</th>\n",
       "      <td>1002</td>\n",
       "      <td>59</td>\n",
       "      <td>NaN</td>\n",
       "      <td>Стерлитамак</td>\n",
       "      <td>Евгений</td>\n",
       "      <td>Абрамович</td>\n",
       "      <td>2018-06-17</td>\n",
       "      <td>smart</td>\n",
       "    </tr>\n",
       "    <tr>\n",
       "      <th>3</th>\n",
       "      <td>1003</td>\n",
       "      <td>23</td>\n",
       "      <td>NaN</td>\n",
       "      <td>Москва</td>\n",
       "      <td>Белла</td>\n",
       "      <td>Белякова</td>\n",
       "      <td>2018-08-17</td>\n",
       "      <td>ultra</td>\n",
       "    </tr>\n",
       "    <tr>\n",
       "      <th>4</th>\n",
       "      <td>1004</td>\n",
       "      <td>68</td>\n",
       "      <td>NaN</td>\n",
       "      <td>Новокузнецк</td>\n",
       "      <td>Татьяна</td>\n",
       "      <td>Авдеенко</td>\n",
       "      <td>2018-05-14</td>\n",
       "      <td>ultra</td>\n",
       "    </tr>\n",
       "    <tr>\n",
       "      <th>5</th>\n",
       "      <td>1005</td>\n",
       "      <td>67</td>\n",
       "      <td>NaN</td>\n",
       "      <td>Набережные Челны</td>\n",
       "      <td>Афанасий</td>\n",
       "      <td>Горлов</td>\n",
       "      <td>2018-01-25</td>\n",
       "      <td>smart</td>\n",
       "    </tr>\n",
       "    <tr>\n",
       "      <th>6</th>\n",
       "      <td>1006</td>\n",
       "      <td>21</td>\n",
       "      <td>NaN</td>\n",
       "      <td>Ульяновск</td>\n",
       "      <td>Леонид</td>\n",
       "      <td>Ермолаев</td>\n",
       "      <td>2018-02-26</td>\n",
       "      <td>smart</td>\n",
       "    </tr>\n",
       "    <tr>\n",
       "      <th>7</th>\n",
       "      <td>1007</td>\n",
       "      <td>65</td>\n",
       "      <td>NaN</td>\n",
       "      <td>Москва</td>\n",
       "      <td>Юна</td>\n",
       "      <td>Березина</td>\n",
       "      <td>2018-04-19</td>\n",
       "      <td>smart</td>\n",
       "    </tr>\n",
       "    <tr>\n",
       "      <th>8</th>\n",
       "      <td>1008</td>\n",
       "      <td>63</td>\n",
       "      <td>NaN</td>\n",
       "      <td>Челябинск</td>\n",
       "      <td>Рустэм</td>\n",
       "      <td>Пономарёв</td>\n",
       "      <td>2018-12-19</td>\n",
       "      <td>smart</td>\n",
       "    </tr>\n",
       "    <tr>\n",
       "      <th>9</th>\n",
       "      <td>1009</td>\n",
       "      <td>24</td>\n",
       "      <td>NaN</td>\n",
       "      <td>Пермь</td>\n",
       "      <td>Василиса</td>\n",
       "      <td>Блинова</td>\n",
       "      <td>2018-03-22</td>\n",
       "      <td>smart</td>\n",
       "    </tr>\n",
       "  </tbody>\n",
       "</table>\n",
       "</div>"
      ],
      "text/plain": [
       "   user_id  age churn_date              city first_name  last_name  \\\n",
       "0     1000   52        NaN         Краснодар     Рафаил  Верещагин   \n",
       "1     1001   41        NaN            Москва       Иван       Ежов   \n",
       "2     1002   59        NaN       Стерлитамак    Евгений  Абрамович   \n",
       "3     1003   23        NaN            Москва      Белла   Белякова   \n",
       "4     1004   68        NaN       Новокузнецк    Татьяна   Авдеенко   \n",
       "5     1005   67        NaN  Набережные Челны   Афанасий     Горлов   \n",
       "6     1006   21        NaN         Ульяновск     Леонид   Ермолаев   \n",
       "7     1007   65        NaN            Москва        Юна   Березина   \n",
       "8     1008   63        NaN         Челябинск     Рустэм  Пономарёв   \n",
       "9     1009   24        NaN             Пермь   Василиса    Блинова   \n",
       "\n",
       "     reg_date tariff  \n",
       "0  2018-05-25  ultra  \n",
       "1  2018-11-01  smart  \n",
       "2  2018-06-17  smart  \n",
       "3  2018-08-17  ultra  \n",
       "4  2018-05-14  ultra  \n",
       "5  2018-01-25  smart  \n",
       "6  2018-02-26  smart  \n",
       "7  2018-04-19  smart  \n",
       "8  2018-12-19  smart  \n",
       "9  2018-03-22  smart  "
      ]
     },
     "execution_count": 11,
     "metadata": {},
     "output_type": "execute_result"
    }
   ],
   "source": [
    "# printing the head of the DataFrame\n",
    "users.head(10)"
   ]
  },
  {
   "cell_type": "code",
   "execution_count": 12,
   "metadata": {},
   "outputs": [
    {
     "name": "stdout",
     "output_type": "stream",
     "text": [
      "<class 'pandas.core.frame.DataFrame'>\n",
      "RangeIndex: 500 entries, 0 to 499\n",
      "Data columns (total 8 columns):\n",
      "user_id       500 non-null int64\n",
      "age           500 non-null int64\n",
      "churn_date    38 non-null object\n",
      "city          500 non-null object\n",
      "first_name    500 non-null object\n",
      "last_name     500 non-null object\n",
      "reg_date      500 non-null object\n",
      "tariff        500 non-null object\n",
      "dtypes: int64(2), object(6)\n",
      "memory usage: 31.3+ KB\n"
     ]
    },
    {
     "data": {
      "text/html": [
       "<div>\n",
       "<style scoped>\n",
       "    .dataframe tbody tr th:only-of-type {\n",
       "        vertical-align: middle;\n",
       "    }\n",
       "\n",
       "    .dataframe tbody tr th {\n",
       "        vertical-align: top;\n",
       "    }\n",
       "\n",
       "    .dataframe thead th {\n",
       "        text-align: right;\n",
       "    }\n",
       "</style>\n",
       "<table border=\"1\" class=\"dataframe\">\n",
       "  <thead>\n",
       "    <tr style=\"text-align: right;\">\n",
       "      <th></th>\n",
       "      <th>user_id</th>\n",
       "      <th>age</th>\n",
       "    </tr>\n",
       "  </thead>\n",
       "  <tbody>\n",
       "    <tr>\n",
       "      <th>count</th>\n",
       "      <td>500.000000</td>\n",
       "      <td>500.00000</td>\n",
       "    </tr>\n",
       "    <tr>\n",
       "      <th>mean</th>\n",
       "      <td>1249.500000</td>\n",
       "      <td>46.58800</td>\n",
       "    </tr>\n",
       "    <tr>\n",
       "      <th>std</th>\n",
       "      <td>144.481833</td>\n",
       "      <td>16.66763</td>\n",
       "    </tr>\n",
       "    <tr>\n",
       "      <th>min</th>\n",
       "      <td>1000.000000</td>\n",
       "      <td>18.00000</td>\n",
       "    </tr>\n",
       "    <tr>\n",
       "      <th>25%</th>\n",
       "      <td>1124.750000</td>\n",
       "      <td>32.00000</td>\n",
       "    </tr>\n",
       "    <tr>\n",
       "      <th>50%</th>\n",
       "      <td>1249.500000</td>\n",
       "      <td>46.00000</td>\n",
       "    </tr>\n",
       "    <tr>\n",
       "      <th>75%</th>\n",
       "      <td>1374.250000</td>\n",
       "      <td>62.00000</td>\n",
       "    </tr>\n",
       "    <tr>\n",
       "      <th>max</th>\n",
       "      <td>1499.000000</td>\n",
       "      <td>75.00000</td>\n",
       "    </tr>\n",
       "  </tbody>\n",
       "</table>\n",
       "</div>"
      ],
      "text/plain": [
       "           user_id        age\n",
       "count   500.000000  500.00000\n",
       "mean   1249.500000   46.58800\n",
       "std     144.481833   16.66763\n",
       "min    1000.000000   18.00000\n",
       "25%    1124.750000   32.00000\n",
       "50%    1249.500000   46.00000\n",
       "75%    1374.250000   62.00000\n",
       "max    1499.000000   75.00000"
      ]
     },
     "execution_count": 12,
     "metadata": {},
     "output_type": "execute_result"
    }
   ],
   "source": [
    "# printing information about the DataFrame\n",
    "users.info()\n",
    "\n",
    "# computing a summary of statistics\n",
    "users.describe()"
   ]
  },
  {
   "cell_type": "markdown",
   "metadata": {},
   "source": [
    "- Need to convert the reg_date column type to datetime;\n",
    "- There are missing values in the churn_date column. "
   ]
  },
  {
   "cell_type": "markdown",
   "metadata": {},
   "source": [
    "**Conclusion**\n",
    "\n",
    "- Convert data to datetime in the following tables: `calls` (column `call_date`), `internet` (column `service_date`), `messages` (column `message_date`), `users` (column `reg_date`);\n",
    "- `Churn_date` columns in users table have missing values indicating that the tariff was still in effect. The missing values will probably left as they are."
   ]
  },
  {
   "cell_type": "markdown",
   "metadata": {},
   "source": [
    "## Data preprocessing"
   ]
  },
  {
   "cell_type": "markdown",
   "metadata": {},
   "source": [
    "- Convert the data type to datetime.\n",
    "- Calculate for each user:\n",
    "    - monthly calls made and minutes spent;\n",
    "    - monthly messages sent;\n",
    "    - monthly traffic used;\n",
    "    - monthly revenue from each user."
   ]
  },
  {
   "cell_type": "code",
   "execution_count": 13,
   "metadata": {},
   "outputs": [],
   "source": [
    "# converting the data type to datetime\n",
    "calls['call_date'] = pd.to_datetime(calls['call_date'], format = '%Y-%m-%dT%H:%M:%S')\n",
    "internet['session_date'] = pd.to_datetime(internet['session_date'], format = '%Y-%m-%dT%H:%M:%S')\n",
    "messages['message_date'] = pd.to_datetime(messages['message_date'], format = '%Y-%m-%dT%H:%M:%S')\n",
    "users['reg_date'] = pd.to_datetime(users['reg_date'], format = '%Y-%m-%dT%H:%M:%S')"
   ]
  },
  {
   "cell_type": "code",
   "execution_count": 14,
   "metadata": {},
   "outputs": [],
   "source": [
    "# rounding up calls duration\n",
    "calls['duration'] = np.ceil(calls['duration'])"
   ]
  },
  {
   "cell_type": "code",
   "execution_count": 15,
   "metadata": {},
   "outputs": [],
   "source": [
    "# adding a \"month\" column to each table\n",
    "calls['month'] = calls['call_date'].astype('datetime64[M]')\n",
    "internet['month'] = internet['session_date'].astype('datetime64[M]')\n",
    "messages['month'] = messages['message_date'].astype('datetime64[M]')\n",
    "users['month'] = users['reg_date'].astype('datetime64[M]')"
   ]
  },
  {
   "cell_type": "markdown",
   "metadata": {},
   "source": [
    "**Monthly calls made and minutes spent**"
   ]
  },
  {
   "cell_type": "code",
   "execution_count": 16,
   "metadata": {},
   "outputs": [
    {
     "data": {
      "text/html": [
       "<div>\n",
       "<style scoped>\n",
       "    .dataframe tbody tr th:only-of-type {\n",
       "        vertical-align: middle;\n",
       "    }\n",
       "\n",
       "    .dataframe tbody tr th {\n",
       "        vertical-align: top;\n",
       "    }\n",
       "\n",
       "    .dataframe thead th {\n",
       "        text-align: right;\n",
       "    }\n",
       "</style>\n",
       "<table border=\"1\" class=\"dataframe\">\n",
       "  <thead>\n",
       "    <tr style=\"text-align: right;\">\n",
       "      <th></th>\n",
       "      <th></th>\n",
       "      <th>calls_count</th>\n",
       "      <th>calls_duration</th>\n",
       "    </tr>\n",
       "    <tr>\n",
       "      <th>user_id</th>\n",
       "      <th>month</th>\n",
       "      <th></th>\n",
       "      <th></th>\n",
       "    </tr>\n",
       "  </thead>\n",
       "  <tbody>\n",
       "    <tr>\n",
       "      <th rowspan=\"5\" valign=\"top\">1000</th>\n",
       "      <th>2018-05-01</th>\n",
       "      <td>22</td>\n",
       "      <td>159.0</td>\n",
       "    </tr>\n",
       "    <tr>\n",
       "      <th>2018-06-01</th>\n",
       "      <td>43</td>\n",
       "      <td>172.0</td>\n",
       "    </tr>\n",
       "    <tr>\n",
       "      <th>2018-07-01</th>\n",
       "      <td>47</td>\n",
       "      <td>340.0</td>\n",
       "    </tr>\n",
       "    <tr>\n",
       "      <th>2018-08-01</th>\n",
       "      <td>52</td>\n",
       "      <td>408.0</td>\n",
       "    </tr>\n",
       "    <tr>\n",
       "      <th>2018-09-01</th>\n",
       "      <td>58</td>\n",
       "      <td>466.0</td>\n",
       "    </tr>\n",
       "  </tbody>\n",
       "</table>\n",
       "</div>"
      ],
      "text/plain": [
       "                    calls_count  calls_duration\n",
       "user_id month                                  \n",
       "1000    2018-05-01           22           159.0\n",
       "        2018-06-01           43           172.0\n",
       "        2018-07-01           47           340.0\n",
       "        2018-08-01           52           408.0\n",
       "        2018-09-01           58           466.0"
      ]
     },
     "execution_count": 16,
     "metadata": {},
     "output_type": "execute_result"
    }
   ],
   "source": [
    "# creating a calls_pivot table using the pivot method\n",
    "# grouping by user_id and month and counting monthly calls made and minutes spent\n",
    "calls_pivot = calls.pivot_table(index = ['user_id', 'month'], aggfunc = {'call_date': 'count', 'duration': 'sum'})\n",
    "\n",
    "# renaming the columns\n",
    "calls_pivot.columns = ['calls_count', 'calls_duration']\n",
    "\n",
    "# displaying\n",
    "calls_pivot.head()"
   ]
  },
  {
   "cell_type": "markdown",
   "metadata": {},
   "source": [
    "**Monthly messages sent**"
   ]
  },
  {
   "cell_type": "code",
   "execution_count": 17,
   "metadata": {},
   "outputs": [
    {
     "data": {
      "text/html": [
       "<div>\n",
       "<style scoped>\n",
       "    .dataframe tbody tr th:only-of-type {\n",
       "        vertical-align: middle;\n",
       "    }\n",
       "\n",
       "    .dataframe tbody tr th {\n",
       "        vertical-align: top;\n",
       "    }\n",
       "\n",
       "    .dataframe thead th {\n",
       "        text-align: right;\n",
       "    }\n",
       "</style>\n",
       "<table border=\"1\" class=\"dataframe\">\n",
       "  <thead>\n",
       "    <tr style=\"text-align: right;\">\n",
       "      <th></th>\n",
       "      <th></th>\n",
       "      <th>messages_count</th>\n",
       "    </tr>\n",
       "    <tr>\n",
       "      <th>user_id</th>\n",
       "      <th>month</th>\n",
       "      <th></th>\n",
       "    </tr>\n",
       "  </thead>\n",
       "  <tbody>\n",
       "    <tr>\n",
       "      <th rowspan=\"8\" valign=\"top\">1000</th>\n",
       "      <th>2018-05-01</th>\n",
       "      <td>22</td>\n",
       "    </tr>\n",
       "    <tr>\n",
       "      <th>2018-06-01</th>\n",
       "      <td>60</td>\n",
       "    </tr>\n",
       "    <tr>\n",
       "      <th>2018-07-01</th>\n",
       "      <td>75</td>\n",
       "    </tr>\n",
       "    <tr>\n",
       "      <th>2018-08-01</th>\n",
       "      <td>81</td>\n",
       "    </tr>\n",
       "    <tr>\n",
       "      <th>2018-09-01</th>\n",
       "      <td>57</td>\n",
       "    </tr>\n",
       "    <tr>\n",
       "      <th>2018-10-01</th>\n",
       "      <td>73</td>\n",
       "    </tr>\n",
       "    <tr>\n",
       "      <th>2018-11-01</th>\n",
       "      <td>58</td>\n",
       "    </tr>\n",
       "    <tr>\n",
       "      <th>2018-12-01</th>\n",
       "      <td>70</td>\n",
       "    </tr>\n",
       "    <tr>\n",
       "      <th rowspan=\"2\" valign=\"top\">1002</th>\n",
       "      <th>2018-06-01</th>\n",
       "      <td>4</td>\n",
       "    </tr>\n",
       "    <tr>\n",
       "      <th>2018-07-01</th>\n",
       "      <td>11</td>\n",
       "    </tr>\n",
       "  </tbody>\n",
       "</table>\n",
       "</div>"
      ],
      "text/plain": [
       "                    messages_count\n",
       "user_id month                     \n",
       "1000    2018-05-01              22\n",
       "        2018-06-01              60\n",
       "        2018-07-01              75\n",
       "        2018-08-01              81\n",
       "        2018-09-01              57\n",
       "        2018-10-01              73\n",
       "        2018-11-01              58\n",
       "        2018-12-01              70\n",
       "1002    2018-06-01               4\n",
       "        2018-07-01              11"
      ]
     },
     "execution_count": 17,
     "metadata": {},
     "output_type": "execute_result"
    }
   ],
   "source": [
    "# creating messages_pivot table using the pivot method \n",
    "# grouping by user_id and month and counting monthly messages sent\n",
    "messages_pivot = messages.pivot_table(index = ['user_id', 'month'], aggfunc = {'id': 'count'})\n",
    "\n",
    "# renaming the column\n",
    "messages_pivot.columns = ['messages_count']\n",
    "\n",
    "# displaying\n",
    "messages_pivot.head(10)"
   ]
  },
  {
   "cell_type": "markdown",
   "metadata": {},
   "source": [
    "**Monthly traffic used**"
   ]
  },
  {
   "cell_type": "code",
   "execution_count": 18,
   "metadata": {
    "scrolled": false
   },
   "outputs": [
    {
     "data": {
      "text/html": [
       "<div>\n",
       "<style scoped>\n",
       "    .dataframe tbody tr th:only-of-type {\n",
       "        vertical-align: middle;\n",
       "    }\n",
       "\n",
       "    .dataframe tbody tr th {\n",
       "        vertical-align: top;\n",
       "    }\n",
       "\n",
       "    .dataframe thead th {\n",
       "        text-align: right;\n",
       "    }\n",
       "</style>\n",
       "<table border=\"1\" class=\"dataframe\">\n",
       "  <thead>\n",
       "    <tr style=\"text-align: right;\">\n",
       "      <th></th>\n",
       "      <th></th>\n",
       "      <th>traffic_volume</th>\n",
       "    </tr>\n",
       "    <tr>\n",
       "      <th>user_id</th>\n",
       "      <th>month</th>\n",
       "      <th></th>\n",
       "    </tr>\n",
       "  </thead>\n",
       "  <tbody>\n",
       "    <tr>\n",
       "      <th rowspan=\"8\" valign=\"top\">1000</th>\n",
       "      <th>2018-05-01</th>\n",
       "      <td>3.0</td>\n",
       "    </tr>\n",
       "    <tr>\n",
       "      <th>2018-06-01</th>\n",
       "      <td>23.0</td>\n",
       "    </tr>\n",
       "    <tr>\n",
       "      <th>2018-07-01</th>\n",
       "      <td>14.0</td>\n",
       "    </tr>\n",
       "    <tr>\n",
       "      <th>2018-08-01</th>\n",
       "      <td>14.0</td>\n",
       "    </tr>\n",
       "    <tr>\n",
       "      <th>2018-09-01</th>\n",
       "      <td>15.0</td>\n",
       "    </tr>\n",
       "    <tr>\n",
       "      <th>2018-10-01</th>\n",
       "      <td>15.0</td>\n",
       "    </tr>\n",
       "    <tr>\n",
       "      <th>2018-11-01</th>\n",
       "      <td>15.0</td>\n",
       "    </tr>\n",
       "    <tr>\n",
       "      <th>2018-12-01</th>\n",
       "      <td>10.0</td>\n",
       "    </tr>\n",
       "    <tr>\n",
       "      <th rowspan=\"2\" valign=\"top\">1001</th>\n",
       "      <th>2018-11-01</th>\n",
       "      <td>18.0</td>\n",
       "    </tr>\n",
       "    <tr>\n",
       "      <th>2018-12-01</th>\n",
       "      <td>14.0</td>\n",
       "    </tr>\n",
       "  </tbody>\n",
       "</table>\n",
       "</div>"
      ],
      "text/plain": [
       "                    traffic_volume\n",
       "user_id month                     \n",
       "1000    2018-05-01             3.0\n",
       "        2018-06-01            23.0\n",
       "        2018-07-01            14.0\n",
       "        2018-08-01            14.0\n",
       "        2018-09-01            15.0\n",
       "        2018-10-01            15.0\n",
       "        2018-11-01            15.0\n",
       "        2018-12-01            10.0\n",
       "1001    2018-11-01            18.0\n",
       "        2018-12-01            14.0"
      ]
     },
     "execution_count": 18,
     "metadata": {},
     "output_type": "execute_result"
    }
   ],
   "source": [
    "# creating an internet_pivot table using the pivot method \n",
    "# grouping by user_id and month and calculating monthly traffic used\n",
    "internet_pivot = internet.pivot_table(index = ['user_id', 'month'], aggfunc = {'mb_used': 'sum'})\n",
    "\n",
    "# renaming the column\n",
    "internet_pivot.columns = ['traffic_volume']\n",
    "\n",
    "# converting traffic from mb to gb\n",
    "internet_pivot['traffic_volume'] = internet_pivot['traffic_volume'] / 1024\n",
    "\n",
    "# rounding up traffic\n",
    "internet_pivot['traffic_volume'] = np.ceil(internet_pivot['traffic_volume'])\n",
    "\n",
    "# displaying\n",
    "internet_pivot.head(10)"
   ]
  },
  {
   "cell_type": "markdown",
   "metadata": {},
   "source": [
    "**Monthly revenue per user**"
   ]
  },
  {
   "cell_type": "code",
   "execution_count": 19,
   "metadata": {},
   "outputs": [],
   "source": [
    "# merging tables calls_pivot, messages_pivot, internet_pivot\n",
    "data_frames = [calls_pivot, messages_pivot, internet_pivot]\n",
    "cmi = reduce(lambda left, right: pd.merge(left, right,on = ['user_id', 'month'], how = 'outer'), data_frames)"
   ]
  },
  {
   "cell_type": "code",
   "execution_count": 20,
   "metadata": {},
   "outputs": [
    {
     "data": {
      "text/html": [
       "<div>\n",
       "<style scoped>\n",
       "    .dataframe tbody tr th:only-of-type {\n",
       "        vertical-align: middle;\n",
       "    }\n",
       "\n",
       "    .dataframe tbody tr th {\n",
       "        vertical-align: top;\n",
       "    }\n",
       "\n",
       "    .dataframe thead th {\n",
       "        text-align: right;\n",
       "    }\n",
       "</style>\n",
       "<table border=\"1\" class=\"dataframe\">\n",
       "  <thead>\n",
       "    <tr style=\"text-align: right;\">\n",
       "      <th></th>\n",
       "      <th>user_id</th>\n",
       "      <th>month</th>\n",
       "      <th>calls_count</th>\n",
       "      <th>calls_duration</th>\n",
       "      <th>messages_count</th>\n",
       "      <th>traffic_volume</th>\n",
       "      <th>age</th>\n",
       "      <th>churn_date</th>\n",
       "      <th>city</th>\n",
       "      <th>first_name</th>\n",
       "      <th>last_name</th>\n",
       "      <th>reg_date</th>\n",
       "      <th>tariff</th>\n",
       "    </tr>\n",
       "  </thead>\n",
       "  <tbody>\n",
       "    <tr>\n",
       "      <th>0</th>\n",
       "      <td>1000</td>\n",
       "      <td>2018-05-01</td>\n",
       "      <td>22.0</td>\n",
       "      <td>159.0</td>\n",
       "      <td>22.0</td>\n",
       "      <td>3.0</td>\n",
       "      <td>52.0</td>\n",
       "      <td>NaN</td>\n",
       "      <td>Краснодар</td>\n",
       "      <td>Рафаил</td>\n",
       "      <td>Верещагин</td>\n",
       "      <td>2018-05-25</td>\n",
       "      <td>ultra</td>\n",
       "    </tr>\n",
       "    <tr>\n",
       "      <th>1</th>\n",
       "      <td>1000</td>\n",
       "      <td>2018-06-01</td>\n",
       "      <td>43.0</td>\n",
       "      <td>172.0</td>\n",
       "      <td>60.0</td>\n",
       "      <td>23.0</td>\n",
       "      <td>NaN</td>\n",
       "      <td>NaN</td>\n",
       "      <td>NaN</td>\n",
       "      <td>NaN</td>\n",
       "      <td>NaN</td>\n",
       "      <td>NaT</td>\n",
       "      <td>NaN</td>\n",
       "    </tr>\n",
       "    <tr>\n",
       "      <th>2</th>\n",
       "      <td>1000</td>\n",
       "      <td>2018-07-01</td>\n",
       "      <td>47.0</td>\n",
       "      <td>340.0</td>\n",
       "      <td>75.0</td>\n",
       "      <td>14.0</td>\n",
       "      <td>NaN</td>\n",
       "      <td>NaN</td>\n",
       "      <td>NaN</td>\n",
       "      <td>NaN</td>\n",
       "      <td>NaN</td>\n",
       "      <td>NaT</td>\n",
       "      <td>NaN</td>\n",
       "    </tr>\n",
       "    <tr>\n",
       "      <th>3</th>\n",
       "      <td>1000</td>\n",
       "      <td>2018-08-01</td>\n",
       "      <td>52.0</td>\n",
       "      <td>408.0</td>\n",
       "      <td>81.0</td>\n",
       "      <td>14.0</td>\n",
       "      <td>NaN</td>\n",
       "      <td>NaN</td>\n",
       "      <td>NaN</td>\n",
       "      <td>NaN</td>\n",
       "      <td>NaN</td>\n",
       "      <td>NaT</td>\n",
       "      <td>NaN</td>\n",
       "    </tr>\n",
       "    <tr>\n",
       "      <th>4</th>\n",
       "      <td>1000</td>\n",
       "      <td>2018-09-01</td>\n",
       "      <td>58.0</td>\n",
       "      <td>466.0</td>\n",
       "      <td>57.0</td>\n",
       "      <td>15.0</td>\n",
       "      <td>NaN</td>\n",
       "      <td>NaN</td>\n",
       "      <td>NaN</td>\n",
       "      <td>NaN</td>\n",
       "      <td>NaN</td>\n",
       "      <td>NaT</td>\n",
       "      <td>NaN</td>\n",
       "    </tr>\n",
       "    <tr>\n",
       "      <th>5</th>\n",
       "      <td>1000</td>\n",
       "      <td>2018-10-01</td>\n",
       "      <td>57.0</td>\n",
       "      <td>350.0</td>\n",
       "      <td>73.0</td>\n",
       "      <td>15.0</td>\n",
       "      <td>NaN</td>\n",
       "      <td>NaN</td>\n",
       "      <td>NaN</td>\n",
       "      <td>NaN</td>\n",
       "      <td>NaN</td>\n",
       "      <td>NaT</td>\n",
       "      <td>NaN</td>\n",
       "    </tr>\n",
       "    <tr>\n",
       "      <th>6</th>\n",
       "      <td>1000</td>\n",
       "      <td>2018-11-01</td>\n",
       "      <td>43.0</td>\n",
       "      <td>338.0</td>\n",
       "      <td>58.0</td>\n",
       "      <td>15.0</td>\n",
       "      <td>NaN</td>\n",
       "      <td>NaN</td>\n",
       "      <td>NaN</td>\n",
       "      <td>NaN</td>\n",
       "      <td>NaN</td>\n",
       "      <td>NaT</td>\n",
       "      <td>NaN</td>\n",
       "    </tr>\n",
       "    <tr>\n",
       "      <th>7</th>\n",
       "      <td>1000</td>\n",
       "      <td>2018-12-01</td>\n",
       "      <td>46.0</td>\n",
       "      <td>333.0</td>\n",
       "      <td>70.0</td>\n",
       "      <td>10.0</td>\n",
       "      <td>NaN</td>\n",
       "      <td>NaN</td>\n",
       "      <td>NaN</td>\n",
       "      <td>NaN</td>\n",
       "      <td>NaN</td>\n",
       "      <td>NaT</td>\n",
       "      <td>NaN</td>\n",
       "    </tr>\n",
       "    <tr>\n",
       "      <th>8</th>\n",
       "      <td>1001</td>\n",
       "      <td>2018-11-01</td>\n",
       "      <td>59.0</td>\n",
       "      <td>430.0</td>\n",
       "      <td>NaN</td>\n",
       "      <td>18.0</td>\n",
       "      <td>41.0</td>\n",
       "      <td>NaN</td>\n",
       "      <td>Москва</td>\n",
       "      <td>Иван</td>\n",
       "      <td>Ежов</td>\n",
       "      <td>2018-11-01</td>\n",
       "      <td>smart</td>\n",
       "    </tr>\n",
       "    <tr>\n",
       "      <th>9</th>\n",
       "      <td>1001</td>\n",
       "      <td>2018-12-01</td>\n",
       "      <td>63.0</td>\n",
       "      <td>414.0</td>\n",
       "      <td>NaN</td>\n",
       "      <td>14.0</td>\n",
       "      <td>NaN</td>\n",
       "      <td>NaN</td>\n",
       "      <td>NaN</td>\n",
       "      <td>NaN</td>\n",
       "      <td>NaN</td>\n",
       "      <td>NaT</td>\n",
       "      <td>NaN</td>\n",
       "    </tr>\n",
       "  </tbody>\n",
       "</table>\n",
       "</div>"
      ],
      "text/plain": [
       "   user_id      month  calls_count  calls_duration  messages_count  \\\n",
       "0     1000 2018-05-01         22.0           159.0            22.0   \n",
       "1     1000 2018-06-01         43.0           172.0            60.0   \n",
       "2     1000 2018-07-01         47.0           340.0            75.0   \n",
       "3     1000 2018-08-01         52.0           408.0            81.0   \n",
       "4     1000 2018-09-01         58.0           466.0            57.0   \n",
       "5     1000 2018-10-01         57.0           350.0            73.0   \n",
       "6     1000 2018-11-01         43.0           338.0            58.0   \n",
       "7     1000 2018-12-01         46.0           333.0            70.0   \n",
       "8     1001 2018-11-01         59.0           430.0             NaN   \n",
       "9     1001 2018-12-01         63.0           414.0             NaN   \n",
       "\n",
       "   traffic_volume   age churn_date       city first_name  last_name  \\\n",
       "0             3.0  52.0        NaN  Краснодар     Рафаил  Верещагин   \n",
       "1            23.0   NaN        NaN        NaN        NaN        NaN   \n",
       "2            14.0   NaN        NaN        NaN        NaN        NaN   \n",
       "3            14.0   NaN        NaN        NaN        NaN        NaN   \n",
       "4            15.0   NaN        NaN        NaN        NaN        NaN   \n",
       "5            15.0   NaN        NaN        NaN        NaN        NaN   \n",
       "6            15.0   NaN        NaN        NaN        NaN        NaN   \n",
       "7            10.0   NaN        NaN        NaN        NaN        NaN   \n",
       "8            18.0  41.0        NaN     Москва       Иван       Ежов   \n",
       "9            14.0   NaN        NaN        NaN        NaN        NaN   \n",
       "\n",
       "    reg_date tariff  \n",
       "0 2018-05-25  ultra  \n",
       "1        NaT    NaN  \n",
       "2        NaT    NaN  \n",
       "3        NaT    NaN  \n",
       "4        NaT    NaN  \n",
       "5        NaT    NaN  \n",
       "6        NaT    NaN  \n",
       "7        NaT    NaN  \n",
       "8 2018-11-01  smart  \n",
       "9        NaT    NaN  "
      ]
     },
     "execution_count": 20,
     "metadata": {},
     "output_type": "execute_result"
    }
   ],
   "source": [
    "# merging users and cmi tables on user_id and month\n",
    "cmiu = cmi.merge(users, on  = ['user_id', 'month'], how='left')\n",
    "cmiu.head(10)"
   ]
  },
  {
   "cell_type": "code",
   "execution_count": 21,
   "metadata": {},
   "outputs": [],
   "source": [
    "# renaming the tariff_name column to tariff in the tariffs table for merging\n",
    "tariffs.columns = [\n",
    "    'messages_included', \n",
    "    'mb_per_month_included', \n",
    "    'minutes_included', \n",
    "    'rub_monthly_fee', \n",
    "    'rub_per_gb', \n",
    "    'rub_per_message', \n",
    "    'rub_per_minute', \n",
    "    'tariff'\n",
    "]"
   ]
  },
  {
   "cell_type": "code",
   "execution_count": 22,
   "metadata": {
    "scrolled": true
   },
   "outputs": [],
   "source": [
    "# merging cmiu and tariffs tables on tariff\n",
    "cmiut = cmiu.merge(tariffs, on='tariff')"
   ]
  },
  {
   "cell_type": "code",
   "execution_count": 23,
   "metadata": {},
   "outputs": [],
   "source": [
    "# adding gb_per_month_included where converting MB to GB\n",
    "cmiut['gb_per_month_included'] = cmiut['mb_per_month_included'] / 1024"
   ]
  },
  {
   "cell_type": "code",
   "execution_count": 24,
   "metadata": {},
   "outputs": [],
   "source": [
    "# making the table easier to navigate by removing useless columns\n",
    "cmiut = cmiut.drop(['churn_date', 'first_name', 'last_name', 'reg_date', 'mb_per_month_included'], axis='columns')"
   ]
  },
  {
   "cell_type": "code",
   "execution_count": 25,
   "metadata": {
    "scrolled": true
   },
   "outputs": [
    {
     "data": {
      "text/plain": [
       "user_id                   0\n",
       "month                     0\n",
       "calls_count               7\n",
       "calls_duration            7\n",
       "messages_count           85\n",
       "traffic_volume            4\n",
       "age                       0\n",
       "city                      0\n",
       "tariff                    0\n",
       "messages_included         0\n",
       "minutes_included          0\n",
       "rub_monthly_fee           0\n",
       "rub_per_gb                0\n",
       "rub_per_message           0\n",
       "rub_per_minute            0\n",
       "gb_per_month_included     0\n",
       "dtype: int64"
      ]
     },
     "execution_count": 25,
     "metadata": {},
     "output_type": "execute_result"
    }
   ],
   "source": [
    "# checking missing values\n",
    "cmiut.isnull().sum()"
   ]
  },
  {
   "cell_type": "markdown",
   "metadata": {},
   "source": [
    "Calls_count, calls_duration, messages_count and traffic_volume have missing values due to the difference in the initial data. If we leave the gaps as they are, further calculations will be affected. If we discard, we will lose a lot of data. Therefore, we replace them with 0. "
   ]
  },
  {
   "cell_type": "code",
   "execution_count": 26,
   "metadata": {},
   "outputs": [],
   "source": [
    "# replacing the missing values with zero\n",
    "cmiut = cmiut.fillna(0)"
   ]
  },
  {
   "cell_type": "code",
   "execution_count": 27,
   "metadata": {},
   "outputs": [
    {
     "data": {
      "text/plain": [
       "user_id                  0\n",
       "month                    0\n",
       "calls_count              0\n",
       "calls_duration           0\n",
       "messages_count           0\n",
       "traffic_volume           0\n",
       "age                      0\n",
       "city                     0\n",
       "tariff                   0\n",
       "messages_included        0\n",
       "minutes_included         0\n",
       "rub_monthly_fee          0\n",
       "rub_per_gb               0\n",
       "rub_per_message          0\n",
       "rub_per_minute           0\n",
       "gb_per_month_included    0\n",
       "dtype: int64"
      ]
     },
     "execution_count": 27,
     "metadata": {},
     "output_type": "execute_result"
    }
   ],
   "source": [
    "# checking the missing values\n",
    "cmiut.isnull().sum()"
   ]
  },
  {
   "cell_type": "code",
   "execution_count": 28,
   "metadata": {},
   "outputs": [],
   "source": [
    "# calculating monthly revenue\n",
    "def total_bill(row):\n",
    "    \n",
    "    # define variables\n",
    "    total_minutes = 0\n",
    "    total_messages = 0\n",
    "    total_traffic = 0\n",
    "    minutes = row['calls_duration']\n",
    "    messages = row['messages_count']\n",
    "    traffic = row['traffic_volume']\n",
    "    tariff_minutes = row['minutes_included']\n",
    "    tariff_messages = row['messages_included']\n",
    "    tariff_traffic = row['gb_per_month_included']\n",
    "    rub_monthly_fee = row['rub_monthly_fee']\n",
    "    rub_per_minute = row['rub_per_minute']\n",
    "    rub_per_message = row['rub_per_message']\n",
    "    rub_per_gb = row['rub_per_gb']\n",
    "\n",
    "# checking the difference between total minutes, messages, traffic used and tariff limits:\n",
    "# if the difference is less than the paid limit, then return zero - the client has not exceeded the paid limit\n",
    "# if the difference is greater than the paid limit - multiply the difference by the cost in excess of the tariff plan\n",
    "\n",
    "    if minutes < tariff_minutes:\n",
    "        total_minutes = 0\n",
    "    if minutes > tariff_minutes:\n",
    "        total_minutes += (minutes - tariff_minutes) * rub_per_minute\n",
    "    if messages < tariff_messages:\n",
    "        total_messages = 0\n",
    "    if messages > tariff_messages:\n",
    "        total_messages += (messages - tariff_messages) * rub_per_message\n",
    "    if traffic < tariff_traffic:\n",
    "        total_traffic = 0\n",
    "    if traffic > tariff_traffic:\n",
    "        total_traffic += (traffic - tariff_traffic) * rub_per_gb\n",
    "    \n",
    "    return total_minutes + total_messages + total_traffic + rub_monthly_fee    "
   ]
  },
  {
   "cell_type": "code",
   "execution_count": 29,
   "metadata": {},
   "outputs": [
    {
     "data": {
      "text/html": [
       "<div>\n",
       "<style scoped>\n",
       "    .dataframe tbody tr th:only-of-type {\n",
       "        vertical-align: middle;\n",
       "    }\n",
       "\n",
       "    .dataframe tbody tr th {\n",
       "        vertical-align: top;\n",
       "    }\n",
       "\n",
       "    .dataframe thead th {\n",
       "        text-align: right;\n",
       "    }\n",
       "</style>\n",
       "<table border=\"1\" class=\"dataframe\">\n",
       "  <thead>\n",
       "    <tr style=\"text-align: right;\">\n",
       "      <th></th>\n",
       "      <th>user_id</th>\n",
       "      <th>month</th>\n",
       "      <th>calls_count</th>\n",
       "      <th>calls_duration</th>\n",
       "      <th>messages_count</th>\n",
       "      <th>traffic_volume</th>\n",
       "      <th>age</th>\n",
       "      <th>city</th>\n",
       "      <th>tariff</th>\n",
       "      <th>messages_included</th>\n",
       "      <th>minutes_included</th>\n",
       "      <th>rub_monthly_fee</th>\n",
       "      <th>rub_per_gb</th>\n",
       "      <th>rub_per_message</th>\n",
       "      <th>rub_per_minute</th>\n",
       "      <th>gb_per_month_included</th>\n",
       "      <th>total_bill</th>\n",
       "    </tr>\n",
       "  </thead>\n",
       "  <tbody>\n",
       "    <tr>\n",
       "      <th>0</th>\n",
       "      <td>1000</td>\n",
       "      <td>2018-05-01</td>\n",
       "      <td>22.0</td>\n",
       "      <td>159.0</td>\n",
       "      <td>22.0</td>\n",
       "      <td>3.0</td>\n",
       "      <td>52.0</td>\n",
       "      <td>Краснодар</td>\n",
       "      <td>ultra</td>\n",
       "      <td>1000</td>\n",
       "      <td>3000</td>\n",
       "      <td>1950</td>\n",
       "      <td>150</td>\n",
       "      <td>1</td>\n",
       "      <td>1</td>\n",
       "      <td>30.0</td>\n",
       "      <td>1950.0</td>\n",
       "    </tr>\n",
       "    <tr>\n",
       "      <th>1</th>\n",
       "      <td>1003</td>\n",
       "      <td>2018-08-01</td>\n",
       "      <td>55.0</td>\n",
       "      <td>380.0</td>\n",
       "      <td>37.0</td>\n",
       "      <td>9.0</td>\n",
       "      <td>23.0</td>\n",
       "      <td>Москва</td>\n",
       "      <td>ultra</td>\n",
       "      <td>1000</td>\n",
       "      <td>3000</td>\n",
       "      <td>1950</td>\n",
       "      <td>150</td>\n",
       "      <td>1</td>\n",
       "      <td>1</td>\n",
       "      <td>30.0</td>\n",
       "      <td>1950.0</td>\n",
       "    </tr>\n",
       "    <tr>\n",
       "      <th>2</th>\n",
       "      <td>1004</td>\n",
       "      <td>2018-05-01</td>\n",
       "      <td>9.0</td>\n",
       "      <td>35.0</td>\n",
       "      <td>95.0</td>\n",
       "      <td>14.0</td>\n",
       "      <td>68.0</td>\n",
       "      <td>Новокузнецк</td>\n",
       "      <td>ultra</td>\n",
       "      <td>1000</td>\n",
       "      <td>3000</td>\n",
       "      <td>1950</td>\n",
       "      <td>150</td>\n",
       "      <td>1</td>\n",
       "      <td>1</td>\n",
       "      <td>30.0</td>\n",
       "      <td>1950.0</td>\n",
       "    </tr>\n",
       "    <tr>\n",
       "      <th>3</th>\n",
       "      <td>1013</td>\n",
       "      <td>2018-11-01</td>\n",
       "      <td>52.0</td>\n",
       "      <td>369.0</td>\n",
       "      <td>17.0</td>\n",
       "      <td>10.0</td>\n",
       "      <td>36.0</td>\n",
       "      <td>Иваново</td>\n",
       "      <td>ultra</td>\n",
       "      <td>1000</td>\n",
       "      <td>3000</td>\n",
       "      <td>1950</td>\n",
       "      <td>150</td>\n",
       "      <td>1</td>\n",
       "      <td>1</td>\n",
       "      <td>30.0</td>\n",
       "      <td>1950.0</td>\n",
       "    </tr>\n",
       "    <tr>\n",
       "      <th>4</th>\n",
       "      <td>1016</td>\n",
       "      <td>2018-11-01</td>\n",
       "      <td>4.0</td>\n",
       "      <td>28.0</td>\n",
       "      <td>39.0</td>\n",
       "      <td>8.0</td>\n",
       "      <td>58.0</td>\n",
       "      <td>Омск</td>\n",
       "      <td>ultra</td>\n",
       "      <td>1000</td>\n",
       "      <td>3000</td>\n",
       "      <td>1950</td>\n",
       "      <td>150</td>\n",
       "      <td>1</td>\n",
       "      <td>1</td>\n",
       "      <td>30.0</td>\n",
       "      <td>1950.0</td>\n",
       "    </tr>\n",
       "    <tr>\n",
       "      <th>5</th>\n",
       "      <td>1018</td>\n",
       "      <td>2018-04-01</td>\n",
       "      <td>85.0</td>\n",
       "      <td>636.0</td>\n",
       "      <td>34.0</td>\n",
       "      <td>6.0</td>\n",
       "      <td>71.0</td>\n",
       "      <td>Уфа</td>\n",
       "      <td>ultra</td>\n",
       "      <td>1000</td>\n",
       "      <td>3000</td>\n",
       "      <td>1950</td>\n",
       "      <td>150</td>\n",
       "      <td>1</td>\n",
       "      <td>1</td>\n",
       "      <td>30.0</td>\n",
       "      <td>1950.0</td>\n",
       "    </tr>\n",
       "    <tr>\n",
       "      <th>6</th>\n",
       "      <td>1019</td>\n",
       "      <td>2018-05-01</td>\n",
       "      <td>37.0</td>\n",
       "      <td>300.0</td>\n",
       "      <td>21.0</td>\n",
       "      <td>11.0</td>\n",
       "      <td>63.0</td>\n",
       "      <td>Томск</td>\n",
       "      <td>ultra</td>\n",
       "      <td>1000</td>\n",
       "      <td>3000</td>\n",
       "      <td>1950</td>\n",
       "      <td>150</td>\n",
       "      <td>1</td>\n",
       "      <td>1</td>\n",
       "      <td>30.0</td>\n",
       "      <td>1950.0</td>\n",
       "    </tr>\n",
       "    <tr>\n",
       "      <th>7</th>\n",
       "      <td>1021</td>\n",
       "      <td>2018-04-01</td>\n",
       "      <td>15.0</td>\n",
       "      <td>90.0</td>\n",
       "      <td>13.0</td>\n",
       "      <td>5.0</td>\n",
       "      <td>61.0</td>\n",
       "      <td>Краснодар</td>\n",
       "      <td>ultra</td>\n",
       "      <td>1000</td>\n",
       "      <td>3000</td>\n",
       "      <td>1950</td>\n",
       "      <td>150</td>\n",
       "      <td>1</td>\n",
       "      <td>1</td>\n",
       "      <td>30.0</td>\n",
       "      <td>1950.0</td>\n",
       "    </tr>\n",
       "    <tr>\n",
       "      <th>8</th>\n",
       "      <td>1024</td>\n",
       "      <td>2018-10-01</td>\n",
       "      <td>7.0</td>\n",
       "      <td>79.0</td>\n",
       "      <td>0.0</td>\n",
       "      <td>4.0</td>\n",
       "      <td>73.0</td>\n",
       "      <td>Санкт-Петербург</td>\n",
       "      <td>ultra</td>\n",
       "      <td>1000</td>\n",
       "      <td>3000</td>\n",
       "      <td>1950</td>\n",
       "      <td>150</td>\n",
       "      <td>1</td>\n",
       "      <td>1</td>\n",
       "      <td>30.0</td>\n",
       "      <td>1950.0</td>\n",
       "    </tr>\n",
       "    <tr>\n",
       "      <th>9</th>\n",
       "      <td>1028</td>\n",
       "      <td>2018-10-01</td>\n",
       "      <td>138.0</td>\n",
       "      <td>954.0</td>\n",
       "      <td>223.0</td>\n",
       "      <td>22.0</td>\n",
       "      <td>20.0</td>\n",
       "      <td>Тверь</td>\n",
       "      <td>ultra</td>\n",
       "      <td>1000</td>\n",
       "      <td>3000</td>\n",
       "      <td>1950</td>\n",
       "      <td>150</td>\n",
       "      <td>1</td>\n",
       "      <td>1</td>\n",
       "      <td>30.0</td>\n",
       "      <td>1950.0</td>\n",
       "    </tr>\n",
       "  </tbody>\n",
       "</table>\n",
       "</div>"
      ],
      "text/plain": [
       "   user_id      month  calls_count  calls_duration  messages_count  \\\n",
       "0     1000 2018-05-01         22.0           159.0            22.0   \n",
       "1     1003 2018-08-01         55.0           380.0            37.0   \n",
       "2     1004 2018-05-01          9.0            35.0            95.0   \n",
       "3     1013 2018-11-01         52.0           369.0            17.0   \n",
       "4     1016 2018-11-01          4.0            28.0            39.0   \n",
       "5     1018 2018-04-01         85.0           636.0            34.0   \n",
       "6     1019 2018-05-01         37.0           300.0            21.0   \n",
       "7     1021 2018-04-01         15.0            90.0            13.0   \n",
       "8     1024 2018-10-01          7.0            79.0             0.0   \n",
       "9     1028 2018-10-01        138.0           954.0           223.0   \n",
       "\n",
       "   traffic_volume   age             city tariff  messages_included  \\\n",
       "0             3.0  52.0        Краснодар  ultra               1000   \n",
       "1             9.0  23.0           Москва  ultra               1000   \n",
       "2            14.0  68.0      Новокузнецк  ultra               1000   \n",
       "3            10.0  36.0          Иваново  ultra               1000   \n",
       "4             8.0  58.0             Омск  ultra               1000   \n",
       "5             6.0  71.0              Уфа  ultra               1000   \n",
       "6            11.0  63.0            Томск  ultra               1000   \n",
       "7             5.0  61.0        Краснодар  ultra               1000   \n",
       "8             4.0  73.0  Санкт-Петербург  ultra               1000   \n",
       "9            22.0  20.0            Тверь  ultra               1000   \n",
       "\n",
       "   minutes_included  rub_monthly_fee  rub_per_gb  rub_per_message  \\\n",
       "0              3000             1950         150                1   \n",
       "1              3000             1950         150                1   \n",
       "2              3000             1950         150                1   \n",
       "3              3000             1950         150                1   \n",
       "4              3000             1950         150                1   \n",
       "5              3000             1950         150                1   \n",
       "6              3000             1950         150                1   \n",
       "7              3000             1950         150                1   \n",
       "8              3000             1950         150                1   \n",
       "9              3000             1950         150                1   \n",
       "\n",
       "   rub_per_minute  gb_per_month_included  total_bill  \n",
       "0               1                   30.0      1950.0  \n",
       "1               1                   30.0      1950.0  \n",
       "2               1                   30.0      1950.0  \n",
       "3               1                   30.0      1950.0  \n",
       "4               1                   30.0      1950.0  \n",
       "5               1                   30.0      1950.0  \n",
       "6               1                   30.0      1950.0  \n",
       "7               1                   30.0      1950.0  \n",
       "8               1                   30.0      1950.0  \n",
       "9               1                   30.0      1950.0  "
      ]
     },
     "execution_count": 29,
     "metadata": {},
     "output_type": "execute_result"
    }
   ],
   "source": [
    "# calculating monthly revenue\n",
    "cmiut['total_bill'] = cmiut.apply(total_bill, axis = 1)\n",
    "cmiut.head(10)"
   ]
  },
  {
   "cell_type": "markdown",
   "metadata": {},
   "source": [
    "**Conclusion**\n",
    "\n",
    "- Changed data types to datetime\n",
    "- Calculated for each user:\n",
    "    - monthly calls made and minutes spent - calls_pivot;\n",
    "    - monthly messages sent - messages_pivot;\n",
    "    - monthly traffic used - internet_pivot;\n",
    "    - monthly revenue from each user - cmiut['total_bill']"
   ]
  },
  {
   "cell_type": "markdown",
   "metadata": {},
   "source": [
    "## Data analysis"
   ]
  },
  {
   "cell_type": "markdown",
   "metadata": {},
   "source": [
    "Describe the users' behavior by calculating:\n",
    "- minutes, messages, and traffic each tariff's users need per month;\n",
    "- mean, variance, standard deviation;\n",
    "- service consumption by user."
   ]
  },
  {
   "cell_type": "markdown",
   "metadata": {},
   "source": [
    "**Calculating minutes, messages, and traffic each tariff's users need per month**"
   ]
  },
  {
   "cell_type": "code",
   "execution_count": 30,
   "metadata": {},
   "outputs": [
    {
     "data": {
      "text/html": [
       "<div>\n",
       "<style scoped>\n",
       "    .dataframe tbody tr th:only-of-type {\n",
       "        vertical-align: middle;\n",
       "    }\n",
       "\n",
       "    .dataframe tbody tr th {\n",
       "        vertical-align: top;\n",
       "    }\n",
       "\n",
       "    .dataframe thead th {\n",
       "        text-align: right;\n",
       "    }\n",
       "</style>\n",
       "<table border=\"1\" class=\"dataframe\">\n",
       "  <thead>\n",
       "    <tr style=\"text-align: right;\">\n",
       "      <th></th>\n",
       "      <th>month</th>\n",
       "      <th>calls_duration</th>\n",
       "      <th>messages_count</th>\n",
       "      <th>traffic_volume</th>\n",
       "    </tr>\n",
       "    <tr>\n",
       "      <th>tariff</th>\n",
       "      <th></th>\n",
       "      <th></th>\n",
       "      <th></th>\n",
       "      <th></th>\n",
       "    </tr>\n",
       "  </thead>\n",
       "  <tbody>\n",
       "    <tr>\n",
       "      <th>smart</th>\n",
       "      <td>2018-01-01</td>\n",
       "      <td>6931.0</td>\n",
       "      <td>620.0</td>\n",
       "      <td>297.0</td>\n",
       "    </tr>\n",
       "    <tr>\n",
       "      <th>smart</th>\n",
       "      <td>2018-02-01</td>\n",
       "      <td>4035.0</td>\n",
       "      <td>312.0</td>\n",
       "      <td>173.0</td>\n",
       "    </tr>\n",
       "    <tr>\n",
       "      <th>smart</th>\n",
       "      <td>2018-03-01</td>\n",
       "      <td>5046.0</td>\n",
       "      <td>400.0</td>\n",
       "      <td>195.0</td>\n",
       "    </tr>\n",
       "    <tr>\n",
       "      <th>smart</th>\n",
       "      <td>2018-04-01</td>\n",
       "      <td>8096.0</td>\n",
       "      <td>739.0</td>\n",
       "      <td>286.0</td>\n",
       "    </tr>\n",
       "    <tr>\n",
       "      <th>smart</th>\n",
       "      <td>2018-05-01</td>\n",
       "      <td>5658.0</td>\n",
       "      <td>514.0</td>\n",
       "      <td>282.0</td>\n",
       "    </tr>\n",
       "    <tr>\n",
       "      <th>smart</th>\n",
       "      <td>2018-06-01</td>\n",
       "      <td>4275.0</td>\n",
       "      <td>314.0</td>\n",
       "      <td>198.0</td>\n",
       "    </tr>\n",
       "    <tr>\n",
       "      <th>smart</th>\n",
       "      <td>2018-07-01</td>\n",
       "      <td>8921.0</td>\n",
       "      <td>671.0</td>\n",
       "      <td>341.0</td>\n",
       "    </tr>\n",
       "    <tr>\n",
       "      <th>smart</th>\n",
       "      <td>2018-08-01</td>\n",
       "      <td>7246.0</td>\n",
       "      <td>577.0</td>\n",
       "      <td>339.0</td>\n",
       "    </tr>\n",
       "    <tr>\n",
       "      <th>smart</th>\n",
       "      <td>2018-09-01</td>\n",
       "      <td>6814.0</td>\n",
       "      <td>549.0</td>\n",
       "      <td>247.0</td>\n",
       "    </tr>\n",
       "    <tr>\n",
       "      <th>smart</th>\n",
       "      <td>2018-10-01</td>\n",
       "      <td>9126.0</td>\n",
       "      <td>627.0</td>\n",
       "      <td>307.0</td>\n",
       "    </tr>\n",
       "    <tr>\n",
       "      <th>smart</th>\n",
       "      <td>2018-11-01</td>\n",
       "      <td>7286.0</td>\n",
       "      <td>617.0</td>\n",
       "      <td>277.0</td>\n",
       "    </tr>\n",
       "    <tr>\n",
       "      <th>smart</th>\n",
       "      <td>2018-12-01</td>\n",
       "      <td>12015.0</td>\n",
       "      <td>827.0</td>\n",
       "      <td>466.0</td>\n",
       "    </tr>\n",
       "    <tr>\n",
       "      <th>ultra</th>\n",
       "      <td>2018-01-01</td>\n",
       "      <td>3853.0</td>\n",
       "      <td>304.0</td>\n",
       "      <td>119.0</td>\n",
       "    </tr>\n",
       "    <tr>\n",
       "      <th>ultra</th>\n",
       "      <td>2018-02-01</td>\n",
       "      <td>1874.0</td>\n",
       "      <td>181.0</td>\n",
       "      <td>121.0</td>\n",
       "    </tr>\n",
       "    <tr>\n",
       "      <th>ultra</th>\n",
       "      <td>2018-03-01</td>\n",
       "      <td>4194.0</td>\n",
       "      <td>146.0</td>\n",
       "      <td>101.0</td>\n",
       "    </tr>\n",
       "    <tr>\n",
       "      <th>ultra</th>\n",
       "      <td>2018-04-01</td>\n",
       "      <td>5277.0</td>\n",
       "      <td>412.0</td>\n",
       "      <td>216.0</td>\n",
       "    </tr>\n",
       "    <tr>\n",
       "      <th>ultra</th>\n",
       "      <td>2018-05-01</td>\n",
       "      <td>2178.0</td>\n",
       "      <td>332.0</td>\n",
       "      <td>110.0</td>\n",
       "    </tr>\n",
       "    <tr>\n",
       "      <th>ultra</th>\n",
       "      <td>2018-06-01</td>\n",
       "      <td>3717.0</td>\n",
       "      <td>501.0</td>\n",
       "      <td>191.0</td>\n",
       "    </tr>\n",
       "    <tr>\n",
       "      <th>ultra</th>\n",
       "      <td>2018-07-01</td>\n",
       "      <td>3018.0</td>\n",
       "      <td>261.0</td>\n",
       "      <td>73.0</td>\n",
       "    </tr>\n",
       "    <tr>\n",
       "      <th>ultra</th>\n",
       "      <td>2018-08-01</td>\n",
       "      <td>3913.0</td>\n",
       "      <td>583.0</td>\n",
       "      <td>122.0</td>\n",
       "    </tr>\n",
       "    <tr>\n",
       "      <th>ultra</th>\n",
       "      <td>2018-09-01</td>\n",
       "      <td>2698.0</td>\n",
       "      <td>238.0</td>\n",
       "      <td>75.0</td>\n",
       "    </tr>\n",
       "    <tr>\n",
       "      <th>ultra</th>\n",
       "      <td>2018-10-01</td>\n",
       "      <td>3575.0</td>\n",
       "      <td>557.0</td>\n",
       "      <td>199.0</td>\n",
       "    </tr>\n",
       "    <tr>\n",
       "      <th>ultra</th>\n",
       "      <td>2018-11-01</td>\n",
       "      <td>5429.0</td>\n",
       "      <td>727.0</td>\n",
       "      <td>192.0</td>\n",
       "    </tr>\n",
       "    <tr>\n",
       "      <th>ultra</th>\n",
       "      <td>2018-12-01</td>\n",
       "      <td>4852.0</td>\n",
       "      <td>474.0</td>\n",
       "      <td>166.0</td>\n",
       "    </tr>\n",
       "  </tbody>\n",
       "</table>\n",
       "</div>"
      ],
      "text/plain": [
       "            month  calls_duration  messages_count  traffic_volume\n",
       "tariff                                                           \n",
       "smart  2018-01-01          6931.0           620.0           297.0\n",
       "smart  2018-02-01          4035.0           312.0           173.0\n",
       "smart  2018-03-01          5046.0           400.0           195.0\n",
       "smart  2018-04-01          8096.0           739.0           286.0\n",
       "smart  2018-05-01          5658.0           514.0           282.0\n",
       "smart  2018-06-01          4275.0           314.0           198.0\n",
       "smart  2018-07-01          8921.0           671.0           341.0\n",
       "smart  2018-08-01          7246.0           577.0           339.0\n",
       "smart  2018-09-01          6814.0           549.0           247.0\n",
       "smart  2018-10-01          9126.0           627.0           307.0\n",
       "smart  2018-11-01          7286.0           617.0           277.0\n",
       "smart  2018-12-01         12015.0           827.0           466.0\n",
       "ultra  2018-01-01          3853.0           304.0           119.0\n",
       "ultra  2018-02-01          1874.0           181.0           121.0\n",
       "ultra  2018-03-01          4194.0           146.0           101.0\n",
       "ultra  2018-04-01          5277.0           412.0           216.0\n",
       "ultra  2018-05-01          2178.0           332.0           110.0\n",
       "ultra  2018-06-01          3717.0           501.0           191.0\n",
       "ultra  2018-07-01          3018.0           261.0            73.0\n",
       "ultra  2018-08-01          3913.0           583.0           122.0\n",
       "ultra  2018-09-01          2698.0           238.0            75.0\n",
       "ultra  2018-10-01          3575.0           557.0           199.0\n",
       "ultra  2018-11-01          5429.0           727.0           192.0\n",
       "ultra  2018-12-01          4852.0           474.0           166.0"
      ]
     },
     "execution_count": 30,
     "metadata": {},
     "output_type": "execute_result"
    }
   ],
   "source": [
    "# calculating monthly minutes, messages, and traffic for all users of each tariff\n",
    "tariff_by_month = cmiut.pivot_table(\n",
    "    index = ['tariff', 'month'], \n",
    "    values = ['calls_duration', 'messages_count', 'traffic_volume'],\n",
    "    aggfunc = 'sum'\n",
    ").reset_index(level='month')\n",
    "\n",
    "tariff_by_month"
   ]
  },
  {
   "cell_type": "code",
   "execution_count": 31,
   "metadata": {},
   "outputs": [
    {
     "data": {
      "image/png": "[encoded data removed]",
      "text/plain": [
       "<Figure size 1152x360 with 2 Axes>"
      ]
     },
     "metadata": {
      "needs_background": "light"
     },
     "output_type": "display_data"
    },
    {
     "data": {
      "image/png": "[encoded data removed]",
      "text/plain": [
       "<Figure size 1152x360 with 2 Axes>"
      ]
     },
     "metadata": {
      "needs_background": "light"
     },
     "output_type": "display_data"
    },
    {
     "data": {
      "image/png": "[encoded data removed]",
      "text/plain": [
       "<Figure size 1152x360 with 2 Axes>"
      ]
     },
     "metadata": {
      "needs_background": "light"
     },
     "output_type": "display_data"
    }
   ],
   "source": [
    "# visualising monthly distribution of minutes, messages, and traffic for each tariff\n",
    "for i in ['calls_duration', 'messages_count', 'traffic_volume']:\n",
    "    fig, axes = plt.subplots(1, 2, figsize=(16, 5))\n",
    "    tariff_by_month[tariff_by_month.index == 'smart'][i].plot(x = 'month', y = [i], kind = 'barh', title = 'smart', ax = axes[0], legend = True)\n",
    "    tariff_by_month[tariff_by_month.index == 'ultra'][i].plot(x = 'month', y = [i], kind = 'barh', title = 'ultra', ax = axes[1], legend = True)"
   ]
  },
  {
   "cell_type": "markdown",
   "metadata": {},
   "source": [
    "On average, all parameters (minutes, messages, and traffic) grow between January and December."
   ]
  },
  {
   "cell_type": "markdown",
   "metadata": {},
   "source": [
    "**Calculating mean, variance, and standard deviation**"
   ]
  },
  {
   "cell_type": "code",
   "execution_count": 32,
   "metadata": {
    "scrolled": true
   },
   "outputs": [
    {
     "data": {
      "text/html": [
       "<div>\n",
       "<style scoped>\n",
       "    .dataframe tbody tr th:only-of-type {\n",
       "        vertical-align: middle;\n",
       "    }\n",
       "\n",
       "    .dataframe tbody tr th {\n",
       "        vertical-align: top;\n",
       "    }\n",
       "\n",
       "    .dataframe thead th {\n",
       "        text-align: right;\n",
       "    }\n",
       "</style>\n",
       "<table border=\"1\" class=\"dataframe\">\n",
       "  <thead>\n",
       "    <tr style=\"text-align: right;\">\n",
       "      <th></th>\n",
       "      <th>calls_duration_mean</th>\n",
       "      <th>messages_count_mean</th>\n",
       "      <th>traffic_volume_mean</th>\n",
       "    </tr>\n",
       "    <tr>\n",
       "      <th>tariff</th>\n",
       "      <th></th>\n",
       "      <th></th>\n",
       "      <th></th>\n",
       "    </tr>\n",
       "  </thead>\n",
       "  <tbody>\n",
       "    <tr>\n",
       "      <th>smart</th>\n",
       "      <td>7120.750000</td>\n",
       "      <td>563.916667</td>\n",
       "      <td>284.000000</td>\n",
       "    </tr>\n",
       "    <tr>\n",
       "      <th>ultra</th>\n",
       "      <td>3714.833333</td>\n",
       "      <td>393.000000</td>\n",
       "      <td>140.416667</td>\n",
       "    </tr>\n",
       "  </tbody>\n",
       "</table>\n",
       "</div>"
      ],
      "text/plain": [
       "        calls_duration_mean  messages_count_mean  traffic_volume_mean\n",
       "tariff                                                               \n",
       "smart           7120.750000           563.916667           284.000000\n",
       "ultra           3714.833333           393.000000           140.416667"
      ]
     },
     "metadata": {},
     "output_type": "display_data"
    },
    {
     "data": {
      "text/html": [
       "<div>\n",
       "<style scoped>\n",
       "    .dataframe tbody tr th:only-of-type {\n",
       "        vertical-align: middle;\n",
       "    }\n",
       "\n",
       "    .dataframe tbody tr th {\n",
       "        vertical-align: top;\n",
       "    }\n",
       "\n",
       "    .dataframe thead th {\n",
       "        text-align: right;\n",
       "    }\n",
       "</style>\n",
       "<table border=\"1\" class=\"dataframe\">\n",
       "  <thead>\n",
       "    <tr style=\"text-align: right;\">\n",
       "      <th></th>\n",
       "      <th>calls_duration_var</th>\n",
       "      <th>messages_count_var</th>\n",
       "      <th>traffic_volume_var</th>\n",
       "    </tr>\n",
       "    <tr>\n",
       "      <th>tariff</th>\n",
       "      <th></th>\n",
       "      <th></th>\n",
       "      <th></th>\n",
       "    </tr>\n",
       "  </thead>\n",
       "  <tbody>\n",
       "    <tr>\n",
       "      <th>smart</th>\n",
       "      <td>5.127654e+06</td>\n",
       "      <td>25177.356061</td>\n",
       "      <td>6287.272727</td>\n",
       "    </tr>\n",
       "    <tr>\n",
       "      <th>ultra</th>\n",
       "      <td>1.295405e+06</td>\n",
       "      <td>32016.545455</td>\n",
       "      <td>2499.719697</td>\n",
       "    </tr>\n",
       "  </tbody>\n",
       "</table>\n",
       "</div>"
      ],
      "text/plain": [
       "        calls_duration_var  messages_count_var  traffic_volume_var\n",
       "tariff                                                            \n",
       "smart         5.127654e+06        25177.356061         6287.272727\n",
       "ultra         1.295405e+06        32016.545455         2499.719697"
      ]
     },
     "metadata": {},
     "output_type": "display_data"
    },
    {
     "data": {
      "text/html": [
       "<div>\n",
       "<style scoped>\n",
       "    .dataframe tbody tr th:only-of-type {\n",
       "        vertical-align: middle;\n",
       "    }\n",
       "\n",
       "    .dataframe tbody tr th {\n",
       "        vertical-align: top;\n",
       "    }\n",
       "\n",
       "    .dataframe thead th {\n",
       "        text-align: right;\n",
       "    }\n",
       "</style>\n",
       "<table border=\"1\" class=\"dataframe\">\n",
       "  <thead>\n",
       "    <tr style=\"text-align: right;\">\n",
       "      <th></th>\n",
       "      <th>calls_duration_std</th>\n",
       "      <th>messages_count_std</th>\n",
       "      <th>traffic_volume_std</th>\n",
       "    </tr>\n",
       "    <tr>\n",
       "      <th>tariff</th>\n",
       "      <th></th>\n",
       "      <th></th>\n",
       "      <th></th>\n",
       "    </tr>\n",
       "  </thead>\n",
       "  <tbody>\n",
       "    <tr>\n",
       "      <th>smart</th>\n",
       "      <td>2264.432304</td>\n",
       "      <td>158.673741</td>\n",
       "      <td>79.292325</td>\n",
       "    </tr>\n",
       "    <tr>\n",
       "      <th>ultra</th>\n",
       "      <td>1138.158388</td>\n",
       "      <td>178.931678</td>\n",
       "      <td>49.997197</td>\n",
       "    </tr>\n",
       "  </tbody>\n",
       "</table>\n",
       "</div>"
      ],
      "text/plain": [
       "        calls_duration_std  messages_count_std  traffic_volume_std\n",
       "tariff                                                            \n",
       "smart          2264.432304          158.673741           79.292325\n",
       "ultra          1138.158388          178.931678           49.997197"
      ]
     },
     "metadata": {},
     "output_type": "display_data"
    }
   ],
   "source": [
    "# creating a loop to calculate mean, variance, and standard deviation\n",
    "for i in range(0, 3):\n",
    "    # functions to apply to values\n",
    "    functions = ['mean', np.var, np.std]\n",
    "    # pivot table names\n",
    "    tables = ['month_sum_mean', 'month_sum_var', 'month_sum_std']\n",
    "    # values\n",
    "    list_of_cols = ['calls_duration', 'messages_count', 'traffic_volume']\n",
    "    # suffix to add to column names\n",
    "    suffix = ['_mean', '_var', '_std']\n",
    "    \n",
    "    # creating a pivot table in which we group by tariff\n",
    "    tables[i] = tariff_by_month.pivot_table(index=['tariff'], values=list_of_cols, aggfunc=functions[i])\n",
    "    # renaming columns\n",
    "    tables[i].columns = ['calls_duration'+suffix[i], 'messages_count'+suffix[i],\\\n",
    "                         'traffic_volume'+suffix[i]]\n",
    "    display(tables[i])"
   ]
  },
  {
   "cell_type": "markdown",
   "metadata": {},
   "source": [
    "Users of smart tariff use the operator's services more than users of ultra tariff.\n",
    "\n",
    "Smart tariff has a greater variance and standard deviation, except for the number of messages parameter."
   ]
  },
  {
   "cell_type": "markdown",
   "metadata": {},
   "source": [
    "**Service consumption by user**"
   ]
  },
  {
   "cell_type": "code",
   "execution_count": 33,
   "metadata": {
    "scrolled": true
   },
   "outputs": [
    {
     "data": {
      "text/html": [
       "<div>\n",
       "<style scoped>\n",
       "    .dataframe tbody tr th:only-of-type {\n",
       "        vertical-align: middle;\n",
       "    }\n",
       "\n",
       "    .dataframe tbody tr th {\n",
       "        vertical-align: top;\n",
       "    }\n",
       "\n",
       "    .dataframe thead th {\n",
       "        text-align: right;\n",
       "    }\n",
       "</style>\n",
       "<table border=\"1\" class=\"dataframe\">\n",
       "  <thead>\n",
       "    <tr style=\"text-align: right;\">\n",
       "      <th></th>\n",
       "      <th>user_id</th>\n",
       "      <th>calls_count</th>\n",
       "      <th>calls_duration</th>\n",
       "      <th>messages_count</th>\n",
       "      <th>total_bill</th>\n",
       "      <th>traffic_volume</th>\n",
       "    </tr>\n",
       "    <tr>\n",
       "      <th>tariff</th>\n",
       "      <th></th>\n",
       "      <th></th>\n",
       "      <th></th>\n",
       "      <th></th>\n",
       "      <th></th>\n",
       "      <th></th>\n",
       "    </tr>\n",
       "  </thead>\n",
       "  <tbody>\n",
       "    <tr>\n",
       "      <th>smart</th>\n",
       "      <td>1001</td>\n",
       "      <td>59.0</td>\n",
       "      <td>430.0</td>\n",
       "      <td>0.0</td>\n",
       "      <td>1150.0</td>\n",
       "      <td>18.0</td>\n",
       "    </tr>\n",
       "    <tr>\n",
       "      <th>smart</th>\n",
       "      <td>1002</td>\n",
       "      <td>15.0</td>\n",
       "      <td>117.0</td>\n",
       "      <td>4.0</td>\n",
       "      <td>550.0</td>\n",
       "      <td>11.0</td>\n",
       "    </tr>\n",
       "    <tr>\n",
       "      <th>smart</th>\n",
       "      <td>1005</td>\n",
       "      <td>15.0</td>\n",
       "      <td>95.0</td>\n",
       "      <td>7.0</td>\n",
       "      <td>550.0</td>\n",
       "      <td>3.0</td>\n",
       "    </tr>\n",
       "    <tr>\n",
       "      <th>smart</th>\n",
       "      <td>1006</td>\n",
       "      <td>3.0</td>\n",
       "      <td>42.0</td>\n",
       "      <td>0.0</td>\n",
       "      <td>550.0</td>\n",
       "      <td>2.0</td>\n",
       "    </tr>\n",
       "    <tr>\n",
       "      <th>smart</th>\n",
       "      <td>1007</td>\n",
       "      <td>25.0</td>\n",
       "      <td>198.0</td>\n",
       "      <td>11.0</td>\n",
       "      <td>550.0</td>\n",
       "      <td>8.0</td>\n",
       "    </tr>\n",
       "    <tr>\n",
       "      <th>smart</th>\n",
       "      <td>1008</td>\n",
       "      <td>52.0</td>\n",
       "      <td>339.0</td>\n",
       "      <td>56.0</td>\n",
       "      <td>568.0</td>\n",
       "      <td>13.0</td>\n",
       "    </tr>\n",
       "    <tr>\n",
       "      <th>smart</th>\n",
       "      <td>1009</td>\n",
       "      <td>13.0</td>\n",
       "      <td>109.0</td>\n",
       "      <td>2.0</td>\n",
       "      <td>550.0</td>\n",
       "      <td>8.0</td>\n",
       "    </tr>\n",
       "    <tr>\n",
       "      <th>smart</th>\n",
       "      <td>1010</td>\n",
       "      <td>19.0</td>\n",
       "      <td>142.0</td>\n",
       "      <td>0.0</td>\n",
       "      <td>550.0</td>\n",
       "      <td>15.0</td>\n",
       "    </tr>\n",
       "    <tr>\n",
       "      <th>smart</th>\n",
       "      <td>1011</td>\n",
       "      <td>23.0</td>\n",
       "      <td>212.0</td>\n",
       "      <td>4.0</td>\n",
       "      <td>550.0</td>\n",
       "      <td>6.0</td>\n",
       "    </tr>\n",
       "    <tr>\n",
       "      <th>smart</th>\n",
       "      <td>1012</td>\n",
       "      <td>5.0</td>\n",
       "      <td>13.0</td>\n",
       "      <td>2.0</td>\n",
       "      <td>550.0</td>\n",
       "      <td>3.0</td>\n",
       "    </tr>\n",
       "    <tr>\n",
       "      <th>smart</th>\n",
       "      <td>1014</td>\n",
       "      <td>18.0</td>\n",
       "      <td>102.0</td>\n",
       "      <td>34.0</td>\n",
       "      <td>550.0</td>\n",
       "      <td>13.0</td>\n",
       "    </tr>\n",
       "    <tr>\n",
       "      <th>smart</th>\n",
       "      <td>1015</td>\n",
       "      <td>2.0</td>\n",
       "      <td>11.0</td>\n",
       "      <td>3.0</td>\n",
       "      <td>550.0</td>\n",
       "      <td>1.0</td>\n",
       "    </tr>\n",
       "    <tr>\n",
       "      <th>smart</th>\n",
       "      <td>1017</td>\n",
       "      <td>19.0</td>\n",
       "      <td>111.0</td>\n",
       "      <td>0.0</td>\n",
       "      <td>550.0</td>\n",
       "      <td>6.0</td>\n",
       "    </tr>\n",
       "    <tr>\n",
       "      <th>smart</th>\n",
       "      <td>1020</td>\n",
       "      <td>38.0</td>\n",
       "      <td>239.0</td>\n",
       "      <td>5.0</td>\n",
       "      <td>550.0</td>\n",
       "      <td>5.0</td>\n",
       "    </tr>\n",
       "    <tr>\n",
       "      <th>smart</th>\n",
       "      <td>1022</td>\n",
       "      <td>36.0</td>\n",
       "      <td>267.0</td>\n",
       "      <td>10.0</td>\n",
       "      <td>750.0</td>\n",
       "      <td>16.0</td>\n",
       "    </tr>\n",
       "    <tr>\n",
       "      <th>smart</th>\n",
       "      <td>1023</td>\n",
       "      <td>22.0</td>\n",
       "      <td>156.0</td>\n",
       "      <td>16.0</td>\n",
       "      <td>550.0</td>\n",
       "      <td>7.0</td>\n",
       "    </tr>\n",
       "    <tr>\n",
       "      <th>smart</th>\n",
       "      <td>1025</td>\n",
       "      <td>45.0</td>\n",
       "      <td>323.0</td>\n",
       "      <td>14.0</td>\n",
       "      <td>550.0</td>\n",
       "      <td>8.0</td>\n",
       "    </tr>\n",
       "    <tr>\n",
       "      <th>smart</th>\n",
       "      <td>1026</td>\n",
       "      <td>72.0</td>\n",
       "      <td>535.0</td>\n",
       "      <td>39.0</td>\n",
       "      <td>655.0</td>\n",
       "      <td>14.0</td>\n",
       "    </tr>\n",
       "    <tr>\n",
       "      <th>smart</th>\n",
       "      <td>1027</td>\n",
       "      <td>46.0</td>\n",
       "      <td>379.0</td>\n",
       "      <td>8.0</td>\n",
       "      <td>550.0</td>\n",
       "      <td>12.0</td>\n",
       "    </tr>\n",
       "    <tr>\n",
       "      <th>smart</th>\n",
       "      <td>1029</td>\n",
       "      <td>57.0</td>\n",
       "      <td>422.0</td>\n",
       "      <td>24.0</td>\n",
       "      <td>550.0</td>\n",
       "      <td>6.0</td>\n",
       "    </tr>\n",
       "    <tr>\n",
       "      <th>smart</th>\n",
       "      <td>1030</td>\n",
       "      <td>20.0</td>\n",
       "      <td>109.0</td>\n",
       "      <td>17.0</td>\n",
       "      <td>550.0</td>\n",
       "      <td>6.0</td>\n",
       "    </tr>\n",
       "    <tr>\n",
       "      <th>smart</th>\n",
       "      <td>1031</td>\n",
       "      <td>86.0</td>\n",
       "      <td>665.0</td>\n",
       "      <td>25.0</td>\n",
       "      <td>1045.0</td>\n",
       "      <td>12.0</td>\n",
       "    </tr>\n",
       "    <tr>\n",
       "      <th>smart</th>\n",
       "      <td>1032</td>\n",
       "      <td>61.0</td>\n",
       "      <td>380.0</td>\n",
       "      <td>38.0</td>\n",
       "      <td>2350.0</td>\n",
       "      <td>24.0</td>\n",
       "    </tr>\n",
       "    <tr>\n",
       "      <th>smart</th>\n",
       "      <td>1033</td>\n",
       "      <td>35.0</td>\n",
       "      <td>311.0</td>\n",
       "      <td>36.0</td>\n",
       "      <td>550.0</td>\n",
       "      <td>12.0</td>\n",
       "    </tr>\n",
       "    <tr>\n",
       "      <th>smart</th>\n",
       "      <td>1034</td>\n",
       "      <td>19.0</td>\n",
       "      <td>170.0</td>\n",
       "      <td>6.0</td>\n",
       "      <td>550.0</td>\n",
       "      <td>3.0</td>\n",
       "    </tr>\n",
       "    <tr>\n",
       "      <th>smart</th>\n",
       "      <td>1035</td>\n",
       "      <td>52.0</td>\n",
       "      <td>398.0</td>\n",
       "      <td>50.0</td>\n",
       "      <td>550.0</td>\n",
       "      <td>13.0</td>\n",
       "    </tr>\n",
       "    <tr>\n",
       "      <th>smart</th>\n",
       "      <td>1036</td>\n",
       "      <td>41.0</td>\n",
       "      <td>285.0</td>\n",
       "      <td>1.0</td>\n",
       "      <td>550.0</td>\n",
       "      <td>9.0</td>\n",
       "    </tr>\n",
       "    <tr>\n",
       "      <th>smart</th>\n",
       "      <td>1037</td>\n",
       "      <td>40.0</td>\n",
       "      <td>304.0</td>\n",
       "      <td>16.0</td>\n",
       "      <td>550.0</td>\n",
       "      <td>11.0</td>\n",
       "    </tr>\n",
       "    <tr>\n",
       "      <th>smart</th>\n",
       "      <td>1038</td>\n",
       "      <td>52.0</td>\n",
       "      <td>342.0</td>\n",
       "      <td>7.0</td>\n",
       "      <td>950.0</td>\n",
       "      <td>17.0</td>\n",
       "    </tr>\n",
       "    <tr>\n",
       "      <th>smart</th>\n",
       "      <td>1040</td>\n",
       "      <td>27.0</td>\n",
       "      <td>207.0</td>\n",
       "      <td>0.0</td>\n",
       "      <td>750.0</td>\n",
       "      <td>16.0</td>\n",
       "    </tr>\n",
       "    <tr>\n",
       "      <th>...</th>\n",
       "      <td>...</td>\n",
       "      <td>...</td>\n",
       "      <td>...</td>\n",
       "      <td>...</td>\n",
       "      <td>...</td>\n",
       "      <td>...</td>\n",
       "    </tr>\n",
       "    <tr>\n",
       "      <th>ultra</th>\n",
       "      <td>1397</td>\n",
       "      <td>33.0</td>\n",
       "      <td>232.0</td>\n",
       "      <td>0.0</td>\n",
       "      <td>1950.0</td>\n",
       "      <td>23.0</td>\n",
       "    </tr>\n",
       "    <tr>\n",
       "      <th>ultra</th>\n",
       "      <td>1399</td>\n",
       "      <td>41.0</td>\n",
       "      <td>282.0</td>\n",
       "      <td>72.0</td>\n",
       "      <td>1950.0</td>\n",
       "      <td>3.0</td>\n",
       "    </tr>\n",
       "    <tr>\n",
       "      <th>ultra</th>\n",
       "      <td>1402</td>\n",
       "      <td>59.0</td>\n",
       "      <td>403.0</td>\n",
       "      <td>27.0</td>\n",
       "      <td>1950.0</td>\n",
       "      <td>19.0</td>\n",
       "    </tr>\n",
       "    <tr>\n",
       "      <th>ultra</th>\n",
       "      <td>1403</td>\n",
       "      <td>3.0</td>\n",
       "      <td>15.0</td>\n",
       "      <td>18.0</td>\n",
       "      <td>1950.0</td>\n",
       "      <td>8.0</td>\n",
       "    </tr>\n",
       "    <tr>\n",
       "      <th>ultra</th>\n",
       "      <td>1405</td>\n",
       "      <td>37.0</td>\n",
       "      <td>332.0</td>\n",
       "      <td>45.0</td>\n",
       "      <td>1950.0</td>\n",
       "      <td>17.0</td>\n",
       "    </tr>\n",
       "    <tr>\n",
       "      <th>ultra</th>\n",
       "      <td>1412</td>\n",
       "      <td>79.0</td>\n",
       "      <td>551.0</td>\n",
       "      <td>39.0</td>\n",
       "      <td>1950.0</td>\n",
       "      <td>25.0</td>\n",
       "    </tr>\n",
       "    <tr>\n",
       "      <th>ultra</th>\n",
       "      <td>1415</td>\n",
       "      <td>7.0</td>\n",
       "      <td>43.0</td>\n",
       "      <td>3.0</td>\n",
       "      <td>1950.0</td>\n",
       "      <td>3.0</td>\n",
       "    </tr>\n",
       "    <tr>\n",
       "      <th>ultra</th>\n",
       "      <td>1416</td>\n",
       "      <td>78.0</td>\n",
       "      <td>540.0</td>\n",
       "      <td>40.0</td>\n",
       "      <td>1950.0</td>\n",
       "      <td>13.0</td>\n",
       "    </tr>\n",
       "    <tr>\n",
       "      <th>ultra</th>\n",
       "      <td>1424</td>\n",
       "      <td>1.0</td>\n",
       "      <td>1.0</td>\n",
       "      <td>31.0</td>\n",
       "      <td>1950.0</td>\n",
       "      <td>10.0</td>\n",
       "    </tr>\n",
       "    <tr>\n",
       "      <th>ultra</th>\n",
       "      <td>1430</td>\n",
       "      <td>11.0</td>\n",
       "      <td>91.0</td>\n",
       "      <td>7.0</td>\n",
       "      <td>1950.0</td>\n",
       "      <td>11.0</td>\n",
       "    </tr>\n",
       "    <tr>\n",
       "      <th>ultra</th>\n",
       "      <td>1436</td>\n",
       "      <td>51.0</td>\n",
       "      <td>314.0</td>\n",
       "      <td>22.0</td>\n",
       "      <td>1950.0</td>\n",
       "      <td>25.0</td>\n",
       "    </tr>\n",
       "    <tr>\n",
       "      <th>ultra</th>\n",
       "      <td>1440</td>\n",
       "      <td>5.0</td>\n",
       "      <td>52.0</td>\n",
       "      <td>17.0</td>\n",
       "      <td>1950.0</td>\n",
       "      <td>4.0</td>\n",
       "    </tr>\n",
       "    <tr>\n",
       "      <th>ultra</th>\n",
       "      <td>1442</td>\n",
       "      <td>9.0</td>\n",
       "      <td>83.0</td>\n",
       "      <td>0.0</td>\n",
       "      <td>1950.0</td>\n",
       "      <td>15.0</td>\n",
       "    </tr>\n",
       "    <tr>\n",
       "      <th>ultra</th>\n",
       "      <td>1452</td>\n",
       "      <td>12.0</td>\n",
       "      <td>60.0</td>\n",
       "      <td>18.0</td>\n",
       "      <td>1950.0</td>\n",
       "      <td>11.0</td>\n",
       "    </tr>\n",
       "    <tr>\n",
       "      <th>ultra</th>\n",
       "      <td>1453</td>\n",
       "      <td>128.0</td>\n",
       "      <td>861.0</td>\n",
       "      <td>50.0</td>\n",
       "      <td>1950.0</td>\n",
       "      <td>19.0</td>\n",
       "    </tr>\n",
       "    <tr>\n",
       "      <th>ultra</th>\n",
       "      <td>1455</td>\n",
       "      <td>15.0</td>\n",
       "      <td>134.0</td>\n",
       "      <td>0.0</td>\n",
       "      <td>1950.0</td>\n",
       "      <td>6.0</td>\n",
       "    </tr>\n",
       "    <tr>\n",
       "      <th>ultra</th>\n",
       "      <td>1458</td>\n",
       "      <td>48.0</td>\n",
       "      <td>317.0</td>\n",
       "      <td>0.0</td>\n",
       "      <td>1950.0</td>\n",
       "      <td>6.0</td>\n",
       "    </tr>\n",
       "    <tr>\n",
       "      <th>ultra</th>\n",
       "      <td>1461</td>\n",
       "      <td>33.0</td>\n",
       "      <td>246.0</td>\n",
       "      <td>24.0</td>\n",
       "      <td>1950.0</td>\n",
       "      <td>10.0</td>\n",
       "    </tr>\n",
       "    <tr>\n",
       "      <th>ultra</th>\n",
       "      <td>1463</td>\n",
       "      <td>41.0</td>\n",
       "      <td>248.0</td>\n",
       "      <td>11.0</td>\n",
       "      <td>1950.0</td>\n",
       "      <td>9.0</td>\n",
       "    </tr>\n",
       "    <tr>\n",
       "      <th>ultra</th>\n",
       "      <td>1466</td>\n",
       "      <td>2.0</td>\n",
       "      <td>16.0</td>\n",
       "      <td>0.0</td>\n",
       "      <td>1950.0</td>\n",
       "      <td>2.0</td>\n",
       "    </tr>\n",
       "    <tr>\n",
       "      <th>ultra</th>\n",
       "      <td>1467</td>\n",
       "      <td>52.0</td>\n",
       "      <td>320.0</td>\n",
       "      <td>15.0</td>\n",
       "      <td>1950.0</td>\n",
       "      <td>3.0</td>\n",
       "    </tr>\n",
       "    <tr>\n",
       "      <th>ultra</th>\n",
       "      <td>1469</td>\n",
       "      <td>102.0</td>\n",
       "      <td>793.0</td>\n",
       "      <td>0.0</td>\n",
       "      <td>1950.0</td>\n",
       "      <td>23.0</td>\n",
       "    </tr>\n",
       "    <tr>\n",
       "      <th>ultra</th>\n",
       "      <td>1471</td>\n",
       "      <td>9.0</td>\n",
       "      <td>76.0</td>\n",
       "      <td>6.0</td>\n",
       "      <td>1950.0</td>\n",
       "      <td>2.0</td>\n",
       "    </tr>\n",
       "    <tr>\n",
       "      <th>ultra</th>\n",
       "      <td>1473</td>\n",
       "      <td>0.0</td>\n",
       "      <td>0.0</td>\n",
       "      <td>17.0</td>\n",
       "      <td>1950.0</td>\n",
       "      <td>13.0</td>\n",
       "    </tr>\n",
       "    <tr>\n",
       "      <th>ultra</th>\n",
       "      <td>1474</td>\n",
       "      <td>88.0</td>\n",
       "      <td>683.0</td>\n",
       "      <td>77.0</td>\n",
       "      <td>1950.0</td>\n",
       "      <td>28.0</td>\n",
       "    </tr>\n",
       "    <tr>\n",
       "      <th>ultra</th>\n",
       "      <td>1476</td>\n",
       "      <td>0.0</td>\n",
       "      <td>0.0</td>\n",
       "      <td>0.0</td>\n",
       "      <td>1950.0</td>\n",
       "      <td>1.0</td>\n",
       "    </tr>\n",
       "    <tr>\n",
       "      <th>ultra</th>\n",
       "      <td>1485</td>\n",
       "      <td>94.0</td>\n",
       "      <td>584.0</td>\n",
       "      <td>155.0</td>\n",
       "      <td>1950.0</td>\n",
       "      <td>23.0</td>\n",
       "    </tr>\n",
       "    <tr>\n",
       "      <th>ultra</th>\n",
       "      <td>1491</td>\n",
       "      <td>17.0</td>\n",
       "      <td>143.0</td>\n",
       "      <td>10.0</td>\n",
       "      <td>1950.0</td>\n",
       "      <td>4.0</td>\n",
       "    </tr>\n",
       "    <tr>\n",
       "      <th>ultra</th>\n",
       "      <td>1493</td>\n",
       "      <td>26.0</td>\n",
       "      <td>173.0</td>\n",
       "      <td>16.0</td>\n",
       "      <td>1950.0</td>\n",
       "      <td>12.0</td>\n",
       "    </tr>\n",
       "    <tr>\n",
       "      <th>ultra</th>\n",
       "      <td>1495</td>\n",
       "      <td>17.0</td>\n",
       "      <td>92.0</td>\n",
       "      <td>13.0</td>\n",
       "      <td>1950.0</td>\n",
       "      <td>3.0</td>\n",
       "    </tr>\n",
       "  </tbody>\n",
       "</table>\n",
       "<p>498 rows × 6 columns</p>\n",
       "</div>"
      ],
      "text/plain": [
       "        user_id  calls_count  calls_duration  messages_count  total_bill  \\\n",
       "tariff                                                                     \n",
       "smart      1001         59.0           430.0             0.0      1150.0   \n",
       "smart      1002         15.0           117.0             4.0       550.0   \n",
       "smart      1005         15.0            95.0             7.0       550.0   \n",
       "smart      1006          3.0            42.0             0.0       550.0   \n",
       "smart      1007         25.0           198.0            11.0       550.0   \n",
       "smart      1008         52.0           339.0            56.0       568.0   \n",
       "smart      1009         13.0           109.0             2.0       550.0   \n",
       "smart      1010         19.0           142.0             0.0       550.0   \n",
       "smart      1011         23.0           212.0             4.0       550.0   \n",
       "smart      1012          5.0            13.0             2.0       550.0   \n",
       "smart      1014         18.0           102.0            34.0       550.0   \n",
       "smart      1015          2.0            11.0             3.0       550.0   \n",
       "smart      1017         19.0           111.0             0.0       550.0   \n",
       "smart      1020         38.0           239.0             5.0       550.0   \n",
       "smart      1022         36.0           267.0            10.0       750.0   \n",
       "smart      1023         22.0           156.0            16.0       550.0   \n",
       "smart      1025         45.0           323.0            14.0       550.0   \n",
       "smart      1026         72.0           535.0            39.0       655.0   \n",
       "smart      1027         46.0           379.0             8.0       550.0   \n",
       "smart      1029         57.0           422.0            24.0       550.0   \n",
       "smart      1030         20.0           109.0            17.0       550.0   \n",
       "smart      1031         86.0           665.0            25.0      1045.0   \n",
       "smart      1032         61.0           380.0            38.0      2350.0   \n",
       "smart      1033         35.0           311.0            36.0       550.0   \n",
       "smart      1034         19.0           170.0             6.0       550.0   \n",
       "smart      1035         52.0           398.0            50.0       550.0   \n",
       "smart      1036         41.0           285.0             1.0       550.0   \n",
       "smart      1037         40.0           304.0            16.0       550.0   \n",
       "smart      1038         52.0           342.0             7.0       950.0   \n",
       "smart      1040         27.0           207.0             0.0       750.0   \n",
       "...         ...          ...             ...             ...         ...   \n",
       "ultra      1397         33.0           232.0             0.0      1950.0   \n",
       "ultra      1399         41.0           282.0            72.0      1950.0   \n",
       "ultra      1402         59.0           403.0            27.0      1950.0   \n",
       "ultra      1403          3.0            15.0            18.0      1950.0   \n",
       "ultra      1405         37.0           332.0            45.0      1950.0   \n",
       "ultra      1412         79.0           551.0            39.0      1950.0   \n",
       "ultra      1415          7.0            43.0             3.0      1950.0   \n",
       "ultra      1416         78.0           540.0            40.0      1950.0   \n",
       "ultra      1424          1.0             1.0            31.0      1950.0   \n",
       "ultra      1430         11.0            91.0             7.0      1950.0   \n",
       "ultra      1436         51.0           314.0            22.0      1950.0   \n",
       "ultra      1440          5.0            52.0            17.0      1950.0   \n",
       "ultra      1442          9.0            83.0             0.0      1950.0   \n",
       "ultra      1452         12.0            60.0            18.0      1950.0   \n",
       "ultra      1453        128.0           861.0            50.0      1950.0   \n",
       "ultra      1455         15.0           134.0             0.0      1950.0   \n",
       "ultra      1458         48.0           317.0             0.0      1950.0   \n",
       "ultra      1461         33.0           246.0            24.0      1950.0   \n",
       "ultra      1463         41.0           248.0            11.0      1950.0   \n",
       "ultra      1466          2.0            16.0             0.0      1950.0   \n",
       "ultra      1467         52.0           320.0            15.0      1950.0   \n",
       "ultra      1469        102.0           793.0             0.0      1950.0   \n",
       "ultra      1471          9.0            76.0             6.0      1950.0   \n",
       "ultra      1473          0.0             0.0            17.0      1950.0   \n",
       "ultra      1474         88.0           683.0            77.0      1950.0   \n",
       "ultra      1476          0.0             0.0             0.0      1950.0   \n",
       "ultra      1485         94.0           584.0           155.0      1950.0   \n",
       "ultra      1491         17.0           143.0            10.0      1950.0   \n",
       "ultra      1493         26.0           173.0            16.0      1950.0   \n",
       "ultra      1495         17.0            92.0            13.0      1950.0   \n",
       "\n",
       "        traffic_volume  \n",
       "tariff                  \n",
       "smart             18.0  \n",
       "smart             11.0  \n",
       "smart              3.0  \n",
       "smart              2.0  \n",
       "smart              8.0  \n",
       "smart             13.0  \n",
       "smart              8.0  \n",
       "smart             15.0  \n",
       "smart              6.0  \n",
       "smart              3.0  \n",
       "smart             13.0  \n",
       "smart              1.0  \n",
       "smart              6.0  \n",
       "smart              5.0  \n",
       "smart             16.0  \n",
       "smart              7.0  \n",
       "smart              8.0  \n",
       "smart             14.0  \n",
       "smart             12.0  \n",
       "smart              6.0  \n",
       "smart              6.0  \n",
       "smart             12.0  \n",
       "smart             24.0  \n",
       "smart             12.0  \n",
       "smart              3.0  \n",
       "smart             13.0  \n",
       "smart              9.0  \n",
       "smart             11.0  \n",
       "smart             17.0  \n",
       "smart             16.0  \n",
       "...                ...  \n",
       "ultra             23.0  \n",
       "ultra              3.0  \n",
       "ultra             19.0  \n",
       "ultra              8.0  \n",
       "ultra             17.0  \n",
       "ultra             25.0  \n",
       "ultra              3.0  \n",
       "ultra             13.0  \n",
       "ultra             10.0  \n",
       "ultra             11.0  \n",
       "ultra             25.0  \n",
       "ultra              4.0  \n",
       "ultra             15.0  \n",
       "ultra             11.0  \n",
       "ultra             19.0  \n",
       "ultra              6.0  \n",
       "ultra              6.0  \n",
       "ultra             10.0  \n",
       "ultra              9.0  \n",
       "ultra              2.0  \n",
       "ultra              3.0  \n",
       "ultra             23.0  \n",
       "ultra              2.0  \n",
       "ultra             13.0  \n",
       "ultra             28.0  \n",
       "ultra              1.0  \n",
       "ultra             23.0  \n",
       "ultra              4.0  \n",
       "ultra             12.0  \n",
       "ultra              3.0  \n",
       "\n",
       "[498 rows x 6 columns]"
      ]
     },
     "execution_count": 33,
     "metadata": {},
     "output_type": "execute_result"
    }
   ],
   "source": [
    "# grouping data by tariff and users\n",
    "cmiut_by_tariff = (cmiut\n",
    "        .pivot_table(\n",
    "            index=['tariff', 'user_id'], \n",
    "            values=['calls_count', \n",
    "                    'calls_duration', \n",
    "                    'messages_count', \n",
    "                    'traffic_volume', \n",
    "                    'total_bill'\n",
    "                   ], \n",
    "            aggfunc = sum)).reset_index(level='user_id')\n",
    "\n",
    "cmiut_by_tariff"
   ]
  },
  {
   "cell_type": "code",
   "execution_count": 34,
   "metadata": {},
   "outputs": [
    {
     "data": {
      "image/png": "[encoded data removed]",
      "text/plain": [
       "<Figure size 1080x360 with 2 Axes>"
      ]
     },
     "metadata": {
      "needs_background": "light"
     },
     "output_type": "display_data"
    },
    {
     "data": {
      "image/png": "[encoded data removed]",
      "text/plain": [
       "<Figure size 1080x360 with 2 Axes>"
      ]
     },
     "metadata": {
      "needs_background": "light"
     },
     "output_type": "display_data"
    },
    {
     "data": {
      "image/png": "[encoded data removed]",
      "text/plain": [
       "<Figure size 1080x360 with 2 Axes>"
      ]
     },
     "metadata": {
      "needs_background": "light"
     },
     "output_type": "display_data"
    },
    {
     "data": {
      "image/png": "[encoded data removed]",
      "text/plain": [
       "<Figure size 1080x360 with 2 Axes>"
      ]
     },
     "metadata": {
      "needs_background": "light"
     },
     "output_type": "display_data"
    },
    {
     "data": {
      "image/png": "[encoded data removed]",
      "text/plain": [
       "<Figure size 1080x360 with 2 Axes>"
      ]
     },
     "metadata": {
      "needs_background": "light"
     },
     "output_type": "display_data"
    }
   ],
   "source": [
    "# visualising service consumption for each tariff\n",
    "for i in cmiut_by_tariff.columns[1:]:\n",
    "    fig, axs = plt.subplots(1,2)\n",
    "    cmiut_by_tariff[cmiut_by_tariff.index == 'smart'][i].plot(bins = 90, kind = 'hist', title = i + '_smart', figsize = (15, 5), ax = axs[0])\n",
    "    cmiut_by_tariff[cmiut_by_tariff.index == 'ultra'][i].plot(bins = 90, kind = 'hist', title = i + '_ultra', figsize = (15, 5), ax = axs[1])"
   ]
  },
  {
   "cell_type": "code",
   "execution_count": 35,
   "metadata": {},
   "outputs": [
    {
     "data": {
      "image/png": "[encoded data removed]",
      "text/plain": [
       "<Figure size 1080x360 with 2 Axes>"
      ]
     },
     "metadata": {
      "needs_background": "light"
     },
     "output_type": "display_data"
    }
   ],
   "source": [
    "# checking total_bill in detail\n",
    "for i in cmiut_by_tariff.columns[4:5]:\n",
    "    fig, axs = plt.subplots(1,2)\n",
    "    cmiut_by_tariff[cmiut_by_tariff.index == 'smart']['total_bill'].plot(bins = 50, kind = 'hist', title = i + '_smart', figsize = (15, 5), ax = axs[0], range = (0, 4000))\n",
    "    cmiut_by_tariff[cmiut_by_tariff.index == 'ultra']['total_bill'].plot(bins = 50, kind = 'hist', title = i + '_ultra', figsize = (15, 5), ax = axs[1], range = (0, 4000))"
   ]
  },
  {
   "cell_type": "markdown",
   "metadata": {},
   "source": [
    "All histograms are positively skewed. Due to the greater dispersion, ultra has longer tails than smart.\n",
    "\n",
    "- Number of calls: smart has a main peak of 25, ultra - about 14.\n",
    "- Minutes usage: smart has two peaks - 80 and 90 minutes, ultra - about 120. Moreover, smart and ultra have small peaks at near-zero values. In general, smart tariff customers talk no more than 600 minutes a year, whereas ultra customers talk almost 900 minutes.\n",
    "- Messages usage: in both tariffs, many people use messages very little. This is the result of earlier replacing 85 missing values with zeros, which we observed earlier. In general, smart tariff customers send no more than 80 messages, whereas ultra customers send around 100 messages.\n",
    "- Internet traffic usage: Both tariffs have an upper limit of 20-25 gb, after which there are few values. In smart, the peak is around 9 gb; in ultra, there are two peaks, one about 3 gb and the other about 4 gb.\n",
    "\n",
    "Monthly spendings are mostly below the tariff plan fee, which is 550 for smart and 1950 for ultra. While some users of the smart tariff overspend their tariff limits and spend 3,000 a month. There are very few ultra tariff customers who exceed their monthly tariff limits and spend more than 2,700 a month."
   ]
  },
  {
   "cell_type": "markdown",
   "metadata": {},
   "source": [
    "**Conclusion**\n",
    "\n",
    "On average, all parameters (minutes, messages, and traffic) grow between January and December.\n",
    "\n",
    "Users of smart tariff use the operator's services more than users of ultra tariff. Smart tariff has a greater variance and standard deviation, except for the number of messages parameter.\n",
    "\n",
    "All histograms are positively skewed. Due to the greater dispersion, ultra has longer tails than smart.\n",
    "\n",
    "- Number of calls: smart has a main peak of 25, ultra - about 14.\n",
    "- Minutes usage: smart has two peaks - 80 and 90 minutes, ultra - about 120. Moreover, smart and ultra have small peaks at near-zero values. In general, smart tariff customers talk no more than 600 minutes a year, whereas ultra customers talk almost 900 minutes.\n",
    "- Messages usage: in both tariffs, many people use messages very little. This is the result of earlier replacing 85 missing values with zeros, which we observed earlier. In general, smart tariff customers send no more than 80 messages, whereas ultra customers send around 100 messages.\n",
    "- Internet traffic usage: both tariffs have an upper limit of 20-25 gb, after which there are few values. In smart, the peak is around 9 gb; in ultra, there are two peaks, one about 3 gb and the other about 4 gb.\n",
    "\n",
    "Monthly spendings are mostly below the tariff plan fee, which is 550 for smart and 1950 for ultra. While some users of the smart tariff overspend their tariff limits and spend 3,000 a month. There are very few ultra tariff customers who exceed their monthly tariff limits and spend more than 2,700 a month."
   ]
  },
  {
   "cell_type": "markdown",
   "metadata": {},
   "source": [
    "## Hypotheses testing"
   ]
  },
  {
   "cell_type": "markdown",
   "metadata": {},
   "source": [
    "Test two hypotheses:\n",
    "- The average user revenue for the \"Ultra\" and \"Smart\" tariffs is statistically different;\n",
    "- Moscow's average user revenue differs from that of other regions."
   ]
  },
  {
   "cell_type": "markdown",
   "metadata": {},
   "source": [
    "**The average user revenue for the \"Ultra\" and \"Smart\" tariffs is statistically different**"
   ]
  },
  {
   "cell_type": "markdown",
   "metadata": {},
   "source": [
    "Let's formulate the null and alternative hypotheses:\n",
    "- H0: the average user revenue for the \"Ultra\" and \"Smart\" tariffs is statistically equal;\n",
    "- H1: the average user revenue for the \"Ultra\" and \"Smart\" tariffs is statistically different.\n",
    "\n",
    "I will use the scipy.stats.ttest_ind (array1, array2, equal_var) method to test the hypothesis that two populations have an equal mean."
   ]
  },
  {
   "cell_type": "code",
   "execution_count": 37,
   "metadata": {},
   "outputs": [],
   "source": [
    "# creating parameters\n",
    "ultra_ttest = cmiut[cmiut['tariff'] == 'ultra']['total_bill']\n",
    "smart_ttest = cmiut[cmiut['tariff'] == 'smart']['total_bill']"
   ]
  },
  {
   "cell_type": "code",
   "execution_count": 38,
   "metadata": {},
   "outputs": [
    {
     "data": {
      "text/plain": [
       "2.225636046987037e-05"
      ]
     },
     "execution_count": 38,
     "metadata": {},
     "output_type": "execute_result"
    }
   ],
   "source": [
    "# comparing the sample variances using the Levene statistic test (for the equal_var parameter)\n",
    "stat, p = levene(ultra_ttest, smart_ttest)\n",
    "p"
   ]
  },
  {
   "cell_type": "markdown",
   "metadata": {},
   "source": [
    "A small p-significance level indicates that the variances are not equal."
   ]
  },
  {
   "cell_type": "code",
   "execution_count": 39,
   "metadata": {},
   "outputs": [
    {
     "name": "stdout",
     "output_type": "stream",
     "text": [
      "p-value: 2.3220286584879468e-189\n",
      "We reject the null hypothesis\n"
     ]
    }
   ],
   "source": [
    "# setting the significance level \n",
    "alpha = 0.05\n",
    "\n",
    "results = st.ttest_ind(ultra_ttest, smart_ttest, equal_var=False)\n",
    "print('p-value:', results.pvalue)\n",
    "\n",
    "if results.pvalue < alpha:\n",
    "    print('We reject the null hypothesis')\n",
    "else:\n",
    "    print(\"We do not reject the null hypothesis\")"
   ]
  },
  {
   "cell_type": "markdown",
   "metadata": {},
   "source": [
    "P-value is less than the significance level of 5% => the average user revenue for the \"Ultra\" and \"Smart\" tariffs is statistically different."
   ]
  },
  {
   "cell_type": "markdown",
   "metadata": {},
   "source": [
    "**Moscow's average user revenue differs from that of other regions**\n",
    "\n",
    "Let's formulate the null and alternative hypotheses:\n",
    "- H0: Moscow's average user revenue is statistically equal to that of other regions;\n",
    "- H1: Moscow's average user revenue is statistically different from that of other regions."
   ]
  },
  {
   "cell_type": "markdown",
   "metadata": {},
   "source": [
    "Our alternative hypothesis is two-sided, since Moscow's average user revenue may differ from other regions.\n",
    "\n",
    "The scipy.stats.ttest_1samp(array, popmean) method is used to test two-sided hypothesis."
   ]
  },
  {
   "cell_type": "code",
   "execution_count": 40,
   "metadata": {},
   "outputs": [
    {
     "name": "stdout",
     "output_type": "stream",
     "text": [
      "p-value: 0.6850350477169471\n",
      "We do not reject the null hypothesis\n"
     ]
    }
   ],
   "source": [
    "# creating a table with Moscow revenue\n",
    "moscow_ttest = cmiut[cmiut['city'] == 'Москва']['total_bill']\n",
    "\n",
    "# create a table with other regions revenue\n",
    "popmean = cmiut[cmiut['city'] != 'Москва']['total_bill'].mean()\n",
    "\n",
    "# setting the significance level\n",
    "alpha = 0.05\n",
    "\n",
    "results = st.ttest_1samp(moscow_ttest, popmean)\n",
    "\n",
    "print('p-value:', results.pvalue)\n",
    "\n",
    "if results.pvalue < alpha:\n",
    "    print('We reject the null hypothesis')\n",
    "else:\n",
    "    print(\"We do not reject the null hypothesis\")"
   ]
  },
  {
   "cell_type": "markdown",
   "metadata": {},
   "source": [
    "P-value is 68%, which is above the significance level of 5% => Moscow's average user revenue is statistically equal to that of other regions."
   ]
  },
  {
   "cell_type": "markdown",
   "metadata": {},
   "source": [
    "**Conclusion**\n",
    "\n",
    "- The average user revenue for the \"Ultra\" and \"Smart\" tariffs is statistically different;\n",
    "- Moscow's average user revenue is statistically equal to that of other regions."
   ]
  },
  {
   "cell_type": "markdown",
   "metadata": {},
   "source": [
    "## Final conclusion"
   ]
  },
  {
   "cell_type": "markdown",
   "metadata": {},
   "source": [
    "Users of smart tariff use the operator's services more than users of ultra tariff. Smart tariff has a greater variance and standard deviation, except for the number of messages parameter.\n",
    "\n",
    "All histograms are positively skewed. Due to the greater dispersion, ultra has longer tails than smart.\n",
    "\n",
    "- Number of calls: smart has a main peak of 25, ultra - about 14.\n",
    "- Minutes usage: smart has two peaks - 80 and 90 minutes, ultra - about 120. Moreover, smart and ultra have small peaks at near-zero values. In general, smart tariff customers talk no more than 600 minutes a year, whereas ultra customers talk almost 900 minutes.\n",
    "- Messages usage: in both tariffs, many people use messages very little. This is the result of earlier replacing 85 missing values with zeros, which we observed earlier. In general, smart tariff customers send no more than 80 messages, whereas ultra customers send around 100 messages.\n",
    "- Internet traffic usage: both tariffs have an upper limit of 20-25 gb, after which there are few values. In smart, the peak is around 9 gb; in ultra, there are two peaks, one about 3 gb and the other about 4 gb.\n",
    "\n",
    "Monthly spendings are mostly below the tariff plan fee, which is 550 for smart and 1950 for ultra. While some users of the smart tariff overspend their tariff limits and spend 3,000 a month. There are very few ultra tariff customers who exceed their monthly tariff limits and spend more than 2,700 a month.\n",
    "\n",
    "After testing the hypotheses, it became clear that:\n",
    "\n",
    "- The average user revenue for the \"Ultra\" and \"Smart\" tariffs is statistically different;\n",
    "- Moscow's average user revenue is statistically equal to that of other regions.\n",
    "\n",
    "It can be concluded that ultra tariff users spend more minutes on calls. On the other hand, smart tariff users use more internet traffic and often overspend their tariff limits which brings more profit to the business. "
   ]
  },
  {
   "cell_type": "code",
   "execution_count": null,
   "metadata": {},
   "outputs": [],
   "source": []
  }
 ],
 "metadata": {
  "ExecuteTimeLog": [
   {
    "duration": 4,
    "start_time": "2022-04-15T11:19:31.719Z"
   },
   {
    "duration": 2,
    "start_time": "2022-04-15T11:20:25.919Z"
   },
   {
    "duration": 162,
    "start_time": "2022-04-15T12:26:32.620Z"
   },
   {
    "duration": 1487,
    "start_time": "2022-04-15T12:32:07.646Z"
   },
   {
    "duration": 180,
    "start_time": "2022-04-15T12:41:05.831Z"
   },
   {
    "duration": 1662,
    "start_time": "2022-04-15T12:41:20.143Z"
   },
   {
    "duration": 10,
    "start_time": "2022-04-15T12:41:24.543Z"
   },
   {
    "duration": 156,
    "start_time": "2022-04-15T12:41:29.303Z"
   },
   {
    "duration": 9,
    "start_time": "2022-04-15T12:41:32.771Z"
   },
   {
    "duration": 399,
    "start_time": "2022-04-15T12:42:47.293Z"
   },
   {
    "duration": 436,
    "start_time": "2022-04-15T12:43:08.371Z"
   },
   {
    "duration": 11,
    "start_time": "2022-04-15T12:43:40.028Z"
   },
   {
    "duration": 9,
    "start_time": "2022-04-15T12:43:54.040Z"
   },
   {
    "duration": 9,
    "start_time": "2022-04-15T12:44:00.484Z"
   },
   {
    "duration": 8,
    "start_time": "2022-04-15T12:44:05.856Z"
   },
   {
    "duration": 9,
    "start_time": "2022-04-15T12:44:19.624Z"
   },
   {
    "duration": 11,
    "start_time": "2022-04-15T12:44:21.084Z"
   },
   {
    "duration": 9,
    "start_time": "2022-04-15T12:50:50.023Z"
   },
   {
    "duration": 10,
    "start_time": "2022-04-15T12:50:50.326Z"
   },
   {
    "duration": 8,
    "start_time": "2022-04-15T12:50:50.662Z"
   },
   {
    "duration": 9,
    "start_time": "2022-04-15T12:50:50.943Z"
   },
   {
    "duration": 11,
    "start_time": "2022-04-15T12:50:51.258Z"
   },
   {
    "duration": 28,
    "start_time": "2022-04-15T12:54:36.819Z"
   },
   {
    "duration": 24,
    "start_time": "2022-04-15T12:54:37.072Z"
   },
   {
    "duration": 20,
    "start_time": "2022-04-15T12:54:37.340Z"
   },
   {
    "duration": 11,
    "start_time": "2022-04-15T12:54:37.784Z"
   },
   {
    "duration": 11,
    "start_time": "2022-04-15T12:54:38.228Z"
   },
   {
    "duration": 29,
    "start_time": "2022-04-15T12:54:39.712Z"
   },
   {
    "duration": 29,
    "start_time": "2022-04-15T12:54:39.743Z"
   },
   {
    "duration": 14,
    "start_time": "2022-04-15T12:54:39.773Z"
   },
   {
    "duration": 28,
    "start_time": "2022-04-15T12:54:40.496Z"
   },
   {
    "duration": 15,
    "start_time": "2022-04-15T12:54:41.319Z"
   },
   {
    "duration": 59,
    "start_time": "2022-04-15T12:57:23.021Z"
   },
   {
    "duration": 50,
    "start_time": "2022-04-15T12:58:15.297Z"
   },
   {
    "duration": 32,
    "start_time": "2022-04-15T12:58:40.857Z"
   },
   {
    "duration": 23,
    "start_time": "2022-04-15T12:59:28.065Z"
   },
   {
    "duration": 36,
    "start_time": "2022-04-15T12:59:29.917Z"
   },
   {
    "duration": 51,
    "start_time": "2022-04-15T12:59:58.178Z"
   },
   {
    "duration": 48,
    "start_time": "2022-04-15T12:59:59.489Z"
   },
   {
    "duration": 31,
    "start_time": "2022-04-15T13:00:11.078Z"
   },
   {
    "duration": 34,
    "start_time": "2022-04-15T13:00:12.934Z"
   },
   {
    "duration": 24,
    "start_time": "2022-04-15T13:00:18.165Z"
   },
   {
    "duration": 64,
    "start_time": "2022-04-15T13:00:25.346Z"
   },
   {
    "duration": 52,
    "start_time": "2022-04-15T13:00:28.618Z"
   },
   {
    "duration": 35,
    "start_time": "2022-04-15T13:00:37.014Z"
   },
   {
    "duration": 37,
    "start_time": "2022-04-15T13:00:41.733Z"
   },
   {
    "duration": 23,
    "start_time": "2022-04-15T13:00:46.814Z"
   },
   {
    "duration": 62,
    "start_time": "2022-04-15T13:02:12.327Z"
   },
   {
    "duration": 441,
    "start_time": "2022-04-15T13:02:29.274Z"
   },
   {
    "duration": 58,
    "start_time": "2022-04-15T13:02:30.107Z"
   },
   {
    "duration": 52,
    "start_time": "2022-04-15T13:02:35.766Z"
   },
   {
    "duration": 56,
    "start_time": "2022-04-15T13:02:45.299Z"
   },
   {
    "duration": 10,
    "start_time": "2022-04-15T13:02:55.519Z"
   },
   {
    "duration": 9,
    "start_time": "2022-04-15T13:03:56.787Z"
   },
   {
    "duration": 61,
    "start_time": "2022-04-15T13:03:57.827Z"
   },
   {
    "duration": 9,
    "start_time": "2022-04-15T13:05:27.759Z"
   },
   {
    "duration": 55,
    "start_time": "2022-04-15T13:05:32.684Z"
   },
   {
    "duration": 9,
    "start_time": "2022-04-15T13:07:08.024Z"
   },
   {
    "duration": 45,
    "start_time": "2022-04-15T13:07:08.336Z"
   },
   {
    "duration": 11,
    "start_time": "2022-04-15T13:07:48.493Z"
   },
   {
    "duration": 55,
    "start_time": "2022-04-15T13:07:48.837Z"
   },
   {
    "duration": 13,
    "start_time": "2022-04-15T13:08:24.389Z"
   },
   {
    "duration": 33,
    "start_time": "2022-04-15T13:08:24.897Z"
   },
   {
    "duration": 35,
    "start_time": "2022-04-15T13:10:05.246Z"
   },
   {
    "duration": 96,
    "start_time": "2022-04-15T13:12:19.643Z"
   },
   {
    "duration": 52,
    "start_time": "2022-04-16T08:37:00.769Z"
   },
   {
    "duration": 1334,
    "start_time": "2022-04-16T08:37:14.989Z"
   },
   {
    "duration": 390,
    "start_time": "2022-04-16T08:37:16.325Z"
   },
   {
    "duration": 14,
    "start_time": "2022-04-16T08:37:16.717Z"
   },
   {
    "duration": 54,
    "start_time": "2022-04-16T08:37:16.734Z"
   },
   {
    "duration": 23,
    "start_time": "2022-04-16T08:37:16.790Z"
   },
   {
    "duration": 50,
    "start_time": "2022-04-16T08:37:16.885Z"
   },
   {
    "duration": 8,
    "start_time": "2022-04-16T08:37:17.610Z"
   },
   {
    "duration": 32,
    "start_time": "2022-04-16T08:37:17.977Z"
   },
   {
    "duration": 8,
    "start_time": "2022-04-16T08:37:19.082Z"
   },
   {
    "duration": 33,
    "start_time": "2022-04-16T08:37:19.273Z"
   },
   {
    "duration": 10,
    "start_time": "2022-04-16T08:37:19.838Z"
   },
   {
    "duration": 22,
    "start_time": "2022-04-16T08:37:20.057Z"
   },
   {
    "duration": 74,
    "start_time": "2022-04-16T08:37:22.914Z"
   },
   {
    "duration": 105,
    "start_time": "2022-04-16T08:37:23.377Z"
   },
   {
    "duration": 104,
    "start_time": "2022-04-16T08:37:28.841Z"
   },
   {
    "duration": 206,
    "start_time": "2022-04-16T08:38:11.510Z"
   },
   {
    "duration": 65,
    "start_time": "2022-04-16T08:38:22.958Z"
   },
   {
    "duration": 43,
    "start_time": "2022-04-16T08:38:27.074Z"
   },
   {
    "duration": 6,
    "start_time": "2022-04-16T08:38:31.738Z"
   },
   {
    "duration": 6,
    "start_time": "2022-04-16T08:38:38.222Z"
   },
   {
    "duration": 4,
    "start_time": "2022-04-16T08:44:22.356Z"
   },
   {
    "duration": 63,
    "start_time": "2022-04-16T09:01:21.361Z"
   },
   {
    "duration": 3,
    "start_time": "2022-04-16T09:01:34.940Z"
   },
   {
    "duration": 11,
    "start_time": "2022-04-16T09:01:41.264Z"
   },
   {
    "duration": 6,
    "start_time": "2022-04-16T09:03:37.401Z"
   },
   {
    "duration": 48,
    "start_time": "2022-04-16T09:19:57.650Z"
   },
   {
    "duration": 9,
    "start_time": "2022-04-16T09:20:04.834Z"
   },
   {
    "duration": 51,
    "start_time": "2022-04-16T09:21:22.195Z"
   },
   {
    "duration": 21,
    "start_time": "2022-04-16T09:28:40.675Z"
   },
   {
    "duration": 55,
    "start_time": "2022-04-16T09:28:56.453Z"
   },
   {
    "duration": 67,
    "start_time": "2022-04-16T09:31:05.082Z"
   },
   {
    "duration": 26,
    "start_time": "2022-04-16T09:31:38.022Z"
   },
   {
    "duration": 25,
    "start_time": "2022-04-16T09:32:07.482Z"
   },
   {
    "duration": 24,
    "start_time": "2022-04-16T09:32:14.178Z"
   },
   {
    "duration": 268,
    "start_time": "2022-04-16T09:33:02.191Z"
   },
   {
    "duration": 25,
    "start_time": "2022-04-16T09:33:14.147Z"
   },
   {
    "duration": 19,
    "start_time": "2022-04-16T09:36:30.781Z"
   },
   {
    "duration": 15,
    "start_time": "2022-04-16T09:37:26.576Z"
   },
   {
    "duration": 14,
    "start_time": "2022-04-16T09:37:36.140Z"
   },
   {
    "duration": 15,
    "start_time": "2022-04-16T09:37:44.080Z"
   },
   {
    "duration": 35,
    "start_time": "2022-04-16T09:37:51.900Z"
   },
   {
    "duration": 17,
    "start_time": "2022-04-16T09:42:15.085Z"
   },
   {
    "duration": 20,
    "start_time": "2022-04-16T09:43:01.261Z"
   },
   {
    "duration": 2,
    "start_time": "2022-04-16T09:43:41.802Z"
   },
   {
    "duration": 14,
    "start_time": "2022-04-16T10:04:54.905Z"
   },
   {
    "duration": 69,
    "start_time": "2022-04-16T10:07:46.597Z"
   },
   {
    "duration": 103,
    "start_time": "2022-04-16T10:07:55.150Z"
   },
   {
    "duration": 65,
    "start_time": "2022-04-16T10:07:59.450Z"
   },
   {
    "duration": 45,
    "start_time": "2022-04-16T10:08:13.317Z"
   },
   {
    "duration": 7,
    "start_time": "2022-04-16T10:08:29.662Z"
   },
   {
    "duration": 1203,
    "start_time": "2022-04-16T10:08:44.497Z"
   },
   {
    "duration": 371,
    "start_time": "2022-04-16T10:08:45.702Z"
   },
   {
    "duration": 12,
    "start_time": "2022-04-16T10:08:46.075Z"
   },
   {
    "duration": 49,
    "start_time": "2022-04-16T10:08:46.089Z"
   },
   {
    "duration": 9,
    "start_time": "2022-04-16T10:08:46.302Z"
   },
   {
    "duration": 51,
    "start_time": "2022-04-16T10:08:46.718Z"
   },
   {
    "duration": 8,
    "start_time": "2022-04-16T10:08:47.486Z"
   },
   {
    "duration": 27,
    "start_time": "2022-04-16T10:08:47.878Z"
   },
   {
    "duration": 9,
    "start_time": "2022-04-16T10:08:49.030Z"
   },
   {
    "duration": 33,
    "start_time": "2022-04-16T10:08:49.462Z"
   },
   {
    "duration": 10,
    "start_time": "2022-04-16T10:08:50.550Z"
   },
   {
    "duration": 21,
    "start_time": "2022-04-16T10:08:50.934Z"
   },
   {
    "duration": 68,
    "start_time": "2022-04-16T10:08:54.190Z"
   },
   {
    "duration": 3,
    "start_time": "2022-04-16T10:08:54.752Z"
   },
   {
    "duration": 13,
    "start_time": "2022-04-16T10:08:55.230Z"
   },
   {
    "duration": 5,
    "start_time": "2022-04-16T10:08:55.566Z"
   },
   {
    "duration": 54,
    "start_time": "2022-04-16T10:08:55.918Z"
   },
   {
    "duration": 31,
    "start_time": "2022-04-16T10:08:56.474Z"
   },
   {
    "duration": 24,
    "start_time": "2022-04-16T10:08:57.354Z"
   },
   {
    "duration": 26,
    "start_time": "2022-04-16T10:08:58.070Z"
   },
   {
    "duration": 2,
    "start_time": "2022-04-16T10:08:59.062Z"
   },
   {
    "duration": 61,
    "start_time": "2022-04-16T10:09:00.422Z"
   },
   {
    "duration": 5,
    "start_time": "2022-04-16T10:09:14.650Z"
   },
   {
    "duration": 5,
    "start_time": "2022-04-16T10:09:19.378Z"
   },
   {
    "duration": 6,
    "start_time": "2022-04-16T10:10:07.286Z"
   },
   {
    "duration": 11,
    "start_time": "2022-04-16T10:10:50.463Z"
   },
   {
    "duration": 16,
    "start_time": "2022-04-16T10:11:38.875Z"
   },
   {
    "duration": 13,
    "start_time": "2022-04-16T10:15:38.752Z"
   },
   {
    "duration": 24,
    "start_time": "2022-04-16T10:17:08.601Z"
   },
   {
    "duration": 12,
    "start_time": "2022-04-16T10:17:16.977Z"
   },
   {
    "duration": 22,
    "start_time": "2022-04-16T10:17:30.653Z"
   },
   {
    "duration": 15,
    "start_time": "2022-04-16T10:17:49.682Z"
   },
   {
    "duration": 13,
    "start_time": "2022-04-16T10:18:13.550Z"
   },
   {
    "duration": 26,
    "start_time": "2022-04-16T10:19:45.523Z"
   },
   {
    "duration": 86,
    "start_time": "2022-04-16T10:20:00.503Z"
   },
   {
    "duration": 23,
    "start_time": "2022-04-16T10:20:06.587Z"
   },
   {
    "duration": 14,
    "start_time": "2022-04-16T10:20:15.475Z"
   },
   {
    "duration": 15,
    "start_time": "2022-04-16T10:20:20.575Z"
   },
   {
    "duration": 13,
    "start_time": "2022-04-16T10:20:27.439Z"
   },
   {
    "duration": 6,
    "start_time": "2022-04-16T10:24:21.089Z"
   },
   {
    "duration": 16,
    "start_time": "2022-04-16T10:24:36.221Z"
   },
   {
    "duration": 9,
    "start_time": "2022-04-16T10:26:02.554Z"
   },
   {
    "duration": 26,
    "start_time": "2022-04-16T10:26:12.822Z"
   },
   {
    "duration": 3,
    "start_time": "2022-04-16T10:26:26.067Z"
   },
   {
    "duration": 396,
    "start_time": "2022-04-16T10:26:26.350Z"
   },
   {
    "duration": 9,
    "start_time": "2022-04-16T10:26:26.748Z"
   },
   {
    "duration": 49,
    "start_time": "2022-04-16T10:26:26.882Z"
   },
   {
    "duration": 9,
    "start_time": "2022-04-16T10:26:27.302Z"
   },
   {
    "duration": 46,
    "start_time": "2022-04-16T10:26:27.442Z"
   },
   {
    "duration": 9,
    "start_time": "2022-04-16T10:26:27.778Z"
   },
   {
    "duration": 30,
    "start_time": "2022-04-16T10:26:27.958Z"
   },
   {
    "duration": 9,
    "start_time": "2022-04-16T10:26:28.322Z"
   },
   {
    "duration": 38,
    "start_time": "2022-04-16T10:26:28.505Z"
   },
   {
    "duration": 11,
    "start_time": "2022-04-16T10:26:28.878Z"
   },
   {
    "duration": 24,
    "start_time": "2022-04-16T10:26:29.042Z"
   },
   {
    "duration": 67,
    "start_time": "2022-04-16T10:26:30.466Z"
   },
   {
    "duration": 3,
    "start_time": "2022-04-16T10:26:30.767Z"
   },
   {
    "duration": 10,
    "start_time": "2022-04-16T10:26:31.158Z"
   },
   {
    "duration": 4,
    "start_time": "2022-04-16T10:26:31.358Z"
   },
   {
    "duration": 50,
    "start_time": "2022-04-16T10:26:31.954Z"
   },
   {
    "duration": 32,
    "start_time": "2022-04-16T10:26:32.195Z"
   },
   {
    "duration": 27,
    "start_time": "2022-04-16T10:26:34.527Z"
   },
   {
    "duration": 26,
    "start_time": "2022-04-16T10:26:35.602Z"
   },
   {
    "duration": 22,
    "start_time": "2022-04-16T10:26:45.242Z"
   },
   {
    "duration": 7,
    "start_time": "2022-04-16T10:26:48.514Z"
   },
   {
    "duration": 18,
    "start_time": "2022-04-16T10:26:48.983Z"
   },
   {
    "duration": 7,
    "start_time": "2022-04-16T10:27:01.522Z"
   },
   {
    "duration": 17,
    "start_time": "2022-04-16T10:27:02.402Z"
   },
   {
    "duration": 13,
    "start_time": "2022-04-16T10:27:42.775Z"
   },
   {
    "duration": 11,
    "start_time": "2022-04-16T10:27:47.955Z"
   },
   {
    "duration": 12,
    "start_time": "2022-04-16T10:27:56.170Z"
   },
   {
    "duration": 7,
    "start_time": "2022-04-16T10:28:46.123Z"
   },
   {
    "duration": 12,
    "start_time": "2022-04-16T10:28:46.599Z"
   },
   {
    "duration": 12,
    "start_time": "2022-04-16T10:28:47.657Z"
   },
   {
    "duration": 16,
    "start_time": "2022-04-16T10:28:48.904Z"
   },
   {
    "duration": 26,
    "start_time": "2022-04-16T10:29:44.379Z"
   },
   {
    "duration": 11,
    "start_time": "2022-04-16T10:29:55.475Z"
   },
   {
    "duration": 55,
    "start_time": "2022-04-16T10:30:56.479Z"
   },
   {
    "duration": 55,
    "start_time": "2022-04-16T10:31:06.169Z"
   },
   {
    "duration": 36,
    "start_time": "2022-04-16T10:31:45.089Z"
   },
   {
    "duration": 25,
    "start_time": "2022-04-16T10:31:56.959Z"
   },
   {
    "duration": 27,
    "start_time": "2022-04-16T10:32:00.716Z"
   },
   {
    "duration": 22,
    "start_time": "2022-04-16T10:32:05.376Z"
   },
   {
    "duration": 7,
    "start_time": "2022-04-16T10:32:05.628Z"
   },
   {
    "duration": 16,
    "start_time": "2022-04-16T10:32:05.936Z"
   },
   {
    "duration": 12,
    "start_time": "2022-04-16T10:32:06.697Z"
   },
   {
    "duration": 4,
    "start_time": "2022-04-16T10:32:18.512Z"
   },
   {
    "duration": 413,
    "start_time": "2022-04-16T10:32:18.872Z"
   },
   {
    "duration": 8,
    "start_time": "2022-04-16T10:32:19.287Z"
   },
   {
    "duration": 50,
    "start_time": "2022-04-16T10:32:19.518Z"
   },
   {
    "duration": 9,
    "start_time": "2022-04-16T10:32:20.257Z"
   },
   {
    "duration": 46,
    "start_time": "2022-04-16T10:32:20.524Z"
   },
   {
    "duration": 12,
    "start_time": "2022-04-16T10:32:20.913Z"
   },
   {
    "duration": 43,
    "start_time": "2022-04-16T10:32:21.224Z"
   },
   {
    "duration": 9,
    "start_time": "2022-04-16T10:32:21.766Z"
   },
   {
    "duration": 34,
    "start_time": "2022-04-16T10:32:22.037Z"
   },
   {
    "duration": 12,
    "start_time": "2022-04-16T10:32:22.684Z"
   },
   {
    "duration": 23,
    "start_time": "2022-04-16T10:32:23.048Z"
   },
   {
    "duration": 71,
    "start_time": "2022-04-16T10:32:25.348Z"
   },
   {
    "duration": 3,
    "start_time": "2022-04-16T10:32:25.596Z"
   },
   {
    "duration": 9,
    "start_time": "2022-04-16T10:32:25.881Z"
   },
   {
    "duration": 4,
    "start_time": "2022-04-16T10:32:26.084Z"
   },
   {
    "duration": 62,
    "start_time": "2022-04-16T10:32:26.280Z"
   },
   {
    "duration": 31,
    "start_time": "2022-04-16T10:32:26.773Z"
   },
   {
    "duration": 25,
    "start_time": "2022-04-16T10:32:27.329Z"
   },
   {
    "duration": 31,
    "start_time": "2022-04-16T10:32:27.713Z"
   },
   {
    "duration": 2,
    "start_time": "2022-04-16T10:32:28.105Z"
   },
   {
    "duration": 23,
    "start_time": "2022-04-16T10:32:28.832Z"
   },
   {
    "duration": 7,
    "start_time": "2022-04-16T10:32:29.065Z"
   },
   {
    "duration": 17,
    "start_time": "2022-04-16T10:32:29.533Z"
   },
   {
    "duration": 11,
    "start_time": "2022-04-16T10:32:29.969Z"
   },
   {
    "duration": 37,
    "start_time": "2022-04-16T10:33:25.985Z"
   },
   {
    "duration": 24,
    "start_time": "2022-04-16T10:34:06.177Z"
   },
   {
    "duration": 30,
    "start_time": "2022-04-16T10:34:06.689Z"
   },
   {
    "duration": 2,
    "start_time": "2022-04-16T10:34:07.281Z"
   },
   {
    "duration": 22,
    "start_time": "2022-04-16T10:34:08.641Z"
   },
   {
    "duration": 8,
    "start_time": "2022-04-16T10:34:08.969Z"
   },
   {
    "duration": 22,
    "start_time": "2022-04-16T10:34:09.301Z"
   },
   {
    "duration": 12,
    "start_time": "2022-04-16T10:34:09.757Z"
   },
   {
    "duration": 14,
    "start_time": "2022-04-16T10:34:52.310Z"
   },
   {
    "duration": 16,
    "start_time": "2022-04-16T10:37:26.863Z"
   },
   {
    "duration": 11,
    "start_time": "2022-04-16T10:37:27.290Z"
   },
   {
    "duration": 9,
    "start_time": "2022-04-16T10:43:42.537Z"
   },
   {
    "duration": 13,
    "start_time": "2022-04-16T10:43:57.237Z"
   },
   {
    "duration": 15,
    "start_time": "2022-04-16T10:44:27.018Z"
   },
   {
    "duration": 14,
    "start_time": "2022-04-16T10:44:47.069Z"
   },
   {
    "duration": 14,
    "start_time": "2022-04-16T10:44:56.789Z"
   },
   {
    "duration": 12,
    "start_time": "2022-04-16T10:45:34.377Z"
   },
   {
    "duration": 7,
    "start_time": "2022-04-16T10:45:55.450Z"
   },
   {
    "duration": 3,
    "start_time": "2022-04-16T10:47:38.178Z"
   },
   {
    "duration": 17,
    "start_time": "2022-04-16T10:47:42.698Z"
   },
   {
    "duration": 8,
    "start_time": "2022-04-16T10:47:53.515Z"
   },
   {
    "duration": 26,
    "start_time": "2022-04-16T10:48:00.271Z"
   },
   {
    "duration": 7,
    "start_time": "2022-04-16T10:50:05.979Z"
   },
   {
    "duration": 4,
    "start_time": "2022-04-16T10:52:13.629Z"
   },
   {
    "duration": 7,
    "start_time": "2022-04-16T10:52:14.196Z"
   },
   {
    "duration": 3,
    "start_time": "2022-04-16T10:53:15.101Z"
   },
   {
    "duration": 9,
    "start_time": "2022-04-16T10:54:36.410Z"
   },
   {
    "duration": 6,
    "start_time": "2022-04-16T10:54:47.102Z"
   },
   {
    "duration": 4,
    "start_time": "2022-04-16T11:22:04.444Z"
   },
   {
    "duration": 1061,
    "start_time": "2022-04-16T11:22:40.696Z"
   },
   {
    "duration": 25,
    "start_time": "2022-04-16T11:23:24.741Z"
   },
   {
    "duration": 26,
    "start_time": "2022-04-16T11:23:25.113Z"
   },
   {
    "duration": 11,
    "start_time": "2022-04-16T11:23:25.604Z"
   },
   {
    "duration": 18,
    "start_time": "2022-04-16T11:23:25.964Z"
   },
   {
    "duration": 4,
    "start_time": "2022-04-16T11:23:26.323Z"
   },
   {
    "duration": 7,
    "start_time": "2022-04-16T11:23:26.748Z"
   },
   {
    "duration": 5,
    "start_time": "2022-04-16T11:23:27.168Z"
   },
   {
    "duration": 8,
    "start_time": "2022-04-16T11:23:27.620Z"
   },
   {
    "duration": 4,
    "start_time": "2022-04-16T11:23:30.328Z"
   },
   {
    "duration": 6,
    "start_time": "2022-04-16T11:23:30.773Z"
   },
   {
    "duration": 3,
    "start_time": "2022-04-16T11:23:31.356Z"
   },
   {
    "duration": 5,
    "start_time": "2022-04-16T11:23:32.401Z"
   },
   {
    "duration": 24,
    "start_time": "2022-04-16T11:23:33.100Z"
   },
   {
    "duration": 8,
    "start_time": "2022-04-16T11:23:41.513Z"
   },
   {
    "duration": 24,
    "start_time": "2022-04-16T11:23:46.409Z"
   },
   {
    "duration": 8,
    "start_time": "2022-04-16T11:23:56.617Z"
   },
   {
    "duration": 18,
    "start_time": "2022-04-16T11:23:57.045Z"
   },
   {
    "duration": 10,
    "start_time": "2022-04-16T11:24:14.809Z"
   },
   {
    "duration": 18,
    "start_time": "2022-04-16T11:24:15.372Z"
   },
   {
    "duration": 5,
    "start_time": "2022-04-16T11:24:28.948Z"
   },
   {
    "duration": 20,
    "start_time": "2022-04-16T11:24:29.325Z"
   },
   {
    "duration": 41,
    "start_time": "2022-04-16T11:24:36.044Z"
   },
   {
    "duration": 32,
    "start_time": "2022-04-16T11:24:45.969Z"
   },
   {
    "duration": 39,
    "start_time": "2022-04-16T11:24:53.805Z"
   },
   {
    "duration": 73,
    "start_time": "2022-04-17T08:39:18.263Z"
   },
   {
    "duration": 1780,
    "start_time": "2022-04-17T08:39:27.039Z"
   },
   {
    "duration": 485,
    "start_time": "2022-04-17T08:39:28.822Z"
   },
   {
    "duration": 19,
    "start_time": "2022-04-17T08:39:29.309Z"
   },
   {
    "duration": 69,
    "start_time": "2022-04-17T08:39:29.331Z"
   },
   {
    "duration": 13,
    "start_time": "2022-04-17T08:39:29.402Z"
   },
   {
    "duration": 84,
    "start_time": "2022-04-17T08:39:29.417Z"
   },
   {
    "duration": 10,
    "start_time": "2022-04-17T08:39:29.503Z"
   },
   {
    "duration": 41,
    "start_time": "2022-04-17T08:39:29.515Z"
   },
   {
    "duration": 11,
    "start_time": "2022-04-17T08:39:29.582Z"
   },
   {
    "duration": 48,
    "start_time": "2022-04-17T08:39:29.597Z"
   },
   {
    "duration": 40,
    "start_time": "2022-04-17T08:39:29.647Z"
   },
   {
    "duration": 31,
    "start_time": "2022-04-17T08:39:29.689Z"
   },
   {
    "duration": 135,
    "start_time": "2022-04-17T08:39:29.722Z"
   },
   {
    "duration": 5,
    "start_time": "2022-04-17T08:39:29.859Z"
   },
   {
    "duration": 24,
    "start_time": "2022-04-17T08:39:29.866Z"
   },
   {
    "duration": 9,
    "start_time": "2022-04-17T08:39:29.893Z"
   },
   {
    "duration": 89,
    "start_time": "2022-04-17T08:39:29.904Z"
   },
   {
    "duration": 44,
    "start_time": "2022-04-17T08:39:29.995Z"
   },
   {
    "duration": 55,
    "start_time": "2022-04-17T08:39:30.041Z"
   },
   {
    "duration": 35,
    "start_time": "2022-04-17T08:39:30.098Z"
   },
   {
    "duration": 55,
    "start_time": "2022-04-17T08:39:30.135Z"
   },
   {
    "duration": 10,
    "start_time": "2022-04-17T08:39:30.193Z"
   },
   {
    "duration": 16,
    "start_time": "2022-04-17T08:39:30.205Z"
   },
   {
    "duration": 30,
    "start_time": "2022-04-17T08:39:30.223Z"
   },
   {
    "duration": 20,
    "start_time": "2022-04-17T08:39:30.255Z"
   },
   {
    "duration": 29,
    "start_time": "2022-04-17T08:39:30.278Z"
   },
   {
    "duration": 16,
    "start_time": "2022-04-17T08:39:30.310Z"
   },
   {
    "duration": 14,
    "start_time": "2022-04-17T08:39:30.330Z"
   },
   {
    "duration": 15,
    "start_time": "2022-04-17T08:39:30.346Z"
   },
   {
    "duration": 12,
    "start_time": "2022-04-17T08:39:30.364Z"
   },
   {
    "duration": 72,
    "start_time": "2022-04-17T08:39:30.378Z"
   },
   {
    "duration": 31,
    "start_time": "2022-04-17T08:39:30.452Z"
   },
   {
    "duration": 37,
    "start_time": "2022-04-17T08:40:16.708Z"
   },
   {
    "duration": 36,
    "start_time": "2022-04-17T08:58:04.574Z"
   },
   {
    "duration": 2631,
    "start_time": "2022-04-17T08:59:29.922Z"
   },
   {
    "duration": 4229,
    "start_time": "2022-04-17T09:00:26.970Z"
   },
   {
    "duration": 3438,
    "start_time": "2022-04-17T09:01:10.415Z"
   },
   {
    "duration": 3675,
    "start_time": "2022-04-17T09:01:49.079Z"
   },
   {
    "duration": 4083,
    "start_time": "2022-04-17T09:01:55.495Z"
   },
   {
    "duration": 5,
    "start_time": "2022-04-17T09:07:10.937Z"
   },
   {
    "duration": 6,
    "start_time": "2022-04-17T09:07:16.353Z"
   },
   {
    "duration": 9,
    "start_time": "2022-04-17T09:09:09.982Z"
   },
   {
    "duration": 3082,
    "start_time": "2022-04-17T09:09:24.354Z"
   },
   {
    "duration": 2076,
    "start_time": "2022-04-17T09:09:38.370Z"
   },
   {
    "duration": 7,
    "start_time": "2022-04-17T09:10:09.327Z"
   },
   {
    "duration": 35,
    "start_time": "2022-04-17T09:10:21.911Z"
   },
   {
    "duration": 56,
    "start_time": "2022-04-17T09:14:40.540Z"
   },
   {
    "duration": 17,
    "start_time": "2022-04-17T09:15:36.432Z"
   },
   {
    "duration": 32,
    "start_time": "2022-04-17T09:16:01.197Z"
   },
   {
    "duration": 28,
    "start_time": "2022-04-17T09:16:15.669Z"
   },
   {
    "duration": 76,
    "start_time": "2022-04-17T09:30:11.976Z"
   },
   {
    "duration": 52,
    "start_time": "2022-04-17T09:30:17.796Z"
   },
   {
    "duration": 79,
    "start_time": "2022-04-17T09:31:12.940Z"
   },
   {
    "duration": 52,
    "start_time": "2022-04-17T09:35:06.226Z"
   },
   {
    "duration": 481,
    "start_time": "2022-04-17T09:37:10.866Z"
   },
   {
    "duration": 492,
    "start_time": "2022-04-17T09:37:19.751Z"
   },
   {
    "duration": 70,
    "start_time": "2022-04-17T09:37:54.051Z"
   },
   {
    "duration": 73,
    "start_time": "2022-04-17T09:38:06.235Z"
   },
   {
    "duration": 56,
    "start_time": "2022-04-17T09:38:10.998Z"
   },
   {
    "duration": 1770,
    "start_time": "2022-04-17T13:14:55.217Z"
   },
   {
    "duration": 138,
    "start_time": "2022-04-17T13:16:08.041Z"
   },
   {
    "duration": 1661,
    "start_time": "2022-04-17T13:16:15.438Z"
   },
   {
    "duration": 512,
    "start_time": "2022-04-17T13:16:17.102Z"
   },
   {
    "duration": 20,
    "start_time": "2022-04-17T13:16:17.616Z"
   },
   {
    "duration": 74,
    "start_time": "2022-04-17T13:16:17.639Z"
   },
   {
    "duration": 12,
    "start_time": "2022-04-17T13:16:17.716Z"
   },
   {
    "duration": 81,
    "start_time": "2022-04-17T13:16:17.731Z"
   },
   {
    "duration": 11,
    "start_time": "2022-04-17T13:16:17.814Z"
   },
   {
    "duration": 39,
    "start_time": "2022-04-17T13:16:17.851Z"
   },
   {
    "duration": 12,
    "start_time": "2022-04-17T13:16:17.892Z"
   },
   {
    "duration": 73,
    "start_time": "2022-04-17T13:16:17.908Z"
   },
   {
    "duration": 15,
    "start_time": "2022-04-17T13:16:17.983Z"
   },
   {
    "duration": 55,
    "start_time": "2022-04-17T13:16:18.000Z"
   },
   {
    "duration": 123,
    "start_time": "2022-04-17T13:16:18.057Z"
   },
   {
    "duration": 5,
    "start_time": "2022-04-17T13:16:18.182Z"
   },
   {
    "duration": 16,
    "start_time": "2022-04-17T13:16:18.189Z"
   },
   {
    "duration": 15,
    "start_time": "2022-04-17T13:16:18.208Z"
   },
   {
    "duration": 96,
    "start_time": "2022-04-17T13:16:18.225Z"
   },
   {
    "duration": 77,
    "start_time": "2022-04-17T13:16:18.323Z"
   },
   {
    "duration": 48,
    "start_time": "2022-04-17T13:16:18.402Z"
   },
   {
    "duration": 42,
    "start_time": "2022-04-17T13:16:18.453Z"
   },
   {
    "duration": 60,
    "start_time": "2022-04-17T13:16:18.498Z"
   },
   {
    "duration": 10,
    "start_time": "2022-04-17T13:16:18.560Z"
   },
   {
    "duration": 6,
    "start_time": "2022-04-17T13:16:18.572Z"
   },
   {
    "duration": 11,
    "start_time": "2022-04-17T13:16:18.580Z"
   },
   {
    "duration": 8,
    "start_time": "2022-04-17T13:16:18.593Z"
   },
   {
    "duration": 32,
    "start_time": "2022-04-17T13:16:18.604Z"
   },
   {
    "duration": 6,
    "start_time": "2022-04-17T13:16:19.667Z"
   },
   {
    "duration": 12,
    "start_time": "2022-04-17T13:16:19.676Z"
   },
   {
    "duration": 4,
    "start_time": "2022-04-17T13:16:19.691Z"
   },
   {
    "duration": 9,
    "start_time": "2022-04-17T13:16:19.770Z"
   },
   {
    "duration": 59,
    "start_time": "2022-04-17T13:16:19.859Z"
   },
   {
    "duration": 42,
    "start_time": "2022-04-17T13:16:19.921Z"
   },
   {
    "duration": 2625,
    "start_time": "2022-04-17T13:16:19.965Z"
   },
   {
    "duration": 74,
    "start_time": "2022-04-17T13:16:22.593Z"
   },
   {
    "duration": 13,
    "start_time": "2022-04-17T13:16:22.670Z"
   },
   {
    "duration": 6,
    "start_time": "2022-04-17T13:16:41.634Z"
   },
   {
    "duration": 1902,
    "start_time": "2022-04-17T13:17:10.179Z"
   },
   {
    "duration": 6,
    "start_time": "2022-04-17T13:19:16.724Z"
   },
   {
    "duration": 14,
    "start_time": "2022-04-17T13:24:31.642Z"
   },
   {
    "duration": 14,
    "start_time": "2022-04-17T13:24:41.562Z"
   },
   {
    "duration": 15,
    "start_time": "2022-04-17T13:26:34.843Z"
   },
   {
    "duration": 15,
    "start_time": "2022-04-17T13:27:19.446Z"
   },
   {
    "duration": 16,
    "start_time": "2022-04-17T13:28:38.163Z"
   },
   {
    "duration": 15,
    "start_time": "2022-04-17T13:29:03.296Z"
   },
   {
    "duration": 9,
    "start_time": "2022-04-17T13:29:11.720Z"
   },
   {
    "duration": 5,
    "start_time": "2022-04-17T13:31:57.861Z"
   },
   {
    "duration": 9,
    "start_time": "2022-04-17T13:36:44.283Z"
   },
   {
    "duration": 47,
    "start_time": "2022-04-21T02:55:46.659Z"
   },
   {
    "duration": 1296,
    "start_time": "2022-04-21T02:55:55.888Z"
   },
   {
    "duration": 382,
    "start_time": "2022-04-21T02:55:57.186Z"
   },
   {
    "duration": 12,
    "start_time": "2022-04-21T02:55:57.570Z"
   },
   {
    "duration": 53,
    "start_time": "2022-04-21T02:55:57.584Z"
   },
   {
    "duration": 9,
    "start_time": "2022-04-21T02:55:57.638Z"
   },
   {
    "duration": 69,
    "start_time": "2022-04-21T02:55:57.649Z"
   },
   {
    "duration": 8,
    "start_time": "2022-04-21T02:55:57.720Z"
   },
   {
    "duration": 48,
    "start_time": "2022-04-21T02:55:57.729Z"
   },
   {
    "duration": 8,
    "start_time": "2022-04-21T02:55:57.779Z"
   },
   {
    "duration": 33,
    "start_time": "2022-04-21T02:55:57.790Z"
   },
   {
    "duration": 9,
    "start_time": "2022-04-21T02:55:57.825Z"
   },
   {
    "duration": 46,
    "start_time": "2022-04-21T02:55:57.836Z"
   },
   {
    "duration": 74,
    "start_time": "2022-04-21T02:55:57.883Z"
   },
   {
    "duration": 15,
    "start_time": "2022-04-21T02:55:57.959Z"
   },
   {
    "duration": 13,
    "start_time": "2022-04-21T02:55:57.975Z"
   },
   {
    "duration": 5,
    "start_time": "2022-04-21T02:55:57.990Z"
   },
   {
    "duration": 51,
    "start_time": "2022-04-21T02:55:57.996Z"
   },
   {
    "duration": 55,
    "start_time": "2022-04-21T02:55:58.049Z"
   },
   {
    "duration": 25,
    "start_time": "2022-04-21T02:55:58.106Z"
   },
   {
    "duration": 48,
    "start_time": "2022-04-21T02:55:58.132Z"
   },
   {
    "duration": 22,
    "start_time": "2022-04-21T02:55:58.181Z"
   },
   {
    "duration": 7,
    "start_time": "2022-04-21T02:55:58.205Z"
   },
   {
    "duration": 3,
    "start_time": "2022-04-21T02:55:58.214Z"
   },
   {
    "duration": 8,
    "start_time": "2022-04-21T02:55:58.219Z"
   },
   {
    "duration": 7,
    "start_time": "2022-04-21T02:55:58.228Z"
   },
   {
    "duration": 37,
    "start_time": "2022-04-21T02:55:58.236Z"
   },
   {
    "duration": 4,
    "start_time": "2022-04-21T02:55:58.275Z"
   },
   {
    "duration": 8,
    "start_time": "2022-04-21T02:55:58.284Z"
   },
   {
    "duration": 3,
    "start_time": "2022-04-21T02:55:58.294Z"
   },
   {
    "duration": 7,
    "start_time": "2022-04-21T02:55:58.299Z"
   },
   {
    "duration": 89,
    "start_time": "2022-04-21T02:55:58.307Z"
   },
   {
    "duration": 77,
    "start_time": "2022-04-21T02:55:58.398Z"
   },
   {
    "duration": 2311,
    "start_time": "2022-04-21T02:55:58.477Z"
   },
   {
    "duration": 39,
    "start_time": "2022-04-21T02:56:00.790Z"
   },
   {
    "duration": 6,
    "start_time": "2022-04-21T02:56:00.831Z"
   },
   {
    "duration": 37,
    "start_time": "2022-04-21T02:56:00.839Z"
   },
   {
    "duration": 50,
    "start_time": "2022-04-21T02:57:09.096Z"
   },
   {
    "duration": 1359,
    "start_time": "2022-04-22T01:15:55.787Z"
   },
   {
    "duration": 645,
    "start_time": "2022-04-22T01:15:57.148Z"
   },
   {
    "duration": 15,
    "start_time": "2022-04-22T01:15:57.795Z"
   },
   {
    "duration": 180,
    "start_time": "2022-04-22T01:15:57.813Z"
   },
   {
    "duration": 14,
    "start_time": "2022-04-22T01:15:57.995Z"
   },
   {
    "duration": 129,
    "start_time": "2022-04-22T01:15:58.011Z"
   },
   {
    "duration": 12,
    "start_time": "2022-04-22T01:15:58.192Z"
   },
   {
    "duration": 100,
    "start_time": "2022-04-22T01:15:58.206Z"
   },
   {
    "duration": 11,
    "start_time": "2022-04-22T01:15:58.308Z"
   },
   {
    "duration": 100,
    "start_time": "2022-04-22T01:15:58.324Z"
   },
   {
    "duration": 69,
    "start_time": "2022-04-22T01:15:58.426Z"
   },
   {
    "duration": 31,
    "start_time": "2022-04-22T01:15:58.497Z"
   },
   {
    "duration": 280,
    "start_time": "2022-04-22T01:15:58.530Z"
   },
   {
    "duration": 4,
    "start_time": "2022-04-22T01:15:58.813Z"
   },
   {
    "duration": 13,
    "start_time": "2022-04-22T01:15:58.818Z"
   },
   {
    "duration": 60,
    "start_time": "2022-04-22T01:15:58.833Z"
   },
   {
    "duration": 113,
    "start_time": "2022-04-22T01:15:58.895Z"
   },
   {
    "duration": 87,
    "start_time": "2022-04-22T01:15:59.010Z"
   },
   {
    "duration": 29,
    "start_time": "2022-04-22T01:15:59.099Z"
   },
   {
    "duration": 91,
    "start_time": "2022-04-22T01:15:59.129Z"
   },
   {
    "duration": 73,
    "start_time": "2022-04-22T01:15:59.222Z"
   },
   {
    "duration": 7,
    "start_time": "2022-04-22T01:15:59.296Z"
   },
   {
    "duration": 3,
    "start_time": "2022-04-22T01:15:59.305Z"
   },
   {
    "duration": 8,
    "start_time": "2022-04-22T01:15:59.309Z"
   },
   {
    "duration": 6,
    "start_time": "2022-04-22T01:15:59.319Z"
   },
   {
    "duration": 9,
    "start_time": "2022-04-22T01:15:59.326Z"
   },
   {
    "duration": 57,
    "start_time": "2022-04-22T01:15:59.337Z"
   },
   {
    "duration": 6,
    "start_time": "2022-04-22T01:15:59.398Z"
   },
   {
    "duration": 3,
    "start_time": "2022-04-22T01:15:59.406Z"
   },
   {
    "duration": 6,
    "start_time": "2022-04-22T01:15:59.411Z"
   },
   {
    "duration": 95,
    "start_time": "2022-04-22T01:15:59.418Z"
   },
   {
    "duration": 77,
    "start_time": "2022-04-22T01:15:59.515Z"
   },
   {
    "duration": 1682,
    "start_time": "2022-04-22T01:15:59.594Z"
   },
   {
    "duration": 45,
    "start_time": "2022-04-22T01:16:01.278Z"
   },
   {
    "duration": 7,
    "start_time": "2022-04-22T01:16:01.324Z"
   },
   {
    "duration": 19,
    "start_time": "2022-04-22T01:16:01.333Z"
   },
   {
    "duration": 37,
    "start_time": "2022-04-22T01:32:16.449Z"
   },
   {
    "duration": 28,
    "start_time": "2022-04-22T01:34:16.486Z"
   },
   {
    "duration": 3,
    "start_time": "2022-04-22T01:43:28.930Z"
   },
   {
    "duration": 3,
    "start_time": "2022-04-22T01:43:34.250Z"
   },
   {
    "duration": 3,
    "start_time": "2022-04-22T01:58:12.712Z"
   },
   {
    "duration": 6,
    "start_time": "2022-04-22T01:58:23.299Z"
   },
   {
    "duration": 6,
    "start_time": "2022-04-22T02:35:45.711Z"
   },
   {
    "duration": 37,
    "start_time": "2022-04-22T02:38:38.532Z"
   },
   {
    "duration": 27,
    "start_time": "2022-04-22T03:23:48.516Z"
   },
   {
    "duration": 25,
    "start_time": "2022-04-22T03:24:16.872Z"
   },
   {
    "duration": 39,
    "start_time": "2022-04-22T03:30:35.110Z"
   },
   {
    "duration": 39,
    "start_time": "2022-04-22T03:35:35.884Z"
   },
   {
    "duration": 21,
    "start_time": "2022-04-22T03:36:50.564Z"
   },
   {
    "duration": 1168,
    "start_time": "2022-04-22T03:37:10.618Z"
   },
   {
    "duration": 385,
    "start_time": "2022-04-22T03:37:11.788Z"
   },
   {
    "duration": 12,
    "start_time": "2022-04-22T03:37:12.177Z"
   },
   {
    "duration": 51,
    "start_time": "2022-04-22T03:37:12.192Z"
   },
   {
    "duration": 9,
    "start_time": "2022-04-22T03:37:12.245Z"
   },
   {
    "duration": 63,
    "start_time": "2022-04-22T03:37:12.256Z"
   },
   {
    "duration": 8,
    "start_time": "2022-04-22T03:37:12.321Z"
   },
   {
    "duration": 39,
    "start_time": "2022-04-22T03:37:12.330Z"
   },
   {
    "duration": 8,
    "start_time": "2022-04-22T03:37:12.370Z"
   },
   {
    "duration": 32,
    "start_time": "2022-04-22T03:37:12.393Z"
   },
   {
    "duration": 10,
    "start_time": "2022-04-22T03:37:12.427Z"
   },
   {
    "duration": 24,
    "start_time": "2022-04-22T03:37:12.439Z"
   },
   {
    "duration": 98,
    "start_time": "2022-04-22T03:37:12.464Z"
   },
   {
    "duration": 4,
    "start_time": "2022-04-22T03:37:12.564Z"
   },
   {
    "duration": 31,
    "start_time": "2022-04-22T03:37:12.569Z"
   },
   {
    "duration": 5,
    "start_time": "2022-04-22T03:37:12.602Z"
   },
   {
    "duration": 54,
    "start_time": "2022-04-22T03:37:12.608Z"
   },
   {
    "duration": 57,
    "start_time": "2022-04-22T03:37:12.664Z"
   },
   {
    "duration": 44,
    "start_time": "2022-04-22T03:37:12.724Z"
   },
   {
    "duration": 48,
    "start_time": "2022-04-22T03:37:12.771Z"
   },
   {
    "duration": 24,
    "start_time": "2022-04-22T03:37:12.821Z"
   },
   {
    "duration": 7,
    "start_time": "2022-04-22T03:37:12.847Z"
   },
   {
    "duration": 4,
    "start_time": "2022-04-22T03:37:12.856Z"
   },
   {
    "duration": 9,
    "start_time": "2022-04-22T03:37:12.861Z"
   },
   {
    "duration": 23,
    "start_time": "2022-04-22T03:37:12.872Z"
   },
   {
    "duration": 6,
    "start_time": "2022-04-22T03:37:12.897Z"
   },
   {
    "duration": 5,
    "start_time": "2022-04-22T03:37:12.905Z"
   },
   {
    "duration": 6,
    "start_time": "2022-04-22T03:37:12.913Z"
   },
   {
    "duration": 11,
    "start_time": "2022-04-22T03:37:12.921Z"
   },
   {
    "duration": 58,
    "start_time": "2022-04-22T03:37:12.934Z"
   },
   {
    "duration": 28,
    "start_time": "2022-04-22T03:37:12.994Z"
   },
   {
    "duration": 1676,
    "start_time": "2022-04-22T03:37:13.024Z"
   },
   {
    "duration": 22,
    "start_time": "2022-04-22T03:37:14.701Z"
   },
   {
    "duration": 10,
    "start_time": "2022-04-22T03:37:14.725Z"
   },
   {
    "duration": 7,
    "start_time": "2022-04-22T03:37:14.737Z"
   },
   {
    "duration": 22,
    "start_time": "2022-04-22T03:37:46.466Z"
   },
   {
    "duration": 1239,
    "start_time": "2022-04-22T03:37:54.657Z"
   },
   {
    "duration": 521,
    "start_time": "2022-04-22T03:37:55.898Z"
   },
   {
    "duration": 13,
    "start_time": "2022-04-22T03:37:56.420Z"
   },
   {
    "duration": 97,
    "start_time": "2022-04-22T03:37:56.435Z"
   },
   {
    "duration": 62,
    "start_time": "2022-04-22T03:37:56.533Z"
   },
   {
    "duration": 106,
    "start_time": "2022-04-22T03:37:56.597Z"
   },
   {
    "duration": 7,
    "start_time": "2022-04-22T03:37:56.704Z"
   },
   {
    "duration": 80,
    "start_time": "2022-04-22T03:37:56.713Z"
   },
   {
    "duration": 8,
    "start_time": "2022-04-22T03:37:56.795Z"
   },
   {
    "duration": 88,
    "start_time": "2022-04-22T03:37:56.806Z"
   },
   {
    "duration": 10,
    "start_time": "2022-04-22T03:37:56.896Z"
   },
   {
    "duration": 23,
    "start_time": "2022-04-22T03:37:56.908Z"
   },
   {
    "duration": 185,
    "start_time": "2022-04-22T03:37:56.932Z"
   },
   {
    "duration": 3,
    "start_time": "2022-04-22T03:37:57.119Z"
   },
   {
    "duration": 71,
    "start_time": "2022-04-22T03:37:57.123Z"
   },
   {
    "duration": 7,
    "start_time": "2022-04-22T03:37:57.195Z"
   },
   {
    "duration": 109,
    "start_time": "2022-04-22T03:37:57.204Z"
   },
   {
    "duration": 85,
    "start_time": "2022-04-22T03:37:57.314Z"
   },
   {
    "duration": 26,
    "start_time": "2022-04-22T03:37:57.401Z"
   },
   {
    "duration": 79,
    "start_time": "2022-04-22T03:37:57.429Z"
   },
   {
    "duration": 25,
    "start_time": "2022-04-22T03:37:57.509Z"
   },
   {
    "duration": 57,
    "start_time": "2022-04-22T03:37:57.536Z"
   },
   {
    "duration": 8,
    "start_time": "2022-04-22T03:37:57.594Z"
   },
   {
    "duration": 10,
    "start_time": "2022-04-22T03:37:57.603Z"
   },
   {
    "duration": 4,
    "start_time": "2022-04-22T03:37:57.615Z"
   },
   {
    "duration": 6,
    "start_time": "2022-04-22T03:37:57.621Z"
   },
   {
    "duration": 15,
    "start_time": "2022-04-22T03:37:57.628Z"
   },
   {
    "duration": 7,
    "start_time": "2022-04-22T03:37:57.694Z"
   },
   {
    "duration": 5,
    "start_time": "2022-04-22T03:37:57.702Z"
   },
   {
    "duration": 90,
    "start_time": "2022-04-22T03:37:57.709Z"
   },
   {
    "duration": 28,
    "start_time": "2022-04-22T03:37:57.801Z"
   },
   {
    "duration": 1755,
    "start_time": "2022-04-22T03:37:57.831Z"
   },
   {
    "duration": 20,
    "start_time": "2022-04-22T03:37:59.588Z"
   },
   {
    "duration": 7,
    "start_time": "2022-04-22T03:37:59.610Z"
   },
   {
    "duration": 7,
    "start_time": "2022-04-22T03:37:59.619Z"
   },
   {
    "duration": 29,
    "start_time": "2022-04-22T03:38:07.957Z"
   },
   {
    "duration": 22,
    "start_time": "2022-04-22T03:38:13.114Z"
   },
   {
    "duration": 38,
    "start_time": "2022-04-22T03:38:54.382Z"
   },
   {
    "duration": 39,
    "start_time": "2022-04-22T03:39:08.274Z"
   },
   {
    "duration": 1351,
    "start_time": "2022-04-22T03:39:15.338Z"
   },
   {
    "duration": 386,
    "start_time": "2022-04-22T03:39:16.690Z"
   },
   {
    "duration": 13,
    "start_time": "2022-04-22T03:39:17.077Z"
   },
   {
    "duration": 53,
    "start_time": "2022-04-22T03:39:17.093Z"
   },
   {
    "duration": 9,
    "start_time": "2022-04-22T03:39:17.148Z"
   },
   {
    "duration": 66,
    "start_time": "2022-04-22T03:39:17.159Z"
   },
   {
    "duration": 8,
    "start_time": "2022-04-22T03:39:17.226Z"
   },
   {
    "duration": 32,
    "start_time": "2022-04-22T03:39:17.235Z"
   },
   {
    "duration": 25,
    "start_time": "2022-04-22T03:39:17.269Z"
   },
   {
    "duration": 31,
    "start_time": "2022-04-22T03:39:17.297Z"
   },
   {
    "duration": 10,
    "start_time": "2022-04-22T03:39:17.330Z"
   },
   {
    "duration": 21,
    "start_time": "2022-04-22T03:39:17.342Z"
   },
   {
    "duration": 75,
    "start_time": "2022-04-22T03:39:17.392Z"
   },
   {
    "duration": 3,
    "start_time": "2022-04-22T03:39:17.469Z"
   },
   {
    "duration": 27,
    "start_time": "2022-04-22T03:39:17.474Z"
   },
   {
    "duration": 5,
    "start_time": "2022-04-22T03:39:17.502Z"
   },
   {
    "duration": 54,
    "start_time": "2022-04-22T03:39:17.509Z"
   },
   {
    "duration": 50,
    "start_time": "2022-04-22T03:39:17.565Z"
   },
   {
    "duration": 28,
    "start_time": "2022-04-22T03:39:17.617Z"
   },
   {
    "duration": 47,
    "start_time": "2022-04-22T03:39:17.647Z"
   },
   {
    "duration": 25,
    "start_time": "2022-04-22T03:39:17.695Z"
   },
   {
    "duration": 8,
    "start_time": "2022-04-22T03:39:17.721Z"
   },
   {
    "duration": 4,
    "start_time": "2022-04-22T03:39:17.730Z"
   },
   {
    "duration": 8,
    "start_time": "2022-04-22T03:39:17.735Z"
   },
   {
    "duration": 6,
    "start_time": "2022-04-22T03:39:17.744Z"
   },
   {
    "duration": 6,
    "start_time": "2022-04-22T03:39:17.752Z"
   },
   {
    "duration": 33,
    "start_time": "2022-04-22T03:39:17.760Z"
   },
   {
    "duration": 7,
    "start_time": "2022-04-22T03:39:17.796Z"
   },
   {
    "duration": 6,
    "start_time": "2022-04-22T03:39:17.804Z"
   },
   {
    "duration": 43,
    "start_time": "2022-04-22T03:39:17.811Z"
   },
   {
    "duration": 44,
    "start_time": "2022-04-22T03:39:17.856Z"
   },
   {
    "duration": 1838,
    "start_time": "2022-04-22T03:39:17.902Z"
   },
   {
    "duration": 56,
    "start_time": "2022-04-22T03:39:19.741Z"
   },
   {
    "duration": 7,
    "start_time": "2022-04-22T03:39:19.798Z"
   },
   {
    "duration": 9,
    "start_time": "2022-04-22T03:39:19.806Z"
   },
   {
    "duration": 40,
    "start_time": "2022-04-22T04:12:05.616Z"
   },
   {
    "duration": 106,
    "start_time": "2022-04-22T04:40:09.464Z"
   },
   {
    "duration": 9,
    "start_time": "2022-04-22T04:40:28.504Z"
   },
   {
    "duration": 14,
    "start_time": "2022-04-22T04:40:32.924Z"
   },
   {
    "duration": 12,
    "start_time": "2022-04-22T04:44:45.497Z"
   },
   {
    "duration": 3,
    "start_time": "2022-04-22T04:45:23.133Z"
   },
   {
    "duration": 52,
    "start_time": "2022-04-22T10:30:24.016Z"
   },
   {
    "duration": 1309,
    "start_time": "2022-04-22T10:30:33.837Z"
   },
   {
    "duration": 365,
    "start_time": "2022-04-22T10:30:35.148Z"
   },
   {
    "duration": 13,
    "start_time": "2022-04-22T10:30:35.515Z"
   },
   {
    "duration": 49,
    "start_time": "2022-04-22T10:30:35.530Z"
   },
   {
    "duration": 9,
    "start_time": "2022-04-22T10:30:35.580Z"
   },
   {
    "duration": 47,
    "start_time": "2022-04-22T10:30:35.591Z"
   },
   {
    "duration": 19,
    "start_time": "2022-04-22T10:30:35.640Z"
   },
   {
    "duration": 29,
    "start_time": "2022-04-22T10:30:35.660Z"
   },
   {
    "duration": 7,
    "start_time": "2022-04-22T10:30:35.691Z"
   },
   {
    "duration": 30,
    "start_time": "2022-04-22T10:30:35.700Z"
   },
   {
    "duration": 10,
    "start_time": "2022-04-22T10:30:35.755Z"
   },
   {
    "duration": 29,
    "start_time": "2022-04-22T10:30:35.767Z"
   },
   {
    "duration": 84,
    "start_time": "2022-04-22T10:30:35.797Z"
   },
   {
    "duration": 4,
    "start_time": "2022-04-22T10:30:35.882Z"
   },
   {
    "duration": 22,
    "start_time": "2022-04-22T10:30:35.888Z"
   },
   {
    "duration": 7,
    "start_time": "2022-04-22T10:30:35.912Z"
   },
   {
    "duration": 61,
    "start_time": "2022-04-22T10:30:35.921Z"
   },
   {
    "duration": 30,
    "start_time": "2022-04-22T10:30:35.984Z"
   },
   {
    "duration": 24,
    "start_time": "2022-04-22T10:30:36.015Z"
   },
   {
    "duration": 24,
    "start_time": "2022-04-22T10:30:36.055Z"
   },
   {
    "duration": 23,
    "start_time": "2022-04-22T10:30:36.081Z"
   },
   {
    "duration": 8,
    "start_time": "2022-04-22T10:30:36.106Z"
   },
   {
    "duration": 6,
    "start_time": "2022-04-22T10:30:36.115Z"
   },
   {
    "duration": 32,
    "start_time": "2022-04-22T10:30:36.123Z"
   },
   {
    "duration": 9,
    "start_time": "2022-04-22T10:30:36.157Z"
   },
   {
    "duration": 20,
    "start_time": "2022-04-22T10:30:36.168Z"
   },
   {
    "duration": 6,
    "start_time": "2022-04-22T10:30:36.190Z"
   },
   {
    "duration": 7,
    "start_time": "2022-04-22T10:30:36.200Z"
   },
   {
    "duration": 6,
    "start_time": "2022-04-22T10:30:36.209Z"
   },
   {
    "duration": 50,
    "start_time": "2022-04-22T10:30:36.216Z"
   },
   {
    "duration": 23,
    "start_time": "2022-04-22T10:30:36.268Z"
   },
   {
    "duration": 1258,
    "start_time": "2022-04-22T10:30:36.293Z"
   },
   {
    "duration": 36,
    "start_time": "2022-04-22T10:30:37.555Z"
   },
   {
    "duration": 3,
    "start_time": "2022-04-22T10:30:37.593Z"
   },
   {
    "duration": 6,
    "start_time": "2022-04-22T10:30:37.597Z"
   },
   {
    "duration": 18,
    "start_time": "2022-04-22T10:30:37.605Z"
   },
   {
    "duration": 8,
    "start_time": "2022-04-22T10:30:37.625Z"
   },
   {
    "duration": 853,
    "start_time": "2022-04-22T10:38:35.637Z"
   },
   {
    "duration": 19,
    "start_time": "2022-04-22T10:39:15.849Z"
   },
   {
    "duration": 100,
    "start_time": "2022-04-22T10:43:34.303Z"
   },
   {
    "duration": 1129,
    "start_time": "2022-04-22T10:43:47.710Z"
   },
   {
    "duration": 358,
    "start_time": "2022-04-22T10:43:48.841Z"
   },
   {
    "duration": 12,
    "start_time": "2022-04-22T10:43:49.200Z"
   },
   {
    "duration": 52,
    "start_time": "2022-04-22T10:43:49.214Z"
   },
   {
    "duration": 8,
    "start_time": "2022-04-22T10:43:49.268Z"
   },
   {
    "duration": 50,
    "start_time": "2022-04-22T10:43:49.277Z"
   },
   {
    "duration": 6,
    "start_time": "2022-04-22T10:43:49.329Z"
   },
   {
    "duration": 37,
    "start_time": "2022-04-22T10:43:49.337Z"
   },
   {
    "duration": 7,
    "start_time": "2022-04-22T10:43:49.376Z"
   },
   {
    "duration": 37,
    "start_time": "2022-04-22T10:43:49.385Z"
   },
   {
    "duration": 8,
    "start_time": "2022-04-22T10:43:49.424Z"
   },
   {
    "duration": 33,
    "start_time": "2022-04-22T10:43:49.433Z"
   },
   {
    "duration": 67,
    "start_time": "2022-04-22T10:43:49.468Z"
   },
   {
    "duration": 18,
    "start_time": "2022-04-22T10:43:49.537Z"
   },
   {
    "duration": 14,
    "start_time": "2022-04-22T10:43:49.557Z"
   },
   {
    "duration": 5,
    "start_time": "2022-04-22T10:43:49.572Z"
   },
   {
    "duration": 50,
    "start_time": "2022-04-22T10:43:49.579Z"
   },
   {
    "duration": 49,
    "start_time": "2022-04-22T10:43:49.630Z"
   },
   {
    "duration": 23,
    "start_time": "2022-04-22T10:43:49.681Z"
   },
   {
    "duration": 22,
    "start_time": "2022-04-22T10:43:49.706Z"
   },
   {
    "duration": 43,
    "start_time": "2022-04-22T10:43:49.730Z"
   },
   {
    "duration": 6,
    "start_time": "2022-04-22T10:43:49.774Z"
   },
   {
    "duration": 17,
    "start_time": "2022-04-22T10:43:49.782Z"
   },
   {
    "duration": 19,
    "start_time": "2022-04-22T10:43:49.800Z"
   },
   {
    "duration": 35,
    "start_time": "2022-04-22T10:43:49.820Z"
   },
   {
    "duration": 22,
    "start_time": "2022-04-22T10:43:49.856Z"
   },
   {
    "duration": 8,
    "start_time": "2022-04-22T10:43:49.879Z"
   },
   {
    "duration": 15,
    "start_time": "2022-04-22T10:43:49.890Z"
   },
   {
    "duration": 21,
    "start_time": "2022-04-22T10:43:49.907Z"
   },
   {
    "duration": 47,
    "start_time": "2022-04-22T10:43:49.929Z"
   },
   {
    "duration": 18,
    "start_time": "2022-04-22T10:43:49.978Z"
   },
   {
    "duration": 857,
    "start_time": "2022-04-22T10:43:49.998Z"
   },
   {
    "duration": 100,
    "start_time": "2022-04-22T10:43:50.857Z"
   },
   {
    "duration": 0,
    "start_time": "2022-04-22T10:43:50.958Z"
   },
   {
    "duration": 0,
    "start_time": "2022-04-22T10:43:50.960Z"
   },
   {
    "duration": 0,
    "start_time": "2022-04-22T10:43:50.961Z"
   },
   {
    "duration": 0,
    "start_time": "2022-04-22T10:43:50.961Z"
   },
   {
    "duration": 23,
    "start_time": "2022-04-22T10:48:32.136Z"
   },
   {
    "duration": 45,
    "start_time": "2022-04-22T10:48:38.712Z"
   },
   {
    "duration": 152,
    "start_time": "2022-04-22T10:53:34.770Z"
   },
   {
    "duration": 159,
    "start_time": "2022-04-22T10:53:57.222Z"
   },
   {
    "duration": 157,
    "start_time": "2022-04-22T10:54:02.506Z"
   },
   {
    "duration": 31,
    "start_time": "2022-04-22T10:54:10.354Z"
   },
   {
    "duration": 20,
    "start_time": "2022-04-22T11:05:22.295Z"
   },
   {
    "duration": 114,
    "start_time": "2022-04-22T11:27:22.555Z"
   },
   {
    "duration": 33,
    "start_time": "2022-04-22T12:13:11.717Z"
   },
   {
    "duration": 21,
    "start_time": "2022-04-22T12:14:49.768Z"
   },
   {
    "duration": 25,
    "start_time": "2022-04-22T12:15:04.350Z"
   },
   {
    "duration": 22,
    "start_time": "2022-04-22T12:15:19.617Z"
   },
   {
    "duration": 20,
    "start_time": "2022-04-22T12:16:22.134Z"
   },
   {
    "duration": 2464,
    "start_time": "2022-04-22T12:18:21.259Z"
   },
   {
    "duration": 10,
    "start_time": "2022-04-22T12:20:21.296Z"
   },
   {
    "duration": 1393,
    "start_time": "2022-04-22T12:29:09.723Z"
   },
   {
    "duration": 1626,
    "start_time": "2022-04-22T12:29:44.883Z"
   },
   {
    "duration": 19,
    "start_time": "2022-04-22T12:36:36.658Z"
   },
   {
    "duration": 20,
    "start_time": "2022-04-22T12:36:43.390Z"
   },
   {
    "duration": 2198,
    "start_time": "2022-04-22T12:42:58.092Z"
   },
   {
    "duration": 1205,
    "start_time": "2022-04-22T12:53:47.145Z"
   },
   {
    "duration": 357,
    "start_time": "2022-04-22T12:53:48.352Z"
   },
   {
    "duration": 12,
    "start_time": "2022-04-22T12:53:48.711Z"
   },
   {
    "duration": 50,
    "start_time": "2022-04-22T12:53:48.724Z"
   },
   {
    "duration": 9,
    "start_time": "2022-04-22T12:53:48.775Z"
   },
   {
    "duration": 45,
    "start_time": "2022-04-22T12:53:48.785Z"
   },
   {
    "duration": 6,
    "start_time": "2022-04-22T12:53:48.832Z"
   },
   {
    "duration": 26,
    "start_time": "2022-04-22T12:53:48.854Z"
   },
   {
    "duration": 6,
    "start_time": "2022-04-22T12:53:48.882Z"
   },
   {
    "duration": 33,
    "start_time": "2022-04-22T12:53:48.890Z"
   },
   {
    "duration": 9,
    "start_time": "2022-04-22T12:53:48.925Z"
   },
   {
    "duration": 20,
    "start_time": "2022-04-22T12:53:48.954Z"
   },
   {
    "duration": 87,
    "start_time": "2022-04-22T12:53:48.976Z"
   },
   {
    "duration": 3,
    "start_time": "2022-04-22T12:53:49.065Z"
   },
   {
    "duration": 16,
    "start_time": "2022-04-22T12:53:49.070Z"
   },
   {
    "duration": 6,
    "start_time": "2022-04-22T12:53:49.088Z"
   },
   {
    "duration": 71,
    "start_time": "2022-04-22T12:53:49.095Z"
   },
   {
    "duration": 31,
    "start_time": "2022-04-22T12:53:49.168Z"
   },
   {
    "duration": 26,
    "start_time": "2022-04-22T12:53:49.200Z"
   },
   {
    "duration": 44,
    "start_time": "2022-04-22T12:53:49.228Z"
   },
   {
    "duration": 23,
    "start_time": "2022-04-22T12:53:49.274Z"
   },
   {
    "duration": 7,
    "start_time": "2022-04-22T12:53:49.298Z"
   },
   {
    "duration": 10,
    "start_time": "2022-04-22T12:53:49.306Z"
   },
   {
    "duration": 28,
    "start_time": "2022-04-22T12:53:49.317Z"
   },
   {
    "duration": 14,
    "start_time": "2022-04-22T12:53:49.346Z"
   },
   {
    "duration": 9,
    "start_time": "2022-04-22T12:53:49.362Z"
   },
   {
    "duration": 6,
    "start_time": "2022-04-22T12:53:49.372Z"
   },
   {
    "duration": 7,
    "start_time": "2022-04-22T12:53:49.381Z"
   },
   {
    "duration": 5,
    "start_time": "2022-04-22T12:53:49.390Z"
   },
   {
    "duration": 35,
    "start_time": "2022-04-22T12:53:49.397Z"
   },
   {
    "duration": 34,
    "start_time": "2022-04-22T12:53:49.434Z"
   },
   {
    "duration": 964,
    "start_time": "2022-04-22T12:53:49.470Z"
   },
   {
    "duration": 42,
    "start_time": "2022-04-22T12:53:50.436Z"
   },
   {
    "duration": 105,
    "start_time": "2022-04-22T12:53:50.480Z"
   },
   {
    "duration": 2241,
    "start_time": "2022-04-22T12:53:50.587Z"
   },
   {
    "duration": 7,
    "start_time": "2022-04-22T12:53:52.829Z"
   },
   {
    "duration": 18,
    "start_time": "2022-04-22T12:53:52.838Z"
   },
   {
    "duration": 1829,
    "start_time": "2022-04-23T02:57:45.399Z"
   },
   {
    "duration": 504,
    "start_time": "2022-04-23T02:57:47.231Z"
   },
   {
    "duration": 19,
    "start_time": "2022-04-23T02:57:47.737Z"
   },
   {
    "duration": 68,
    "start_time": "2022-04-23T02:57:47.759Z"
   },
   {
    "duration": 13,
    "start_time": "2022-04-23T02:57:47.830Z"
   },
   {
    "duration": 83,
    "start_time": "2022-04-23T02:57:47.845Z"
   },
   {
    "duration": 11,
    "start_time": "2022-04-23T02:57:47.930Z"
   },
   {
    "duration": 59,
    "start_time": "2022-04-23T02:57:47.943Z"
   },
   {
    "duration": 11,
    "start_time": "2022-04-23T02:57:48.004Z"
   },
   {
    "duration": 74,
    "start_time": "2022-04-23T02:57:48.019Z"
   },
   {
    "duration": 16,
    "start_time": "2022-04-23T02:57:48.095Z"
   },
   {
    "duration": 32,
    "start_time": "2022-04-23T02:57:48.114Z"
   },
   {
    "duration": 143,
    "start_time": "2022-04-23T02:57:48.148Z"
   },
   {
    "duration": 5,
    "start_time": "2022-04-23T02:57:48.293Z"
   },
   {
    "duration": 16,
    "start_time": "2022-04-23T02:57:48.300Z"
   },
   {
    "duration": 9,
    "start_time": "2022-04-23T02:57:48.318Z"
   },
   {
    "duration": 102,
    "start_time": "2022-04-23T02:57:48.329Z"
   },
   {
    "duration": 60,
    "start_time": "2022-04-23T02:57:48.434Z"
   },
   {
    "duration": 36,
    "start_time": "2022-04-23T02:57:48.497Z"
   },
   {
    "duration": 57,
    "start_time": "2022-04-23T02:57:48.536Z"
   },
   {
    "duration": 35,
    "start_time": "2022-04-23T02:57:48.596Z"
   },
   {
    "duration": 10,
    "start_time": "2022-04-23T02:57:48.633Z"
   },
   {
    "duration": 4,
    "start_time": "2022-04-23T02:57:48.645Z"
   },
   {
    "duration": 38,
    "start_time": "2022-04-23T02:57:48.652Z"
   },
   {
    "duration": 11,
    "start_time": "2022-04-23T02:57:48.692Z"
   },
   {
    "duration": 11,
    "start_time": "2022-04-23T02:57:48.705Z"
   },
   {
    "duration": 8,
    "start_time": "2022-04-23T02:57:48.718Z"
   },
   {
    "duration": 11,
    "start_time": "2022-04-23T02:57:48.731Z"
   },
   {
    "duration": 42,
    "start_time": "2022-04-23T02:57:48.744Z"
   },
   {
    "duration": 60,
    "start_time": "2022-04-23T02:57:48.789Z"
   },
   {
    "duration": 50,
    "start_time": "2022-04-23T02:57:48.851Z"
   },
   {
    "duration": 1545,
    "start_time": "2022-04-23T02:57:48.903Z"
   },
   {
    "duration": 57,
    "start_time": "2022-04-23T02:57:50.451Z"
   },
   {
    "duration": 129,
    "start_time": "2022-04-23T02:57:50.510Z"
   },
   {
    "duration": 3704,
    "start_time": "2022-04-23T02:57:50.642Z"
   },
   {
    "duration": 11,
    "start_time": "2022-04-23T02:57:54.348Z"
   },
   {
    "duration": 28,
    "start_time": "2022-04-23T02:57:54.361Z"
   },
   {
    "duration": 150,
    "start_time": "2022-04-23T03:39:03.349Z"
   },
   {
    "duration": 1542,
    "start_time": "2022-04-23T03:39:10.784Z"
   },
   {
    "duration": 532,
    "start_time": "2022-04-23T03:39:12.329Z"
   },
   {
    "duration": 20,
    "start_time": "2022-04-23T03:39:12.864Z"
   },
   {
    "duration": 73,
    "start_time": "2022-04-23T03:39:12.889Z"
   },
   {
    "duration": 28,
    "start_time": "2022-04-23T03:39:12.965Z"
   },
   {
    "duration": 87,
    "start_time": "2022-04-23T03:39:12.995Z"
   },
   {
    "duration": 11,
    "start_time": "2022-04-23T03:39:13.084Z"
   },
   {
    "duration": 44,
    "start_time": "2022-04-23T03:39:13.097Z"
   },
   {
    "duration": 39,
    "start_time": "2022-04-23T03:39:13.143Z"
   },
   {
    "duration": 53,
    "start_time": "2022-04-23T03:39:13.186Z"
   },
   {
    "duration": 45,
    "start_time": "2022-04-23T03:39:13.241Z"
   },
   {
    "duration": 33,
    "start_time": "2022-04-23T03:39:13.288Z"
   },
   {
    "duration": 135,
    "start_time": "2022-04-23T03:39:13.324Z"
   },
   {
    "duration": 4,
    "start_time": "2022-04-23T03:39:13.462Z"
   },
   {
    "duration": 28,
    "start_time": "2022-04-23T03:39:13.468Z"
   },
   {
    "duration": 10,
    "start_time": "2022-04-23T03:39:13.498Z"
   },
   {
    "duration": 91,
    "start_time": "2022-04-23T03:39:13.511Z"
   },
   {
    "duration": 47,
    "start_time": "2022-04-23T03:39:13.604Z"
   },
   {
    "duration": 57,
    "start_time": "2022-04-23T03:39:13.653Z"
   },
   {
    "duration": 37,
    "start_time": "2022-04-23T03:39:13.713Z"
   },
   {
    "duration": 56,
    "start_time": "2022-04-23T03:39:13.753Z"
   },
   {
    "duration": 9,
    "start_time": "2022-04-23T03:39:13.812Z"
   },
   {
    "duration": 6,
    "start_time": "2022-04-23T03:39:13.823Z"
   },
   {
    "duration": 12,
    "start_time": "2022-04-23T03:39:13.831Z"
   },
   {
    "duration": 8,
    "start_time": "2022-04-23T03:39:13.845Z"
   },
   {
    "duration": 37,
    "start_time": "2022-04-23T03:39:13.856Z"
   },
   {
    "duration": 7,
    "start_time": "2022-04-23T03:39:13.895Z"
   },
   {
    "duration": 8,
    "start_time": "2022-04-23T03:39:13.907Z"
   },
   {
    "duration": 8,
    "start_time": "2022-04-23T03:39:13.917Z"
   },
   {
    "duration": 85,
    "start_time": "2022-04-23T03:39:13.928Z"
   },
   {
    "duration": 32,
    "start_time": "2022-04-23T03:39:14.015Z"
   },
   {
    "duration": 1950,
    "start_time": "2022-04-23T03:39:14.050Z"
   },
   {
    "duration": 181,
    "start_time": "2022-04-23T03:39:16.003Z"
   },
   {
    "duration": 320,
    "start_time": "2022-04-23T03:39:16.186Z"
   },
   {
    "duration": 10,
    "start_time": "2022-04-23T03:39:16.509Z"
   },
   {
    "duration": 6294,
    "start_time": "2022-04-23T03:39:16.522Z"
   },
   {
    "duration": 11,
    "start_time": "2022-04-23T03:39:22.818Z"
   },
   {
    "duration": 10,
    "start_time": "2022-04-23T03:39:22.831Z"
   },
   {
    "duration": 156,
    "start_time": "2022-04-23T03:41:26.460Z"
   },
   {
    "duration": 8,
    "start_time": "2022-04-23T03:41:33.716Z"
   },
   {
    "duration": 11,
    "start_time": "2022-04-23T03:41:51.845Z"
   },
   {
    "duration": 9,
    "start_time": "2022-04-23T03:42:04.076Z"
   },
   {
    "duration": 11,
    "start_time": "2022-04-23T03:42:25.353Z"
   },
   {
    "duration": 3817,
    "start_time": "2022-04-23T03:55:29.846Z"
   },
   {
    "duration": 3433,
    "start_time": "2022-04-23T04:09:24.340Z"
   },
   {
    "duration": 4548,
    "start_time": "2022-04-23T04:09:43.320Z"
   },
   {
    "duration": 3913,
    "start_time": "2022-04-23T04:09:57.236Z"
   },
   {
    "duration": 4172,
    "start_time": "2022-04-23T04:11:01.877Z"
   },
   {
    "duration": 3929,
    "start_time": "2022-04-23T04:11:32.521Z"
   },
   {
    "duration": 3950,
    "start_time": "2022-04-23T04:11:38.493Z"
   },
   {
    "duration": 34,
    "start_time": "2022-04-23T04:12:13.177Z"
   },
   {
    "duration": 762,
    "start_time": "2022-04-23T04:17:55.838Z"
   },
   {
    "duration": 746,
    "start_time": "2022-04-23T04:18:29.543Z"
   },
   {
    "duration": 968,
    "start_time": "2022-04-23T04:21:06.941Z"
   },
   {
    "duration": 109,
    "start_time": "2022-04-23T04:21:26.601Z"
   },
   {
    "duration": 111,
    "start_time": "2022-04-23T04:21:29.117Z"
   },
   {
    "duration": 768,
    "start_time": "2022-04-23T04:21:31.424Z"
   },
   {
    "duration": 874,
    "start_time": "2022-04-23T04:21:47.436Z"
   },
   {
    "duration": 3833,
    "start_time": "2022-04-23T04:21:55.556Z"
   },
   {
    "duration": 4101,
    "start_time": "2022-04-23T04:22:16.792Z"
   },
   {
    "duration": 762,
    "start_time": "2022-04-23T04:26:33.110Z"
   },
   {
    "duration": 1251,
    "start_time": "2022-04-23T04:27:24.151Z"
   },
   {
    "duration": 903,
    "start_time": "2022-04-23T04:27:34.502Z"
   },
   {
    "duration": 767,
    "start_time": "2022-04-23T04:27:41.751Z"
   },
   {
    "duration": 885,
    "start_time": "2022-04-23T04:28:02.499Z"
   },
   {
    "duration": 762,
    "start_time": "2022-04-23T04:28:11.338Z"
   },
   {
    "duration": 878,
    "start_time": "2022-04-23T04:28:38.291Z"
   },
   {
    "duration": 770,
    "start_time": "2022-04-23T04:29:48.764Z"
   },
   {
    "duration": 758,
    "start_time": "2022-04-23T04:29:58.056Z"
   },
   {
    "duration": 3882,
    "start_time": "2022-04-23T04:30:06.108Z"
   },
   {
    "duration": 4199,
    "start_time": "2022-04-23T04:30:18.020Z"
   },
   {
    "duration": 3973,
    "start_time": "2022-04-23T04:30:34.532Z"
   },
   {
    "duration": 4099,
    "start_time": "2022-04-23T04:30:45.649Z"
   },
   {
    "duration": 4023,
    "start_time": "2022-04-23T04:32:49.564Z"
   },
   {
    "duration": 331,
    "start_time": "2022-04-23T04:33:01.796Z"
   },
   {
    "duration": 324,
    "start_time": "2022-04-23T04:33:09.840Z"
   },
   {
    "duration": 350,
    "start_time": "2022-04-23T04:33:20.576Z"
   },
   {
    "duration": 330,
    "start_time": "2022-04-23T04:33:26.944Z"
   },
   {
    "duration": 252,
    "start_time": "2022-04-23T04:33:36.332Z"
   },
   {
    "duration": 227,
    "start_time": "2022-04-23T04:33:41.284Z"
   },
   {
    "duration": 374,
    "start_time": "2022-04-23T04:33:50.217Z"
   },
   {
    "duration": 191,
    "start_time": "2022-04-23T04:33:58.112Z"
   },
   {
    "duration": 209,
    "start_time": "2022-04-23T04:34:08.284Z"
   },
   {
    "duration": 197,
    "start_time": "2022-04-23T04:34:20.805Z"
   },
   {
    "duration": 216,
    "start_time": "2022-04-23T04:34:30.488Z"
   },
   {
    "duration": 234,
    "start_time": "2022-04-23T04:34:40.521Z"
   },
   {
    "duration": 228,
    "start_time": "2022-04-23T04:34:43.204Z"
   },
   {
    "duration": 210,
    "start_time": "2022-04-23T04:34:53.941Z"
   },
   {
    "duration": 223,
    "start_time": "2022-04-23T04:34:59.049Z"
   },
   {
    "duration": 215,
    "start_time": "2022-04-23T04:35:04.189Z"
   },
   {
    "duration": 221,
    "start_time": "2022-04-23T04:35:08.837Z"
   },
   {
    "duration": 3300,
    "start_time": "2022-04-23T04:35:25.297Z"
   },
   {
    "duration": 3879,
    "start_time": "2022-04-23T04:35:50.145Z"
   },
   {
    "duration": 3990,
    "start_time": "2022-04-23T04:36:27.478Z"
   },
   {
    "duration": 729,
    "start_time": "2022-04-23T04:37:00.037Z"
   },
   {
    "duration": 746,
    "start_time": "2022-04-23T04:37:06.401Z"
   },
   {
    "duration": 916,
    "start_time": "2022-04-23T04:37:32.246Z"
   },
   {
    "duration": 464,
    "start_time": "2022-04-23T04:37:45.258Z"
   },
   {
    "duration": 484,
    "start_time": "2022-04-23T04:38:05.150Z"
   },
   {
    "duration": 475,
    "start_time": "2022-04-23T04:38:21.518Z"
   },
   {
    "duration": 474,
    "start_time": "2022-04-23T04:38:25.910Z"
   },
   {
    "duration": 13,
    "start_time": "2022-04-23T05:13:54.476Z"
   },
   {
    "duration": 17,
    "start_time": "2022-04-23T05:27:05.887Z"
   },
   {
    "duration": 9,
    "start_time": "2022-04-23T05:38:42.220Z"
   },
   {
    "duration": 617,
    "start_time": "2022-04-23T05:38:42.231Z"
   },
   {
    "duration": 13,
    "start_time": "2022-04-23T05:38:42.850Z"
   },
   {
    "duration": 78,
    "start_time": "2022-04-23T05:38:42.866Z"
   },
   {
    "duration": 14,
    "start_time": "2022-04-23T05:38:42.946Z"
   },
   {
    "duration": 69,
    "start_time": "2022-04-23T05:38:42.982Z"
   },
   {
    "duration": 30,
    "start_time": "2022-04-23T05:38:43.054Z"
   },
   {
    "duration": 48,
    "start_time": "2022-04-23T05:38:43.091Z"
   },
   {
    "duration": 12,
    "start_time": "2022-04-23T05:38:43.141Z"
   },
   {
    "duration": 91,
    "start_time": "2022-04-23T05:38:43.155Z"
   },
   {
    "duration": 16,
    "start_time": "2022-04-23T05:38:43.248Z"
   },
   {
    "duration": 44,
    "start_time": "2022-04-23T05:38:43.289Z"
   },
   {
    "duration": 131,
    "start_time": "2022-04-23T05:38:43.335Z"
   },
   {
    "duration": 4,
    "start_time": "2022-04-23T05:38:43.469Z"
   },
   {
    "duration": 18,
    "start_time": "2022-04-23T05:38:43.489Z"
   },
   {
    "duration": 6,
    "start_time": "2022-04-23T05:38:43.510Z"
   },
   {
    "duration": 96,
    "start_time": "2022-04-23T05:38:43.518Z"
   },
   {
    "duration": 50,
    "start_time": "2022-04-23T05:38:43.616Z"
   },
   {
    "duration": 62,
    "start_time": "2022-04-23T05:38:43.668Z"
   },
   {
    "duration": 63,
    "start_time": "2022-04-23T05:38:43.732Z"
   },
   {
    "duration": 38,
    "start_time": "2022-04-23T05:38:43.799Z"
   },
   {
    "duration": 10,
    "start_time": "2022-04-23T05:38:43.839Z"
   },
   {
    "duration": 6,
    "start_time": "2022-04-23T05:38:43.851Z"
   },
   {
    "duration": 43,
    "start_time": "2022-04-23T05:38:43.859Z"
   },
   {
    "duration": 10,
    "start_time": "2022-04-23T05:38:43.905Z"
   },
   {
    "duration": 13,
    "start_time": "2022-04-23T05:38:43.917Z"
   },
   {
    "duration": 6,
    "start_time": "2022-04-23T05:38:43.932Z"
   },
   {
    "duration": 15,
    "start_time": "2022-04-23T05:38:43.941Z"
   },
   {
    "duration": 49,
    "start_time": "2022-04-23T05:38:43.958Z"
   },
   {
    "duration": 65,
    "start_time": "2022-04-23T05:38:44.010Z"
   },
   {
    "duration": 49,
    "start_time": "2022-04-23T05:38:44.077Z"
   },
   {
    "duration": 1908,
    "start_time": "2022-04-23T05:38:44.128Z"
   },
   {
    "duration": 78,
    "start_time": "2022-04-23T05:38:46.039Z"
   },
   {
    "duration": 35,
    "start_time": "2022-04-23T05:38:46.120Z"
   },
   {
    "duration": 4172,
    "start_time": "2022-04-23T05:38:46.157Z"
   },
   {
    "duration": 545,
    "start_time": "2022-04-23T05:38:50.331Z"
   },
   {
    "duration": 21,
    "start_time": "2022-04-23T05:38:50.882Z"
   },
   {
    "duration": 14,
    "start_time": "2022-04-23T05:38:50.906Z"
   },
   {
    "duration": 1512,
    "start_time": "2022-04-29T20:13:11.654Z"
   },
   {
    "duration": 483,
    "start_time": "2022-04-29T20:13:13.169Z"
   },
   {
    "duration": 17,
    "start_time": "2022-04-29T20:13:13.655Z"
   },
   {
    "duration": 90,
    "start_time": "2022-04-29T20:13:13.675Z"
   },
   {
    "duration": 12,
    "start_time": "2022-04-29T20:13:13.768Z"
   },
   {
    "duration": 80,
    "start_time": "2022-04-29T20:13:13.782Z"
   },
   {
    "duration": 11,
    "start_time": "2022-04-29T20:13:13.864Z"
   },
   {
    "duration": 41,
    "start_time": "2022-04-29T20:13:13.877Z"
   },
   {
    "duration": 41,
    "start_time": "2022-04-29T20:13:13.920Z"
   },
   {
    "duration": 50,
    "start_time": "2022-04-29T20:13:13.965Z"
   },
   {
    "duration": 43,
    "start_time": "2022-04-29T20:13:14.017Z"
   },
   {
    "duration": 32,
    "start_time": "2022-04-29T20:13:14.062Z"
   },
   {
    "duration": 137,
    "start_time": "2022-04-29T20:13:14.096Z"
   },
   {
    "duration": 4,
    "start_time": "2022-04-29T20:13:14.236Z"
   },
   {
    "duration": 14,
    "start_time": "2022-04-29T20:13:14.252Z"
   },
   {
    "duration": 10,
    "start_time": "2022-04-29T20:13:14.268Z"
   },
   {
    "duration": 97,
    "start_time": "2022-04-29T20:13:14.280Z"
   },
   {
    "duration": 47,
    "start_time": "2022-04-29T20:13:14.379Z"
   },
   {
    "duration": 49,
    "start_time": "2022-04-29T20:13:14.428Z"
   },
   {
    "duration": 37,
    "start_time": "2022-04-29T20:13:14.479Z"
   },
   {
    "duration": 59,
    "start_time": "2022-04-29T20:13:14.518Z"
   },
   {
    "duration": 10,
    "start_time": "2022-04-29T20:13:14.579Z"
   },
   {
    "duration": 5,
    "start_time": "2022-04-29T20:13:14.591Z"
   },
   {
    "duration": 16,
    "start_time": "2022-04-29T20:13:14.599Z"
   },
   {
    "duration": 36,
    "start_time": "2022-04-29T20:13:14.618Z"
   },
   {
    "duration": 11,
    "start_time": "2022-04-29T20:13:14.656Z"
   },
   {
    "duration": 8,
    "start_time": "2022-04-29T20:13:14.669Z"
   },
   {
    "duration": 9,
    "start_time": "2022-04-29T20:13:14.682Z"
   },
   {
    "duration": 9,
    "start_time": "2022-04-29T20:13:14.694Z"
   },
   {
    "duration": 97,
    "start_time": "2022-04-29T20:13:14.705Z"
   },
   {
    "duration": 47,
    "start_time": "2022-04-29T20:13:14.805Z"
   },
   {
    "duration": 1659,
    "start_time": "2022-04-29T20:13:14.854Z"
   },
   {
    "duration": 67,
    "start_time": "2022-04-29T20:13:16.516Z"
   },
   {
    "duration": 143,
    "start_time": "2022-04-29T20:13:16.589Z"
   },
   {
    "duration": 3873,
    "start_time": "2022-04-29T20:13:16.734Z"
   },
   {
    "duration": 491,
    "start_time": "2022-04-29T20:13:20.611Z"
   },
   {
    "duration": 10,
    "start_time": "2022-04-29T20:13:21.105Z"
   },
   {
    "duration": 35,
    "start_time": "2022-04-29T20:13:21.118Z"
   },
   {
    "duration": 35,
    "start_time": "2022-04-29T20:17:03.876Z"
   },
   {
    "duration": 19,
    "start_time": "2022-04-29T20:17:23.446Z"
   },
   {
    "duration": 20,
    "start_time": "2022-04-29T20:18:10.522Z"
   },
   {
    "duration": 43,
    "start_time": "2022-04-29T20:18:34.236Z"
   },
   {
    "duration": 1937,
    "start_time": "2022-05-03T06:51:50.367Z"
   },
   {
    "duration": 541,
    "start_time": "2022-05-03T06:51:52.307Z"
   },
   {
    "duration": 19,
    "start_time": "2022-05-03T06:51:52.850Z"
   },
   {
    "duration": 76,
    "start_time": "2022-05-03T06:51:52.871Z"
   },
   {
    "duration": 12,
    "start_time": "2022-05-03T06:51:52.949Z"
   },
   {
    "duration": 88,
    "start_time": "2022-05-03T06:51:52.963Z"
   },
   {
    "duration": 15,
    "start_time": "2022-05-03T06:51:53.054Z"
   },
   {
    "duration": 61,
    "start_time": "2022-05-03T06:51:53.071Z"
   },
   {
    "duration": 11,
    "start_time": "2022-05-03T06:51:53.134Z"
   },
   {
    "duration": 69,
    "start_time": "2022-05-03T06:51:53.149Z"
   },
   {
    "duration": 16,
    "start_time": "2022-05-03T06:51:53.220Z"
   },
   {
    "duration": 30,
    "start_time": "2022-05-03T06:51:53.238Z"
   },
   {
    "duration": 146,
    "start_time": "2022-05-03T06:51:53.270Z"
   },
   {
    "duration": 4,
    "start_time": "2022-05-03T06:51:53.418Z"
   },
   {
    "duration": 15,
    "start_time": "2022-05-03T06:51:53.424Z"
   },
   {
    "duration": 10,
    "start_time": "2022-05-03T06:51:53.442Z"
   },
   {
    "duration": 90,
    "start_time": "2022-05-03T06:51:53.455Z"
   },
   {
    "duration": 56,
    "start_time": "2022-05-03T06:51:53.547Z"
   },
   {
    "duration": 38,
    "start_time": "2022-05-03T06:51:53.605Z"
   },
   {
    "duration": 56,
    "start_time": "2022-05-03T06:51:53.645Z"
   },
   {
    "duration": 38,
    "start_time": "2022-05-03T06:51:53.703Z"
   },
   {
    "duration": 11,
    "start_time": "2022-05-03T06:51:53.743Z"
   },
   {
    "duration": 4,
    "start_time": "2022-05-03T06:51:53.756Z"
   },
   {
    "duration": 34,
    "start_time": "2022-05-03T06:51:53.762Z"
   },
   {
    "duration": 6,
    "start_time": "2022-05-03T06:51:53.799Z"
   },
   {
    "duration": 9,
    "start_time": "2022-05-03T06:51:53.807Z"
   },
   {
    "duration": 6,
    "start_time": "2022-05-03T06:51:53.818Z"
   },
   {
    "duration": 8,
    "start_time": "2022-05-03T06:51:53.829Z"
   },
   {
    "duration": 9,
    "start_time": "2022-05-03T06:51:53.839Z"
   },
   {
    "duration": 93,
    "start_time": "2022-05-03T06:51:53.850Z"
   },
   {
    "duration": 52,
    "start_time": "2022-05-03T06:51:53.945Z"
   },
   {
    "duration": 924,
    "start_time": "2022-05-03T06:51:54.000Z"
   },
   {
    "duration": 36,
    "start_time": "2022-05-03T06:51:54.926Z"
   },
   {
    "duration": 148,
    "start_time": "2022-05-03T06:51:54.964Z"
   },
   {
    "duration": 2095,
    "start_time": "2022-05-03T06:51:55.114Z"
   },
   {
    "duration": 271,
    "start_time": "2022-05-03T06:51:57.210Z"
   },
   {
    "duration": 12,
    "start_time": "2022-05-03T06:51:57.483Z"
   },
   {
    "duration": 10,
    "start_time": "2022-05-03T06:51:57.496Z"
   },
   {
    "duration": 30,
    "start_time": "2022-05-03T07:20:57.716Z"
   },
   {
    "duration": 136,
    "start_time": "2022-05-03T07:25:20.424Z"
   },
   {
    "duration": 26,
    "start_time": "2022-05-03T07:26:13.416Z"
   },
   {
    "duration": 12,
    "start_time": "2022-05-03T07:30:25.722Z"
   },
   {
    "duration": 128,
    "start_time": "2022-05-03T07:31:51.586Z"
   },
   {
    "duration": 25,
    "start_time": "2022-05-03T07:40:29.446Z"
   },
   {
    "duration": 27,
    "start_time": "2022-05-03T07:40:38.705Z"
   },
   {
    "duration": 24,
    "start_time": "2022-05-03T07:50:18.027Z"
   },
   {
    "duration": 25,
    "start_time": "2022-05-03T07:50:31.791Z"
   },
   {
    "duration": 105,
    "start_time": "2022-05-03T07:52:45.916Z"
   },
   {
    "duration": 4,
    "start_time": "2022-05-03T07:52:57.760Z"
   },
   {
    "duration": 7,
    "start_time": "2022-05-03T07:53:08.648Z"
   },
   {
    "duration": 4,
    "start_time": "2022-05-03T07:53:13.640Z"
   },
   {
    "duration": 3,
    "start_time": "2022-05-03T07:55:22.417Z"
   },
   {
    "duration": 7,
    "start_time": "2022-05-03T07:55:22.769Z"
   },
   {
    "duration": 3,
    "start_time": "2022-05-03T07:56:03.781Z"
   },
   {
    "duration": 8,
    "start_time": "2022-05-03T07:56:04.474Z"
   },
   {
    "duration": 5,
    "start_time": "2022-05-03T07:56:04.901Z"
   },
   {
    "duration": 5,
    "start_time": "2022-05-03T07:56:08.321Z"
   },
   {
    "duration": 7,
    "start_time": "2022-05-03T07:56:08.837Z"
   },
   {
    "duration": 3,
    "start_time": "2022-05-03T07:56:47.481Z"
   },
   {
    "duration": 390,
    "start_time": "2022-05-03T07:56:47.841Z"
   },
   {
    "duration": 10,
    "start_time": "2022-05-03T07:56:48.233Z"
   },
   {
    "duration": 52,
    "start_time": "2022-05-03T07:56:48.525Z"
   },
   {
    "duration": 10,
    "start_time": "2022-05-03T07:56:49.341Z"
   },
   {
    "duration": 47,
    "start_time": "2022-05-03T07:56:49.730Z"
   },
   {
    "duration": 8,
    "start_time": "2022-05-03T07:56:50.533Z"
   },
   {
    "duration": 31,
    "start_time": "2022-05-03T07:56:50.922Z"
   },
   {
    "duration": 8,
    "start_time": "2022-05-03T07:56:51.670Z"
   },
   {
    "duration": 34,
    "start_time": "2022-05-03T07:56:52.065Z"
   },
   {
    "duration": 12,
    "start_time": "2022-05-03T07:56:53.117Z"
   },
   {
    "duration": 23,
    "start_time": "2022-05-03T07:56:53.641Z"
   },
   {
    "duration": 72,
    "start_time": "2022-05-03T07:56:59.325Z"
   },
   {
    "duration": 3,
    "start_time": "2022-05-03T07:57:00.238Z"
   },
   {
    "duration": 8,
    "start_time": "2022-05-03T07:57:01.209Z"
   },
   {
    "duration": 57,
    "start_time": "2022-05-03T07:57:03.605Z"
   },
   {
    "duration": 33,
    "start_time": "2022-05-03T07:57:05.550Z"
   },
   {
    "duration": 29,
    "start_time": "2022-05-03T07:57:07.042Z"
   },
   {
    "duration": 28,
    "start_time": "2022-05-03T07:57:08.410Z"
   },
   {
    "duration": 25,
    "start_time": "2022-05-03T07:57:10.298Z"
   },
   {
    "duration": 8,
    "start_time": "2022-05-03T07:57:12.109Z"
   },
   {
    "duration": 3,
    "start_time": "2022-05-03T07:57:13.522Z"
   },
   {
    "duration": 7,
    "start_time": "2022-05-03T07:57:14.090Z"
   },
   {
    "duration": 4,
    "start_time": "2022-05-03T07:57:14.646Z"
   },
   {
    "duration": 5,
    "start_time": "2022-05-03T07:57:15.306Z"
   },
   {
    "duration": 7,
    "start_time": "2022-05-03T07:57:15.830Z"
   },
   {
    "duration": 10,
    "start_time": "2022-05-03T08:10:01.941Z"
   },
   {
    "duration": 2,
    "start_time": "2022-05-03T08:10:19.430Z"
   },
   {
    "duration": 16,
    "start_time": "2022-05-03T08:10:27.394Z"
   },
   {
    "duration": 8,
    "start_time": "2022-05-03T08:10:33.230Z"
   },
   {
    "duration": 3,
    "start_time": "2022-05-03T08:10:38.434Z"
   },
   {
    "duration": 9,
    "start_time": "2022-05-03T08:10:38.918Z"
   },
   {
    "duration": 4,
    "start_time": "2022-05-03T08:10:39.458Z"
   },
   {
    "duration": 5,
    "start_time": "2022-05-03T08:10:39.958Z"
   },
   {
    "duration": 6,
    "start_time": "2022-05-03T08:10:40.490Z"
   },
   {
    "duration": 4,
    "start_time": "2022-05-03T08:10:46.666Z"
   },
   {
    "duration": 7,
    "start_time": "2022-05-03T08:10:47.122Z"
   },
   {
    "duration": 5,
    "start_time": "2022-05-03T08:10:47.755Z"
   },
   {
    "duration": 35,
    "start_time": "2022-05-03T08:10:48.402Z"
   },
   {
    "duration": 23,
    "start_time": "2022-05-03T08:10:56.878Z"
   },
   {
    "duration": 1052,
    "start_time": "2022-05-03T08:10:57.726Z"
   },
   {
    "duration": 33,
    "start_time": "2022-05-03T08:11:03.327Z"
   },
   {
    "duration": 26,
    "start_time": "2022-05-03T08:11:05.258Z"
   },
   {
    "duration": 2301,
    "start_time": "2022-05-03T08:11:05.474Z"
   },
   {
    "duration": 309,
    "start_time": "2022-05-03T08:11:07.778Z"
   },
   {
    "duration": 7,
    "start_time": "2022-05-03T08:11:08.094Z"
   },
   {
    "duration": 8,
    "start_time": "2022-05-03T08:11:08.103Z"
   },
   {
    "duration": 6,
    "start_time": "2022-05-03T08:12:01.011Z"
   },
   {
    "duration": 21,
    "start_time": "2022-05-03T08:13:53.476Z"
   },
   {
    "duration": 20,
    "start_time": "2022-05-03T08:14:05.615Z"
   },
   {
    "duration": 21,
    "start_time": "2022-05-03T08:14:11.268Z"
   },
   {
    "duration": 16,
    "start_time": "2022-05-03T08:15:05.973Z"
   },
   {
    "duration": 20,
    "start_time": "2022-05-03T08:15:07.981Z"
   },
   {
    "duration": 24,
    "start_time": "2022-05-03T08:20:13.776Z"
   },
   {
    "duration": 1201,
    "start_time": "2022-05-03T08:22:15.002Z"
   },
   {
    "duration": 372,
    "start_time": "2022-05-03T08:22:16.205Z"
   },
   {
    "duration": 12,
    "start_time": "2022-05-03T08:22:16.579Z"
   },
   {
    "duration": 50,
    "start_time": "2022-05-03T08:22:16.594Z"
   },
   {
    "duration": 9,
    "start_time": "2022-05-03T08:22:16.645Z"
   },
   {
    "duration": 68,
    "start_time": "2022-05-03T08:22:16.656Z"
   },
   {
    "duration": 7,
    "start_time": "2022-05-03T08:22:16.726Z"
   },
   {
    "duration": 31,
    "start_time": "2022-05-03T08:22:16.735Z"
   },
   {
    "duration": 26,
    "start_time": "2022-05-03T08:22:16.768Z"
   },
   {
    "duration": 42,
    "start_time": "2022-05-03T08:22:16.798Z"
   },
   {
    "duration": 10,
    "start_time": "2022-05-03T08:22:16.842Z"
   },
   {
    "duration": 42,
    "start_time": "2022-05-03T08:22:16.854Z"
   },
   {
    "duration": 72,
    "start_time": "2022-05-03T08:22:16.898Z"
   },
   {
    "duration": 4,
    "start_time": "2022-05-03T08:22:16.972Z"
   },
   {
    "duration": 9,
    "start_time": "2022-05-03T08:22:16.993Z"
   },
   {
    "duration": 58,
    "start_time": "2022-05-03T08:22:17.004Z"
   },
   {
    "duration": 53,
    "start_time": "2022-05-03T08:22:17.064Z"
   },
   {
    "duration": 26,
    "start_time": "2022-05-03T08:22:17.119Z"
   },
   {
    "duration": 51,
    "start_time": "2022-05-03T08:22:17.147Z"
   },
   {
    "duration": 15,
    "start_time": "2022-05-03T08:22:17.200Z"
   },
   {
    "duration": 23,
    "start_time": "2022-05-03T08:22:17.217Z"
   },
   {
    "duration": 3,
    "start_time": "2022-05-03T08:22:17.242Z"
   },
   {
    "duration": 10,
    "start_time": "2022-05-03T08:22:17.247Z"
   },
   {
    "duration": 3,
    "start_time": "2022-05-03T08:22:17.259Z"
   },
   {
    "duration": 6,
    "start_time": "2022-05-03T08:22:17.292Z"
   },
   {
    "duration": 9,
    "start_time": "2022-05-03T08:22:17.299Z"
   },
   {
    "duration": 4,
    "start_time": "2022-05-03T08:22:17.310Z"
   },
   {
    "duration": 6,
    "start_time": "2022-05-03T08:22:17.317Z"
   },
   {
    "duration": 8,
    "start_time": "2022-05-03T08:22:17.325Z"
   },
   {
    "duration": 62,
    "start_time": "2022-05-03T08:22:17.335Z"
   },
   {
    "duration": 22,
    "start_time": "2022-05-03T08:22:17.400Z"
   },
   {
    "duration": 957,
    "start_time": "2022-05-03T08:22:17.424Z"
   },
   {
    "duration": 40,
    "start_time": "2022-05-03T08:22:18.382Z"
   },
   {
    "duration": 22,
    "start_time": "2022-05-03T08:22:18.424Z"
   },
   {
    "duration": 4107,
    "start_time": "2022-05-03T08:22:18.448Z"
   },
   {
    "duration": 430,
    "start_time": "2022-05-03T08:22:22.558Z"
   },
   {
    "duration": 8,
    "start_time": "2022-05-03T08:22:22.993Z"
   },
   {
    "duration": 14,
    "start_time": "2022-05-03T08:22:23.003Z"
   },
   {
    "duration": 306,
    "start_time": "2022-05-03T08:35:06.661Z"
   },
   {
    "duration": 510,
    "start_time": "2022-05-03T08:35:15.298Z"
   },
   {
    "duration": 508,
    "start_time": "2022-05-03T08:40:17.791Z"
   },
   {
    "duration": 1085,
    "start_time": "2022-05-03T08:43:28.510Z"
   },
   {
    "duration": 299,
    "start_time": "2022-05-03T08:43:41.161Z"
   },
   {
    "duration": 861,
    "start_time": "2022-05-03T08:47:33.434Z"
   },
   {
    "duration": 1266,
    "start_time": "2022-05-03T08:48:07.326Z"
   },
   {
    "duration": 430,
    "start_time": "2022-05-03T08:48:09.257Z"
   },
   {
    "duration": 505,
    "start_time": "2022-05-03T08:50:00.523Z"
   },
   {
    "duration": 219,
    "start_time": "2022-05-03T08:50:28.495Z"
   },
   {
    "duration": 323,
    "start_time": "2022-05-03T08:51:40.507Z"
   },
   {
    "duration": 450,
    "start_time": "2022-05-03T08:52:51.848Z"
   },
   {
    "duration": 440,
    "start_time": "2022-05-03T08:53:22.210Z"
   },
   {
    "duration": 1522,
    "start_time": "2022-05-04T02:06:34.834Z"
   },
   {
    "duration": 429,
    "start_time": "2022-05-04T02:06:36.359Z"
   },
   {
    "duration": 13,
    "start_time": "2022-05-04T02:06:36.789Z"
   },
   {
    "duration": 57,
    "start_time": "2022-05-04T02:06:36.804Z"
   },
   {
    "duration": 9,
    "start_time": "2022-05-04T02:06:36.863Z"
   },
   {
    "duration": 53,
    "start_time": "2022-05-04T02:06:36.873Z"
   },
   {
    "duration": 10,
    "start_time": "2022-05-04T02:06:36.937Z"
   },
   {
    "duration": 36,
    "start_time": "2022-05-04T02:06:36.949Z"
   },
   {
    "duration": 9,
    "start_time": "2022-05-04T02:06:36.987Z"
   },
   {
    "duration": 77,
    "start_time": "2022-05-04T02:06:37.000Z"
   },
   {
    "duration": 14,
    "start_time": "2022-05-04T02:06:37.079Z"
   },
   {
    "duration": 47,
    "start_time": "2022-05-04T02:06:37.095Z"
   },
   {
    "duration": 81,
    "start_time": "2022-05-04T02:06:37.144Z"
   },
   {
    "duration": 9,
    "start_time": "2022-05-04T02:06:37.226Z"
   },
   {
    "duration": 25,
    "start_time": "2022-05-04T02:06:37.237Z"
   },
   {
    "duration": 51,
    "start_time": "2022-05-04T02:06:37.264Z"
   },
   {
    "duration": 40,
    "start_time": "2022-05-04T02:06:37.317Z"
   },
   {
    "duration": 27,
    "start_time": "2022-05-04T02:06:37.358Z"
   },
   {
    "duration": 52,
    "start_time": "2022-05-04T02:06:37.387Z"
   },
   {
    "duration": 18,
    "start_time": "2022-05-04T02:06:37.441Z"
   },
   {
    "duration": 24,
    "start_time": "2022-05-04T02:06:37.461Z"
   },
   {
    "duration": 3,
    "start_time": "2022-05-04T02:06:37.486Z"
   },
   {
    "duration": 13,
    "start_time": "2022-05-04T02:06:37.490Z"
   },
   {
    "duration": 4,
    "start_time": "2022-05-04T02:06:37.504Z"
   },
   {
    "duration": 28,
    "start_time": "2022-05-04T02:06:37.509Z"
   },
   {
    "duration": 17,
    "start_time": "2022-05-04T02:06:37.539Z"
   },
   {
    "duration": 5,
    "start_time": "2022-05-04T02:06:37.558Z"
   },
   {
    "duration": 6,
    "start_time": "2022-05-04T02:06:37.567Z"
   },
   {
    "duration": 6,
    "start_time": "2022-05-04T02:06:37.575Z"
   },
   {
    "duration": 61,
    "start_time": "2022-05-04T02:06:37.582Z"
   },
   {
    "duration": 25,
    "start_time": "2022-05-04T02:06:37.645Z"
   },
   {
    "duration": 1053,
    "start_time": "2022-05-04T02:06:37.672Z"
   },
   {
    "duration": 42,
    "start_time": "2022-05-04T02:06:38.727Z"
   },
   {
    "duration": 24,
    "start_time": "2022-05-04T02:06:38.771Z"
   },
   {
    "duration": 2461,
    "start_time": "2022-05-04T02:06:38.796Z"
   },
   {
    "duration": 526,
    "start_time": "2022-05-04T02:06:41.260Z"
   },
   {
    "duration": 461,
    "start_time": "2022-05-04T02:06:41.788Z"
   },
   {
    "duration": 0,
    "start_time": "2022-05-04T02:06:42.251Z"
   },
   {
    "duration": 0,
    "start_time": "2022-05-04T02:06:42.252Z"
   },
   {
    "duration": 341,
    "start_time": "2022-05-04T02:22:09.748Z"
   },
   {
    "duration": 342,
    "start_time": "2022-05-04T02:28:49.058Z"
   },
   {
    "duration": 351,
    "start_time": "2022-05-04T02:36:06.176Z"
   },
   {
    "duration": 217,
    "start_time": "2022-05-04T02:37:39.333Z"
   },
   {
    "duration": 194,
    "start_time": "2022-05-04T02:37:47.181Z"
   },
   {
    "duration": 436,
    "start_time": "2022-05-04T02:37:53.969Z"
   },
   {
    "duration": 353,
    "start_time": "2022-05-04T02:46:35.088Z"
   },
   {
    "duration": 2167,
    "start_time": "2022-05-04T02:48:16.941Z"
   },
   {
    "duration": 2184,
    "start_time": "2022-05-04T02:48:48.973Z"
   },
   {
    "duration": 2533,
    "start_time": "2022-05-04T02:49:23.396Z"
   },
   {
    "duration": 2120,
    "start_time": "2022-05-04T02:50:22.253Z"
   },
   {
    "duration": 2454,
    "start_time": "2022-05-04T02:50:46.169Z"
   },
   {
    "duration": 21,
    "start_time": "2022-05-04T02:51:04.062Z"
   },
   {
    "duration": 2350,
    "start_time": "2022-05-04T02:51:13.170Z"
   },
   {
    "duration": 3734,
    "start_time": "2022-05-04T02:51:31.333Z"
   },
   {
    "duration": 3894,
    "start_time": "2022-05-04T03:20:29.292Z"
   },
   {
    "duration": 3790,
    "start_time": "2022-05-04T03:20:56.368Z"
   },
   {
    "duration": 3624,
    "start_time": "2022-05-04T03:22:00.452Z"
   },
   {
    "duration": 3806,
    "start_time": "2022-05-04T03:22:22.364Z"
   },
   {
    "duration": 4062,
    "start_time": "2022-05-04T03:23:04.637Z"
   },
   {
    "duration": 6633,
    "start_time": "2022-05-04T03:23:26.321Z"
   },
   {
    "duration": 180,
    "start_time": "2022-05-04T03:24:05.885Z"
   },
   {
    "duration": 3977,
    "start_time": "2022-05-04T03:24:20.549Z"
   },
   {
    "duration": 175,
    "start_time": "2022-05-04T03:27:15.958Z"
   },
   {
    "duration": 199,
    "start_time": "2022-05-04T03:28:11.542Z"
   },
   {
    "duration": 446,
    "start_time": "2022-05-04T03:28:20.430Z"
   },
   {
    "duration": 207,
    "start_time": "2022-05-04T03:28:35.682Z"
   },
   {
    "duration": 215,
    "start_time": "2022-05-04T03:30:51.715Z"
   },
   {
    "duration": 436,
    "start_time": "2022-05-04T03:31:18.823Z"
   },
   {
    "duration": 598,
    "start_time": "2022-05-04T03:31:19.863Z"
   },
   {
    "duration": 5679,
    "start_time": "2022-05-04T03:53:25.623Z"
   },
   {
    "duration": 3273,
    "start_time": "2022-05-04T03:54:09.151Z"
   },
   {
    "duration": 2613,
    "start_time": "2022-05-04T03:54:59.539Z"
   },
   {
    "duration": 9,
    "start_time": "2022-05-04T03:57:33.914Z"
   },
   {
    "duration": 1237,
    "start_time": "2022-05-04T03:59:06.669Z"
   },
   {
    "duration": 649,
    "start_time": "2022-05-04T03:59:12.013Z"
   },
   {
    "duration": 614,
    "start_time": "2022-05-04T03:59:30.589Z"
   },
   {
    "duration": 347,
    "start_time": "2022-05-04T03:59:45.597Z"
   },
   {
    "duration": 207,
    "start_time": "2022-05-04T04:00:50.531Z"
   },
   {
    "duration": 418,
    "start_time": "2022-05-04T04:00:58.245Z"
   },
   {
    "duration": 420,
    "start_time": "2022-05-04T04:01:08.305Z"
   },
   {
    "duration": 412,
    "start_time": "2022-05-04T04:01:22.510Z"
   },
   {
    "duration": 420,
    "start_time": "2022-05-04T04:01:28.298Z"
   },
   {
    "duration": 440,
    "start_time": "2022-05-04T04:01:37.693Z"
   },
   {
    "duration": 591,
    "start_time": "2022-05-04T04:02:01.754Z"
   },
   {
    "duration": 593,
    "start_time": "2022-05-04T04:04:42.851Z"
   },
   {
    "duration": 605,
    "start_time": "2022-05-04T04:05:07.543Z"
   },
   {
    "duration": 608,
    "start_time": "2022-05-04T04:05:20.275Z"
   },
   {
    "duration": 309,
    "start_time": "2022-05-04T04:07:55.203Z"
   },
   {
    "duration": 184,
    "start_time": "2022-05-04T04:09:07.583Z"
   },
   {
    "duration": 586,
    "start_time": "2022-05-04T04:11:09.114Z"
   },
   {
    "duration": 434,
    "start_time": "2022-05-04T04:11:23.679Z"
   },
   {
    "duration": 626,
    "start_time": "2022-05-04T04:11:32.970Z"
   },
   {
    "duration": 746,
    "start_time": "2022-05-04T04:15:19.043Z"
   },
   {
    "duration": 988,
    "start_time": "2022-05-04T04:15:35.700Z"
   },
   {
    "duration": 996,
    "start_time": "2022-05-04T04:16:03.889Z"
   },
   {
    "duration": 785,
    "start_time": "2022-05-04T04:16:19.484Z"
   },
   {
    "duration": 566,
    "start_time": "2022-05-04T04:19:52.977Z"
   },
   {
    "duration": 625,
    "start_time": "2022-05-04T04:20:04.209Z"
   },
   {
    "duration": 442,
    "start_time": "2022-05-04T04:22:29.298Z"
   },
   {
    "duration": 765,
    "start_time": "2022-05-04T04:22:35.555Z"
   },
   {
    "duration": 236,
    "start_time": "2022-05-04T04:22:45.646Z"
   },
   {
    "duration": 195,
    "start_time": "2022-05-04T04:22:55.862Z"
   },
   {
    "duration": 642,
    "start_time": "2022-05-04T04:22:58.554Z"
   },
   {
    "duration": 650,
    "start_time": "2022-05-04T04:23:16.566Z"
   },
   {
    "duration": 200,
    "start_time": "2022-05-04T04:23:44.067Z"
   },
   {
    "duration": 753,
    "start_time": "2022-05-04T04:24:39.423Z"
   },
   {
    "duration": 200,
    "start_time": "2022-05-04T04:28:07.720Z"
   },
   {
    "duration": 622,
    "start_time": "2022-05-04T04:28:28.216Z"
   },
   {
    "duration": 700,
    "start_time": "2022-05-04T04:31:59.157Z"
   },
   {
    "duration": 166,
    "start_time": "2022-05-04T04:32:13.026Z"
   },
   {
    "duration": 786,
    "start_time": "2022-05-04T04:32:16.709Z"
   },
   {
    "duration": 542,
    "start_time": "2022-05-04T04:32:51.294Z"
   },
   {
    "duration": 618,
    "start_time": "2022-05-04T04:33:02.721Z"
   },
   {
    "duration": 666,
    "start_time": "2022-05-04T04:33:14.394Z"
   },
   {
    "duration": 236,
    "start_time": "2022-05-04T04:34:15.834Z"
   },
   {
    "duration": 178,
    "start_time": "2022-05-04T04:34:22.774Z"
   },
   {
    "duration": 3294,
    "start_time": "2022-05-04T04:34:43.034Z"
   },
   {
    "duration": 3463,
    "start_time": "2022-05-04T04:34:57.306Z"
   },
   {
    "duration": 548,
    "start_time": "2022-05-04T04:35:22.079Z"
   },
   {
    "duration": 606,
    "start_time": "2022-05-04T04:35:44.919Z"
   },
   {
    "duration": 411,
    "start_time": "2022-05-04T04:38:54.075Z"
   },
   {
    "duration": 544,
    "start_time": "2022-05-04T04:40:16.244Z"
   },
   {
    "duration": 439,
    "start_time": "2022-05-04T04:41:22.476Z"
   },
   {
    "duration": 336,
    "start_time": "2022-05-04T04:41:30.061Z"
   },
   {
    "duration": 428,
    "start_time": "2022-05-04T04:41:57.897Z"
   },
   {
    "duration": 572,
    "start_time": "2022-05-04T04:42:36.689Z"
   },
   {
    "duration": 448,
    "start_time": "2022-05-04T04:43:21.658Z"
   },
   {
    "duration": 430,
    "start_time": "2022-05-04T04:43:30.613Z"
   },
   {
    "duration": 412,
    "start_time": "2022-05-04T04:43:51.450Z"
   },
   {
    "duration": 529,
    "start_time": "2022-05-04T04:47:43.810Z"
   },
   {
    "duration": 283,
    "start_time": "2022-05-04T04:53:15.008Z"
   },
   {
    "duration": 243,
    "start_time": "2022-05-04T04:53:34.193Z"
   },
   {
    "duration": 225,
    "start_time": "2022-05-04T04:54:04.832Z"
   },
   {
    "duration": 285,
    "start_time": "2022-05-04T04:54:10.148Z"
   },
   {
    "duration": 500,
    "start_time": "2022-05-04T04:54:23.020Z"
   },
   {
    "duration": 400,
    "start_time": "2022-05-04T04:54:34.133Z"
   },
   {
    "duration": 200,
    "start_time": "2022-05-04T04:55:18.197Z"
   },
   {
    "duration": 209,
    "start_time": "2022-05-04T04:55:56.321Z"
   },
   {
    "duration": 399,
    "start_time": "2022-05-04T04:55:58.409Z"
   },
   {
    "duration": 401,
    "start_time": "2022-05-04T04:56:07.893Z"
   },
   {
    "duration": 403,
    "start_time": "2022-05-04T04:56:44.949Z"
   },
   {
    "duration": 513,
    "start_time": "2022-05-04T04:57:11.745Z"
   },
   {
    "duration": 401,
    "start_time": "2022-05-04T04:57:45.736Z"
   },
   {
    "duration": 392,
    "start_time": "2022-05-04T04:59:07.001Z"
   },
   {
    "duration": 392,
    "start_time": "2022-05-04T05:00:17.231Z"
   },
   {
    "duration": 408,
    "start_time": "2022-05-04T05:00:41.939Z"
   },
   {
    "duration": 565,
    "start_time": "2022-05-04T05:00:57.947Z"
   },
   {
    "duration": 388,
    "start_time": "2022-05-04T05:01:17.916Z"
   },
   {
    "duration": 393,
    "start_time": "2022-05-04T05:01:26.829Z"
   },
   {
    "duration": 387,
    "start_time": "2022-05-04T05:01:52.352Z"
   },
   {
    "duration": 381,
    "start_time": "2022-05-04T05:02:18.608Z"
   },
   {
    "duration": 377,
    "start_time": "2022-05-04T05:04:52.945Z"
   },
   {
    "duration": 467,
    "start_time": "2022-05-04T05:05:05.178Z"
   },
   {
    "duration": 463,
    "start_time": "2022-05-04T05:05:09.129Z"
   },
   {
    "duration": 425,
    "start_time": "2022-05-04T05:05:18.545Z"
   },
   {
    "duration": 343,
    "start_time": "2022-05-04T05:05:30.838Z"
   },
   {
    "duration": 335,
    "start_time": "2022-05-04T05:05:39.177Z"
   },
   {
    "duration": 519,
    "start_time": "2022-05-04T05:05:42.361Z"
   },
   {
    "duration": 340,
    "start_time": "2022-05-04T05:06:04.649Z"
   },
   {
    "duration": 442,
    "start_time": "2022-05-04T05:06:40.146Z"
   },
   {
    "duration": 402,
    "start_time": "2022-05-04T05:07:22.894Z"
   },
   {
    "duration": 427,
    "start_time": "2022-05-04T05:07:45.314Z"
   },
   {
    "duration": 533,
    "start_time": "2022-05-04T05:14:07.148Z"
   },
   {
    "duration": 656,
    "start_time": "2022-05-04T05:14:16.060Z"
   },
   {
    "duration": 353,
    "start_time": "2022-05-04T05:14:27.450Z"
   },
   {
    "duration": 454,
    "start_time": "2022-05-04T05:14:38.897Z"
   },
   {
    "duration": 444,
    "start_time": "2022-05-04T05:17:01.330Z"
   },
   {
    "duration": 312,
    "start_time": "2022-05-04T05:17:10.078Z"
   },
   {
    "duration": 425,
    "start_time": "2022-05-04T05:17:14.794Z"
   },
   {
    "duration": 609,
    "start_time": "2022-05-04T05:17:29.189Z"
   },
   {
    "duration": 382,
    "start_time": "2022-05-04T05:18:16.175Z"
   },
   {
    "duration": 407,
    "start_time": "2022-05-04T05:18:29.782Z"
   },
   {
    "duration": 328,
    "start_time": "2022-05-04T05:19:07.826Z"
   },
   {
    "duration": 304,
    "start_time": "2022-05-04T05:19:41.574Z"
   },
   {
    "duration": 306,
    "start_time": "2022-05-04T05:19:48.106Z"
   },
   {
    "duration": 475,
    "start_time": "2022-05-04T05:21:53.748Z"
   },
   {
    "duration": 559,
    "start_time": "2022-05-04T05:22:10.251Z"
   },
   {
    "duration": 299,
    "start_time": "2022-05-04T05:22:20.047Z"
   },
   {
    "duration": 295,
    "start_time": "2022-05-04T05:26:20.873Z"
   },
   {
    "duration": 307,
    "start_time": "2022-05-04T05:26:32.132Z"
   },
   {
    "duration": 211,
    "start_time": "2022-05-04T05:26:48.997Z"
   },
   {
    "duration": 225,
    "start_time": "2022-05-04T05:26:55.469Z"
   },
   {
    "duration": 289,
    "start_time": "2022-05-04T05:27:00.789Z"
   },
   {
    "duration": 297,
    "start_time": "2022-05-04T05:27:19.473Z"
   },
   {
    "duration": 503,
    "start_time": "2022-05-04T05:27:25.257Z"
   },
   {
    "duration": 327,
    "start_time": "2022-05-04T05:28:15.649Z"
   },
   {
    "duration": 317,
    "start_time": "2022-05-04T05:28:19.209Z"
   },
   {
    "duration": 411,
    "start_time": "2022-05-04T05:28:29.898Z"
   },
   {
    "duration": 501,
    "start_time": "2022-05-04T05:28:33.210Z"
   },
   {
    "duration": 301,
    "start_time": "2022-05-04T05:28:43.909Z"
   },
   {
    "duration": 354,
    "start_time": "2022-05-04T05:28:54.725Z"
   },
   {
    "duration": 613,
    "start_time": "2022-05-04T05:29:31.282Z"
   },
   {
    "duration": 358,
    "start_time": "2022-05-04T05:29:37.721Z"
   },
   {
    "duration": 863,
    "start_time": "2022-05-04T05:30:17.546Z"
   },
   {
    "duration": 349,
    "start_time": "2022-05-04T05:30:31.326Z"
   },
   {
    "duration": 325,
    "start_time": "2022-05-04T05:31:51.826Z"
   },
   {
    "duration": 317,
    "start_time": "2022-05-04T05:32:51.231Z"
   },
   {
    "duration": 323,
    "start_time": "2022-05-04T05:33:17.627Z"
   },
   {
    "duration": 312,
    "start_time": "2022-05-04T05:33:27.387Z"
   },
   {
    "duration": 327,
    "start_time": "2022-05-04T05:33:34.599Z"
   },
   {
    "duration": 315,
    "start_time": "2022-05-04T05:34:23.582Z"
   },
   {
    "duration": 598,
    "start_time": "2022-05-04T05:36:19.448Z"
   },
   {
    "duration": 328,
    "start_time": "2022-05-04T05:40:06.005Z"
   },
   {
    "duration": 9,
    "start_time": "2022-05-04T05:41:23.509Z"
   },
   {
    "duration": 1173,
    "start_time": "2022-05-04T05:41:32.470Z"
   },
   {
    "duration": 432,
    "start_time": "2022-05-04T05:41:33.645Z"
   },
   {
    "duration": 12,
    "start_time": "2022-05-04T05:41:34.079Z"
   },
   {
    "duration": 53,
    "start_time": "2022-05-04T05:41:34.093Z"
   },
   {
    "duration": 9,
    "start_time": "2022-05-04T05:41:34.148Z"
   },
   {
    "duration": 52,
    "start_time": "2022-05-04T05:41:34.158Z"
   },
   {
    "duration": 7,
    "start_time": "2022-05-04T05:41:34.211Z"
   },
   {
    "duration": 41,
    "start_time": "2022-05-04T05:41:34.220Z"
   },
   {
    "duration": 7,
    "start_time": "2022-05-04T05:41:34.263Z"
   },
   {
    "duration": 35,
    "start_time": "2022-05-04T05:41:34.272Z"
   },
   {
    "duration": 33,
    "start_time": "2022-05-04T05:41:34.308Z"
   },
   {
    "duration": 23,
    "start_time": "2022-05-04T05:41:34.343Z"
   },
   {
    "duration": 100,
    "start_time": "2022-05-04T05:41:34.368Z"
   },
   {
    "duration": 4,
    "start_time": "2022-05-04T05:41:34.469Z"
   },
   {
    "duration": 14,
    "start_time": "2022-05-04T05:41:34.475Z"
   },
   {
    "duration": 62,
    "start_time": "2022-05-04T05:41:34.491Z"
   },
   {
    "duration": 36,
    "start_time": "2022-05-04T05:41:34.555Z"
   },
   {
    "duration": 45,
    "start_time": "2022-05-04T05:41:34.592Z"
   },
   {
    "duration": 29,
    "start_time": "2022-05-04T05:41:34.638Z"
   },
   {
    "duration": 14,
    "start_time": "2022-05-04T05:41:34.669Z"
   },
   {
    "duration": 24,
    "start_time": "2022-05-04T05:41:34.684Z"
   },
   {
    "duration": 3,
    "start_time": "2022-05-04T05:41:34.734Z"
   },
   {
    "duration": 10,
    "start_time": "2022-05-04T05:41:34.739Z"
   },
   {
    "duration": 10,
    "start_time": "2022-05-04T05:41:34.751Z"
   },
   {
    "duration": 8,
    "start_time": "2022-05-04T05:41:34.763Z"
   },
   {
    "duration": 10,
    "start_time": "2022-05-04T05:41:34.772Z"
   },
   {
    "duration": 5,
    "start_time": "2022-05-04T05:41:34.783Z"
   },
   {
    "duration": 8,
    "start_time": "2022-05-04T05:41:34.792Z"
   },
   {
    "duration": 6,
    "start_time": "2022-05-04T05:41:34.801Z"
   },
   {
    "duration": 51,
    "start_time": "2022-05-04T05:41:34.808Z"
   },
   {
    "duration": 77,
    "start_time": "2022-05-04T05:41:34.861Z"
   },
   {
    "duration": 1710,
    "start_time": "2022-05-04T05:41:34.940Z"
   },
   {
    "duration": 34,
    "start_time": "2022-05-04T05:41:36.652Z"
   },
   {
    "duration": 45,
    "start_time": "2022-05-04T05:41:36.688Z"
   },
   {
    "duration": 2306,
    "start_time": "2022-05-04T05:41:36.735Z"
   },
   {
    "duration": 508,
    "start_time": "2022-05-04T05:41:39.043Z"
   },
   {
    "duration": 314,
    "start_time": "2022-05-04T05:41:39.552Z"
   },
   {
    "duration": 7,
    "start_time": "2022-05-04T05:41:39.868Z"
   },
   {
    "duration": 11,
    "start_time": "2022-05-04T05:41:39.876Z"
   },
   {
    "duration": 7,
    "start_time": "2022-05-04T05:41:39.889Z"
   },
   {
    "duration": 7,
    "start_time": "2022-05-04T05:44:41.000Z"
   },
   {
    "duration": 6,
    "start_time": "2022-05-04T05:44:50.247Z"
   },
   {
    "duration": 5,
    "start_time": "2022-05-04T05:44:52.108Z"
   },
   {
    "duration": 6,
    "start_time": "2022-05-04T05:44:54.127Z"
   },
   {
    "duration": 5,
    "start_time": "2022-05-04T05:45:03.312Z"
   },
   {
    "duration": 5,
    "start_time": "2022-05-04T05:45:03.655Z"
   },
   {
    "duration": 6,
    "start_time": "2022-05-04T05:47:25.368Z"
   },
   {
    "duration": 176,
    "start_time": "2022-05-04T05:48:10.880Z"
   },
   {
    "duration": 5,
    "start_time": "2022-05-04T05:48:18.737Z"
   },
   {
    "duration": 5,
    "start_time": "2022-05-04T05:48:19.445Z"
   },
   {
    "duration": 1307,
    "start_time": "2022-05-04T06:02:25.642Z"
   },
   {
    "duration": 455,
    "start_time": "2022-05-04T06:02:26.952Z"
   },
   {
    "duration": 14,
    "start_time": "2022-05-04T06:02:27.409Z"
   },
   {
    "duration": 59,
    "start_time": "2022-05-04T06:02:27.426Z"
   },
   {
    "duration": 10,
    "start_time": "2022-05-04T06:02:27.486Z"
   },
   {
    "duration": 66,
    "start_time": "2022-05-04T06:02:27.498Z"
   },
   {
    "duration": 8,
    "start_time": "2022-05-04T06:02:27.566Z"
   },
   {
    "duration": 69,
    "start_time": "2022-05-04T06:02:27.575Z"
   },
   {
    "duration": 12,
    "start_time": "2022-05-04T06:02:27.647Z"
   },
   {
    "duration": 109,
    "start_time": "2022-05-04T06:02:27.663Z"
   },
   {
    "duration": 63,
    "start_time": "2022-05-04T06:02:27.773Z"
   },
   {
    "duration": 37,
    "start_time": "2022-05-04T06:02:27.838Z"
   },
   {
    "duration": 186,
    "start_time": "2022-05-04T06:02:27.877Z"
   },
   {
    "duration": 3,
    "start_time": "2022-05-04T06:02:28.065Z"
   },
   {
    "duration": 65,
    "start_time": "2022-05-04T06:02:28.070Z"
   },
   {
    "duration": 110,
    "start_time": "2022-05-04T06:02:28.137Z"
   },
   {
    "duration": 90,
    "start_time": "2022-05-04T06:02:28.249Z"
   },
   {
    "duration": 27,
    "start_time": "2022-05-04T06:02:28.340Z"
   },
   {
    "duration": 81,
    "start_time": "2022-05-04T06:02:28.369Z"
   },
   {
    "duration": 16,
    "start_time": "2022-05-04T06:02:28.452Z"
   },
   {
    "duration": 82,
    "start_time": "2022-05-04T06:02:28.470Z"
   },
   {
    "duration": 4,
    "start_time": "2022-05-04T06:02:28.553Z"
   },
   {
    "duration": 11,
    "start_time": "2022-05-04T06:02:28.558Z"
   },
   {
    "duration": 5,
    "start_time": "2022-05-04T06:02:28.570Z"
   },
   {
    "duration": 58,
    "start_time": "2022-05-04T06:02:28.577Z"
   },
   {
    "duration": 7,
    "start_time": "2022-05-04T06:02:28.637Z"
   },
   {
    "duration": 11,
    "start_time": "2022-05-04T06:02:28.646Z"
   },
   {
    "duration": 11,
    "start_time": "2022-05-04T06:02:28.660Z"
   },
   {
    "duration": 10,
    "start_time": "2022-05-04T06:02:28.673Z"
   },
   {
    "duration": 39,
    "start_time": "2022-05-04T06:02:28.733Z"
   },
   {
    "duration": 78,
    "start_time": "2022-05-04T06:02:28.774Z"
   },
   {
    "duration": 1405,
    "start_time": "2022-05-04T06:02:28.854Z"
   },
   {
    "duration": 36,
    "start_time": "2022-05-04T06:02:30.261Z"
   },
   {
    "duration": 51,
    "start_time": "2022-05-04T06:02:30.298Z"
   },
   {
    "duration": 2609,
    "start_time": "2022-05-04T06:02:30.351Z"
   },
   {
    "duration": 581,
    "start_time": "2022-05-04T06:02:32.961Z"
   },
   {
    "duration": 357,
    "start_time": "2022-05-04T06:02:33.544Z"
   },
   {
    "duration": 7,
    "start_time": "2022-05-04T06:02:33.903Z"
   },
   {
    "duration": 32,
    "start_time": "2022-05-04T06:02:33.912Z"
   },
   {
    "duration": 14,
    "start_time": "2022-05-04T06:02:33.946Z"
   },
   {
    "duration": 14,
    "start_time": "2022-05-04T06:02:33.962Z"
   },
   {
    "duration": 1137,
    "start_time": "2022-05-04T16:44:12.046Z"
   },
   {
    "duration": 366,
    "start_time": "2022-05-04T16:44:13.185Z"
   },
   {
    "duration": 13,
    "start_time": "2022-05-04T16:44:13.552Z"
   },
   {
    "duration": 57,
    "start_time": "2022-05-04T16:44:13.566Z"
   },
   {
    "duration": 9,
    "start_time": "2022-05-04T16:44:13.625Z"
   },
   {
    "duration": 58,
    "start_time": "2022-05-04T16:44:13.636Z"
   },
   {
    "duration": 8,
    "start_time": "2022-05-04T16:44:13.695Z"
   },
   {
    "duration": 30,
    "start_time": "2022-05-04T16:44:13.704Z"
   },
   {
    "duration": 7,
    "start_time": "2022-05-04T16:44:13.736Z"
   },
   {
    "duration": 60,
    "start_time": "2022-05-04T16:44:13.745Z"
   },
   {
    "duration": 10,
    "start_time": "2022-05-04T16:44:13.807Z"
   },
   {
    "duration": 22,
    "start_time": "2022-05-04T16:44:13.818Z"
   },
   {
    "duration": 97,
    "start_time": "2022-05-04T16:44:13.842Z"
   },
   {
    "duration": 3,
    "start_time": "2022-05-04T16:44:13.943Z"
   },
   {
    "duration": 13,
    "start_time": "2022-05-04T16:44:13.947Z"
   },
   {
    "duration": 62,
    "start_time": "2022-05-04T16:44:13.961Z"
   },
   {
    "duration": 35,
    "start_time": "2022-05-04T16:44:14.025Z"
   },
   {
    "duration": 42,
    "start_time": "2022-05-04T16:44:14.061Z"
   },
   {
    "duration": 28,
    "start_time": "2022-05-04T16:44:14.105Z"
   },
   {
    "duration": 15,
    "start_time": "2022-05-04T16:44:14.134Z"
   },
   {
    "duration": 43,
    "start_time": "2022-05-04T16:44:14.151Z"
   },
   {
    "duration": 3,
    "start_time": "2022-05-04T16:44:14.196Z"
   },
   {
    "duration": 11,
    "start_time": "2022-05-04T16:44:14.201Z"
   },
   {
    "duration": 4,
    "start_time": "2022-05-04T16:44:14.215Z"
   },
   {
    "duration": 7,
    "start_time": "2022-05-04T16:44:14.221Z"
   },
   {
    "duration": 7,
    "start_time": "2022-05-04T16:44:14.230Z"
   },
   {
    "duration": 7,
    "start_time": "2022-05-04T16:44:14.239Z"
   },
   {
    "duration": 12,
    "start_time": "2022-05-04T16:44:14.248Z"
   },
   {
    "duration": 8,
    "start_time": "2022-05-04T16:44:14.293Z"
   },
   {
    "duration": 80,
    "start_time": "2022-05-04T16:44:14.303Z"
   },
   {
    "duration": 31,
    "start_time": "2022-05-04T16:44:14.386Z"
   },
   {
    "duration": 1173,
    "start_time": "2022-05-04T16:44:14.419Z"
   },
   {
    "duration": 32,
    "start_time": "2022-05-04T16:44:15.594Z"
   },
   {
    "duration": 21,
    "start_time": "2022-05-04T16:44:15.628Z"
   },
   {
    "duration": 2183,
    "start_time": "2022-05-04T16:44:15.650Z"
   },
   {
    "duration": 473,
    "start_time": "2022-05-04T16:44:17.835Z"
   },
   {
    "duration": 309,
    "start_time": "2022-05-04T16:44:18.310Z"
   },
   {
    "duration": 7,
    "start_time": "2022-05-04T16:44:18.621Z"
   },
   {
    "duration": 18,
    "start_time": "2022-05-04T16:44:18.629Z"
   },
   {
    "duration": 7,
    "start_time": "2022-05-04T16:44:18.649Z"
   },
   {
    "duration": 5,
    "start_time": "2022-05-04T16:44:18.660Z"
   },
   {
    "duration": 14,
    "start_time": "2022-05-04T16:45:42.640Z"
   },
   {
    "duration": 24,
    "start_time": "2022-05-04T16:46:04.894Z"
   },
   {
    "duration": 19,
    "start_time": "2022-05-04T16:46:26.540Z"
   },
   {
    "duration": 1132,
    "start_time": "2022-06-14T06:39:05.627Z"
   },
   {
    "duration": 936,
    "start_time": "2022-06-14T06:39:06.761Z"
   },
   {
    "duration": 13,
    "start_time": "2022-06-14T06:39:07.699Z"
   },
   {
    "duration": 49,
    "start_time": "2022-06-14T06:39:07.714Z"
   },
   {
    "duration": 8,
    "start_time": "2022-06-14T06:39:07.765Z"
   },
   {
    "duration": 59,
    "start_time": "2022-06-14T06:39:07.775Z"
   },
   {
    "duration": 20,
    "start_time": "2022-06-14T06:39:07.836Z"
   },
   {
    "duration": 32,
    "start_time": "2022-06-14T06:39:07.857Z"
   },
   {
    "duration": 8,
    "start_time": "2022-06-14T06:39:07.891Z"
   },
   {
    "duration": 57,
    "start_time": "2022-06-14T06:39:07.902Z"
   },
   {
    "duration": 10,
    "start_time": "2022-06-14T06:39:07.960Z"
   },
   {
    "duration": 22,
    "start_time": "2022-06-14T06:39:07.972Z"
   },
   {
    "duration": 99,
    "start_time": "2022-06-14T06:39:07.996Z"
   },
   {
    "duration": 3,
    "start_time": "2022-06-14T06:39:08.097Z"
   },
   {
    "duration": 12,
    "start_time": "2022-06-14T06:39:08.102Z"
   },
   {
    "duration": 73,
    "start_time": "2022-06-14T06:39:08.116Z"
   },
   {
    "duration": 33,
    "start_time": "2022-06-14T06:39:08.191Z"
   },
   {
    "duration": 44,
    "start_time": "2022-06-14T06:39:08.226Z"
   },
   {
    "duration": 28,
    "start_time": "2022-06-14T06:39:08.272Z"
   },
   {
    "duration": 16,
    "start_time": "2022-06-14T06:39:08.302Z"
   },
   {
    "duration": 50,
    "start_time": "2022-06-14T06:39:08.320Z"
   },
   {
    "duration": 3,
    "start_time": "2022-06-14T06:39:08.372Z"
   },
   {
    "duration": 24,
    "start_time": "2022-06-14T06:39:08.376Z"
   },
   {
    "duration": 8,
    "start_time": "2022-06-14T06:39:08.402Z"
   },
   {
    "duration": 9,
    "start_time": "2022-06-14T06:39:08.411Z"
   },
   {
    "duration": 10,
    "start_time": "2022-06-14T06:39:08.422Z"
   },
   {
    "duration": 18,
    "start_time": "2022-06-14T06:39:08.434Z"
   },
   {
    "duration": 7,
    "start_time": "2022-06-14T06:39:08.455Z"
   },
   {
    "duration": 9,
    "start_time": "2022-06-14T06:39:08.463Z"
   },
   {
    "duration": 44,
    "start_time": "2022-06-14T06:39:08.473Z"
   },
   {
    "duration": 36,
    "start_time": "2022-06-14T06:39:08.519Z"
   },
   {
    "duration": 980,
    "start_time": "2022-06-14T06:39:08.557Z"
   },
   {
    "duration": 44,
    "start_time": "2022-06-14T06:39:09.539Z"
   },
   {
    "duration": 22,
    "start_time": "2022-06-14T06:39:09.585Z"
   },
   {
    "duration": 2505,
    "start_time": "2022-06-14T06:39:09.608Z"
   },
   {
    "duration": 554,
    "start_time": "2022-06-14T06:39:12.114Z"
   },
   {
    "duration": 336,
    "start_time": "2022-06-14T06:39:12.669Z"
   },
   {
    "duration": 7,
    "start_time": "2022-06-14T06:39:13.007Z"
   },
   {
    "duration": 57,
    "start_time": "2022-06-14T06:39:13.016Z"
   },
   {
    "duration": 30,
    "start_time": "2022-06-14T06:39:13.076Z"
   },
   {
    "duration": 40,
    "start_time": "2022-06-14T06:39:13.108Z"
   }
  ],
  "kernelspec": {
   "display_name": "Python 3",
   "language": "python",
   "name": "python3"
  },
  "language_info": {
   "codemirror_mode": {
    "name": "ipython",
    "version": 3
   },
   "file_extension": ".py",
   "mimetype": "text/x-python",
   "name": "python",
   "nbconvert_exporter": "python",
   "pygments_lexer": "ipython3",
   "version": "3.7.3"
  },
  "toc": {
   "base_numbering": 1,
   "nav_menu": {},
   "number_sections": true,
   "sideBar": true,
   "skip_h1_title": true,
   "title_cell": "Table of Contents",
   "title_sidebar": "Contents",
   "toc_cell": false,
   "toc_position": {
    "height": "calc(100% - 180px)",
    "left": "10px",
    "top": "150px",
    "width": "165px"
   },
   "toc_section_display": true,
   "toc_window_display": true
  }
 },
 "nbformat": 4,
 "nbformat_minor": 2
}
