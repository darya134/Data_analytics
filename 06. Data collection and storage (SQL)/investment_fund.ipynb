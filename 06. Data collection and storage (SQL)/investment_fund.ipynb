{
 "cells": [
  {
   "cell_type": "markdown",
   "metadata": {},
   "source": [
    "# Basic SQL"
   ]
  },
  {
   "cell_type": "markdown",
   "metadata": {},
   "source": [
    "1.\n",
    "Count the number of companies that have closed."
   ]
  },
  {
   "cell_type": "code",
   "execution_count": null,
   "metadata": {},
   "outputs": [],
   "source": [
    "SELECT COUNT(status)\n",
    "FROM company\n",
    "WHERE status = 'closed'"
   ]
  },
  {
   "cell_type": "markdown",
   "metadata": {},
   "source": [
    "2.\n",
    "Use the company table data to display the amount of funds raised for US news companies. Sort the table in descending order by funding_total."
   ]
  },
  {
   "cell_type": "code",
   "execution_count": null,
   "metadata": {},
   "outputs": [],
   "source": [
    "SELECT SUM(funding_total)\n",
    "FROM company\n",
    "WHERE category_code = 'news'\n",
    "  AND country_code = 'USA'\n",
    "GROUP BY name, \n",
    "         funding_total\n",
    "ORDER BY funding_total desc"
   ]
  },
  {
   "cell_type": "markdown",
   "metadata": {},
   "source": [
    "3.\n",
    "Find the dollar amount of all transactions for some companies purchased by others from 2011 through 2013. Select cash-only transactions. "
   ]
  },
  {
   "cell_type": "code",
   "execution_count": null,
   "metadata": {},
   "outputs": [],
   "source": [
    "SELECT SUM(price_amount)\n",
    "FROM acquisition\n",
    "WHERE term_code = 'cash'\n",
    "  AND CAST(acquired_at AS date) BETWEEN '2011-01-01' AND '2013-12-31'"
   ]
  },
  {
   "cell_type": "markdown",
   "metadata": {},
   "source": [
    "4. \n",
    "Display the first name, last name, and twitter account name of people whose account names begin with 'Silver'."
   ]
  },
  {
   "cell_type": "code",
   "execution_count": null,
   "metadata": {},
   "outputs": [],
   "source": [
    "SELECT first_name,\n",
    "       last_name,\n",
    "       twitter_username\n",
    "FROM people\n",
    "WHERE twitter_username LIKE 'Silver%'"
   ]
  },
  {
   "cell_type": "markdown",
   "metadata": {},
   "source": [
    "5.\n",
    "Display the information about people whose twitter account names contain the substring 'money' and whose last name begins with 'K'."
   ]
  },
  {
   "cell_type": "code",
   "execution_count": null,
   "metadata": {},
   "outputs": [],
   "source": [
    "SELECT *\n",
    "FROM people\n",
    "WHERE twitter_username LIKE '%money%'\n",
    "  AND last_name LIKE 'K%'"
   ]
  },
  {
   "cell_type": "markdown",
   "metadata": {},
   "source": [
    "6.\n",
    "In each country, show the total amount of investments received by companies registered in the country. The country code of the company can be used to identify the country in which the company is registered. Sort in descending order."
   ]
  },
  {
   "cell_type": "code",
   "execution_count": null,
   "metadata": {},
   "outputs": [],
   "source": [
    "SELECT country_code,\n",
    "       SUM(funding_total)\n",
    "FROM company\n",
    "GROUP BY country_code\n",
    "ORDER BY SUM(funding_total) DESC"
   ]
  },
  {
   "cell_type": "markdown",
   "metadata": {},
   "source": [
    "7.\n",
    "Create a table that includes the date of the round, as well as the minimum and maximum amount of investments attracted on this date. Only include records in which the minimum value does not equal zero or the maximum value. "
   ]
  },
  {
   "cell_type": "code",
   "execution_count": null,
   "metadata": {},
   "outputs": [],
   "source": [
    "SELECT CAST(funded_at AS date),\n",
    "       MIN(raised_amount),\n",
    "       MAX(raised_amount)\n",
    "FROM funding_round\n",
    "GROUP BY funded_at\n",
    "HAVING MIN(raised_amount) != 0\n",
    "   AND MIN(raised_amount) != MAX(raised_amount)"
   ]
  },
  {
   "cell_type": "markdown",
   "metadata": {},
   "source": [
    "8.\n",
    "Create a field with categories:\n",
    "   - Assign the high_activity category to funds that invest in 100 or more companies;\n",
    "   - Assign the middle_activity category to funds that invest in 20 or more companies up to 100;\n",
    "   - If the number of invested fund companies does not reach 20, assign the low_activity category.\n",
    "\n",
    "Display all fields of the fund table and a new category field."
   ]
  },
  {
   "cell_type": "code",
   "execution_count": null,
   "metadata": {},
   "outputs": [],
   "source": [
    "SELECT *,\n",
    "       CASE \n",
    "           WHEN invested_companies >= 100 THEN 'high_activity'\n",
    "           WHEN invested_companies >=20 AND invested_companies < 100 THEN 'middle_activity'\n",
    "           WHEN invested_companies < 20 THEN 'low_activity'\n",
    "       END\n",
    "FROM fund"
   ]
  },
  {
   "cell_type": "markdown",
   "metadata": {},
   "source": [
    "9.\n",
    "Calculate the average number of investment rounds the fund has participated in for each category assigned in the previous task. Round the numbers to the nearest whole number. Display the categories and the average number of investment rounds. Sort the table in ascending order."
   ]
  },
  {
   "cell_type": "code",
   "execution_count": null,
   "metadata": {},
   "outputs": [],
   "source": [
    "SELECT\n",
    "       CASE\n",
    "           WHEN invested_companies>=100 THEN 'high_activity'\n",
    "           WHEN invested_companies>=20 THEN 'middle_activity'\n",
    "           ELSE 'low_activity'\n",
    "       END AS activity,\n",
    "       ROUND(AVG(investment_rounds), 0)\n",
    "FROM fund\n",
    "GROUP BY activity\n",
    "ORDER BY AVG(investment_rounds)"
   ]
  },
  {
   "cell_type": "markdown",
   "metadata": {},
   "source": [
    "10.\n",
    "Download the table with the top ten active investing countries. Determine the country's activity based on the average number of companies in which its funds invest.\n",
    "\n",
    "In each country calculate the minimum, maximum, and average number of companies invested in by funds founded between 2010 and 2012.\n",
    "\n",
    "Exclude countries where funds with minimum number of companies that have received investments equal to zero. \n",
    "\n",
    "Sort the table by the average number of companies in descending order, and then by country code in lexicographic order.\n",
    "\n",
    "Use the BETWEEN operator to filter a range by years."
   ]
  },
  {
   "cell_type": "code",
   "execution_count": null,
   "metadata": {},
   "outputs": [],
   "source": [
    "SELECT country_code,\n",
    "       AVG(invested_companies), \n",
    "       MIN(invested_companies),\n",
    "       MAX(invested_companies)\n",
    "FROM fund\n",
    "WHERE EXTRACT(year FROM CAST(founded_at AS date)) BETWEEN '2010' AND '2012'\n",
    "GROUP BY country_code\n",
    "HAVING MIN(invested_companies) != 0\n",
    "ORDER BY AVG(invested_companies) DESC\n",
    "LIMIT 10"
   ]
  },
  {
   "cell_type": "markdown",
   "metadata": {},
   "source": [
    "11.\n",
    "Display the first and last name of all startup employees. If this information is available, also include the name of the educational institution that employee graduated from, ."
   ]
  },
  {
   "cell_type": "code",
   "execution_count": null,
   "metadata": {},
   "outputs": [],
   "source": [
    "SELECT p.first_name,\n",
    "       p.last_name,\n",
    "       e.instituition\n",
    "FROM people AS p\n",
    "LEFT OUTER JOIN education e ON p.id=e.person_id"
   ]
  },
  {
   "cell_type": "markdown",
   "metadata": {},
   "source": [
    "12.\n",
    "Identify the number of educational institutions from which each copmany's employees graduated. Print the name of the company and the number of unique school names. Rank the top 5 companies by the number of universities."
   ]
  },
  {
   "cell_type": "code",
   "execution_count": null,
   "metadata": {},
   "outputs": [],
   "source": [
    "SELECT c.name,\n",
    "       COUNT(DISTINCT e.instituition)\n",
    "FROM company AS c\n",
    "INNER JOIN people p ON c.id = p.company_id\n",
    "INNER JOIN education e ON p.id = e.person_id\n",
    "GROUP BY c.name\n",
    "ORDER BY count DESC\n",
    "LIMIT 5"
   ]
  },
  {
   "cell_type": "markdown",
   "metadata": {},
   "source": [
    "13.\n",
    "Make a list with unique closed companies whose first funding round was the last one."
   ]
  },
  {
   "cell_type": "code",
   "execution_count": null,
   "metadata": {},
   "outputs": [],
   "source": [
    "SELECT DISTINCT name\n",
    "FROM company \n",
    "WHERE status = 'closed'\n",
    "  AND id IN (SELECT company_id\n",
    "             FROM funding_round\n",
    "             WHERE is_last_round =1\n",
    "               AND is_first_round =1)"
   ]
  },
  {
   "cell_type": "markdown",
   "metadata": {},
   "source": [
    "14.\n",
    "Make a list of unique employee ids for the companies selected in the previous step."
   ]
  },
  {
   "cell_type": "code",
   "execution_count": null,
   "metadata": {},
   "outputs": [],
   "source": [
    "SELECT DISTINCT p.id\n",
    "FROM people AS p\n",
    "WHERE p.company_id IN (SELECT c.id\n",
    "                       FROM company c\n",
    "                       WHERE c.status = 'closed'\n",
    "                         AND c.id IN (SELECT fr.company_id\n",
    "                                      FROM funding_round as fr\n",
    "                                      WHERE fr.is_last_round =1\n",
    "                                        AND fr.is_first_round =1))"
   ]
  },
  {
   "cell_type": "markdown",
   "metadata": {},
   "source": [
    "15.\n",
    "Create a table that includes unique pairs of employee ids from the previous step and the educational institution from which the employee graduated."
   ]
  },
  {
   "cell_type": "code",
   "execution_count": null,
   "metadata": {},
   "outputs": [],
   "source": [
    "SELECT DISTINCT e.person_id,\n",
    "                e.instituition\n",
    "FROM education e\n",
    "WHERE e.person_id IN (SELECT p.id\n",
    "                      FROM people p\n",
    "                      WHERE p.company_id IN (SELECT c.id\n",
    "                                             FROM company c\n",
    "                                             WHERE c.status = 'closed'\n",
    "                                             AND c.id IN (SELECT fr.company_id\n",
    "                                                          FROM funding_round fr\n",
    "                                                          WHERE fr.is_last_round =1\n",
    "                                                          AND fr.is_first_round =1)))"
   ]
  },
  {
   "cell_type": "markdown",
   "metadata": {},
   "source": [
    "16.\n",
    "Calculate the number of educational institutions for each employee from the previous task."
   ]
  },
  {
   "cell_type": "code",
   "execution_count": null,
   "metadata": {},
   "outputs": [],
   "source": [
    "SELECT DISTINCT e.person_id,\n",
    "       COUNT(e.instituition)\n",
    "FROM education e\n",
    "WHERE e.person_id IN (SELECT p.id\n",
    "                      FROM people p\n",
    "                      WHERE p.company_id IN (SELECT c.id\n",
    "                                             FROM company c\n",
    "                                             WHERE c.status = 'closed'\n",
    "                                               AND c.id IN (SELECT fr.company_id\n",
    "                                                            FROM funding_round AS fr\n",
    "                                                            WHERE fr.is_last_round =1\n",
    "                                                              AND fr.is_first_round =1)))\n",
    "GROUP BY e.person_id"
   ]
  },
  {
   "cell_type": "markdown",
   "metadata": {},
   "source": [
    "17.\n",
    "Complete the previous query and print the average number of educational institutions that employees of different companies graduated from (all, not just unique ones). Displaying only one record is sufficient, grouping is not required. "
   ]
  },
  {
   "cell_type": "code",
   "execution_count": null,
   "metadata": {},
   "outputs": [],
   "source": [
    "SELECT SUM(count)/COUNT(*)\n",
    "FROM \n",
    "     (SELECT DISTINCT e.person_id,\n",
    "             COUNT(e.instituition)\n",
    "      FROM education e\n",
    "      WHERE e.person_id IN (SELECT p.id\n",
    "                            FROM people p\n",
    "                            WHERE p.company_id IN (SELECT c.id\n",
    "                                                   FROM company c\n",
    "                                                   WHERE c.status = 'closed'\n",
    "                                                     AND c.id IN (SELECT fr.company_id\n",
    "                                                                  FROM funding_round fr\n",
    "                                                                  WHERE fr.is_last_round =1\n",
    "                                                                    AND fr.is_first_round =1)))\n",
    "      GROUP BY e.person_id) AS a"
   ]
  },
  {
   "cell_type": "markdown",
   "metadata": {},
   "source": [
    "18.\n",
    "Write a similar query: print the average number of schools (all, not just the unique ones) Facebook employees have graduated from. "
   ]
  },
  {
   "cell_type": "code",
   "execution_count": null,
   "metadata": {},
   "outputs": [],
   "source": [
    "SELECT SUM(count)/COUNT(*)\n",
    "FROM (SELECT DISTINCT e.person_id,\n",
    "             COUNT(e.instituition)\n",
    "      FROM education AS e\n",
    "      WHERE e.person_id IN (SELECT p.id\n",
    "                            FROM people AS p\n",
    "                            WHERE p.company_id IN (SELECT c.id\n",
    "                                                   FROM company c\n",
    "                                                   WHERE c.name = 'Facebook'))\n",
    "                                                   GROUP BY e.person_id) AS a"
   ]
  },
  {
   "cell_type": "markdown",
   "metadata": {},
   "source": [
    "19.\n",
    "Create a table:\n",
    "- name_of_fund — name of the fund;\n",
    "- name_of_company — company name;\n",
    "- amount — the amount of investments that the company raised in the round.\n",
    "\n",
    "The table will include data on companies whose history includes more than six significant milestones, and whose funding rounds occured between 2012 to 2013."
   ]
  },
  {
   "cell_type": "code",
   "execution_count": null,
   "metadata": {},
   "outputs": [],
   "source": [
    "SELECT f.name AS name_of_fund,\n",
    "       c.name AS name_of_company,\n",
    "       fr.raised_amount AS amount\n",
    "FROM investment AS i\n",
    "LEFT JOIN company c ON i.company_id = c.id\n",
    "LEFT JOIN fund f ON i.fund_id = f.id\n",
    "LEFT JOIN funding_round fr ON i.funding_round_id = fr.id\n",
    "WHERE c.milestones > 6\n",
    "  AND EXTRACT(year from CAST(fr.funded_at AS date)) BETWEEN '2012' AND '2013'"
   ]
  },
  {
   "cell_type": "markdown",
   "metadata": {},
   "source": [
    "20.\n",
    "Download a table that contains the following fields:\n",
    "- company-buyer's name;\n",
    "- transaction amount;\n",
    "- the name of the company that was acquired;\n",
    "- investments made in the company acquired;\n",
    "- the proportion of the purchase price over the amount invested in the company, rounded up to the nearest whole number.\n",
    "\n",
    "The table should exclude transactions in which the purchase amount is zero. If the amount of investment in a company is zero, exclude it from the table.\n",
    "\n",
    "The table should be sorted by transaction amount from largest to smallest, and then by company name in lexicographic order. Limit the table to the first ten records."
   ]
  },
  {
   "cell_type": "code",
   "execution_count": null,
   "metadata": {},
   "outputs": [],
   "source": [
    "SELECT c.name AS acquiring_company_name,\n",
    "       a.price_amount AS deal_amount,\n",
    "       co.name AS acquired_company_name,\n",
    "       co.funding_total AS investment_amount, \n",
    "       ROUND(a.price_amount/co.funding_total) AS rate\n",
    "FROM acquisition a\n",
    "LEFT JOIN company c ON a.acquiring_company_id = c.id\n",
    "LEFT JOIN company co ON a.acquired_company_id = co.id\n",
    "WHERE a.price_amount != 0 \n",
    "  AND co.funding_total != 0\n",
    "ORDER BY deal_amount DESC, \n",
    "         acquired_company_name\n",
    "LIMIT 10"
   ]
  },
  {
   "cell_type": "markdown",
   "metadata": {},
   "source": [
    "21.\n",
    "Download the table, which includes the names of companies from category social that received limited funding from 2010 to 2013. You should include the month in which the funding round took place."
   ]
  },
  {
   "cell_type": "code",
   "execution_count": null,
   "metadata": {},
   "outputs": [],
   "source": [
    "SELECT c.name,\n",
    "       EXTRACT(month FROM cast(fr.funded_at AS date))\n",
    "FROM company c\n",
    "LEFT JOIN funding_round fr ON c.id = fr.company_id\n",
    "WHERE c.category_code = 'social'\n",
    "AND EXTRACT(year FROM CAST(fr.funded_at AS date)) BETWEEN '2010' AND '2013'"
   ]
  },
  {
   "cell_type": "markdown",
   "metadata": {},
   "source": [
    "22.\n",
    "Select data by month between 2010 and 2013 when investment rounds were held. Group the data by month number and get a table with following fields:\n",
    "- the month number when the investment rounds were held;\n",
    "- the amount of unique US funds that have invested this month;\n",
    "- the number of companies purchased this month;\n",
    "- the total amount of purchases this month."
   ]
  },
  {
   "cell_type": "code",
   "execution_count": null,
   "metadata": {},
   "outputs": [],
   "source": [
    "WITH\n",
    "a AS (SELECT EXTRACT(month \n",
    "      FROM CAST(funded_at AS date)) AS month,\n",
    "      COUNT(DISTINCT f.id) AS count_fund\n",
    "      FROM funding_round AS fr\n",
    "      LEFT JOIN investment i ON fr.id = i.funding_round_id\n",
    "      LEFT JOIN fund f ON i.fund_id = f.id\n",
    "      WHERE EXTRACT(year FROM CAST(funded_at AS date)) BETWEEN '2010' AND '2013'\n",
    "        AND f.country_code = 'USA'\n",
    "      GROUP BY month\n",
    "     ),\n",
    "\n",
    "b AS (SELECT extract(month \n",
    "      FROM CAST(acquired_at AS date)) AS month,\n",
    "      COUNT(acquired_company_id) AS count_acquired_company,\n",
    "      SUM(price_amount) AS sum_price_amoun\n",
    "      FROM acquisition\n",
    "      WHERE EXTRACT(year FROM CAST(acquired_at AS date)) BETWEEN '2010' AND '2013'\n",
    "      GROUP BY month\n",
    "     )\n",
    "SELECT a.month,\n",
    "       a.count_fund,\n",
    "       b.count_acquired_company,\n",
    "       b.sum_price_amoun\n",
    "FROM a\n",
    "LEFT JOIN b ON a.month = b.month\n",
    "ORDER BY month"
   ]
  },
  {
   "cell_type": "markdown",
   "metadata": {},
   "source": [
    "23.\n",
    "Create a pivot table and calculate the average investment amount for countries with startups registered in 2011, 2012 and 2013. Each year's data should be in a separate field. Sort the table by the average investment amount for 2011 from highest to lowest."
   ]
  },
  {
   "cell_type": "code",
   "execution_count": null,
   "metadata": {},
   "outputs": [],
   "source": [
    "WITH\n",
    "one AS (SELECT AVG(c.funding_total) AS finance1,\n",
    "               c.country_code\n",
    "        FROM company AS c\n",
    "        WHERE EXTRACT(YEAR FROM CAST(founded_at AS date)) ='2011' \n",
    "        GROUP BY c.country_code),\n",
    "two AS (SELECT AVG(c.funding_total) AS finance2,\n",
    "               c.country_code\n",
    "        FROM company AS c\n",
    "        WHERE EXTRACT(YEAR FROM CAST(founded_at AS date)) ='2012'\n",
    "        GROUP BY c.country_code),\n",
    "three AS (SELECT AVG(c.funding_total) AS finance3,\n",
    "                 c.country_code\n",
    "          FROM company AS c\n",
    "          WHERE EXTRACT(YEAR FROM CAST(founded_at AS date)) ='2013'\n",
    "          GROUP BY c.country_code)\n",
    " \n",
    "SELECT one.country_code,\n",
    "       one.finance1 AS invested_2011,\n",
    "       two.finance2 AS invested_2012,\n",
    "       three.finance3 AS invested_2013\n",
    "FROM one\n",
    "INNER JOIN two ON two.country_code=one.country_code\n",
    "INNER JOIN three ON three.country_code=two.country_code\n",
    "ORDER BY invested_2011 DESC"
   ]
  }
 ],
 "metadata": {
  "kernelspec": {
   "display_name": "Python 3",
   "language": "python",
   "name": "python3"
  },
  "language_info": {
   "codemirror_mode": {
    "name": "ipython",
    "version": 3
   },
   "file_extension": ".py",
   "mimetype": "text/x-python",
   "name": "python",
   "nbconvert_exporter": "python",
   "pygments_lexer": "ipython3",
   "version": "3.7.3"
  }
 },
 "nbformat": 4,
 "nbformat_minor": 2
}
