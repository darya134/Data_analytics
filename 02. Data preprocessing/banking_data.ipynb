{
 "cells": [
  {
   "cell_type": "markdown",
   "metadata": {},
   "source": [
    "# Borrower reliability study — banking data analysis"
   ]
  },
  {
   "cell_type": "markdown",
   "metadata": {},
   "source": [
    "## Data overview"
   ]
  },
  {
   "cell_type": "code",
   "execution_count": 1,
   "metadata": {},
   "outputs": [],
   "source": [
    "# importing libraries\n",
    "import pandas as pd"
   ]
  },
  {
   "cell_type": "code",
   "execution_count": 2,
   "metadata": {},
   "outputs": [],
   "source": [
    "# reading csv file and assigning the result to variable\n",
    "data = pd.read_csv('https://code.s3.yandex.net/datasets/data.csv')"
   ]
  },
  {
   "cell_type": "code",
   "execution_count": 3,
   "metadata": {
    "scrolled": true
   },
   "outputs": [
    {
     "data": {
      "text/html": [
       "<div>\n",
       "<style scoped>\n",
       "    .dataframe tbody tr th:only-of-type {\n",
       "        vertical-align: middle;\n",
       "    }\n",
       "\n",
       "    .dataframe tbody tr th {\n",
       "        vertical-align: top;\n",
       "    }\n",
       "\n",
       "    .dataframe thead th {\n",
       "        text-align: right;\n",
       "    }\n",
       "</style>\n",
       "<table border=\"1\" class=\"dataframe\">\n",
       "  <thead>\n",
       "    <tr style=\"text-align: right;\">\n",
       "      <th></th>\n",
       "      <th>children</th>\n",
       "      <th>days_employed</th>\n",
       "      <th>dob_years</th>\n",
       "      <th>education</th>\n",
       "      <th>education_id</th>\n",
       "      <th>family_status</th>\n",
       "      <th>family_status_id</th>\n",
       "      <th>gender</th>\n",
       "      <th>income_type</th>\n",
       "      <th>debt</th>\n",
       "      <th>total_income</th>\n",
       "      <th>purpose</th>\n",
       "    </tr>\n",
       "  </thead>\n",
       "  <tbody>\n",
       "    <tr>\n",
       "      <th>0</th>\n",
       "      <td>1</td>\n",
       "      <td>-8437.673028</td>\n",
       "      <td>42</td>\n",
       "      <td>высшее</td>\n",
       "      <td>0</td>\n",
       "      <td>женат / замужем</td>\n",
       "      <td>0</td>\n",
       "      <td>F</td>\n",
       "      <td>сотрудник</td>\n",
       "      <td>0</td>\n",
       "      <td>253875.639453</td>\n",
       "      <td>покупка жилья</td>\n",
       "    </tr>\n",
       "    <tr>\n",
       "      <th>1</th>\n",
       "      <td>1</td>\n",
       "      <td>-4024.803754</td>\n",
       "      <td>36</td>\n",
       "      <td>среднее</td>\n",
       "      <td>1</td>\n",
       "      <td>женат / замужем</td>\n",
       "      <td>0</td>\n",
       "      <td>F</td>\n",
       "      <td>сотрудник</td>\n",
       "      <td>0</td>\n",
       "      <td>112080.014102</td>\n",
       "      <td>приобретение автомобиля</td>\n",
       "    </tr>\n",
       "    <tr>\n",
       "      <th>2</th>\n",
       "      <td>0</td>\n",
       "      <td>-5623.422610</td>\n",
       "      <td>33</td>\n",
       "      <td>Среднее</td>\n",
       "      <td>1</td>\n",
       "      <td>женат / замужем</td>\n",
       "      <td>0</td>\n",
       "      <td>M</td>\n",
       "      <td>сотрудник</td>\n",
       "      <td>0</td>\n",
       "      <td>145885.952297</td>\n",
       "      <td>покупка жилья</td>\n",
       "    </tr>\n",
       "    <tr>\n",
       "      <th>3</th>\n",
       "      <td>3</td>\n",
       "      <td>-4124.747207</td>\n",
       "      <td>32</td>\n",
       "      <td>среднее</td>\n",
       "      <td>1</td>\n",
       "      <td>женат / замужем</td>\n",
       "      <td>0</td>\n",
       "      <td>M</td>\n",
       "      <td>сотрудник</td>\n",
       "      <td>0</td>\n",
       "      <td>267628.550329</td>\n",
       "      <td>дополнительное образование</td>\n",
       "    </tr>\n",
       "    <tr>\n",
       "      <th>4</th>\n",
       "      <td>0</td>\n",
       "      <td>340266.072047</td>\n",
       "      <td>53</td>\n",
       "      <td>среднее</td>\n",
       "      <td>1</td>\n",
       "      <td>гражданский брак</td>\n",
       "      <td>1</td>\n",
       "      <td>F</td>\n",
       "      <td>пенсионер</td>\n",
       "      <td>0</td>\n",
       "      <td>158616.077870</td>\n",
       "      <td>сыграть свадьбу</td>\n",
       "    </tr>\n",
       "  </tbody>\n",
       "</table>\n",
       "</div>"
      ],
      "text/plain": [
       "   children  days_employed  dob_years education  education_id  \\\n",
       "0         1   -8437.673028         42    высшее             0   \n",
       "1         1   -4024.803754         36   среднее             1   \n",
       "2         0   -5623.422610         33   Среднее             1   \n",
       "3         3   -4124.747207         32   среднее             1   \n",
       "4         0  340266.072047         53   среднее             1   \n",
       "\n",
       "      family_status  family_status_id gender income_type  debt   total_income  \\\n",
       "0   женат / замужем                 0      F   сотрудник     0  253875.639453   \n",
       "1   женат / замужем                 0      F   сотрудник     0  112080.014102   \n",
       "2   женат / замужем                 0      M   сотрудник     0  145885.952297   \n",
       "3   женат / замужем                 0      M   сотрудник     0  267628.550329   \n",
       "4  гражданский брак                 1      F   пенсионер     0  158616.077870   \n",
       "\n",
       "                      purpose  \n",
       "0               покупка жилья  \n",
       "1     приобретение автомобиля  \n",
       "2               покупка жилья  \n",
       "3  дополнительное образование  \n",
       "4             сыграть свадьбу  "
      ]
     },
     "execution_count": 3,
     "metadata": {},
     "output_type": "execute_result"
    }
   ],
   "source": [
    "# displaying the head of the DataFrame\n",
    "data.head()"
   ]
  },
  {
   "cell_type": "markdown",
   "metadata": {},
   "source": [
    "- The `days_employed` column shows a negative number. Perhaps the data upload went wrong."
   ]
  },
  {
   "cell_type": "code",
   "execution_count": 4,
   "metadata": {
    "scrolled": true
   },
   "outputs": [
    {
     "name": "stdout",
     "output_type": "stream",
     "text": [
      "<class 'pandas.core.frame.DataFrame'>\n",
      "RangeIndex: 21525 entries, 0 to 21524\n",
      "Data columns (total 12 columns):\n",
      "children            21525 non-null int64\n",
      "days_employed       19351 non-null float64\n",
      "dob_years           21525 non-null int64\n",
      "education           21525 non-null object\n",
      "education_id        21525 non-null int64\n",
      "family_status       21525 non-null object\n",
      "family_status_id    21525 non-null int64\n",
      "gender              21525 non-null object\n",
      "income_type         21525 non-null object\n",
      "debt                21525 non-null int64\n",
      "total_income        19351 non-null float64\n",
      "purpose             21525 non-null object\n",
      "dtypes: float64(2), int64(5), object(5)\n",
      "memory usage: 2.0+ MB\n"
     ]
    }
   ],
   "source": [
    "# displaying information about the DataFrame\n",
    "data.info()"
   ]
  },
  {
   "cell_type": "markdown",
   "metadata": {},
   "source": [
    "**Conclusion**\n",
    "\n",
    "- There are gaps in the `days_employed` and `total_income` columns. There is a good chance that people were not able to verify their experience and income. A preliminary version of the processing - fill in the gaps with the median based on the education level and occupation;\n",
    "- Change the data in the column `education` to lowercase;\n",
    "- Change the data type in the `total_income`, `days_employed` columns to integer."
   ]
  },
  {
   "cell_type": "markdown",
   "metadata": {},
   "source": [
    "## Data preprocessing"
   ]
  },
  {
   "cell_type": "markdown",
   "metadata": {},
   "source": [
    "### Addressing gaps"
   ]
  },
  {
   "cell_type": "code",
   "execution_count": 5,
   "metadata": {
    "scrolled": false
   },
   "outputs": [
    {
     "data": {
      "text/plain": [
       "children               0\n",
       "days_employed       2174\n",
       "dob_years              0\n",
       "education              0\n",
       "education_id           0\n",
       "family_status          0\n",
       "family_status_id       0\n",
       "gender                 0\n",
       "income_type            0\n",
       "debt                   0\n",
       "total_income        2174\n",
       "purpose                0\n",
       "dtype: int64"
      ]
     },
     "execution_count": 5,
     "metadata": {},
     "output_type": "execute_result"
    }
   ],
   "source": [
    "# counting the gaps\n",
    "data.isnull().sum()"
   ]
  },
  {
   "cell_type": "code",
   "execution_count": 6,
   "metadata": {},
   "outputs": [
    {
     "data": {
      "text/html": [
       "<div>\n",
       "<style scoped>\n",
       "    .dataframe tbody tr th:only-of-type {\n",
       "        vertical-align: middle;\n",
       "    }\n",
       "\n",
       "    .dataframe tbody tr th {\n",
       "        vertical-align: top;\n",
       "    }\n",
       "\n",
       "    .dataframe thead th {\n",
       "        text-align: right;\n",
       "    }\n",
       "</style>\n",
       "<table border=\"1\" class=\"dataframe\">\n",
       "  <thead>\n",
       "    <tr style=\"text-align: right;\">\n",
       "      <th></th>\n",
       "      <th>children</th>\n",
       "      <th>days_employed</th>\n",
       "      <th>dob_years</th>\n",
       "      <th>education</th>\n",
       "      <th>education_id</th>\n",
       "      <th>family_status</th>\n",
       "      <th>family_status_id</th>\n",
       "      <th>gender</th>\n",
       "      <th>income_type</th>\n",
       "      <th>debt</th>\n",
       "      <th>total_income</th>\n",
       "      <th>purpose</th>\n",
       "    </tr>\n",
       "  </thead>\n",
       "  <tbody>\n",
       "    <tr>\n",
       "      <th>12</th>\n",
       "      <td>0</td>\n",
       "      <td>NaN</td>\n",
       "      <td>65</td>\n",
       "      <td>среднее</td>\n",
       "      <td>1</td>\n",
       "      <td>гражданский брак</td>\n",
       "      <td>1</td>\n",
       "      <td>M</td>\n",
       "      <td>пенсионер</td>\n",
       "      <td>0</td>\n",
       "      <td>NaN</td>\n",
       "      <td>сыграть свадьбу</td>\n",
       "    </tr>\n",
       "    <tr>\n",
       "      <th>26</th>\n",
       "      <td>0</td>\n",
       "      <td>NaN</td>\n",
       "      <td>41</td>\n",
       "      <td>среднее</td>\n",
       "      <td>1</td>\n",
       "      <td>женат / замужем</td>\n",
       "      <td>0</td>\n",
       "      <td>M</td>\n",
       "      <td>госслужащий</td>\n",
       "      <td>0</td>\n",
       "      <td>NaN</td>\n",
       "      <td>образование</td>\n",
       "    </tr>\n",
       "    <tr>\n",
       "      <th>29</th>\n",
       "      <td>0</td>\n",
       "      <td>NaN</td>\n",
       "      <td>63</td>\n",
       "      <td>среднее</td>\n",
       "      <td>1</td>\n",
       "      <td>Не женат / не замужем</td>\n",
       "      <td>4</td>\n",
       "      <td>F</td>\n",
       "      <td>пенсионер</td>\n",
       "      <td>0</td>\n",
       "      <td>NaN</td>\n",
       "      <td>строительство жилой недвижимости</td>\n",
       "    </tr>\n",
       "    <tr>\n",
       "      <th>41</th>\n",
       "      <td>0</td>\n",
       "      <td>NaN</td>\n",
       "      <td>50</td>\n",
       "      <td>среднее</td>\n",
       "      <td>1</td>\n",
       "      <td>женат / замужем</td>\n",
       "      <td>0</td>\n",
       "      <td>F</td>\n",
       "      <td>госслужащий</td>\n",
       "      <td>0</td>\n",
       "      <td>NaN</td>\n",
       "      <td>сделка с подержанным автомобилем</td>\n",
       "    </tr>\n",
       "    <tr>\n",
       "      <th>55</th>\n",
       "      <td>0</td>\n",
       "      <td>NaN</td>\n",
       "      <td>54</td>\n",
       "      <td>среднее</td>\n",
       "      <td>1</td>\n",
       "      <td>гражданский брак</td>\n",
       "      <td>1</td>\n",
       "      <td>F</td>\n",
       "      <td>пенсионер</td>\n",
       "      <td>1</td>\n",
       "      <td>NaN</td>\n",
       "      <td>сыграть свадьбу</td>\n",
       "    </tr>\n",
       "  </tbody>\n",
       "</table>\n",
       "</div>"
      ],
      "text/plain": [
       "    children  days_employed  dob_years education  education_id  \\\n",
       "12         0            NaN         65   среднее             1   \n",
       "26         0            NaN         41   среднее             1   \n",
       "29         0            NaN         63   среднее             1   \n",
       "41         0            NaN         50   среднее             1   \n",
       "55         0            NaN         54   среднее             1   \n",
       "\n",
       "            family_status  family_status_id gender  income_type  debt  \\\n",
       "12       гражданский брак                 1      M    пенсионер     0   \n",
       "26        женат / замужем                 0      M  госслужащий     0   \n",
       "29  Не женат / не замужем                 4      F    пенсионер     0   \n",
       "41        женат / замужем                 0      F  госслужащий     0   \n",
       "55       гражданский брак                 1      F    пенсионер     1   \n",
       "\n",
       "    total_income                           purpose  \n",
       "12           NaN                   сыграть свадьбу  \n",
       "26           NaN                       образование  \n",
       "29           NaN  строительство жилой недвижимости  \n",
       "41           NaN  сделка с подержанным автомобилем  \n",
       "55           NaN                   сыграть свадьбу  "
      ]
     },
     "execution_count": 6,
     "metadata": {},
     "output_type": "execute_result"
    }
   ],
   "source": [
    "# checking for null values\n",
    "data[data['total_income'].isnull()].head()"
   ]
  },
  {
   "cell_type": "code",
   "execution_count": 7,
   "metadata": {},
   "outputs": [
    {
     "data": {
      "text/plain": [
       "'10.10%'"
      ]
     },
     "metadata": {},
     "output_type": "display_data"
    }
   ],
   "source": [
    "# calculating the percentage of gaps in days_employed \n",
    "nulls_percentage_data_employed = data['days_employed'].isnull().sum() / len(data)\n",
    "display('{:.2%}'.format(nulls_percentage_data_employed))"
   ]
  },
  {
   "cell_type": "code",
   "execution_count": 8,
   "metadata": {},
   "outputs": [
    {
     "data": {
      "text/plain": [
       "'10.10%'"
      ]
     },
     "metadata": {},
     "output_type": "display_data"
    }
   ],
   "source": [
    "# calculating the percentage of gaps in total_income\n",
    "nulls_percentage_total_income = data['total_income'].isnull().sum() / len(data)\n",
    "display('{:.2%}'.format(nulls_percentage_total_income))"
   ]
  },
  {
   "cell_type": "code",
   "execution_count": 9,
   "metadata": {},
   "outputs": [],
   "source": [
    "# filling in the gaps in total_income with the median value groupped by level of education and occupation\n",
    "total_income_median = data.dropna()\n",
    "total_income_median = total_income_median.groupby(['education', 'income_type'])['total_income'].median()\n",
    "data['median_total_income'] = data.apply(lambda row: total_income_median[row['education']][row['income_type']], axis=1)\n",
    "data['total_income'] = data['total_income'].fillna(data['median_total_income'])"
   ]
  },
  {
   "cell_type": "code",
   "execution_count": 10,
   "metadata": {},
   "outputs": [
    {
     "data": {
      "text/html": [
       "<div>\n",
       "<style scoped>\n",
       "    .dataframe tbody tr th:only-of-type {\n",
       "        vertical-align: middle;\n",
       "    }\n",
       "\n",
       "    .dataframe tbody tr th {\n",
       "        vertical-align: top;\n",
       "    }\n",
       "\n",
       "    .dataframe thead th {\n",
       "        text-align: right;\n",
       "    }\n",
       "</style>\n",
       "<table border=\"1\" class=\"dataframe\">\n",
       "  <thead>\n",
       "    <tr style=\"text-align: right;\">\n",
       "      <th></th>\n",
       "      <th>children</th>\n",
       "      <th>days_employed</th>\n",
       "      <th>dob_years</th>\n",
       "      <th>education</th>\n",
       "      <th>education_id</th>\n",
       "      <th>family_status</th>\n",
       "      <th>family_status_id</th>\n",
       "      <th>gender</th>\n",
       "      <th>income_type</th>\n",
       "      <th>debt</th>\n",
       "      <th>total_income</th>\n",
       "      <th>purpose</th>\n",
       "      <th>median_total_income</th>\n",
       "    </tr>\n",
       "  </thead>\n",
       "  <tbody>\n",
       "    <tr>\n",
       "      <th>0</th>\n",
       "      <td>1</td>\n",
       "      <td>8437.673028</td>\n",
       "      <td>42</td>\n",
       "      <td>высшее</td>\n",
       "      <td>0</td>\n",
       "      <td>женат / замужем</td>\n",
       "      <td>0</td>\n",
       "      <td>F</td>\n",
       "      <td>сотрудник</td>\n",
       "      <td>0</td>\n",
       "      <td>253875.639453</td>\n",
       "      <td>покупка жилья</td>\n",
       "      <td>166164.078024</td>\n",
       "    </tr>\n",
       "    <tr>\n",
       "      <th>1</th>\n",
       "      <td>1</td>\n",
       "      <td>4024.803754</td>\n",
       "      <td>36</td>\n",
       "      <td>среднее</td>\n",
       "      <td>1</td>\n",
       "      <td>женат / замужем</td>\n",
       "      <td>0</td>\n",
       "      <td>F</td>\n",
       "      <td>сотрудник</td>\n",
       "      <td>0</td>\n",
       "      <td>112080.014102</td>\n",
       "      <td>приобретение автомобиля</td>\n",
       "      <td>136818.115423</td>\n",
       "    </tr>\n",
       "    <tr>\n",
       "      <th>2</th>\n",
       "      <td>0</td>\n",
       "      <td>5623.422610</td>\n",
       "      <td>33</td>\n",
       "      <td>Среднее</td>\n",
       "      <td>1</td>\n",
       "      <td>женат / замужем</td>\n",
       "      <td>0</td>\n",
       "      <td>M</td>\n",
       "      <td>сотрудник</td>\n",
       "      <td>0</td>\n",
       "      <td>145885.952297</td>\n",
       "      <td>покупка жилья</td>\n",
       "      <td>133399.107243</td>\n",
       "    </tr>\n",
       "    <tr>\n",
       "      <th>3</th>\n",
       "      <td>3</td>\n",
       "      <td>4124.747207</td>\n",
       "      <td>32</td>\n",
       "      <td>среднее</td>\n",
       "      <td>1</td>\n",
       "      <td>женат / замужем</td>\n",
       "      <td>0</td>\n",
       "      <td>M</td>\n",
       "      <td>сотрудник</td>\n",
       "      <td>0</td>\n",
       "      <td>267628.550329</td>\n",
       "      <td>дополнительное образование</td>\n",
       "      <td>136818.115423</td>\n",
       "    </tr>\n",
       "    <tr>\n",
       "      <th>4</th>\n",
       "      <td>0</td>\n",
       "      <td>340266.072047</td>\n",
       "      <td>53</td>\n",
       "      <td>среднее</td>\n",
       "      <td>1</td>\n",
       "      <td>гражданский брак</td>\n",
       "      <td>1</td>\n",
       "      <td>F</td>\n",
       "      <td>пенсионер</td>\n",
       "      <td>0</td>\n",
       "      <td>158616.077870</td>\n",
       "      <td>сыграть свадьбу</td>\n",
       "      <td>114483.373934</td>\n",
       "    </tr>\n",
       "  </tbody>\n",
       "</table>\n",
       "</div>"
      ],
      "text/plain": [
       "   children  days_employed  dob_years education  education_id  \\\n",
       "0         1    8437.673028         42    высшее             0   \n",
       "1         1    4024.803754         36   среднее             1   \n",
       "2         0    5623.422610         33   Среднее             1   \n",
       "3         3    4124.747207         32   среднее             1   \n",
       "4         0  340266.072047         53   среднее             1   \n",
       "\n",
       "      family_status  family_status_id gender income_type  debt   total_income  \\\n",
       "0   женат / замужем                 0      F   сотрудник     0  253875.639453   \n",
       "1   женат / замужем                 0      F   сотрудник     0  112080.014102   \n",
       "2   женат / замужем                 0      M   сотрудник     0  145885.952297   \n",
       "3   женат / замужем                 0      M   сотрудник     0  267628.550329   \n",
       "4  гражданский брак                 1      F   пенсионер     0  158616.077870   \n",
       "\n",
       "                      purpose  median_total_income  \n",
       "0               покупка жилья        166164.078024  \n",
       "1     приобретение автомобиля        136818.115423  \n",
       "2               покупка жилья        133399.107243  \n",
       "3  дополнительное образование        136818.115423  \n",
       "4             сыграть свадьбу        114483.373934  "
      ]
     },
     "execution_count": 10,
     "metadata": {},
     "output_type": "execute_result"
    }
   ],
   "source": [
    "# there are a lot of negative values in the days_employed column\n",
    "# maybe the data was uploaded incorrectly\n",
    "# replace negative numbers with positive ones\n",
    "data['days_employed'] = abs(data['days_employed'])\n",
    "data.head()"
   ]
  },
  {
   "cell_type": "code",
   "execution_count": 11,
   "metadata": {},
   "outputs": [],
   "source": [
    "# filling in the gaps in days_employed with the median value groupped by level of education and occupation \n",
    "days_employed_median = data.dropna()\n",
    "days_employed_median = days_employed_median.groupby(['education', 'income_type'])['days_employed'].median()\n",
    "data['median_days_employed'] = data.apply(lambda row: days_employed_median[row['education']][row['income_type']], axis=1)\n",
    "data['days_employed'] = data['days_employed'].fillna(data['median_days_employed'])\n",
    "\n",
    "# deleting columns\n",
    "del data['median_total_income']\n",
    "del data['median_days_employed']"
   ]
  },
  {
   "cell_type": "code",
   "execution_count": 12,
   "metadata": {},
   "outputs": [
    {
     "data": {
      "text/plain": [
       "children            0\n",
       "days_employed       0\n",
       "dob_years           0\n",
       "education           0\n",
       "education_id        0\n",
       "family_status       0\n",
       "family_status_id    0\n",
       "gender              0\n",
       "income_type         0\n",
       "debt                0\n",
       "total_income        0\n",
       "purpose             0\n",
       "dtype: int64"
      ]
     },
     "execution_count": 12,
     "metadata": {},
     "output_type": "execute_result"
    }
   ],
   "source": [
    "# counting gaps\n",
    "data.isnull().sum()"
   ]
  },
  {
   "cell_type": "code",
   "execution_count": 13,
   "metadata": {
    "scrolled": true
   },
   "outputs": [
    {
     "name": "stdout",
     "output_type": "stream",
     "text": [
      "<class 'pandas.core.frame.DataFrame'>\n",
      "RangeIndex: 21525 entries, 0 to 21524\n",
      "Data columns (total 12 columns):\n",
      "children            21525 non-null int64\n",
      "days_employed       21525 non-null float64\n",
      "dob_years           21525 non-null int64\n",
      "education           21525 non-null object\n",
      "education_id        21525 non-null int64\n",
      "family_status       21525 non-null object\n",
      "family_status_id    21525 non-null int64\n",
      "gender              21525 non-null object\n",
      "income_type         21525 non-null object\n",
      "debt                21525 non-null int64\n",
      "total_income        21525 non-null float64\n",
      "purpose             21525 non-null object\n",
      "dtypes: float64(2), int64(5), object(5)\n",
      "memory usage: 2.0+ MB\n"
     ]
    }
   ],
   "source": [
    "# displaying information about the DataFrame\n",
    "data.info()"
   ]
  },
  {
   "cell_type": "markdown",
   "metadata": {},
   "source": [
    "- The `days_employed` and `total_income` columns have gaps on the same rows. There maybe reasons for this, such as lack of income and experience in the workplace;\n",
    "- Based on education and occupation, medians were used to fill in the gaps."
   ]
  },
  {
   "cell_type": "markdown",
   "metadata": {},
   "source": [
    "### Addressing anomalies and corrections"
   ]
  },
  {
   "cell_type": "code",
   "execution_count": 14,
   "metadata": {
    "scrolled": true
   },
   "outputs": [
    {
     "data": {
      "text/plain": [
       " 0     14149\n",
       " 1      4818\n",
       " 2      2055\n",
       " 3       330\n",
       " 20       76\n",
       "-1        47\n",
       " 4        41\n",
       " 5         9\n",
       "Name: children, dtype: int64"
      ]
     },
     "execution_count": 14,
     "metadata": {},
     "output_type": "execute_result"
    }
   ],
   "source": [
    "# checking for anomalies\n",
    "data['children'].value_counts()"
   ]
  },
  {
   "cell_type": "markdown",
   "metadata": {},
   "source": [
    "There can be no negative number of children, and 20 stands out strongly against the background of the rest of the sample. We remove the minus sign and the value 20 is most likely a typo. "
   ]
  },
  {
   "cell_type": "code",
   "execution_count": 15,
   "metadata": {},
   "outputs": [
    {
     "data": {
      "text/plain": [
       "0    14149\n",
       "1     4865\n",
       "2     2131\n",
       "3      330\n",
       "4       41\n",
       "5        9\n",
       "Name: children, dtype: int64"
      ]
     },
     "execution_count": 15,
     "metadata": {},
     "output_type": "execute_result"
    }
   ],
   "source": [
    "# changing 20 to 2\n",
    "data.loc[data['children'] == 20, 'children'] = 2\n",
    "\n",
    "# changing -1 to 1\n",
    "data.loc[data['children'] == -1, 'children'] = 1\n",
    "\n",
    "# hecking for anomalies\n",
    "data['children'].value_counts()"
   ]
  },
  {
   "cell_type": "code",
   "execution_count": 16,
   "metadata": {
    "scrolled": true
   },
   "outputs": [
    {
     "data": {
      "text/plain": [
       "35    617\n",
       "40    609\n",
       "41    607\n",
       "34    603\n",
       "38    598\n",
       "42    597\n",
       "33    581\n",
       "39    573\n",
       "31    560\n",
       "36    555\n",
       "44    547\n",
       "29    545\n",
       "30    540\n",
       "48    538\n",
       "37    537\n",
       "50    514\n",
       "43    513\n",
       "32    510\n",
       "49    508\n",
       "28    503\n",
       "45    497\n",
       "27    493\n",
       "56    487\n",
       "52    484\n",
       "47    480\n",
       "54    479\n",
       "46    475\n",
       "58    461\n",
       "57    460\n",
       "53    459\n",
       "51    448\n",
       "59    444\n",
       "55    443\n",
       "26    408\n",
       "60    377\n",
       "25    357\n",
       "61    355\n",
       "62    352\n",
       "63    269\n",
       "64    265\n",
       "24    264\n",
       "23    254\n",
       "65    194\n",
       "66    183\n",
       "22    183\n",
       "67    167\n",
       "21    111\n",
       "0     101\n",
       "68     99\n",
       "69     85\n",
       "70     65\n",
       "71     58\n",
       "20     51\n",
       "72     33\n",
       "19     14\n",
       "73      8\n",
       "74      6\n",
       "75      1\n",
       "Name: dob_years, dtype: int64"
      ]
     },
     "execution_count": 16,
     "metadata": {},
     "output_type": "execute_result"
    }
   ],
   "source": [
    "# checking for anomalies\n",
    "data['dob_years'].value_counts()"
   ]
  },
  {
   "cell_type": "markdown",
   "metadata": {},
   "source": [
    "We don't do anything regarding age 0, since there are no questions about it. "
   ]
  },
  {
   "cell_type": "code",
   "execution_count": 17,
   "metadata": {
    "scrolled": true
   },
   "outputs": [
    {
     "data": {
      "text/plain": [
       "F      14236\n",
       "M       7288\n",
       "XNA        1\n",
       "Name: gender, dtype: int64"
      ]
     },
     "execution_count": 17,
     "metadata": {},
     "output_type": "execute_result"
    }
   ],
   "source": [
    "# checking for anomalies\n",
    "data['gender'].value_counts()"
   ]
  },
  {
   "cell_type": "markdown",
   "metadata": {},
   "source": [
    "The `gender` column contains the gender of XNA. As the XNA gender occurs once, and the majority of the data is female, we will replace the value with F."
   ]
  },
  {
   "cell_type": "code",
   "execution_count": 18,
   "metadata": {},
   "outputs": [
    {
     "data": {
      "text/plain": [
       "F    14237\n",
       "M     7288\n",
       "Name: gender, dtype: int64"
      ]
     },
     "execution_count": 18,
     "metadata": {},
     "output_type": "execute_result"
    }
   ],
   "source": [
    "# changing 'XNA' to 'F' in the gender column\n",
    "data.loc[data['gender'] == 'XNA', 'gender'] = 'F'\n",
    "# let's check that everything is fine\n",
    "data['gender'].value_counts()"
   ]
  },
  {
   "cell_type": "markdown",
   "metadata": {},
   "source": [
    "While there are anomalies in the data, their number is not significant and is unlikely to affect the results of the study. However, key points have been corrected."
   ]
  },
  {
   "cell_type": "markdown",
   "metadata": {},
   "source": [
    "### Addressing data types"
   ]
  },
  {
   "cell_type": "code",
   "execution_count": 19,
   "metadata": {},
   "outputs": [],
   "source": [
    "# changing the total_income type to int\n",
    "data['total_income'] = data['total_income'].astype(int)"
   ]
  },
  {
   "cell_type": "code",
   "execution_count": 20,
   "metadata": {},
   "outputs": [],
   "source": [
    "# changing the days_employed type to int\n",
    "data['days_employed'] = data['days_employed'].astype('int')"
   ]
  },
  {
   "cell_type": "code",
   "execution_count": 21,
   "metadata": {},
   "outputs": [
    {
     "name": "stdout",
     "output_type": "stream",
     "text": [
      "<class 'pandas.core.frame.DataFrame'>\n",
      "RangeIndex: 21525 entries, 0 to 21524\n",
      "Data columns (total 12 columns):\n",
      "children            21525 non-null int64\n",
      "days_employed       21525 non-null int64\n",
      "dob_years           21525 non-null int64\n",
      "education           21525 non-null object\n",
      "education_id        21525 non-null int64\n",
      "family_status       21525 non-null object\n",
      "family_status_id    21525 non-null int64\n",
      "gender              21525 non-null object\n",
      "income_type         21525 non-null object\n",
      "debt                21525 non-null int64\n",
      "total_income        21525 non-null int64\n",
      "purpose             21525 non-null object\n",
      "dtypes: int64(7), object(5)\n",
      "memory usage: 2.0+ MB\n"
     ]
    }
   ],
   "source": [
    "# displaying information about the DataFrame\n",
    "data.info()"
   ]
  },
  {
   "cell_type": "markdown",
   "metadata": {},
   "source": [
    "The types `total_income` and `days_employed` were replaced with `int`, since we aren't interested in precision into hundredths."
   ]
  },
  {
   "cell_type": "markdown",
   "metadata": {},
   "source": [
    "### Addressing duplicates"
   ]
  },
  {
   "cell_type": "markdown",
   "metadata": {},
   "source": [
    "The case letters in the education columns is different. It is necessary to change the data in all columns to the same case. Otherwise, implicit duplicates may appear."
   ]
  },
  {
   "cell_type": "code",
   "execution_count": 22,
   "metadata": {},
   "outputs": [
    {
     "data": {
      "text/html": [
       "<div>\n",
       "<style scoped>\n",
       "    .dataframe tbody tr th:only-of-type {\n",
       "        vertical-align: middle;\n",
       "    }\n",
       "\n",
       "    .dataframe tbody tr th {\n",
       "        vertical-align: top;\n",
       "    }\n",
       "\n",
       "    .dataframe thead th {\n",
       "        text-align: right;\n",
       "    }\n",
       "</style>\n",
       "<table border=\"1\" class=\"dataframe\">\n",
       "  <thead>\n",
       "    <tr style=\"text-align: right;\">\n",
       "      <th></th>\n",
       "      <th>children</th>\n",
       "      <th>days_employed</th>\n",
       "      <th>dob_years</th>\n",
       "      <th>education</th>\n",
       "      <th>education_id</th>\n",
       "      <th>family_status</th>\n",
       "      <th>family_status_id</th>\n",
       "      <th>gender</th>\n",
       "      <th>income_type</th>\n",
       "      <th>debt</th>\n",
       "      <th>total_income</th>\n",
       "      <th>purpose</th>\n",
       "    </tr>\n",
       "  </thead>\n",
       "  <tbody>\n",
       "    <tr>\n",
       "      <th>0</th>\n",
       "      <td>1</td>\n",
       "      <td>8437</td>\n",
       "      <td>42</td>\n",
       "      <td>высшее</td>\n",
       "      <td>0</td>\n",
       "      <td>женат / замужем</td>\n",
       "      <td>0</td>\n",
       "      <td>F</td>\n",
       "      <td>сотрудник</td>\n",
       "      <td>0</td>\n",
       "      <td>253875</td>\n",
       "      <td>покупка жилья</td>\n",
       "    </tr>\n",
       "    <tr>\n",
       "      <th>1</th>\n",
       "      <td>1</td>\n",
       "      <td>4024</td>\n",
       "      <td>36</td>\n",
       "      <td>среднее</td>\n",
       "      <td>1</td>\n",
       "      <td>женат / замужем</td>\n",
       "      <td>0</td>\n",
       "      <td>F</td>\n",
       "      <td>сотрудник</td>\n",
       "      <td>0</td>\n",
       "      <td>112080</td>\n",
       "      <td>приобретение автомобиля</td>\n",
       "    </tr>\n",
       "    <tr>\n",
       "      <th>2</th>\n",
       "      <td>0</td>\n",
       "      <td>5623</td>\n",
       "      <td>33</td>\n",
       "      <td>среднее</td>\n",
       "      <td>1</td>\n",
       "      <td>женат / замужем</td>\n",
       "      <td>0</td>\n",
       "      <td>M</td>\n",
       "      <td>сотрудник</td>\n",
       "      <td>0</td>\n",
       "      <td>145885</td>\n",
       "      <td>покупка жилья</td>\n",
       "    </tr>\n",
       "  </tbody>\n",
       "</table>\n",
       "</div>"
      ],
      "text/plain": [
       "   children  days_employed  dob_years education  education_id  \\\n",
       "0         1           8437         42    высшее             0   \n",
       "1         1           4024         36   среднее             1   \n",
       "2         0           5623         33   среднее             1   \n",
       "\n",
       "     family_status  family_status_id gender income_type  debt  total_income  \\\n",
       "0  женат / замужем                 0      F   сотрудник     0        253875   \n",
       "1  женат / замужем                 0      F   сотрудник     0        112080   \n",
       "2  женат / замужем                 0      M   сотрудник     0        145885   \n",
       "\n",
       "                   purpose  \n",
       "0            покупка жилья  \n",
       "1  приобретение автомобиля  \n",
       "2            покупка жилья  "
      ]
     },
     "execution_count": 22,
     "metadata": {},
     "output_type": "execute_result"
    }
   ],
   "source": [
    "# lowercasing data \n",
    "data['education'] = data['education'].str.lower()\n",
    "data['family_status'] = data['family_status'].str.lower()\n",
    "data['income_type'] = data['income_type'].str.lower()\n",
    "data['purpose'] = data['purpose'].str.lower()\n",
    "\n",
    "# displaying information about the DataFrame\n",
    "data.head(3)"
   ]
  },
  {
   "cell_type": "code",
   "execution_count": 23,
   "metadata": {
    "scrolled": true
   },
   "outputs": [
    {
     "data": {
      "text/plain": [
       "54"
      ]
     },
     "execution_count": 23,
     "metadata": {},
     "output_type": "execute_result"
    }
   ],
   "source": [
    "# checking for duplicates\n",
    "data.duplicated().sum()"
   ]
  },
  {
   "cell_type": "code",
   "execution_count": 24,
   "metadata": {},
   "outputs": [],
   "source": [
    "# removing duplicates\n",
    "data.drop_duplicates(inplace=True)"
   ]
  },
  {
   "cell_type": "code",
   "execution_count": 25,
   "metadata": {},
   "outputs": [
    {
     "data": {
      "text/plain": [
       "0"
      ]
     },
     "execution_count": 25,
     "metadata": {},
     "output_type": "execute_result"
    }
   ],
   "source": [
    "# checking for duplicates\n",
    "data.duplicated().sum()"
   ]
  },
  {
   "cell_type": "markdown",
   "metadata": {},
   "source": [
    "- There were not so many duplicates and they were quickly removed;\n",
    "- To remove explicit duplicates, the drop_duplicates method was used with the removal of old indexes and the creation of new ones;\n",
    "- To remove implicit duplicates, all columns were changed to the same case;\n",
    "- It is possible that duplicates appear because one person approved several applications or an error occured when uploading data."
   ]
  },
  {
   "cell_type": "markdown",
   "metadata": {},
   "source": [
    "### Creating additional dictionary of dataframes, decomposing the original dataframe."
   ]
  },
  {
   "cell_type": "code",
   "execution_count": 26,
   "metadata": {},
   "outputs": [],
   "source": [
    "# creating a dataframe with each unique value from education corresponding to education_id\n",
    "df_education = data[['education', 'education_id']]\n",
    "\n",
    "# removing duplicates\n",
    "df_education = df_education.drop_duplicates().reset_index(drop = True)"
   ]
  },
  {
   "cell_type": "code",
   "execution_count": 27,
   "metadata": {},
   "outputs": [],
   "source": [
    "# creating a dataframe with each unique value from family_status corresponding to family_status_id\n",
    "df_family_status = data[['family_status', 'family_status_id']]\n",
    "\n",
    "# removing duplicates\n",
    "df_family_status = df_family_status.drop_duplicates().reset_index(drop=True)"
   ]
  },
  {
   "cell_type": "code",
   "execution_count": 28,
   "metadata": {},
   "outputs": [],
   "source": [
    "# removing the education column from the data table, leaving only education_id\n",
    "del data['education']"
   ]
  },
  {
   "cell_type": "code",
   "execution_count": 29,
   "metadata": {},
   "outputs": [],
   "source": [
    "# removing the family_status column from data table, leaving only family_status_id\n",
    "del data['family_status']"
   ]
  },
  {
   "cell_type": "markdown",
   "metadata": {},
   "source": [
    "Two dictionaries were created using the `education` and `family_status` columns and the corresponding ID's."
   ]
  },
  {
   "cell_type": "markdown",
   "metadata": {},
   "source": [
    "### Categorization of income"
   ]
  },
  {
   "cell_type": "code",
   "execution_count": 30,
   "metadata": {},
   "outputs": [],
   "source": [
    "# creating a function that assigns categories based on salary ranges to borrowers\n",
    "def income_category(income):\n",
    "    if income <= 30000:\n",
    "        return 'E'\n",
    "    if income <= 50000:\n",
    "        return 'D'\n",
    "    if income <= 200000:\n",
    "        return 'C'\n",
    "    if income <= 1000000:\n",
    "        return 'B'\n",
    "    return 'A'"
   ]
  },
  {
   "cell_type": "code",
   "execution_count": 31,
   "metadata": {},
   "outputs": [
    {
     "data": {
      "text/html": [
       "<div>\n",
       "<style scoped>\n",
       "    .dataframe tbody tr th:only-of-type {\n",
       "        vertical-align: middle;\n",
       "    }\n",
       "\n",
       "    .dataframe tbody tr th {\n",
       "        vertical-align: top;\n",
       "    }\n",
       "\n",
       "    .dataframe thead th {\n",
       "        text-align: right;\n",
       "    }\n",
       "</style>\n",
       "<table border=\"1\" class=\"dataframe\">\n",
       "  <thead>\n",
       "    <tr style=\"text-align: right;\">\n",
       "      <th></th>\n",
       "      <th>children</th>\n",
       "      <th>days_employed</th>\n",
       "      <th>dob_years</th>\n",
       "      <th>education_id</th>\n",
       "      <th>family_status_id</th>\n",
       "      <th>gender</th>\n",
       "      <th>income_type</th>\n",
       "      <th>debt</th>\n",
       "      <th>total_income</th>\n",
       "      <th>purpose</th>\n",
       "      <th>total_income_category</th>\n",
       "    </tr>\n",
       "  </thead>\n",
       "  <tbody>\n",
       "    <tr>\n",
       "      <th>0</th>\n",
       "      <td>1</td>\n",
       "      <td>8437</td>\n",
       "      <td>42</td>\n",
       "      <td>0</td>\n",
       "      <td>0</td>\n",
       "      <td>F</td>\n",
       "      <td>сотрудник</td>\n",
       "      <td>0</td>\n",
       "      <td>253875</td>\n",
       "      <td>покупка жилья</td>\n",
       "      <td>B</td>\n",
       "    </tr>\n",
       "    <tr>\n",
       "      <th>1</th>\n",
       "      <td>1</td>\n",
       "      <td>4024</td>\n",
       "      <td>36</td>\n",
       "      <td>1</td>\n",
       "      <td>0</td>\n",
       "      <td>F</td>\n",
       "      <td>сотрудник</td>\n",
       "      <td>0</td>\n",
       "      <td>112080</td>\n",
       "      <td>приобретение автомобиля</td>\n",
       "      <td>C</td>\n",
       "    </tr>\n",
       "    <tr>\n",
       "      <th>2</th>\n",
       "      <td>0</td>\n",
       "      <td>5623</td>\n",
       "      <td>33</td>\n",
       "      <td>1</td>\n",
       "      <td>0</td>\n",
       "      <td>M</td>\n",
       "      <td>сотрудник</td>\n",
       "      <td>0</td>\n",
       "      <td>145885</td>\n",
       "      <td>покупка жилья</td>\n",
       "      <td>C</td>\n",
       "    </tr>\n",
       "  </tbody>\n",
       "</table>\n",
       "</div>"
      ],
      "text/plain": [
       "   children  days_employed  dob_years  education_id  family_status_id gender  \\\n",
       "0         1           8437         42             0                 0      F   \n",
       "1         1           4024         36             1                 0      F   \n",
       "2         0           5623         33             1                 0      M   \n",
       "\n",
       "  income_type  debt  total_income                  purpose  \\\n",
       "0   сотрудник     0        253875            покупка жилья   \n",
       "1   сотрудник     0        112080  приобретение автомобиля   \n",
       "2   сотрудник     0        145885            покупка жилья   \n",
       "\n",
       "  total_income_category  \n",
       "0                     B  \n",
       "1                     C  \n",
       "2                     C  "
      ]
     },
     "execution_count": 31,
     "metadata": {},
     "output_type": "execute_result"
    }
   ],
   "source": [
    "# creating a total_income_category column with salary categories\n",
    "data['total_income_category'] = data['total_income'].apply(income_category)\n",
    "\n",
    "# displaying the head of the DataFrame\n",
    "data.head(3)"
   ]
  },
  {
   "cell_type": "markdown",
   "metadata": {},
   "source": [
    "Based on salary ranges, a total_income_category column was created for each borrower."
   ]
  },
  {
   "cell_type": "markdown",
   "metadata": {},
   "source": [
    "### Categorization of loan purposes"
   ]
  },
  {
   "cell_type": "code",
   "execution_count": 32,
   "metadata": {},
   "outputs": [
    {
     "data": {
      "text/plain": [
       "array(['покупка жилья', 'приобретение автомобиля',\n",
       "       'дополнительное образование', 'сыграть свадьбу',\n",
       "       'операции с жильем', 'образование', 'на проведение свадьбы',\n",
       "       'покупка жилья для семьи', 'покупка недвижимости',\n",
       "       'покупка коммерческой недвижимости', 'покупка жилой недвижимости',\n",
       "       'строительство собственной недвижимости', 'недвижимость',\n",
       "       'строительство недвижимости', 'на покупку подержанного автомобиля',\n",
       "       'на покупку своего автомобиля',\n",
       "       'операции с коммерческой недвижимостью',\n",
       "       'строительство жилой недвижимости', 'жилье',\n",
       "       'операции со своей недвижимостью', 'автомобили',\n",
       "       'заняться образованием', 'сделка с подержанным автомобилем',\n",
       "       'получение образования', 'автомобиль', 'свадьба',\n",
       "       'получение дополнительного образования', 'покупка своего жилья',\n",
       "       'операции с недвижимостью', 'получение высшего образования',\n",
       "       'свой автомобиль', 'сделка с автомобилем',\n",
       "       'профильное образование', 'высшее образование',\n",
       "       'покупка жилья для сдачи', 'на покупку автомобиля', 'ремонт жилью',\n",
       "       'заняться высшим образованием'], dtype=object)"
      ]
     },
     "execution_count": 32,
     "metadata": {},
     "output_type": "execute_result"
    }
   ],
   "source": [
    "# checking unique genre names\n",
    "data['purpose'].unique()"
   ]
  },
  {
   "cell_type": "code",
   "execution_count": 33,
   "metadata": {},
   "outputs": [],
   "source": [
    "# creating a function that assigns category based on data from the purpose column\n",
    "def purpose_category(purpose):\n",
    "    if 'автомоб' in purpose:\n",
    "        return 'car loans'\n",
    "    if 'жил' in purpose:\n",
    "        return 'real estate loans'\n",
    "    if 'недвиж' in purpose:\n",
    "        return 'real estate loans'\n",
    "    if 'свадьб' in purpose:\n",
    "        return 'wedding loans'\n",
    "    if 'образ' in purpose:\n",
    "        return 'education loans'"
   ]
  },
  {
   "cell_type": "code",
   "execution_count": 34,
   "metadata": {},
   "outputs": [
    {
     "data": {
      "text/html": [
       "<div>\n",
       "<style scoped>\n",
       "    .dataframe tbody tr th:only-of-type {\n",
       "        vertical-align: middle;\n",
       "    }\n",
       "\n",
       "    .dataframe tbody tr th {\n",
       "        vertical-align: top;\n",
       "    }\n",
       "\n",
       "    .dataframe thead th {\n",
       "        text-align: right;\n",
       "    }\n",
       "</style>\n",
       "<table border=\"1\" class=\"dataframe\">\n",
       "  <thead>\n",
       "    <tr style=\"text-align: right;\">\n",
       "      <th></th>\n",
       "      <th>children</th>\n",
       "      <th>days_employed</th>\n",
       "      <th>dob_years</th>\n",
       "      <th>education_id</th>\n",
       "      <th>family_status_id</th>\n",
       "      <th>gender</th>\n",
       "      <th>income_type</th>\n",
       "      <th>debt</th>\n",
       "      <th>total_income</th>\n",
       "      <th>purpose</th>\n",
       "      <th>total_income_category</th>\n",
       "      <th>purpose_category</th>\n",
       "    </tr>\n",
       "  </thead>\n",
       "  <tbody>\n",
       "    <tr>\n",
       "      <th>0</th>\n",
       "      <td>1</td>\n",
       "      <td>8437</td>\n",
       "      <td>42</td>\n",
       "      <td>0</td>\n",
       "      <td>0</td>\n",
       "      <td>F</td>\n",
       "      <td>сотрудник</td>\n",
       "      <td>0</td>\n",
       "      <td>253875</td>\n",
       "      <td>покупка жилья</td>\n",
       "      <td>B</td>\n",
       "      <td>real estate loans</td>\n",
       "    </tr>\n",
       "    <tr>\n",
       "      <th>1</th>\n",
       "      <td>1</td>\n",
       "      <td>4024</td>\n",
       "      <td>36</td>\n",
       "      <td>1</td>\n",
       "      <td>0</td>\n",
       "      <td>F</td>\n",
       "      <td>сотрудник</td>\n",
       "      <td>0</td>\n",
       "      <td>112080</td>\n",
       "      <td>приобретение автомобиля</td>\n",
       "      <td>C</td>\n",
       "      <td>car loans</td>\n",
       "    </tr>\n",
       "    <tr>\n",
       "      <th>2</th>\n",
       "      <td>0</td>\n",
       "      <td>5623</td>\n",
       "      <td>33</td>\n",
       "      <td>1</td>\n",
       "      <td>0</td>\n",
       "      <td>M</td>\n",
       "      <td>сотрудник</td>\n",
       "      <td>0</td>\n",
       "      <td>145885</td>\n",
       "      <td>покупка жилья</td>\n",
       "      <td>C</td>\n",
       "      <td>real estate loans</td>\n",
       "    </tr>\n",
       "  </tbody>\n",
       "</table>\n",
       "</div>"
      ],
      "text/plain": [
       "   children  days_employed  dob_years  education_id  family_status_id gender  \\\n",
       "0         1           8437         42             0                 0      F   \n",
       "1         1           4024         36             1                 0      F   \n",
       "2         0           5623         33             1                 0      M   \n",
       "\n",
       "  income_type  debt  total_income                  purpose  \\\n",
       "0   сотрудник     0        253875            покупка жилья   \n",
       "1   сотрудник     0        112080  приобретение автомобиля   \n",
       "2   сотрудник     0        145885            покупка жилья   \n",
       "\n",
       "  total_income_category   purpose_category  \n",
       "0                     B  real estate loans  \n",
       "1                     C          car loans  \n",
       "2                     C  real estate loans  "
      ]
     },
     "execution_count": 34,
     "metadata": {},
     "output_type": "execute_result"
    }
   ],
   "source": [
    "# creating a purpose_category column with categories\n",
    "data['purpose_category'] = data['purpose'].apply(purpose_category)\n",
    "\n",
    "# displaying the head of the DataFrame\n",
    "data.head(3)"
   ]
  },
  {
   "cell_type": "markdown",
   "metadata": {},
   "source": [
    "**Conclusion**\n",
    "\n",
    "A purpose_category column was created, where each borrower was assigned a purpose for obtaining a loan. There are 4 goals in total:\n",
    "car loans, real estate loans, weddings loans, and education loans."
   ]
  },
  {
   "cell_type": "markdown",
   "metadata": {},
   "source": [
    "## Data analysis"
   ]
  },
  {
   "cell_type": "markdown",
   "metadata": {},
   "source": [
    "### Does the number of children affect the loan repayment on time?"
   ]
  },
  {
   "cell_type": "code",
   "execution_count": 35,
   "metadata": {},
   "outputs": [
    {
     "data": {
      "text/plain": [
       "0    14107\n",
       "1     4856\n",
       "2     2128\n",
       "3      330\n",
       "4       41\n",
       "5        9\n",
       "Name: children, dtype: int64"
      ]
     },
     "execution_count": 35,
     "metadata": {},
     "output_type": "execute_result"
    }
   ],
   "source": [
    "# checking for values in the children column\n",
    "data['children'].value_counts()"
   ]
  },
  {
   "cell_type": "code",
   "execution_count": 36,
   "metadata": {},
   "outputs": [
    {
     "data": {
      "text/plain": [
       "No children           14107\n",
       "1 child                4856\n",
       "2 children             2128\n",
       "3 or more children      380\n",
       "Name: children_category, dtype: int64"
      ]
     },
     "execution_count": 36,
     "metadata": {},
     "output_type": "execute_result"
    }
   ],
   "source": [
    "# creating a function that  assigns a category based on data from the children column\n",
    "# combining families with 3 or more children into one category\n",
    "def make_children_category(children):\n",
    "    if children == 1:\n",
    "        return '1 child'\n",
    "    if children == 2:\n",
    "        return '2 children'\n",
    "    if children >= 3:\n",
    "        return '3 or more children'\n",
    "    return 'No children'\n",
    "\n",
    "# creating a children_category column\n",
    "data['children_category'] = data['children'].apply(make_children_category)\n",
    "\n",
    "# checking for values\n",
    "data['children_category'].value_counts()"
   ]
  },
  {
   "cell_type": "code",
   "execution_count": 37,
   "metadata": {},
   "outputs": [],
   "source": [
    "# creating a function to calculate the percentage ratio between the sum of debt and the number debt-ridden families\n",
    "def make_proportion(pdSerises):\n",
    "    return str(round((pdSerises.sum() / pdSerises.count()) * 100, 2)) + '%'"
   ]
  },
  {
   "cell_type": "code",
   "execution_count": 38,
   "metadata": {},
   "outputs": [],
   "source": [
    "# creating a pivot table with sum of debt, the number debt-ridden families, and the ratio\n",
    "data_pivot = data.pivot_table(index = ['children_category'], values = ['debt'], aggfunc = ['sum', 'count', make_proportion])"
   ]
  },
  {
   "cell_type": "code",
   "execution_count": 39,
   "metadata": {},
   "outputs": [
    {
     "data": {
      "text/html": [
       "<div>\n",
       "<style scoped>\n",
       "    .dataframe tbody tr th:only-of-type {\n",
       "        vertical-align: middle;\n",
       "    }\n",
       "\n",
       "    .dataframe tbody tr th {\n",
       "        vertical-align: top;\n",
       "    }\n",
       "\n",
       "    .dataframe thead tr th {\n",
       "        text-align: left;\n",
       "    }\n",
       "\n",
       "    .dataframe thead tr:last-of-type th {\n",
       "        text-align: right;\n",
       "    }\n",
       "</style>\n",
       "<table border=\"1\" class=\"dataframe\">\n",
       "  <thead>\n",
       "    <tr>\n",
       "      <th></th>\n",
       "      <th>sum</th>\n",
       "      <th>count</th>\n",
       "      <th>make_proportion</th>\n",
       "    </tr>\n",
       "    <tr>\n",
       "      <th></th>\n",
       "      <th>debt</th>\n",
       "      <th>debt</th>\n",
       "      <th>debt</th>\n",
       "    </tr>\n",
       "    <tr>\n",
       "      <th>children_category</th>\n",
       "      <th></th>\n",
       "      <th></th>\n",
       "      <th></th>\n",
       "    </tr>\n",
       "  </thead>\n",
       "  <tbody>\n",
       "    <tr>\n",
       "      <th>No children</th>\n",
       "      <td>1063</td>\n",
       "      <td>14107</td>\n",
       "      <td>7.54%</td>\n",
       "    </tr>\n",
       "    <tr>\n",
       "      <th>3 or more children</th>\n",
       "      <td>31</td>\n",
       "      <td>380</td>\n",
       "      <td>8.16%</td>\n",
       "    </tr>\n",
       "    <tr>\n",
       "      <th>1 child</th>\n",
       "      <td>445</td>\n",
       "      <td>4856</td>\n",
       "      <td>9.16%</td>\n",
       "    </tr>\n",
       "    <tr>\n",
       "      <th>2 children</th>\n",
       "      <td>202</td>\n",
       "      <td>2128</td>\n",
       "      <td>9.49%</td>\n",
       "    </tr>\n",
       "  </tbody>\n",
       "</table>\n",
       "</div>"
      ],
      "text/plain": [
       "                     sum  count make_proportion\n",
       "                    debt   debt            debt\n",
       "children_category                              \n",
       "No children         1063  14107           7.54%\n",
       "3 or more children    31    380           8.16%\n",
       "1 child              445   4856           9.16%\n",
       "2 children           202   2128           9.49%"
      ]
     },
     "execution_count": 39,
     "metadata": {},
     "output_type": "execute_result"
    }
   ],
   "source": [
    "# sorting the pivot table\n",
    "data_pivot = data_pivot.sort_values(by=('make_proportion', 'debt'))\n",
    "data_pivot"
   ]
  },
  {
   "cell_type": "markdown",
   "metadata": {},
   "source": [
    "- The likelihood of indebtedness is lower when there are no children than when there are children.\n",
    "\n",
    "- The likelihood of being in debt is higher for families with one or two children. However, the difference is not that great in general. \n",
    "\n",
    "- With many children, the debt is approximately at the same as when there are no children."
   ]
  },
  {
   "cell_type": "markdown",
   "metadata": {},
   "source": [
    "### Does marital status affect loan repayment on time?"
   ]
  },
  {
   "cell_type": "code",
   "execution_count": 40,
   "metadata": {},
   "outputs": [],
   "source": [
    "# returning the family_status column to data\n",
    "family_status = data.merge(df_family_status, on = 'family_status_id', how = 'right')"
   ]
  },
  {
   "cell_type": "code",
   "execution_count": 41,
   "metadata": {},
   "outputs": [],
   "source": [
    "# creating a pivot table with sum of debt, the number debt-ridden families, and the ratio\n",
    "data_pivot = family_status.pivot_table(index=['family_status'], values=['debt'], aggfunc=['sum', 'count', make_proportion])"
   ]
  },
  {
   "cell_type": "code",
   "execution_count": 42,
   "metadata": {},
   "outputs": [
    {
     "data": {
      "text/html": [
       "<div>\n",
       "<style scoped>\n",
       "    .dataframe tbody tr th:only-of-type {\n",
       "        vertical-align: middle;\n",
       "    }\n",
       "\n",
       "    .dataframe tbody tr th {\n",
       "        vertical-align: top;\n",
       "    }\n",
       "\n",
       "    .dataframe thead tr th {\n",
       "        text-align: left;\n",
       "    }\n",
       "\n",
       "    .dataframe thead tr:last-of-type th {\n",
       "        text-align: right;\n",
       "    }\n",
       "</style>\n",
       "<table border=\"1\" class=\"dataframe\">\n",
       "  <thead>\n",
       "    <tr>\n",
       "      <th></th>\n",
       "      <th>sum</th>\n",
       "      <th>count</th>\n",
       "      <th>make_proportion</th>\n",
       "    </tr>\n",
       "    <tr>\n",
       "      <th></th>\n",
       "      <th>debt</th>\n",
       "      <th>debt</th>\n",
       "      <th>debt</th>\n",
       "    </tr>\n",
       "    <tr>\n",
       "      <th>family_status</th>\n",
       "      <th></th>\n",
       "      <th></th>\n",
       "      <th></th>\n",
       "    </tr>\n",
       "  </thead>\n",
       "  <tbody>\n",
       "    <tr>\n",
       "      <th>вдовец / вдова</th>\n",
       "      <td>63</td>\n",
       "      <td>959</td>\n",
       "      <td>6.57%</td>\n",
       "    </tr>\n",
       "    <tr>\n",
       "      <th>в разводе</th>\n",
       "      <td>85</td>\n",
       "      <td>1195</td>\n",
       "      <td>7.11%</td>\n",
       "    </tr>\n",
       "    <tr>\n",
       "      <th>женат / замужем</th>\n",
       "      <td>931</td>\n",
       "      <td>12344</td>\n",
       "      <td>7.54%</td>\n",
       "    </tr>\n",
       "    <tr>\n",
       "      <th>гражданский брак</th>\n",
       "      <td>388</td>\n",
       "      <td>4163</td>\n",
       "      <td>9.32%</td>\n",
       "    </tr>\n",
       "    <tr>\n",
       "      <th>не женат / не замужем</th>\n",
       "      <td>274</td>\n",
       "      <td>2810</td>\n",
       "      <td>9.75%</td>\n",
       "    </tr>\n",
       "  </tbody>\n",
       "</table>\n",
       "</div>"
      ],
      "text/plain": [
       "                       sum  count make_proportion\n",
       "                      debt   debt            debt\n",
       "family_status                                    \n",
       "вдовец / вдова          63    959           6.57%\n",
       "в разводе               85   1195           7.11%\n",
       "женат / замужем        931  12344           7.54%\n",
       "гражданский брак       388   4163           9.32%\n",
       "не женат / не замужем  274   2810           9.75%"
      ]
     },
     "execution_count": 42,
     "metadata": {},
     "output_type": "execute_result"
    }
   ],
   "source": [
    "# sorting the pivot table\n",
    "data_pivot = data_pivot.sort_values(by=('make_proportion', 'debt'))\n",
    "data_pivot"
   ]
  },
  {
   "cell_type": "markdown",
   "metadata": {},
   "source": [
    "- Divorced and widowed people are at the lowest risk of delinquency.\n",
    "\n",
    "- People who are officially maried are practically not far behind them.\n",
    "\n",
    "- Unmarried and cohabiting couples are at the highest risk of delinquency. \n",
    "\n",
    "- Probably people who are in official relationships take out loans with greater care. "
   ]
  },
  {
   "cell_type": "markdown",
   "metadata": {},
   "source": [
    "### Does income level affect the loan repayment on time?"
   ]
  },
  {
   "cell_type": "code",
   "execution_count": 43,
   "metadata": {},
   "outputs": [],
   "source": [
    "# creating a function that assigns categories based on salary ranges\n",
    "def income_category_rubles(income):\n",
    "    if income == 'E':\n",
    "        return '0–30,000'\n",
    "    if income == 'D':\n",
    "        return '30,001–50,000'\n",
    "    if income == 'C':\n",
    "        return '50,001–200,000'\n",
    "    if income == 'B':\n",
    "        return '200,001–1,000,000'\n",
    "    return '1,000,001 and more'"
   ]
  },
  {
   "cell_type": "code",
   "execution_count": 44,
   "metadata": {},
   "outputs": [
    {
     "data": {
      "text/html": [
       "<div>\n",
       "<style scoped>\n",
       "    .dataframe tbody tr th:only-of-type {\n",
       "        vertical-align: middle;\n",
       "    }\n",
       "\n",
       "    .dataframe tbody tr th {\n",
       "        vertical-align: top;\n",
       "    }\n",
       "\n",
       "    .dataframe thead th {\n",
       "        text-align: right;\n",
       "    }\n",
       "</style>\n",
       "<table border=\"1\" class=\"dataframe\">\n",
       "  <thead>\n",
       "    <tr style=\"text-align: right;\">\n",
       "      <th></th>\n",
       "      <th>children</th>\n",
       "      <th>days_employed</th>\n",
       "      <th>dob_years</th>\n",
       "      <th>education_id</th>\n",
       "      <th>family_status_id</th>\n",
       "      <th>gender</th>\n",
       "      <th>income_type</th>\n",
       "      <th>debt</th>\n",
       "      <th>total_income</th>\n",
       "      <th>purpose</th>\n",
       "      <th>total_income_category</th>\n",
       "      <th>purpose_category</th>\n",
       "      <th>children_category</th>\n",
       "      <th>income_category_range</th>\n",
       "    </tr>\n",
       "  </thead>\n",
       "  <tbody>\n",
       "    <tr>\n",
       "      <th>0</th>\n",
       "      <td>1</td>\n",
       "      <td>8437</td>\n",
       "      <td>42</td>\n",
       "      <td>0</td>\n",
       "      <td>0</td>\n",
       "      <td>F</td>\n",
       "      <td>сотрудник</td>\n",
       "      <td>0</td>\n",
       "      <td>253875</td>\n",
       "      <td>покупка жилья</td>\n",
       "      <td>B</td>\n",
       "      <td>real estate loans</td>\n",
       "      <td>1 child</td>\n",
       "      <td>200,001–1,000,000</td>\n",
       "    </tr>\n",
       "    <tr>\n",
       "      <th>1</th>\n",
       "      <td>1</td>\n",
       "      <td>4024</td>\n",
       "      <td>36</td>\n",
       "      <td>1</td>\n",
       "      <td>0</td>\n",
       "      <td>F</td>\n",
       "      <td>сотрудник</td>\n",
       "      <td>0</td>\n",
       "      <td>112080</td>\n",
       "      <td>приобретение автомобиля</td>\n",
       "      <td>C</td>\n",
       "      <td>car loans</td>\n",
       "      <td>1 child</td>\n",
       "      <td>50,001–200,000</td>\n",
       "    </tr>\n",
       "    <tr>\n",
       "      <th>2</th>\n",
       "      <td>0</td>\n",
       "      <td>5623</td>\n",
       "      <td>33</td>\n",
       "      <td>1</td>\n",
       "      <td>0</td>\n",
       "      <td>M</td>\n",
       "      <td>сотрудник</td>\n",
       "      <td>0</td>\n",
       "      <td>145885</td>\n",
       "      <td>покупка жилья</td>\n",
       "      <td>C</td>\n",
       "      <td>real estate loans</td>\n",
       "      <td>No children</td>\n",
       "      <td>50,001–200,000</td>\n",
       "    </tr>\n",
       "    <tr>\n",
       "      <th>3</th>\n",
       "      <td>3</td>\n",
       "      <td>4124</td>\n",
       "      <td>32</td>\n",
       "      <td>1</td>\n",
       "      <td>0</td>\n",
       "      <td>M</td>\n",
       "      <td>сотрудник</td>\n",
       "      <td>0</td>\n",
       "      <td>267628</td>\n",
       "      <td>дополнительное образование</td>\n",
       "      <td>B</td>\n",
       "      <td>education loans</td>\n",
       "      <td>3 or more children</td>\n",
       "      <td>200,001–1,000,000</td>\n",
       "    </tr>\n",
       "    <tr>\n",
       "      <th>4</th>\n",
       "      <td>0</td>\n",
       "      <td>340266</td>\n",
       "      <td>53</td>\n",
       "      <td>1</td>\n",
       "      <td>1</td>\n",
       "      <td>F</td>\n",
       "      <td>пенсионер</td>\n",
       "      <td>0</td>\n",
       "      <td>158616</td>\n",
       "      <td>сыграть свадьбу</td>\n",
       "      <td>C</td>\n",
       "      <td>wedding loans</td>\n",
       "      <td>No children</td>\n",
       "      <td>50,001–200,000</td>\n",
       "    </tr>\n",
       "  </tbody>\n",
       "</table>\n",
       "</div>"
      ],
      "text/plain": [
       "   children  days_employed  dob_years  education_id  family_status_id gender  \\\n",
       "0         1           8437         42             0                 0      F   \n",
       "1         1           4024         36             1                 0      F   \n",
       "2         0           5623         33             1                 0      M   \n",
       "3         3           4124         32             1                 0      M   \n",
       "4         0         340266         53             1                 1      F   \n",
       "\n",
       "  income_type  debt  total_income                     purpose  \\\n",
       "0   сотрудник     0        253875               покупка жилья   \n",
       "1   сотрудник     0        112080     приобретение автомобиля   \n",
       "2   сотрудник     0        145885               покупка жилья   \n",
       "3   сотрудник     0        267628  дополнительное образование   \n",
       "4   пенсионер     0        158616             сыграть свадьбу   \n",
       "\n",
       "  total_income_category   purpose_category   children_category  \\\n",
       "0                     B  real estate loans             1 child   \n",
       "1                     C          car loans             1 child   \n",
       "2                     C  real estate loans         No children   \n",
       "3                     B    education loans  3 or more children   \n",
       "4                     C      wedding loans         No children   \n",
       "\n",
       "  income_category_range  \n",
       "0     200,001–1,000,000  \n",
       "1        50,001–200,000  \n",
       "2        50,001–200,000  \n",
       "3     200,001–1,000,000  \n",
       "4        50,001–200,000  "
      ]
     },
     "execution_count": 44,
     "metadata": {},
     "output_type": "execute_result"
    }
   ],
   "source": [
    "# adding income_category_range to data\n",
    "data['income_category_range'] = data['total_income_category'].apply(income_category_rubles)\n",
    "data.head()"
   ]
  },
  {
   "cell_type": "code",
   "execution_count": 45,
   "metadata": {},
   "outputs": [],
   "source": [
    "# creating a pivot table with sum of debt, the number debt-ridden families, and the ratio\n",
    "data_pivot = data.pivot_table(index='income_category_range', values = ['debt'], aggfunc=['sum', 'count', make_proportion])"
   ]
  },
  {
   "cell_type": "code",
   "execution_count": 46,
   "metadata": {},
   "outputs": [
    {
     "data": {
      "text/html": [
       "<div>\n",
       "<style scoped>\n",
       "    .dataframe tbody tr th:only-of-type {\n",
       "        vertical-align: middle;\n",
       "    }\n",
       "\n",
       "    .dataframe tbody tr th {\n",
       "        vertical-align: top;\n",
       "    }\n",
       "\n",
       "    .dataframe thead tr th {\n",
       "        text-align: left;\n",
       "    }\n",
       "\n",
       "    .dataframe thead tr:last-of-type th {\n",
       "        text-align: right;\n",
       "    }\n",
       "</style>\n",
       "<table border=\"1\" class=\"dataframe\">\n",
       "  <thead>\n",
       "    <tr>\n",
       "      <th></th>\n",
       "      <th>sum</th>\n",
       "      <th>count</th>\n",
       "      <th>make_proportion</th>\n",
       "    </tr>\n",
       "    <tr>\n",
       "      <th></th>\n",
       "      <th>debt</th>\n",
       "      <th>debt</th>\n",
       "      <th>debt</th>\n",
       "    </tr>\n",
       "    <tr>\n",
       "      <th>income_category_range</th>\n",
       "      <th></th>\n",
       "      <th></th>\n",
       "      <th></th>\n",
       "    </tr>\n",
       "  </thead>\n",
       "  <tbody>\n",
       "    <tr>\n",
       "      <th>30,001–50,000</th>\n",
       "      <td>21</td>\n",
       "      <td>350</td>\n",
       "      <td>6.0%</td>\n",
       "    </tr>\n",
       "    <tr>\n",
       "      <th>200,001–1,000,000</th>\n",
       "      <td>364</td>\n",
       "      <td>5224</td>\n",
       "      <td>6.97%</td>\n",
       "    </tr>\n",
       "    <tr>\n",
       "      <th>1,000,001 and more</th>\n",
       "      <td>2</td>\n",
       "      <td>25</td>\n",
       "      <td>8.0%</td>\n",
       "    </tr>\n",
       "    <tr>\n",
       "      <th>50,001–200,000</th>\n",
       "      <td>1352</td>\n",
       "      <td>15850</td>\n",
       "      <td>8.53%</td>\n",
       "    </tr>\n",
       "    <tr>\n",
       "      <th>0–30,000</th>\n",
       "      <td>2</td>\n",
       "      <td>22</td>\n",
       "      <td>9.09%</td>\n",
       "    </tr>\n",
       "  </tbody>\n",
       "</table>\n",
       "</div>"
      ],
      "text/plain": [
       "                        sum  count make_proportion\n",
       "                       debt   debt            debt\n",
       "income_category_range                             \n",
       "30,001–50,000            21    350            6.0%\n",
       "200,001–1,000,000       364   5224           6.97%\n",
       "1,000,001 and more        2     25            8.0%\n",
       "50,001–200,000         1352  15850           8.53%\n",
       "0–30,000                  2     22           9.09%"
      ]
     },
     "execution_count": 46,
     "metadata": {},
     "output_type": "execute_result"
    }
   ],
   "source": [
    "# sorting the pivot table\n",
    "data_pivot = data_pivot.sort_values(by=('make_proportion', 'debt'))\n",
    "data_pivot"
   ]
  },
  {
   "cell_type": "markdown",
   "metadata": {},
   "source": [
    "Middle class families are the least indebted. Families with higher incomes are more likely to be indebted. Families with the lower incomes are at the greatest risk."
   ]
  },
  {
   "cell_type": "markdown",
   "metadata": {},
   "source": [
    "### Does the purpose of a loan affect the loan repayment on time?"
   ]
  },
  {
   "cell_type": "code",
   "execution_count": 47,
   "metadata": {},
   "outputs": [],
   "source": [
    "# creating a pivot table with sum of debt, the number debt-ridden families, and the ratio\n",
    "data_pivot = data.pivot_table(index='purpose_category', values = ['debt'], aggfunc=['sum', 'count', make_proportion])"
   ]
  },
  {
   "cell_type": "code",
   "execution_count": 48,
   "metadata": {},
   "outputs": [
    {
     "data": {
      "text/html": [
       "<div>\n",
       "<style scoped>\n",
       "    .dataframe tbody tr th:only-of-type {\n",
       "        vertical-align: middle;\n",
       "    }\n",
       "\n",
       "    .dataframe tbody tr th {\n",
       "        vertical-align: top;\n",
       "    }\n",
       "\n",
       "    .dataframe thead tr th {\n",
       "        text-align: left;\n",
       "    }\n",
       "\n",
       "    .dataframe thead tr:last-of-type th {\n",
       "        text-align: right;\n",
       "    }\n",
       "</style>\n",
       "<table border=\"1\" class=\"dataframe\">\n",
       "  <thead>\n",
       "    <tr>\n",
       "      <th></th>\n",
       "      <th>sum</th>\n",
       "      <th>count</th>\n",
       "      <th>make_proportion</th>\n",
       "    </tr>\n",
       "    <tr>\n",
       "      <th></th>\n",
       "      <th>debt</th>\n",
       "      <th>debt</th>\n",
       "      <th>debt</th>\n",
       "    </tr>\n",
       "    <tr>\n",
       "      <th>purpose_category</th>\n",
       "      <th></th>\n",
       "      <th></th>\n",
       "      <th></th>\n",
       "    </tr>\n",
       "  </thead>\n",
       "  <tbody>\n",
       "    <tr>\n",
       "      <th>real estate loans</th>\n",
       "      <td>782</td>\n",
       "      <td>10814</td>\n",
       "      <td>7.23%</td>\n",
       "    </tr>\n",
       "    <tr>\n",
       "      <th>wedding loans</th>\n",
       "      <td>186</td>\n",
       "      <td>2335</td>\n",
       "      <td>7.97%</td>\n",
       "    </tr>\n",
       "    <tr>\n",
       "      <th>education loans</th>\n",
       "      <td>370</td>\n",
       "      <td>4014</td>\n",
       "      <td>9.22%</td>\n",
       "    </tr>\n",
       "    <tr>\n",
       "      <th>car loans</th>\n",
       "      <td>403</td>\n",
       "      <td>4308</td>\n",
       "      <td>9.35%</td>\n",
       "    </tr>\n",
       "  </tbody>\n",
       "</table>\n",
       "</div>"
      ],
      "text/plain": [
       "                   sum  count make_proportion\n",
       "                  debt   debt            debt\n",
       "purpose_category                             \n",
       "real estate loans  782  10814           7.23%\n",
       "wedding loans      186   2335           7.97%\n",
       "education loans    370   4014           9.22%\n",
       "car loans          403   4308           9.35%"
      ]
     },
     "execution_count": 48,
     "metadata": {},
     "output_type": "execute_result"
    }
   ],
   "source": [
    "# sorting the pivot table\n",
    "data_pivot = data_pivot.sort_values(by=('make_proportion', 'debt'))\n",
    "data_pivot"
   ]
  },
  {
   "cell_type": "markdown",
   "metadata": {},
   "source": [
    "The risk of giving real estate loans is lower than that of wedding loans. The risk of giving car and education loans are higher."
   ]
  },
  {
   "cell_type": "markdown",
   "metadata": {},
   "source": [
    "## Final conclusion:"
   ]
  },
  {
   "cell_type": "markdown",
   "metadata": {},
   "source": [
    "The likelihood of indebtedness is lower when there are no children than when there are children. The likelyhood of being in debt is higher for families with one or two children. However, the difference is not that great in general.  With many children, the debt is approximately at the same as when there are no children.\n",
    "\n",
    "\n",
    "Divorced and widowed people are at the lowest risk of delinquency. People who are officially married are practically not far behind them. Unmarried and cohabiting couples are at the highest risk of delinquency. Probably people who are in official relationships take out loans with greater care. \n",
    "\n",
    "Middle class families are the least indebted. Families with higher incomes are more likely to be indebted. Families with the lower incomes are at the greatest risk.\n",
    "\n",
    "The risk of giving real estate loans is lower than that of wedding loans. The risk of giving car and education loans are higher.\n",
    "\n",
    "**Details:**\n",
    "\n",
    "**Does the number of children affect the loan repayment on time?**\n",
    "\n",
    " - No children - 7.54%\n",
    " - 3 or more children - 8.16%\n",
    " - 1 child - 9.16%\n",
    " - 2 children - 9.49%\n",
    "\n",
    "- The absolute difference between minimum and maximum value - 1.95%\n",
    "- The relative difference between minimum and maximum value - 20.54%\n",
    "\n",
    "The relative difference is calculated by the formula:\n",
    "If x>y, then r=(x-y)/x)*100. If x<y, r= (y-x)/x)*100.\n",
    "\n",
    "**Does marital status affect loan repayment on time?**\n",
    "\n",
    "- widow / widower - 6.57%\n",
    "- divorced - 7.11%\n",
    "- married - 7.54%\n",
    "- cohabiting couples - 9.32%\n",
    "- not married - 9.75%\n",
    "\n",
    "\n",
    "- The absolute difference between minimum and maximum value - 3.17%\n",
    "- The relative difference between the minimum and maximum value - 32.62%\n",
    "\n",
    "**Does income level affect the loan repayment on time?**\n",
    "\n",
    "- 30,001–50,000 - 6.0%\n",
    "- 200,001–1,000,000 - 6.97%\n",
    "- 1,000,001 and above - 8.0%\n",
    "- 50,001–200,000 - 8.53%\n",
    "- 0–30,000 - 9.09%\n",
    "\n",
    "\n",
    "- The absolute difference between minimum and maximum value - 3.09%\n",
    "- The relative difference between minimum and maximum value - 33.99%\n",
    "\n",
    "**Does the purpose of a loan affect the loan repayment on time?**\n",
    "\n",
    "- real estate loans - 7.23%\n",
    "- wedding loans - 7.97%\n",
    "- education loans - 9.22%\n",
    "- car loans - 9.35%\n",
    "\n",
    "\n",
    "- The absolute difference between minimum and maximum value - 2.12%\n",
    "- The relative difference between minimum and maximum value - 22.67%"
   ]
  },
  {
   "cell_type": "code",
   "execution_count": null,
   "metadata": {},
   "outputs": [],
   "source": []
  }
 ],
 "metadata": {
  "ExecuteTimeLog": [
   {
    "duration": 335,
    "start_time": "2022-03-14T08:33:01.339Z"
   },
   {
    "duration": 585,
    "start_time": "2022-03-14T08:33:13.991Z"
   },
   {
    "duration": 68,
    "start_time": "2022-03-14T08:33:15.919Z"
   },
   {
    "duration": 52,
    "start_time": "2022-03-14T08:34:21.491Z"
   },
   {
    "duration": 54,
    "start_time": "2022-03-14T08:34:32.779Z"
   },
   {
    "duration": 2401,
    "start_time": "2022-03-14T08:35:44.444Z"
   },
   {
    "duration": 10,
    "start_time": "2022-03-14T08:35:50.468Z"
   },
   {
    "duration": 334,
    "start_time": "2022-03-14T08:38:59.401Z"
   },
   {
    "duration": 6,
    "start_time": "2022-03-14T08:39:21.621Z"
   },
   {
    "duration": 102,
    "start_time": "2022-03-14T08:41:11.633Z"
   },
   {
    "duration": 10,
    "start_time": "2022-03-14T08:41:21.569Z"
   },
   {
    "duration": 3,
    "start_time": "2022-03-14T08:43:00.058Z"
   },
   {
    "duration": 55,
    "start_time": "2022-03-14T08:43:02.294Z"
   },
   {
    "duration": 10,
    "start_time": "2022-03-14T08:43:04.486Z"
   },
   {
    "duration": 47,
    "start_time": "2022-03-14T08:53:14.545Z"
   },
   {
    "duration": 10,
    "start_time": "2022-03-14T08:53:53.469Z"
   },
   {
    "duration": 3,
    "start_time": "2022-03-14T10:08:33.258Z"
   },
   {
    "duration": 5,
    "start_time": "2022-03-14T10:17:42.529Z"
   },
   {
    "duration": 6,
    "start_time": "2022-03-14T10:18:27.049Z"
   },
   {
    "duration": 5,
    "start_time": "2022-03-14T10:18:41.921Z"
   },
   {
    "duration": 5,
    "start_time": "2022-03-14T10:18:42.582Z"
   },
   {
    "duration": 8,
    "start_time": "2022-03-14T12:20:32.655Z"
   },
   {
    "duration": 183,
    "start_time": "2022-03-14T12:20:33.268Z"
   },
   {
    "duration": 12,
    "start_time": "2022-03-14T12:20:33.663Z"
   },
   {
    "duration": 6,
    "start_time": "2022-03-14T12:24:35.832Z"
   },
   {
    "duration": 5,
    "start_time": "2022-03-14T12:24:41.585Z"
   },
   {
    "duration": 5,
    "start_time": "2022-03-14T12:24:56.005Z"
   },
   {
    "duration": 5,
    "start_time": "2022-03-14T12:24:56.784Z"
   },
   {
    "duration": 630,
    "start_time": "2022-03-14T12:27:54.899Z"
   },
   {
    "duration": 67,
    "start_time": "2022-03-14T12:27:56.114Z"
   },
   {
    "duration": 11,
    "start_time": "2022-03-14T12:27:56.183Z"
   },
   {
    "duration": 46,
    "start_time": "2022-03-14T12:27:56.210Z"
   },
   {
    "duration": 8,
    "start_time": "2022-03-14T12:27:56.258Z"
   },
   {
    "duration": 4,
    "start_time": "2022-03-14T12:27:56.268Z"
   },
   {
    "duration": 4,
    "start_time": "2022-03-14T12:27:56.274Z"
   },
   {
    "duration": 3,
    "start_time": "2022-03-14T12:27:56.280Z"
   },
   {
    "duration": 161,
    "start_time": "2022-03-14T12:27:56.301Z"
   },
   {
    "duration": 9,
    "start_time": "2022-03-14T12:27:56.463Z"
   },
   {
    "duration": 3,
    "start_time": "2022-03-14T12:29:17.642Z"
   },
   {
    "duration": 5,
    "start_time": "2022-03-14T12:29:18.471Z"
   },
   {
    "duration": 10,
    "start_time": "2022-03-14T12:29:20.298Z"
   },
   {
    "duration": 12,
    "start_time": "2022-03-14T12:49:48.451Z"
   },
   {
    "duration": 12,
    "start_time": "2022-03-14T12:52:05.391Z"
   },
   {
    "duration": 24,
    "start_time": "2022-03-14T12:52:39.187Z"
   },
   {
    "duration": 32,
    "start_time": "2022-03-14T12:54:19.752Z"
   },
   {
    "duration": 41,
    "start_time": "2022-03-14T12:56:20.757Z"
   },
   {
    "duration": 16,
    "start_time": "2022-03-14T12:56:26.708Z"
   },
   {
    "duration": 363,
    "start_time": "2022-03-14T12:56:51.913Z"
   },
   {
    "duration": 17,
    "start_time": "2022-03-14T12:56:56.685Z"
   },
   {
    "duration": 18,
    "start_time": "2022-03-14T12:56:57.721Z"
   },
   {
    "duration": 9051,
    "start_time": "2022-03-14T13:06:12.636Z"
   },
   {
    "duration": 355,
    "start_time": "2022-03-14T13:08:17.145Z"
   },
   {
    "duration": 614,
    "start_time": "2022-03-14T13:08:33.279Z"
   },
   {
    "duration": 65,
    "start_time": "2022-03-14T13:08:33.895Z"
   },
   {
    "duration": 9,
    "start_time": "2022-03-14T13:08:33.962Z"
   },
   {
    "duration": 49,
    "start_time": "2022-03-14T13:08:33.973Z"
   },
   {
    "duration": 9,
    "start_time": "2022-03-14T13:08:34.024Z"
   },
   {
    "duration": 6,
    "start_time": "2022-03-14T13:08:34.034Z"
   },
   {
    "duration": 5,
    "start_time": "2022-03-14T13:08:34.042Z"
   },
   {
    "duration": 4,
    "start_time": "2022-03-14T13:08:34.049Z"
   },
   {
    "duration": 184,
    "start_time": "2022-03-14T13:08:34.055Z"
   },
   {
    "duration": 9,
    "start_time": "2022-03-14T13:08:34.240Z"
   },
   {
    "duration": 404,
    "start_time": "2022-03-14T13:08:34.251Z"
   },
   {
    "duration": -268,
    "start_time": "2022-03-14T13:08:34.925Z"
   },
   {
    "duration": -273,
    "start_time": "2022-03-14T13:08:34.931Z"
   },
   {
    "duration": -273,
    "start_time": "2022-03-14T13:08:34.932Z"
   },
   {
    "duration": -274,
    "start_time": "2022-03-14T13:08:34.934Z"
   },
   {
    "duration": 678,
    "start_time": "2022-03-14T13:09:15.323Z"
   },
   {
    "duration": 67,
    "start_time": "2022-03-14T13:09:16.003Z"
   },
   {
    "duration": 15,
    "start_time": "2022-03-14T13:09:16.072Z"
   },
   {
    "duration": 61,
    "start_time": "2022-03-14T13:09:16.089Z"
   },
   {
    "duration": 11,
    "start_time": "2022-03-14T13:09:16.152Z"
   },
   {
    "duration": 27,
    "start_time": "2022-03-14T13:09:16.165Z"
   },
   {
    "duration": 22,
    "start_time": "2022-03-14T13:09:16.193Z"
   },
   {
    "duration": 36,
    "start_time": "2022-03-14T13:09:16.218Z"
   },
   {
    "duration": 229,
    "start_time": "2022-03-14T13:09:16.256Z"
   },
   {
    "duration": 17,
    "start_time": "2022-03-14T13:09:16.487Z"
   },
   {
    "duration": 12,
    "start_time": "2022-03-14T13:09:16.506Z"
   },
   {
    "duration": 423,
    "start_time": "2022-03-14T13:09:16.519Z"
   },
   {
    "duration": -153,
    "start_time": "2022-03-14T13:09:17.096Z"
   },
   {
    "duration": -154,
    "start_time": "2022-03-14T13:09:17.098Z"
   },
   {
    "duration": -154,
    "start_time": "2022-03-14T13:09:17.099Z"
   },
   {
    "duration": -222,
    "start_time": "2022-03-14T13:09:17.168Z"
   },
   {
    "duration": -223,
    "start_time": "2022-03-14T13:09:17.170Z"
   },
   {
    "duration": 2,
    "start_time": "2022-03-14T13:10:00.511Z"
   },
   {
    "duration": 11,
    "start_time": "2022-03-14T13:10:01.155Z"
   },
   {
    "duration": 25,
    "start_time": "2022-03-14T13:10:12.479Z"
   },
   {
    "duration": 16,
    "start_time": "2022-03-14T13:10:13.035Z"
   },
   {
    "duration": 17,
    "start_time": "2022-03-14T13:10:13.642Z"
   },
   {
    "duration": 346,
    "start_time": "2022-03-14T13:10:16.251Z"
   },
   {
    "duration": 333,
    "start_time": "2022-03-14T13:10:48.495Z"
   },
   {
    "duration": 334,
    "start_time": "2022-03-14T13:11:13.575Z"
   },
   {
    "duration": 346,
    "start_time": "2022-03-14T13:11:45.488Z"
   },
   {
    "duration": 327,
    "start_time": "2022-03-14T13:12:39.431Z"
   },
   {
    "duration": -255,
    "start_time": "2022-03-14T13:13:01.518Z"
   },
   {
    "duration": 718,
    "start_time": "2022-03-14T13:13:07.494Z"
   },
   {
    "duration": 88,
    "start_time": "2022-03-14T13:13:08.215Z"
   },
   {
    "duration": 16,
    "start_time": "2022-03-14T13:13:08.305Z"
   },
   {
    "duration": 84,
    "start_time": "2022-03-14T13:13:08.323Z"
   },
   {
    "duration": 14,
    "start_time": "2022-03-14T13:13:08.409Z"
   },
   {
    "duration": 4,
    "start_time": "2022-03-14T13:13:08.425Z"
   },
   {
    "duration": 5,
    "start_time": "2022-03-14T13:13:08.430Z"
   },
   {
    "duration": 2,
    "start_time": "2022-03-14T13:13:08.438Z"
   },
   {
    "duration": 195,
    "start_time": "2022-03-14T13:13:08.442Z"
   },
   {
    "duration": 9,
    "start_time": "2022-03-14T13:13:08.639Z"
   },
   {
    "duration": 4,
    "start_time": "2022-03-14T13:13:08.649Z"
   },
   {
    "duration": 4,
    "start_time": "2022-03-14T13:13:08.654Z"
   },
   {
    "duration": 13,
    "start_time": "2022-03-14T13:13:08.659Z"
   },
   {
    "duration": 48,
    "start_time": "2022-03-14T13:13:08.673Z"
   },
   {
    "duration": 17,
    "start_time": "2022-03-14T13:13:08.722Z"
   },
   {
    "duration": 17,
    "start_time": "2022-03-14T13:13:08.741Z"
   },
   {
    "duration": 7781,
    "start_time": "2022-03-14T13:13:08.760Z"
   },
   {
    "duration": 7800,
    "start_time": "2022-03-14T13:14:04.026Z"
   },
   {
    "duration": 9654,
    "start_time": "2022-03-14T13:14:20.906Z"
   },
   {
    "duration": 10,
    "start_time": "2022-03-14T13:14:50.766Z"
   },
   {
    "duration": 12,
    "start_time": "2022-03-14T13:14:57.642Z"
   },
   {
    "duration": 355,
    "start_time": "2022-03-14T13:15:39.995Z"
   },
   {
    "duration": 8,
    "start_time": "2022-03-14T13:15:51.799Z"
   },
   {
    "duration": 13,
    "start_time": "2022-03-14T13:16:37.142Z"
   },
   {
    "duration": 638,
    "start_time": "2022-03-14T13:17:04.789Z"
   },
   {
    "duration": 67,
    "start_time": "2022-03-14T13:17:05.429Z"
   },
   {
    "duration": 10,
    "start_time": "2022-03-14T13:17:05.498Z"
   },
   {
    "duration": 51,
    "start_time": "2022-03-14T13:17:05.509Z"
   },
   {
    "duration": 10,
    "start_time": "2022-03-14T13:17:05.561Z"
   },
   {
    "duration": 29,
    "start_time": "2022-03-14T13:17:05.573Z"
   },
   {
    "duration": 5,
    "start_time": "2022-03-14T13:17:05.604Z"
   },
   {
    "duration": 5,
    "start_time": "2022-03-14T13:17:05.611Z"
   },
   {
    "duration": 179,
    "start_time": "2022-03-14T13:17:05.619Z"
   },
   {
    "duration": 9,
    "start_time": "2022-03-14T13:17:05.800Z"
   },
   {
    "duration": 4,
    "start_time": "2022-03-14T13:17:05.810Z"
   },
   {
    "duration": 4,
    "start_time": "2022-03-14T13:17:05.815Z"
   },
   {
    "duration": 13,
    "start_time": "2022-03-14T13:17:05.821Z"
   },
   {
    "duration": 25,
    "start_time": "2022-03-14T13:17:05.836Z"
   },
   {
    "duration": 49,
    "start_time": "2022-03-14T13:17:05.863Z"
   },
   {
    "duration": 19,
    "start_time": "2022-03-14T13:17:05.914Z"
   },
   {
    "duration": 11,
    "start_time": "2022-03-14T13:17:05.934Z"
   },
   {
    "duration": 8,
    "start_time": "2022-03-14T13:17:05.946Z"
   },
   {
    "duration": 11,
    "start_time": "2022-03-14T13:17:40.149Z"
   },
   {
    "duration": 457,
    "start_time": "2022-03-14T13:19:09.858Z"
   },
   {
    "duration": 12,
    "start_time": "2022-03-14T13:19:23.241Z"
   },
   {
    "duration": 13,
    "start_time": "2022-03-14T13:21:07.710Z"
   },
   {
    "duration": 12,
    "start_time": "2022-03-14T13:21:20.994Z"
   },
   {
    "duration": 13,
    "start_time": "2022-03-14T13:21:39.498Z"
   },
   {
    "duration": 11,
    "start_time": "2022-03-14T13:21:51.602Z"
   },
   {
    "duration": 14,
    "start_time": "2022-03-14T13:22:08.690Z"
   },
   {
    "duration": 5,
    "start_time": "2022-03-14T13:23:45.185Z"
   },
   {
    "duration": 5,
    "start_time": "2022-03-14T13:23:45.804Z"
   },
   {
    "duration": 292,
    "start_time": "2022-03-14T13:31:36.826Z"
   },
   {
    "duration": 3,
    "start_time": "2022-03-14T13:31:39.050Z"
   },
   {
    "duration": 9,
    "start_time": "2022-03-14T13:31:40.094Z"
   },
   {
    "duration": 17,
    "start_time": "2022-03-14T13:31:47.618Z"
   },
   {
    "duration": 6,
    "start_time": "2022-03-14T13:34:37.503Z"
   },
   {
    "duration": 331,
    "start_time": "2022-03-14T13:38:51.100Z"
   },
   {
    "duration": 4,
    "start_time": "2022-03-14T13:38:56.032Z"
   },
   {
    "duration": 30,
    "start_time": "2022-03-14T13:38:56.672Z"
   },
   {
    "duration": 5,
    "start_time": "2022-03-14T13:39:34.152Z"
   },
   {
    "duration": 23,
    "start_time": "2022-03-14T13:39:35.025Z"
   },
   {
    "duration": 4,
    "start_time": "2022-03-14T13:40:00.173Z"
   },
   {
    "duration": 25,
    "start_time": "2022-03-14T13:40:00.601Z"
   },
   {
    "duration": 4,
    "start_time": "2022-03-14T13:40:21.872Z"
   },
   {
    "duration": 17,
    "start_time": "2022-03-14T13:40:22.365Z"
   },
   {
    "duration": 3,
    "start_time": "2022-03-14T13:45:59.174Z"
   },
   {
    "duration": 20,
    "start_time": "2022-03-14T13:46:01.042Z"
   },
   {
    "duration": 3,
    "start_time": "2022-03-14T13:47:19.698Z"
   },
   {
    "duration": 19,
    "start_time": "2022-03-14T13:47:21.922Z"
   },
   {
    "duration": 18,
    "start_time": "2022-03-14T13:47:39.443Z"
   },
   {
    "duration": 4,
    "start_time": "2022-03-14T13:48:10.402Z"
   },
   {
    "duration": 18,
    "start_time": "2022-03-14T13:48:10.866Z"
   },
   {
    "duration": 5,
    "start_time": "2022-03-14T13:49:23.231Z"
   },
   {
    "duration": 19,
    "start_time": "2022-03-14T13:49:34.939Z"
   },
   {
    "duration": 125,
    "start_time": "2022-03-17T06:55:44.276Z"
   },
   {
    "duration": 542,
    "start_time": "2022-03-17T06:55:56.996Z"
   },
   {
    "duration": 103,
    "start_time": "2022-03-17T06:55:57.541Z"
   },
   {
    "duration": 23,
    "start_time": "2022-03-17T06:55:57.646Z"
   },
   {
    "duration": 84,
    "start_time": "2022-03-17T06:55:57.672Z"
   },
   {
    "duration": 37,
    "start_time": "2022-03-17T06:55:57.759Z"
   },
   {
    "duration": 7,
    "start_time": "2022-03-17T06:55:57.798Z"
   },
   {
    "duration": 19,
    "start_time": "2022-03-17T06:55:57.808Z"
   },
   {
    "duration": 24,
    "start_time": "2022-03-17T06:55:57.830Z"
   },
   {
    "duration": 243,
    "start_time": "2022-03-17T06:55:57.856Z"
   },
   {
    "duration": 15,
    "start_time": "2022-03-17T06:55:58.103Z"
   },
   {
    "duration": 21,
    "start_time": "2022-03-17T06:55:58.121Z"
   },
   {
    "duration": 22,
    "start_time": "2022-03-17T06:55:58.144Z"
   },
   {
    "duration": 63,
    "start_time": "2022-03-17T06:55:58.168Z"
   },
   {
    "duration": 36,
    "start_time": "2022-03-17T06:55:58.234Z"
   },
   {
    "duration": 43,
    "start_time": "2022-03-17T06:55:58.272Z"
   },
   {
    "duration": 29,
    "start_time": "2022-03-17T06:55:58.318Z"
   },
   {
    "duration": 16,
    "start_time": "2022-03-17T06:55:58.349Z"
   },
   {
    "duration": 38,
    "start_time": "2022-03-17T06:55:58.366Z"
   },
   {
    "duration": 23,
    "start_time": "2022-03-17T06:55:58.407Z"
   },
   {
    "duration": 20,
    "start_time": "2022-03-17T06:55:58.432Z"
   },
   {
    "duration": 33,
    "start_time": "2022-03-17T06:55:58.454Z"
   },
   {
    "duration": 54,
    "start_time": "2022-03-17T06:55:58.489Z"
   },
   {
    "duration": 18,
    "start_time": "2022-03-17T06:55:58.545Z"
   },
   {
    "duration": 21,
    "start_time": "2022-03-17T06:55:58.566Z"
   },
   {
    "duration": 59,
    "start_time": "2022-03-17T06:55:58.589Z"
   },
   {
    "duration": 95,
    "start_time": "2022-03-17T06:55:58.650Z"
   },
   {
    "duration": 101,
    "start_time": "2022-03-17T06:58:17.068Z"
   },
   {
    "duration": 2683,
    "start_time": "2022-03-17T07:00:28.628Z"
   },
   {
    "duration": 0,
    "start_time": "2022-03-17T07:00:31.314Z"
   },
   {
    "duration": 139,
    "start_time": "2022-03-17T07:00:52.204Z"
   },
   {
    "duration": 18,
    "start_time": "2022-03-17T07:00:57.580Z"
   },
   {
    "duration": 27,
    "start_time": "2022-03-17T07:01:14.476Z"
   },
   {
    "duration": 121,
    "start_time": "2022-03-17T07:01:24.140Z"
   },
   {
    "duration": 120,
    "start_time": "2022-03-17T07:01:40.859Z"
   },
   {
    "duration": 36,
    "start_time": "2022-03-17T07:02:33.925Z"
   },
   {
    "duration": 13,
    "start_time": "2022-03-17T07:02:43.491Z"
   },
   {
    "duration": 22,
    "start_time": "2022-03-17T07:03:10.863Z"
   },
   {
    "duration": 3077,
    "start_time": "2022-03-17T07:03:12.531Z"
   },
   {
    "duration": 29,
    "start_time": "2022-03-17T07:06:07.735Z"
   },
   {
    "duration": 14,
    "start_time": "2022-03-17T07:06:08.272Z"
   },
   {
    "duration": 27,
    "start_time": "2022-03-17T07:06:10.632Z"
   },
   {
    "duration": 34,
    "start_time": "2022-03-17T07:06:19.152Z"
   },
   {
    "duration": 15,
    "start_time": "2022-03-17T07:06:19.631Z"
   },
   {
    "duration": 8,
    "start_time": "2022-03-17T07:07:30.503Z"
   },
   {
    "duration": 19,
    "start_time": "2022-03-17T07:08:08.475Z"
   },
   {
    "duration": 26,
    "start_time": "2022-03-17T07:08:09.687Z"
   },
   {
    "duration": 11,
    "start_time": "2022-03-17T07:08:10.263Z"
   },
   {
    "duration": 1856,
    "start_time": "2022-03-17T07:08:53.055Z"
   },
   {
    "duration": 0,
    "start_time": "2022-03-17T07:08:54.913Z"
   },
   {
    "duration": 113,
    "start_time": "2022-03-17T07:10:20.363Z"
   },
   {
    "duration": 121,
    "start_time": "2022-03-17T07:10:29.331Z"
   },
   {
    "duration": 15,
    "start_time": "2022-03-17T07:10:38.174Z"
   },
   {
    "duration": 26,
    "start_time": "2022-03-17T07:10:47.283Z"
   },
   {
    "duration": 11,
    "start_time": "2022-03-17T07:10:49.999Z"
   },
   {
    "duration": 19,
    "start_time": "2022-03-17T07:14:02.571Z"
   },
   {
    "duration": 2246,
    "start_time": "2022-03-17T07:15:05.895Z"
   },
   {
    "duration": 0,
    "start_time": "2022-03-17T07:15:08.144Z"
   },
   {
    "duration": 15,
    "start_time": "2022-03-17T07:15:28.066Z"
   },
   {
    "duration": 1973,
    "start_time": "2022-03-17T07:15:43.579Z"
   },
   {
    "duration": 10,
    "start_time": "2022-03-17T07:30:01.403Z"
   },
   {
    "duration": 3,
    "start_time": "2022-03-17T07:30:03.767Z"
   },
   {
    "duration": 41,
    "start_time": "2022-03-17T07:30:04.463Z"
   },
   {
    "duration": 12,
    "start_time": "2022-03-17T07:30:06.810Z"
   },
   {
    "duration": 12,
    "start_time": "2022-03-17T07:31:16.191Z"
   },
   {
    "duration": 4,
    "start_time": "2022-03-17T07:31:18.839Z"
   },
   {
    "duration": 59,
    "start_time": "2022-03-17T07:31:19.338Z"
   },
   {
    "duration": 12,
    "start_time": "2022-03-17T07:31:19.999Z"
   },
   {
    "duration": 5,
    "start_time": "2022-03-17T07:31:23.535Z"
   },
   {
    "duration": 14,
    "start_time": "2022-03-17T07:31:33.415Z"
   },
   {
    "duration": 21,
    "start_time": "2022-03-17T07:41:13.351Z"
   },
   {
    "duration": 10,
    "start_time": "2022-03-17T07:46:19.784Z"
   },
   {
    "duration": 74,
    "start_time": "2022-03-17T07:48:28.800Z"
   },
   {
    "duration": 539,
    "start_time": "2022-03-17T07:48:40.483Z"
   },
   {
    "duration": 276,
    "start_time": "2022-03-17T07:48:41.024Z"
   },
   {
    "duration": 35,
    "start_time": "2022-03-17T07:48:41.302Z"
   },
   {
    "duration": 147,
    "start_time": "2022-03-17T07:48:41.342Z"
   },
   {
    "duration": 22,
    "start_time": "2022-03-17T07:48:41.491Z"
   },
   {
    "duration": 8,
    "start_time": "2022-03-17T07:48:41.516Z"
   },
   {
    "duration": 10,
    "start_time": "2022-03-17T07:48:41.527Z"
   },
   {
    "duration": 11,
    "start_time": "2022-03-17T07:48:41.540Z"
   },
   {
    "duration": 367,
    "start_time": "2022-03-17T07:48:41.588Z"
   },
   {
    "duration": 31,
    "start_time": "2022-03-17T07:48:41.962Z"
   },
   {
    "duration": 6,
    "start_time": "2022-03-17T07:48:41.995Z"
   },
   {
    "duration": 15,
    "start_time": "2022-03-17T07:48:42.004Z"
   },
   {
    "duration": 37,
    "start_time": "2022-03-17T07:48:42.022Z"
   },
   {
    "duration": 54,
    "start_time": "2022-03-17T07:48:42.062Z"
   },
   {
    "duration": 30,
    "start_time": "2022-03-17T07:48:42.119Z"
   },
   {
    "duration": 52,
    "start_time": "2022-03-17T07:48:42.151Z"
   },
   {
    "duration": 18,
    "start_time": "2022-03-17T07:48:42.206Z"
   },
   {
    "duration": 21,
    "start_time": "2022-03-17T07:48:42.226Z"
   },
   {
    "duration": 37,
    "start_time": "2022-03-17T07:48:42.250Z"
   },
   {
    "duration": 8,
    "start_time": "2022-03-17T07:48:42.289Z"
   },
   {
    "duration": 20,
    "start_time": "2022-03-17T07:48:42.300Z"
   },
   {
    "duration": 59,
    "start_time": "2022-03-17T07:48:42.323Z"
   },
   {
    "duration": 8,
    "start_time": "2022-03-17T07:48:42.384Z"
   },
   {
    "duration": 12,
    "start_time": "2022-03-17T07:48:42.394Z"
   },
   {
    "duration": 47,
    "start_time": "2022-03-17T07:48:42.408Z"
   },
   {
    "duration": 28,
    "start_time": "2022-03-17T07:48:42.457Z"
   },
   {
    "duration": 40,
    "start_time": "2022-03-17T07:48:42.487Z"
   },
   {
    "duration": 20,
    "start_time": "2022-03-17T07:48:42.534Z"
   },
   {
    "duration": 85,
    "start_time": "2022-03-17T07:48:42.557Z"
   },
   {
    "duration": 16,
    "start_time": "2022-03-17T07:48:42.644Z"
   },
   {
    "duration": 83,
    "start_time": "2022-03-17T07:49:02.760Z"
   },
   {
    "duration": 551,
    "start_time": "2022-03-17T07:49:16.151Z"
   },
   {
    "duration": 239,
    "start_time": "2022-03-17T07:49:16.704Z"
   },
   {
    "duration": 21,
    "start_time": "2022-03-17T07:49:16.946Z"
   },
   {
    "duration": 105,
    "start_time": "2022-03-17T07:49:16.970Z"
   },
   {
    "duration": 29,
    "start_time": "2022-03-17T07:49:17.077Z"
   },
   {
    "duration": 15,
    "start_time": "2022-03-17T07:49:17.109Z"
   },
   {
    "duration": 20,
    "start_time": "2022-03-17T07:49:17.127Z"
   },
   {
    "duration": 11,
    "start_time": "2022-03-17T07:49:17.149Z"
   },
   {
    "duration": 335,
    "start_time": "2022-03-17T07:49:17.162Z"
   },
   {
    "duration": 14,
    "start_time": "2022-03-17T07:49:17.502Z"
   },
   {
    "duration": 6,
    "start_time": "2022-03-17T07:49:17.518Z"
   },
   {
    "duration": 5,
    "start_time": "2022-03-17T07:49:17.526Z"
   },
   {
    "duration": 54,
    "start_time": "2022-03-17T07:49:17.533Z"
   },
   {
    "duration": 35,
    "start_time": "2022-03-17T07:49:17.590Z"
   },
   {
    "duration": 29,
    "start_time": "2022-03-17T07:49:17.627Z"
   },
   {
    "duration": 55,
    "start_time": "2022-03-17T07:49:17.658Z"
   },
   {
    "duration": 15,
    "start_time": "2022-03-17T07:49:17.716Z"
   },
   {
    "duration": 19,
    "start_time": "2022-03-17T07:49:17.733Z"
   },
   {
    "duration": 6,
    "start_time": "2022-03-17T07:49:17.787Z"
   },
   {
    "duration": 7,
    "start_time": "2022-03-17T07:49:17.796Z"
   },
   {
    "duration": 8,
    "start_time": "2022-03-17T07:49:17.805Z"
   },
   {
    "duration": 35,
    "start_time": "2022-03-17T07:49:17.815Z"
   },
   {
    "duration": 37,
    "start_time": "2022-03-17T07:49:17.852Z"
   },
   {
    "duration": 5,
    "start_time": "2022-03-17T07:49:17.891Z"
   },
   {
    "duration": 45,
    "start_time": "2022-03-17T07:49:17.898Z"
   },
   {
    "duration": 9,
    "start_time": "2022-03-17T07:49:17.946Z"
   },
   {
    "duration": 39,
    "start_time": "2022-03-17T07:49:17.957Z"
   },
   {
    "duration": 4,
    "start_time": "2022-03-17T07:49:18.000Z"
   },
   {
    "duration": 55,
    "start_time": "2022-03-17T07:49:18.006Z"
   },
   {
    "duration": 34,
    "start_time": "2022-03-17T07:49:18.063Z"
   },
   {
    "duration": 534,
    "start_time": "2022-03-17T07:49:58.557Z"
   },
   {
    "duration": 270,
    "start_time": "2022-03-17T07:49:59.094Z"
   },
   {
    "duration": 34,
    "start_time": "2022-03-17T07:49:59.366Z"
   },
   {
    "duration": 123,
    "start_time": "2022-03-17T07:49:59.404Z"
   },
   {
    "duration": 16,
    "start_time": "2022-03-17T07:49:59.529Z"
   },
   {
    "duration": 8,
    "start_time": "2022-03-17T07:49:59.548Z"
   },
   {
    "duration": 8,
    "start_time": "2022-03-17T07:49:59.587Z"
   },
   {
    "duration": 8,
    "start_time": "2022-03-17T07:49:59.597Z"
   },
   {
    "duration": 226,
    "start_time": "2022-03-17T07:49:59.607Z"
   },
   {
    "duration": 14,
    "start_time": "2022-03-17T07:49:59.837Z"
   },
   {
    "duration": 5,
    "start_time": "2022-03-17T07:49:59.854Z"
   },
   {
    "duration": 26,
    "start_time": "2022-03-17T07:49:59.861Z"
   },
   {
    "duration": 22,
    "start_time": "2022-03-17T07:49:59.889Z"
   },
   {
    "duration": 36,
    "start_time": "2022-03-17T07:49:59.913Z"
   },
   {
    "duration": 54,
    "start_time": "2022-03-17T07:49:59.953Z"
   },
   {
    "duration": 29,
    "start_time": "2022-03-17T07:50:00.009Z"
   },
   {
    "duration": 15,
    "start_time": "2022-03-17T07:50:00.040Z"
   },
   {
    "duration": 46,
    "start_time": "2022-03-17T07:50:00.057Z"
   },
   {
    "duration": 10,
    "start_time": "2022-03-17T07:50:00.105Z"
   },
   {
    "duration": 16,
    "start_time": "2022-03-17T07:50:00.118Z"
   },
   {
    "duration": 9,
    "start_time": "2022-03-17T07:50:00.136Z"
   },
   {
    "duration": 51,
    "start_time": "2022-03-17T07:50:00.147Z"
   },
   {
    "duration": 10,
    "start_time": "2022-03-17T07:50:00.200Z"
   },
   {
    "duration": 4,
    "start_time": "2022-03-17T07:50:00.212Z"
   },
   {
    "duration": 37,
    "start_time": "2022-03-17T07:50:00.218Z"
   },
   {
    "duration": 7,
    "start_time": "2022-03-17T07:50:00.257Z"
   },
   {
    "duration": 20,
    "start_time": "2022-03-17T07:50:00.287Z"
   },
   {
    "duration": 6,
    "start_time": "2022-03-17T07:50:00.312Z"
   },
   {
    "duration": 77,
    "start_time": "2022-03-17T07:50:00.320Z"
   },
   {
    "duration": 15,
    "start_time": "2022-03-17T07:50:00.399Z"
   },
   {
    "duration": 76,
    "start_time": "2022-03-17T07:50:43.908Z"
   },
   {
    "duration": 581,
    "start_time": "2022-03-17T07:50:59.557Z"
   },
   {
    "duration": 222,
    "start_time": "2022-03-17T07:51:00.141Z"
   },
   {
    "duration": 22,
    "start_time": "2022-03-17T07:51:00.365Z"
   },
   {
    "duration": 84,
    "start_time": "2022-03-17T07:51:00.390Z"
   },
   {
    "duration": 15,
    "start_time": "2022-03-17T07:51:00.477Z"
   },
   {
    "duration": 7,
    "start_time": "2022-03-17T07:51:00.496Z"
   },
   {
    "duration": 17,
    "start_time": "2022-03-17T07:51:00.505Z"
   },
   {
    "duration": 7,
    "start_time": "2022-03-17T07:51:00.525Z"
   },
   {
    "duration": 244,
    "start_time": "2022-03-17T07:51:00.535Z"
   },
   {
    "duration": 16,
    "start_time": "2022-03-17T07:51:00.783Z"
   },
   {
    "duration": 10,
    "start_time": "2022-03-17T07:51:00.801Z"
   },
   {
    "duration": 13,
    "start_time": "2022-03-17T07:51:00.813Z"
   },
   {
    "duration": 39,
    "start_time": "2022-03-17T07:51:00.828Z"
   },
   {
    "duration": 47,
    "start_time": "2022-03-17T07:51:00.870Z"
   },
   {
    "duration": 31,
    "start_time": "2022-03-17T07:51:00.919Z"
   },
   {
    "duration": 56,
    "start_time": "2022-03-17T07:51:00.953Z"
   },
   {
    "duration": 14,
    "start_time": "2022-03-17T07:51:01.012Z"
   },
   {
    "duration": 24,
    "start_time": "2022-03-17T07:51:01.029Z"
   },
   {
    "duration": 6,
    "start_time": "2022-03-17T07:51:01.056Z"
   },
   {
    "duration": 6,
    "start_time": "2022-03-17T07:51:01.088Z"
   },
   {
    "duration": 13,
    "start_time": "2022-03-17T07:51:01.096Z"
   },
   {
    "duration": 42,
    "start_time": "2022-03-17T07:51:01.111Z"
   },
   {
    "duration": 18,
    "start_time": "2022-03-17T07:51:01.155Z"
   },
   {
    "duration": 23,
    "start_time": "2022-03-17T07:51:01.175Z"
   },
   {
    "duration": 73,
    "start_time": "2022-03-17T07:51:01.200Z"
   },
   {
    "duration": 18,
    "start_time": "2022-03-17T07:51:01.275Z"
   },
   {
    "duration": 31,
    "start_time": "2022-03-17T07:51:01.296Z"
   },
   {
    "duration": 27,
    "start_time": "2022-03-17T07:51:01.332Z"
   },
   {
    "duration": 93,
    "start_time": "2022-03-17T07:51:01.362Z"
   },
   {
    "duration": 14,
    "start_time": "2022-03-17T07:51:01.457Z"
   },
   {
    "duration": 71,
    "start_time": "2022-03-17T07:51:22.650Z"
   },
   {
    "duration": 572,
    "start_time": "2022-03-17T07:51:35.992Z"
   },
   {
    "duration": 234,
    "start_time": "2022-03-17T07:51:36.566Z"
   },
   {
    "duration": 22,
    "start_time": "2022-03-17T07:51:36.802Z"
   },
   {
    "duration": 92,
    "start_time": "2022-03-17T07:51:36.826Z"
   },
   {
    "duration": 15,
    "start_time": "2022-03-17T07:51:36.920Z"
   },
   {
    "duration": 7,
    "start_time": "2022-03-17T07:51:36.938Z"
   },
   {
    "duration": 8,
    "start_time": "2022-03-17T07:51:36.948Z"
   },
   {
    "duration": 6,
    "start_time": "2022-03-17T07:51:36.988Z"
   },
   {
    "duration": 231,
    "start_time": "2022-03-17T07:51:36.996Z"
   },
   {
    "duration": 15,
    "start_time": "2022-03-17T07:51:37.234Z"
   },
   {
    "duration": 6,
    "start_time": "2022-03-17T07:51:37.251Z"
   },
   {
    "duration": 5,
    "start_time": "2022-03-17T07:51:37.259Z"
   },
   {
    "duration": 27,
    "start_time": "2022-03-17T07:51:37.288Z"
   },
   {
    "duration": 37,
    "start_time": "2022-03-17T07:51:37.317Z"
   },
   {
    "duration": 58,
    "start_time": "2022-03-17T07:51:37.357Z"
   },
   {
    "duration": 30,
    "start_time": "2022-03-17T07:51:37.417Z"
   },
   {
    "duration": 40,
    "start_time": "2022-03-17T07:51:37.450Z"
   },
   {
    "duration": 15,
    "start_time": "2022-03-17T07:51:37.492Z"
   },
   {
    "duration": 5,
    "start_time": "2022-03-17T07:51:37.510Z"
   },
   {
    "duration": 28,
    "start_time": "2022-03-17T07:51:37.517Z"
   },
   {
    "duration": 13,
    "start_time": "2022-03-17T07:51:37.547Z"
   },
   {
    "duration": 49,
    "start_time": "2022-03-17T07:51:37.562Z"
   },
   {
    "duration": 10,
    "start_time": "2022-03-17T07:51:37.613Z"
   },
   {
    "duration": 19,
    "start_time": "2022-03-17T07:51:37.625Z"
   },
   {
    "duration": 48,
    "start_time": "2022-03-17T07:51:37.646Z"
   },
   {
    "duration": 12,
    "start_time": "2022-03-17T07:51:37.696Z"
   },
   {
    "duration": 20,
    "start_time": "2022-03-17T07:51:37.710Z"
   },
   {
    "duration": 7,
    "start_time": "2022-03-17T07:51:37.734Z"
   },
   {
    "duration": 77,
    "start_time": "2022-03-17T07:51:37.744Z"
   },
   {
    "duration": 13,
    "start_time": "2022-03-17T07:51:37.824Z"
   },
   {
    "duration": 614,
    "start_time": "2022-03-17T07:52:04.185Z"
   },
   {
    "duration": 234,
    "start_time": "2022-03-17T07:52:04.802Z"
   },
   {
    "duration": 21,
    "start_time": "2022-03-17T07:52:05.038Z"
   },
   {
    "duration": 86,
    "start_time": "2022-03-17T07:52:05.062Z"
   },
   {
    "duration": 15,
    "start_time": "2022-03-17T07:52:05.151Z"
   },
   {
    "duration": 7,
    "start_time": "2022-03-17T07:52:05.187Z"
   },
   {
    "duration": 15,
    "start_time": "2022-03-17T07:52:05.197Z"
   },
   {
    "duration": 10,
    "start_time": "2022-03-17T07:52:05.214Z"
   },
   {
    "duration": 261,
    "start_time": "2022-03-17T07:52:05.226Z"
   },
   {
    "duration": 19,
    "start_time": "2022-03-17T07:52:05.492Z"
   },
   {
    "duration": 18,
    "start_time": "2022-03-17T07:52:05.514Z"
   },
   {
    "duration": 8,
    "start_time": "2022-03-17T07:52:05.535Z"
   },
   {
    "duration": 49,
    "start_time": "2022-03-17T07:52:05.545Z"
   },
   {
    "duration": 36,
    "start_time": "2022-03-17T07:52:05.596Z"
   },
   {
    "duration": 53,
    "start_time": "2022-03-17T07:52:05.634Z"
   },
   {
    "duration": 30,
    "start_time": "2022-03-17T07:52:05.689Z"
   },
   {
    "duration": 15,
    "start_time": "2022-03-17T07:52:05.721Z"
   },
   {
    "duration": 52,
    "start_time": "2022-03-17T07:52:05.739Z"
   },
   {
    "duration": 7,
    "start_time": "2022-03-17T07:52:05.794Z"
   },
   {
    "duration": 15,
    "start_time": "2022-03-17T07:52:05.804Z"
   },
   {
    "duration": 10,
    "start_time": "2022-03-17T07:52:05.822Z"
   },
   {
    "duration": 58,
    "start_time": "2022-03-17T07:52:05.834Z"
   },
   {
    "duration": 11,
    "start_time": "2022-03-17T07:52:05.894Z"
   },
   {
    "duration": 5,
    "start_time": "2022-03-17T07:52:05.908Z"
   },
   {
    "duration": 36,
    "start_time": "2022-03-17T07:52:05.915Z"
   },
   {
    "duration": 38,
    "start_time": "2022-03-17T07:52:05.953Z"
   },
   {
    "duration": 30,
    "start_time": "2022-03-17T07:52:05.995Z"
   },
   {
    "duration": 5,
    "start_time": "2022-03-17T07:52:06.032Z"
   },
   {
    "duration": 100,
    "start_time": "2022-03-17T07:52:06.039Z"
   },
   {
    "duration": 13,
    "start_time": "2022-03-17T07:52:06.142Z"
   },
   {
    "duration": 550,
    "start_time": "2022-03-17T07:53:09.756Z"
   },
   {
    "duration": 234,
    "start_time": "2022-03-17T07:53:10.309Z"
   },
   {
    "duration": 21,
    "start_time": "2022-03-17T07:53:10.545Z"
   },
   {
    "duration": 82,
    "start_time": "2022-03-17T07:53:10.569Z"
   },
   {
    "duration": 34,
    "start_time": "2022-03-17T07:53:10.653Z"
   },
   {
    "duration": 8,
    "start_time": "2022-03-17T07:53:10.689Z"
   },
   {
    "duration": 9,
    "start_time": "2022-03-17T07:53:10.699Z"
   },
   {
    "duration": 6,
    "start_time": "2022-03-17T07:53:10.710Z"
   },
   {
    "duration": 269,
    "start_time": "2022-03-17T07:53:10.718Z"
   },
   {
    "duration": 16,
    "start_time": "2022-03-17T07:53:10.993Z"
   },
   {
    "duration": 5,
    "start_time": "2022-03-17T07:53:11.012Z"
   },
   {
    "duration": 6,
    "start_time": "2022-03-17T07:53:11.019Z"
   },
   {
    "duration": 64,
    "start_time": "2022-03-17T07:53:11.027Z"
   },
   {
    "duration": 51,
    "start_time": "2022-03-17T07:53:11.094Z"
   },
   {
    "duration": 58,
    "start_time": "2022-03-17T07:53:11.147Z"
   },
   {
    "duration": 29,
    "start_time": "2022-03-17T07:53:11.207Z"
   },
   {
    "duration": 15,
    "start_time": "2022-03-17T07:53:11.238Z"
   },
   {
    "duration": 41,
    "start_time": "2022-03-17T07:53:11.255Z"
   },
   {
    "duration": 5,
    "start_time": "2022-03-17T07:53:11.298Z"
   },
   {
    "duration": 11,
    "start_time": "2022-03-17T07:53:11.305Z"
   },
   {
    "duration": 6,
    "start_time": "2022-03-17T07:53:11.318Z"
   },
   {
    "duration": 62,
    "start_time": "2022-03-17T07:53:11.327Z"
   },
   {
    "duration": 9,
    "start_time": "2022-03-17T07:53:11.391Z"
   },
   {
    "duration": 4,
    "start_time": "2022-03-17T07:53:11.402Z"
   },
   {
    "duration": 35,
    "start_time": "2022-03-17T07:53:11.409Z"
   },
   {
    "duration": 7,
    "start_time": "2022-03-17T07:53:11.446Z"
   },
   {
    "duration": 48,
    "start_time": "2022-03-17T07:53:11.455Z"
   },
   {
    "duration": 5,
    "start_time": "2022-03-17T07:53:11.508Z"
   },
   {
    "duration": 89,
    "start_time": "2022-03-17T07:53:11.515Z"
   },
   {
    "duration": 15,
    "start_time": "2022-03-17T07:53:11.606Z"
   },
   {
    "duration": 15,
    "start_time": "2022-03-17T07:53:11.623Z"
   },
   {
    "duration": 104,
    "start_time": "2022-03-17T07:57:16.057Z"
   },
   {
    "duration": 9,
    "start_time": "2022-03-17T07:58:04.825Z"
   },
   {
    "duration": 532,
    "start_time": "2022-03-17T07:58:10.976Z"
   },
   {
    "duration": 245,
    "start_time": "2022-03-17T07:58:11.511Z"
   },
   {
    "duration": 22,
    "start_time": "2022-03-17T07:58:11.758Z"
   },
   {
    "duration": 74,
    "start_time": "2022-03-17T07:58:11.789Z"
   },
   {
    "duration": 27,
    "start_time": "2022-03-17T07:58:11.866Z"
   },
   {
    "duration": 7,
    "start_time": "2022-03-17T07:58:11.896Z"
   },
   {
    "duration": 10,
    "start_time": "2022-03-17T07:58:11.905Z"
   },
   {
    "duration": 6,
    "start_time": "2022-03-17T07:58:11.918Z"
   },
   {
    "duration": 395,
    "start_time": "2022-03-17T07:58:11.926Z"
   },
   {
    "duration": 23,
    "start_time": "2022-03-17T07:58:12.326Z"
   },
   {
    "duration": 6,
    "start_time": "2022-03-17T07:58:12.351Z"
   },
   {
    "duration": 31,
    "start_time": "2022-03-17T07:58:12.360Z"
   },
   {
    "duration": 37,
    "start_time": "2022-03-17T07:58:12.393Z"
   },
   {
    "duration": 35,
    "start_time": "2022-03-17T07:58:12.432Z"
   },
   {
    "duration": 46,
    "start_time": "2022-03-17T07:58:12.469Z"
   },
   {
    "duration": 28,
    "start_time": "2022-03-17T07:58:12.519Z"
   },
   {
    "duration": 42,
    "start_time": "2022-03-17T07:58:12.550Z"
   },
   {
    "duration": 19,
    "start_time": "2022-03-17T07:58:12.596Z"
   },
   {
    "duration": 6,
    "start_time": "2022-03-17T07:58:12.617Z"
   },
   {
    "duration": 11,
    "start_time": "2022-03-17T07:58:12.626Z"
   },
   {
    "duration": 5,
    "start_time": "2022-03-17T07:58:12.639Z"
   },
   {
    "duration": 61,
    "start_time": "2022-03-17T07:58:12.646Z"
   },
   {
    "duration": 9,
    "start_time": "2022-03-17T07:58:12.709Z"
   },
   {
    "duration": 9,
    "start_time": "2022-03-17T07:58:12.720Z"
   },
   {
    "duration": 78,
    "start_time": "2022-03-17T07:58:12.732Z"
   },
   {
    "duration": 10,
    "start_time": "2022-03-17T07:58:12.812Z"
   },
   {
    "duration": 32,
    "start_time": "2022-03-17T07:58:12.825Z"
   },
   {
    "duration": 6,
    "start_time": "2022-03-17T07:58:12.887Z"
   },
   {
    "duration": 54,
    "start_time": "2022-03-17T07:58:12.896Z"
   },
   {
    "duration": 16,
    "start_time": "2022-03-17T07:58:12.952Z"
   },
   {
    "duration": 518,
    "start_time": "2022-03-17T07:58:45.092Z"
   },
   {
    "duration": 247,
    "start_time": "2022-03-17T07:58:45.613Z"
   },
   {
    "duration": 23,
    "start_time": "2022-03-17T07:58:45.863Z"
   },
   {
    "duration": 76,
    "start_time": "2022-03-17T07:58:45.891Z"
   },
   {
    "duration": 17,
    "start_time": "2022-03-17T07:58:45.986Z"
   },
   {
    "duration": 7,
    "start_time": "2022-03-17T07:58:46.006Z"
   },
   {
    "duration": 9,
    "start_time": "2022-03-17T07:58:46.016Z"
   },
   {
    "duration": 5,
    "start_time": "2022-03-17T07:58:46.028Z"
   },
   {
    "duration": 262,
    "start_time": "2022-03-17T07:58:46.035Z"
   },
   {
    "duration": 14,
    "start_time": "2022-03-17T07:58:46.300Z"
   },
   {
    "duration": 6,
    "start_time": "2022-03-17T07:58:46.316Z"
   },
   {
    "duration": 5,
    "start_time": "2022-03-17T07:58:46.324Z"
   },
   {
    "duration": 56,
    "start_time": "2022-03-17T07:58:46.331Z"
   },
   {
    "duration": 37,
    "start_time": "2022-03-17T07:58:46.390Z"
   },
   {
    "duration": 30,
    "start_time": "2022-03-17T07:58:46.429Z"
   },
   {
    "duration": 54,
    "start_time": "2022-03-17T07:58:46.461Z"
   },
   {
    "duration": 17,
    "start_time": "2022-03-17T07:58:46.517Z"
   },
   {
    "duration": 17,
    "start_time": "2022-03-17T07:58:46.536Z"
   },
   {
    "duration": 7,
    "start_time": "2022-03-17T07:58:46.588Z"
   },
   {
    "duration": 8,
    "start_time": "2022-03-17T07:58:46.597Z"
   },
   {
    "duration": 7,
    "start_time": "2022-03-17T07:58:46.607Z"
   },
   {
    "duration": 31,
    "start_time": "2022-03-17T07:58:46.616Z"
   },
   {
    "duration": 46,
    "start_time": "2022-03-17T07:58:46.649Z"
   },
   {
    "duration": 8,
    "start_time": "2022-03-17T07:58:46.698Z"
   },
   {
    "duration": 33,
    "start_time": "2022-03-17T07:58:46.708Z"
   },
   {
    "duration": 19,
    "start_time": "2022-03-17T07:58:46.744Z"
   },
   {
    "duration": 40,
    "start_time": "2022-03-17T07:58:46.765Z"
   },
   {
    "duration": 6,
    "start_time": "2022-03-17T07:58:46.809Z"
   },
   {
    "duration": 76,
    "start_time": "2022-03-17T07:58:46.817Z"
   },
   {
    "duration": 14,
    "start_time": "2022-03-17T07:58:46.896Z"
   },
   {
    "duration": 71,
    "start_time": "2022-03-17T07:59:53.209Z"
   },
   {
    "duration": 537,
    "start_time": "2022-03-17T07:59:59.864Z"
   },
   {
    "duration": 242,
    "start_time": "2022-03-17T08:00:00.404Z"
   },
   {
    "duration": 22,
    "start_time": "2022-03-17T08:00:00.648Z"
   },
   {
    "duration": 86,
    "start_time": "2022-03-17T08:00:00.673Z"
   },
   {
    "duration": 14,
    "start_time": "2022-03-17T08:00:00.761Z"
   },
   {
    "duration": 7,
    "start_time": "2022-03-17T08:00:00.787Z"
   },
   {
    "duration": 16,
    "start_time": "2022-03-17T08:00:00.797Z"
   },
   {
    "duration": 7,
    "start_time": "2022-03-17T08:00:00.816Z"
   },
   {
    "duration": 232,
    "start_time": "2022-03-17T08:00:00.825Z"
   },
   {
    "duration": 28,
    "start_time": "2022-03-17T08:00:01.060Z"
   },
   {
    "duration": 5,
    "start_time": "2022-03-17T08:00:01.091Z"
   },
   {
    "duration": 33,
    "start_time": "2022-03-17T08:00:01.099Z"
   },
   {
    "duration": 44,
    "start_time": "2022-03-17T08:00:01.134Z"
   },
   {
    "duration": 62,
    "start_time": "2022-03-17T08:00:01.181Z"
   },
   {
    "duration": 30,
    "start_time": "2022-03-17T08:00:01.245Z"
   },
   {
    "duration": 33,
    "start_time": "2022-03-17T08:00:01.277Z"
   },
   {
    "duration": 34,
    "start_time": "2022-03-17T08:00:01.312Z"
   },
   {
    "duration": 35,
    "start_time": "2022-03-17T08:00:01.348Z"
   },
   {
    "duration": 11,
    "start_time": "2022-03-17T08:00:01.386Z"
   },
   {
    "duration": 53,
    "start_time": "2022-03-17T08:00:01.399Z"
   },
   {
    "duration": 24,
    "start_time": "2022-03-17T08:00:01.455Z"
   },
   {
    "duration": 37,
    "start_time": "2022-03-17T08:00:01.483Z"
   },
   {
    "duration": 21,
    "start_time": "2022-03-17T08:00:01.522Z"
   },
   {
    "duration": 9,
    "start_time": "2022-03-17T08:00:01.544Z"
   },
   {
    "duration": 42,
    "start_time": "2022-03-17T08:00:01.555Z"
   },
   {
    "duration": 30,
    "start_time": "2022-03-17T08:00:01.599Z"
   },
   {
    "duration": 66,
    "start_time": "2022-03-17T08:00:01.631Z"
   },
   {
    "duration": 30,
    "start_time": "2022-03-17T08:00:01.703Z"
   },
   {
    "duration": 67,
    "start_time": "2022-03-17T08:00:01.736Z"
   },
   {
    "duration": 14,
    "start_time": "2022-03-17T08:00:01.805Z"
   },
   {
    "duration": 592,
    "start_time": "2022-03-17T08:00:30.367Z"
   },
   {
    "duration": 252,
    "start_time": "2022-03-17T08:00:30.963Z"
   },
   {
    "duration": 23,
    "start_time": "2022-03-17T08:00:31.218Z"
   },
   {
    "duration": 98,
    "start_time": "2022-03-17T08:00:31.246Z"
   },
   {
    "duration": 16,
    "start_time": "2022-03-17T08:00:31.347Z"
   },
   {
    "duration": 26,
    "start_time": "2022-03-17T08:00:31.366Z"
   },
   {
    "duration": 35,
    "start_time": "2022-03-17T08:00:31.394Z"
   },
   {
    "duration": 13,
    "start_time": "2022-03-17T08:00:31.431Z"
   },
   {
    "duration": 225,
    "start_time": "2022-03-17T08:00:31.447Z"
   },
   {
    "duration": 18,
    "start_time": "2022-03-17T08:00:31.676Z"
   },
   {
    "duration": 12,
    "start_time": "2022-03-17T08:00:31.696Z"
   },
   {
    "duration": 8,
    "start_time": "2022-03-17T08:00:31.711Z"
   },
   {
    "duration": 24,
    "start_time": "2022-03-17T08:00:31.721Z"
   },
   {
    "duration": 60,
    "start_time": "2022-03-17T08:00:31.747Z"
   },
   {
    "duration": 30,
    "start_time": "2022-03-17T08:00:31.809Z"
   },
   {
    "duration": 58,
    "start_time": "2022-03-17T08:00:31.842Z"
   },
   {
    "duration": 19,
    "start_time": "2022-03-17T08:00:31.903Z"
   },
   {
    "duration": 20,
    "start_time": "2022-03-17T08:00:31.924Z"
   },
   {
    "duration": 7,
    "start_time": "2022-03-17T08:00:31.946Z"
   },
   {
    "duration": 6,
    "start_time": "2022-03-17T08:00:31.988Z"
   },
   {
    "duration": 554,
    "start_time": "2022-03-17T08:02:47.069Z"
   },
   {
    "duration": 242,
    "start_time": "2022-03-17T08:02:47.626Z"
   },
   {
    "duration": 21,
    "start_time": "2022-03-17T08:02:47.870Z"
   },
   {
    "duration": 73,
    "start_time": "2022-03-17T08:02:47.894Z"
   },
   {
    "duration": 28,
    "start_time": "2022-03-17T08:02:47.970Z"
   },
   {
    "duration": 7,
    "start_time": "2022-03-17T08:02:48.000Z"
   },
   {
    "duration": 8,
    "start_time": "2022-03-17T08:02:48.009Z"
   },
   {
    "duration": 5,
    "start_time": "2022-03-17T08:02:48.019Z"
   },
   {
    "duration": 250,
    "start_time": "2022-03-17T08:02:48.026Z"
   },
   {
    "duration": 16,
    "start_time": "2022-03-17T08:02:48.286Z"
   },
   {
    "duration": 10,
    "start_time": "2022-03-17T08:02:48.305Z"
   },
   {
    "duration": 10,
    "start_time": "2022-03-17T08:02:48.317Z"
   },
   {
    "duration": 25,
    "start_time": "2022-03-17T08:02:48.330Z"
   },
   {
    "duration": 60,
    "start_time": "2022-03-17T08:02:48.358Z"
   },
   {
    "duration": 30,
    "start_time": "2022-03-17T08:02:48.421Z"
   },
   {
    "duration": 54,
    "start_time": "2022-03-17T08:02:48.453Z"
   },
   {
    "duration": 26,
    "start_time": "2022-03-17T08:02:48.509Z"
   },
   {
    "duration": 21,
    "start_time": "2022-03-17T08:02:48.537Z"
   },
   {
    "duration": 31,
    "start_time": "2022-03-17T08:02:48.560Z"
   },
   {
    "duration": 9,
    "start_time": "2022-03-17T08:02:48.593Z"
   },
   {
    "duration": 6,
    "start_time": "2022-03-17T08:02:48.604Z"
   },
   {
    "duration": 31,
    "start_time": "2022-03-17T08:02:48.612Z"
   },
   {
    "duration": 8,
    "start_time": "2022-03-17T08:02:48.645Z"
   },
   {
    "duration": 6,
    "start_time": "2022-03-17T08:02:48.689Z"
   },
   {
    "duration": 38,
    "start_time": "2022-03-17T08:02:48.697Z"
   },
   {
    "duration": 13,
    "start_time": "2022-03-17T08:02:48.737Z"
   },
   {
    "duration": 44,
    "start_time": "2022-03-17T08:02:48.752Z"
   },
   {
    "duration": 4,
    "start_time": "2022-03-17T08:02:48.800Z"
   },
   {
    "duration": 53,
    "start_time": "2022-03-17T08:02:48.806Z"
   },
   {
    "duration": 31,
    "start_time": "2022-03-17T08:02:48.861Z"
   },
   {
    "duration": 550,
    "start_time": "2022-03-17T08:09:45.768Z"
   },
   {
    "duration": 245,
    "start_time": "2022-03-17T08:09:46.321Z"
   },
   {
    "duration": 22,
    "start_time": "2022-03-17T08:09:46.568Z"
   },
   {
    "duration": 73,
    "start_time": "2022-03-17T08:09:46.593Z"
   },
   {
    "duration": 32,
    "start_time": "2022-03-17T08:09:46.668Z"
   },
   {
    "duration": 7,
    "start_time": "2022-03-17T08:09:46.701Z"
   },
   {
    "duration": 15,
    "start_time": "2022-03-17T08:09:46.710Z"
   },
   {
    "duration": 6,
    "start_time": "2022-03-17T08:09:46.728Z"
   },
   {
    "duration": 255,
    "start_time": "2022-03-17T08:09:46.736Z"
   },
   {
    "duration": 15,
    "start_time": "2022-03-17T08:09:46.995Z"
   },
   {
    "duration": 5,
    "start_time": "2022-03-17T08:09:47.012Z"
   },
   {
    "duration": 11,
    "start_time": "2022-03-17T08:09:47.019Z"
   },
   {
    "duration": 29,
    "start_time": "2022-03-17T08:09:47.033Z"
   },
   {
    "duration": 55,
    "start_time": "2022-03-17T08:09:47.064Z"
   },
   {
    "duration": 28,
    "start_time": "2022-03-17T08:09:47.121Z"
   },
   {
    "duration": 57,
    "start_time": "2022-03-17T08:09:47.151Z"
   },
   {
    "duration": 16,
    "start_time": "2022-03-17T08:09:47.210Z"
   },
   {
    "duration": 16,
    "start_time": "2022-03-17T08:09:47.228Z"
   },
   {
    "duration": 11,
    "start_time": "2022-03-17T08:09:47.247Z"
   },
   {
    "duration": 30,
    "start_time": "2022-03-17T08:09:47.260Z"
   },
   {
    "duration": 17,
    "start_time": "2022-03-17T08:09:47.292Z"
   },
   {
    "duration": 47,
    "start_time": "2022-03-17T08:09:47.311Z"
   },
   {
    "duration": 21,
    "start_time": "2022-03-17T08:09:47.361Z"
   },
   {
    "duration": 16,
    "start_time": "2022-03-17T08:09:47.384Z"
   },
   {
    "duration": 45,
    "start_time": "2022-03-17T08:09:47.402Z"
   },
   {
    "duration": 7,
    "start_time": "2022-03-17T08:09:47.449Z"
   },
   {
    "duration": 29,
    "start_time": "2022-03-17T08:09:47.458Z"
   },
   {
    "duration": 10,
    "start_time": "2022-03-17T08:09:47.492Z"
   },
   {
    "duration": 79,
    "start_time": "2022-03-17T08:09:47.505Z"
   },
   {
    "duration": 14,
    "start_time": "2022-03-17T08:09:47.587Z"
   },
   {
    "duration": 490,
    "start_time": "2022-03-17T08:19:19.012Z"
   },
   {
    "duration": 233,
    "start_time": "2022-03-17T08:19:19.504Z"
   },
   {
    "duration": 21,
    "start_time": "2022-03-17T08:19:19.739Z"
   },
   {
    "duration": 87,
    "start_time": "2022-03-17T08:19:19.763Z"
   },
   {
    "duration": 14,
    "start_time": "2022-03-17T08:19:19.852Z"
   },
   {
    "duration": 24,
    "start_time": "2022-03-17T08:19:19.868Z"
   },
   {
    "duration": 25,
    "start_time": "2022-03-17T08:19:19.895Z"
   },
   {
    "duration": 22,
    "start_time": "2022-03-17T08:19:19.922Z"
   },
   {
    "duration": 240,
    "start_time": "2022-03-17T08:19:19.947Z"
   },
   {
    "duration": 14,
    "start_time": "2022-03-17T08:19:20.191Z"
   },
   {
    "duration": 8,
    "start_time": "2022-03-17T08:19:20.207Z"
   },
   {
    "duration": 23,
    "start_time": "2022-03-17T08:19:20.218Z"
   },
   {
    "duration": 36,
    "start_time": "2022-03-17T08:19:20.244Z"
   },
   {
    "duration": 38,
    "start_time": "2022-03-17T08:19:20.282Z"
   },
   {
    "duration": 28,
    "start_time": "2022-03-17T08:19:20.323Z"
   },
   {
    "duration": 49,
    "start_time": "2022-03-17T08:19:20.353Z"
   },
   {
    "duration": 16,
    "start_time": "2022-03-17T08:19:20.404Z"
   },
   {
    "duration": 15,
    "start_time": "2022-03-17T08:19:20.422Z"
   },
   {
    "duration": 21,
    "start_time": "2022-03-17T08:19:20.440Z"
   },
   {
    "duration": 28,
    "start_time": "2022-03-17T08:19:20.463Z"
   },
   {
    "duration": 10,
    "start_time": "2022-03-17T08:19:20.493Z"
   },
   {
    "duration": 56,
    "start_time": "2022-03-17T08:19:20.505Z"
   },
   {
    "duration": 9,
    "start_time": "2022-03-17T08:19:20.563Z"
   },
   {
    "duration": 27,
    "start_time": "2022-03-17T08:19:20.574Z"
   },
   {
    "duration": 61,
    "start_time": "2022-03-17T08:19:20.604Z"
   },
   {
    "duration": 9,
    "start_time": "2022-03-17T08:19:20.667Z"
   },
   {
    "duration": 38,
    "start_time": "2022-03-17T08:19:20.679Z"
   },
   {
    "duration": 24,
    "start_time": "2022-03-17T08:19:20.722Z"
   },
   {
    "duration": 60,
    "start_time": "2022-03-17T08:19:20.748Z"
   },
   {
    "duration": 15,
    "start_time": "2022-03-17T08:19:20.810Z"
   },
   {
    "duration": 10,
    "start_time": "2022-03-17T08:19:20.828Z"
   },
   {
    "duration": 25,
    "start_time": "2022-03-17T08:19:20.841Z"
   },
   {
    "duration": 506,
    "start_time": "2022-03-17T08:21:18.490Z"
   },
   {
    "duration": 103,
    "start_time": "2022-03-17T08:21:18.999Z"
   },
   {
    "duration": 21,
    "start_time": "2022-03-17T08:21:19.104Z"
   },
   {
    "duration": 93,
    "start_time": "2022-03-17T08:21:19.128Z"
   },
   {
    "duration": 15,
    "start_time": "2022-03-17T08:21:19.224Z"
   },
   {
    "duration": 7,
    "start_time": "2022-03-17T08:21:19.241Z"
   },
   {
    "duration": 38,
    "start_time": "2022-03-17T08:21:19.250Z"
   },
   {
    "duration": 4,
    "start_time": "2022-03-17T08:21:19.291Z"
   },
   {
    "duration": 258,
    "start_time": "2022-03-17T08:21:19.297Z"
   },
   {
    "duration": 14,
    "start_time": "2022-03-17T08:21:19.559Z"
   },
   {
    "duration": 24,
    "start_time": "2022-03-17T08:21:19.575Z"
   },
   {
    "duration": 9,
    "start_time": "2022-03-17T08:21:19.602Z"
   },
   {
    "duration": 31,
    "start_time": "2022-03-17T08:21:19.614Z"
   },
   {
    "duration": 42,
    "start_time": "2022-03-17T08:21:19.647Z"
   },
   {
    "duration": 28,
    "start_time": "2022-03-17T08:21:19.691Z"
   },
   {
    "duration": 29,
    "start_time": "2022-03-17T08:21:19.721Z"
   },
   {
    "duration": 40,
    "start_time": "2022-03-17T08:21:19.752Z"
   },
   {
    "duration": 16,
    "start_time": "2022-03-17T08:21:19.794Z"
   },
   {
    "duration": 18,
    "start_time": "2022-03-17T08:21:19.812Z"
   },
   {
    "duration": 15,
    "start_time": "2022-03-17T08:21:19.832Z"
   },
   {
    "duration": 8,
    "start_time": "2022-03-17T08:21:19.849Z"
   },
   {
    "duration": 50,
    "start_time": "2022-03-17T08:21:19.859Z"
   },
   {
    "duration": 13,
    "start_time": "2022-03-17T08:21:19.911Z"
   },
   {
    "duration": 9,
    "start_time": "2022-03-17T08:21:19.926Z"
   },
   {
    "duration": 48,
    "start_time": "2022-03-17T08:21:19.938Z"
   },
   {
    "duration": 9,
    "start_time": "2022-03-17T08:21:19.989Z"
   },
   {
    "duration": 21,
    "start_time": "2022-03-17T08:21:20.000Z"
   },
   {
    "duration": 5,
    "start_time": "2022-03-17T08:21:20.027Z"
   },
   {
    "duration": 92,
    "start_time": "2022-03-17T08:21:20.034Z"
   },
   {
    "duration": 15,
    "start_time": "2022-03-17T08:21:20.128Z"
   },
   {
    "duration": 13,
    "start_time": "2022-03-17T08:21:20.145Z"
   },
   {
    "duration": 28,
    "start_time": "2022-03-17T08:21:20.160Z"
   },
   {
    "duration": 497,
    "start_time": "2022-03-17T08:21:49.302Z"
   },
   {
    "duration": 109,
    "start_time": "2022-03-17T08:21:49.802Z"
   },
   {
    "duration": 23,
    "start_time": "2022-03-17T08:21:49.914Z"
   },
   {
    "duration": 94,
    "start_time": "2022-03-17T08:21:49.941Z"
   },
   {
    "duration": 15,
    "start_time": "2022-03-17T08:21:50.037Z"
   },
   {
    "duration": 7,
    "start_time": "2022-03-17T08:21:50.054Z"
   },
   {
    "duration": 28,
    "start_time": "2022-03-17T08:21:50.063Z"
   },
   {
    "duration": 6,
    "start_time": "2022-03-17T08:21:50.094Z"
   },
   {
    "duration": 241,
    "start_time": "2022-03-17T08:21:50.103Z"
   },
   {
    "duration": 13,
    "start_time": "2022-03-17T08:21:50.348Z"
   },
   {
    "duration": 24,
    "start_time": "2022-03-17T08:21:50.364Z"
   },
   {
    "duration": 3,
    "start_time": "2022-03-17T08:21:50.391Z"
   },
   {
    "duration": 31,
    "start_time": "2022-03-17T08:21:50.396Z"
   },
   {
    "duration": 35,
    "start_time": "2022-03-17T08:21:50.428Z"
   },
   {
    "duration": 48,
    "start_time": "2022-03-17T08:21:50.465Z"
   },
   {
    "duration": 30,
    "start_time": "2022-03-17T08:21:50.515Z"
   },
   {
    "duration": 41,
    "start_time": "2022-03-17T08:21:50.547Z"
   },
   {
    "duration": 11,
    "start_time": "2022-03-17T08:21:50.590Z"
   },
   {
    "duration": 5,
    "start_time": "2022-03-17T08:21:50.604Z"
   },
   {
    "duration": 6,
    "start_time": "2022-03-17T08:21:50.612Z"
   },
   {
    "duration": 8,
    "start_time": "2022-03-17T08:21:50.620Z"
   },
   {
    "duration": 60,
    "start_time": "2022-03-17T08:21:50.630Z"
   },
   {
    "duration": 10,
    "start_time": "2022-03-17T08:21:50.692Z"
   },
   {
    "duration": 4,
    "start_time": "2022-03-17T08:21:50.704Z"
   },
   {
    "duration": 32,
    "start_time": "2022-03-17T08:21:50.710Z"
   },
   {
    "duration": 8,
    "start_time": "2022-03-17T08:21:50.744Z"
   },
   {
    "duration": 19,
    "start_time": "2022-03-17T08:21:50.787Z"
   },
   {
    "duration": 4,
    "start_time": "2022-03-17T08:21:50.812Z"
   },
   {
    "duration": 86,
    "start_time": "2022-03-17T08:21:50.819Z"
   },
   {
    "duration": 16,
    "start_time": "2022-03-17T08:21:50.907Z"
   },
   {
    "duration": 14,
    "start_time": "2022-03-17T08:21:50.926Z"
   },
   {
    "duration": 18,
    "start_time": "2022-03-17T08:21:50.942Z"
   },
   {
    "duration": 484,
    "start_time": "2022-03-17T08:22:06.323Z"
   },
   {
    "duration": 104,
    "start_time": "2022-03-17T08:22:06.810Z"
   },
   {
    "duration": 22,
    "start_time": "2022-03-17T08:22:06.917Z"
   },
   {
    "duration": 96,
    "start_time": "2022-03-17T08:22:06.942Z"
   },
   {
    "duration": 17,
    "start_time": "2022-03-17T08:22:07.040Z"
   },
   {
    "duration": 30,
    "start_time": "2022-03-17T08:22:07.059Z"
   },
   {
    "duration": 23,
    "start_time": "2022-03-17T08:22:07.092Z"
   },
   {
    "duration": 18,
    "start_time": "2022-03-17T08:22:07.118Z"
   },
   {
    "duration": 226,
    "start_time": "2022-03-17T08:22:07.139Z"
   },
   {
    "duration": 23,
    "start_time": "2022-03-17T08:22:07.371Z"
   },
   {
    "duration": 6,
    "start_time": "2022-03-17T08:22:07.397Z"
   },
   {
    "duration": 8,
    "start_time": "2022-03-17T08:22:07.405Z"
   },
   {
    "duration": 26,
    "start_time": "2022-03-17T08:22:07.415Z"
   },
   {
    "duration": 65,
    "start_time": "2022-03-17T08:22:07.444Z"
   },
   {
    "duration": 30,
    "start_time": "2022-03-17T08:22:07.512Z"
   },
   {
    "duration": 55,
    "start_time": "2022-03-17T08:22:07.544Z"
   },
   {
    "duration": 15,
    "start_time": "2022-03-17T08:22:07.601Z"
   },
   {
    "duration": 28,
    "start_time": "2022-03-17T08:22:07.618Z"
   },
   {
    "duration": 16,
    "start_time": "2022-03-17T08:22:07.648Z"
   },
   {
    "duration": 33,
    "start_time": "2022-03-17T08:22:07.666Z"
   },
   {
    "duration": 19,
    "start_time": "2022-03-17T08:22:07.702Z"
   },
   {
    "duration": 47,
    "start_time": "2022-03-17T08:22:07.724Z"
   },
   {
    "duration": 29,
    "start_time": "2022-03-17T08:22:07.773Z"
   },
   {
    "duration": 9,
    "start_time": "2022-03-17T08:22:07.805Z"
   },
   {
    "duration": 32,
    "start_time": "2022-03-17T08:22:07.816Z"
   },
   {
    "duration": 19,
    "start_time": "2022-03-17T08:22:07.850Z"
   },
   {
    "duration": 28,
    "start_time": "2022-03-17T08:22:07.872Z"
   },
   {
    "duration": 4,
    "start_time": "2022-03-17T08:22:07.907Z"
   },
   {
    "duration": 61,
    "start_time": "2022-03-17T08:22:07.913Z"
   },
   {
    "duration": 23,
    "start_time": "2022-03-17T08:22:07.976Z"
   },
   {
    "duration": 24,
    "start_time": "2022-03-17T08:22:08.001Z"
   },
   {
    "duration": 4,
    "start_time": "2022-03-17T08:22:08.027Z"
   },
   {
    "duration": 504,
    "start_time": "2022-03-17T08:22:47.820Z"
   },
   {
    "duration": 113,
    "start_time": "2022-03-17T08:22:48.327Z"
   },
   {
    "duration": 22,
    "start_time": "2022-03-17T08:22:48.442Z"
   },
   {
    "duration": 87,
    "start_time": "2022-03-17T08:22:48.467Z"
   },
   {
    "duration": 15,
    "start_time": "2022-03-17T08:22:48.556Z"
   },
   {
    "duration": 7,
    "start_time": "2022-03-17T08:22:48.587Z"
   },
   {
    "duration": 10,
    "start_time": "2022-03-17T08:22:48.596Z"
   },
   {
    "duration": 5,
    "start_time": "2022-03-17T08:22:48.608Z"
   },
   {
    "duration": 241,
    "start_time": "2022-03-17T08:22:48.615Z"
   },
   {
    "duration": 13,
    "start_time": "2022-03-17T08:22:48.860Z"
   },
   {
    "duration": 4,
    "start_time": "2022-03-17T08:22:48.887Z"
   },
   {
    "duration": 6,
    "start_time": "2022-03-17T08:22:48.894Z"
   },
   {
    "duration": 25,
    "start_time": "2022-03-17T08:22:48.902Z"
   },
   {
    "duration": 60,
    "start_time": "2022-03-17T08:22:48.929Z"
   },
   {
    "duration": 29,
    "start_time": "2022-03-17T08:22:48.991Z"
   },
   {
    "duration": 29,
    "start_time": "2022-03-17T08:22:49.023Z"
   },
   {
    "duration": 43,
    "start_time": "2022-03-17T08:22:49.055Z"
   },
   {
    "duration": 11,
    "start_time": "2022-03-17T08:22:49.100Z"
   },
   {
    "duration": 5,
    "start_time": "2022-03-17T08:22:49.113Z"
   },
   {
    "duration": 12,
    "start_time": "2022-03-17T08:22:49.121Z"
   },
   {
    "duration": 8,
    "start_time": "2022-03-17T08:22:49.135Z"
   },
   {
    "duration": 63,
    "start_time": "2022-03-17T08:22:49.145Z"
   },
   {
    "duration": 14,
    "start_time": "2022-03-17T08:22:49.210Z"
   },
   {
    "duration": 5,
    "start_time": "2022-03-17T08:22:49.226Z"
   },
   {
    "duration": 53,
    "start_time": "2022-03-17T08:22:49.234Z"
   },
   {
    "duration": 8,
    "start_time": "2022-03-17T08:22:49.289Z"
   },
   {
    "duration": 20,
    "start_time": "2022-03-17T08:22:49.299Z"
   },
   {
    "duration": 3,
    "start_time": "2022-03-17T08:22:49.324Z"
   },
   {
    "duration": 80,
    "start_time": "2022-03-17T08:22:49.330Z"
   },
   {
    "duration": 15,
    "start_time": "2022-03-17T08:22:49.412Z"
   },
   {
    "duration": 23,
    "start_time": "2022-03-17T08:22:49.429Z"
   },
   {
    "duration": 122,
    "start_time": "2022-03-17T08:22:49.454Z"
   },
   {
    "duration": 0,
    "start_time": "2022-03-17T08:22:49.578Z"
   },
   {
    "duration": 0,
    "start_time": "2022-03-17T08:22:49.580Z"
   },
   {
    "duration": 525,
    "start_time": "2022-03-17T08:23:07.986Z"
   },
   {
    "duration": 109,
    "start_time": "2022-03-17T08:23:08.514Z"
   },
   {
    "duration": 23,
    "start_time": "2022-03-17T08:23:08.625Z"
   },
   {
    "duration": 91,
    "start_time": "2022-03-17T08:23:08.651Z"
   },
   {
    "duration": 15,
    "start_time": "2022-03-17T08:23:08.744Z"
   },
   {
    "duration": 27,
    "start_time": "2022-03-17T08:23:08.761Z"
   },
   {
    "duration": 7,
    "start_time": "2022-03-17T08:23:08.791Z"
   },
   {
    "duration": 4,
    "start_time": "2022-03-17T08:23:08.801Z"
   },
   {
    "duration": 235,
    "start_time": "2022-03-17T08:23:08.807Z"
   },
   {
    "duration": 14,
    "start_time": "2022-03-17T08:23:09.046Z"
   },
   {
    "duration": 6,
    "start_time": "2022-03-17T08:23:09.062Z"
   },
   {
    "duration": 2,
    "start_time": "2022-03-17T08:23:09.087Z"
   },
   {
    "duration": 24,
    "start_time": "2022-03-17T08:23:09.091Z"
   },
   {
    "duration": 37,
    "start_time": "2022-03-17T08:23:09.117Z"
   },
   {
    "duration": 58,
    "start_time": "2022-03-17T08:23:09.156Z"
   },
   {
    "duration": 29,
    "start_time": "2022-03-17T08:23:09.216Z"
   },
   {
    "duration": 41,
    "start_time": "2022-03-17T08:23:09.247Z"
   },
   {
    "duration": 11,
    "start_time": "2022-03-17T08:23:09.290Z"
   },
   {
    "duration": 7,
    "start_time": "2022-03-17T08:23:09.303Z"
   },
   {
    "duration": 10,
    "start_time": "2022-03-17T08:23:09.312Z"
   },
   {
    "duration": 9,
    "start_time": "2022-03-17T08:23:09.325Z"
   },
   {
    "duration": 60,
    "start_time": "2022-03-17T08:23:09.336Z"
   },
   {
    "duration": 10,
    "start_time": "2022-03-17T08:23:09.398Z"
   },
   {
    "duration": 6,
    "start_time": "2022-03-17T08:23:09.410Z"
   },
   {
    "duration": 38,
    "start_time": "2022-03-17T08:23:09.418Z"
   },
   {
    "duration": 33,
    "start_time": "2022-03-17T08:23:09.459Z"
   },
   {
    "duration": 23,
    "start_time": "2022-03-17T08:23:09.495Z"
   },
   {
    "duration": 15,
    "start_time": "2022-03-17T08:23:09.524Z"
   },
   {
    "duration": 75,
    "start_time": "2022-03-17T08:23:09.541Z"
   },
   {
    "duration": 14,
    "start_time": "2022-03-17T08:23:09.619Z"
   },
   {
    "duration": 33,
    "start_time": "2022-03-17T08:23:09.635Z"
   },
   {
    "duration": 64,
    "start_time": "2022-03-17T08:23:09.671Z"
   },
   {
    "duration": 5,
    "start_time": "2022-03-17T08:23:09.737Z"
   },
   {
    "duration": 34,
    "start_time": "2022-03-17T08:23:09.745Z"
   },
   {
    "duration": 39,
    "start_time": "2022-03-17T08:41:17.086Z"
   },
   {
    "duration": 108,
    "start_time": "2022-03-17T08:41:17.838Z"
   },
   {
    "duration": 12,
    "start_time": "2022-03-17T08:41:18.226Z"
   },
   {
    "duration": 6,
    "start_time": "2022-03-17T08:41:37.398Z"
   },
   {
    "duration": 12,
    "start_time": "2022-03-17T08:41:38.291Z"
   },
   {
    "duration": 5,
    "start_time": "2022-03-17T08:50:38.685Z"
   },
   {
    "duration": 14,
    "start_time": "2022-03-17T08:50:39.208Z"
   },
   {
    "duration": 550,
    "start_time": "2022-03-17T08:53:05.920Z"
   },
   {
    "duration": 41,
    "start_time": "2022-03-17T08:53:06.786Z"
   },
   {
    "duration": 5,
    "start_time": "2022-03-17T08:53:10.294Z"
   },
   {
    "duration": 432,
    "start_time": "2022-03-17T08:53:11.191Z"
   },
   {
    "duration": 5,
    "start_time": "2022-03-17T08:53:25.845Z"
   },
   {
    "duration": 29,
    "start_time": "2022-03-17T08:53:26.343Z"
   },
   {
    "duration": 27,
    "start_time": "2022-03-17T08:53:44.267Z"
   },
   {
    "duration": 29,
    "start_time": "2022-03-17T08:53:48.500Z"
   },
   {
    "duration": 46,
    "start_time": "2022-03-17T08:54:16.228Z"
   },
   {
    "duration": 6,
    "start_time": "2022-03-17T08:54:16.859Z"
   },
   {
    "duration": 12,
    "start_time": "2022-03-17T08:54:17.523Z"
   },
   {
    "duration": 44,
    "start_time": "2022-03-17T08:56:09.256Z"
   },
   {
    "duration": 17,
    "start_time": "2022-03-17T08:56:09.760Z"
   },
   {
    "duration": 6,
    "start_time": "2022-03-17T08:56:22.084Z"
   },
   {
    "duration": 13,
    "start_time": "2022-03-17T08:56:23.012Z"
   },
   {
    "duration": 9,
    "start_time": "2022-03-17T09:43:06.235Z"
   },
   {
    "duration": 87,
    "start_time": "2022-03-17T09:43:07.203Z"
   },
   {
    "duration": 28,
    "start_time": "2022-03-17T09:43:07.843Z"
   },
   {
    "duration": 21,
    "start_time": "2022-03-17T09:43:08.455Z"
   },
   {
    "duration": 4,
    "start_time": "2022-03-17T09:47:40.561Z"
   },
   {
    "duration": 70,
    "start_time": "2022-03-17T09:47:41.657Z"
   },
   {
    "duration": 20,
    "start_time": "2022-03-17T09:47:42.401Z"
   },
   {
    "duration": 20,
    "start_time": "2022-03-17T09:47:45.789Z"
   },
   {
    "duration": 74,
    "start_time": "2022-03-17T11:20:22.266Z"
   },
   {
    "duration": 77,
    "start_time": "2022-03-17T11:21:48.958Z"
   },
   {
    "duration": 15,
    "start_time": "2022-03-17T11:22:26.191Z"
   },
   {
    "duration": 73,
    "start_time": "2022-03-17T11:25:05.284Z"
   },
   {
    "duration": 21,
    "start_time": "2022-03-17T11:25:59.956Z"
   },
   {
    "duration": 7,
    "start_time": "2022-03-17T11:27:23.233Z"
   },
   {
    "duration": 7,
    "start_time": "2022-03-17T11:28:30.321Z"
   },
   {
    "duration": 37,
    "start_time": "2022-03-17T11:33:35.394Z"
   },
   {
    "duration": 39,
    "start_time": "2022-03-17T11:33:35.839Z"
   },
   {
    "duration": 6,
    "start_time": "2022-03-17T11:33:36.434Z"
   },
   {
    "duration": 553,
    "start_time": "2022-03-17T11:33:54.949Z"
   },
   {
    "duration": 81,
    "start_time": "2022-03-17T11:33:55.505Z"
   },
   {
    "duration": 32,
    "start_time": "2022-03-17T11:33:55.589Z"
   },
   {
    "duration": 21,
    "start_time": "2022-03-17T11:33:55.623Z"
   },
   {
    "duration": 98,
    "start_time": "2022-03-17T11:33:55.647Z"
   },
   {
    "duration": 30,
    "start_time": "2022-03-17T11:33:55.747Z"
   },
   {
    "duration": 21,
    "start_time": "2022-03-17T11:33:55.779Z"
   },
   {
    "duration": 6,
    "start_time": "2022-03-17T11:33:55.802Z"
   },
   {
    "duration": 10,
    "start_time": "2022-03-17T11:33:55.810Z"
   },
   {
    "duration": 6,
    "start_time": "2022-03-17T11:33:55.822Z"
   },
   {
    "duration": 258,
    "start_time": "2022-03-17T11:33:55.830Z"
   },
   {
    "duration": 15,
    "start_time": "2022-03-17T11:33:56.091Z"
   },
   {
    "duration": 6,
    "start_time": "2022-03-17T11:33:56.109Z"
   },
   {
    "duration": 5,
    "start_time": "2022-03-17T11:33:56.121Z"
   },
   {
    "duration": 59,
    "start_time": "2022-03-17T11:33:56.128Z"
   },
   {
    "duration": 37,
    "start_time": "2022-03-17T11:33:56.190Z"
   },
   {
    "duration": 59,
    "start_time": "2022-03-17T11:33:56.230Z"
   },
   {
    "duration": 28,
    "start_time": "2022-03-17T11:33:56.291Z"
   },
   {
    "duration": 16,
    "start_time": "2022-03-17T11:33:56.321Z"
   },
   {
    "duration": 40,
    "start_time": "2022-03-17T11:33:56.338Z"
   },
   {
    "duration": 6,
    "start_time": "2022-03-17T11:33:56.380Z"
   },
   {
    "duration": 8,
    "start_time": "2022-03-17T11:33:56.388Z"
   },
   {
    "duration": 6,
    "start_time": "2022-03-17T11:33:56.398Z"
   },
   {
    "duration": 32,
    "start_time": "2022-03-17T11:33:56.406Z"
   },
   {
    "duration": 35,
    "start_time": "2022-03-17T11:33:56.440Z"
   },
   {
    "duration": 5,
    "start_time": "2022-03-17T11:33:56.477Z"
   },
   {
    "duration": 40,
    "start_time": "2022-03-17T11:33:56.484Z"
   },
   {
    "duration": 16,
    "start_time": "2022-03-17T11:33:56.526Z"
   },
   {
    "duration": 42,
    "start_time": "2022-03-17T11:33:56.544Z"
   },
   {
    "duration": 4,
    "start_time": "2022-03-17T11:33:56.588Z"
   },
   {
    "duration": 61,
    "start_time": "2022-03-17T11:33:56.594Z"
   },
   {
    "duration": 23,
    "start_time": "2022-03-17T11:33:56.658Z"
   },
   {
    "duration": 25,
    "start_time": "2022-03-17T11:33:56.683Z"
   },
   {
    "duration": 71,
    "start_time": "2022-03-17T11:33:56.710Z"
   },
   {
    "duration": 6,
    "start_time": "2022-03-17T11:33:56.783Z"
   },
   {
    "duration": 15,
    "start_time": "2022-03-17T11:33:56.791Z"
   },
   {
    "duration": 7,
    "start_time": "2022-03-17T11:33:56.808Z"
   },
   {
    "duration": 31,
    "start_time": "2022-03-17T11:33:56.817Z"
   },
   {
    "duration": 62,
    "start_time": "2022-03-17T11:33:56.850Z"
   },
   {
    "duration": 7,
    "start_time": "2022-03-17T11:33:56.914Z"
   },
   {
    "duration": 12,
    "start_time": "2022-03-17T11:33:56.927Z"
   },
   {
    "duration": 41,
    "start_time": "2022-03-17T11:33:56.974Z"
   },
   {
    "duration": 6,
    "start_time": "2022-03-17T11:33:57.017Z"
   },
   {
    "duration": 19,
    "start_time": "2022-03-17T11:33:57.024Z"
   },
   {
    "duration": 489,
    "start_time": "2022-03-17T11:55:34.308Z"
   },
   {
    "duration": 82,
    "start_time": "2022-03-17T11:55:34.800Z"
   },
   {
    "duration": 31,
    "start_time": "2022-03-17T11:55:34.884Z"
   },
   {
    "duration": 23,
    "start_time": "2022-03-17T11:55:34.917Z"
   },
   {
    "duration": 95,
    "start_time": "2022-03-17T11:55:34.943Z"
   },
   {
    "duration": 13,
    "start_time": "2022-03-17T11:55:35.040Z"
   },
   {
    "duration": 39,
    "start_time": "2022-03-17T11:55:35.056Z"
   },
   {
    "duration": 15,
    "start_time": "2022-03-17T11:55:35.097Z"
   },
   {
    "duration": 40,
    "start_time": "2022-03-17T11:55:35.115Z"
   },
   {
    "duration": 27,
    "start_time": "2022-03-17T11:55:35.157Z"
   },
   {
    "duration": 235,
    "start_time": "2022-03-17T11:55:35.186Z"
   },
   {
    "duration": 13,
    "start_time": "2022-03-17T11:55:35.423Z"
   },
   {
    "duration": 20,
    "start_time": "2022-03-17T11:55:35.438Z"
   },
   {
    "duration": 22,
    "start_time": "2022-03-17T11:55:35.463Z"
   },
   {
    "duration": 36,
    "start_time": "2022-03-17T11:55:35.487Z"
   },
   {
    "duration": 42,
    "start_time": "2022-03-17T11:55:35.526Z"
   },
   {
    "duration": 28,
    "start_time": "2022-03-17T11:55:35.570Z"
   },
   {
    "duration": 29,
    "start_time": "2022-03-17T11:55:35.601Z"
   },
   {
    "duration": 10,
    "start_time": "2022-03-17T11:55:35.632Z"
   },
   {
    "duration": 37,
    "start_time": "2022-03-17T11:55:35.644Z"
   },
   {
    "duration": 40,
    "start_time": "2022-03-17T11:55:35.683Z"
   },
   {
    "duration": 26,
    "start_time": "2022-03-17T11:55:35.725Z"
   },
   {
    "duration": 16,
    "start_time": "2022-03-17T11:55:35.754Z"
   },
   {
    "duration": 47,
    "start_time": "2022-03-17T11:55:35.772Z"
   },
   {
    "duration": 30,
    "start_time": "2022-03-17T11:55:35.821Z"
   },
   {
    "duration": 20,
    "start_time": "2022-03-17T11:55:35.853Z"
   },
   {
    "duration": 79,
    "start_time": "2022-03-17T11:55:35.876Z"
   },
   {
    "duration": 31,
    "start_time": "2022-03-17T11:55:35.958Z"
   },
   {
    "duration": 37,
    "start_time": "2022-03-17T11:55:35.991Z"
   },
   {
    "duration": 30,
    "start_time": "2022-03-17T11:55:36.030Z"
   },
   {
    "duration": 66,
    "start_time": "2022-03-17T11:55:36.062Z"
   },
   {
    "duration": 14,
    "start_time": "2022-03-17T11:55:36.131Z"
   },
   {
    "duration": 48,
    "start_time": "2022-03-17T11:55:36.147Z"
   },
   {
    "duration": 48,
    "start_time": "2022-03-17T11:55:36.197Z"
   },
   {
    "duration": 6,
    "start_time": "2022-03-17T11:55:36.248Z"
   },
   {
    "duration": 42,
    "start_time": "2022-03-17T11:55:36.256Z"
   },
   {
    "duration": 34,
    "start_time": "2022-03-17T11:55:36.300Z"
   },
   {
    "duration": 57,
    "start_time": "2022-03-17T11:55:36.336Z"
   },
   {
    "duration": 56,
    "start_time": "2022-03-17T11:55:36.396Z"
   },
   {
    "duration": 6,
    "start_time": "2022-03-17T11:55:36.454Z"
   },
   {
    "duration": 36,
    "start_time": "2022-03-17T11:55:36.477Z"
   },
   {
    "duration": 62,
    "start_time": "2022-03-17T11:55:36.515Z"
   },
   {
    "duration": 7,
    "start_time": "2022-03-17T11:55:36.579Z"
   },
   {
    "duration": 44,
    "start_time": "2022-03-17T11:55:36.589Z"
   },
   {
    "duration": 74,
    "start_time": "2022-03-18T03:14:45.966Z"
   },
   {
    "duration": 509,
    "start_time": "2022-03-18T03:15:08.698Z"
   },
   {
    "duration": 84,
    "start_time": "2022-03-18T03:15:09.209Z"
   },
   {
    "duration": 30,
    "start_time": "2022-03-18T03:15:09.295Z"
   },
   {
    "duration": 21,
    "start_time": "2022-03-18T03:15:09.328Z"
   },
   {
    "duration": 34,
    "start_time": "2022-03-18T03:15:09.351Z"
   },
   {
    "duration": 23,
    "start_time": "2022-03-18T03:15:09.387Z"
   },
   {
    "duration": 6,
    "start_time": "2022-03-18T03:15:09.412Z"
   },
   {
    "duration": 10,
    "start_time": "2022-03-18T03:15:09.420Z"
   },
   {
    "duration": 6,
    "start_time": "2022-03-18T03:15:09.432Z"
   },
   {
    "duration": 511,
    "start_time": "2022-03-18T03:15:09.442Z"
   },
   {
    "duration": 13,
    "start_time": "2022-03-18T03:15:09.956Z"
   },
   {
    "duration": 6,
    "start_time": "2022-03-18T03:15:09.984Z"
   },
   {
    "duration": 8,
    "start_time": "2022-03-18T03:15:09.992Z"
   },
   {
    "duration": 24,
    "start_time": "2022-03-18T03:15:10.002Z"
   },
   {
    "duration": 98,
    "start_time": "2022-03-18T03:15:10.028Z"
   },
   {
    "duration": 39,
    "start_time": "2022-03-18T03:15:10.129Z"
   },
   {
    "duration": 30,
    "start_time": "2022-03-18T03:15:10.184Z"
   },
   {
    "duration": 31,
    "start_time": "2022-03-18T03:15:10.217Z"
   },
   {
    "duration": 38,
    "start_time": "2022-03-18T03:15:10.251Z"
   },
   {
    "duration": 14,
    "start_time": "2022-03-18T03:15:10.291Z"
   },
   {
    "duration": 8,
    "start_time": "2022-03-18T03:15:10.307Z"
   },
   {
    "duration": 20,
    "start_time": "2022-03-18T03:15:10.317Z"
   },
   {
    "duration": 17,
    "start_time": "2022-03-18T03:15:10.339Z"
   },
   {
    "duration": 43,
    "start_time": "2022-03-18T03:15:10.358Z"
   },
   {
    "duration": 11,
    "start_time": "2022-03-18T03:15:10.404Z"
   },
   {
    "duration": 5,
    "start_time": "2022-03-18T03:15:10.417Z"
   },
   {
    "duration": 34,
    "start_time": "2022-03-18T03:15:10.424Z"
   },
   {
    "duration": 8,
    "start_time": "2022-03-18T03:15:10.488Z"
   },
   {
    "duration": 30,
    "start_time": "2022-03-18T03:15:10.498Z"
   },
   {
    "duration": 10,
    "start_time": "2022-03-18T03:15:10.530Z"
   },
   {
    "duration": 70,
    "start_time": "2022-03-18T03:15:10.542Z"
   },
   {
    "duration": 13,
    "start_time": "2022-03-18T03:15:10.614Z"
   },
   {
    "duration": 25,
    "start_time": "2022-03-18T03:15:10.629Z"
   },
   {
    "duration": 71,
    "start_time": "2022-03-18T03:15:10.656Z"
   },
   {
    "duration": 6,
    "start_time": "2022-03-18T03:15:10.729Z"
   },
   {
    "duration": 17,
    "start_time": "2022-03-18T03:15:10.737Z"
   },
   {
    "duration": 28,
    "start_time": "2022-03-18T03:15:10.756Z"
   },
   {
    "duration": 31,
    "start_time": "2022-03-18T03:15:10.786Z"
   },
   {
    "duration": 43,
    "start_time": "2022-03-18T03:15:10.819Z"
   },
   {
    "duration": 22,
    "start_time": "2022-03-18T03:15:10.865Z"
   },
   {
    "duration": 14,
    "start_time": "2022-03-18T03:15:10.890Z"
   },
   {
    "duration": 48,
    "start_time": "2022-03-18T03:15:10.906Z"
   },
   {
    "duration": 31,
    "start_time": "2022-03-18T03:15:10.956Z"
   },
   {
    "duration": 20,
    "start_time": "2022-03-18T03:15:10.989Z"
   },
   {
    "duration": 22,
    "start_time": "2022-03-18T03:50:13.004Z"
   },
   {
    "duration": 21,
    "start_time": "2022-03-18T03:52:07.945Z"
   },
   {
    "duration": 85,
    "start_time": "2022-03-18T03:53:43.781Z"
   },
   {
    "duration": 45,
    "start_time": "2022-03-18T04:12:28.747Z"
   },
   {
    "duration": 29,
    "start_time": "2022-03-18T04:12:43.467Z"
   },
   {
    "duration": 23,
    "start_time": "2022-03-18T04:13:12.636Z"
   },
   {
    "duration": 45,
    "start_time": "2022-03-18T04:13:18.455Z"
   },
   {
    "duration": 104,
    "start_time": "2022-03-18T04:14:28.880Z"
   },
   {
    "duration": 16,
    "start_time": "2022-03-18T04:14:38.499Z"
   },
   {
    "duration": 57,
    "start_time": "2022-03-18T04:14:44.843Z"
   },
   {
    "duration": 13,
    "start_time": "2022-03-18T04:15:55.668Z"
   },
   {
    "duration": 13,
    "start_time": "2022-03-18T04:30:44.205Z"
   },
   {
    "duration": 24,
    "start_time": "2022-03-18T04:31:13.337Z"
   },
   {
    "duration": 20,
    "start_time": "2022-03-18T04:31:32.649Z"
   },
   {
    "duration": 2109,
    "start_time": "2022-03-18T04:34:50.118Z"
   },
   {
    "duration": 613,
    "start_time": "2022-03-18T04:35:02.642Z"
   },
   {
    "duration": 86,
    "start_time": "2022-03-18T04:35:03.258Z"
   },
   {
    "duration": 47,
    "start_time": "2022-03-18T04:35:03.346Z"
   },
   {
    "duration": 25,
    "start_time": "2022-03-18T04:35:03.398Z"
   },
   {
    "duration": 15,
    "start_time": "2022-03-18T04:35:03.426Z"
   },
   {
    "duration": 60,
    "start_time": "2022-03-18T04:35:03.444Z"
   },
   {
    "duration": 14,
    "start_time": "2022-03-18T04:35:03.506Z"
   },
   {
    "duration": 11,
    "start_time": "2022-03-18T04:35:03.522Z"
   },
   {
    "duration": 14,
    "start_time": "2022-03-18T04:35:03.535Z"
   },
   {
    "duration": 551,
    "start_time": "2022-03-18T04:35:03.554Z"
   },
   {
    "duration": 15,
    "start_time": "2022-03-18T04:35:04.107Z"
   },
   {
    "duration": 25,
    "start_time": "2022-03-18T04:35:04.124Z"
   },
   {
    "duration": 8,
    "start_time": "2022-03-18T04:35:04.152Z"
   },
   {
    "duration": 33,
    "start_time": "2022-03-18T04:35:04.162Z"
   },
   {
    "duration": 76,
    "start_time": "2022-03-18T04:35:04.197Z"
   },
   {
    "duration": 5,
    "start_time": "2022-03-18T04:35:04.283Z"
   },
   {
    "duration": 5,
    "start_time": "2022-03-18T04:35:04.290Z"
   },
   {
    "duration": 33,
    "start_time": "2022-03-18T04:35:04.297Z"
   },
   {
    "duration": 109,
    "start_time": "2022-03-18T04:35:04.332Z"
   },
   {
    "duration": 51,
    "start_time": "2022-03-18T04:35:04.443Z"
   },
   {
    "duration": 31,
    "start_time": "2022-03-18T04:35:04.497Z"
   },
   {
    "duration": 55,
    "start_time": "2022-03-18T04:35:04.530Z"
   },
   {
    "duration": 12,
    "start_time": "2022-03-18T04:35:04.587Z"
   },
   {
    "duration": 17,
    "start_time": "2022-03-18T04:35:04.601Z"
   },
   {
    "duration": 9,
    "start_time": "2022-03-18T04:35:04.621Z"
   },
   {
    "duration": 10,
    "start_time": "2022-03-18T04:35:04.632Z"
   },
   {
    "duration": 10,
    "start_time": "2022-03-18T04:35:04.644Z"
   },
   {
    "duration": 29,
    "start_time": "2022-03-18T04:35:04.684Z"
   },
   {
    "duration": 18,
    "start_time": "2022-03-18T04:35:04.715Z"
   },
   {
    "duration": 18,
    "start_time": "2022-03-18T04:35:04.735Z"
   },
   {
    "duration": 53,
    "start_time": "2022-03-18T04:35:04.755Z"
   },
   {
    "duration": 16,
    "start_time": "2022-03-18T04:35:04.811Z"
   },
   {
    "duration": 29,
    "start_time": "2022-03-18T04:35:04.829Z"
   },
   {
    "duration": 11,
    "start_time": "2022-03-18T04:35:04.861Z"
   },
   {
    "duration": 57,
    "start_time": "2022-03-18T04:35:04.875Z"
   },
   {
    "duration": 15,
    "start_time": "2022-03-18T04:35:04.934Z"
   },
   {
    "duration": 50,
    "start_time": "2022-03-18T04:35:04.951Z"
   },
   {
    "duration": 51,
    "start_time": "2022-03-18T04:35:05.003Z"
   },
   {
    "duration": 6,
    "start_time": "2022-03-18T04:35:05.057Z"
   },
   {
    "duration": 12,
    "start_time": "2022-03-18T04:35:05.085Z"
   },
   {
    "duration": 18,
    "start_time": "2022-03-18T04:35:05.100Z"
   },
   {
    "duration": 37,
    "start_time": "2022-03-18T04:35:05.121Z"
   },
   {
    "duration": 62,
    "start_time": "2022-03-18T04:35:05.161Z"
   },
   {
    "duration": 7,
    "start_time": "2022-03-18T04:35:05.225Z"
   },
   {
    "duration": 18,
    "start_time": "2022-03-18T04:35:05.234Z"
   },
   {
    "duration": 71,
    "start_time": "2022-03-18T04:35:05.254Z"
   },
   {
    "duration": 6,
    "start_time": "2022-03-18T04:35:05.328Z"
   },
   {
    "duration": 20,
    "start_time": "2022-03-18T04:35:05.336Z"
   },
   {
    "duration": 18,
    "start_time": "2022-03-18T04:35:26.374Z"
   },
   {
    "duration": 23,
    "start_time": "2022-03-18T04:35:40.502Z"
   },
   {
    "duration": 23,
    "start_time": "2022-03-18T04:36:17.198Z"
   },
   {
    "duration": 565,
    "start_time": "2022-03-18T04:36:51.148Z"
   },
   {
    "duration": 83,
    "start_time": "2022-03-18T04:36:51.716Z"
   },
   {
    "duration": 36,
    "start_time": "2022-03-18T04:36:51.801Z"
   },
   {
    "duration": 47,
    "start_time": "2022-03-18T04:36:51.840Z"
   },
   {
    "duration": 14,
    "start_time": "2022-03-18T04:36:51.890Z"
   },
   {
    "duration": 20,
    "start_time": "2022-03-18T04:36:51.906Z"
   },
   {
    "duration": 7,
    "start_time": "2022-03-18T04:36:51.928Z"
   },
   {
    "duration": 49,
    "start_time": "2022-03-18T04:36:51.937Z"
   },
   {
    "duration": 10,
    "start_time": "2022-03-18T04:36:51.988Z"
   },
   {
    "duration": 496,
    "start_time": "2022-03-18T04:36:52.003Z"
   },
   {
    "duration": 15,
    "start_time": "2022-03-18T04:36:52.502Z"
   },
   {
    "duration": 25,
    "start_time": "2022-03-18T04:36:52.520Z"
   },
   {
    "duration": 9,
    "start_time": "2022-03-18T04:36:52.548Z"
   },
   {
    "duration": 21,
    "start_time": "2022-03-18T04:36:52.584Z"
   },
   {
    "duration": 20,
    "start_time": "2022-03-18T04:36:52.608Z"
   },
   {
    "duration": 90,
    "start_time": "2022-03-18T04:36:52.631Z"
   },
   {
    "duration": 5,
    "start_time": "2022-03-18T04:36:52.724Z"
   },
   {
    "duration": 8,
    "start_time": "2022-03-18T04:36:52.732Z"
   },
   {
    "duration": 42,
    "start_time": "2022-03-18T04:36:52.743Z"
   },
   {
    "duration": 71,
    "start_time": "2022-03-18T04:36:52.787Z"
   },
   {
    "duration": 55,
    "start_time": "2022-03-18T04:36:52.861Z"
   },
   {
    "duration": 31,
    "start_time": "2022-03-18T04:36:52.919Z"
   },
   {
    "duration": 54,
    "start_time": "2022-03-18T04:36:52.952Z"
   },
   {
    "duration": 10,
    "start_time": "2022-03-18T04:36:53.009Z"
   },
   {
    "duration": 14,
    "start_time": "2022-03-18T04:36:53.021Z"
   },
   {
    "duration": 6,
    "start_time": "2022-03-18T04:36:53.038Z"
   },
   {
    "duration": 38,
    "start_time": "2022-03-18T04:36:53.046Z"
   },
   {
    "duration": 5,
    "start_time": "2022-03-18T04:36:53.090Z"
   },
   {
    "duration": 33,
    "start_time": "2022-03-18T04:36:53.097Z"
   },
   {
    "duration": 9,
    "start_time": "2022-03-18T04:36:53.132Z"
   },
   {
    "duration": 40,
    "start_time": "2022-03-18T04:36:53.144Z"
   },
   {
    "duration": 30,
    "start_time": "2022-03-18T04:36:53.186Z"
   },
   {
    "duration": 15,
    "start_time": "2022-03-18T04:36:53.218Z"
   },
   {
    "duration": 50,
    "start_time": "2022-03-18T04:36:53.235Z"
   },
   {
    "duration": 4,
    "start_time": "2022-03-18T04:36:53.287Z"
   },
   {
    "duration": 54,
    "start_time": "2022-03-18T04:36:53.294Z"
   },
   {
    "duration": 14,
    "start_time": "2022-03-18T04:36:53.350Z"
   },
   {
    "duration": 21,
    "start_time": "2022-03-18T04:36:53.385Z"
   },
   {
    "duration": 49,
    "start_time": "2022-03-18T04:36:53.409Z"
   },
   {
    "duration": 6,
    "start_time": "2022-03-18T04:36:53.484Z"
   },
   {
    "duration": 18,
    "start_time": "2022-03-18T04:36:53.491Z"
   },
   {
    "duration": 5,
    "start_time": "2022-03-18T04:36:53.512Z"
   },
   {
    "duration": 30,
    "start_time": "2022-03-18T04:36:53.519Z"
   },
   {
    "duration": 45,
    "start_time": "2022-03-18T04:36:53.583Z"
   },
   {
    "duration": 8,
    "start_time": "2022-03-18T04:36:53.630Z"
   },
   {
    "duration": 16,
    "start_time": "2022-03-18T04:36:53.640Z"
   },
   {
    "duration": 44,
    "start_time": "2022-03-18T04:36:53.684Z"
   },
   {
    "duration": 8,
    "start_time": "2022-03-18T04:36:53.730Z"
   },
   {
    "duration": 42,
    "start_time": "2022-03-18T04:36:53.741Z"
   },
   {
    "duration": 1904,
    "start_time": "2022-03-18T04:38:00.861Z"
   },
   {
    "duration": 0,
    "start_time": "2022-03-18T04:38:02.768Z"
   },
   {
    "duration": 714,
    "start_time": "2022-03-18T04:38:33.342Z"
   },
   {
    "duration": 121,
    "start_time": "2022-03-18T04:38:34.059Z"
   },
   {
    "duration": 43,
    "start_time": "2022-03-18T04:38:34.184Z"
   },
   {
    "duration": 31,
    "start_time": "2022-03-18T04:38:34.230Z"
   },
   {
    "duration": 19,
    "start_time": "2022-03-18T04:38:34.285Z"
   },
   {
    "duration": 26,
    "start_time": "2022-03-18T04:38:34.307Z"
   },
   {
    "duration": 7,
    "start_time": "2022-03-18T04:38:34.335Z"
   },
   {
    "duration": 40,
    "start_time": "2022-03-18T04:38:34.345Z"
   },
   {
    "duration": 6,
    "start_time": "2022-03-18T04:38:34.388Z"
   },
   {
    "duration": 509,
    "start_time": "2022-03-18T04:38:34.397Z"
   },
   {
    "duration": 14,
    "start_time": "2022-03-18T04:38:34.908Z"
   },
   {
    "duration": 23,
    "start_time": "2022-03-18T04:38:34.924Z"
   },
   {
    "duration": 9,
    "start_time": "2022-03-18T04:38:34.949Z"
   },
   {
    "duration": 19,
    "start_time": "2022-03-18T04:38:34.984Z"
   },
   {
    "duration": 14,
    "start_time": "2022-03-18T04:38:35.005Z"
   },
   {
    "duration": 108,
    "start_time": "2022-03-18T04:38:35.021Z"
   },
   {
    "duration": 6,
    "start_time": "2022-03-18T04:38:35.131Z"
   },
   {
    "duration": 6,
    "start_time": "2022-03-18T04:38:35.139Z"
   },
   {
    "duration": 41,
    "start_time": "2022-03-18T04:38:35.147Z"
   },
   {
    "duration": 73,
    "start_time": "2022-03-18T04:38:35.190Z"
   },
   {
    "duration": 53,
    "start_time": "2022-03-18T04:38:35.265Z"
   },
   {
    "duration": 27,
    "start_time": "2022-03-18T04:38:35.321Z"
   },
   {
    "duration": 52,
    "start_time": "2022-03-18T04:38:35.351Z"
   },
   {
    "duration": 10,
    "start_time": "2022-03-18T04:38:35.405Z"
   },
   {
    "duration": 11,
    "start_time": "2022-03-18T04:38:35.417Z"
   },
   {
    "duration": 7,
    "start_time": "2022-03-18T04:38:35.430Z"
   },
   {
    "duration": 14,
    "start_time": "2022-03-18T04:38:35.440Z"
   },
   {
    "duration": 12,
    "start_time": "2022-03-18T04:38:35.484Z"
   },
   {
    "duration": 42,
    "start_time": "2022-03-18T04:38:35.499Z"
   },
   {
    "duration": 12,
    "start_time": "2022-03-18T04:38:35.544Z"
   },
   {
    "duration": 9,
    "start_time": "2022-03-18T04:38:35.558Z"
   },
   {
    "duration": 36,
    "start_time": "2022-03-18T04:38:35.570Z"
   },
   {
    "duration": 6,
    "start_time": "2022-03-18T04:38:35.608Z"
   },
   {
    "duration": 26,
    "start_time": "2022-03-18T04:38:35.616Z"
   },
   {
    "duration": 6,
    "start_time": "2022-03-18T04:38:35.645Z"
   },
   {
    "duration": 77,
    "start_time": "2022-03-18T04:38:35.653Z"
   },
   {
    "duration": 15,
    "start_time": "2022-03-18T04:38:35.732Z"
   },
   {
    "duration": 44,
    "start_time": "2022-03-18T04:38:35.749Z"
   },
   {
    "duration": 47,
    "start_time": "2022-03-18T04:38:35.795Z"
   },
   {
    "duration": 6,
    "start_time": "2022-03-18T04:38:35.845Z"
   },
   {
    "duration": 38,
    "start_time": "2022-03-18T04:38:35.853Z"
   },
   {
    "duration": 20,
    "start_time": "2022-03-18T04:38:35.894Z"
   },
   {
    "duration": 31,
    "start_time": "2022-03-18T04:38:35.916Z"
   },
   {
    "duration": 58,
    "start_time": "2022-03-18T04:38:35.949Z"
   },
   {
    "duration": 6,
    "start_time": "2022-03-18T04:38:36.010Z"
   },
   {
    "duration": 16,
    "start_time": "2022-03-18T04:38:36.018Z"
   },
   {
    "duration": 63,
    "start_time": "2022-03-18T04:38:36.036Z"
   },
   {
    "duration": 6,
    "start_time": "2022-03-18T04:38:36.102Z"
   },
   {
    "duration": 14,
    "start_time": "2022-03-18T04:38:36.110Z"
   },
   {
    "duration": 8,
    "start_time": "2022-03-18T04:40:51.446Z"
   },
   {
    "duration": 17,
    "start_time": "2022-03-18T04:40:53.090Z"
   },
   {
    "duration": 517,
    "start_time": "2022-03-18T04:41:06.194Z"
   },
   {
    "duration": 83,
    "start_time": "2022-03-18T04:41:06.714Z"
   },
   {
    "duration": 30,
    "start_time": "2022-03-18T04:41:06.799Z"
   },
   {
    "duration": 21,
    "start_time": "2022-03-18T04:41:06.833Z"
   },
   {
    "duration": 38,
    "start_time": "2022-03-18T04:41:06.857Z"
   },
   {
    "duration": 26,
    "start_time": "2022-03-18T04:41:06.897Z"
   },
   {
    "duration": 7,
    "start_time": "2022-03-18T04:41:06.925Z"
   },
   {
    "duration": 9,
    "start_time": "2022-03-18T04:41:06.934Z"
   },
   {
    "duration": 5,
    "start_time": "2022-03-18T04:41:06.985Z"
   },
   {
    "duration": 516,
    "start_time": "2022-03-18T04:41:06.993Z"
   },
   {
    "duration": 15,
    "start_time": "2022-03-18T04:41:07.512Z"
   },
   {
    "duration": 20,
    "start_time": "2022-03-18T04:41:07.530Z"
   },
   {
    "duration": 34,
    "start_time": "2022-03-18T04:41:07.552Z"
   },
   {
    "duration": 13,
    "start_time": "2022-03-18T04:41:07.588Z"
   },
   {
    "duration": 17,
    "start_time": "2022-03-18T04:41:07.604Z"
   },
   {
    "duration": 109,
    "start_time": "2022-03-18T04:41:07.623Z"
   },
   {
    "duration": 5,
    "start_time": "2022-03-18T04:41:07.735Z"
   },
   {
    "duration": 6,
    "start_time": "2022-03-18T04:41:07.743Z"
   },
   {
    "duration": 38,
    "start_time": "2022-03-18T04:41:07.752Z"
   },
   {
    "duration": 92,
    "start_time": "2022-03-18T04:41:07.792Z"
   },
   {
    "duration": 41,
    "start_time": "2022-03-18T04:41:07.887Z"
   },
   {
    "duration": 65,
    "start_time": "2022-03-18T04:41:07.930Z"
   },
   {
    "duration": 38,
    "start_time": "2022-03-18T04:41:07.998Z"
   },
   {
    "duration": 14,
    "start_time": "2022-03-18T04:41:08.038Z"
   },
   {
    "duration": 37,
    "start_time": "2022-03-18T04:41:08.054Z"
   },
   {
    "duration": 9,
    "start_time": "2022-03-18T04:41:08.093Z"
   },
   {
    "duration": 9,
    "start_time": "2022-03-18T04:41:08.104Z"
   },
   {
    "duration": 6,
    "start_time": "2022-03-18T04:41:08.120Z"
   },
   {
    "duration": 61,
    "start_time": "2022-03-18T04:41:08.129Z"
   },
   {
    "duration": 11,
    "start_time": "2022-03-18T04:41:08.193Z"
   },
   {
    "duration": 5,
    "start_time": "2022-03-18T04:41:08.206Z"
   },
   {
    "duration": 35,
    "start_time": "2022-03-18T04:41:08.213Z"
   },
   {
    "duration": 41,
    "start_time": "2022-03-18T04:41:08.250Z"
   },
   {
    "duration": 21,
    "start_time": "2022-03-18T04:41:08.294Z"
   },
   {
    "duration": 6,
    "start_time": "2022-03-18T04:41:08.317Z"
   },
   {
    "duration": 86,
    "start_time": "2022-03-18T04:41:08.325Z"
   },
   {
    "duration": 15,
    "start_time": "2022-03-18T04:41:08.413Z"
   },
   {
    "duration": 28,
    "start_time": "2022-03-18T04:41:08.430Z"
   },
   {
    "duration": 71,
    "start_time": "2022-03-18T04:41:08.460Z"
   },
   {
    "duration": 6,
    "start_time": "2022-03-18T04:41:08.533Z"
   },
   {
    "duration": 14,
    "start_time": "2022-03-18T04:41:08.542Z"
   },
   {
    "duration": 5,
    "start_time": "2022-03-18T04:41:08.585Z"
   },
   {
    "duration": 32,
    "start_time": "2022-03-18T04:41:08.593Z"
   },
   {
    "duration": 72,
    "start_time": "2022-03-18T04:41:08.628Z"
   },
   {
    "duration": 6,
    "start_time": "2022-03-18T04:41:08.703Z"
   },
   {
    "duration": 18,
    "start_time": "2022-03-18T04:41:08.711Z"
   },
   {
    "duration": 64,
    "start_time": "2022-03-18T04:41:08.731Z"
   },
   {
    "duration": 7,
    "start_time": "2022-03-18T04:41:08.797Z"
   },
   {
    "duration": 23,
    "start_time": "2022-03-18T04:41:08.806Z"
   },
   {
    "duration": 39,
    "start_time": "2022-03-18T04:45:24.693Z"
   },
   {
    "duration": 56,
    "start_time": "2022-03-18T04:48:23.157Z"
   },
   {
    "duration": 45,
    "start_time": "2022-03-18T04:48:39.913Z"
   },
   {
    "duration": 53,
    "start_time": "2022-03-18T04:48:59.050Z"
   },
   {
    "duration": 37,
    "start_time": "2022-03-18T04:49:19.205Z"
   },
   {
    "duration": 115,
    "start_time": "2022-03-18T04:50:41.842Z"
   },
   {
    "duration": 24,
    "start_time": "2022-03-18T04:51:06.894Z"
   },
   {
    "duration": 7,
    "start_time": "2022-03-18T04:57:10.649Z"
   },
   {
    "duration": 1908,
    "start_time": "2022-03-18T04:58:46.701Z"
   },
   {
    "duration": 6,
    "start_time": "2022-03-18T04:59:01.569Z"
   },
   {
    "duration": 10,
    "start_time": "2022-03-18T04:59:23.745Z"
   },
   {
    "duration": 6,
    "start_time": "2022-03-18T04:59:36.705Z"
   },
   {
    "duration": 8,
    "start_time": "2022-03-18T04:59:41.925Z"
   },
   {
    "duration": 9,
    "start_time": "2022-03-18T05:00:17.777Z"
   },
   {
    "duration": 9,
    "start_time": "2022-03-18T05:00:42.061Z"
   },
   {
    "duration": 12,
    "start_time": "2022-03-18T05:01:17.674Z"
   },
   {
    "duration": 13,
    "start_time": "2022-03-18T05:01:22.882Z"
   },
   {
    "duration": 11,
    "start_time": "2022-03-18T05:01:35.686Z"
   },
   {
    "duration": 8,
    "start_time": "2022-03-18T05:01:43.458Z"
   },
   {
    "duration": 9,
    "start_time": "2022-03-18T05:02:53.178Z"
   },
   {
    "duration": 1933,
    "start_time": "2022-03-18T05:03:28.923Z"
   },
   {
    "duration": 523,
    "start_time": "2022-03-18T05:04:08.810Z"
   },
   {
    "duration": 81,
    "start_time": "2022-03-18T05:04:09.335Z"
   },
   {
    "duration": 31,
    "start_time": "2022-03-18T05:04:09.418Z"
   },
   {
    "duration": 44,
    "start_time": "2022-03-18T05:04:09.453Z"
   },
   {
    "duration": 13,
    "start_time": "2022-03-18T05:04:09.500Z"
   },
   {
    "duration": 23,
    "start_time": "2022-03-18T05:04:09.515Z"
   },
   {
    "duration": 6,
    "start_time": "2022-03-18T05:04:09.540Z"
   },
   {
    "duration": 39,
    "start_time": "2022-03-18T05:04:09.548Z"
   },
   {
    "duration": 6,
    "start_time": "2022-03-18T05:04:09.590Z"
   },
   {
    "duration": 507,
    "start_time": "2022-03-18T05:04:09.600Z"
   },
   {
    "duration": 30,
    "start_time": "2022-03-18T05:04:10.109Z"
   },
   {
    "duration": 10,
    "start_time": "2022-03-18T05:04:10.141Z"
   },
   {
    "duration": 42,
    "start_time": "2022-03-18T05:04:10.153Z"
   },
   {
    "duration": 10,
    "start_time": "2022-03-18T05:04:10.197Z"
   },
   {
    "duration": 13,
    "start_time": "2022-03-18T05:04:10.209Z"
   },
   {
    "duration": 7,
    "start_time": "2022-03-18T05:04:10.224Z"
   },
   {
    "duration": 14,
    "start_time": "2022-03-18T05:04:10.233Z"
   },
   {
    "duration": 36,
    "start_time": "2022-03-18T05:04:10.249Z"
   },
   {
    "duration": 13,
    "start_time": "2022-03-18T05:04:10.288Z"
   },
   {
    "duration": 7,
    "start_time": "2022-03-18T05:04:10.303Z"
   },
   {
    "duration": 4,
    "start_time": "2022-03-18T05:04:10.313Z"
   },
   {
    "duration": 25,
    "start_time": "2022-03-18T05:04:10.320Z"
   },
   {
    "duration": 105,
    "start_time": "2022-03-18T05:04:10.347Z"
   },
   {
    "duration": 57,
    "start_time": "2022-03-18T05:04:10.455Z"
   },
   {
    "duration": 30,
    "start_time": "2022-03-18T05:04:10.514Z"
   },
   {
    "duration": 54,
    "start_time": "2022-03-18T05:04:10.546Z"
   },
   {
    "duration": 11,
    "start_time": "2022-03-18T05:04:10.602Z"
   },
   {
    "duration": 14,
    "start_time": "2022-03-18T05:04:10.618Z"
   },
   {
    "duration": 9,
    "start_time": "2022-03-18T05:04:10.635Z"
   },
   {
    "duration": 9,
    "start_time": "2022-03-18T05:04:10.646Z"
   },
   {
    "duration": 31,
    "start_time": "2022-03-18T05:04:10.657Z"
   },
   {
    "duration": 32,
    "start_time": "2022-03-18T05:04:10.691Z"
   },
   {
    "duration": 8,
    "start_time": "2022-03-18T05:04:10.726Z"
   },
   {
    "duration": 14,
    "start_time": "2022-03-18T05:04:10.736Z"
   },
   {
    "duration": 55,
    "start_time": "2022-03-18T05:04:10.752Z"
   },
   {
    "duration": 10,
    "start_time": "2022-03-18T05:04:10.809Z"
   },
   {
    "duration": 21,
    "start_time": "2022-03-18T05:04:10.821Z"
   },
   {
    "duration": 40,
    "start_time": "2022-03-18T05:04:10.844Z"
   },
   {
    "duration": 50,
    "start_time": "2022-03-18T05:04:10.886Z"
   },
   {
    "duration": 14,
    "start_time": "2022-03-18T05:04:10.938Z"
   },
   {
    "duration": 44,
    "start_time": "2022-03-18T05:04:10.955Z"
   },
   {
    "duration": 52,
    "start_time": "2022-03-18T05:04:11.001Z"
   },
   {
    "duration": 29,
    "start_time": "2022-03-18T05:04:11.056Z"
   },
   {
    "duration": 23,
    "start_time": "2022-03-18T05:04:11.087Z"
   },
   {
    "duration": 8,
    "start_time": "2022-03-18T05:04:11.112Z"
   },
   {
    "duration": 31,
    "start_time": "2022-03-18T05:04:11.122Z"
   },
   {
    "duration": 80,
    "start_time": "2022-03-18T05:04:11.155Z"
   },
   {
    "duration": 5,
    "start_time": "2022-03-18T05:04:11.237Z"
   },
   {
    "duration": 15,
    "start_time": "2022-03-18T05:04:11.245Z"
   },
   {
    "duration": 44,
    "start_time": "2022-03-18T05:04:11.287Z"
   },
   {
    "duration": 7,
    "start_time": "2022-03-18T05:04:11.333Z"
   },
   {
    "duration": 15,
    "start_time": "2022-03-18T05:04:11.343Z"
   },
   {
    "duration": 10,
    "start_time": "2022-03-18T05:05:27.391Z"
   },
   {
    "duration": 1787,
    "start_time": "2022-03-18T05:05:46.128Z"
   },
   {
    "duration": 544,
    "start_time": "2022-03-18T05:05:57.371Z"
   },
   {
    "duration": 83,
    "start_time": "2022-03-18T05:05:57.918Z"
   },
   {
    "duration": 30,
    "start_time": "2022-03-18T05:05:58.003Z"
   },
   {
    "duration": 21,
    "start_time": "2022-03-18T05:05:58.036Z"
   },
   {
    "duration": 13,
    "start_time": "2022-03-18T05:05:58.084Z"
   },
   {
    "duration": 44,
    "start_time": "2022-03-18T05:05:58.099Z"
   },
   {
    "duration": 14,
    "start_time": "2022-03-18T05:05:58.146Z"
   },
   {
    "duration": 10,
    "start_time": "2022-03-18T05:05:58.162Z"
   },
   {
    "duration": 6,
    "start_time": "2022-03-18T05:05:58.183Z"
   },
   {
    "duration": 502,
    "start_time": "2022-03-18T05:05:58.193Z"
   },
   {
    "duration": 33,
    "start_time": "2022-03-18T05:05:58.697Z"
   },
   {
    "duration": 10,
    "start_time": "2022-03-18T05:05:58.733Z"
   },
   {
    "duration": 40,
    "start_time": "2022-03-18T05:05:58.746Z"
   },
   {
    "duration": 9,
    "start_time": "2022-03-18T05:05:58.789Z"
   },
   {
    "duration": 12,
    "start_time": "2022-03-18T05:05:58.801Z"
   },
   {
    "duration": 6,
    "start_time": "2022-03-18T05:05:58.816Z"
   },
   {
    "duration": 11,
    "start_time": "2022-03-18T05:05:58.825Z"
   },
   {
    "duration": 48,
    "start_time": "2022-03-18T05:05:58.838Z"
   },
   {
    "duration": 13,
    "start_time": "2022-03-18T05:05:58.889Z"
   },
   {
    "duration": 11,
    "start_time": "2022-03-18T05:05:58.904Z"
   },
   {
    "duration": 5,
    "start_time": "2022-03-18T05:05:58.918Z"
   },
   {
    "duration": 26,
    "start_time": "2022-03-18T05:05:58.925Z"
   },
   {
    "duration": 97,
    "start_time": "2022-03-18T05:05:58.953Z"
   },
   {
    "duration": 53,
    "start_time": "2022-03-18T05:05:59.052Z"
   },
   {
    "duration": 30,
    "start_time": "2022-03-18T05:05:59.108Z"
   },
   {
    "duration": 52,
    "start_time": "2022-03-18T05:05:59.140Z"
   },
   {
    "duration": 11,
    "start_time": "2022-03-18T05:05:59.194Z"
   },
   {
    "duration": 12,
    "start_time": "2022-03-18T05:05:59.211Z"
   },
   {
    "duration": 8,
    "start_time": "2022-03-18T05:05:59.225Z"
   },
   {
    "duration": 11,
    "start_time": "2022-03-18T05:05:59.235Z"
   },
   {
    "duration": 39,
    "start_time": "2022-03-18T05:05:59.248Z"
   },
   {
    "duration": 36,
    "start_time": "2022-03-18T05:05:59.290Z"
   },
   {
    "duration": 9,
    "start_time": "2022-03-18T05:05:59.329Z"
   },
   {
    "duration": 5,
    "start_time": "2022-03-18T05:05:59.340Z"
   },
   {
    "duration": 76,
    "start_time": "2022-03-18T05:05:59.347Z"
   },
   {
    "duration": 12,
    "start_time": "2022-03-18T05:05:59.425Z"
   },
   {
    "duration": 21,
    "start_time": "2022-03-18T05:05:59.439Z"
   },
   {
    "duration": 26,
    "start_time": "2022-03-18T05:05:59.462Z"
   },
   {
    "duration": 57,
    "start_time": "2022-03-18T05:05:59.490Z"
   },
   {
    "duration": 36,
    "start_time": "2022-03-18T05:05:59.550Z"
   },
   {
    "duration": 30,
    "start_time": "2022-03-18T05:05:59.588Z"
   },
   {
    "duration": 68,
    "start_time": "2022-03-18T05:05:59.621Z"
   },
   {
    "duration": 7,
    "start_time": "2022-03-18T05:05:59.692Z"
   },
   {
    "duration": 18,
    "start_time": "2022-03-18T05:05:59.701Z"
   },
   {
    "duration": 6,
    "start_time": "2022-03-18T05:05:59.722Z"
   },
   {
    "duration": 62,
    "start_time": "2022-03-18T05:05:59.731Z"
   },
   {
    "duration": 46,
    "start_time": "2022-03-18T05:05:59.795Z"
   },
   {
    "duration": 6,
    "start_time": "2022-03-18T05:05:59.843Z"
   },
   {
    "duration": 35,
    "start_time": "2022-03-18T05:05:59.851Z"
   },
   {
    "duration": 59,
    "start_time": "2022-03-18T05:05:59.888Z"
   },
   {
    "duration": 5,
    "start_time": "2022-03-18T05:05:59.949Z"
   },
   {
    "duration": 32,
    "start_time": "2022-03-18T05:05:59.956Z"
   },
   {
    "duration": 8,
    "start_time": "2022-03-18T05:06:35.884Z"
   },
   {
    "duration": 1909,
    "start_time": "2022-03-18T05:06:41.467Z"
   },
   {
    "duration": 3,
    "start_time": "2022-03-18T05:06:51.116Z"
   },
   {
    "duration": 72,
    "start_time": "2022-03-18T05:06:51.543Z"
   },
   {
    "duration": 20,
    "start_time": "2022-03-18T05:06:52.004Z"
   },
   {
    "duration": 21,
    "start_time": "2022-03-18T05:06:52.475Z"
   },
   {
    "duration": 13,
    "start_time": "2022-03-18T05:06:53.783Z"
   },
   {
    "duration": 21,
    "start_time": "2022-03-18T05:06:54.199Z"
   },
   {
    "duration": 7,
    "start_time": "2022-03-18T05:06:54.767Z"
   },
   {
    "duration": 7,
    "start_time": "2022-03-18T05:06:55.179Z"
   },
   {
    "duration": 4,
    "start_time": "2022-03-18T05:06:55.879Z"
   },
   {
    "duration": 575,
    "start_time": "2022-03-18T05:06:56.315Z"
   },
   {
    "duration": 35,
    "start_time": "2022-03-18T05:06:56.893Z"
   },
   {
    "duration": 6,
    "start_time": "2022-03-18T05:06:57.419Z"
   },
   {
    "duration": 14,
    "start_time": "2022-03-18T05:06:58.947Z"
   },
   {
    "duration": 8,
    "start_time": "2022-03-18T05:07:00.463Z"
   },
   {
    "duration": 6,
    "start_time": "2022-03-18T05:07:01.571Z"
   },
   {
    "duration": 5,
    "start_time": "2022-03-18T05:07:03.272Z"
   },
   {
    "duration": 9,
    "start_time": "2022-03-18T05:07:03.379Z"
   },
   {
    "duration": 8,
    "start_time": "2022-03-18T05:07:04.423Z"
   },
   {
    "duration": 11,
    "start_time": "2022-03-18T05:07:05.771Z"
   },
   {
    "duration": 13,
    "start_time": "2022-03-18T05:07:17.896Z"
   },
   {
    "duration": 10,
    "start_time": "2022-03-18T05:08:16.600Z"
   },
   {
    "duration": 7,
    "start_time": "2022-03-18T05:08:23.032Z"
   },
   {
    "duration": 14,
    "start_time": "2022-03-18T05:08:40.871Z"
   },
   {
    "duration": 14,
    "start_time": "2022-03-18T05:10:24.192Z"
   },
   {
    "duration": 4,
    "start_time": "2022-03-18T05:13:38.553Z"
   },
   {
    "duration": 70,
    "start_time": "2022-03-18T05:13:38.977Z"
   },
   {
    "duration": 19,
    "start_time": "2022-03-18T05:13:39.241Z"
   },
   {
    "duration": 25,
    "start_time": "2022-03-18T05:13:40.014Z"
   },
   {
    "duration": 19,
    "start_time": "2022-03-18T05:13:42.085Z"
   },
   {
    "duration": 28,
    "start_time": "2022-03-18T05:13:42.761Z"
   },
   {
    "duration": 9,
    "start_time": "2022-03-18T05:13:43.301Z"
   },
   {
    "duration": 7,
    "start_time": "2022-03-18T05:13:44.097Z"
   },
   {
    "duration": 4,
    "start_time": "2022-03-18T05:13:44.994Z"
   },
   {
    "duration": 472,
    "start_time": "2022-03-18T05:13:47.582Z"
   },
   {
    "duration": 29,
    "start_time": "2022-03-18T05:13:48.309Z"
   },
   {
    "duration": 14,
    "start_time": "2022-03-18T05:17:22.303Z"
   },
   {
    "duration": 34,
    "start_time": "2022-03-18T05:17:37.342Z"
   },
   {
    "duration": 8,
    "start_time": "2022-03-18T05:19:45.775Z"
   },
   {
    "duration": 23,
    "start_time": "2022-03-18T05:20:27.151Z"
   },
   {
    "duration": 33,
    "start_time": "2022-03-18T05:22:08.728Z"
   },
   {
    "duration": 26,
    "start_time": "2022-03-18T05:23:36.635Z"
   },
   {
    "duration": 34,
    "start_time": "2022-03-18T05:23:43.067Z"
   },
   {
    "duration": 2634,
    "start_time": "2022-03-18T05:24:56.291Z"
   },
   {
    "duration": 1862,
    "start_time": "2022-03-18T05:26:08.061Z"
   },
   {
    "duration": 351,
    "start_time": "2022-03-18T09:12:42.082Z"
   },
   {
    "duration": 83,
    "start_time": "2022-03-18T09:12:42.581Z"
   },
   {
    "duration": 19,
    "start_time": "2022-03-18T09:12:43.121Z"
   },
   {
    "duration": 15,
    "start_time": "2022-03-18T09:12:44.046Z"
   },
   {
    "duration": 9,
    "start_time": "2022-03-18T09:12:47.466Z"
   },
   {
    "duration": 13,
    "start_time": "2022-03-18T09:12:48.130Z"
   },
   {
    "duration": 5,
    "start_time": "2022-03-18T09:12:48.997Z"
   },
   {
    "duration": 4,
    "start_time": "2022-03-18T09:12:50.342Z"
   },
   {
    "duration": 2,
    "start_time": "2022-03-18T09:12:51.078Z"
   },
   {
    "duration": 307,
    "start_time": "2022-03-18T09:12:51.742Z"
   },
   {
    "duration": 18,
    "start_time": "2022-03-18T09:12:52.509Z"
   },
   {
    "duration": 34,
    "start_time": "2022-03-18T09:13:00.202Z"
   },
   {
    "duration": 9,
    "start_time": "2022-03-18T09:13:11.498Z"
   },
   {
    "duration": 20,
    "start_time": "2022-03-18T09:13:41.663Z"
   },
   {
    "duration": 37,
    "start_time": "2022-03-18T09:19:26.356Z"
   },
   {
    "duration": 31,
    "start_time": "2022-03-18T09:20:02.864Z"
   },
   {
    "duration": 20,
    "start_time": "2022-03-18T09:20:26.364Z"
   },
   {
    "duration": 20,
    "start_time": "2022-03-18T09:20:49.176Z"
   },
   {
    "duration": 2011,
    "start_time": "2022-03-18T09:22:48.001Z"
   },
   {
    "duration": 3344,
    "start_time": "2022-03-18T09:25:07.158Z"
   },
   {
    "duration": 10,
    "start_time": "2022-03-18T09:25:16.390Z"
   },
   {
    "duration": 380,
    "start_time": "2022-03-18T09:25:41.766Z"
   },
   {
    "duration": 54,
    "start_time": "2022-03-18T09:25:42.148Z"
   },
   {
    "duration": 17,
    "start_time": "2022-03-18T09:25:42.204Z"
   },
   {
    "duration": 14,
    "start_time": "2022-03-18T09:25:42.232Z"
   },
   {
    "duration": 9,
    "start_time": "2022-03-18T09:25:42.247Z"
   },
   {
    "duration": 11,
    "start_time": "2022-03-18T09:25:42.258Z"
   },
   {
    "duration": 4,
    "start_time": "2022-03-18T09:25:42.271Z"
   },
   {
    "duration": 8,
    "start_time": "2022-03-18T09:25:42.276Z"
   },
   {
    "duration": 6,
    "start_time": "2022-03-18T09:25:42.285Z"
   },
   {
    "duration": 329,
    "start_time": "2022-03-18T09:25:42.293Z"
   },
   {
    "duration": 21,
    "start_time": "2022-03-18T09:25:42.623Z"
   },
   {
    "duration": 3457,
    "start_time": "2022-03-18T09:25:42.646Z"
   },
   {
    "duration": 9,
    "start_time": "2022-03-18T09:25:46.105Z"
   },
   {
    "duration": 17,
    "start_time": "2022-03-18T09:25:46.116Z"
   },
   {
    "duration": 3,
    "start_time": "2022-03-18T09:25:46.135Z"
   },
   {
    "duration": 7,
    "start_time": "2022-03-18T09:25:46.140Z"
   },
   {
    "duration": 7,
    "start_time": "2022-03-18T09:25:46.148Z"
   },
   {
    "duration": 5,
    "start_time": "2022-03-18T09:25:46.156Z"
   },
   {
    "duration": 8,
    "start_time": "2022-03-18T09:25:46.162Z"
   },
   {
    "duration": 8,
    "start_time": "2022-03-18T09:25:46.172Z"
   },
   {
    "duration": 3,
    "start_time": "2022-03-18T09:25:46.181Z"
   },
   {
    "duration": 4,
    "start_time": "2022-03-18T09:25:46.185Z"
   },
   {
    "duration": 46,
    "start_time": "2022-03-18T09:25:46.190Z"
   },
   {
    "duration": 47,
    "start_time": "2022-03-18T09:25:46.238Z"
   },
   {
    "duration": 24,
    "start_time": "2022-03-18T09:25:46.286Z"
   },
   {
    "duration": 39,
    "start_time": "2022-03-18T09:25:46.311Z"
   },
   {
    "duration": 18,
    "start_time": "2022-03-18T09:25:46.352Z"
   },
   {
    "duration": 7,
    "start_time": "2022-03-18T09:25:46.373Z"
   },
   {
    "duration": 8,
    "start_time": "2022-03-18T09:25:46.381Z"
   },
   {
    "duration": 4,
    "start_time": "2022-03-18T09:25:46.390Z"
   },
   {
    "duration": 11,
    "start_time": "2022-03-18T09:25:46.395Z"
   },
   {
    "duration": 25,
    "start_time": "2022-03-18T09:25:46.408Z"
   },
   {
    "duration": 22,
    "start_time": "2022-03-18T09:25:46.434Z"
   },
   {
    "duration": 7,
    "start_time": "2022-03-18T09:25:46.458Z"
   },
   {
    "duration": 4,
    "start_time": "2022-03-18T09:25:46.467Z"
   },
   {
    "duration": 23,
    "start_time": "2022-03-18T09:25:46.472Z"
   },
   {
    "duration": 7,
    "start_time": "2022-03-18T09:25:46.496Z"
   },
   {
    "duration": 35,
    "start_time": "2022-03-18T09:25:46.504Z"
   },
   {
    "duration": 5,
    "start_time": "2022-03-18T09:25:46.541Z"
   },
   {
    "duration": 41,
    "start_time": "2022-03-18T09:25:46.547Z"
   },
   {
    "duration": 12,
    "start_time": "2022-03-18T09:25:46.590Z"
   },
   {
    "duration": 38,
    "start_time": "2022-03-18T09:25:46.604Z"
   },
   {
    "duration": 33,
    "start_time": "2022-03-18T09:25:46.644Z"
   },
   {
    "duration": 5,
    "start_time": "2022-03-18T09:25:46.679Z"
   },
   {
    "duration": 13,
    "start_time": "2022-03-18T09:25:46.686Z"
   },
   {
    "duration": 7,
    "start_time": "2022-03-18T09:25:46.700Z"
   },
   {
    "duration": 37,
    "start_time": "2022-03-18T09:25:46.708Z"
   },
   {
    "duration": 26,
    "start_time": "2022-03-18T09:25:46.746Z"
   },
   {
    "duration": 3,
    "start_time": "2022-03-18T09:25:46.775Z"
   },
   {
    "duration": 11,
    "start_time": "2022-03-18T09:25:46.780Z"
   },
   {
    "duration": 44,
    "start_time": "2022-03-18T09:25:46.792Z"
   },
   {
    "duration": 4,
    "start_time": "2022-03-18T09:25:46.837Z"
   },
   {
    "duration": 13,
    "start_time": "2022-03-18T09:25:46.843Z"
   },
   {
    "duration": 77,
    "start_time": "2022-03-18T09:26:13.878Z"
   },
   {
    "duration": 365,
    "start_time": "2022-03-18T09:26:23.684Z"
   },
   {
    "duration": 56,
    "start_time": "2022-03-18T09:26:24.050Z"
   },
   {
    "duration": 25,
    "start_time": "2022-03-18T09:26:24.107Z"
   },
   {
    "duration": 15,
    "start_time": "2022-03-18T09:26:24.134Z"
   },
   {
    "duration": 10,
    "start_time": "2022-03-18T09:26:24.151Z"
   },
   {
    "duration": 11,
    "start_time": "2022-03-18T09:26:24.163Z"
   },
   {
    "duration": 13,
    "start_time": "2022-03-18T09:26:24.176Z"
   },
   {
    "duration": 5,
    "start_time": "2022-03-18T09:26:24.190Z"
   },
   {
    "duration": 4,
    "start_time": "2022-03-18T09:26:24.196Z"
   },
   {
    "duration": 332,
    "start_time": "2022-03-18T09:26:24.201Z"
   },
   {
    "duration": 19,
    "start_time": "2022-03-18T09:26:24.534Z"
   },
   {
    "duration": 3375,
    "start_time": "2022-03-18T09:26:24.554Z"
   },
   {
    "duration": 11,
    "start_time": "2022-03-18T09:26:27.930Z"
   },
   {
    "duration": 5,
    "start_time": "2022-03-18T09:26:27.943Z"
   },
   {
    "duration": 6,
    "start_time": "2022-03-18T09:26:27.949Z"
   },
   {
    "duration": 4,
    "start_time": "2022-03-18T09:26:27.956Z"
   },
   {
    "duration": 6,
    "start_time": "2022-03-18T09:26:27.962Z"
   },
   {
    "duration": 6,
    "start_time": "2022-03-18T09:26:27.970Z"
   },
   {
    "duration": 7,
    "start_time": "2022-03-18T09:26:27.978Z"
   },
   {
    "duration": 47,
    "start_time": "2022-03-18T09:26:27.986Z"
   },
   {
    "duration": 4,
    "start_time": "2022-03-18T09:26:28.034Z"
   },
   {
    "duration": 6,
    "start_time": "2022-03-18T09:26:28.039Z"
   },
   {
    "duration": 16,
    "start_time": "2022-03-18T09:26:28.047Z"
   },
   {
    "duration": 50,
    "start_time": "2022-03-18T09:26:28.064Z"
   },
   {
    "duration": 39,
    "start_time": "2022-03-18T09:26:28.116Z"
   },
   {
    "duration": 20,
    "start_time": "2022-03-18T09:26:28.156Z"
   },
   {
    "duration": 18,
    "start_time": "2022-03-18T09:26:28.177Z"
   },
   {
    "duration": 6,
    "start_time": "2022-03-18T09:26:28.197Z"
   },
   {
    "duration": 8,
    "start_time": "2022-03-18T09:26:28.232Z"
   },
   {
    "duration": 4,
    "start_time": "2022-03-18T09:26:28.241Z"
   },
   {
    "duration": 7,
    "start_time": "2022-03-18T09:26:28.246Z"
   },
   {
    "duration": 4,
    "start_time": "2022-03-18T09:26:28.254Z"
   },
   {
    "duration": 18,
    "start_time": "2022-03-18T09:26:28.259Z"
   },
   {
    "duration": 5,
    "start_time": "2022-03-18T09:26:28.278Z"
   },
   {
    "duration": 3,
    "start_time": "2022-03-18T09:26:28.285Z"
   },
   {
    "duration": 49,
    "start_time": "2022-03-18T09:26:28.289Z"
   },
   {
    "duration": 6,
    "start_time": "2022-03-18T09:26:28.339Z"
   },
   {
    "duration": 16,
    "start_time": "2022-03-18T09:26:28.346Z"
   },
   {
    "duration": 4,
    "start_time": "2022-03-18T09:26:28.364Z"
   },
   {
    "duration": 29,
    "start_time": "2022-03-18T09:26:28.369Z"
   },
   {
    "duration": 34,
    "start_time": "2022-03-18T09:26:28.402Z"
   },
   {
    "duration": 18,
    "start_time": "2022-03-18T09:26:28.438Z"
   },
   {
    "duration": 31,
    "start_time": "2022-03-18T09:26:28.457Z"
   },
   {
    "duration": 5,
    "start_time": "2022-03-18T09:26:28.490Z"
   },
   {
    "duration": 13,
    "start_time": "2022-03-18T09:26:28.496Z"
   },
   {
    "duration": 23,
    "start_time": "2022-03-18T09:26:28.510Z"
   },
   {
    "duration": 20,
    "start_time": "2022-03-18T09:26:28.535Z"
   },
   {
    "duration": 25,
    "start_time": "2022-03-18T09:26:28.556Z"
   },
   {
    "duration": 4,
    "start_time": "2022-03-18T09:26:28.582Z"
   },
   {
    "duration": 10,
    "start_time": "2022-03-18T09:26:28.587Z"
   },
   {
    "duration": 51,
    "start_time": "2022-03-18T09:26:28.599Z"
   },
   {
    "duration": 4,
    "start_time": "2022-03-18T09:26:28.652Z"
   },
   {
    "duration": 11,
    "start_time": "2022-03-18T09:26:28.658Z"
   },
   {
    "duration": 78,
    "start_time": "2022-03-18T09:26:45.516Z"
   },
   {
    "duration": 2,
    "start_time": "2022-03-18T09:26:51.384Z"
   },
   {
    "duration": 54,
    "start_time": "2022-03-18T09:26:51.744Z"
   },
   {
    "duration": 11,
    "start_time": "2022-03-18T09:26:52.204Z"
   },
   {
    "duration": 14,
    "start_time": "2022-03-18T09:26:52.904Z"
   },
   {
    "duration": 10,
    "start_time": "2022-03-18T09:26:55.096Z"
   },
   {
    "duration": 12,
    "start_time": "2022-03-18T09:26:55.844Z"
   },
   {
    "duration": 4,
    "start_time": "2022-03-18T09:26:56.712Z"
   },
   {
    "duration": 5,
    "start_time": "2022-03-18T09:26:57.452Z"
   },
   {
    "duration": 3,
    "start_time": "2022-03-18T09:26:58.188Z"
   },
   {
    "duration": 300,
    "start_time": "2022-03-18T09:26:58.591Z"
   },
   {
    "duration": 19,
    "start_time": "2022-03-18T09:26:59.124Z"
   },
   {
    "duration": 366,
    "start_time": "2022-03-18T09:27:11.386Z"
   },
   {
    "duration": 54,
    "start_time": "2022-03-18T09:27:11.755Z"
   },
   {
    "duration": 29,
    "start_time": "2022-03-18T09:27:11.810Z"
   },
   {
    "duration": 16,
    "start_time": "2022-03-18T09:27:11.841Z"
   },
   {
    "duration": 10,
    "start_time": "2022-03-18T09:27:11.858Z"
   },
   {
    "duration": 12,
    "start_time": "2022-03-18T09:27:11.869Z"
   },
   {
    "duration": 4,
    "start_time": "2022-03-18T09:27:11.882Z"
   },
   {
    "duration": 7,
    "start_time": "2022-03-18T09:27:11.888Z"
   },
   {
    "duration": 7,
    "start_time": "2022-03-18T09:27:11.897Z"
   },
   {
    "duration": 309,
    "start_time": "2022-03-18T09:27:11.934Z"
   },
   {
    "duration": 17,
    "start_time": "2022-03-18T09:27:12.244Z"
   },
   {
    "duration": 3360,
    "start_time": "2022-03-18T09:27:12.263Z"
   },
   {
    "duration": 14,
    "start_time": "2022-03-18T09:27:15.625Z"
   },
   {
    "duration": 9,
    "start_time": "2022-03-18T09:27:15.640Z"
   },
   {
    "duration": 6,
    "start_time": "2022-03-18T09:27:15.650Z"
   },
   {
    "duration": 10,
    "start_time": "2022-03-18T09:27:15.657Z"
   },
   {
    "duration": 9,
    "start_time": "2022-03-18T09:27:15.668Z"
   },
   {
    "duration": 8,
    "start_time": "2022-03-18T09:27:15.678Z"
   },
   {
    "duration": 10,
    "start_time": "2022-03-18T09:27:15.687Z"
   },
   {
    "duration": 16,
    "start_time": "2022-03-18T09:27:15.698Z"
   },
   {
    "duration": 5,
    "start_time": "2022-03-18T09:27:15.715Z"
   },
   {
    "duration": 2,
    "start_time": "2022-03-18T09:27:15.733Z"
   },
   {
    "duration": 20,
    "start_time": "2022-03-18T09:27:15.736Z"
   },
   {
    "duration": 50,
    "start_time": "2022-03-18T09:27:15.758Z"
   },
   {
    "duration": 40,
    "start_time": "2022-03-18T09:27:15.809Z"
   },
   {
    "duration": 19,
    "start_time": "2022-03-18T09:27:15.851Z"
   },
   {
    "duration": 19,
    "start_time": "2022-03-18T09:27:15.871Z"
   },
   {
    "duration": 8,
    "start_time": "2022-03-18T09:27:15.893Z"
   },
   {
    "duration": 31,
    "start_time": "2022-03-18T09:27:15.902Z"
   },
   {
    "duration": 9,
    "start_time": "2022-03-18T09:27:15.935Z"
   },
   {
    "duration": 9,
    "start_time": "2022-03-18T09:27:15.946Z"
   },
   {
    "duration": 10,
    "start_time": "2022-03-18T09:27:15.956Z"
   },
   {
    "duration": 30,
    "start_time": "2022-03-18T09:27:15.968Z"
   },
   {
    "duration": 6,
    "start_time": "2022-03-18T09:27:15.999Z"
   },
   {
    "duration": 7,
    "start_time": "2022-03-18T09:27:16.006Z"
   },
   {
    "duration": 23,
    "start_time": "2022-03-18T09:27:16.014Z"
   },
   {
    "duration": 6,
    "start_time": "2022-03-18T09:27:16.038Z"
   },
   {
    "duration": 12,
    "start_time": "2022-03-18T09:27:16.046Z"
   },
   {
    "duration": 2,
    "start_time": "2022-03-18T09:27:16.060Z"
   },
   {
    "duration": 31,
    "start_time": "2022-03-18T09:27:16.064Z"
   },
   {
    "duration": 9,
    "start_time": "2022-03-18T09:27:16.098Z"
   },
   {
    "duration": 17,
    "start_time": "2022-03-18T09:27:16.133Z"
   },
   {
    "duration": 30,
    "start_time": "2022-03-18T09:27:16.151Z"
   },
   {
    "duration": 4,
    "start_time": "2022-03-18T09:27:16.182Z"
   },
   {
    "duration": 15,
    "start_time": "2022-03-18T09:27:16.188Z"
   },
   {
    "duration": 7,
    "start_time": "2022-03-18T09:27:16.205Z"
   },
   {
    "duration": 36,
    "start_time": "2022-03-18T09:27:16.213Z"
   },
   {
    "duration": 36,
    "start_time": "2022-03-18T09:27:16.250Z"
   },
   {
    "duration": 4,
    "start_time": "2022-03-18T09:27:16.287Z"
   },
   {
    "duration": 16,
    "start_time": "2022-03-18T09:27:16.292Z"
   },
   {
    "duration": 39,
    "start_time": "2022-03-18T09:27:16.309Z"
   },
   {
    "duration": 4,
    "start_time": "2022-03-18T09:27:16.350Z"
   },
   {
    "duration": 21,
    "start_time": "2022-03-18T09:27:16.355Z"
   },
   {
    "duration": 422,
    "start_time": "2022-03-18T09:28:33.210Z"
   },
   {
    "duration": 57,
    "start_time": "2022-03-18T09:28:33.635Z"
   },
   {
    "duration": 25,
    "start_time": "2022-03-18T09:28:33.694Z"
   },
   {
    "duration": 26,
    "start_time": "2022-03-18T09:28:33.721Z"
   },
   {
    "duration": 13,
    "start_time": "2022-03-18T09:28:33.750Z"
   },
   {
    "duration": 15,
    "start_time": "2022-03-18T09:28:33.765Z"
   },
   {
    "duration": 6,
    "start_time": "2022-03-18T09:28:33.782Z"
   },
   {
    "duration": 16,
    "start_time": "2022-03-18T09:28:33.789Z"
   },
   {
    "duration": 14,
    "start_time": "2022-03-18T09:28:33.806Z"
   },
   {
    "duration": 320,
    "start_time": "2022-03-18T09:28:33.823Z"
   },
   {
    "duration": 18,
    "start_time": "2022-03-18T09:28:34.144Z"
   },
   {
    "duration": 73,
    "start_time": "2022-03-18T09:28:34.163Z"
   },
   {
    "duration": 0,
    "start_time": "2022-03-18T09:28:34.237Z"
   },
   {
    "duration": 0,
    "start_time": "2022-03-18T09:28:34.239Z"
   },
   {
    "duration": 0,
    "start_time": "2022-03-18T09:28:34.240Z"
   },
   {
    "duration": 0,
    "start_time": "2022-03-18T09:28:34.241Z"
   },
   {
    "duration": 0,
    "start_time": "2022-03-18T09:28:34.242Z"
   },
   {
    "duration": 0,
    "start_time": "2022-03-18T09:28:34.243Z"
   },
   {
    "duration": 0,
    "start_time": "2022-03-18T09:28:34.244Z"
   },
   {
    "duration": 0,
    "start_time": "2022-03-18T09:28:34.245Z"
   },
   {
    "duration": 0,
    "start_time": "2022-03-18T09:28:34.246Z"
   },
   {
    "duration": 0,
    "start_time": "2022-03-18T09:28:34.247Z"
   },
   {
    "duration": 0,
    "start_time": "2022-03-18T09:28:34.248Z"
   },
   {
    "duration": 0,
    "start_time": "2022-03-18T09:28:34.249Z"
   },
   {
    "duration": 0,
    "start_time": "2022-03-18T09:28:34.251Z"
   },
   {
    "duration": 0,
    "start_time": "2022-03-18T09:28:34.252Z"
   },
   {
    "duration": 0,
    "start_time": "2022-03-18T09:28:34.253Z"
   },
   {
    "duration": 0,
    "start_time": "2022-03-18T09:28:34.255Z"
   },
   {
    "duration": 0,
    "start_time": "2022-03-18T09:28:34.256Z"
   },
   {
    "duration": 0,
    "start_time": "2022-03-18T09:28:34.257Z"
   },
   {
    "duration": 0,
    "start_time": "2022-03-18T09:28:34.258Z"
   },
   {
    "duration": 0,
    "start_time": "2022-03-18T09:28:34.259Z"
   },
   {
    "duration": 0,
    "start_time": "2022-03-18T09:28:34.260Z"
   },
   {
    "duration": 0,
    "start_time": "2022-03-18T09:28:34.261Z"
   },
   {
    "duration": 0,
    "start_time": "2022-03-18T09:28:34.262Z"
   },
   {
    "duration": 0,
    "start_time": "2022-03-18T09:28:34.263Z"
   },
   {
    "duration": 0,
    "start_time": "2022-03-18T09:28:34.263Z"
   },
   {
    "duration": 0,
    "start_time": "2022-03-18T09:28:34.264Z"
   },
   {
    "duration": 0,
    "start_time": "2022-03-18T09:28:34.266Z"
   },
   {
    "duration": 0,
    "start_time": "2022-03-18T09:28:34.267Z"
   },
   {
    "duration": 0,
    "start_time": "2022-03-18T09:28:34.268Z"
   },
   {
    "duration": 0,
    "start_time": "2022-03-18T09:28:34.269Z"
   },
   {
    "duration": 0,
    "start_time": "2022-03-18T09:28:34.270Z"
   },
   {
    "duration": 0,
    "start_time": "2022-03-18T09:28:34.271Z"
   },
   {
    "duration": 0,
    "start_time": "2022-03-18T09:28:34.272Z"
   },
   {
    "duration": 0,
    "start_time": "2022-03-18T09:28:34.273Z"
   },
   {
    "duration": 0,
    "start_time": "2022-03-18T09:28:34.332Z"
   },
   {
    "duration": 0,
    "start_time": "2022-03-18T09:28:34.334Z"
   },
   {
    "duration": 0,
    "start_time": "2022-03-18T09:28:34.335Z"
   },
   {
    "duration": 0,
    "start_time": "2022-03-18T09:28:34.336Z"
   },
   {
    "duration": 0,
    "start_time": "2022-03-18T09:28:34.337Z"
   },
   {
    "duration": 0,
    "start_time": "2022-03-18T09:28:34.338Z"
   },
   {
    "duration": 0,
    "start_time": "2022-03-18T09:28:34.339Z"
   },
   {
    "duration": 365,
    "start_time": "2022-03-18T09:29:07.079Z"
   },
   {
    "duration": 57,
    "start_time": "2022-03-18T09:29:07.446Z"
   },
   {
    "duration": 18,
    "start_time": "2022-03-18T09:29:07.505Z"
   },
   {
    "duration": 17,
    "start_time": "2022-03-18T09:29:07.534Z"
   },
   {
    "duration": 10,
    "start_time": "2022-03-18T09:29:07.553Z"
   },
   {
    "duration": 14,
    "start_time": "2022-03-18T09:29:07.564Z"
   },
   {
    "duration": 5,
    "start_time": "2022-03-18T09:29:07.579Z"
   },
   {
    "duration": 11,
    "start_time": "2022-03-18T09:29:07.585Z"
   },
   {
    "duration": 4,
    "start_time": "2022-03-18T09:29:07.597Z"
   },
   {
    "duration": 302,
    "start_time": "2022-03-18T09:29:07.632Z"
   },
   {
    "duration": 17,
    "start_time": "2022-03-18T09:29:07.936Z"
   },
   {
    "duration": 3448,
    "start_time": "2022-03-18T09:29:07.955Z"
   },
   {
    "duration": 10,
    "start_time": "2022-03-18T09:29:11.405Z"
   },
   {
    "duration": 19,
    "start_time": "2022-03-18T09:29:11.417Z"
   },
   {
    "duration": 7,
    "start_time": "2022-03-18T09:29:11.438Z"
   },
   {
    "duration": 21,
    "start_time": "2022-03-18T09:29:11.447Z"
   },
   {
    "duration": 12,
    "start_time": "2022-03-18T09:29:11.470Z"
   },
   {
    "duration": 8,
    "start_time": "2022-03-18T09:29:11.483Z"
   },
   {
    "duration": 15,
    "start_time": "2022-03-18T09:29:11.493Z"
   },
   {
    "duration": 12,
    "start_time": "2022-03-18T09:29:11.510Z"
   },
   {
    "duration": 4,
    "start_time": "2022-03-18T09:29:11.523Z"
   },
   {
    "duration": 11,
    "start_time": "2022-03-18T09:29:11.528Z"
   },
   {
    "duration": 18,
    "start_time": "2022-03-18T09:29:11.541Z"
   },
   {
    "duration": 47,
    "start_time": "2022-03-18T09:29:11.561Z"
   },
   {
    "duration": 35,
    "start_time": "2022-03-18T09:29:11.610Z"
   },
   {
    "duration": 22,
    "start_time": "2022-03-18T09:29:11.646Z"
   },
   {
    "duration": 18,
    "start_time": "2022-03-18T09:29:11.670Z"
   },
   {
    "duration": 8,
    "start_time": "2022-03-18T09:29:11.691Z"
   },
   {
    "duration": 7,
    "start_time": "2022-03-18T09:29:11.700Z"
   },
   {
    "duration": 5,
    "start_time": "2022-03-18T09:29:11.732Z"
   },
   {
    "duration": 7,
    "start_time": "2022-03-18T09:29:11.738Z"
   },
   {
    "duration": 5,
    "start_time": "2022-03-18T09:29:11.747Z"
   },
   {
    "duration": 20,
    "start_time": "2022-03-18T09:29:11.754Z"
   },
   {
    "duration": 6,
    "start_time": "2022-03-18T09:29:11.776Z"
   },
   {
    "duration": 6,
    "start_time": "2022-03-18T09:29:11.783Z"
   },
   {
    "duration": 20,
    "start_time": "2022-03-18T09:29:11.790Z"
   },
   {
    "duration": 5,
    "start_time": "2022-03-18T09:29:11.832Z"
   },
   {
    "duration": 13,
    "start_time": "2022-03-18T09:29:11.839Z"
   },
   {
    "duration": 10,
    "start_time": "2022-03-18T09:29:11.853Z"
   },
   {
    "duration": 31,
    "start_time": "2022-03-18T09:29:11.865Z"
   },
   {
    "duration": 9,
    "start_time": "2022-03-18T09:29:11.897Z"
   },
   {
    "duration": 38,
    "start_time": "2022-03-18T09:29:11.907Z"
   },
   {
    "duration": 30,
    "start_time": "2022-03-18T09:29:11.947Z"
   },
   {
    "duration": 4,
    "start_time": "2022-03-18T09:29:11.979Z"
   },
   {
    "duration": 10,
    "start_time": "2022-03-18T09:29:11.984Z"
   },
   {
    "duration": 4,
    "start_time": "2022-03-18T09:29:11.996Z"
   },
   {
    "duration": 39,
    "start_time": "2022-03-18T09:29:12.001Z"
   },
   {
    "duration": 26,
    "start_time": "2022-03-18T09:29:12.042Z"
   },
   {
    "duration": 4,
    "start_time": "2022-03-18T09:29:12.069Z"
   },
   {
    "duration": 10,
    "start_time": "2022-03-18T09:29:12.074Z"
   },
   {
    "duration": 48,
    "start_time": "2022-03-18T09:29:12.085Z"
   },
   {
    "duration": 4,
    "start_time": "2022-03-18T09:29:12.134Z"
   },
   {
    "duration": 11,
    "start_time": "2022-03-18T09:29:12.140Z"
   },
   {
    "duration": 19,
    "start_time": "2022-03-18T09:29:42.387Z"
   },
   {
    "duration": 407,
    "start_time": "2022-03-18T09:29:52.733Z"
   },
   {
    "duration": 56,
    "start_time": "2022-03-18T09:29:53.141Z"
   },
   {
    "duration": 35,
    "start_time": "2022-03-18T09:29:53.199Z"
   },
   {
    "duration": 15,
    "start_time": "2022-03-18T09:29:53.235Z"
   },
   {
    "duration": 9,
    "start_time": "2022-03-18T09:29:53.252Z"
   },
   {
    "duration": 12,
    "start_time": "2022-03-18T09:29:53.263Z"
   },
   {
    "duration": 4,
    "start_time": "2022-03-18T09:29:53.277Z"
   },
   {
    "duration": 6,
    "start_time": "2022-03-18T09:29:53.282Z"
   },
   {
    "duration": 3,
    "start_time": "2022-03-18T09:29:53.290Z"
   },
   {
    "duration": 343,
    "start_time": "2022-03-18T09:29:53.294Z"
   },
   {
    "duration": 18,
    "start_time": "2022-03-18T09:29:53.639Z"
   },
   {
    "duration": 3316,
    "start_time": "2022-03-18T09:29:53.658Z"
   },
   {
    "duration": 10,
    "start_time": "2022-03-18T09:29:56.976Z"
   },
   {
    "duration": 5,
    "start_time": "2022-03-18T09:29:56.989Z"
   },
   {
    "duration": 4,
    "start_time": "2022-03-18T09:29:56.995Z"
   },
   {
    "duration": 7,
    "start_time": "2022-03-18T09:29:57.001Z"
   },
   {
    "duration": 28,
    "start_time": "2022-03-18T09:29:57.009Z"
   },
   {
    "duration": 6,
    "start_time": "2022-03-18T09:29:57.038Z"
   },
   {
    "duration": 9,
    "start_time": "2022-03-18T09:29:57.046Z"
   },
   {
    "duration": 11,
    "start_time": "2022-03-18T09:29:57.056Z"
   },
   {
    "duration": 3,
    "start_time": "2022-03-18T09:29:57.068Z"
   },
   {
    "duration": 6,
    "start_time": "2022-03-18T09:29:57.073Z"
   },
   {
    "duration": 16,
    "start_time": "2022-03-18T09:29:57.081Z"
   },
   {
    "duration": 75,
    "start_time": "2022-03-18T09:29:57.098Z"
   },
   {
    "duration": 25,
    "start_time": "2022-03-18T09:29:57.174Z"
   },
   {
    "duration": 40,
    "start_time": "2022-03-18T09:29:57.201Z"
   },
   {
    "duration": 18,
    "start_time": "2022-03-18T09:29:57.243Z"
   },
   {
    "duration": 8,
    "start_time": "2022-03-18T09:29:57.262Z"
   },
   {
    "duration": 15,
    "start_time": "2022-03-18T09:29:57.272Z"
   },
   {
    "duration": 7,
    "start_time": "2022-03-18T09:29:57.290Z"
   },
   {
    "duration": 7,
    "start_time": "2022-03-18T09:29:57.298Z"
   },
   {
    "duration": 6,
    "start_time": "2022-03-18T09:29:57.306Z"
   },
   {
    "duration": 39,
    "start_time": "2022-03-18T09:29:57.313Z"
   },
   {
    "duration": 7,
    "start_time": "2022-03-18T09:29:57.354Z"
   },
   {
    "duration": 4,
    "start_time": "2022-03-18T09:29:57.362Z"
   },
   {
    "duration": 19,
    "start_time": "2022-03-18T09:29:57.368Z"
   },
   {
    "duration": 5,
    "start_time": "2022-03-18T09:29:57.389Z"
   },
   {
    "duration": 45,
    "start_time": "2022-03-18T09:29:57.396Z"
   },
   {
    "duration": 3,
    "start_time": "2022-03-18T09:29:57.443Z"
   },
   {
    "duration": 29,
    "start_time": "2022-03-18T09:29:57.447Z"
   },
   {
    "duration": 8,
    "start_time": "2022-03-18T09:29:57.480Z"
   },
   {
    "duration": 21,
    "start_time": "2022-03-18T09:29:57.489Z"
   },
   {
    "duration": 47,
    "start_time": "2022-03-18T09:29:57.512Z"
   },
   {
    "duration": 4,
    "start_time": "2022-03-18T09:29:57.561Z"
   },
   {
    "duration": 15,
    "start_time": "2022-03-18T09:29:57.566Z"
   },
   {
    "duration": 7,
    "start_time": "2022-03-18T09:29:57.582Z"
   },
   {
    "duration": 20,
    "start_time": "2022-03-18T09:29:57.591Z"
   },
   {
    "duration": 34,
    "start_time": "2022-03-18T09:29:57.613Z"
   },
   {
    "duration": 3,
    "start_time": "2022-03-18T09:29:57.649Z"
   },
   {
    "duration": 11,
    "start_time": "2022-03-18T09:29:57.654Z"
   },
   {
    "duration": 25,
    "start_time": "2022-03-18T09:29:57.667Z"
   },
   {
    "duration": 3,
    "start_time": "2022-03-18T09:29:57.694Z"
   },
   {
    "duration": 13,
    "start_time": "2022-03-18T09:29:57.698Z"
   },
   {
    "duration": 422,
    "start_time": "2022-03-18T09:30:14.010Z"
   },
   {
    "duration": 56,
    "start_time": "2022-03-18T09:30:14.434Z"
   },
   {
    "duration": 23,
    "start_time": "2022-03-18T09:30:14.492Z"
   },
   {
    "duration": 23,
    "start_time": "2022-03-18T09:30:14.517Z"
   },
   {
    "duration": 10,
    "start_time": "2022-03-18T09:30:14.541Z"
   },
   {
    "duration": 15,
    "start_time": "2022-03-18T09:30:14.552Z"
   },
   {
    "duration": 4,
    "start_time": "2022-03-18T09:30:14.568Z"
   },
   {
    "duration": 15,
    "start_time": "2022-03-18T09:30:14.573Z"
   },
   {
    "duration": 16,
    "start_time": "2022-03-18T09:30:14.589Z"
   },
   {
    "duration": 308,
    "start_time": "2022-03-18T09:30:14.608Z"
   },
   {
    "duration": 24,
    "start_time": "2022-03-18T09:30:14.918Z"
   },
   {
    "duration": 3317,
    "start_time": "2022-03-18T09:30:14.944Z"
   },
   {
    "duration": 9,
    "start_time": "2022-03-18T09:30:18.263Z"
   },
   {
    "duration": 5,
    "start_time": "2022-03-18T09:30:18.273Z"
   },
   {
    "duration": 5,
    "start_time": "2022-03-18T09:30:18.280Z"
   },
   {
    "duration": 8,
    "start_time": "2022-03-18T09:30:18.287Z"
   },
   {
    "duration": 6,
    "start_time": "2022-03-18T09:30:18.297Z"
   },
   {
    "duration": 28,
    "start_time": "2022-03-18T09:30:18.305Z"
   },
   {
    "duration": 6,
    "start_time": "2022-03-18T09:30:18.335Z"
   },
   {
    "duration": 13,
    "start_time": "2022-03-18T09:30:18.343Z"
   },
   {
    "duration": 12,
    "start_time": "2022-03-18T09:30:18.358Z"
   },
   {
    "duration": 7,
    "start_time": "2022-03-18T09:30:18.372Z"
   },
   {
    "duration": 22,
    "start_time": "2022-03-18T09:30:18.380Z"
   },
   {
    "duration": 50,
    "start_time": "2022-03-18T09:30:18.404Z"
   },
   {
    "duration": 23,
    "start_time": "2022-03-18T09:30:18.456Z"
   },
   {
    "duration": 18,
    "start_time": "2022-03-18T09:30:18.481Z"
   },
   {
    "duration": 38,
    "start_time": "2022-03-18T09:30:18.501Z"
   },
   {
    "duration": 6,
    "start_time": "2022-03-18T09:30:18.543Z"
   },
   {
    "duration": 14,
    "start_time": "2022-03-18T09:30:18.551Z"
   },
   {
    "duration": 9,
    "start_time": "2022-03-18T09:30:18.567Z"
   },
   {
    "duration": 17,
    "start_time": "2022-03-18T09:30:18.578Z"
   },
   {
    "duration": 7,
    "start_time": "2022-03-18T09:30:18.597Z"
   },
   {
    "duration": 25,
    "start_time": "2022-03-18T09:30:18.606Z"
   },
   {
    "duration": 6,
    "start_time": "2022-03-18T09:30:18.632Z"
   },
   {
    "duration": 5,
    "start_time": "2022-03-18T09:30:18.639Z"
   },
   {
    "duration": 25,
    "start_time": "2022-03-18T09:30:18.646Z"
   },
   {
    "duration": 5,
    "start_time": "2022-03-18T09:30:18.672Z"
   },
   {
    "duration": 21,
    "start_time": "2022-03-18T09:30:18.678Z"
   },
   {
    "duration": 8,
    "start_time": "2022-03-18T09:30:18.701Z"
   },
   {
    "duration": 48,
    "start_time": "2022-03-18T09:30:18.711Z"
   },
   {
    "duration": 9,
    "start_time": "2022-03-18T09:30:18.761Z"
   },
   {
    "duration": 20,
    "start_time": "2022-03-18T09:30:18.772Z"
   },
   {
    "duration": 47,
    "start_time": "2022-03-18T09:30:18.794Z"
   },
   {
    "duration": 4,
    "start_time": "2022-03-18T09:30:18.843Z"
   },
   {
    "duration": 14,
    "start_time": "2022-03-18T09:30:18.848Z"
   },
   {
    "duration": 7,
    "start_time": "2022-03-18T09:30:18.863Z"
   },
   {
    "duration": 25,
    "start_time": "2022-03-18T09:30:18.871Z"
   },
   {
    "duration": 36,
    "start_time": "2022-03-18T09:30:18.897Z"
   },
   {
    "duration": 5,
    "start_time": "2022-03-18T09:30:18.934Z"
   },
   {
    "duration": 10,
    "start_time": "2022-03-18T09:30:18.940Z"
   },
   {
    "duration": 28,
    "start_time": "2022-03-18T09:30:18.951Z"
   },
   {
    "duration": 4,
    "start_time": "2022-03-18T09:30:18.981Z"
   },
   {
    "duration": 23,
    "start_time": "2022-03-18T09:30:18.986Z"
   },
   {
    "duration": 360,
    "start_time": "2022-03-18T09:31:33.774Z"
   },
   {
    "duration": 54,
    "start_time": "2022-03-18T09:31:34.136Z"
   },
   {
    "duration": 18,
    "start_time": "2022-03-18T09:31:34.191Z"
   },
   {
    "duration": 27,
    "start_time": "2022-03-18T09:31:34.211Z"
   },
   {
    "duration": 11,
    "start_time": "2022-03-18T09:31:34.240Z"
   },
   {
    "duration": 12,
    "start_time": "2022-03-18T09:31:34.253Z"
   },
   {
    "duration": 5,
    "start_time": "2022-03-18T09:31:34.267Z"
   },
   {
    "duration": 5,
    "start_time": "2022-03-18T09:31:34.273Z"
   },
   {
    "duration": 3,
    "start_time": "2022-03-18T09:31:34.280Z"
   },
   {
    "duration": 340,
    "start_time": "2022-03-18T09:31:34.286Z"
   },
   {
    "duration": 18,
    "start_time": "2022-03-18T09:31:34.627Z"
   },
   {
    "duration": 3223,
    "start_time": "2022-03-18T09:31:34.647Z"
   },
   {
    "duration": 10,
    "start_time": "2022-03-18T09:31:37.872Z"
   },
   {
    "duration": 7,
    "start_time": "2022-03-18T09:31:37.883Z"
   },
   {
    "duration": 11,
    "start_time": "2022-03-18T09:31:37.891Z"
   },
   {
    "duration": 7,
    "start_time": "2022-03-18T09:31:37.903Z"
   },
   {
    "duration": 22,
    "start_time": "2022-03-18T09:31:37.911Z"
   },
   {
    "duration": 5,
    "start_time": "2022-03-18T09:31:37.936Z"
   },
   {
    "duration": 8,
    "start_time": "2022-03-18T09:31:37.943Z"
   },
   {
    "duration": 10,
    "start_time": "2022-03-18T09:31:37.953Z"
   },
   {
    "duration": 3,
    "start_time": "2022-03-18T09:31:37.965Z"
   },
   {
    "duration": 4,
    "start_time": "2022-03-18T09:31:37.969Z"
   },
   {
    "duration": 19,
    "start_time": "2022-03-18T09:31:37.974Z"
   },
   {
    "duration": 75,
    "start_time": "2022-03-18T09:31:37.994Z"
   },
   {
    "duration": 25,
    "start_time": "2022-03-18T09:31:38.070Z"
   },
   {
    "duration": 41,
    "start_time": "2022-03-18T09:31:38.097Z"
   },
   {
    "duration": 19,
    "start_time": "2022-03-18T09:31:38.140Z"
   },
   {
    "duration": 8,
    "start_time": "2022-03-18T09:31:38.164Z"
   },
   {
    "duration": 13,
    "start_time": "2022-03-18T09:31:38.173Z"
   },
   {
    "duration": 4,
    "start_time": "2022-03-18T09:31:38.188Z"
   },
   {
    "duration": 6,
    "start_time": "2022-03-18T09:31:38.194Z"
   },
   {
    "duration": 6,
    "start_time": "2022-03-18T09:31:38.201Z"
   },
   {
    "duration": 24,
    "start_time": "2022-03-18T09:31:38.234Z"
   },
   {
    "duration": 6,
    "start_time": "2022-03-18T09:31:38.259Z"
   },
   {
    "duration": 6,
    "start_time": "2022-03-18T09:31:38.266Z"
   },
   {
    "duration": 23,
    "start_time": "2022-03-18T09:31:38.273Z"
   },
   {
    "duration": 5,
    "start_time": "2022-03-18T09:31:38.297Z"
   },
   {
    "duration": 34,
    "start_time": "2022-03-18T09:31:38.303Z"
   },
   {
    "duration": 8,
    "start_time": "2022-03-18T09:31:38.338Z"
   },
   {
    "duration": 35,
    "start_time": "2022-03-18T09:31:38.347Z"
   },
   {
    "duration": 10,
    "start_time": "2022-03-18T09:31:38.383Z"
   },
   {
    "duration": 20,
    "start_time": "2022-03-18T09:31:38.394Z"
   },
   {
    "duration": 42,
    "start_time": "2022-03-18T09:31:38.416Z"
   },
   {
    "duration": 4,
    "start_time": "2022-03-18T09:31:38.460Z"
   },
   {
    "duration": 15,
    "start_time": "2022-03-18T09:31:38.466Z"
   },
   {
    "duration": 4,
    "start_time": "2022-03-18T09:31:38.483Z"
   },
   {
    "duration": 18,
    "start_time": "2022-03-18T09:31:38.489Z"
   },
   {
    "duration": 42,
    "start_time": "2022-03-18T09:31:38.509Z"
   },
   {
    "duration": 4,
    "start_time": "2022-03-18T09:31:38.553Z"
   },
   {
    "duration": 13,
    "start_time": "2022-03-18T09:31:38.558Z"
   },
   {
    "duration": 31,
    "start_time": "2022-03-18T09:31:38.573Z"
   },
   {
    "duration": 4,
    "start_time": "2022-03-18T09:31:38.605Z"
   },
   {
    "duration": 27,
    "start_time": "2022-03-18T09:31:38.610Z"
   },
   {
    "duration": 366,
    "start_time": "2022-03-18T09:34:07.288Z"
   },
   {
    "duration": 54,
    "start_time": "2022-03-18T09:34:07.656Z"
   },
   {
    "duration": 22,
    "start_time": "2022-03-18T09:34:07.712Z"
   },
   {
    "duration": 14,
    "start_time": "2022-03-18T09:34:07.736Z"
   },
   {
    "duration": 10,
    "start_time": "2022-03-18T09:34:07.752Z"
   },
   {
    "duration": 12,
    "start_time": "2022-03-18T09:34:07.763Z"
   },
   {
    "duration": 5,
    "start_time": "2022-03-18T09:34:07.777Z"
   },
   {
    "duration": 6,
    "start_time": "2022-03-18T09:34:07.783Z"
   },
   {
    "duration": 42,
    "start_time": "2022-03-18T09:34:07.791Z"
   },
   {
    "duration": 4,
    "start_time": "2022-03-18T09:34:07.836Z"
   },
   {
    "duration": 315,
    "start_time": "2022-03-18T09:34:07.841Z"
   },
   {
    "duration": 18,
    "start_time": "2022-03-18T09:34:08.158Z"
   },
   {
    "duration": 3309,
    "start_time": "2022-03-18T09:34:08.178Z"
   },
   {
    "duration": 10,
    "start_time": "2022-03-18T09:34:11.489Z"
   },
   {
    "duration": 6,
    "start_time": "2022-03-18T09:34:11.500Z"
   },
   {
    "duration": 8,
    "start_time": "2022-03-18T09:34:11.507Z"
   },
   {
    "duration": 19,
    "start_time": "2022-03-18T09:34:11.516Z"
   },
   {
    "duration": 9,
    "start_time": "2022-03-18T09:34:11.537Z"
   },
   {
    "duration": 7,
    "start_time": "2022-03-18T09:34:11.547Z"
   },
   {
    "duration": 9,
    "start_time": "2022-03-18T09:34:11.556Z"
   },
   {
    "duration": 15,
    "start_time": "2022-03-18T09:34:11.566Z"
   },
   {
    "duration": 12,
    "start_time": "2022-03-18T09:34:11.583Z"
   },
   {
    "duration": 8,
    "start_time": "2022-03-18T09:34:11.597Z"
   },
   {
    "duration": 28,
    "start_time": "2022-03-18T09:34:11.606Z"
   },
   {
    "duration": 48,
    "start_time": "2022-03-18T09:34:11.635Z"
   },
   {
    "duration": 24,
    "start_time": "2022-03-18T09:34:11.684Z"
   },
   {
    "duration": 36,
    "start_time": "2022-03-18T09:34:11.710Z"
   },
   {
    "duration": 19,
    "start_time": "2022-03-18T09:34:11.749Z"
   },
   {
    "duration": 7,
    "start_time": "2022-03-18T09:34:11.770Z"
   },
   {
    "duration": 8,
    "start_time": "2022-03-18T09:34:11.778Z"
   },
   {
    "duration": 3,
    "start_time": "2022-03-18T09:34:11.788Z"
   },
   {
    "duration": 7,
    "start_time": "2022-03-18T09:34:11.793Z"
   },
   {
    "duration": 32,
    "start_time": "2022-03-18T09:34:11.801Z"
   },
   {
    "duration": 22,
    "start_time": "2022-03-18T09:34:11.835Z"
   },
   {
    "duration": 6,
    "start_time": "2022-03-18T09:34:11.858Z"
   },
   {
    "duration": 6,
    "start_time": "2022-03-18T09:34:11.865Z"
   },
   {
    "duration": 23,
    "start_time": "2022-03-18T09:34:11.872Z"
   },
   {
    "duration": 9,
    "start_time": "2022-03-18T09:34:11.896Z"
   },
   {
    "duration": 33,
    "start_time": "2022-03-18T09:34:11.907Z"
   },
   {
    "duration": 3,
    "start_time": "2022-03-18T09:34:11.941Z"
   },
   {
    "duration": 30,
    "start_time": "2022-03-18T09:34:11.945Z"
   },
   {
    "duration": 10,
    "start_time": "2022-03-18T09:34:11.976Z"
   },
   {
    "duration": 18,
    "start_time": "2022-03-18T09:34:11.987Z"
   },
   {
    "duration": 57,
    "start_time": "2022-03-18T09:34:12.007Z"
   },
   {
    "duration": 4,
    "start_time": "2022-03-18T09:34:12.065Z"
   },
   {
    "duration": 10,
    "start_time": "2022-03-18T09:34:12.071Z"
   },
   {
    "duration": 5,
    "start_time": "2022-03-18T09:34:12.082Z"
   },
   {
    "duration": 20,
    "start_time": "2022-03-18T09:34:12.088Z"
   },
   {
    "duration": 44,
    "start_time": "2022-03-18T09:34:12.109Z"
   },
   {
    "duration": 4,
    "start_time": "2022-03-18T09:34:12.155Z"
   },
   {
    "duration": 9,
    "start_time": "2022-03-18T09:34:12.161Z"
   },
   {
    "duration": 24,
    "start_time": "2022-03-18T09:34:12.172Z"
   },
   {
    "duration": 4,
    "start_time": "2022-03-18T09:34:12.198Z"
   },
   {
    "duration": 31,
    "start_time": "2022-03-18T09:34:12.203Z"
   },
   {
    "duration": 417,
    "start_time": "2022-03-18T09:34:55.904Z"
   },
   {
    "duration": 57,
    "start_time": "2022-03-18T09:34:56.323Z"
   },
   {
    "duration": 20,
    "start_time": "2022-03-18T09:34:56.382Z"
   },
   {
    "duration": 36,
    "start_time": "2022-03-18T09:34:56.404Z"
   },
   {
    "duration": 9,
    "start_time": "2022-03-18T09:34:56.442Z"
   },
   {
    "duration": 11,
    "start_time": "2022-03-18T09:34:56.453Z"
   },
   {
    "duration": 4,
    "start_time": "2022-03-18T09:34:56.465Z"
   },
   {
    "duration": 6,
    "start_time": "2022-03-18T09:34:56.470Z"
   },
   {
    "duration": 4,
    "start_time": "2022-03-18T09:34:56.477Z"
   },
   {
    "duration": 9,
    "start_time": "2022-03-18T09:34:56.484Z"
   },
   {
    "duration": 320,
    "start_time": "2022-03-18T09:34:56.533Z"
   },
   {
    "duration": 18,
    "start_time": "2022-03-18T09:34:56.854Z"
   },
   {
    "duration": 3259,
    "start_time": "2022-03-18T09:34:56.874Z"
   },
   {
    "duration": 10,
    "start_time": "2022-03-18T09:35:00.134Z"
   },
   {
    "duration": 7,
    "start_time": "2022-03-18T09:35:00.146Z"
   },
   {
    "duration": 7,
    "start_time": "2022-03-18T09:35:00.155Z"
   },
   {
    "duration": 6,
    "start_time": "2022-03-18T09:35:00.163Z"
   },
   {
    "duration": 7,
    "start_time": "2022-03-18T09:35:00.170Z"
   },
   {
    "duration": 9,
    "start_time": "2022-03-18T09:35:00.179Z"
   },
   {
    "duration": 11,
    "start_time": "2022-03-18T09:35:00.190Z"
   },
   {
    "duration": 13,
    "start_time": "2022-03-18T09:35:00.203Z"
   },
   {
    "duration": 4,
    "start_time": "2022-03-18T09:35:00.232Z"
   },
   {
    "duration": 14,
    "start_time": "2022-03-18T09:35:00.237Z"
   },
   {
    "duration": 18,
    "start_time": "2022-03-18T09:35:00.252Z"
   },
   {
    "duration": 48,
    "start_time": "2022-03-18T09:35:00.272Z"
   },
   {
    "duration": 25,
    "start_time": "2022-03-18T09:35:00.333Z"
   },
   {
    "duration": 19,
    "start_time": "2022-03-18T09:35:00.360Z"
   },
   {
    "duration": 19,
    "start_time": "2022-03-18T09:35:00.383Z"
   },
   {
    "duration": 29,
    "start_time": "2022-03-18T09:35:00.404Z"
   },
   {
    "duration": 9,
    "start_time": "2022-03-18T09:35:00.434Z"
   },
   {
    "duration": 11,
    "start_time": "2022-03-18T09:35:00.444Z"
   },
   {
    "duration": 9,
    "start_time": "2022-03-18T09:35:00.457Z"
   },
   {
    "duration": 8,
    "start_time": "2022-03-18T09:35:00.468Z"
   },
   {
    "duration": 24,
    "start_time": "2022-03-18T09:35:00.477Z"
   },
   {
    "duration": 16,
    "start_time": "2022-03-18T09:35:00.502Z"
   },
   {
    "duration": 5,
    "start_time": "2022-03-18T09:35:00.520Z"
   },
   {
    "duration": 24,
    "start_time": "2022-03-18T09:35:00.527Z"
   },
   {
    "duration": 18,
    "start_time": "2022-03-18T09:35:00.553Z"
   },
   {
    "duration": 26,
    "start_time": "2022-03-18T09:35:00.573Z"
   },
   {
    "duration": 11,
    "start_time": "2022-03-18T09:35:00.601Z"
   },
   {
    "duration": 37,
    "start_time": "2022-03-18T09:35:00.614Z"
   },
   {
    "duration": 10,
    "start_time": "2022-03-18T09:35:00.652Z"
   },
   {
    "duration": 26,
    "start_time": "2022-03-18T09:35:00.663Z"
   },
   {
    "duration": 34,
    "start_time": "2022-03-18T09:35:00.690Z"
   },
   {
    "duration": 4,
    "start_time": "2022-03-18T09:35:00.733Z"
   },
   {
    "duration": 29,
    "start_time": "2022-03-18T09:35:00.738Z"
   },
   {
    "duration": 25,
    "start_time": "2022-03-18T09:35:00.769Z"
   },
   {
    "duration": 24,
    "start_time": "2022-03-18T09:35:00.796Z"
   },
   {
    "duration": 51,
    "start_time": "2022-03-18T09:35:00.822Z"
   },
   {
    "duration": 4,
    "start_time": "2022-03-18T09:35:00.875Z"
   },
   {
    "duration": 15,
    "start_time": "2022-03-18T09:35:00.881Z"
   },
   {
    "duration": 35,
    "start_time": "2022-03-18T09:35:00.897Z"
   },
   {
    "duration": 5,
    "start_time": "2022-03-18T09:35:00.933Z"
   },
   {
    "duration": 11,
    "start_time": "2022-03-18T09:35:00.939Z"
   },
   {
    "duration": 430,
    "start_time": "2022-03-18T09:37:01.828Z"
   },
   {
    "duration": 61,
    "start_time": "2022-03-18T09:37:02.260Z"
   },
   {
    "duration": 23,
    "start_time": "2022-03-18T09:37:02.324Z"
   },
   {
    "duration": 15,
    "start_time": "2022-03-18T09:37:02.349Z"
   },
   {
    "duration": 10,
    "start_time": "2022-03-18T09:37:02.366Z"
   },
   {
    "duration": 12,
    "start_time": "2022-03-18T09:37:02.378Z"
   },
   {
    "duration": 4,
    "start_time": "2022-03-18T09:37:02.392Z"
   },
   {
    "duration": 39,
    "start_time": "2022-03-18T09:37:02.397Z"
   },
   {
    "duration": 5,
    "start_time": "2022-03-18T09:37:02.438Z"
   },
   {
    "duration": 4,
    "start_time": "2022-03-18T09:37:02.445Z"
   },
   {
    "duration": 8,
    "start_time": "2022-03-18T09:37:02.450Z"
   },
   {
    "duration": 21,
    "start_time": "2022-03-18T09:37:02.460Z"
   },
   {
    "duration": 3531,
    "start_time": "2022-03-18T09:37:02.482Z"
   },
   {
    "duration": 18,
    "start_time": "2022-03-18T09:37:06.015Z"
   },
   {
    "duration": 6,
    "start_time": "2022-03-18T09:37:06.035Z"
   },
   {
    "duration": 6,
    "start_time": "2022-03-18T09:37:06.043Z"
   },
   {
    "duration": 10,
    "start_time": "2022-03-18T09:37:06.050Z"
   },
   {
    "duration": 11,
    "start_time": "2022-03-18T09:37:06.061Z"
   },
   {
    "duration": 8,
    "start_time": "2022-03-18T09:37:06.073Z"
   },
   {
    "duration": 19,
    "start_time": "2022-03-18T09:37:06.082Z"
   },
   {
    "duration": 11,
    "start_time": "2022-03-18T09:37:06.102Z"
   },
   {
    "duration": 79,
    "start_time": "2022-03-18T09:37:06.115Z"
   },
   {
    "duration": 0,
    "start_time": "2022-03-18T09:37:06.196Z"
   },
   {
    "duration": 0,
    "start_time": "2022-03-18T09:37:06.198Z"
   },
   {
    "duration": 0,
    "start_time": "2022-03-18T09:37:06.199Z"
   },
   {
    "duration": 0,
    "start_time": "2022-03-18T09:37:06.200Z"
   },
   {
    "duration": 0,
    "start_time": "2022-03-18T09:37:06.201Z"
   },
   {
    "duration": 0,
    "start_time": "2022-03-18T09:37:06.206Z"
   },
   {
    "duration": 0,
    "start_time": "2022-03-18T09:37:06.207Z"
   },
   {
    "duration": 0,
    "start_time": "2022-03-18T09:37:06.208Z"
   },
   {
    "duration": 0,
    "start_time": "2022-03-18T09:37:06.233Z"
   },
   {
    "duration": 0,
    "start_time": "2022-03-18T09:37:06.234Z"
   },
   {
    "duration": 0,
    "start_time": "2022-03-18T09:37:06.235Z"
   },
   {
    "duration": 0,
    "start_time": "2022-03-18T09:37:06.236Z"
   },
   {
    "duration": 0,
    "start_time": "2022-03-18T09:37:06.237Z"
   },
   {
    "duration": 0,
    "start_time": "2022-03-18T09:37:06.238Z"
   },
   {
    "duration": 0,
    "start_time": "2022-03-18T09:37:06.239Z"
   },
   {
    "duration": 0,
    "start_time": "2022-03-18T09:37:06.240Z"
   },
   {
    "duration": 0,
    "start_time": "2022-03-18T09:37:06.241Z"
   },
   {
    "duration": 0,
    "start_time": "2022-03-18T09:37:06.242Z"
   },
   {
    "duration": 0,
    "start_time": "2022-03-18T09:37:06.243Z"
   },
   {
    "duration": 0,
    "start_time": "2022-03-18T09:37:06.245Z"
   },
   {
    "duration": 0,
    "start_time": "2022-03-18T09:37:06.246Z"
   },
   {
    "duration": 0,
    "start_time": "2022-03-18T09:37:06.247Z"
   },
   {
    "duration": 0,
    "start_time": "2022-03-18T09:37:06.248Z"
   },
   {
    "duration": 0,
    "start_time": "2022-03-18T09:37:06.248Z"
   },
   {
    "duration": 0,
    "start_time": "2022-03-18T09:37:06.249Z"
   },
   {
    "duration": 0,
    "start_time": "2022-03-18T09:37:06.251Z"
   },
   {
    "duration": 0,
    "start_time": "2022-03-18T09:37:06.251Z"
   },
   {
    "duration": 0,
    "start_time": "2022-03-18T09:37:06.252Z"
   },
   {
    "duration": 0,
    "start_time": "2022-03-18T09:37:06.254Z"
   },
   {
    "duration": 0,
    "start_time": "2022-03-18T09:37:06.255Z"
   },
   {
    "duration": 0,
    "start_time": "2022-03-18T09:37:06.255Z"
   },
   {
    "duration": 0,
    "start_time": "2022-03-18T09:37:06.256Z"
   },
   {
    "duration": 444,
    "start_time": "2022-03-18T09:37:26.844Z"
   },
   {
    "duration": 63,
    "start_time": "2022-03-18T09:37:27.289Z"
   },
   {
    "duration": 21,
    "start_time": "2022-03-18T09:37:27.354Z"
   },
   {
    "duration": 15,
    "start_time": "2022-03-18T09:37:27.378Z"
   },
   {
    "duration": 12,
    "start_time": "2022-03-18T09:37:27.394Z"
   },
   {
    "duration": 35,
    "start_time": "2022-03-18T09:37:27.407Z"
   },
   {
    "duration": 5,
    "start_time": "2022-03-18T09:37:27.444Z"
   },
   {
    "duration": 9,
    "start_time": "2022-03-18T09:37:27.451Z"
   },
   {
    "duration": 3502,
    "start_time": "2022-03-18T09:37:27.461Z"
   },
   {
    "duration": 3,
    "start_time": "2022-03-18T09:37:30.967Z"
   },
   {
    "duration": 24,
    "start_time": "2022-03-18T09:37:30.972Z"
   },
   {
    "duration": 34,
    "start_time": "2022-03-18T09:37:30.998Z"
   },
   {
    "duration": 3647,
    "start_time": "2022-03-18T09:37:31.034Z"
   },
   {
    "duration": 10,
    "start_time": "2022-03-18T09:37:34.683Z"
   },
   {
    "duration": 14,
    "start_time": "2022-03-18T09:37:34.695Z"
   },
   {
    "duration": 6,
    "start_time": "2022-03-18T09:37:34.711Z"
   },
   {
    "duration": 14,
    "start_time": "2022-03-18T09:37:34.719Z"
   },
   {
    "duration": 5,
    "start_time": "2022-03-18T09:37:34.735Z"
   },
   {
    "duration": 7,
    "start_time": "2022-03-18T09:37:34.741Z"
   },
   {
    "duration": 7,
    "start_time": "2022-03-18T09:37:34.749Z"
   },
   {
    "duration": 10,
    "start_time": "2022-03-18T09:37:34.757Z"
   },
   {
    "duration": 9,
    "start_time": "2022-03-18T09:37:34.768Z"
   },
   {
    "duration": 9,
    "start_time": "2022-03-18T09:37:34.778Z"
   },
   {
    "duration": 20,
    "start_time": "2022-03-18T09:37:34.788Z"
   },
   {
    "duration": 69,
    "start_time": "2022-03-18T09:37:34.809Z"
   },
   {
    "duration": 29,
    "start_time": "2022-03-18T09:37:34.879Z"
   },
   {
    "duration": 39,
    "start_time": "2022-03-18T09:37:34.909Z"
   },
   {
    "duration": 22,
    "start_time": "2022-03-18T09:37:34.951Z"
   },
   {
    "duration": 8,
    "start_time": "2022-03-18T09:37:34.975Z"
   },
   {
    "duration": 10,
    "start_time": "2022-03-18T09:37:34.985Z"
   },
   {
    "duration": 36,
    "start_time": "2022-03-18T09:37:34.997Z"
   },
   {
    "duration": 5,
    "start_time": "2022-03-18T09:37:35.034Z"
   },
   {
    "duration": 5,
    "start_time": "2022-03-18T09:37:35.041Z"
   },
   {
    "duration": 24,
    "start_time": "2022-03-18T09:37:35.048Z"
   },
   {
    "duration": 9,
    "start_time": "2022-03-18T09:37:35.074Z"
   },
   {
    "duration": 11,
    "start_time": "2022-03-18T09:37:35.085Z"
   },
   {
    "duration": 55,
    "start_time": "2022-03-18T09:37:35.098Z"
   },
   {
    "duration": 6,
    "start_time": "2022-03-18T09:37:35.155Z"
   },
   {
    "duration": 14,
    "start_time": "2022-03-18T09:37:35.163Z"
   },
   {
    "duration": 2,
    "start_time": "2022-03-18T09:37:35.179Z"
   },
   {
    "duration": 50,
    "start_time": "2022-03-18T09:37:35.183Z"
   },
   {
    "duration": 10,
    "start_time": "2022-03-18T09:37:35.234Z"
   },
   {
    "duration": 20,
    "start_time": "2022-03-18T09:37:35.245Z"
   },
   {
    "duration": 34,
    "start_time": "2022-03-18T09:37:35.266Z"
   },
   {
    "duration": 5,
    "start_time": "2022-03-18T09:37:35.302Z"
   },
   {
    "duration": 9,
    "start_time": "2022-03-18T09:37:35.333Z"
   },
   {
    "duration": 5,
    "start_time": "2022-03-18T09:37:35.343Z"
   },
   {
    "duration": 20,
    "start_time": "2022-03-18T09:37:35.349Z"
   },
   {
    "duration": 29,
    "start_time": "2022-03-18T09:37:35.370Z"
   },
   {
    "duration": 4,
    "start_time": "2022-03-18T09:37:35.401Z"
   },
   {
    "duration": 8,
    "start_time": "2022-03-18T09:37:35.433Z"
   },
   {
    "duration": 27,
    "start_time": "2022-03-18T09:37:35.443Z"
   },
   {
    "duration": 4,
    "start_time": "2022-03-18T09:37:35.472Z"
   },
   {
    "duration": 13,
    "start_time": "2022-03-18T09:37:35.477Z"
   },
   {
    "duration": 467,
    "start_time": "2022-03-18T09:38:28.845Z"
   },
   {
    "duration": 72,
    "start_time": "2022-03-18T09:38:29.314Z"
   },
   {
    "duration": 27,
    "start_time": "2022-03-18T09:38:29.387Z"
   },
   {
    "duration": 28,
    "start_time": "2022-03-18T09:38:29.416Z"
   },
   {
    "duration": 10,
    "start_time": "2022-03-18T09:38:29.445Z"
   },
   {
    "duration": 14,
    "start_time": "2022-03-18T09:38:29.457Z"
   },
   {
    "duration": 5,
    "start_time": "2022-03-18T09:38:29.475Z"
   },
   {
    "duration": 7,
    "start_time": "2022-03-18T09:38:29.481Z"
   },
   {
    "duration": 4076,
    "start_time": "2022-03-18T09:38:29.489Z"
   },
   {
    "duration": 2,
    "start_time": "2022-03-18T09:38:33.567Z"
   },
   {
    "duration": 7,
    "start_time": "2022-03-18T09:38:33.571Z"
   },
   {
    "duration": 21,
    "start_time": "2022-03-18T09:38:33.579Z"
   },
   {
    "duration": 3421,
    "start_time": "2022-03-18T09:38:33.601Z"
   },
   {
    "duration": 14,
    "start_time": "2022-03-18T09:38:37.024Z"
   },
   {
    "duration": 15,
    "start_time": "2022-03-18T09:38:37.039Z"
   },
   {
    "duration": 5,
    "start_time": "2022-03-18T09:38:37.055Z"
   },
   {
    "duration": 4,
    "start_time": "2022-03-18T09:38:37.062Z"
   },
   {
    "duration": 5,
    "start_time": "2022-03-18T09:38:37.068Z"
   },
   {
    "duration": 7,
    "start_time": "2022-03-18T09:38:37.074Z"
   },
   {
    "duration": 7,
    "start_time": "2022-03-18T09:38:37.083Z"
   },
   {
    "duration": 45,
    "start_time": "2022-03-18T09:38:37.092Z"
   },
   {
    "duration": 11,
    "start_time": "2022-03-18T09:38:37.138Z"
   },
   {
    "duration": 5,
    "start_time": "2022-03-18T09:38:37.150Z"
   },
   {
    "duration": 6,
    "start_time": "2022-03-18T09:38:37.156Z"
   },
   {
    "duration": 16,
    "start_time": "2022-03-18T09:38:37.164Z"
   },
   {
    "duration": 79,
    "start_time": "2022-03-18T09:38:37.182Z"
   },
   {
    "duration": 38,
    "start_time": "2022-03-18T09:38:37.263Z"
   },
   {
    "duration": 40,
    "start_time": "2022-03-18T09:38:37.305Z"
   },
   {
    "duration": 20,
    "start_time": "2022-03-18T09:38:37.347Z"
   },
   {
    "duration": 8,
    "start_time": "2022-03-18T09:38:37.369Z"
   },
   {
    "duration": 8,
    "start_time": "2022-03-18T09:38:37.379Z"
   },
   {
    "duration": 6,
    "start_time": "2022-03-18T09:38:37.388Z"
   },
   {
    "duration": 8,
    "start_time": "2022-03-18T09:38:37.395Z"
   },
   {
    "duration": 29,
    "start_time": "2022-03-18T09:38:37.404Z"
   },
   {
    "duration": 18,
    "start_time": "2022-03-18T09:38:37.434Z"
   },
   {
    "duration": 7,
    "start_time": "2022-03-18T09:38:37.454Z"
   },
   {
    "duration": 4,
    "start_time": "2022-03-18T09:38:37.463Z"
   },
   {
    "duration": 21,
    "start_time": "2022-03-18T09:38:37.468Z"
   },
   {
    "duration": 7,
    "start_time": "2022-03-18T09:38:37.491Z"
   },
   {
    "duration": 38,
    "start_time": "2022-03-18T09:38:37.499Z"
   },
   {
    "duration": 3,
    "start_time": "2022-03-18T09:38:37.538Z"
   },
   {
    "duration": 32,
    "start_time": "2022-03-18T09:38:37.542Z"
   },
   {
    "duration": 9,
    "start_time": "2022-03-18T09:38:37.576Z"
   },
   {
    "duration": 24,
    "start_time": "2022-03-18T09:38:37.587Z"
   },
   {
    "duration": 51,
    "start_time": "2022-03-18T09:38:37.612Z"
   },
   {
    "duration": 3,
    "start_time": "2022-03-18T09:38:37.665Z"
   },
   {
    "duration": 11,
    "start_time": "2022-03-18T09:38:37.670Z"
   },
   {
    "duration": 6,
    "start_time": "2022-03-18T09:38:37.682Z"
   },
   {
    "duration": 19,
    "start_time": "2022-03-18T09:38:37.690Z"
   },
   {
    "duration": 47,
    "start_time": "2022-03-18T09:38:37.711Z"
   },
   {
    "duration": 3,
    "start_time": "2022-03-18T09:38:37.760Z"
   },
   {
    "duration": 10,
    "start_time": "2022-03-18T09:38:37.765Z"
   },
   {
    "duration": 28,
    "start_time": "2022-03-18T09:38:37.776Z"
   },
   {
    "duration": 4,
    "start_time": "2022-03-18T09:38:37.805Z"
   },
   {
    "duration": 28,
    "start_time": "2022-03-18T09:38:37.811Z"
   },
   {
    "duration": 5,
    "start_time": "2022-03-18T09:46:49.216Z"
   },
   {
    "duration": 5,
    "start_time": "2022-03-18T09:47:01.056Z"
   },
   {
    "duration": 5,
    "start_time": "2022-03-18T09:47:26.160Z"
   },
   {
    "duration": 414,
    "start_time": "2022-03-18T09:48:09.938Z"
   },
   {
    "duration": 60,
    "start_time": "2022-03-18T09:48:10.354Z"
   },
   {
    "duration": 24,
    "start_time": "2022-03-18T09:48:10.415Z"
   },
   {
    "duration": 18,
    "start_time": "2022-03-18T09:48:10.441Z"
   },
   {
    "duration": 10,
    "start_time": "2022-03-18T09:48:10.460Z"
   },
   {
    "duration": 11,
    "start_time": "2022-03-18T09:48:10.472Z"
   },
   {
    "duration": 4,
    "start_time": "2022-03-18T09:48:10.485Z"
   },
   {
    "duration": 6,
    "start_time": "2022-03-18T09:48:10.491Z"
   },
   {
    "duration": 3455,
    "start_time": "2022-03-18T09:48:10.499Z"
   },
   {
    "duration": 2,
    "start_time": "2022-03-18T09:48:13.957Z"
   },
   {
    "duration": 5,
    "start_time": "2022-03-18T09:48:13.961Z"
   },
   {
    "duration": 21,
    "start_time": "2022-03-18T09:48:13.968Z"
   },
   {
    "duration": 3311,
    "start_time": "2022-03-18T09:48:13.991Z"
   },
   {
    "duration": 10,
    "start_time": "2022-03-18T09:48:17.304Z"
   },
   {
    "duration": 29,
    "start_time": "2022-03-18T09:48:17.315Z"
   },
   {
    "duration": 5,
    "start_time": "2022-03-18T09:48:17.345Z"
   },
   {
    "duration": 7,
    "start_time": "2022-03-18T09:48:17.351Z"
   },
   {
    "duration": 9,
    "start_time": "2022-03-18T09:48:17.359Z"
   },
   {
    "duration": 10,
    "start_time": "2022-03-18T09:48:17.369Z"
   },
   {
    "duration": 7,
    "start_time": "2022-03-18T09:48:17.380Z"
   },
   {
    "duration": 10,
    "start_time": "2022-03-18T09:48:17.389Z"
   },
   {
    "duration": 10,
    "start_time": "2022-03-18T09:48:17.401Z"
   },
   {
    "duration": 4,
    "start_time": "2022-03-18T09:48:17.433Z"
   },
   {
    "duration": 8,
    "start_time": "2022-03-18T09:48:17.438Z"
   },
   {
    "duration": 16,
    "start_time": "2022-03-18T09:48:17.447Z"
   },
   {
    "duration": 48,
    "start_time": "2022-03-18T09:48:17.465Z"
   },
   {
    "duration": 26,
    "start_time": "2022-03-18T09:48:17.533Z"
   },
   {
    "duration": 21,
    "start_time": "2022-03-18T09:48:17.563Z"
   },
   {
    "duration": 20,
    "start_time": "2022-03-18T09:48:17.585Z"
   },
   {
    "duration": 33,
    "start_time": "2022-03-18T09:48:17.606Z"
   },
   {
    "duration": 9,
    "start_time": "2022-03-18T09:48:17.641Z"
   },
   {
    "duration": 4,
    "start_time": "2022-03-18T09:48:17.652Z"
   },
   {
    "duration": 9,
    "start_time": "2022-03-18T09:48:17.658Z"
   },
   {
    "duration": 6,
    "start_time": "2022-03-18T09:48:17.668Z"
   },
   {
    "duration": 26,
    "start_time": "2022-03-18T09:48:17.676Z"
   },
   {
    "duration": 30,
    "start_time": "2022-03-18T09:48:17.704Z"
   },
   {
    "duration": 4,
    "start_time": "2022-03-18T09:48:17.736Z"
   },
   {
    "duration": 26,
    "start_time": "2022-03-18T09:48:17.741Z"
   },
   {
    "duration": 7,
    "start_time": "2022-03-18T09:48:17.768Z"
   },
   {
    "duration": 13,
    "start_time": "2022-03-18T09:48:17.777Z"
   },
   {
    "duration": 3,
    "start_time": "2022-03-18T09:48:17.791Z"
   },
   {
    "duration": 63,
    "start_time": "2022-03-18T09:48:17.796Z"
   },
   {
    "duration": 14,
    "start_time": "2022-03-18T09:48:17.861Z"
   },
   {
    "duration": 25,
    "start_time": "2022-03-18T09:48:17.877Z"
   },
   {
    "duration": 64,
    "start_time": "2022-03-18T09:48:17.904Z"
   },
   {
    "duration": 5,
    "start_time": "2022-03-18T09:48:17.971Z"
   },
   {
    "duration": 15,
    "start_time": "2022-03-18T09:48:17.978Z"
   },
   {
    "duration": 5,
    "start_time": "2022-03-18T09:48:17.994Z"
   },
   {
    "duration": 18,
    "start_time": "2022-03-18T09:48:18.001Z"
   },
   {
    "duration": 41,
    "start_time": "2022-03-18T09:48:18.034Z"
   },
   {
    "duration": 5,
    "start_time": "2022-03-18T09:48:18.077Z"
   },
   {
    "duration": 16,
    "start_time": "2022-03-18T09:48:18.084Z"
   },
   {
    "duration": 59,
    "start_time": "2022-03-18T09:48:18.102Z"
   },
   {
    "duration": 5,
    "start_time": "2022-03-18T09:48:18.163Z"
   },
   {
    "duration": 15,
    "start_time": "2022-03-18T09:48:18.170Z"
   },
   {
    "duration": 415,
    "start_time": "2022-03-18T09:48:43.327Z"
   },
   {
    "duration": 57,
    "start_time": "2022-03-18T09:48:43.744Z"
   },
   {
    "duration": 19,
    "start_time": "2022-03-18T09:48:43.802Z"
   },
   {
    "duration": 22,
    "start_time": "2022-03-18T09:48:43.823Z"
   },
   {
    "duration": 9,
    "start_time": "2022-03-18T09:48:43.847Z"
   },
   {
    "duration": 12,
    "start_time": "2022-03-18T09:48:43.857Z"
   },
   {
    "duration": 105,
    "start_time": "2022-03-18T09:48:43.871Z"
   },
   {
    "duration": 0,
    "start_time": "2022-03-18T09:48:43.980Z"
   },
   {
    "duration": 0,
    "start_time": "2022-03-18T09:48:43.981Z"
   },
   {
    "duration": 0,
    "start_time": "2022-03-18T09:48:43.982Z"
   },
   {
    "duration": 0,
    "start_time": "2022-03-18T09:48:43.983Z"
   },
   {
    "duration": 0,
    "start_time": "2022-03-18T09:48:43.984Z"
   },
   {
    "duration": 0,
    "start_time": "2022-03-18T09:48:43.985Z"
   },
   {
    "duration": 0,
    "start_time": "2022-03-18T09:48:43.986Z"
   },
   {
    "duration": 0,
    "start_time": "2022-03-18T09:48:43.987Z"
   },
   {
    "duration": 0,
    "start_time": "2022-03-18T09:48:43.988Z"
   },
   {
    "duration": 0,
    "start_time": "2022-03-18T09:48:43.988Z"
   },
   {
    "duration": 0,
    "start_time": "2022-03-18T09:48:43.989Z"
   },
   {
    "duration": 0,
    "start_time": "2022-03-18T09:48:43.990Z"
   },
   {
    "duration": 0,
    "start_time": "2022-03-18T09:48:43.991Z"
   },
   {
    "duration": 0,
    "start_time": "2022-03-18T09:48:43.993Z"
   },
   {
    "duration": 0,
    "start_time": "2022-03-18T09:48:43.994Z"
   },
   {
    "duration": 0,
    "start_time": "2022-03-18T09:48:43.994Z"
   },
   {
    "duration": 0,
    "start_time": "2022-03-18T09:48:43.995Z"
   },
   {
    "duration": 0,
    "start_time": "2022-03-18T09:48:43.996Z"
   },
   {
    "duration": 0,
    "start_time": "2022-03-18T09:48:43.997Z"
   },
   {
    "duration": 0,
    "start_time": "2022-03-18T09:48:43.998Z"
   },
   {
    "duration": 0,
    "start_time": "2022-03-18T09:48:43.999Z"
   },
   {
    "duration": 0,
    "start_time": "2022-03-18T09:48:44.000Z"
   },
   {
    "duration": 0,
    "start_time": "2022-03-18T09:48:44.001Z"
   },
   {
    "duration": 0,
    "start_time": "2022-03-18T09:48:44.002Z"
   },
   {
    "duration": 0,
    "start_time": "2022-03-18T09:48:44.003Z"
   },
   {
    "duration": 0,
    "start_time": "2022-03-18T09:48:44.004Z"
   },
   {
    "duration": 0,
    "start_time": "2022-03-18T09:48:44.005Z"
   },
   {
    "duration": 0,
    "start_time": "2022-03-18T09:48:44.006Z"
   },
   {
    "duration": 0,
    "start_time": "2022-03-18T09:48:44.007Z"
   },
   {
    "duration": 0,
    "start_time": "2022-03-18T09:48:44.008Z"
   },
   {
    "duration": 0,
    "start_time": "2022-03-18T09:48:44.009Z"
   },
   {
    "duration": 0,
    "start_time": "2022-03-18T09:48:44.010Z"
   },
   {
    "duration": 0,
    "start_time": "2022-03-18T09:48:44.011Z"
   },
   {
    "duration": 1,
    "start_time": "2022-03-18T09:48:44.011Z"
   },
   {
    "duration": 0,
    "start_time": "2022-03-18T09:48:44.012Z"
   },
   {
    "duration": 0,
    "start_time": "2022-03-18T09:48:44.013Z"
   },
   {
    "duration": 0,
    "start_time": "2022-03-18T09:48:44.014Z"
   },
   {
    "duration": 0,
    "start_time": "2022-03-18T09:48:44.015Z"
   },
   {
    "duration": 0,
    "start_time": "2022-03-18T09:48:44.032Z"
   },
   {
    "duration": 0,
    "start_time": "2022-03-18T09:48:44.033Z"
   },
   {
    "duration": 0,
    "start_time": "2022-03-18T09:48:44.034Z"
   },
   {
    "duration": 0,
    "start_time": "2022-03-18T09:48:44.035Z"
   },
   {
    "duration": 0,
    "start_time": "2022-03-18T09:48:44.036Z"
   },
   {
    "duration": 0,
    "start_time": "2022-03-18T09:48:44.037Z"
   },
   {
    "duration": 0,
    "start_time": "2022-03-18T09:48:44.038Z"
   },
   {
    "duration": 0,
    "start_time": "2022-03-18T09:48:44.039Z"
   },
   {
    "duration": 0,
    "start_time": "2022-03-18T09:48:44.040Z"
   },
   {
    "duration": 0,
    "start_time": "2022-03-18T09:48:44.041Z"
   },
   {
    "duration": 120,
    "start_time": "2022-03-18T09:49:01.002Z"
   },
   {
    "duration": 122,
    "start_time": "2022-03-18T09:49:06.334Z"
   },
   {
    "duration": 427,
    "start_time": "2022-03-18T09:49:18.422Z"
   },
   {
    "duration": 64,
    "start_time": "2022-03-18T09:49:18.850Z"
   },
   {
    "duration": 18,
    "start_time": "2022-03-18T09:49:18.915Z"
   },
   {
    "duration": 15,
    "start_time": "2022-03-18T09:49:18.935Z"
   },
   {
    "duration": 13,
    "start_time": "2022-03-18T09:49:18.951Z"
   },
   {
    "duration": 11,
    "start_time": "2022-03-18T09:49:18.966Z"
   },
   {
    "duration": 112,
    "start_time": "2022-03-18T09:49:18.979Z"
   },
   {
    "duration": 0,
    "start_time": "2022-03-18T09:49:19.095Z"
   },
   {
    "duration": 0,
    "start_time": "2022-03-18T09:49:19.096Z"
   },
   {
    "duration": 0,
    "start_time": "2022-03-18T09:49:19.097Z"
   },
   {
    "duration": 0,
    "start_time": "2022-03-18T09:49:19.098Z"
   },
   {
    "duration": 0,
    "start_time": "2022-03-18T09:49:19.099Z"
   },
   {
    "duration": 0,
    "start_time": "2022-03-18T09:49:19.100Z"
   },
   {
    "duration": 0,
    "start_time": "2022-03-18T09:49:19.101Z"
   },
   {
    "duration": 0,
    "start_time": "2022-03-18T09:49:19.102Z"
   },
   {
    "duration": 0,
    "start_time": "2022-03-18T09:49:19.103Z"
   },
   {
    "duration": 1,
    "start_time": "2022-03-18T09:49:19.103Z"
   },
   {
    "duration": 0,
    "start_time": "2022-03-18T09:49:19.104Z"
   },
   {
    "duration": 0,
    "start_time": "2022-03-18T09:49:19.105Z"
   },
   {
    "duration": 0,
    "start_time": "2022-03-18T09:49:19.107Z"
   },
   {
    "duration": 0,
    "start_time": "2022-03-18T09:49:19.107Z"
   },
   {
    "duration": 0,
    "start_time": "2022-03-18T09:49:19.108Z"
   },
   {
    "duration": 0,
    "start_time": "2022-03-18T09:49:19.109Z"
   },
   {
    "duration": 0,
    "start_time": "2022-03-18T09:49:19.110Z"
   },
   {
    "duration": 0,
    "start_time": "2022-03-18T09:49:19.111Z"
   },
   {
    "duration": 0,
    "start_time": "2022-03-18T09:49:19.112Z"
   },
   {
    "duration": 0,
    "start_time": "2022-03-18T09:49:19.113Z"
   },
   {
    "duration": 0,
    "start_time": "2022-03-18T09:49:19.114Z"
   },
   {
    "duration": 0,
    "start_time": "2022-03-18T09:49:19.115Z"
   },
   {
    "duration": 0,
    "start_time": "2022-03-18T09:49:19.116Z"
   },
   {
    "duration": 0,
    "start_time": "2022-03-18T09:49:19.117Z"
   },
   {
    "duration": 0,
    "start_time": "2022-03-18T09:49:19.118Z"
   },
   {
    "duration": 0,
    "start_time": "2022-03-18T09:49:19.118Z"
   },
   {
    "duration": 0,
    "start_time": "2022-03-18T09:49:19.120Z"
   },
   {
    "duration": 0,
    "start_time": "2022-03-18T09:49:19.121Z"
   },
   {
    "duration": 0,
    "start_time": "2022-03-18T09:49:19.122Z"
   },
   {
    "duration": 0,
    "start_time": "2022-03-18T09:49:19.123Z"
   },
   {
    "duration": 0,
    "start_time": "2022-03-18T09:49:19.124Z"
   },
   {
    "duration": 0,
    "start_time": "2022-03-18T09:49:19.125Z"
   },
   {
    "duration": 0,
    "start_time": "2022-03-18T09:49:19.126Z"
   },
   {
    "duration": 0,
    "start_time": "2022-03-18T09:49:19.127Z"
   },
   {
    "duration": 0,
    "start_time": "2022-03-18T09:49:19.127Z"
   },
   {
    "duration": 0,
    "start_time": "2022-03-18T09:49:19.128Z"
   },
   {
    "duration": 0,
    "start_time": "2022-03-18T09:49:19.130Z"
   },
   {
    "duration": 0,
    "start_time": "2022-03-18T09:49:19.130Z"
   },
   {
    "duration": 0,
    "start_time": "2022-03-18T09:49:19.132Z"
   },
   {
    "duration": 0,
    "start_time": "2022-03-18T09:49:19.133Z"
   },
   {
    "duration": 0,
    "start_time": "2022-03-18T09:49:19.133Z"
   },
   {
    "duration": 0,
    "start_time": "2022-03-18T09:49:19.134Z"
   },
   {
    "duration": 0,
    "start_time": "2022-03-18T09:49:19.135Z"
   },
   {
    "duration": 0,
    "start_time": "2022-03-18T09:49:19.136Z"
   },
   {
    "duration": 0,
    "start_time": "2022-03-18T09:49:19.137Z"
   },
   {
    "duration": 0,
    "start_time": "2022-03-18T09:49:19.138Z"
   },
   {
    "duration": 0,
    "start_time": "2022-03-18T09:49:19.139Z"
   },
   {
    "duration": 0,
    "start_time": "2022-03-18T09:49:19.141Z"
   },
   {
    "duration": 384,
    "start_time": "2022-03-18T09:49:41.960Z"
   },
   {
    "duration": 57,
    "start_time": "2022-03-18T09:49:42.346Z"
   },
   {
    "duration": 20,
    "start_time": "2022-03-18T09:49:42.404Z"
   },
   {
    "duration": 15,
    "start_time": "2022-03-18T09:49:42.433Z"
   },
   {
    "duration": 9,
    "start_time": "2022-03-18T09:49:42.449Z"
   },
   {
    "duration": 13,
    "start_time": "2022-03-18T09:49:42.460Z"
   },
   {
    "duration": 113,
    "start_time": "2022-03-18T09:49:42.474Z"
   },
   {
    "duration": 0,
    "start_time": "2022-03-18T09:49:42.591Z"
   },
   {
    "duration": 0,
    "start_time": "2022-03-18T09:49:42.593Z"
   },
   {
    "duration": 0,
    "start_time": "2022-03-18T09:49:42.594Z"
   },
   {
    "duration": 0,
    "start_time": "2022-03-18T09:49:42.595Z"
   },
   {
    "duration": 0,
    "start_time": "2022-03-18T09:49:42.596Z"
   },
   {
    "duration": 0,
    "start_time": "2022-03-18T09:49:42.597Z"
   },
   {
    "duration": 0,
    "start_time": "2022-03-18T09:49:42.598Z"
   },
   {
    "duration": 0,
    "start_time": "2022-03-18T09:49:42.599Z"
   },
   {
    "duration": 0,
    "start_time": "2022-03-18T09:49:42.599Z"
   },
   {
    "duration": 0,
    "start_time": "2022-03-18T09:49:42.601Z"
   },
   {
    "duration": 0,
    "start_time": "2022-03-18T09:49:42.602Z"
   },
   {
    "duration": 0,
    "start_time": "2022-03-18T09:49:42.603Z"
   },
   {
    "duration": 0,
    "start_time": "2022-03-18T09:49:42.604Z"
   },
   {
    "duration": 0,
    "start_time": "2022-03-18T09:49:42.605Z"
   },
   {
    "duration": 0,
    "start_time": "2022-03-18T09:49:42.606Z"
   },
   {
    "duration": 0,
    "start_time": "2022-03-18T09:49:42.607Z"
   },
   {
    "duration": 0,
    "start_time": "2022-03-18T09:49:42.608Z"
   },
   {
    "duration": 0,
    "start_time": "2022-03-18T09:49:42.609Z"
   },
   {
    "duration": 0,
    "start_time": "2022-03-18T09:49:42.610Z"
   },
   {
    "duration": 0,
    "start_time": "2022-03-18T09:49:42.611Z"
   },
   {
    "duration": 0,
    "start_time": "2022-03-18T09:49:42.612Z"
   },
   {
    "duration": 1,
    "start_time": "2022-03-18T09:49:42.612Z"
   },
   {
    "duration": 0,
    "start_time": "2022-03-18T09:49:42.614Z"
   },
   {
    "duration": 0,
    "start_time": "2022-03-18T09:49:42.614Z"
   },
   {
    "duration": 0,
    "start_time": "2022-03-18T09:49:42.615Z"
   },
   {
    "duration": 0,
    "start_time": "2022-03-18T09:49:42.617Z"
   },
   {
    "duration": 0,
    "start_time": "2022-03-18T09:49:42.617Z"
   },
   {
    "duration": 0,
    "start_time": "2022-03-18T09:49:42.618Z"
   },
   {
    "duration": 0,
    "start_time": "2022-03-18T09:49:42.619Z"
   },
   {
    "duration": 0,
    "start_time": "2022-03-18T09:49:42.620Z"
   },
   {
    "duration": 0,
    "start_time": "2022-03-18T09:49:42.621Z"
   },
   {
    "duration": 0,
    "start_time": "2022-03-18T09:49:42.622Z"
   },
   {
    "duration": 0,
    "start_time": "2022-03-18T09:49:42.623Z"
   },
   {
    "duration": 0,
    "start_time": "2022-03-18T09:49:42.624Z"
   },
   {
    "duration": 0,
    "start_time": "2022-03-18T09:49:42.624Z"
   },
   {
    "duration": 1,
    "start_time": "2022-03-18T09:49:42.625Z"
   },
   {
    "duration": 0,
    "start_time": "2022-03-18T09:49:42.627Z"
   },
   {
    "duration": 0,
    "start_time": "2022-03-18T09:49:42.628Z"
   },
   {
    "duration": 0,
    "start_time": "2022-03-18T09:49:42.633Z"
   },
   {
    "duration": 0,
    "start_time": "2022-03-18T09:49:42.634Z"
   },
   {
    "duration": 0,
    "start_time": "2022-03-18T09:49:42.634Z"
   },
   {
    "duration": 0,
    "start_time": "2022-03-18T09:49:42.635Z"
   },
   {
    "duration": 0,
    "start_time": "2022-03-18T09:49:42.636Z"
   },
   {
    "duration": 0,
    "start_time": "2022-03-18T09:49:42.638Z"
   },
   {
    "duration": 0,
    "start_time": "2022-03-18T09:49:42.639Z"
   },
   {
    "duration": 0,
    "start_time": "2022-03-18T09:49:42.640Z"
   },
   {
    "duration": 0,
    "start_time": "2022-03-18T09:49:42.641Z"
   },
   {
    "duration": 0,
    "start_time": "2022-03-18T09:49:42.642Z"
   },
   {
    "duration": 394,
    "start_time": "2022-03-18T09:49:54.867Z"
   },
   {
    "duration": 59,
    "start_time": "2022-03-18T09:49:55.263Z"
   },
   {
    "duration": 25,
    "start_time": "2022-03-18T09:49:55.324Z"
   },
   {
    "duration": 15,
    "start_time": "2022-03-18T09:49:55.351Z"
   },
   {
    "duration": 11,
    "start_time": "2022-03-18T09:49:55.367Z"
   },
   {
    "duration": 13,
    "start_time": "2022-03-18T09:49:55.380Z"
   },
   {
    "duration": 5,
    "start_time": "2022-03-18T09:49:55.395Z"
   },
   {
    "duration": 6,
    "start_time": "2022-03-18T09:49:55.432Z"
   },
   {
    "duration": 3314,
    "start_time": "2022-03-18T09:49:55.440Z"
   },
   {
    "duration": 4,
    "start_time": "2022-03-18T09:49:58.757Z"
   },
   {
    "duration": 4,
    "start_time": "2022-03-18T09:49:58.762Z"
   },
   {
    "duration": 21,
    "start_time": "2022-03-18T09:49:58.767Z"
   },
   {
    "duration": 3342,
    "start_time": "2022-03-18T09:49:58.790Z"
   },
   {
    "duration": 10,
    "start_time": "2022-03-18T09:50:02.134Z"
   },
   {
    "duration": 14,
    "start_time": "2022-03-18T09:50:02.146Z"
   },
   {
    "duration": 5,
    "start_time": "2022-03-18T09:50:02.161Z"
   },
   {
    "duration": 9,
    "start_time": "2022-03-18T09:50:02.168Z"
   },
   {
    "duration": 11,
    "start_time": "2022-03-18T09:50:02.178Z"
   },
   {
    "duration": 8,
    "start_time": "2022-03-18T09:50:02.190Z"
   },
   {
    "duration": 32,
    "start_time": "2022-03-18T09:50:02.200Z"
   },
   {
    "duration": 7,
    "start_time": "2022-03-18T09:50:02.234Z"
   },
   {
    "duration": 12,
    "start_time": "2022-03-18T09:50:02.243Z"
   },
   {
    "duration": 16,
    "start_time": "2022-03-18T09:50:02.256Z"
   },
   {
    "duration": 6,
    "start_time": "2022-03-18T09:50:02.274Z"
   },
   {
    "duration": 23,
    "start_time": "2022-03-18T09:50:02.281Z"
   },
   {
    "duration": 56,
    "start_time": "2022-03-18T09:50:02.306Z"
   },
   {
    "duration": 26,
    "start_time": "2022-03-18T09:50:02.364Z"
   },
   {
    "duration": 40,
    "start_time": "2022-03-18T09:50:02.393Z"
   },
   {
    "duration": 21,
    "start_time": "2022-03-18T09:50:02.435Z"
   },
   {
    "duration": 9,
    "start_time": "2022-03-18T09:50:02.458Z"
   },
   {
    "duration": 11,
    "start_time": "2022-03-18T09:50:02.469Z"
   },
   {
    "duration": 4,
    "start_time": "2022-03-18T09:50:02.481Z"
   },
   {
    "duration": 14,
    "start_time": "2022-03-18T09:50:02.487Z"
   },
   {
    "duration": 30,
    "start_time": "2022-03-18T09:50:02.503Z"
   },
   {
    "duration": 50,
    "start_time": "2022-03-18T09:50:02.535Z"
   },
   {
    "duration": 6,
    "start_time": "2022-03-18T09:50:02.587Z"
   },
   {
    "duration": 6,
    "start_time": "2022-03-18T09:50:02.595Z"
   },
   {
    "duration": 21,
    "start_time": "2022-03-18T09:50:02.602Z"
   },
   {
    "duration": 5,
    "start_time": "2022-03-18T09:50:02.625Z"
   },
   {
    "duration": 19,
    "start_time": "2022-03-18T09:50:02.631Z"
   },
   {
    "duration": 9,
    "start_time": "2022-03-18T09:50:02.652Z"
   },
   {
    "duration": 32,
    "start_time": "2022-03-18T09:50:02.663Z"
   },
   {
    "duration": 10,
    "start_time": "2022-03-18T09:50:02.697Z"
   },
   {
    "duration": 25,
    "start_time": "2022-03-18T09:50:02.708Z"
   },
   {
    "duration": 34,
    "start_time": "2022-03-18T09:50:02.735Z"
   },
   {
    "duration": 4,
    "start_time": "2022-03-18T09:50:02.771Z"
   },
   {
    "duration": 13,
    "start_time": "2022-03-18T09:50:02.776Z"
   },
   {
    "duration": 6,
    "start_time": "2022-03-18T09:50:02.791Z"
   },
   {
    "duration": 33,
    "start_time": "2022-03-18T09:50:02.799Z"
   },
   {
    "duration": 28,
    "start_time": "2022-03-18T09:50:02.834Z"
   },
   {
    "duration": 4,
    "start_time": "2022-03-18T09:50:02.864Z"
   },
   {
    "duration": 11,
    "start_time": "2022-03-18T09:50:02.869Z"
   },
   {
    "duration": 27,
    "start_time": "2022-03-18T09:50:02.882Z"
   },
   {
    "duration": 21,
    "start_time": "2022-03-18T09:50:02.911Z"
   },
   {
    "duration": 7,
    "start_time": "2022-03-18T09:50:02.934Z"
   },
   {
    "duration": 394,
    "start_time": "2022-03-18T09:50:23.763Z"
   },
   {
    "duration": 60,
    "start_time": "2022-03-18T09:50:24.158Z"
   },
   {
    "duration": 24,
    "start_time": "2022-03-18T09:50:24.219Z"
   },
   {
    "duration": 15,
    "start_time": "2022-03-18T09:50:24.245Z"
   },
   {
    "duration": 9,
    "start_time": "2022-03-18T09:50:24.262Z"
   },
   {
    "duration": 12,
    "start_time": "2022-03-18T09:50:24.273Z"
   },
   {
    "duration": 4,
    "start_time": "2022-03-18T09:50:24.287Z"
   },
   {
    "duration": 109,
    "start_time": "2022-03-18T09:50:24.293Z"
   },
   {
    "duration": 0,
    "start_time": "2022-03-18T09:50:24.406Z"
   },
   {
    "duration": 0,
    "start_time": "2022-03-18T09:50:24.407Z"
   },
   {
    "duration": 0,
    "start_time": "2022-03-18T09:50:24.408Z"
   },
   {
    "duration": 0,
    "start_time": "2022-03-18T09:50:24.409Z"
   },
   {
    "duration": 0,
    "start_time": "2022-03-18T09:50:24.411Z"
   },
   {
    "duration": 0,
    "start_time": "2022-03-18T09:50:24.411Z"
   },
   {
    "duration": 0,
    "start_time": "2022-03-18T09:50:24.412Z"
   },
   {
    "duration": 0,
    "start_time": "2022-03-18T09:50:24.413Z"
   },
   {
    "duration": 0,
    "start_time": "2022-03-18T09:50:24.414Z"
   },
   {
    "duration": 0,
    "start_time": "2022-03-18T09:50:24.415Z"
   },
   {
    "duration": 0,
    "start_time": "2022-03-18T09:50:24.416Z"
   },
   {
    "duration": 0,
    "start_time": "2022-03-18T09:50:24.417Z"
   },
   {
    "duration": 0,
    "start_time": "2022-03-18T09:50:24.418Z"
   },
   {
    "duration": 0,
    "start_time": "2022-03-18T09:50:24.419Z"
   },
   {
    "duration": 0,
    "start_time": "2022-03-18T09:50:24.420Z"
   },
   {
    "duration": 0,
    "start_time": "2022-03-18T09:50:24.422Z"
   },
   {
    "duration": 0,
    "start_time": "2022-03-18T09:50:24.422Z"
   },
   {
    "duration": 0,
    "start_time": "2022-03-18T09:50:24.423Z"
   },
   {
    "duration": 0,
    "start_time": "2022-03-18T09:50:24.424Z"
   },
   {
    "duration": 0,
    "start_time": "2022-03-18T09:50:24.425Z"
   },
   {
    "duration": 0,
    "start_time": "2022-03-18T09:50:24.426Z"
   },
   {
    "duration": 0,
    "start_time": "2022-03-18T09:50:24.427Z"
   },
   {
    "duration": 0,
    "start_time": "2022-03-18T09:50:24.428Z"
   },
   {
    "duration": 0,
    "start_time": "2022-03-18T09:50:24.429Z"
   },
   {
    "duration": 0,
    "start_time": "2022-03-18T09:50:24.430Z"
   },
   {
    "duration": 0,
    "start_time": "2022-03-18T09:50:24.431Z"
   },
   {
    "duration": 0,
    "start_time": "2022-03-18T09:50:24.432Z"
   },
   {
    "duration": 0,
    "start_time": "2022-03-18T09:50:24.433Z"
   },
   {
    "duration": 0,
    "start_time": "2022-03-18T09:50:24.434Z"
   },
   {
    "duration": 0,
    "start_time": "2022-03-18T09:50:24.435Z"
   },
   {
    "duration": 0,
    "start_time": "2022-03-18T09:50:24.436Z"
   },
   {
    "duration": 0,
    "start_time": "2022-03-18T09:50:24.437Z"
   },
   {
    "duration": 0,
    "start_time": "2022-03-18T09:50:24.439Z"
   },
   {
    "duration": 0,
    "start_time": "2022-03-18T09:50:24.439Z"
   },
   {
    "duration": 0,
    "start_time": "2022-03-18T09:50:24.441Z"
   },
   {
    "duration": 0,
    "start_time": "2022-03-18T09:50:24.442Z"
   },
   {
    "duration": 0,
    "start_time": "2022-03-18T09:50:24.443Z"
   },
   {
    "duration": 0,
    "start_time": "2022-03-18T09:50:24.443Z"
   },
   {
    "duration": 0,
    "start_time": "2022-03-18T09:50:24.444Z"
   },
   {
    "duration": 0,
    "start_time": "2022-03-18T09:50:24.445Z"
   },
   {
    "duration": 0,
    "start_time": "2022-03-18T09:50:24.446Z"
   },
   {
    "duration": 0,
    "start_time": "2022-03-18T09:50:24.447Z"
   },
   {
    "duration": 0,
    "start_time": "2022-03-18T09:50:24.448Z"
   },
   {
    "duration": 0,
    "start_time": "2022-03-18T09:50:24.449Z"
   },
   {
    "duration": 0,
    "start_time": "2022-03-18T09:50:24.450Z"
   },
   {
    "duration": 0,
    "start_time": "2022-03-18T09:50:24.451Z"
   },
   {
    "duration": 0,
    "start_time": "2022-03-18T09:50:24.452Z"
   },
   {
    "duration": 409,
    "start_time": "2022-03-18T09:50:38.946Z"
   },
   {
    "duration": 58,
    "start_time": "2022-03-18T09:50:39.357Z"
   },
   {
    "duration": 31,
    "start_time": "2022-03-18T09:50:39.417Z"
   },
   {
    "duration": 21,
    "start_time": "2022-03-18T09:50:39.451Z"
   },
   {
    "duration": 10,
    "start_time": "2022-03-18T09:50:39.474Z"
   },
   {
    "duration": 16,
    "start_time": "2022-03-18T09:50:39.485Z"
   },
   {
    "duration": 4,
    "start_time": "2022-03-18T09:50:39.503Z"
   },
   {
    "duration": 25,
    "start_time": "2022-03-18T09:50:39.509Z"
   },
   {
    "duration": 3339,
    "start_time": "2022-03-18T09:50:39.535Z"
   },
   {
    "duration": 3,
    "start_time": "2022-03-18T09:50:42.876Z"
   },
   {
    "duration": 5,
    "start_time": "2022-03-18T09:50:42.880Z"
   },
   {
    "duration": 23,
    "start_time": "2022-03-18T09:50:42.886Z"
   },
   {
    "duration": 3376,
    "start_time": "2022-03-18T09:50:42.910Z"
   },
   {
    "duration": 11,
    "start_time": "2022-03-18T09:50:46.288Z"
   },
   {
    "duration": 33,
    "start_time": "2022-03-18T09:50:46.301Z"
   },
   {
    "duration": 5,
    "start_time": "2022-03-18T09:50:46.336Z"
   },
   {
    "duration": 5,
    "start_time": "2022-03-18T09:50:46.343Z"
   },
   {
    "duration": 8,
    "start_time": "2022-03-18T09:50:46.349Z"
   },
   {
    "duration": 11,
    "start_time": "2022-03-18T09:50:46.358Z"
   },
   {
    "duration": 9,
    "start_time": "2022-03-18T09:50:46.371Z"
   },
   {
    "duration": 7,
    "start_time": "2022-03-18T09:50:46.381Z"
   },
   {
    "duration": 10,
    "start_time": "2022-03-18T09:50:46.389Z"
   },
   {
    "duration": 3,
    "start_time": "2022-03-18T09:50:46.401Z"
   },
   {
    "duration": 3,
    "start_time": "2022-03-18T09:50:46.432Z"
   },
   {
    "duration": 21,
    "start_time": "2022-03-18T09:50:46.436Z"
   },
   {
    "duration": 47,
    "start_time": "2022-03-18T09:50:46.459Z"
   },
   {
    "duration": 38,
    "start_time": "2022-03-18T09:50:46.508Z"
   },
   {
    "duration": 21,
    "start_time": "2022-03-18T09:50:46.549Z"
   },
   {
    "duration": 20,
    "start_time": "2022-03-18T09:50:46.571Z"
   },
   {
    "duration": 7,
    "start_time": "2022-03-18T09:50:46.593Z"
   },
   {
    "duration": 37,
    "start_time": "2022-03-18T09:50:46.601Z"
   },
   {
    "duration": 3,
    "start_time": "2022-03-18T09:50:46.640Z"
   },
   {
    "duration": 12,
    "start_time": "2022-03-18T09:50:46.645Z"
   },
   {
    "duration": 8,
    "start_time": "2022-03-18T09:50:46.658Z"
   },
   {
    "duration": 33,
    "start_time": "2022-03-18T09:50:46.667Z"
   },
   {
    "duration": 7,
    "start_time": "2022-03-18T09:50:46.702Z"
   },
   {
    "duration": 5,
    "start_time": "2022-03-18T09:50:46.710Z"
   },
   {
    "duration": 30,
    "start_time": "2022-03-18T09:50:46.716Z"
   },
   {
    "duration": 7,
    "start_time": "2022-03-18T09:50:46.748Z"
   },
   {
    "duration": 14,
    "start_time": "2022-03-18T09:50:46.756Z"
   },
   {
    "duration": 3,
    "start_time": "2022-03-18T09:50:46.771Z"
   },
   {
    "duration": 34,
    "start_time": "2022-03-18T09:50:46.776Z"
   },
   {
    "duration": 29,
    "start_time": "2022-03-18T09:50:46.811Z"
   },
   {
    "duration": 19,
    "start_time": "2022-03-18T09:50:46.842Z"
   },
   {
    "duration": 31,
    "start_time": "2022-03-18T09:50:46.862Z"
   },
   {
    "duration": 4,
    "start_time": "2022-03-18T09:50:46.895Z"
   },
   {
    "duration": 11,
    "start_time": "2022-03-18T09:50:46.901Z"
   },
   {
    "duration": 21,
    "start_time": "2022-03-18T09:50:46.913Z"
   },
   {
    "duration": 21,
    "start_time": "2022-03-18T09:50:46.935Z"
   },
   {
    "duration": 28,
    "start_time": "2022-03-18T09:50:46.957Z"
   },
   {
    "duration": 3,
    "start_time": "2022-03-18T09:50:46.987Z"
   },
   {
    "duration": 9,
    "start_time": "2022-03-18T09:50:46.992Z"
   },
   {
    "duration": 49,
    "start_time": "2022-03-18T09:50:47.003Z"
   },
   {
    "duration": 4,
    "start_time": "2022-03-18T09:50:47.054Z"
   },
   {
    "duration": 16,
    "start_time": "2022-03-18T09:50:47.059Z"
   },
   {
    "duration": 4,
    "start_time": "2022-03-18T10:02:24.017Z"
   },
   {
    "duration": 4,
    "start_time": "2022-03-18T10:02:24.526Z"
   },
   {
    "duration": 111,
    "start_time": "2022-03-18T10:03:51.030Z"
   },
   {
    "duration": 449,
    "start_time": "2022-03-18T10:05:33.397Z"
   },
   {
    "duration": 65,
    "start_time": "2022-03-18T10:05:33.848Z"
   },
   {
    "duration": 26,
    "start_time": "2022-03-18T10:05:33.915Z"
   },
   {
    "duration": 19,
    "start_time": "2022-03-18T10:05:33.943Z"
   },
   {
    "duration": 15,
    "start_time": "2022-03-18T10:05:33.964Z"
   },
   {
    "duration": 15,
    "start_time": "2022-03-18T10:05:33.981Z"
   },
   {
    "duration": 5,
    "start_time": "2022-03-18T10:05:33.998Z"
   },
   {
    "duration": 5,
    "start_time": "2022-03-18T10:05:34.033Z"
   },
   {
    "duration": 5097,
    "start_time": "2022-03-18T10:05:34.040Z"
   },
   {
    "duration": 21,
    "start_time": "2022-03-18T10:05:39.141Z"
   },
   {
    "duration": 3855,
    "start_time": "2022-03-18T10:05:39.164Z"
   },
   {
    "duration": 14,
    "start_time": "2022-03-18T10:05:43.021Z"
   },
   {
    "duration": 16,
    "start_time": "2022-03-18T10:05:43.037Z"
   },
   {
    "duration": 6,
    "start_time": "2022-03-18T10:05:43.055Z"
   },
   {
    "duration": 18,
    "start_time": "2022-03-18T10:05:43.063Z"
   },
   {
    "duration": 9,
    "start_time": "2022-03-18T10:05:43.083Z"
   },
   {
    "duration": 9,
    "start_time": "2022-03-18T10:05:43.094Z"
   },
   {
    "duration": 15,
    "start_time": "2022-03-18T10:05:43.133Z"
   },
   {
    "duration": 5,
    "start_time": "2022-03-18T10:05:43.150Z"
   },
   {
    "duration": 6,
    "start_time": "2022-03-18T10:05:43.158Z"
   },
   {
    "duration": 24,
    "start_time": "2022-03-18T10:05:43.166Z"
   },
   {
    "duration": 74,
    "start_time": "2022-03-18T10:05:43.192Z"
   },
   {
    "duration": 26,
    "start_time": "2022-03-18T10:05:43.267Z"
   },
   {
    "duration": 39,
    "start_time": "2022-03-18T10:05:43.294Z"
   },
   {
    "duration": 20,
    "start_time": "2022-03-18T10:05:43.335Z"
   },
   {
    "duration": 7,
    "start_time": "2022-03-18T10:05:43.357Z"
   },
   {
    "duration": 10,
    "start_time": "2022-03-18T10:05:43.366Z"
   },
   {
    "duration": 6,
    "start_time": "2022-03-18T10:05:43.379Z"
   },
   {
    "duration": 5,
    "start_time": "2022-03-18T10:05:43.386Z"
   },
   {
    "duration": 4,
    "start_time": "2022-03-18T10:05:43.393Z"
   },
   {
    "duration": 44,
    "start_time": "2022-03-18T10:05:43.399Z"
   },
   {
    "duration": 6,
    "start_time": "2022-03-18T10:05:43.445Z"
   },
   {
    "duration": 4,
    "start_time": "2022-03-18T10:05:43.453Z"
   },
   {
    "duration": 24,
    "start_time": "2022-03-18T10:05:43.459Z"
   },
   {
    "duration": 5,
    "start_time": "2022-03-18T10:05:43.485Z"
   },
   {
    "duration": 15,
    "start_time": "2022-03-18T10:05:43.491Z"
   },
   {
    "duration": 27,
    "start_time": "2022-03-18T10:05:43.507Z"
   },
   {
    "duration": 32,
    "start_time": "2022-03-18T10:05:43.535Z"
   },
   {
    "duration": 11,
    "start_time": "2022-03-18T10:05:43.568Z"
   },
   {
    "duration": 23,
    "start_time": "2022-03-18T10:05:43.581Z"
   },
   {
    "duration": 65,
    "start_time": "2022-03-18T10:05:43.606Z"
   },
   {
    "duration": 4,
    "start_time": "2022-03-18T10:05:43.673Z"
   },
   {
    "duration": 11,
    "start_time": "2022-03-18T10:05:43.679Z"
   },
   {
    "duration": 4,
    "start_time": "2022-03-18T10:05:43.692Z"
   },
   {
    "duration": 36,
    "start_time": "2022-03-18T10:05:43.697Z"
   },
   {
    "duration": 28,
    "start_time": "2022-03-18T10:05:43.735Z"
   },
   {
    "duration": 5,
    "start_time": "2022-03-18T10:05:43.764Z"
   },
   {
    "duration": 10,
    "start_time": "2022-03-18T10:05:43.771Z"
   },
   {
    "duration": 62,
    "start_time": "2022-03-18T10:05:43.784Z"
   },
   {
    "duration": 4,
    "start_time": "2022-03-18T10:05:43.848Z"
   },
   {
    "duration": 14,
    "start_time": "2022-03-18T10:05:43.854Z"
   },
   {
    "duration": 119,
    "start_time": "2022-03-18T10:08:18.879Z"
   },
   {
    "duration": 529,
    "start_time": "2022-03-18T10:08:25.621Z"
   },
   {
    "duration": 60,
    "start_time": "2022-03-18T10:08:26.152Z"
   },
   {
    "duration": 28,
    "start_time": "2022-03-18T10:08:26.214Z"
   },
   {
    "duration": 18,
    "start_time": "2022-03-18T10:08:26.244Z"
   },
   {
    "duration": 15,
    "start_time": "2022-03-18T10:08:26.263Z"
   },
   {
    "duration": 17,
    "start_time": "2022-03-18T10:08:26.280Z"
   },
   {
    "duration": 34,
    "start_time": "2022-03-18T10:08:26.300Z"
   },
   {
    "duration": 5,
    "start_time": "2022-03-18T10:08:26.336Z"
   },
   {
    "duration": 4976,
    "start_time": "2022-03-18T10:08:26.343Z"
   },
   {
    "duration": 28,
    "start_time": "2022-03-18T10:08:31.323Z"
   },
   {
    "duration": 4980,
    "start_time": "2022-03-18T10:08:31.353Z"
   },
   {
    "duration": 16,
    "start_time": "2022-03-18T10:08:36.335Z"
   },
   {
    "duration": 25,
    "start_time": "2022-03-18T10:08:36.353Z"
   },
   {
    "duration": 7,
    "start_time": "2022-03-18T10:08:36.380Z"
   },
   {
    "duration": 13,
    "start_time": "2022-03-18T10:08:36.388Z"
   },
   {
    "duration": 31,
    "start_time": "2022-03-18T10:08:36.403Z"
   },
   {
    "duration": 12,
    "start_time": "2022-03-18T10:08:36.436Z"
   },
   {
    "duration": 15,
    "start_time": "2022-03-18T10:08:36.450Z"
   },
   {
    "duration": 107,
    "start_time": "2022-03-18T10:08:36.467Z"
   },
   {
    "duration": 0,
    "start_time": "2022-03-18T10:08:36.576Z"
   },
   {
    "duration": 0,
    "start_time": "2022-03-18T10:08:36.578Z"
   },
   {
    "duration": 0,
    "start_time": "2022-03-18T10:08:36.579Z"
   },
   {
    "duration": 0,
    "start_time": "2022-03-18T10:08:36.580Z"
   },
   {
    "duration": 0,
    "start_time": "2022-03-18T10:08:36.582Z"
   },
   {
    "duration": 0,
    "start_time": "2022-03-18T10:08:36.582Z"
   },
   {
    "duration": 0,
    "start_time": "2022-03-18T10:08:36.583Z"
   },
   {
    "duration": 0,
    "start_time": "2022-03-18T10:08:36.584Z"
   },
   {
    "duration": 0,
    "start_time": "2022-03-18T10:08:36.585Z"
   },
   {
    "duration": 0,
    "start_time": "2022-03-18T10:08:36.586Z"
   },
   {
    "duration": 0,
    "start_time": "2022-03-18T10:08:36.588Z"
   },
   {
    "duration": 0,
    "start_time": "2022-03-18T10:08:36.589Z"
   },
   {
    "duration": 0,
    "start_time": "2022-03-18T10:08:36.590Z"
   },
   {
    "duration": 0,
    "start_time": "2022-03-18T10:08:36.591Z"
   },
   {
    "duration": 0,
    "start_time": "2022-03-18T10:08:36.593Z"
   },
   {
    "duration": 0,
    "start_time": "2022-03-18T10:08:36.593Z"
   },
   {
    "duration": 0,
    "start_time": "2022-03-18T10:08:36.594Z"
   },
   {
    "duration": 0,
    "start_time": "2022-03-18T10:08:36.595Z"
   },
   {
    "duration": 0,
    "start_time": "2022-03-18T10:08:36.597Z"
   },
   {
    "duration": 0,
    "start_time": "2022-03-18T10:08:36.597Z"
   },
   {
    "duration": 0,
    "start_time": "2022-03-18T10:08:36.598Z"
   },
   {
    "duration": 0,
    "start_time": "2022-03-18T10:08:36.599Z"
   },
   {
    "duration": 0,
    "start_time": "2022-03-18T10:08:36.601Z"
   },
   {
    "duration": 0,
    "start_time": "2022-03-18T10:08:36.602Z"
   },
   {
    "duration": 0,
    "start_time": "2022-03-18T10:08:36.603Z"
   },
   {
    "duration": 0,
    "start_time": "2022-03-18T10:08:36.604Z"
   },
   {
    "duration": 0,
    "start_time": "2022-03-18T10:08:36.605Z"
   },
   {
    "duration": 0,
    "start_time": "2022-03-18T10:08:36.606Z"
   },
   {
    "duration": 0,
    "start_time": "2022-03-18T10:08:36.608Z"
   },
   {
    "duration": 0,
    "start_time": "2022-03-18T10:08:36.608Z"
   },
   {
    "duration": 0,
    "start_time": "2022-03-18T10:08:36.609Z"
   },
   {
    "duration": 0,
    "start_time": "2022-03-18T10:08:36.610Z"
   },
   {
    "duration": 0,
    "start_time": "2022-03-18T10:08:36.612Z"
   },
   {
    "duration": 118,
    "start_time": "2022-03-18T10:10:05.102Z"
   },
   {
    "duration": 50,
    "start_time": "2022-03-18T10:10:23.903Z"
   },
   {
    "duration": 423,
    "start_time": "2022-03-18T10:16:37.240Z"
   },
   {
    "duration": 60,
    "start_time": "2022-03-18T10:16:37.665Z"
   },
   {
    "duration": 20,
    "start_time": "2022-03-18T10:16:37.726Z"
   },
   {
    "duration": 15,
    "start_time": "2022-03-18T10:16:37.748Z"
   },
   {
    "duration": 17,
    "start_time": "2022-03-18T10:16:37.765Z"
   },
   {
    "duration": 16,
    "start_time": "2022-03-18T10:16:37.784Z"
   },
   {
    "duration": 35,
    "start_time": "2022-03-18T10:16:37.802Z"
   },
   {
    "duration": 6,
    "start_time": "2022-03-18T10:16:37.839Z"
   },
   {
    "duration": 3403,
    "start_time": "2022-03-18T10:16:37.847Z"
   },
   {
    "duration": 18,
    "start_time": "2022-03-18T10:16:41.253Z"
   },
   {
    "duration": 3580,
    "start_time": "2022-03-18T10:16:41.272Z"
   },
   {
    "duration": 10,
    "start_time": "2022-03-18T10:16:44.853Z"
   },
   {
    "duration": 16,
    "start_time": "2022-03-18T10:16:44.865Z"
   },
   {
    "duration": 5,
    "start_time": "2022-03-18T10:16:44.883Z"
   },
   {
    "duration": 10,
    "start_time": "2022-03-18T10:16:44.889Z"
   },
   {
    "duration": 32,
    "start_time": "2022-03-18T10:16:44.901Z"
   },
   {
    "duration": 7,
    "start_time": "2022-03-18T10:16:44.935Z"
   },
   {
    "duration": 19,
    "start_time": "2022-03-18T10:16:44.944Z"
   },
   {
    "duration": 8,
    "start_time": "2022-03-18T10:16:44.965Z"
   },
   {
    "duration": 7,
    "start_time": "2022-03-18T10:16:44.975Z"
   },
   {
    "duration": 24,
    "start_time": "2022-03-18T10:16:44.984Z"
   },
   {
    "duration": 81,
    "start_time": "2022-03-18T10:16:45.011Z"
   },
   {
    "duration": 39,
    "start_time": "2022-03-18T10:16:45.094Z"
   },
   {
    "duration": 23,
    "start_time": "2022-03-18T10:16:45.135Z"
   },
   {
    "duration": 21,
    "start_time": "2022-03-18T10:16:45.160Z"
   },
   {
    "duration": 8,
    "start_time": "2022-03-18T10:16:45.183Z"
   },
   {
    "duration": 9,
    "start_time": "2022-03-18T10:16:45.192Z"
   },
   {
    "duration": 5,
    "start_time": "2022-03-18T10:16:45.233Z"
   },
   {
    "duration": 8,
    "start_time": "2022-03-18T10:16:45.239Z"
   },
   {
    "duration": 7,
    "start_time": "2022-03-18T10:16:45.248Z"
   },
   {
    "duration": 24,
    "start_time": "2022-03-18T10:16:45.257Z"
   },
   {
    "duration": 7,
    "start_time": "2022-03-18T10:16:45.282Z"
   },
   {
    "duration": 3,
    "start_time": "2022-03-18T10:16:45.291Z"
   },
   {
    "duration": 47,
    "start_time": "2022-03-18T10:16:45.296Z"
   },
   {
    "duration": 7,
    "start_time": "2022-03-18T10:16:45.345Z"
   },
   {
    "duration": 14,
    "start_time": "2022-03-18T10:16:45.353Z"
   },
   {
    "duration": 7,
    "start_time": "2022-03-18T10:16:45.369Z"
   },
   {
    "duration": 30,
    "start_time": "2022-03-18T10:16:45.377Z"
   },
   {
    "duration": 30,
    "start_time": "2022-03-18T10:16:45.409Z"
   },
   {
    "duration": 18,
    "start_time": "2022-03-18T10:16:45.441Z"
   },
   {
    "duration": 32,
    "start_time": "2022-03-18T10:16:45.461Z"
   },
   {
    "duration": 4,
    "start_time": "2022-03-18T10:16:45.494Z"
   },
   {
    "duration": 12,
    "start_time": "2022-03-18T10:16:45.500Z"
   },
   {
    "duration": 4,
    "start_time": "2022-03-18T10:16:45.533Z"
   },
   {
    "duration": 20,
    "start_time": "2022-03-18T10:16:45.538Z"
   },
   {
    "duration": 26,
    "start_time": "2022-03-18T10:16:45.560Z"
   },
   {
    "duration": 4,
    "start_time": "2022-03-18T10:16:45.588Z"
   },
   {
    "duration": 15,
    "start_time": "2022-03-18T10:16:45.593Z"
   },
   {
    "duration": 36,
    "start_time": "2022-03-18T10:16:45.633Z"
   },
   {
    "duration": 4,
    "start_time": "2022-03-18T10:16:45.671Z"
   },
   {
    "duration": 15,
    "start_time": "2022-03-18T10:16:45.677Z"
   },
   {
    "duration": 67,
    "start_time": "2022-03-19T03:28:42.611Z"
   },
   {
    "duration": 501,
    "start_time": "2022-03-19T03:28:49.859Z"
   },
   {
    "duration": 81,
    "start_time": "2022-03-19T03:28:50.435Z"
   },
   {
    "duration": 29,
    "start_time": "2022-03-19T03:28:51.107Z"
   },
   {
    "duration": 22,
    "start_time": "2022-03-19T03:28:51.887Z"
   },
   {
    "duration": 12,
    "start_time": "2022-03-19T03:28:55.272Z"
   },
   {
    "duration": 19,
    "start_time": "2022-03-19T03:28:56.116Z"
   },
   {
    "duration": 6,
    "start_time": "2022-03-19T03:28:57.544Z"
   },
   {
    "duration": 7,
    "start_time": "2022-03-19T03:28:58.991Z"
   },
   {
    "duration": 6,
    "start_time": "2022-03-19T03:28:59.732Z"
   },
   {
    "duration": 89,
    "start_time": "2022-03-19T03:30:13.849Z"
   },
   {
    "duration": 1752,
    "start_time": "2022-03-19T03:30:19.722Z"
   },
   {
    "duration": 11,
    "start_time": "2022-03-19T03:32:38.062Z"
   },
   {
    "duration": 444,
    "start_time": "2022-03-19T07:17:21.170Z"
   },
   {
    "duration": 68,
    "start_time": "2022-03-19T07:17:21.616Z"
   },
   {
    "duration": 16,
    "start_time": "2022-03-19T07:17:21.686Z"
   },
   {
    "duration": 13,
    "start_time": "2022-03-19T07:17:21.704Z"
   },
   {
    "duration": 8,
    "start_time": "2022-03-19T07:17:21.719Z"
   },
   {
    "duration": 12,
    "start_time": "2022-03-19T07:17:21.729Z"
   },
   {
    "duration": 4,
    "start_time": "2022-03-19T07:17:21.742Z"
   },
   {
    "duration": 4,
    "start_time": "2022-03-19T07:17:21.747Z"
   },
   {
    "duration": 3202,
    "start_time": "2022-03-19T07:17:21.753Z"
   },
   {
    "duration": 17,
    "start_time": "2022-03-19T07:17:24.956Z"
   },
   {
    "duration": 3137,
    "start_time": "2022-03-19T07:17:24.974Z"
   },
   {
    "duration": 9,
    "start_time": "2022-03-19T07:17:28.113Z"
   },
   {
    "duration": 20,
    "start_time": "2022-03-19T07:17:28.123Z"
   },
   {
    "duration": 5,
    "start_time": "2022-03-19T07:17:28.146Z"
   },
   {
    "duration": 8,
    "start_time": "2022-03-19T07:17:28.152Z"
   },
   {
    "duration": 5,
    "start_time": "2022-03-19T07:17:28.161Z"
   },
   {
    "duration": 7,
    "start_time": "2022-03-19T07:17:28.167Z"
   },
   {
    "duration": 34,
    "start_time": "2022-03-19T07:17:28.175Z"
   },
   {
    "duration": 5,
    "start_time": "2022-03-19T07:17:28.210Z"
   },
   {
    "duration": 6,
    "start_time": "2022-03-19T07:17:28.216Z"
   },
   {
    "duration": 18,
    "start_time": "2022-03-19T07:17:28.224Z"
   },
   {
    "duration": 58,
    "start_time": "2022-03-19T07:17:28.244Z"
   },
   {
    "duration": 23,
    "start_time": "2022-03-19T07:17:28.303Z"
   },
   {
    "duration": 19,
    "start_time": "2022-03-19T07:17:28.327Z"
   },
   {
    "duration": 20,
    "start_time": "2022-03-19T07:17:28.347Z"
   },
   {
    "duration": 36,
    "start_time": "2022-03-19T07:17:28.369Z"
   },
   {
    "duration": 8,
    "start_time": "2022-03-19T07:17:28.406Z"
   },
   {
    "duration": 4,
    "start_time": "2022-03-19T07:17:28.415Z"
   },
   {
    "duration": 6,
    "start_time": "2022-03-19T07:17:28.420Z"
   },
   {
    "duration": 6,
    "start_time": "2022-03-19T07:17:28.427Z"
   },
   {
    "duration": 25,
    "start_time": "2022-03-19T07:17:28.434Z"
   },
   {
    "duration": 6,
    "start_time": "2022-03-19T07:17:28.460Z"
   },
   {
    "duration": 5,
    "start_time": "2022-03-19T07:17:28.467Z"
   },
   {
    "duration": 40,
    "start_time": "2022-03-19T07:17:28.473Z"
   },
   {
    "duration": 4,
    "start_time": "2022-03-19T07:17:28.514Z"
   },
   {
    "duration": 12,
    "start_time": "2022-03-19T07:17:28.519Z"
   },
   {
    "duration": 6,
    "start_time": "2022-03-19T07:17:28.533Z"
   },
   {
    "duration": 33,
    "start_time": "2022-03-19T07:17:28.541Z"
   },
   {
    "duration": 9,
    "start_time": "2022-03-19T07:17:28.575Z"
   },
   {
    "duration": 15,
    "start_time": "2022-03-19T07:17:28.600Z"
   },
   {
    "duration": 27,
    "start_time": "2022-03-19T07:17:28.619Z"
   },
   {
    "duration": 4,
    "start_time": "2022-03-19T07:17:28.648Z"
   },
   {
    "duration": 9,
    "start_time": "2022-03-19T07:17:28.653Z"
   },
   {
    "duration": 6,
    "start_time": "2022-03-19T07:17:28.664Z"
   },
   {
    "duration": 41,
    "start_time": "2022-03-19T07:17:28.672Z"
   },
   {
    "duration": 24,
    "start_time": "2022-03-19T07:17:28.716Z"
   },
   {
    "duration": 4,
    "start_time": "2022-03-19T07:17:28.741Z"
   },
   {
    "duration": 9,
    "start_time": "2022-03-19T07:17:28.746Z"
   },
   {
    "duration": 28,
    "start_time": "2022-03-19T07:17:28.756Z"
   },
   {
    "duration": 4,
    "start_time": "2022-03-19T07:17:28.801Z"
   },
   {
    "duration": 11,
    "start_time": "2022-03-19T07:17:28.806Z"
   },
   {
    "duration": 8,
    "start_time": "2022-03-19T07:30:44.164Z"
   },
   {
    "duration": 442,
    "start_time": "2022-03-19T07:52:29.640Z"
   },
   {
    "duration": 81,
    "start_time": "2022-03-19T07:52:30.085Z"
   },
   {
    "duration": 17,
    "start_time": "2022-03-19T07:52:30.168Z"
   },
   {
    "duration": 24,
    "start_time": "2022-03-19T07:52:30.187Z"
   },
   {
    "duration": 9,
    "start_time": "2022-03-19T07:52:30.212Z"
   },
   {
    "duration": 12,
    "start_time": "2022-03-19T07:52:30.223Z"
   },
   {
    "duration": 5,
    "start_time": "2022-03-19T07:52:30.236Z"
   },
   {
    "duration": 9,
    "start_time": "2022-03-19T07:52:30.242Z"
   },
   {
    "duration": 3940,
    "start_time": "2022-03-19T07:52:30.253Z"
   },
   {
    "duration": 18,
    "start_time": "2022-03-19T07:52:34.195Z"
   },
   {
    "duration": 3526,
    "start_time": "2022-03-19T07:52:34.214Z"
   },
   {
    "duration": 9,
    "start_time": "2022-03-19T07:52:37.742Z"
   },
   {
    "duration": 13,
    "start_time": "2022-03-19T07:52:37.752Z"
   },
   {
    "duration": 4,
    "start_time": "2022-03-19T07:52:37.767Z"
   },
   {
    "duration": 32,
    "start_time": "2022-03-19T07:52:37.773Z"
   },
   {
    "duration": 4,
    "start_time": "2022-03-19T07:52:37.807Z"
   },
   {
    "duration": 7,
    "start_time": "2022-03-19T07:52:37.813Z"
   },
   {
    "duration": 9,
    "start_time": "2022-03-19T07:52:37.821Z"
   },
   {
    "duration": 3,
    "start_time": "2022-03-19T07:52:37.831Z"
   },
   {
    "duration": 10,
    "start_time": "2022-03-19T07:52:37.835Z"
   },
   {
    "duration": 23,
    "start_time": "2022-03-19T07:52:37.847Z"
   },
   {
    "duration": 67,
    "start_time": "2022-03-19T07:52:37.871Z"
   },
   {
    "duration": 22,
    "start_time": "2022-03-19T07:52:37.939Z"
   },
   {
    "duration": 39,
    "start_time": "2022-03-19T07:52:37.962Z"
   },
   {
    "duration": 19,
    "start_time": "2022-03-19T07:52:38.002Z"
   },
   {
    "duration": 7,
    "start_time": "2022-03-19T07:52:38.022Z"
   },
   {
    "duration": 7,
    "start_time": "2022-03-19T07:52:38.030Z"
   },
   {
    "duration": 3,
    "start_time": "2022-03-19T07:52:38.040Z"
   },
   {
    "duration": 6,
    "start_time": "2022-03-19T07:52:38.045Z"
   },
   {
    "duration": 9,
    "start_time": "2022-03-19T07:52:38.052Z"
   },
   {
    "duration": 39,
    "start_time": "2022-03-19T07:52:38.063Z"
   },
   {
    "duration": 6,
    "start_time": "2022-03-19T07:52:38.104Z"
   },
   {
    "duration": 3,
    "start_time": "2022-03-19T07:52:38.113Z"
   },
   {
    "duration": 25,
    "start_time": "2022-03-19T07:52:38.118Z"
   },
   {
    "duration": 6,
    "start_time": "2022-03-19T07:52:38.145Z"
   },
   {
    "duration": 13,
    "start_time": "2022-03-19T07:52:38.153Z"
   },
   {
    "duration": 3,
    "start_time": "2022-03-19T07:52:38.167Z"
   },
   {
    "duration": 57,
    "start_time": "2022-03-19T07:52:38.171Z"
   },
   {
    "duration": 9,
    "start_time": "2022-03-19T07:52:38.230Z"
   },
   {
    "duration": 16,
    "start_time": "2022-03-19T07:52:38.240Z"
   },
   {
    "duration": 53,
    "start_time": "2022-03-19T07:52:38.258Z"
   },
   {
    "duration": 4,
    "start_time": "2022-03-19T07:52:38.313Z"
   },
   {
    "duration": 10,
    "start_time": "2022-03-19T07:52:38.318Z"
   },
   {
    "duration": 4,
    "start_time": "2022-03-19T07:52:38.329Z"
   },
   {
    "duration": 21,
    "start_time": "2022-03-19T07:52:38.334Z"
   },
   {
    "duration": 51,
    "start_time": "2022-03-19T07:52:38.357Z"
   },
   {
    "duration": 4,
    "start_time": "2022-03-19T07:52:38.409Z"
   },
   {
    "duration": 9,
    "start_time": "2022-03-19T07:52:38.415Z"
   },
   {
    "duration": 36,
    "start_time": "2022-03-19T07:52:38.425Z"
   },
   {
    "duration": 3,
    "start_time": "2022-03-19T07:52:38.462Z"
   },
   {
    "duration": 10,
    "start_time": "2022-03-19T07:52:38.467Z"
   },
   {
    "duration": 410,
    "start_time": "2022-03-19T07:53:03.415Z"
   },
   {
    "duration": 61,
    "start_time": "2022-03-19T07:53:03.827Z"
   },
   {
    "duration": 18,
    "start_time": "2022-03-19T07:53:03.889Z"
   },
   {
    "duration": 15,
    "start_time": "2022-03-19T07:53:03.909Z"
   },
   {
    "duration": 10,
    "start_time": "2022-03-19T07:53:03.926Z"
   },
   {
    "duration": 12,
    "start_time": "2022-03-19T07:53:03.938Z"
   },
   {
    "duration": 5,
    "start_time": "2022-03-19T07:53:03.952Z"
   },
   {
    "duration": 5,
    "start_time": "2022-03-19T07:53:03.959Z"
   },
   {
    "duration": 3192,
    "start_time": "2022-03-19T07:53:04.001Z"
   },
   {
    "duration": 21,
    "start_time": "2022-03-19T07:53:07.195Z"
   },
   {
    "duration": 3860,
    "start_time": "2022-03-19T07:53:07.218Z"
   },
   {
    "duration": 9,
    "start_time": "2022-03-19T07:53:11.080Z"
   },
   {
    "duration": 15,
    "start_time": "2022-03-19T07:53:11.101Z"
   },
   {
    "duration": 6,
    "start_time": "2022-03-19T07:53:11.117Z"
   },
   {
    "duration": 7,
    "start_time": "2022-03-19T07:53:11.124Z"
   },
   {
    "duration": 6,
    "start_time": "2022-03-19T07:53:11.132Z"
   },
   {
    "duration": 8,
    "start_time": "2022-03-19T07:53:11.139Z"
   },
   {
    "duration": 10,
    "start_time": "2022-03-19T07:53:11.148Z"
   },
   {
    "duration": 43,
    "start_time": "2022-03-19T07:53:11.160Z"
   },
   {
    "duration": 8,
    "start_time": "2022-03-19T07:53:11.205Z"
   },
   {
    "duration": 21,
    "start_time": "2022-03-19T07:53:11.215Z"
   },
   {
    "duration": 82,
    "start_time": "2022-03-19T07:53:11.238Z"
   },
   {
    "duration": 36,
    "start_time": "2022-03-19T07:53:11.322Z"
   },
   {
    "duration": 27,
    "start_time": "2022-03-19T07:53:11.359Z"
   },
   {
    "duration": 26,
    "start_time": "2022-03-19T07:53:11.402Z"
   },
   {
    "duration": 9,
    "start_time": "2022-03-19T07:53:11.430Z"
   },
   {
    "duration": 9,
    "start_time": "2022-03-19T07:53:11.441Z"
   },
   {
    "duration": 4,
    "start_time": "2022-03-19T07:53:11.454Z"
   },
   {
    "duration": 5,
    "start_time": "2022-03-19T07:53:11.459Z"
   },
   {
    "duration": 5,
    "start_time": "2022-03-19T07:53:11.466Z"
   },
   {
    "duration": 53,
    "start_time": "2022-03-19T07:53:11.472Z"
   },
   {
    "duration": 7,
    "start_time": "2022-03-19T07:53:11.527Z"
   },
   {
    "duration": 4,
    "start_time": "2022-03-19T07:53:11.535Z"
   },
   {
    "duration": 23,
    "start_time": "2022-03-19T07:53:11.540Z"
   },
   {
    "duration": 4,
    "start_time": "2022-03-19T07:53:11.565Z"
   },
   {
    "duration": 14,
    "start_time": "2022-03-19T07:53:11.570Z"
   },
   {
    "duration": 2,
    "start_time": "2022-03-19T07:53:11.585Z"
   },
   {
    "duration": 37,
    "start_time": "2022-03-19T07:53:11.600Z"
   },
   {
    "duration": 12,
    "start_time": "2022-03-19T07:53:11.639Z"
   },
   {
    "duration": 14,
    "start_time": "2022-03-19T07:53:11.652Z"
   },
   {
    "duration": 53,
    "start_time": "2022-03-19T07:53:11.667Z"
   },
   {
    "duration": 4,
    "start_time": "2022-03-19T07:53:11.722Z"
   },
   {
    "duration": 9,
    "start_time": "2022-03-19T07:53:11.727Z"
   },
   {
    "duration": 4,
    "start_time": "2022-03-19T07:53:11.738Z"
   },
   {
    "duration": 20,
    "start_time": "2022-03-19T07:53:11.743Z"
   },
   {
    "duration": 49,
    "start_time": "2022-03-19T07:53:11.764Z"
   },
   {
    "duration": 4,
    "start_time": "2022-03-19T07:53:11.814Z"
   },
   {
    "duration": 9,
    "start_time": "2022-03-19T07:53:11.819Z"
   },
   {
    "duration": 26,
    "start_time": "2022-03-19T07:53:11.829Z"
   },
   {
    "duration": 4,
    "start_time": "2022-03-19T07:53:11.856Z"
   },
   {
    "duration": 10,
    "start_time": "2022-03-19T07:53:11.861Z"
   },
   {
    "duration": 4217,
    "start_time": "2022-03-19T07:53:11.874Z"
   },
   {
    "duration": 0,
    "start_time": "2022-03-19T07:53:16.093Z"
   },
   {
    "duration": 424,
    "start_time": "2022-03-19T07:53:26.072Z"
   },
   {
    "duration": 923,
    "start_time": "2022-03-19T07:53:26.498Z"
   },
   {
    "duration": 28,
    "start_time": "2022-03-19T07:53:27.423Z"
   },
   {
    "duration": 15,
    "start_time": "2022-03-19T07:53:27.453Z"
   },
   {
    "duration": 13,
    "start_time": "2022-03-19T07:53:27.469Z"
   },
   {
    "duration": 30,
    "start_time": "2022-03-19T07:53:27.483Z"
   },
   {
    "duration": 5,
    "start_time": "2022-03-19T07:53:27.514Z"
   },
   {
    "duration": 12,
    "start_time": "2022-03-19T07:53:27.520Z"
   },
   {
    "duration": 3313,
    "start_time": "2022-03-19T07:53:27.533Z"
   },
   {
    "duration": 17,
    "start_time": "2022-03-19T07:53:30.850Z"
   },
   {
    "duration": 3381,
    "start_time": "2022-03-19T07:53:30.869Z"
   },
   {
    "duration": 11,
    "start_time": "2022-03-19T07:53:34.252Z"
   },
   {
    "duration": 14,
    "start_time": "2022-03-19T07:53:34.264Z"
   },
   {
    "duration": 24,
    "start_time": "2022-03-19T07:53:34.279Z"
   },
   {
    "duration": 7,
    "start_time": "2022-03-19T07:53:34.305Z"
   },
   {
    "duration": 5,
    "start_time": "2022-03-19T07:53:34.313Z"
   },
   {
    "duration": 7,
    "start_time": "2022-03-19T07:53:34.319Z"
   },
   {
    "duration": 10,
    "start_time": "2022-03-19T07:53:34.327Z"
   },
   {
    "duration": 4,
    "start_time": "2022-03-19T07:53:34.338Z"
   },
   {
    "duration": 11,
    "start_time": "2022-03-19T07:53:34.343Z"
   },
   {
    "duration": 19,
    "start_time": "2022-03-19T07:53:34.356Z"
   },
   {
    "duration": 68,
    "start_time": "2022-03-19T07:53:34.376Z"
   },
   {
    "duration": 24,
    "start_time": "2022-03-19T07:53:34.446Z"
   },
   {
    "duration": 36,
    "start_time": "2022-03-19T07:53:34.471Z"
   },
   {
    "duration": 19,
    "start_time": "2022-03-19T07:53:34.509Z"
   },
   {
    "duration": 8,
    "start_time": "2022-03-19T07:53:34.529Z"
   },
   {
    "duration": 17,
    "start_time": "2022-03-19T07:53:34.538Z"
   },
   {
    "duration": 6,
    "start_time": "2022-03-19T07:53:34.559Z"
   },
   {
    "duration": 10,
    "start_time": "2022-03-19T07:53:34.566Z"
   },
   {
    "duration": 14,
    "start_time": "2022-03-19T07:53:34.577Z"
   },
   {
    "duration": 27,
    "start_time": "2022-03-19T07:53:34.592Z"
   },
   {
    "duration": 5,
    "start_time": "2022-03-19T07:53:34.621Z"
   },
   {
    "duration": 7,
    "start_time": "2022-03-19T07:53:34.627Z"
   },
   {
    "duration": 26,
    "start_time": "2022-03-19T07:53:34.635Z"
   },
   {
    "duration": 5,
    "start_time": "2022-03-19T07:53:34.663Z"
   },
   {
    "duration": 15,
    "start_time": "2022-03-19T07:53:34.669Z"
   },
   {
    "duration": 16,
    "start_time": "2022-03-19T07:53:34.685Z"
   },
   {
    "duration": 27,
    "start_time": "2022-03-19T07:53:34.702Z"
   },
   {
    "duration": 8,
    "start_time": "2022-03-19T07:53:34.731Z"
   },
   {
    "duration": 18,
    "start_time": "2022-03-19T07:53:34.741Z"
   },
   {
    "duration": 44,
    "start_time": "2022-03-19T07:53:34.761Z"
   },
   {
    "duration": 4,
    "start_time": "2022-03-19T07:53:34.806Z"
   },
   {
    "duration": 11,
    "start_time": "2022-03-19T07:53:34.811Z"
   },
   {
    "duration": 9,
    "start_time": "2022-03-19T07:53:34.824Z"
   },
   {
    "duration": 23,
    "start_time": "2022-03-19T07:53:34.835Z"
   },
   {
    "duration": 26,
    "start_time": "2022-03-19T07:53:34.860Z"
   },
   {
    "duration": 13,
    "start_time": "2022-03-19T07:53:34.888Z"
   },
   {
    "duration": 11,
    "start_time": "2022-03-19T07:53:34.903Z"
   },
   {
    "duration": 32,
    "start_time": "2022-03-19T07:53:34.915Z"
   },
   {
    "duration": 3,
    "start_time": "2022-03-19T07:53:34.949Z"
   },
   {
    "duration": 14,
    "start_time": "2022-03-19T07:53:34.954Z"
   },
   {
    "duration": 406,
    "start_time": "2022-03-19T08:18:41.588Z"
   },
   {
    "duration": 70,
    "start_time": "2022-03-19T08:18:41.996Z"
   },
   {
    "duration": 17,
    "start_time": "2022-03-19T08:18:42.068Z"
   },
   {
    "duration": 13,
    "start_time": "2022-03-19T08:18:42.087Z"
   },
   {
    "duration": 9,
    "start_time": "2022-03-19T08:18:42.102Z"
   },
   {
    "duration": 13,
    "start_time": "2022-03-19T08:18:42.112Z"
   },
   {
    "duration": 5,
    "start_time": "2022-03-19T08:18:42.126Z"
   },
   {
    "duration": 5,
    "start_time": "2022-03-19T08:18:42.132Z"
   },
   {
    "duration": 3070,
    "start_time": "2022-03-19T08:18:42.138Z"
   },
   {
    "duration": 16,
    "start_time": "2022-03-19T08:18:45.211Z"
   },
   {
    "duration": 3090,
    "start_time": "2022-03-19T08:18:45.229Z"
   },
   {
    "duration": 10,
    "start_time": "2022-03-19T08:18:48.320Z"
   },
   {
    "duration": 13,
    "start_time": "2022-03-19T08:18:48.332Z"
   },
   {
    "duration": 4,
    "start_time": "2022-03-19T08:18:48.347Z"
   },
   {
    "duration": 6,
    "start_time": "2022-03-19T08:18:48.352Z"
   },
   {
    "duration": 5,
    "start_time": "2022-03-19T08:18:48.360Z"
   },
   {
    "duration": 36,
    "start_time": "2022-03-19T08:18:48.366Z"
   },
   {
    "duration": 9,
    "start_time": "2022-03-19T08:18:48.403Z"
   },
   {
    "duration": 4,
    "start_time": "2022-03-19T08:18:48.413Z"
   },
   {
    "duration": 11,
    "start_time": "2022-03-19T08:18:48.418Z"
   },
   {
    "duration": 18,
    "start_time": "2022-03-19T08:18:48.431Z"
   },
   {
    "duration": 63,
    "start_time": "2022-03-19T08:18:48.450Z"
   },
   {
    "duration": 24,
    "start_time": "2022-03-19T08:18:48.515Z"
   },
   {
    "duration": 19,
    "start_time": "2022-03-19T08:18:48.541Z"
   },
   {
    "duration": 44,
    "start_time": "2022-03-19T08:18:48.562Z"
   },
   {
    "duration": 9,
    "start_time": "2022-03-19T08:18:48.608Z"
   },
   {
    "duration": 9,
    "start_time": "2022-03-19T08:18:48.618Z"
   },
   {
    "duration": 3,
    "start_time": "2022-03-19T08:18:48.631Z"
   },
   {
    "duration": 6,
    "start_time": "2022-03-19T08:18:48.636Z"
   },
   {
    "duration": 5,
    "start_time": "2022-03-19T08:18:48.644Z"
   },
   {
    "duration": 22,
    "start_time": "2022-03-19T08:18:48.650Z"
   },
   {
    "duration": 30,
    "start_time": "2022-03-19T08:18:48.674Z"
   },
   {
    "duration": 3,
    "start_time": "2022-03-19T08:18:48.706Z"
   },
   {
    "duration": 23,
    "start_time": "2022-03-19T08:18:48.711Z"
   },
   {
    "duration": 5,
    "start_time": "2022-03-19T08:18:48.736Z"
   },
   {
    "duration": 12,
    "start_time": "2022-03-19T08:18:48.743Z"
   },
   {
    "duration": 2,
    "start_time": "2022-03-19T08:18:48.757Z"
   },
   {
    "duration": 52,
    "start_time": "2022-03-19T08:18:48.761Z"
   },
   {
    "duration": 8,
    "start_time": "2022-03-19T08:18:48.815Z"
   },
   {
    "duration": 15,
    "start_time": "2022-03-19T08:18:48.825Z"
   },
   {
    "duration": 27,
    "start_time": "2022-03-19T08:18:48.841Z"
   },
   {
    "duration": 4,
    "start_time": "2022-03-19T08:18:48.870Z"
   },
   {
    "duration": 8,
    "start_time": "2022-03-19T08:18:48.900Z"
   },
   {
    "duration": 4,
    "start_time": "2022-03-19T08:18:48.910Z"
   },
   {
    "duration": 19,
    "start_time": "2022-03-19T08:18:48.916Z"
   },
   {
    "duration": 24,
    "start_time": "2022-03-19T08:18:48.936Z"
   },
   {
    "duration": 4,
    "start_time": "2022-03-19T08:18:48.961Z"
   },
   {
    "duration": 35,
    "start_time": "2022-03-19T08:18:48.966Z"
   },
   {
    "duration": 23,
    "start_time": "2022-03-19T08:18:49.002Z"
   },
   {
    "duration": 4,
    "start_time": "2022-03-19T08:18:49.026Z"
   },
   {
    "duration": 9,
    "start_time": "2022-03-19T08:18:49.031Z"
   },
   {
    "duration": 409,
    "start_time": "2022-03-19T08:19:14.574Z"
   },
   {
    "duration": 60,
    "start_time": "2022-03-19T08:19:14.985Z"
   },
   {
    "duration": 18,
    "start_time": "2022-03-19T08:19:15.046Z"
   },
   {
    "duration": 14,
    "start_time": "2022-03-19T08:19:15.066Z"
   },
   {
    "duration": 23,
    "start_time": "2022-03-19T08:19:15.081Z"
   },
   {
    "duration": 12,
    "start_time": "2022-03-19T08:19:15.105Z"
   },
   {
    "duration": 4,
    "start_time": "2022-03-19T08:19:15.118Z"
   },
   {
    "duration": 4,
    "start_time": "2022-03-19T08:19:15.123Z"
   },
   {
    "duration": 3227,
    "start_time": "2022-03-19T08:19:15.128Z"
   },
   {
    "duration": 18,
    "start_time": "2022-03-19T08:19:18.358Z"
   },
   {
    "duration": 3344,
    "start_time": "2022-03-19T08:19:18.377Z"
   },
   {
    "duration": 9,
    "start_time": "2022-03-19T08:19:21.722Z"
   },
   {
    "duration": 13,
    "start_time": "2022-03-19T08:19:21.733Z"
   },
   {
    "duration": 4,
    "start_time": "2022-03-19T08:19:21.748Z"
   },
   {
    "duration": 7,
    "start_time": "2022-03-19T08:19:21.753Z"
   },
   {
    "duration": 4,
    "start_time": "2022-03-19T08:19:21.761Z"
   },
   {
    "duration": 36,
    "start_time": "2022-03-19T08:19:21.766Z"
   },
   {
    "duration": 9,
    "start_time": "2022-03-19T08:19:21.804Z"
   },
   {
    "duration": 3,
    "start_time": "2022-03-19T08:19:21.814Z"
   },
   {
    "duration": 9,
    "start_time": "2022-03-19T08:19:21.819Z"
   },
   {
    "duration": 18,
    "start_time": "2022-03-19T08:19:21.830Z"
   },
   {
    "duration": 56,
    "start_time": "2022-03-19T08:19:21.850Z"
   },
   {
    "duration": 22,
    "start_time": "2022-03-19T08:19:21.907Z"
   },
   {
    "duration": 17,
    "start_time": "2022-03-19T08:19:21.931Z"
   },
   {
    "duration": 18,
    "start_time": "2022-03-19T08:19:21.949Z"
   },
   {
    "duration": 6,
    "start_time": "2022-03-19T08:19:21.969Z"
   },
   {
    "duration": 29,
    "start_time": "2022-03-19T08:19:21.976Z"
   },
   {
    "duration": 4,
    "start_time": "2022-03-19T08:19:22.008Z"
   },
   {
    "duration": 7,
    "start_time": "2022-03-19T08:19:22.013Z"
   },
   {
    "duration": 7,
    "start_time": "2022-03-19T08:19:22.021Z"
   },
   {
    "duration": 22,
    "start_time": "2022-03-19T08:19:22.029Z"
   },
   {
    "duration": 5,
    "start_time": "2022-03-19T08:19:22.052Z"
   },
   {
    "duration": 5,
    "start_time": "2022-03-19T08:19:22.058Z"
   },
   {
    "duration": 27,
    "start_time": "2022-03-19T08:19:22.064Z"
   },
   {
    "duration": 11,
    "start_time": "2022-03-19T08:19:22.092Z"
   },
   {
    "duration": 12,
    "start_time": "2022-03-19T08:19:22.104Z"
   },
   {
    "duration": 7,
    "start_time": "2022-03-19T08:19:22.118Z"
   },
   {
    "duration": 33,
    "start_time": "2022-03-19T08:19:22.126Z"
   },
   {
    "duration": 9,
    "start_time": "2022-03-19T08:19:22.160Z"
   },
   {
    "duration": 30,
    "start_time": "2022-03-19T08:19:22.171Z"
   },
   {
    "duration": 27,
    "start_time": "2022-03-19T08:19:22.203Z"
   },
   {
    "duration": 3,
    "start_time": "2022-03-19T08:19:22.232Z"
   },
   {
    "duration": 11,
    "start_time": "2022-03-19T08:19:22.236Z"
   },
   {
    "duration": 6,
    "start_time": "2022-03-19T08:19:22.248Z"
   },
   {
    "duration": 21,
    "start_time": "2022-03-19T08:19:22.255Z"
   },
   {
    "duration": 35,
    "start_time": "2022-03-19T08:19:22.278Z"
   },
   {
    "duration": 3,
    "start_time": "2022-03-19T08:19:22.315Z"
   },
   {
    "duration": 8,
    "start_time": "2022-03-19T08:19:22.319Z"
   },
   {
    "duration": 26,
    "start_time": "2022-03-19T08:19:22.329Z"
   },
   {
    "duration": 3,
    "start_time": "2022-03-19T08:19:22.357Z"
   },
   {
    "duration": 12,
    "start_time": "2022-03-19T08:19:22.361Z"
   },
   {
    "duration": 3,
    "start_time": "2022-03-19T08:49:49.132Z"
   },
   {
    "duration": 9,
    "start_time": "2022-03-19T09:59:55.990Z"
   },
   {
    "duration": 338,
    "start_time": "2022-03-19T10:00:24.551Z"
   },
   {
    "duration": 58,
    "start_time": "2022-03-19T10:00:24.891Z"
   },
   {
    "duration": 16,
    "start_time": "2022-03-19T10:00:24.951Z"
   },
   {
    "duration": 14,
    "start_time": "2022-03-19T10:00:24.969Z"
   },
   {
    "duration": 21,
    "start_time": "2022-03-19T10:00:24.984Z"
   },
   {
    "duration": 11,
    "start_time": "2022-03-19T10:00:25.006Z"
   },
   {
    "duration": 4,
    "start_time": "2022-03-19T10:00:25.018Z"
   },
   {
    "duration": 5,
    "start_time": "2022-03-19T10:00:25.023Z"
   },
   {
    "duration": 3162,
    "start_time": "2022-03-19T10:00:25.029Z"
   },
   {
    "duration": 22,
    "start_time": "2022-03-19T10:00:28.194Z"
   },
   {
    "duration": 3204,
    "start_time": "2022-03-19T10:00:28.218Z"
   },
   {
    "duration": 9,
    "start_time": "2022-03-19T10:00:31.423Z"
   },
   {
    "duration": 47,
    "start_time": "2022-03-19T10:00:31.434Z"
   },
   {
    "duration": 36,
    "start_time": "2022-03-19T10:00:31.482Z"
   },
   {
    "duration": 25,
    "start_time": "2022-03-19T10:00:31.519Z"
   },
   {
    "duration": 4,
    "start_time": "2022-03-19T10:00:31.546Z"
   },
   {
    "duration": 9,
    "start_time": "2022-03-19T10:00:31.552Z"
   },
   {
    "duration": 10,
    "start_time": "2022-03-19T10:00:31.562Z"
   },
   {
    "duration": 3,
    "start_time": "2022-03-19T10:00:31.573Z"
   },
   {
    "duration": 6,
    "start_time": "2022-03-19T10:00:31.577Z"
   },
   {
    "duration": 18,
    "start_time": "2022-03-19T10:00:31.584Z"
   },
   {
    "duration": 45,
    "start_time": "2022-03-19T10:00:31.603Z"
   },
   {
    "duration": 22,
    "start_time": "2022-03-19T10:00:31.650Z"
   },
   {
    "duration": 34,
    "start_time": "2022-03-19T10:00:31.674Z"
   },
   {
    "duration": 19,
    "start_time": "2022-03-19T10:00:31.710Z"
   },
   {
    "duration": 8,
    "start_time": "2022-03-19T10:00:31.731Z"
   },
   {
    "duration": 9,
    "start_time": "2022-03-19T10:00:31.741Z"
   },
   {
    "duration": 3,
    "start_time": "2022-03-19T10:00:31.754Z"
   },
   {
    "duration": 8,
    "start_time": "2022-03-19T10:00:31.759Z"
   },
   {
    "duration": 9,
    "start_time": "2022-03-19T10:00:31.768Z"
   },
   {
    "duration": 34,
    "start_time": "2022-03-19T10:00:31.778Z"
   },
   {
    "duration": 10,
    "start_time": "2022-03-19T10:00:31.814Z"
   },
   {
    "duration": 5,
    "start_time": "2022-03-19T10:00:31.826Z"
   },
   {
    "duration": 27,
    "start_time": "2022-03-19T10:00:31.832Z"
   },
   {
    "duration": 6,
    "start_time": "2022-03-19T10:00:31.861Z"
   },
   {
    "duration": 15,
    "start_time": "2022-03-19T10:00:31.869Z"
   },
   {
    "duration": 3,
    "start_time": "2022-03-19T10:00:31.901Z"
   },
   {
    "duration": 31,
    "start_time": "2022-03-19T10:00:31.905Z"
   },
   {
    "duration": 8,
    "start_time": "2022-03-19T10:00:31.937Z"
   },
   {
    "duration": 15,
    "start_time": "2022-03-19T10:00:31.947Z"
   },
   {
    "duration": 42,
    "start_time": "2022-03-19T10:00:31.963Z"
   },
   {
    "duration": 8,
    "start_time": "2022-03-19T10:00:32.007Z"
   },
   {
    "duration": 7,
    "start_time": "2022-03-19T10:00:32.016Z"
   },
   {
    "duration": 22,
    "start_time": "2022-03-19T10:00:32.024Z"
   },
   {
    "duration": 24,
    "start_time": "2022-03-19T10:00:32.047Z"
   },
   {
    "duration": 4,
    "start_time": "2022-03-19T10:00:32.072Z"
   },
   {
    "duration": 27,
    "start_time": "2022-03-19T10:00:32.077Z"
   },
   {
    "duration": 24,
    "start_time": "2022-03-19T10:00:32.105Z"
   },
   {
    "duration": 3,
    "start_time": "2022-03-19T10:00:32.130Z"
   },
   {
    "duration": 10,
    "start_time": "2022-03-19T10:00:32.135Z"
   },
   {
    "duration": 412,
    "start_time": "2022-03-19T10:16:18.971Z"
   },
   {
    "duration": 70,
    "start_time": "2022-03-19T10:16:19.385Z"
   },
   {
    "duration": 17,
    "start_time": "2022-03-19T10:16:19.457Z"
   },
   {
    "duration": 13,
    "start_time": "2022-03-19T10:16:19.476Z"
   },
   {
    "duration": 11,
    "start_time": "2022-03-19T10:16:19.490Z"
   },
   {
    "duration": 11,
    "start_time": "2022-03-19T10:16:19.503Z"
   },
   {
    "duration": 4,
    "start_time": "2022-03-19T10:16:19.515Z"
   },
   {
    "duration": 9,
    "start_time": "2022-03-19T10:16:19.520Z"
   },
   {
    "duration": 3307,
    "start_time": "2022-03-19T10:16:19.530Z"
   },
   {
    "duration": 18,
    "start_time": "2022-03-19T10:16:22.840Z"
   },
   {
    "duration": 3404,
    "start_time": "2022-03-19T10:16:22.859Z"
   },
   {
    "duration": 10,
    "start_time": "2022-03-19T10:16:26.264Z"
   },
   {
    "duration": 28,
    "start_time": "2022-03-19T10:16:26.276Z"
   },
   {
    "duration": 5,
    "start_time": "2022-03-19T10:16:26.306Z"
   },
   {
    "duration": 8,
    "start_time": "2022-03-19T10:16:26.313Z"
   },
   {
    "duration": 5,
    "start_time": "2022-03-19T10:16:26.322Z"
   },
   {
    "duration": 6,
    "start_time": "2022-03-19T10:16:26.329Z"
   },
   {
    "duration": 10,
    "start_time": "2022-03-19T10:16:26.336Z"
   },
   {
    "duration": 5,
    "start_time": "2022-03-19T10:16:26.347Z"
   },
   {
    "duration": 10,
    "start_time": "2022-03-19T10:16:26.354Z"
   },
   {
    "duration": 43,
    "start_time": "2022-03-19T10:16:26.366Z"
   },
   {
    "duration": 47,
    "start_time": "2022-03-19T10:16:26.410Z"
   },
   {
    "duration": 23,
    "start_time": "2022-03-19T10:16:26.458Z"
   },
   {
    "duration": 19,
    "start_time": "2022-03-19T10:16:26.501Z"
   },
   {
    "duration": 18,
    "start_time": "2022-03-19T10:16:26.522Z"
   },
   {
    "duration": 6,
    "start_time": "2022-03-19T10:16:26.542Z"
   },
   {
    "duration": 8,
    "start_time": "2022-03-19T10:16:26.549Z"
   },
   {
    "duration": 8,
    "start_time": "2022-03-19T10:16:26.560Z"
   },
   {
    "duration": 8,
    "start_time": "2022-03-19T10:16:26.569Z"
   },
   {
    "duration": 24,
    "start_time": "2022-03-19T10:16:26.578Z"
   },
   {
    "duration": 18,
    "start_time": "2022-03-19T10:16:26.604Z"
   },
   {
    "duration": 5,
    "start_time": "2022-03-19T10:16:26.624Z"
   },
   {
    "duration": 2,
    "start_time": "2022-03-19T10:16:26.631Z"
   },
   {
    "duration": 27,
    "start_time": "2022-03-19T10:16:26.635Z"
   },
   {
    "duration": 4,
    "start_time": "2022-03-19T10:16:26.664Z"
   },
   {
    "duration": 32,
    "start_time": "2022-03-19T10:16:26.669Z"
   },
   {
    "duration": 3,
    "start_time": "2022-03-19T10:16:26.703Z"
   },
   {
    "duration": 27,
    "start_time": "2022-03-19T10:16:26.707Z"
   },
   {
    "duration": 8,
    "start_time": "2022-03-19T10:16:26.736Z"
   },
   {
    "duration": 15,
    "start_time": "2022-03-19T10:16:26.745Z"
   },
   {
    "duration": 46,
    "start_time": "2022-03-19T10:16:26.761Z"
   },
   {
    "duration": 8,
    "start_time": "2022-03-19T10:16:26.809Z"
   },
   {
    "duration": 3,
    "start_time": "2022-03-19T10:16:26.818Z"
   },
   {
    "duration": 16,
    "start_time": "2022-03-19T10:16:26.823Z"
   },
   {
    "duration": 24,
    "start_time": "2022-03-19T10:16:26.840Z"
   },
   {
    "duration": 8,
    "start_time": "2022-03-19T10:16:26.866Z"
   },
   {
    "duration": 23,
    "start_time": "2022-03-19T10:16:26.901Z"
   },
   {
    "duration": 3,
    "start_time": "2022-03-19T10:16:26.926Z"
   },
   {
    "duration": 8,
    "start_time": "2022-03-19T10:16:26.931Z"
   },
   {
    "duration": 357,
    "start_time": "2022-03-19T10:26:46.232Z"
   },
   {
    "duration": 69,
    "start_time": "2022-03-19T10:26:46.591Z"
   },
   {
    "duration": 17,
    "start_time": "2022-03-19T10:26:46.662Z"
   },
   {
    "duration": 13,
    "start_time": "2022-03-19T10:26:46.681Z"
   },
   {
    "duration": 8,
    "start_time": "2022-03-19T10:26:46.696Z"
   },
   {
    "duration": 13,
    "start_time": "2022-03-19T10:26:46.705Z"
   },
   {
    "duration": 4,
    "start_time": "2022-03-19T10:26:46.719Z"
   },
   {
    "duration": 5,
    "start_time": "2022-03-19T10:26:46.724Z"
   },
   {
    "duration": 3190,
    "start_time": "2022-03-19T10:26:46.730Z"
   },
   {
    "duration": 17,
    "start_time": "2022-03-19T10:26:49.923Z"
   },
   {
    "duration": 3247,
    "start_time": "2022-03-19T10:26:49.941Z"
   },
   {
    "duration": 14,
    "start_time": "2022-03-19T10:26:53.189Z"
   },
   {
    "duration": 12,
    "start_time": "2022-03-19T10:26:53.205Z"
   },
   {
    "duration": 4,
    "start_time": "2022-03-19T10:26:53.218Z"
   },
   {
    "duration": 8,
    "start_time": "2022-03-19T10:26:53.223Z"
   },
   {
    "duration": 5,
    "start_time": "2022-03-19T10:26:53.232Z"
   },
   {
    "duration": 8,
    "start_time": "2022-03-19T10:26:53.238Z"
   },
   {
    "duration": 16,
    "start_time": "2022-03-19T10:26:53.247Z"
   },
   {
    "duration": 8,
    "start_time": "2022-03-19T10:26:53.264Z"
   },
   {
    "duration": 8,
    "start_time": "2022-03-19T10:26:53.273Z"
   },
   {
    "duration": 29,
    "start_time": "2022-03-19T10:26:53.283Z"
   },
   {
    "duration": 46,
    "start_time": "2022-03-19T10:26:53.313Z"
   },
   {
    "duration": 42,
    "start_time": "2022-03-19T10:26:53.360Z"
   },
   {
    "duration": 17,
    "start_time": "2022-03-19T10:26:53.403Z"
   },
   {
    "duration": 19,
    "start_time": "2022-03-19T10:26:53.422Z"
   },
   {
    "duration": 8,
    "start_time": "2022-03-19T10:26:53.442Z"
   },
   {
    "duration": 8,
    "start_time": "2022-03-19T10:26:53.451Z"
   },
   {
    "duration": 3,
    "start_time": "2022-03-19T10:26:53.463Z"
   },
   {
    "duration": 34,
    "start_time": "2022-03-19T10:26:53.468Z"
   },
   {
    "duration": 3,
    "start_time": "2022-03-19T10:26:53.504Z"
   },
   {
    "duration": 19,
    "start_time": "2022-03-19T10:26:53.509Z"
   },
   {
    "duration": 6,
    "start_time": "2022-03-19T10:26:53.530Z"
   },
   {
    "duration": 7,
    "start_time": "2022-03-19T10:26:53.538Z"
   },
   {
    "duration": 27,
    "start_time": "2022-03-19T10:26:53.546Z"
   },
   {
    "duration": 5,
    "start_time": "2022-03-19T10:26:53.575Z"
   },
   {
    "duration": 10,
    "start_time": "2022-03-19T10:26:53.601Z"
   },
   {
    "duration": 17,
    "start_time": "2022-03-19T10:26:53.613Z"
   },
   {
    "duration": 28,
    "start_time": "2022-03-19T10:26:53.632Z"
   },
   {
    "duration": 9,
    "start_time": "2022-03-19T10:26:53.661Z"
   },
   {
    "duration": 14,
    "start_time": "2022-03-19T10:26:53.672Z"
   },
   {
    "duration": 38,
    "start_time": "2022-03-19T10:26:53.687Z"
   },
   {
    "duration": 8,
    "start_time": "2022-03-19T10:26:53.727Z"
   },
   {
    "duration": 5,
    "start_time": "2022-03-19T10:26:53.736Z"
   },
   {
    "duration": 21,
    "start_time": "2022-03-19T10:26:53.742Z"
   },
   {
    "duration": 45,
    "start_time": "2022-03-19T10:26:53.764Z"
   },
   {
    "duration": 9,
    "start_time": "2022-03-19T10:26:53.810Z"
   },
   {
    "duration": 25,
    "start_time": "2022-03-19T10:26:53.820Z"
   },
   {
    "duration": 4,
    "start_time": "2022-03-19T10:26:53.846Z"
   },
   {
    "duration": 9,
    "start_time": "2022-03-19T10:26:53.851Z"
   },
   {
    "duration": 190,
    "start_time": "2022-03-19T10:34:24.522Z"
   },
   {
    "duration": 361,
    "start_time": "2022-03-20T02:08:36.286Z"
   },
   {
    "duration": 62,
    "start_time": "2022-03-20T02:08:36.649Z"
   },
   {
    "duration": 18,
    "start_time": "2022-03-20T02:08:36.713Z"
   },
   {
    "duration": 15,
    "start_time": "2022-03-20T02:08:36.733Z"
   },
   {
    "duration": 9,
    "start_time": "2022-03-20T02:08:36.750Z"
   },
   {
    "duration": 11,
    "start_time": "2022-03-20T02:08:36.761Z"
   },
   {
    "duration": 3,
    "start_time": "2022-03-20T02:08:36.774Z"
   },
   {
    "duration": 8,
    "start_time": "2022-03-20T02:08:36.779Z"
   },
   {
    "duration": 3322,
    "start_time": "2022-03-20T02:08:36.789Z"
   },
   {
    "duration": 20,
    "start_time": "2022-03-20T02:08:40.113Z"
   },
   {
    "duration": 3415,
    "start_time": "2022-03-20T02:08:40.135Z"
   },
   {
    "duration": 11,
    "start_time": "2022-03-20T02:08:43.552Z"
   },
   {
    "duration": 22,
    "start_time": "2022-03-20T02:08:43.565Z"
   },
   {
    "duration": 5,
    "start_time": "2022-03-20T02:08:43.591Z"
   },
   {
    "duration": 35,
    "start_time": "2022-03-20T02:08:43.598Z"
   },
   {
    "duration": 6,
    "start_time": "2022-03-20T02:08:43.635Z"
   },
   {
    "duration": 9,
    "start_time": "2022-03-20T02:08:43.642Z"
   },
   {
    "duration": 13,
    "start_time": "2022-03-20T02:08:43.652Z"
   },
   {
    "duration": 6,
    "start_time": "2022-03-20T02:08:43.666Z"
   },
   {
    "duration": 4,
    "start_time": "2022-03-20T02:08:43.673Z"
   },
   {
    "duration": 15,
    "start_time": "2022-03-20T02:08:43.678Z"
   },
   {
    "duration": 77,
    "start_time": "2022-03-20T02:08:43.694Z"
   },
   {
    "duration": 24,
    "start_time": "2022-03-20T02:08:43.773Z"
   },
   {
    "duration": 40,
    "start_time": "2022-03-20T02:08:43.799Z"
   },
   {
    "duration": 21,
    "start_time": "2022-03-20T02:08:43.841Z"
   },
   {
    "duration": 8,
    "start_time": "2022-03-20T02:08:43.864Z"
   },
   {
    "duration": 10,
    "start_time": "2022-03-20T02:08:43.873Z"
   },
   {
    "duration": 4,
    "start_time": "2022-03-20T02:08:43.885Z"
   },
   {
    "duration": 6,
    "start_time": "2022-03-20T02:08:43.891Z"
   },
   {
    "duration": 12,
    "start_time": "2022-03-20T02:08:43.898Z"
   },
   {
    "duration": 19,
    "start_time": "2022-03-20T02:08:43.933Z"
   },
   {
    "duration": 6,
    "start_time": "2022-03-20T02:08:43.954Z"
   },
   {
    "duration": 4,
    "start_time": "2022-03-20T02:08:43.962Z"
   },
   {
    "duration": 23,
    "start_time": "2022-03-20T02:08:43.967Z"
   },
   {
    "duration": 5,
    "start_time": "2022-03-20T02:08:43.991Z"
   },
   {
    "duration": 41,
    "start_time": "2022-03-20T02:08:43.997Z"
   },
   {
    "duration": 3,
    "start_time": "2022-03-20T02:08:44.040Z"
   },
   {
    "duration": 31,
    "start_time": "2022-03-20T02:08:44.045Z"
   },
   {
    "duration": 9,
    "start_time": "2022-03-20T02:08:44.077Z"
   },
   {
    "duration": 18,
    "start_time": "2022-03-20T02:08:44.088Z"
   },
   {
    "duration": 31,
    "start_time": "2022-03-20T02:08:44.132Z"
   },
   {
    "duration": 9,
    "start_time": "2022-03-20T02:08:44.165Z"
   },
   {
    "duration": 9,
    "start_time": "2022-03-20T02:08:44.175Z"
   },
   {
    "duration": 22,
    "start_time": "2022-03-20T02:08:44.185Z"
   },
   {
    "duration": 44,
    "start_time": "2022-03-20T02:08:44.209Z"
   },
   {
    "duration": 9,
    "start_time": "2022-03-20T02:08:44.254Z"
   },
   {
    "duration": 26,
    "start_time": "2022-03-20T02:08:44.265Z"
   },
   {
    "duration": 3,
    "start_time": "2022-03-20T02:08:44.293Z"
   },
   {
    "duration": 9,
    "start_time": "2022-03-20T02:08:44.298Z"
   },
   {
    "duration": 12,
    "start_time": "2022-03-20T02:12:36.071Z"
   },
   {
    "duration": 8,
    "start_time": "2022-03-20T02:12:37.459Z"
   },
   {
    "duration": 4,
    "start_time": "2022-03-20T02:12:39.655Z"
   },
   {
    "duration": 5,
    "start_time": "2022-03-20T02:12:40.623Z"
   },
   {
    "duration": 433,
    "start_time": "2022-03-20T02:12:57.609Z"
   },
   {
    "duration": 59,
    "start_time": "2022-03-20T02:12:58.044Z"
   },
   {
    "duration": 18,
    "start_time": "2022-03-20T02:12:58.105Z"
   },
   {
    "duration": 16,
    "start_time": "2022-03-20T02:12:58.132Z"
   },
   {
    "duration": 10,
    "start_time": "2022-03-20T02:12:58.150Z"
   },
   {
    "duration": 12,
    "start_time": "2022-03-20T02:12:58.162Z"
   },
   {
    "duration": 4,
    "start_time": "2022-03-20T02:12:58.176Z"
   },
   {
    "duration": 5,
    "start_time": "2022-03-20T02:12:58.182Z"
   },
   {
    "duration": 3446,
    "start_time": "2022-03-20T02:12:58.188Z"
   },
   {
    "duration": 3329,
    "start_time": "2022-03-20T02:13:01.637Z"
   },
   {
    "duration": 17,
    "start_time": "2022-03-20T02:13:04.968Z"
   },
   {
    "duration": 3247,
    "start_time": "2022-03-20T02:13:04.987Z"
   },
   {
    "duration": 9,
    "start_time": "2022-03-20T02:13:08.236Z"
   },
   {
    "duration": 17,
    "start_time": "2022-03-20T02:13:08.246Z"
   },
   {
    "duration": 10,
    "start_time": "2022-03-20T02:13:08.265Z"
   },
   {
    "duration": 10,
    "start_time": "2022-03-20T02:13:08.276Z"
   },
   {
    "duration": 5,
    "start_time": "2022-03-20T02:13:08.288Z"
   },
   {
    "duration": 8,
    "start_time": "2022-03-20T02:13:08.294Z"
   },
   {
    "duration": 38,
    "start_time": "2022-03-20T02:13:08.303Z"
   },
   {
    "duration": 8,
    "start_time": "2022-03-20T02:13:08.342Z"
   },
   {
    "duration": 8,
    "start_time": "2022-03-20T02:13:08.351Z"
   },
   {
    "duration": 16,
    "start_time": "2022-03-20T02:13:08.360Z"
   },
   {
    "duration": 61,
    "start_time": "2022-03-20T02:13:08.377Z"
   },
   {
    "duration": 27,
    "start_time": "2022-03-20T02:13:08.439Z"
   },
   {
    "duration": 19,
    "start_time": "2022-03-20T02:13:08.468Z"
   },
   {
    "duration": 44,
    "start_time": "2022-03-20T02:13:08.489Z"
   },
   {
    "duration": 8,
    "start_time": "2022-03-20T02:13:08.534Z"
   },
   {
    "duration": 8,
    "start_time": "2022-03-20T02:13:08.546Z"
   },
   {
    "duration": 5,
    "start_time": "2022-03-20T02:13:08.555Z"
   },
   {
    "duration": 6,
    "start_time": "2022-03-20T02:13:08.562Z"
   },
   {
    "duration": 7,
    "start_time": "2022-03-20T02:13:08.570Z"
   },
   {
    "duration": 18,
    "start_time": "2022-03-20T02:13:08.579Z"
   },
   {
    "duration": 35,
    "start_time": "2022-03-20T02:13:08.598Z"
   },
   {
    "duration": 4,
    "start_time": "2022-03-20T02:13:08.634Z"
   },
   {
    "duration": 24,
    "start_time": "2022-03-20T02:13:08.639Z"
   },
   {
    "duration": 7,
    "start_time": "2022-03-20T02:13:08.664Z"
   },
   {
    "duration": 13,
    "start_time": "2022-03-20T02:13:08.673Z"
   },
   {
    "duration": 2,
    "start_time": "2022-03-20T02:13:08.687Z"
   },
   {
    "duration": 57,
    "start_time": "2022-03-20T02:13:08.691Z"
   },
   {
    "duration": 8,
    "start_time": "2022-03-20T02:13:08.749Z"
   },
   {
    "duration": 17,
    "start_time": "2022-03-20T02:13:08.759Z"
   },
   {
    "duration": 28,
    "start_time": "2022-03-20T02:13:08.778Z"
   },
   {
    "duration": 28,
    "start_time": "2022-03-20T02:13:08.808Z"
   },
   {
    "duration": 4,
    "start_time": "2022-03-20T02:13:08.838Z"
   },
   {
    "duration": 20,
    "start_time": "2022-03-20T02:13:08.844Z"
   },
   {
    "duration": 26,
    "start_time": "2022-03-20T02:13:08.865Z"
   },
   {
    "duration": 8,
    "start_time": "2022-03-20T02:13:08.893Z"
   },
   {
    "duration": 47,
    "start_time": "2022-03-20T02:13:08.903Z"
   },
   {
    "duration": 4,
    "start_time": "2022-03-20T02:13:08.951Z"
   },
   {
    "duration": 10,
    "start_time": "2022-03-20T02:13:08.957Z"
   },
   {
    "duration": 19,
    "start_time": "2022-03-20T02:13:17.846Z"
   },
   {
    "duration": 384,
    "start_time": "2022-03-20T02:13:39.064Z"
   },
   {
    "duration": 59,
    "start_time": "2022-03-20T02:13:39.964Z"
   },
   {
    "duration": 18,
    "start_time": "2022-03-20T02:13:41.464Z"
   },
   {
    "duration": 16,
    "start_time": "2022-03-20T02:13:42.744Z"
   },
   {
    "duration": 10,
    "start_time": "2022-03-20T02:13:46.737Z"
   },
   {
    "duration": 13,
    "start_time": "2022-03-20T02:13:49.204Z"
   },
   {
    "duration": 6,
    "start_time": "2022-03-20T02:13:50.364Z"
   },
   {
    "duration": 5,
    "start_time": "2022-03-20T02:13:50.992Z"
   },
   {
    "duration": 3262,
    "start_time": "2022-03-20T02:13:53.328Z"
   },
   {
    "duration": 3316,
    "start_time": "2022-03-20T02:13:56.592Z"
   },
   {
    "duration": 33,
    "start_time": "2022-03-20T02:13:59.910Z"
   },
   {
    "duration": 18,
    "start_time": "2022-03-20T02:14:22.392Z"
   },
   {
    "duration": 407,
    "start_time": "2022-03-20T02:22:06.654Z"
   },
   {
    "duration": 60,
    "start_time": "2022-03-20T02:22:07.063Z"
   },
   {
    "duration": 26,
    "start_time": "2022-03-20T02:22:07.125Z"
   },
   {
    "duration": 18,
    "start_time": "2022-03-20T02:22:07.154Z"
   },
   {
    "duration": 11,
    "start_time": "2022-03-20T02:22:07.174Z"
   },
   {
    "duration": 14,
    "start_time": "2022-03-20T02:22:07.187Z"
   },
   {
    "duration": 34,
    "start_time": "2022-03-20T02:22:07.202Z"
   },
   {
    "duration": 5,
    "start_time": "2022-03-20T02:22:07.239Z"
   },
   {
    "duration": 3727,
    "start_time": "2022-03-20T02:22:07.245Z"
   },
   {
    "duration": 18,
    "start_time": "2022-03-20T02:22:10.975Z"
   },
   {
    "duration": 3317,
    "start_time": "2022-03-20T02:22:10.994Z"
   },
   {
    "duration": 10,
    "start_time": "2022-03-20T02:22:14.313Z"
   },
   {
    "duration": 14,
    "start_time": "2022-03-20T02:22:14.333Z"
   },
   {
    "duration": 4,
    "start_time": "2022-03-20T02:22:14.349Z"
   },
   {
    "duration": 8,
    "start_time": "2022-03-20T02:22:14.355Z"
   },
   {
    "duration": 6,
    "start_time": "2022-03-20T02:22:14.365Z"
   },
   {
    "duration": 12,
    "start_time": "2022-03-20T02:22:14.373Z"
   },
   {
    "duration": 13,
    "start_time": "2022-03-20T02:22:14.386Z"
   },
   {
    "duration": 5,
    "start_time": "2022-03-20T02:22:14.400Z"
   },
   {
    "duration": 28,
    "start_time": "2022-03-20T02:22:14.406Z"
   },
   {
    "duration": 15,
    "start_time": "2022-03-20T02:22:14.435Z"
   },
   {
    "duration": 49,
    "start_time": "2022-03-20T02:22:14.451Z"
   },
   {
    "duration": 49,
    "start_time": "2022-03-20T02:22:14.502Z"
   },
   {
    "duration": 21,
    "start_time": "2022-03-20T02:22:14.553Z"
   },
   {
    "duration": 21,
    "start_time": "2022-03-20T02:22:14.576Z"
   },
   {
    "duration": 7,
    "start_time": "2022-03-20T02:22:14.598Z"
   },
   {
    "duration": 30,
    "start_time": "2022-03-20T02:22:14.607Z"
   },
   {
    "duration": 4,
    "start_time": "2022-03-20T02:22:14.641Z"
   },
   {
    "duration": 5,
    "start_time": "2022-03-20T02:22:14.647Z"
   },
   {
    "duration": 5,
    "start_time": "2022-03-20T02:22:14.654Z"
   },
   {
    "duration": 20,
    "start_time": "2022-03-20T02:22:14.661Z"
   },
   {
    "duration": 5,
    "start_time": "2022-03-20T02:22:14.683Z"
   },
   {
    "duration": 3,
    "start_time": "2022-03-20T02:22:14.690Z"
   },
   {
    "duration": 53,
    "start_time": "2022-03-20T02:22:14.695Z"
   },
   {
    "duration": 10,
    "start_time": "2022-03-20T02:22:14.750Z"
   },
   {
    "duration": 19,
    "start_time": "2022-03-20T02:22:14.761Z"
   },
   {
    "duration": 2,
    "start_time": "2022-03-20T02:22:14.782Z"
   },
   {
    "duration": 48,
    "start_time": "2022-03-20T02:22:14.786Z"
   },
   {
    "duration": 9,
    "start_time": "2022-03-20T02:22:14.835Z"
   },
   {
    "duration": 16,
    "start_time": "2022-03-20T02:22:14.846Z"
   },
   {
    "duration": 30,
    "start_time": "2022-03-20T02:22:14.863Z"
   },
   {
    "duration": 9,
    "start_time": "2022-03-20T02:22:14.895Z"
   },
   {
    "duration": 29,
    "start_time": "2022-03-20T02:22:14.905Z"
   },
   {
    "duration": 20,
    "start_time": "2022-03-20T02:22:14.936Z"
   },
   {
    "duration": 27,
    "start_time": "2022-03-20T02:22:14.957Z"
   },
   {
    "duration": 9,
    "start_time": "2022-03-20T02:22:14.986Z"
   },
   {
    "duration": 53,
    "start_time": "2022-03-20T02:22:14.997Z"
   },
   {
    "duration": 4,
    "start_time": "2022-03-20T02:22:15.052Z"
   },
   {
    "duration": 23,
    "start_time": "2022-03-20T02:22:15.058Z"
   },
   {
    "duration": 4,
    "start_time": "2022-03-20T02:33:22.427Z"
   },
   {
    "duration": 4,
    "start_time": "2022-03-20T02:33:42.999Z"
   },
   {
    "duration": 5,
    "start_time": "2022-03-20T02:33:48.095Z"
   },
   {
    "duration": 397,
    "start_time": "2022-03-20T02:33:57.044Z"
   },
   {
    "duration": 58,
    "start_time": "2022-03-20T02:33:57.443Z"
   },
   {
    "duration": 19,
    "start_time": "2022-03-20T02:33:57.503Z"
   },
   {
    "duration": 21,
    "start_time": "2022-03-20T02:33:57.524Z"
   },
   {
    "duration": 10,
    "start_time": "2022-03-20T02:33:57.548Z"
   },
   {
    "duration": 12,
    "start_time": "2022-03-20T02:33:57.560Z"
   },
   {
    "duration": 4,
    "start_time": "2022-03-20T02:33:57.573Z"
   },
   {
    "duration": 7,
    "start_time": "2022-03-20T02:33:57.579Z"
   },
   {
    "duration": 3172,
    "start_time": "2022-03-20T02:33:57.587Z"
   },
   {
    "duration": 18,
    "start_time": "2022-03-20T02:34:00.760Z"
   },
   {
    "duration": 3204,
    "start_time": "2022-03-20T02:34:00.780Z"
   },
   {
    "duration": 11,
    "start_time": "2022-03-20T02:34:03.985Z"
   },
   {
    "duration": 37,
    "start_time": "2022-03-20T02:34:03.998Z"
   },
   {
    "duration": 6,
    "start_time": "2022-03-20T02:34:04.038Z"
   },
   {
    "duration": 10,
    "start_time": "2022-03-20T02:34:04.046Z"
   },
   {
    "duration": 6,
    "start_time": "2022-03-20T02:34:04.058Z"
   },
   {
    "duration": 11,
    "start_time": "2022-03-20T02:34:04.065Z"
   },
   {
    "duration": 13,
    "start_time": "2022-03-20T02:34:04.078Z"
   },
   {
    "duration": 4,
    "start_time": "2022-03-20T02:34:04.093Z"
   },
   {
    "duration": 36,
    "start_time": "2022-03-20T02:34:04.098Z"
   },
   {
    "duration": 21,
    "start_time": "2022-03-20T02:34:04.136Z"
   },
   {
    "duration": 100,
    "start_time": "2022-03-20T02:34:04.159Z"
   },
   {
    "duration": 36,
    "start_time": "2022-03-20T02:34:04.261Z"
   },
   {
    "duration": 49,
    "start_time": "2022-03-20T02:34:04.299Z"
   },
   {
    "duration": 21,
    "start_time": "2022-03-20T02:34:04.349Z"
   },
   {
    "duration": 7,
    "start_time": "2022-03-20T02:34:04.372Z"
   },
   {
    "duration": 8,
    "start_time": "2022-03-20T02:34:04.381Z"
   },
   {
    "duration": 6,
    "start_time": "2022-03-20T02:34:04.391Z"
   },
   {
    "duration": 6,
    "start_time": "2022-03-20T02:34:04.398Z"
   },
   {
    "duration": 27,
    "start_time": "2022-03-20T02:34:04.406Z"
   },
   {
    "duration": 19,
    "start_time": "2022-03-20T02:34:04.435Z"
   },
   {
    "duration": 6,
    "start_time": "2022-03-20T02:34:04.456Z"
   },
   {
    "duration": 5,
    "start_time": "2022-03-20T02:34:04.463Z"
   },
   {
    "duration": 22,
    "start_time": "2022-03-20T02:34:04.469Z"
   },
   {
    "duration": 5,
    "start_time": "2022-03-20T02:34:04.492Z"
   },
   {
    "duration": 41,
    "start_time": "2022-03-20T02:34:04.499Z"
   },
   {
    "duration": 3,
    "start_time": "2022-03-20T02:34:04.542Z"
   },
   {
    "duration": 31,
    "start_time": "2022-03-20T02:34:04.546Z"
   },
   {
    "duration": 10,
    "start_time": "2022-03-20T02:34:04.579Z"
   },
   {
    "duration": 17,
    "start_time": "2022-03-20T02:34:04.590Z"
   },
   {
    "duration": 31,
    "start_time": "2022-03-20T02:34:04.634Z"
   },
   {
    "duration": 8,
    "start_time": "2022-03-20T02:34:04.667Z"
   },
   {
    "duration": 4,
    "start_time": "2022-03-20T02:34:04.677Z"
   },
   {
    "duration": 19,
    "start_time": "2022-03-20T02:34:04.682Z"
   },
   {
    "duration": 55,
    "start_time": "2022-03-20T02:34:04.703Z"
   },
   {
    "duration": 10,
    "start_time": "2022-03-20T02:34:04.760Z"
   },
   {
    "duration": 25,
    "start_time": "2022-03-20T02:34:04.771Z"
   },
   {
    "duration": 4,
    "start_time": "2022-03-20T02:34:04.798Z"
   },
   {
    "duration": 34,
    "start_time": "2022-03-20T02:34:04.803Z"
   },
   {
    "duration": 3,
    "start_time": "2022-03-20T02:35:55.053Z"
   },
   {
    "duration": 420,
    "start_time": "2022-03-20T02:36:35.333Z"
   },
   {
    "duration": 57,
    "start_time": "2022-03-20T02:36:35.755Z"
   },
   {
    "duration": 26,
    "start_time": "2022-03-20T02:36:35.814Z"
   },
   {
    "duration": 15,
    "start_time": "2022-03-20T02:36:35.842Z"
   },
   {
    "duration": 9,
    "start_time": "2022-03-20T02:36:35.859Z"
   },
   {
    "duration": 11,
    "start_time": "2022-03-20T02:36:35.869Z"
   },
   {
    "duration": 4,
    "start_time": "2022-03-20T02:36:35.882Z"
   },
   {
    "duration": 4,
    "start_time": "2022-03-20T02:36:35.888Z"
   },
   {
    "duration": 3303,
    "start_time": "2022-03-20T02:36:35.893Z"
   },
   {
    "duration": 20,
    "start_time": "2022-03-20T02:36:39.199Z"
   },
   {
    "duration": 3182,
    "start_time": "2022-03-20T02:36:39.220Z"
   },
   {
    "duration": 10,
    "start_time": "2022-03-20T02:36:42.404Z"
   },
   {
    "duration": 26,
    "start_time": "2022-03-20T02:36:42.416Z"
   },
   {
    "duration": 4,
    "start_time": "2022-03-20T02:36:42.444Z"
   },
   {
    "duration": 7,
    "start_time": "2022-03-20T02:36:42.450Z"
   },
   {
    "duration": 7,
    "start_time": "2022-03-20T02:36:42.458Z"
   },
   {
    "duration": 14,
    "start_time": "2022-03-20T02:36:42.466Z"
   },
   {
    "duration": 9,
    "start_time": "2022-03-20T02:36:42.482Z"
   },
   {
    "duration": 5,
    "start_time": "2022-03-20T02:36:42.492Z"
   },
   {
    "duration": 7,
    "start_time": "2022-03-20T02:36:42.498Z"
   },
   {
    "duration": 36,
    "start_time": "2022-03-20T02:36:42.506Z"
   },
   {
    "duration": 51,
    "start_time": "2022-03-20T02:36:42.544Z"
   },
   {
    "duration": 47,
    "start_time": "2022-03-20T02:36:42.597Z"
   },
   {
    "duration": 29,
    "start_time": "2022-03-20T02:36:42.645Z"
   },
   {
    "duration": 21,
    "start_time": "2022-03-20T02:36:42.676Z"
   },
   {
    "duration": 9,
    "start_time": "2022-03-20T02:36:42.699Z"
   },
   {
    "duration": 9,
    "start_time": "2022-03-20T02:36:42.732Z"
   },
   {
    "duration": 4,
    "start_time": "2022-03-20T02:36:42.745Z"
   },
   {
    "duration": 5,
    "start_time": "2022-03-20T02:36:42.751Z"
   },
   {
    "duration": 5,
    "start_time": "2022-03-20T02:36:42.758Z"
   },
   {
    "duration": 26,
    "start_time": "2022-03-20T02:36:42.764Z"
   },
   {
    "duration": 6,
    "start_time": "2022-03-20T02:36:42.792Z"
   },
   {
    "duration": 33,
    "start_time": "2022-03-20T02:36:42.800Z"
   },
   {
    "duration": 23,
    "start_time": "2022-03-20T02:36:42.835Z"
   },
   {
    "duration": 9,
    "start_time": "2022-03-20T02:36:42.860Z"
   },
   {
    "duration": 14,
    "start_time": "2022-03-20T02:36:42.870Z"
   },
   {
    "duration": 6,
    "start_time": "2022-03-20T02:36:42.886Z"
   },
   {
    "duration": 61,
    "start_time": "2022-03-20T02:36:42.893Z"
   },
   {
    "duration": 12,
    "start_time": "2022-03-20T02:36:42.955Z"
   },
   {
    "duration": 24,
    "start_time": "2022-03-20T02:36:42.968Z"
   },
   {
    "duration": 54,
    "start_time": "2022-03-20T02:36:42.994Z"
   },
   {
    "duration": 11,
    "start_time": "2022-03-20T02:36:43.050Z"
   },
   {
    "duration": 6,
    "start_time": "2022-03-20T02:36:43.063Z"
   },
   {
    "duration": 26,
    "start_time": "2022-03-20T02:36:43.071Z"
   },
   {
    "duration": 56,
    "start_time": "2022-03-20T02:36:43.099Z"
   },
   {
    "duration": 10,
    "start_time": "2022-03-20T02:36:43.157Z"
   },
   {
    "duration": 27,
    "start_time": "2022-03-20T02:36:43.169Z"
   },
   {
    "duration": 4,
    "start_time": "2022-03-20T02:36:43.197Z"
   },
   {
    "duration": 31,
    "start_time": "2022-03-20T02:36:43.203Z"
   },
   {
    "duration": 21,
    "start_time": "2022-03-20T02:38:48.150Z"
   },
   {
    "duration": 380,
    "start_time": "2022-03-20T02:46:50.794Z"
   },
   {
    "duration": 57,
    "start_time": "2022-03-20T02:46:51.176Z"
   },
   {
    "duration": 19,
    "start_time": "2022-03-20T02:46:51.235Z"
   },
   {
    "duration": 16,
    "start_time": "2022-03-20T02:46:51.255Z"
   },
   {
    "duration": 10,
    "start_time": "2022-03-20T02:46:51.272Z"
   },
   {
    "duration": 13,
    "start_time": "2022-03-20T02:46:51.284Z"
   },
   {
    "duration": 35,
    "start_time": "2022-03-20T02:46:51.299Z"
   },
   {
    "duration": 6,
    "start_time": "2022-03-20T02:46:51.335Z"
   },
   {
    "duration": 3247,
    "start_time": "2022-03-20T02:46:51.343Z"
   },
   {
    "duration": 18,
    "start_time": "2022-03-20T02:46:54.592Z"
   },
   {
    "duration": 3215,
    "start_time": "2022-03-20T02:46:54.611Z"
   },
   {
    "duration": 10,
    "start_time": "2022-03-20T02:46:57.832Z"
   },
   {
    "duration": 15,
    "start_time": "2022-03-20T02:46:57.843Z"
   },
   {
    "duration": 7,
    "start_time": "2022-03-20T02:46:57.859Z"
   },
   {
    "duration": 15,
    "start_time": "2022-03-20T02:46:57.867Z"
   },
   {
    "duration": 8,
    "start_time": "2022-03-20T02:46:57.884Z"
   },
   {
    "duration": 11,
    "start_time": "2022-03-20T02:46:57.894Z"
   },
   {
    "duration": 13,
    "start_time": "2022-03-20T02:46:57.933Z"
   },
   {
    "duration": 7,
    "start_time": "2022-03-20T02:46:57.948Z"
   },
   {
    "duration": 7,
    "start_time": "2022-03-20T02:46:57.956Z"
   },
   {
    "duration": 18,
    "start_time": "2022-03-20T02:46:57.964Z"
   },
   {
    "duration": 61,
    "start_time": "2022-03-20T02:46:57.984Z"
   },
   {
    "duration": 25,
    "start_time": "2022-03-20T02:46:58.047Z"
   },
   {
    "duration": 20,
    "start_time": "2022-03-20T02:46:58.073Z"
   },
   {
    "duration": 42,
    "start_time": "2022-03-20T02:46:58.095Z"
   },
   {
    "duration": 8,
    "start_time": "2022-03-20T02:46:58.139Z"
   },
   {
    "duration": 9,
    "start_time": "2022-03-20T02:46:58.149Z"
   },
   {
    "duration": 4,
    "start_time": "2022-03-20T02:46:58.161Z"
   },
   {
    "duration": 6,
    "start_time": "2022-03-20T02:46:58.167Z"
   },
   {
    "duration": 5,
    "start_time": "2022-03-20T02:46:58.175Z"
   },
   {
    "duration": 21,
    "start_time": "2022-03-20T02:46:58.181Z"
   },
   {
    "duration": 6,
    "start_time": "2022-03-20T02:46:58.233Z"
   },
   {
    "duration": 4,
    "start_time": "2022-03-20T02:46:58.240Z"
   },
   {
    "duration": 23,
    "start_time": "2022-03-20T02:46:58.245Z"
   },
   {
    "duration": 6,
    "start_time": "2022-03-20T02:46:58.269Z"
   },
   {
    "duration": 14,
    "start_time": "2022-03-20T02:46:58.277Z"
   },
   {
    "duration": 7,
    "start_time": "2022-03-20T02:46:58.292Z"
   },
   {
    "duration": 53,
    "start_time": "2022-03-20T02:46:58.301Z"
   },
   {
    "duration": 10,
    "start_time": "2022-03-20T02:46:58.356Z"
   },
   {
    "duration": 17,
    "start_time": "2022-03-20T02:46:58.367Z"
   },
   {
    "duration": 51,
    "start_time": "2022-03-20T02:46:58.386Z"
   },
   {
    "duration": 9,
    "start_time": "2022-03-20T02:46:58.439Z"
   },
   {
    "duration": 8,
    "start_time": "2022-03-20T02:46:58.449Z"
   },
   {
    "duration": 19,
    "start_time": "2022-03-20T02:46:58.459Z"
   },
   {
    "duration": 27,
    "start_time": "2022-03-20T02:46:58.480Z"
   },
   {
    "duration": 26,
    "start_time": "2022-03-20T02:46:58.508Z"
   },
   {
    "duration": 25,
    "start_time": "2022-03-20T02:46:58.535Z"
   },
   {
    "duration": 4,
    "start_time": "2022-03-20T02:46:58.562Z"
   },
   {
    "duration": 11,
    "start_time": "2022-03-20T02:46:58.567Z"
   },
   {
    "duration": 428,
    "start_time": "2022-03-20T03:03:42.409Z"
   },
   {
    "duration": 63,
    "start_time": "2022-03-20T03:03:42.839Z"
   },
   {
    "duration": 21,
    "start_time": "2022-03-20T03:03:42.903Z"
   },
   {
    "duration": 15,
    "start_time": "2022-03-20T03:03:42.932Z"
   },
   {
    "duration": 10,
    "start_time": "2022-03-20T03:03:42.949Z"
   },
   {
    "duration": 13,
    "start_time": "2022-03-20T03:03:42.961Z"
   },
   {
    "duration": 4,
    "start_time": "2022-03-20T03:03:42.976Z"
   },
   {
    "duration": 5,
    "start_time": "2022-03-20T03:03:42.982Z"
   },
   {
    "duration": 3323,
    "start_time": "2022-03-20T03:03:42.989Z"
   },
   {
    "duration": 28,
    "start_time": "2022-03-20T03:03:46.315Z"
   },
   {
    "duration": 3345,
    "start_time": "2022-03-20T03:03:46.345Z"
   },
   {
    "duration": 11,
    "start_time": "2022-03-20T03:03:49.692Z"
   },
   {
    "duration": 29,
    "start_time": "2022-03-20T03:03:49.704Z"
   },
   {
    "duration": 5,
    "start_time": "2022-03-20T03:03:49.735Z"
   },
   {
    "duration": 8,
    "start_time": "2022-03-20T03:03:49.742Z"
   },
   {
    "duration": 9,
    "start_time": "2022-03-20T03:03:49.752Z"
   },
   {
    "duration": 14,
    "start_time": "2022-03-20T03:03:49.763Z"
   },
   {
    "duration": 12,
    "start_time": "2022-03-20T03:03:49.779Z"
   },
   {
    "duration": 4,
    "start_time": "2022-03-20T03:03:49.793Z"
   },
   {
    "duration": 5,
    "start_time": "2022-03-20T03:03:49.799Z"
   },
   {
    "duration": 36,
    "start_time": "2022-03-20T03:03:49.805Z"
   },
   {
    "duration": 50,
    "start_time": "2022-03-20T03:03:49.843Z"
   },
   {
    "duration": 48,
    "start_time": "2022-03-20T03:03:49.894Z"
   },
   {
    "duration": 22,
    "start_time": "2022-03-20T03:03:49.943Z"
   },
   {
    "duration": 21,
    "start_time": "2022-03-20T03:03:49.967Z"
   },
   {
    "duration": 7,
    "start_time": "2022-03-20T03:03:49.990Z"
   },
   {
    "duration": 35,
    "start_time": "2022-03-20T03:03:49.998Z"
   },
   {
    "duration": 4,
    "start_time": "2022-03-20T03:03:50.037Z"
   },
   {
    "duration": 7,
    "start_time": "2022-03-20T03:03:50.043Z"
   },
   {
    "duration": 9,
    "start_time": "2022-03-20T03:03:50.051Z"
   },
   {
    "duration": 21,
    "start_time": "2022-03-20T03:03:50.061Z"
   },
   {
    "duration": 5,
    "start_time": "2022-03-20T03:03:50.084Z"
   },
   {
    "duration": 6,
    "start_time": "2022-03-20T03:03:50.091Z"
   },
   {
    "duration": 41,
    "start_time": "2022-03-20T03:03:50.098Z"
   },
   {
    "duration": 6,
    "start_time": "2022-03-20T03:03:50.140Z"
   },
   {
    "duration": 14,
    "start_time": "2022-03-20T03:03:50.147Z"
   },
   {
    "duration": 3,
    "start_time": "2022-03-20T03:03:50.163Z"
   },
   {
    "duration": 34,
    "start_time": "2022-03-20T03:03:50.168Z"
   },
   {
    "duration": 30,
    "start_time": "2022-03-20T03:03:50.204Z"
   },
   {
    "duration": 23,
    "start_time": "2022-03-20T03:03:50.236Z"
   },
   {
    "duration": 31,
    "start_time": "2022-03-20T03:03:50.260Z"
   },
   {
    "duration": 9,
    "start_time": "2022-03-20T03:03:50.293Z"
   },
   {
    "duration": 8,
    "start_time": "2022-03-20T03:03:50.304Z"
   },
   {
    "duration": 37,
    "start_time": "2022-03-20T03:03:50.313Z"
   },
   {
    "duration": 26,
    "start_time": "2022-03-20T03:03:50.352Z"
   },
   {
    "duration": 9,
    "start_time": "2022-03-20T03:03:50.380Z"
   },
   {
    "duration": 50,
    "start_time": "2022-03-20T03:03:50.391Z"
   },
   {
    "duration": 4,
    "start_time": "2022-03-20T03:03:50.443Z"
   },
   {
    "duration": 11,
    "start_time": "2022-03-20T03:03:50.449Z"
   },
   {
    "duration": 514,
    "start_time": "2022-03-30T14:56:42.631Z"
   },
   {
    "duration": 75,
    "start_time": "2022-03-30T14:56:43.148Z"
   },
   {
    "duration": 31,
    "start_time": "2022-03-30T14:56:43.225Z"
   },
   {
    "duration": 23,
    "start_time": "2022-03-30T14:56:43.260Z"
   },
   {
    "duration": 15,
    "start_time": "2022-03-30T14:56:43.286Z"
   },
   {
    "duration": 57,
    "start_time": "2022-03-30T14:56:43.303Z"
   },
   {
    "duration": 7,
    "start_time": "2022-03-30T14:56:43.363Z"
   },
   {
    "duration": 7,
    "start_time": "2022-03-30T14:56:43.373Z"
   },
   {
    "duration": 6500,
    "start_time": "2022-03-30T14:56:43.383Z"
   },
   {
    "duration": 27,
    "start_time": "2022-03-30T14:56:49.886Z"
   },
   {
    "duration": 6306,
    "start_time": "2022-03-30T14:56:49.915Z"
   },
   {
    "duration": 21,
    "start_time": "2022-03-30T14:56:56.223Z"
   },
   {
    "duration": 21,
    "start_time": "2022-03-30T14:56:56.246Z"
   },
   {
    "duration": 7,
    "start_time": "2022-03-30T14:56:56.269Z"
   },
   {
    "duration": 11,
    "start_time": "2022-03-30T14:56:56.278Z"
   },
   {
    "duration": 7,
    "start_time": "2022-03-30T14:56:56.291Z"
   },
   {
    "duration": 9,
    "start_time": "2022-03-30T14:56:56.343Z"
   },
   {
    "duration": 16,
    "start_time": "2022-03-30T14:56:56.354Z"
   },
   {
    "duration": 5,
    "start_time": "2022-03-30T14:56:56.372Z"
   },
   {
    "duration": 6,
    "start_time": "2022-03-30T14:56:56.379Z"
   },
   {
    "duration": 23,
    "start_time": "2022-03-30T14:56:56.387Z"
   },
   {
    "duration": 70,
    "start_time": "2022-03-30T14:56:56.442Z"
   },
   {
    "duration": 52,
    "start_time": "2022-03-30T14:56:56.514Z"
   },
   {
    "duration": 28,
    "start_time": "2022-03-30T14:56:56.569Z"
   },
   {
    "duration": 50,
    "start_time": "2022-03-30T14:56:56.600Z"
   },
   {
    "duration": 11,
    "start_time": "2022-03-30T14:56:56.653Z"
   },
   {
    "duration": 14,
    "start_time": "2022-03-30T14:56:56.666Z"
   },
   {
    "duration": 5,
    "start_time": "2022-03-30T14:56:56.686Z"
   },
   {
    "duration": 11,
    "start_time": "2022-03-30T14:56:56.693Z"
   },
   {
    "duration": 40,
    "start_time": "2022-03-30T14:56:56.706Z"
   },
   {
    "duration": 29,
    "start_time": "2022-03-30T14:56:56.748Z"
   },
   {
    "duration": 10,
    "start_time": "2022-03-30T14:56:56.779Z"
   },
   {
    "duration": 5,
    "start_time": "2022-03-30T14:56:56.791Z"
   },
   {
    "duration": 58,
    "start_time": "2022-03-30T14:56:56.798Z"
   },
   {
    "duration": 8,
    "start_time": "2022-03-30T14:56:56.859Z"
   },
   {
    "duration": 18,
    "start_time": "2022-03-30T14:56:56.870Z"
   },
   {
    "duration": 4,
    "start_time": "2022-03-30T14:56:56.891Z"
   },
   {
    "duration": 83,
    "start_time": "2022-03-30T14:56:56.898Z"
   },
   {
    "duration": 14,
    "start_time": "2022-03-30T14:56:56.983Z"
   },
   {
    "duration": 44,
    "start_time": "2022-03-30T14:56:56.999Z"
   },
   {
    "duration": 44,
    "start_time": "2022-03-30T14:56:57.045Z"
   },
   {
    "duration": 13,
    "start_time": "2022-03-30T14:56:57.091Z"
   },
   {
    "duration": 12,
    "start_time": "2022-03-30T14:56:57.106Z"
   },
   {
    "duration": 51,
    "start_time": "2022-03-30T14:56:57.120Z"
   },
   {
    "duration": 70,
    "start_time": "2022-03-30T14:56:57.174Z"
   },
   {
    "duration": 14,
    "start_time": "2022-03-30T14:56:57.246Z"
   },
   {
    "duration": 42,
    "start_time": "2022-03-30T14:56:57.262Z"
   },
   {
    "duration": 5,
    "start_time": "2022-03-30T14:56:57.306Z"
   },
   {
    "duration": 32,
    "start_time": "2022-03-30T14:56:57.313Z"
   },
   {
    "duration": 19,
    "start_time": "2022-04-01T03:00:35.977Z"
   },
   {
    "duration": 61,
    "start_time": "2022-04-01T03:08:55.121Z"
   },
   {
    "duration": 8,
    "start_time": "2022-04-01T03:08:55.613Z"
   },
   {
    "duration": 495,
    "start_time": "2022-04-01T03:09:04.083Z"
   },
   {
    "duration": 74,
    "start_time": "2022-04-01T03:09:04.580Z"
   },
   {
    "duration": 30,
    "start_time": "2022-04-01T03:09:04.656Z"
   },
   {
    "duration": 23,
    "start_time": "2022-04-01T03:09:04.690Z"
   },
   {
    "duration": 15,
    "start_time": "2022-04-01T03:09:04.715Z"
   },
   {
    "duration": 21,
    "start_time": "2022-04-01T03:09:04.768Z"
   },
   {
    "duration": 8,
    "start_time": "2022-04-01T03:09:04.791Z"
   },
   {
    "duration": 9,
    "start_time": "2022-04-01T03:09:04.801Z"
   },
   {
    "duration": 6596,
    "start_time": "2022-04-01T03:09:04.812Z"
   },
   {
    "duration": 96,
    "start_time": "2022-04-01T03:09:11.411Z"
   },
   {
    "duration": 0,
    "start_time": "2022-04-01T03:09:11.511Z"
   },
   {
    "duration": 0,
    "start_time": "2022-04-01T03:09:11.512Z"
   },
   {
    "duration": 0,
    "start_time": "2022-04-01T03:09:11.513Z"
   },
   {
    "duration": 0,
    "start_time": "2022-04-01T03:09:11.515Z"
   },
   {
    "duration": 0,
    "start_time": "2022-04-01T03:09:11.516Z"
   },
   {
    "duration": 0,
    "start_time": "2022-04-01T03:09:11.518Z"
   },
   {
    "duration": 0,
    "start_time": "2022-04-01T03:09:11.519Z"
   },
   {
    "duration": 0,
    "start_time": "2022-04-01T03:09:11.521Z"
   },
   {
    "duration": 0,
    "start_time": "2022-04-01T03:09:11.523Z"
   },
   {
    "duration": 0,
    "start_time": "2022-04-01T03:09:11.524Z"
   },
   {
    "duration": 0,
    "start_time": "2022-04-01T03:09:11.525Z"
   },
   {
    "duration": 0,
    "start_time": "2022-04-01T03:09:11.527Z"
   },
   {
    "duration": 0,
    "start_time": "2022-04-01T03:09:11.529Z"
   },
   {
    "duration": 0,
    "start_time": "2022-04-01T03:09:11.567Z"
   },
   {
    "duration": 0,
    "start_time": "2022-04-01T03:09:11.569Z"
   },
   {
    "duration": 0,
    "start_time": "2022-04-01T03:09:11.570Z"
   },
   {
    "duration": 1,
    "start_time": "2022-04-01T03:09:11.571Z"
   },
   {
    "duration": 0,
    "start_time": "2022-04-01T03:09:11.573Z"
   },
   {
    "duration": 0,
    "start_time": "2022-04-01T03:09:11.574Z"
   },
   {
    "duration": 0,
    "start_time": "2022-04-01T03:09:11.575Z"
   },
   {
    "duration": 0,
    "start_time": "2022-04-01T03:09:11.577Z"
   },
   {
    "duration": 0,
    "start_time": "2022-04-01T03:09:11.579Z"
   },
   {
    "duration": 0,
    "start_time": "2022-04-01T03:09:11.580Z"
   },
   {
    "duration": 0,
    "start_time": "2022-04-01T03:09:11.582Z"
   },
   {
    "duration": 0,
    "start_time": "2022-04-01T03:09:11.584Z"
   },
   {
    "duration": 0,
    "start_time": "2022-04-01T03:09:11.585Z"
   },
   {
    "duration": 0,
    "start_time": "2022-04-01T03:09:11.587Z"
   },
   {
    "duration": 0,
    "start_time": "2022-04-01T03:09:11.588Z"
   },
   {
    "duration": 0,
    "start_time": "2022-04-01T03:09:11.590Z"
   },
   {
    "duration": 0,
    "start_time": "2022-04-01T03:09:11.591Z"
   },
   {
    "duration": 0,
    "start_time": "2022-04-01T03:09:11.592Z"
   },
   {
    "duration": 0,
    "start_time": "2022-04-01T03:09:11.594Z"
   },
   {
    "duration": 0,
    "start_time": "2022-04-01T03:09:11.595Z"
   },
   {
    "duration": 0,
    "start_time": "2022-04-01T03:09:11.597Z"
   },
   {
    "duration": 0,
    "start_time": "2022-04-01T03:09:11.598Z"
   },
   {
    "duration": 0,
    "start_time": "2022-04-01T03:09:11.600Z"
   },
   {
    "duration": 0,
    "start_time": "2022-04-01T03:09:11.601Z"
   },
   {
    "duration": 0,
    "start_time": "2022-04-01T03:09:11.603Z"
   },
   {
    "duration": 0,
    "start_time": "2022-04-01T03:09:11.604Z"
   },
   {
    "duration": 518,
    "start_time": "2022-04-01T03:09:31.464Z"
   },
   {
    "duration": 73,
    "start_time": "2022-04-01T03:09:31.985Z"
   },
   {
    "duration": 34,
    "start_time": "2022-04-01T03:09:32.060Z"
   },
   {
    "duration": 21,
    "start_time": "2022-04-01T03:09:32.096Z"
   },
   {
    "duration": 13,
    "start_time": "2022-04-01T03:09:32.119Z"
   },
   {
    "duration": 49,
    "start_time": "2022-04-01T03:09:32.134Z"
   },
   {
    "duration": 6,
    "start_time": "2022-04-01T03:09:32.185Z"
   },
   {
    "duration": 12,
    "start_time": "2022-04-01T03:09:32.194Z"
   },
   {
    "duration": 6581,
    "start_time": "2022-04-01T03:09:32.208Z"
   },
   {
    "duration": 18,
    "start_time": "2022-04-01T03:09:38.793Z"
   },
   {
    "duration": 6626,
    "start_time": "2022-04-01T03:09:38.813Z"
   },
   {
    "duration": 12,
    "start_time": "2022-04-01T03:09:45.442Z"
   },
   {
    "duration": 20,
    "start_time": "2022-04-01T03:09:45.468Z"
   },
   {
    "duration": 6,
    "start_time": "2022-04-01T03:09:45.491Z"
   },
   {
    "duration": 14,
    "start_time": "2022-04-01T03:09:45.499Z"
   },
   {
    "duration": 8,
    "start_time": "2022-04-01T03:09:45.515Z"
   },
   {
    "duration": 48,
    "start_time": "2022-04-01T03:09:45.525Z"
   },
   {
    "duration": 14,
    "start_time": "2022-04-01T03:09:45.575Z"
   },
   {
    "duration": 5,
    "start_time": "2022-04-01T03:09:45.591Z"
   },
   {
    "duration": 5,
    "start_time": "2022-04-01T03:09:45.598Z"
   },
   {
    "duration": 19,
    "start_time": "2022-04-01T03:09:45.605Z"
   },
   {
    "duration": 107,
    "start_time": "2022-04-01T03:09:45.626Z"
   },
   {
    "duration": 58,
    "start_time": "2022-04-01T03:09:45.735Z"
   },
   {
    "duration": 29,
    "start_time": "2022-04-01T03:09:45.795Z"
   },
   {
    "duration": 49,
    "start_time": "2022-04-01T03:09:45.827Z"
   },
   {
    "duration": 11,
    "start_time": "2022-04-01T03:09:45.878Z"
   },
   {
    "duration": 12,
    "start_time": "2022-04-01T03:09:45.891Z"
   },
   {
    "duration": 5,
    "start_time": "2022-04-01T03:09:45.908Z"
   },
   {
    "duration": 6,
    "start_time": "2022-04-01T03:09:45.915Z"
   },
   {
    "duration": 7,
    "start_time": "2022-04-01T03:09:45.923Z"
   },
   {
    "duration": 56,
    "start_time": "2022-04-01T03:09:45.932Z"
   },
   {
    "duration": 9,
    "start_time": "2022-04-01T03:09:45.990Z"
   },
   {
    "duration": 5,
    "start_time": "2022-04-01T03:09:46.001Z"
   },
   {
    "duration": 63,
    "start_time": "2022-04-01T03:09:46.008Z"
   },
   {
    "duration": 8,
    "start_time": "2022-04-01T03:09:46.073Z"
   },
   {
    "duration": 18,
    "start_time": "2022-04-01T03:09:46.084Z"
   },
   {
    "duration": 6,
    "start_time": "2022-04-01T03:09:46.105Z"
   },
   {
    "duration": 88,
    "start_time": "2022-04-01T03:09:46.114Z"
   },
   {
    "duration": 15,
    "start_time": "2022-04-01T03:09:46.204Z"
   },
   {
    "duration": 45,
    "start_time": "2022-04-01T03:09:46.222Z"
   },
   {
    "duration": 47,
    "start_time": "2022-04-01T03:09:46.270Z"
   },
   {
    "duration": 15,
    "start_time": "2022-04-01T03:09:46.319Z"
   },
   {
    "duration": 32,
    "start_time": "2022-04-01T03:09:46.337Z"
   },
   {
    "duration": 29,
    "start_time": "2022-04-01T03:09:46.372Z"
   },
   {
    "duration": 71,
    "start_time": "2022-04-01T03:09:46.404Z"
   },
   {
    "duration": 14,
    "start_time": "2022-04-01T03:09:46.478Z"
   },
   {
    "duration": 40,
    "start_time": "2022-04-01T03:09:46.496Z"
   },
   {
    "duration": 31,
    "start_time": "2022-04-01T03:09:46.539Z"
   },
   {
    "duration": 15,
    "start_time": "2022-04-01T03:09:46.572Z"
   },
   {
    "duration": 492,
    "start_time": "2022-04-01T03:14:09.505Z"
   },
   {
    "duration": 81,
    "start_time": "2022-04-01T03:14:10.000Z"
   },
   {
    "duration": 32,
    "start_time": "2022-04-01T03:14:10.083Z"
   },
   {
    "duration": 51,
    "start_time": "2022-04-01T03:14:10.119Z"
   },
   {
    "duration": 15,
    "start_time": "2022-04-01T03:14:10.173Z"
   },
   {
    "duration": 20,
    "start_time": "2022-04-01T03:14:10.191Z"
   },
   {
    "duration": 7,
    "start_time": "2022-04-01T03:14:10.214Z"
   },
   {
    "duration": 49,
    "start_time": "2022-04-01T03:14:10.224Z"
   },
   {
    "duration": 6307,
    "start_time": "2022-04-01T03:14:10.276Z"
   },
   {
    "duration": 20,
    "start_time": "2022-04-01T03:14:16.587Z"
   },
   {
    "duration": 6395,
    "start_time": "2022-04-01T03:14:16.610Z"
   },
   {
    "duration": 12,
    "start_time": "2022-04-01T03:14:23.008Z"
   },
   {
    "duration": 22,
    "start_time": "2022-04-01T03:14:23.023Z"
   },
   {
    "duration": 7,
    "start_time": "2022-04-01T03:14:23.068Z"
   },
   {
    "duration": 12,
    "start_time": "2022-04-01T03:14:23.077Z"
   },
   {
    "duration": 8,
    "start_time": "2022-04-01T03:14:23.092Z"
   },
   {
    "duration": 12,
    "start_time": "2022-04-01T03:14:23.102Z"
   },
   {
    "duration": 59,
    "start_time": "2022-04-01T03:14:23.116Z"
   },
   {
    "duration": 5,
    "start_time": "2022-04-01T03:14:23.178Z"
   },
   {
    "duration": 7,
    "start_time": "2022-04-01T03:14:23.185Z"
   },
   {
    "duration": 23,
    "start_time": "2022-04-01T03:14:23.194Z"
   },
   {
    "duration": 109,
    "start_time": "2022-04-01T03:14:23.219Z"
   },
   {
    "duration": 59,
    "start_time": "2022-04-01T03:14:23.331Z"
   },
   {
    "duration": 32,
    "start_time": "2022-04-01T03:14:23.393Z"
   },
   {
    "duration": 57,
    "start_time": "2022-04-01T03:14:23.428Z"
   },
   {
    "duration": 12,
    "start_time": "2022-04-01T03:14:23.488Z"
   },
   {
    "duration": 15,
    "start_time": "2022-04-01T03:14:23.503Z"
   },
   {
    "duration": 4,
    "start_time": "2022-04-01T03:14:23.525Z"
   },
   {
    "duration": 39,
    "start_time": "2022-04-01T03:14:23.532Z"
   },
   {
    "duration": 6,
    "start_time": "2022-04-01T03:14:23.573Z"
   },
   {
    "duration": 30,
    "start_time": "2022-04-01T03:14:23.582Z"
   },
   {
    "duration": 11,
    "start_time": "2022-04-01T03:14:23.614Z"
   },
   {
    "duration": 42,
    "start_time": "2022-04-01T03:14:23.628Z"
   },
   {
    "duration": 32,
    "start_time": "2022-04-01T03:14:23.673Z"
   },
   {
    "duration": 9,
    "start_time": "2022-04-01T03:14:23.708Z"
   },
   {
    "duration": 59,
    "start_time": "2022-04-01T03:14:23.719Z"
   },
   {
    "duration": 8,
    "start_time": "2022-04-01T03:14:23.781Z"
   },
   {
    "duration": 42,
    "start_time": "2022-04-01T03:14:23.791Z"
   },
   {
    "duration": 41,
    "start_time": "2022-04-01T03:14:23.836Z"
   },
   {
    "duration": 24,
    "start_time": "2022-04-01T03:14:23.879Z"
   },
   {
    "duration": 77,
    "start_time": "2022-04-01T03:14:23.905Z"
   },
   {
    "duration": 15,
    "start_time": "2022-04-01T03:14:23.984Z"
   },
   {
    "duration": 6,
    "start_time": "2022-04-01T03:14:24.002Z"
   },
   {
    "duration": 58,
    "start_time": "2022-04-01T03:14:24.011Z"
   },
   {
    "duration": 41,
    "start_time": "2022-04-01T03:14:24.071Z"
   },
   {
    "duration": 15,
    "start_time": "2022-04-01T03:14:24.115Z"
   },
   {
    "duration": 75,
    "start_time": "2022-04-01T03:14:24.132Z"
   },
   {
    "duration": 6,
    "start_time": "2022-04-01T03:14:24.210Z"
   },
   {
    "duration": 14,
    "start_time": "2022-04-01T03:14:24.219Z"
   },
   {
    "duration": 473,
    "start_time": "2022-04-01T03:14:55.301Z"
   },
   {
    "duration": 69,
    "start_time": "2022-04-01T03:14:55.776Z"
   },
   {
    "duration": 41,
    "start_time": "2022-04-01T03:14:55.847Z"
   },
   {
    "duration": 22,
    "start_time": "2022-04-01T03:14:55.891Z"
   },
   {
    "duration": 13,
    "start_time": "2022-04-01T03:14:55.916Z"
   },
   {
    "duration": 53,
    "start_time": "2022-04-01T03:14:55.931Z"
   },
   {
    "duration": 7,
    "start_time": "2022-04-01T03:14:55.987Z"
   },
   {
    "duration": 7,
    "start_time": "2022-04-01T03:14:55.996Z"
   },
   {
    "duration": 6772,
    "start_time": "2022-04-01T03:14:56.005Z"
   },
   {
    "duration": 29,
    "start_time": "2022-04-01T03:15:02.781Z"
   },
   {
    "duration": 7344,
    "start_time": "2022-04-01T03:15:02.812Z"
   },
   {
    "duration": 18,
    "start_time": "2022-04-01T03:15:10.158Z"
   },
   {
    "duration": 21,
    "start_time": "2022-04-01T03:15:10.178Z"
   },
   {
    "duration": 10,
    "start_time": "2022-04-01T03:15:10.201Z"
   },
   {
    "duration": 12,
    "start_time": "2022-04-01T03:15:10.213Z"
   },
   {
    "duration": 42,
    "start_time": "2022-04-01T03:15:10.227Z"
   },
   {
    "duration": 10,
    "start_time": "2022-04-01T03:15:10.271Z"
   },
   {
    "duration": 16,
    "start_time": "2022-04-01T03:15:10.283Z"
   },
   {
    "duration": 6,
    "start_time": "2022-04-01T03:15:10.301Z"
   },
   {
    "duration": 6,
    "start_time": "2022-04-01T03:15:10.309Z"
   },
   {
    "duration": 56,
    "start_time": "2022-04-01T03:15:10.317Z"
   },
   {
    "duration": 94,
    "start_time": "2022-04-01T03:15:10.376Z"
   },
   {
    "duration": 37,
    "start_time": "2022-04-01T03:15:10.473Z"
   },
   {
    "duration": 29,
    "start_time": "2022-04-01T03:15:10.512Z"
   },
   {
    "duration": 30,
    "start_time": "2022-04-01T03:15:10.567Z"
   },
   {
    "duration": 11,
    "start_time": "2022-04-01T03:15:10.599Z"
   },
   {
    "duration": 11,
    "start_time": "2022-04-01T03:15:10.612Z"
   },
   {
    "duration": 6,
    "start_time": "2022-04-01T03:15:10.628Z"
   },
   {
    "duration": 6,
    "start_time": "2022-04-01T03:15:10.667Z"
   },
   {
    "duration": 4,
    "start_time": "2022-04-01T03:15:10.675Z"
   },
   {
    "duration": 28,
    "start_time": "2022-04-01T03:15:10.681Z"
   },
   {
    "duration": 8,
    "start_time": "2022-04-01T03:15:10.711Z"
   },
   {
    "duration": 5,
    "start_time": "2022-04-01T03:15:10.721Z"
   },
   {
    "duration": 30,
    "start_time": "2022-04-01T03:15:10.768Z"
   },
   {
    "duration": 8,
    "start_time": "2022-04-01T03:15:10.800Z"
   },
   {
    "duration": 18,
    "start_time": "2022-04-01T03:15:10.810Z"
   },
   {
    "duration": 38,
    "start_time": "2022-04-01T03:15:10.830Z"
   },
   {
    "duration": 42,
    "start_time": "2022-04-01T03:15:10.870Z"
   },
   {
    "duration": 15,
    "start_time": "2022-04-01T03:15:10.914Z"
   },
   {
    "duration": 50,
    "start_time": "2022-04-01T03:15:10.931Z"
   },
   {
    "duration": 45,
    "start_time": "2022-04-01T03:15:10.984Z"
   },
   {
    "duration": 14,
    "start_time": "2022-04-01T03:15:11.031Z"
   },
   {
    "duration": 22,
    "start_time": "2022-04-01T03:15:11.047Z"
   },
   {
    "duration": 29,
    "start_time": "2022-04-01T03:15:11.071Z"
   },
   {
    "duration": 65,
    "start_time": "2022-04-01T03:15:11.102Z"
   },
   {
    "duration": 14,
    "start_time": "2022-04-01T03:15:11.169Z"
   },
   {
    "duration": 40,
    "start_time": "2022-04-01T03:15:11.185Z"
   },
   {
    "duration": 5,
    "start_time": "2022-04-01T03:15:11.227Z"
   },
   {
    "duration": 42,
    "start_time": "2022-04-01T03:15:11.234Z"
   },
   {
    "duration": 533,
    "start_time": "2022-04-01T03:44:53.340Z"
   },
   {
    "duration": 74,
    "start_time": "2022-04-01T03:44:53.875Z"
   },
   {
    "duration": 29,
    "start_time": "2022-04-01T03:44:53.951Z"
   },
   {
    "duration": 20,
    "start_time": "2022-04-01T03:44:53.983Z"
   },
   {
    "duration": 13,
    "start_time": "2022-04-01T03:44:54.005Z"
   },
   {
    "duration": 54,
    "start_time": "2022-04-01T03:44:54.020Z"
   },
   {
    "duration": 7,
    "start_time": "2022-04-01T03:44:54.076Z"
   },
   {
    "duration": 7,
    "start_time": "2022-04-01T03:44:54.085Z"
   },
   {
    "duration": 6094,
    "start_time": "2022-04-01T03:44:54.094Z"
   },
   {
    "duration": 28,
    "start_time": "2022-04-01T03:45:00.193Z"
   },
   {
    "duration": 6326,
    "start_time": "2022-04-01T03:45:00.224Z"
   },
   {
    "duration": 16,
    "start_time": "2022-04-01T03:45:06.552Z"
   },
   {
    "duration": 19,
    "start_time": "2022-04-01T03:45:06.571Z"
   },
   {
    "duration": 8,
    "start_time": "2022-04-01T03:45:06.592Z"
   },
   {
    "duration": 13,
    "start_time": "2022-04-01T03:45:06.602Z"
   },
   {
    "duration": 8,
    "start_time": "2022-04-01T03:45:06.617Z"
   },
   {
    "duration": 47,
    "start_time": "2022-04-01T03:45:06.628Z"
   },
   {
    "duration": 18,
    "start_time": "2022-04-01T03:45:06.677Z"
   },
   {
    "duration": 7,
    "start_time": "2022-04-01T03:45:06.697Z"
   },
   {
    "duration": 9,
    "start_time": "2022-04-01T03:45:06.707Z"
   },
   {
    "duration": 51,
    "start_time": "2022-04-01T03:45:06.718Z"
   },
   {
    "duration": 66,
    "start_time": "2022-04-01T03:45:06.772Z"
   },
   {
    "duration": 52,
    "start_time": "2022-04-01T03:45:06.841Z"
   },
   {
    "duration": 26,
    "start_time": "2022-04-01T03:45:06.896Z"
   },
   {
    "duration": 48,
    "start_time": "2022-04-01T03:45:06.924Z"
   },
   {
    "duration": 11,
    "start_time": "2022-04-01T03:45:06.974Z"
   },
   {
    "duration": 11,
    "start_time": "2022-04-01T03:45:06.988Z"
   },
   {
    "duration": 5,
    "start_time": "2022-04-01T03:45:07.004Z"
   },
   {
    "duration": 6,
    "start_time": "2022-04-01T03:45:07.011Z"
   },
   {
    "duration": 5,
    "start_time": "2022-04-01T03:45:07.019Z"
   },
   {
    "duration": 61,
    "start_time": "2022-04-01T03:45:07.026Z"
   },
   {
    "duration": 8,
    "start_time": "2022-04-01T03:45:07.089Z"
   },
   {
    "duration": 5,
    "start_time": "2022-04-01T03:45:07.099Z"
   },
   {
    "duration": 41,
    "start_time": "2022-04-01T03:45:07.106Z"
   },
   {
    "duration": 7,
    "start_time": "2022-04-01T03:45:07.167Z"
   },
   {
    "duration": 26,
    "start_time": "2022-04-01T03:45:07.176Z"
   },
   {
    "duration": 4,
    "start_time": "2022-04-01T03:45:07.204Z"
   },
   {
    "duration": 70,
    "start_time": "2022-04-01T03:45:07.210Z"
   },
   {
    "duration": 14,
    "start_time": "2022-04-01T03:45:07.282Z"
   },
   {
    "duration": 19,
    "start_time": "2022-04-01T03:45:07.298Z"
   },
   {
    "duration": 69,
    "start_time": "2022-04-01T03:45:07.319Z"
   },
   {
    "duration": 13,
    "start_time": "2022-04-01T03:45:07.390Z"
   },
   {
    "duration": 6,
    "start_time": "2022-04-01T03:45:07.405Z"
   },
   {
    "duration": 27,
    "start_time": "2022-04-01T03:45:07.413Z"
   },
   {
    "duration": 66,
    "start_time": "2022-04-01T03:45:07.442Z"
   },
   {
    "duration": 14,
    "start_time": "2022-04-01T03:45:07.510Z"
   },
   {
    "duration": 64,
    "start_time": "2022-04-01T03:45:07.526Z"
   },
   {
    "duration": 6,
    "start_time": "2022-04-01T03:45:07.592Z"
   },
   {
    "duration": 17,
    "start_time": "2022-04-01T03:45:07.600Z"
   },
   {
    "duration": 545,
    "start_time": "2022-04-01T03:51:52.922Z"
   },
   {
    "duration": 71,
    "start_time": "2022-04-01T03:51:53.470Z"
   },
   {
    "duration": 39,
    "start_time": "2022-04-01T03:51:53.543Z"
   },
   {
    "duration": 22,
    "start_time": "2022-04-01T03:51:53.585Z"
   },
   {
    "duration": 13,
    "start_time": "2022-04-01T03:51:53.609Z"
   },
   {
    "duration": 52,
    "start_time": "2022-04-01T03:51:53.624Z"
   },
   {
    "duration": 7,
    "start_time": "2022-04-01T03:51:53.679Z"
   },
   {
    "duration": 7,
    "start_time": "2022-04-01T03:51:53.688Z"
   },
   {
    "duration": 401,
    "start_time": "2022-04-01T06:37:28.541Z"
   },
   {
    "duration": 62,
    "start_time": "2022-04-01T06:37:28.944Z"
   },
   {
    "duration": 20,
    "start_time": "2022-04-01T06:37:29.007Z"
   },
   {
    "duration": 21,
    "start_time": "2022-04-01T06:37:29.029Z"
   },
   {
    "duration": 10,
    "start_time": "2022-04-01T06:37:29.052Z"
   },
   {
    "duration": 13,
    "start_time": "2022-04-01T06:37:29.063Z"
   },
   {
    "duration": 4,
    "start_time": "2022-04-01T06:37:29.078Z"
   },
   {
    "duration": 18,
    "start_time": "2022-04-01T06:37:29.084Z"
   },
   {
    "duration": 3066,
    "start_time": "2022-04-01T06:37:29.103Z"
   },
   {
    "duration": 19,
    "start_time": "2022-04-01T06:37:32.172Z"
   },
   {
    "duration": 3069,
    "start_time": "2022-04-01T06:37:32.193Z"
   },
   {
    "duration": 11,
    "start_time": "2022-04-01T06:37:35.263Z"
   },
   {
    "duration": 13,
    "start_time": "2022-04-01T06:37:35.275Z"
   },
   {
    "duration": 4,
    "start_time": "2022-04-01T06:37:35.290Z"
   },
   {
    "duration": 13,
    "start_time": "2022-04-01T06:37:35.295Z"
   },
   {
    "duration": 30,
    "start_time": "2022-04-01T06:37:35.309Z"
   },
   {
    "duration": 7,
    "start_time": "2022-04-01T06:37:35.340Z"
   },
   {
    "duration": 12,
    "start_time": "2022-04-01T06:37:35.348Z"
   },
   {
    "duration": 3,
    "start_time": "2022-04-01T06:37:35.362Z"
   },
   {
    "duration": 16,
    "start_time": "2022-04-01T06:37:35.367Z"
   },
   {
    "duration": 18,
    "start_time": "2022-04-01T06:37:35.385Z"
   },
   {
    "duration": 64,
    "start_time": "2022-04-01T06:37:35.404Z"
   },
   {
    "duration": 23,
    "start_time": "2022-04-01T06:37:35.470Z"
   },
   {
    "duration": 18,
    "start_time": "2022-04-01T06:37:35.495Z"
   },
   {
    "duration": 38,
    "start_time": "2022-04-01T06:37:35.515Z"
   },
   {
    "duration": 8,
    "start_time": "2022-04-01T06:37:35.554Z"
   },
   {
    "duration": 10,
    "start_time": "2022-04-01T06:37:35.563Z"
   },
   {
    "duration": 5,
    "start_time": "2022-04-01T06:37:35.576Z"
   },
   {
    "duration": 6,
    "start_time": "2022-04-01T06:37:35.583Z"
   },
   {
    "duration": 5,
    "start_time": "2022-04-01T06:37:35.591Z"
   },
   {
    "duration": 44,
    "start_time": "2022-04-01T06:37:35.597Z"
   },
   {
    "duration": 5,
    "start_time": "2022-04-01T06:37:35.643Z"
   },
   {
    "duration": 5,
    "start_time": "2022-04-01T06:37:35.650Z"
   },
   {
    "duration": 29,
    "start_time": "2022-04-01T06:37:35.656Z"
   },
   {
    "duration": 10,
    "start_time": "2022-04-01T06:37:35.687Z"
   },
   {
    "duration": 15,
    "start_time": "2022-04-01T06:37:35.698Z"
   },
   {
    "duration": 8,
    "start_time": "2022-04-01T06:37:35.714Z"
   },
   {
    "duration": 41,
    "start_time": "2022-04-01T06:37:35.723Z"
   },
   {
    "duration": 9,
    "start_time": "2022-04-01T06:37:35.766Z"
   },
   {
    "duration": 15,
    "start_time": "2022-04-01T06:37:35.776Z"
   },
   {
    "duration": 46,
    "start_time": "2022-04-01T06:37:35.792Z"
   },
   {
    "duration": 9,
    "start_time": "2022-04-01T06:37:35.839Z"
   },
   {
    "duration": 5,
    "start_time": "2022-04-01T06:37:35.850Z"
   },
   {
    "duration": 18,
    "start_time": "2022-04-01T06:37:35.856Z"
   },
   {
    "duration": 26,
    "start_time": "2022-04-01T06:37:35.875Z"
   },
   {
    "duration": 35,
    "start_time": "2022-04-01T06:37:35.903Z"
   },
   {
    "duration": 25,
    "start_time": "2022-04-01T06:37:35.940Z"
   },
   {
    "duration": 4,
    "start_time": "2022-04-01T06:37:35.966Z"
   },
   {
    "duration": 30,
    "start_time": "2022-04-01T06:37:35.972Z"
   }
  ],
  "kernelspec": {
   "display_name": "Python 3",
   "language": "python",
   "name": "python3"
  },
  "language_info": {
   "codemirror_mode": {
    "name": "ipython",
    "version": 3
   },
   "file_extension": ".py",
   "mimetype": "text/x-python",
   "name": "python",
   "nbconvert_exporter": "python",
   "pygments_lexer": "ipython3",
   "version": "3.7.3"
  },
  "toc": {
   "base_numbering": 1,
   "nav_menu": {},
   "number_sections": true,
   "sideBar": true,
   "skip_h1_title": true,
   "title_cell": "Table of Contents",
   "title_sidebar": "Contents",
   "toc_cell": false,
   "toc_position": {},
   "toc_section_display": true,
   "toc_window_display": false
  }
 },
 "nbformat": 4,
 "nbformat_minor": 5
}
